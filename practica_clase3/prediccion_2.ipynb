{
 "cells": [
  {
   "cell_type": "code",
   "execution_count": 1,
   "metadata": {},
   "outputs": [],
   "source": [
    "import pandas as pd\n",
    "import pandas_profiling\n",
    "import numpy as np\n",
    "import math\n",
    "import seaborn as sns\n",
    "import numpy as np\n",
    "from sklearn.linear_model import LinearRegression\n",
    "from sklearn import datasets\n",
    "from datetime import date, datetime\n",
    "from sklearn.metrics import mean_squared_error, r2_score\n",
    "from sklearn.model_selection import train_test_split\n",
    "from tqdm import tqdm, tqdm_notebook\n",
    "import matplotlib.pyplot as plt\n",
    "plt.style.use(\"seaborn\")\n",
    "sns.set(style=\"white\")"
   ]
  },
  {
   "source": [
    "## Perfil de peliculas y usuarios."
   ],
   "cell_type": "markdown",
   "metadata": {}
  },
  {
   "source": [
    "### Perfil de las peliculas segun su genero "
   ],
   "cell_type": "markdown",
   "metadata": {}
  },
  {
   "cell_type": "code",
   "execution_count": 2,
   "metadata": {},
   "outputs": [],
   "source": [
    "df_genres = pd.read_csv(\"./data/movie_genres.csv\")\n",
    "df_movies = pd.read_csv(\"./data/movies.csv\")\n",
    "df_ratings = pd.read_csv(\"./data/ratings_train.csv\")\n",
    "df_ratings_test = pd.read_csv(\"./data/ratings_test.csv\")"
   ]
  },
  {
   "cell_type": "code",
   "execution_count": 3,
   "metadata": {},
   "outputs": [
    {
     "output_type": "execute_result",
     "data": {
      "text/plain": [
       "   id                        title  year  imdbID                         rtID  \\\n",
       "0   1                    Toy story  1995  114709                    toy_story   \n",
       "1   2                      Jumanji  1995  113497              1068044-jumanji   \n",
       "2   3               Grumpy Old Men  1993  107050               grumpy_old_men   \n",
       "3   4            Waiting to Exhale  1995  114885            waiting_to_exhale   \n",
       "4   5  Father of the Bride Part II  1995  113041  father_of_the_bride_part_ii   \n",
       "\n",
       "   Genre Adventure  Genre Animation  Genre Children  Genre Comedy  \\\n",
       "0                1                1               1             1   \n",
       "1                1                0               1             0   \n",
       "2                0                0               0             1   \n",
       "3                0                0               0             1   \n",
       "4                0                0               0             1   \n",
       "\n",
       "   Genre Fantasy  ...  Genre Horror  Genre Mystery  Genre Sci-Fi  Genre IMAX  \\\n",
       "0              1  ...             0              0             0           0   \n",
       "1              1  ...             0              0             0           0   \n",
       "2              0  ...             0              0             0           0   \n",
       "3              0  ...             0              0             0           0   \n",
       "4              0  ...             0              0             0           0   \n",
       "\n",
       "   Genre Documentary  Genre War  Genre Musical  Genre Film-Noir  \\\n",
       "0                  0          0              0                0   \n",
       "1                  0          0              0                0   \n",
       "2                  0          0              0                0   \n",
       "3                  0          0              0                0   \n",
       "4                  0          0              0                0   \n",
       "\n",
       "   Genre Western  Genre Short  \n",
       "0              0            0  \n",
       "1              0            0  \n",
       "2              0            0  \n",
       "3              0            0  \n",
       "4              0            0  \n",
       "\n",
       "[5 rows x 25 columns]"
      ],
      "text/html": "<div>\n<style scoped>\n    .dataframe tbody tr th:only-of-type {\n        vertical-align: middle;\n    }\n\n    .dataframe tbody tr th {\n        vertical-align: top;\n    }\n\n    .dataframe thead th {\n        text-align: right;\n    }\n</style>\n<table border=\"1\" class=\"dataframe\">\n  <thead>\n    <tr style=\"text-align: right;\">\n      <th></th>\n      <th>id</th>\n      <th>title</th>\n      <th>year</th>\n      <th>imdbID</th>\n      <th>rtID</th>\n      <th>Genre Adventure</th>\n      <th>Genre Animation</th>\n      <th>Genre Children</th>\n      <th>Genre Comedy</th>\n      <th>Genre Fantasy</th>\n      <th>...</th>\n      <th>Genre Horror</th>\n      <th>Genre Mystery</th>\n      <th>Genre Sci-Fi</th>\n      <th>Genre IMAX</th>\n      <th>Genre Documentary</th>\n      <th>Genre War</th>\n      <th>Genre Musical</th>\n      <th>Genre Film-Noir</th>\n      <th>Genre Western</th>\n      <th>Genre Short</th>\n    </tr>\n  </thead>\n  <tbody>\n    <tr>\n      <th>0</th>\n      <td>1</td>\n      <td>Toy story</td>\n      <td>1995</td>\n      <td>114709</td>\n      <td>toy_story</td>\n      <td>1</td>\n      <td>1</td>\n      <td>1</td>\n      <td>1</td>\n      <td>1</td>\n      <td>...</td>\n      <td>0</td>\n      <td>0</td>\n      <td>0</td>\n      <td>0</td>\n      <td>0</td>\n      <td>0</td>\n      <td>0</td>\n      <td>0</td>\n      <td>0</td>\n      <td>0</td>\n    </tr>\n    <tr>\n      <th>1</th>\n      <td>2</td>\n      <td>Jumanji</td>\n      <td>1995</td>\n      <td>113497</td>\n      <td>1068044-jumanji</td>\n      <td>1</td>\n      <td>0</td>\n      <td>1</td>\n      <td>0</td>\n      <td>1</td>\n      <td>...</td>\n      <td>0</td>\n      <td>0</td>\n      <td>0</td>\n      <td>0</td>\n      <td>0</td>\n      <td>0</td>\n      <td>0</td>\n      <td>0</td>\n      <td>0</td>\n      <td>0</td>\n    </tr>\n    <tr>\n      <th>2</th>\n      <td>3</td>\n      <td>Grumpy Old Men</td>\n      <td>1993</td>\n      <td>107050</td>\n      <td>grumpy_old_men</td>\n      <td>0</td>\n      <td>0</td>\n      <td>0</td>\n      <td>1</td>\n      <td>0</td>\n      <td>...</td>\n      <td>0</td>\n      <td>0</td>\n      <td>0</td>\n      <td>0</td>\n      <td>0</td>\n      <td>0</td>\n      <td>0</td>\n      <td>0</td>\n      <td>0</td>\n      <td>0</td>\n    </tr>\n    <tr>\n      <th>3</th>\n      <td>4</td>\n      <td>Waiting to Exhale</td>\n      <td>1995</td>\n      <td>114885</td>\n      <td>waiting_to_exhale</td>\n      <td>0</td>\n      <td>0</td>\n      <td>0</td>\n      <td>1</td>\n      <td>0</td>\n      <td>...</td>\n      <td>0</td>\n      <td>0</td>\n      <td>0</td>\n      <td>0</td>\n      <td>0</td>\n      <td>0</td>\n      <td>0</td>\n      <td>0</td>\n      <td>0</td>\n      <td>0</td>\n    </tr>\n    <tr>\n      <th>4</th>\n      <td>5</td>\n      <td>Father of the Bride Part II</td>\n      <td>1995</td>\n      <td>113041</td>\n      <td>father_of_the_bride_part_ii</td>\n      <td>0</td>\n      <td>0</td>\n      <td>0</td>\n      <td>1</td>\n      <td>0</td>\n      <td>...</td>\n      <td>0</td>\n      <td>0</td>\n      <td>0</td>\n      <td>0</td>\n      <td>0</td>\n      <td>0</td>\n      <td>0</td>\n      <td>0</td>\n      <td>0</td>\n      <td>0</td>\n    </tr>\n  </tbody>\n</table>\n<p>5 rows × 25 columns</p>\n</div>"
     },
     "metadata": {},
     "execution_count": 3
    }
   ],
   "source": [
    "# Creo una matriz donde se agrego un flag \"1\" en cada genero del que la pelicula pertenece.\n",
    "# Perfil de la pelicula sobre el Genero\n",
    "for g in df_genres[\"genre\"].unique():\n",
    "    mids = df_genres.loc[df_genres[\"genre\"] == g, \"movieID\"].unique()\n",
    "    df_movies[\"Genre {}\".format(g)] = df_movies[\"id\"].isin(mids).astype(\"int16\")\n",
    "df_movies.head()\n",
    "# Podria ponderar por la cantidad de generos que tiene, si tiene 4 generos cada uno seria 0.25"
   ]
  },
  {
   "source": [
    "## Calculo para todos los usuarios"
   ],
   "cell_type": "markdown",
   "metadata": {}
  },
  {
   "cell_type": "code",
   "execution_count": 4,
   "metadata": {},
   "outputs": [
    {
     "output_type": "execute_result",
     "data": {
      "text/plain": [
       "   id                        title  year  imdbID                         rtID  \\\n",
       "0   1                    Toy story  1995  114709                    toy_story   \n",
       "1   2                      Jumanji  1995  113497              1068044-jumanji   \n",
       "2   3               Grumpy Old Men  1993  107050               grumpy_old_men   \n",
       "3   4            Waiting to Exhale  1995  114885            waiting_to_exhale   \n",
       "4   5  Father of the Bride Part II  1995  113041  father_of_the_bride_part_ii   \n",
       "\n",
       "   Genre Adventure  Genre Animation  Genre Children  Genre Comedy  \\\n",
       "0                1                1               1             1   \n",
       "1                1                0               1             0   \n",
       "2                0                0               0             1   \n",
       "3                0                0               0             1   \n",
       "4                0                0               0             1   \n",
       "\n",
       "   Genre Fantasy  ...  Genre Horror  Genre Mystery  Genre Sci-Fi  Genre IMAX  \\\n",
       "0              1  ...             0              0             0           0   \n",
       "1              1  ...             0              0             0           0   \n",
       "2              0  ...             0              0             0           0   \n",
       "3              0  ...             0              0             0           0   \n",
       "4              0  ...             0              0             0           0   \n",
       "\n",
       "   Genre Documentary  Genre War  Genre Musical  Genre Film-Noir  \\\n",
       "0                  0          0              0                0   \n",
       "1                  0          0              0                0   \n",
       "2                  0          0              0                0   \n",
       "3                  0          0              0                0   \n",
       "4                  0          0              0                0   \n",
       "\n",
       "   Genre Western  Genre Short  \n",
       "0              0            0  \n",
       "1              0            0  \n",
       "2              0            0  \n",
       "3              0            0  \n",
       "4              0            0  \n",
       "\n",
       "[5 rows x 25 columns]"
      ],
      "text/html": "<div>\n<style scoped>\n    .dataframe tbody tr th:only-of-type {\n        vertical-align: middle;\n    }\n\n    .dataframe tbody tr th {\n        vertical-align: top;\n    }\n\n    .dataframe thead th {\n        text-align: right;\n    }\n</style>\n<table border=\"1\" class=\"dataframe\">\n  <thead>\n    <tr style=\"text-align: right;\">\n      <th></th>\n      <th>id</th>\n      <th>title</th>\n      <th>year</th>\n      <th>imdbID</th>\n      <th>rtID</th>\n      <th>Genre Adventure</th>\n      <th>Genre Animation</th>\n      <th>Genre Children</th>\n      <th>Genre Comedy</th>\n      <th>Genre Fantasy</th>\n      <th>...</th>\n      <th>Genre Horror</th>\n      <th>Genre Mystery</th>\n      <th>Genre Sci-Fi</th>\n      <th>Genre IMAX</th>\n      <th>Genre Documentary</th>\n      <th>Genre War</th>\n      <th>Genre Musical</th>\n      <th>Genre Film-Noir</th>\n      <th>Genre Western</th>\n      <th>Genre Short</th>\n    </tr>\n  </thead>\n  <tbody>\n    <tr>\n      <th>0</th>\n      <td>1</td>\n      <td>Toy story</td>\n      <td>1995</td>\n      <td>114709</td>\n      <td>toy_story</td>\n      <td>1</td>\n      <td>1</td>\n      <td>1</td>\n      <td>1</td>\n      <td>1</td>\n      <td>...</td>\n      <td>0</td>\n      <td>0</td>\n      <td>0</td>\n      <td>0</td>\n      <td>0</td>\n      <td>0</td>\n      <td>0</td>\n      <td>0</td>\n      <td>0</td>\n      <td>0</td>\n    </tr>\n    <tr>\n      <th>1</th>\n      <td>2</td>\n      <td>Jumanji</td>\n      <td>1995</td>\n      <td>113497</td>\n      <td>1068044-jumanji</td>\n      <td>1</td>\n      <td>0</td>\n      <td>1</td>\n      <td>0</td>\n      <td>1</td>\n      <td>...</td>\n      <td>0</td>\n      <td>0</td>\n      <td>0</td>\n      <td>0</td>\n      <td>0</td>\n      <td>0</td>\n      <td>0</td>\n      <td>0</td>\n      <td>0</td>\n      <td>0</td>\n    </tr>\n    <tr>\n      <th>2</th>\n      <td>3</td>\n      <td>Grumpy Old Men</td>\n      <td>1993</td>\n      <td>107050</td>\n      <td>grumpy_old_men</td>\n      <td>0</td>\n      <td>0</td>\n      <td>0</td>\n      <td>1</td>\n      <td>0</td>\n      <td>...</td>\n      <td>0</td>\n      <td>0</td>\n      <td>0</td>\n      <td>0</td>\n      <td>0</td>\n      <td>0</td>\n      <td>0</td>\n      <td>0</td>\n      <td>0</td>\n      <td>0</td>\n    </tr>\n    <tr>\n      <th>3</th>\n      <td>4</td>\n      <td>Waiting to Exhale</td>\n      <td>1995</td>\n      <td>114885</td>\n      <td>waiting_to_exhale</td>\n      <td>0</td>\n      <td>0</td>\n      <td>0</td>\n      <td>1</td>\n      <td>0</td>\n      <td>...</td>\n      <td>0</td>\n      <td>0</td>\n      <td>0</td>\n      <td>0</td>\n      <td>0</td>\n      <td>0</td>\n      <td>0</td>\n      <td>0</td>\n      <td>0</td>\n      <td>0</td>\n    </tr>\n    <tr>\n      <th>4</th>\n      <td>5</td>\n      <td>Father of the Bride Part II</td>\n      <td>1995</td>\n      <td>113041</td>\n      <td>father_of_the_bride_part_ii</td>\n      <td>0</td>\n      <td>0</td>\n      <td>0</td>\n      <td>1</td>\n      <td>0</td>\n      <td>...</td>\n      <td>0</td>\n      <td>0</td>\n      <td>0</td>\n      <td>0</td>\n      <td>0</td>\n      <td>0</td>\n      <td>0</td>\n      <td>0</td>\n      <td>0</td>\n      <td>0</td>\n    </tr>\n  </tbody>\n</table>\n<p>5 rows × 25 columns</p>\n</div>"
     },
     "metadata": {},
     "execution_count": 4
    }
   ],
   "source": [
    "df_movies.head()"
   ]
  },
  {
   "cell_type": "code",
   "execution_count": 5,
   "metadata": {},
   "outputs": [],
   "source": [
    "def perfil_por_usuario(USUARIO):\n",
    "\n",
    "    # Voy a crea el perfil de un usuario\n",
    "    df_ratings_generic = df_ratings[df_ratings[\"userID\"] == USUARIO]\n",
    "    df_ratings_generic.sort_values(\"rating\").head()\n",
    "    # Ahora lo que busco es condensar sus gustos de pelicula por los generos.\n",
    "    # Mergeo al rating de un usuario el perfil de cada pelicula\n",
    "    df_ratings_generic = df_ratings[df_ratings[\"userID\"] == USUARIO].merge(df_movies, left_on=\"movieID\", right_on=\"id\")\n",
    "    df_ratings_generic.sort_values(\"rating\").head()\n",
    "\n",
    "    # Perfil del USER 29202, la idea es generar el perfil para los usuarios.\n",
    "    # Creo PERFIL como diccionario\n",
    "    PERFIL ={}\n",
    "    for c in df_ratings_generic.columns:\n",
    "        # Me quedo solo con las columnas que empiezan con GENRE \n",
    "        if  c.startswith(\"userID\"):\n",
    "           PERFIL[c] = [USUARIO] \n",
    "        #if not c.startswith((\"Genre\", \"userID\")):\n",
    "        if not c.startswith(\"Genre\"):\n",
    "            continue\n",
    "        PERFIL[c] = [df_ratings_generic.loc[df_ratings_generic[c]==1, \"rating\"].mean() / 5.0]\n",
    "\n",
    "\n",
    "    #print(PERFIL)\n",
    "    return PERFIL"
   ]
  },
  {
   "cell_type": "code",
   "execution_count": 6,
   "metadata": {
    "tags": []
   },
   "outputs": [
    {
     "output_type": "display_data",
     "data": {
      "text/plain": "HBox(children=(FloatProgress(value=0.0, max=2113.0), HTML(value='')))",
      "application/vnd.jupyter.widget-view+json": {
       "version_major": 2,
       "version_minor": 0,
       "model_id": "bbe1a0b747224235967f8d078ec33600"
      }
     },
     "metadata": {}
    },
    {
     "output_type": "stream",
     "name": "stdout",
     "text": [
      "\n"
     ]
    }
   ],
   "source": [
    "IDs = ['29202','75','62354']\n",
    "df_addoc = df_ratings.loc[df_ratings[\"userID\"].isin(IDs)]\n",
    "df_addoc = df_ratings\n",
    "#df_perfil = pd.DataFrame.from_dict(PERFIL).fillna(0)\n",
    "#df_perfil.insert(0,'userID',USUARIO)\n",
    "df_full_profile = pd.DataFrame()\n",
    "for g in tqdm_notebook(df_addoc[\"userID\"].unique()):\n",
    "    #PERFIl_FULL = perfil_por_usuario(g)\n",
    "    df_full_profile = df_full_profile.append(pd.DataFrame.from_dict(perfil_por_usuario(g)).fillna(0), ignore_index=True)\n",
    "    #print(df_full_profile.tail(1))\n"
   ]
  },
  {
   "cell_type": "code",
   "execution_count": 7,
   "metadata": {},
   "outputs": [
    {
     "output_type": "execute_result",
     "data": {
      "text/plain": [
       "      userID  Genre Adventure  Genre Animation  Genre Children  Genre Comedy  \\\n",
       "0      51198         0.798000         0.788889        0.766667      0.779000   \n",
       "1      29202         0.503182         0.447059        0.433333      0.443613   \n",
       "2      32283         0.694545         0.806452        0.758333      0.694751   \n",
       "3      36495         0.677551         0.763636        0.742857      0.764198   \n",
       "4      28350         0.666667         0.705769        0.658915      0.632463   \n",
       "...      ...              ...              ...             ...           ...   \n",
       "2108   61985         0.742424         0.746154        0.733333      0.709677   \n",
       "2109   62042         0.693333         0.690000        0.693333      0.601818   \n",
       "2110   62354         0.821429         0.820000        0.840000      0.726316   \n",
       "2111   62394         0.619178         0.628571        0.561111      0.557534   \n",
       "2112   62847         0.711111         0.833333        0.700000      0.685455   \n",
       "\n",
       "      Genre Fantasy  Genre Romance  Genre Drama  Genre Action  Genre Crime  \\\n",
       "0          0.796667       0.810811     0.833028      0.783824     0.865116   \n",
       "1          0.492742       0.536408     0.566725      0.512500     0.534911   \n",
       "2          0.694805       0.723832     0.739817      0.687004     0.728571   \n",
       "3          0.631579       0.740541     0.755914      0.673034     0.767241   \n",
       "4          0.656180       0.670940     0.669822      0.653191     0.635714   \n",
       "...             ...            ...          ...           ...          ...   \n",
       "2108       0.738095       0.731579     0.761538      0.749457     0.735849   \n",
       "2109       0.685714       0.659375     0.763265      0.583333     0.671429   \n",
       "2110       0.888889       0.768750     0.809677      0.827273     0.900000   \n",
       "2111       0.613889       0.611667     0.684817      0.607477     0.708696   \n",
       "2112       0.654545       0.736585     0.741975      0.697917     0.776923   \n",
       "\n",
       "      ...  Genre Horror  Genre Mystery  Genre Sci-Fi  Genre IMAX  \\\n",
       "0     ...      0.728571       0.804762      0.784211         0.9   \n",
       "1     ...      0.464516       0.548750      0.509357         0.6   \n",
       "2     ...      0.662162       0.742857      0.656566         0.8   \n",
       "3     ...      0.800000       0.725000      0.640000         0.0   \n",
       "4     ...      0.429412       0.615000      0.597561         0.8   \n",
       "...   ...           ...            ...           ...         ...   \n",
       "2108  ...      0.738095       0.816216      0.741509         0.9   \n",
       "2109  ...      0.566667       0.700000      0.516667         0.0   \n",
       "2110  ...      0.660000       0.700000      0.840000         0.0   \n",
       "2111  ...      0.631373       0.664706      0.516364         0.9   \n",
       "2112  ...      0.642857       0.833333      0.672727         0.0   \n",
       "\n",
       "      Genre Documentary  Genre War  Genre Musical  Genre Film-Noir  \\\n",
       "0              0.883333   0.816667       0.840000         0.800000   \n",
       "1              0.653333   0.575556       0.504545         0.442857   \n",
       "2              0.828571   0.721212       0.700000         0.800000   \n",
       "3              0.500000   0.762500       0.800000         1.000000   \n",
       "4              0.000000   0.684211       0.641667         0.700000   \n",
       "...                 ...        ...            ...              ...   \n",
       "2108           0.800000   0.768421       0.685714         0.750000   \n",
       "2109           0.000000   0.850000       0.638462         0.000000   \n",
       "2110           0.000000   0.750000       0.733333         1.000000   \n",
       "2111           0.500000   0.737037       0.650000         0.733333   \n",
       "2112           0.700000   0.814286       0.780000         0.900000   \n",
       "\n",
       "      Genre Western  Genre Short  \n",
       "0          0.733333          0.0  \n",
       "1          0.556522          0.0  \n",
       "2          0.769565          0.0  \n",
       "3          0.600000          0.0  \n",
       "4          0.635294          0.0  \n",
       "...             ...          ...  \n",
       "2108       0.725000          0.0  \n",
       "2109       0.800000          0.0  \n",
       "2110       0.700000          0.0  \n",
       "2111       0.607692          0.0  \n",
       "2112       0.725000          0.0  \n",
       "\n",
       "[2113 rows x 21 columns]"
      ],
      "text/html": "<div>\n<style scoped>\n    .dataframe tbody tr th:only-of-type {\n        vertical-align: middle;\n    }\n\n    .dataframe tbody tr th {\n        vertical-align: top;\n    }\n\n    .dataframe thead th {\n        text-align: right;\n    }\n</style>\n<table border=\"1\" class=\"dataframe\">\n  <thead>\n    <tr style=\"text-align: right;\">\n      <th></th>\n      <th>userID</th>\n      <th>Genre Adventure</th>\n      <th>Genre Animation</th>\n      <th>Genre Children</th>\n      <th>Genre Comedy</th>\n      <th>Genre Fantasy</th>\n      <th>Genre Romance</th>\n      <th>Genre Drama</th>\n      <th>Genre Action</th>\n      <th>Genre Crime</th>\n      <th>...</th>\n      <th>Genre Horror</th>\n      <th>Genre Mystery</th>\n      <th>Genre Sci-Fi</th>\n      <th>Genre IMAX</th>\n      <th>Genre Documentary</th>\n      <th>Genre War</th>\n      <th>Genre Musical</th>\n      <th>Genre Film-Noir</th>\n      <th>Genre Western</th>\n      <th>Genre Short</th>\n    </tr>\n  </thead>\n  <tbody>\n    <tr>\n      <th>0</th>\n      <td>51198</td>\n      <td>0.798000</td>\n      <td>0.788889</td>\n      <td>0.766667</td>\n      <td>0.779000</td>\n      <td>0.796667</td>\n      <td>0.810811</td>\n      <td>0.833028</td>\n      <td>0.783824</td>\n      <td>0.865116</td>\n      <td>...</td>\n      <td>0.728571</td>\n      <td>0.804762</td>\n      <td>0.784211</td>\n      <td>0.9</td>\n      <td>0.883333</td>\n      <td>0.816667</td>\n      <td>0.840000</td>\n      <td>0.800000</td>\n      <td>0.733333</td>\n      <td>0.0</td>\n    </tr>\n    <tr>\n      <th>1</th>\n      <td>29202</td>\n      <td>0.503182</td>\n      <td>0.447059</td>\n      <td>0.433333</td>\n      <td>0.443613</td>\n      <td>0.492742</td>\n      <td>0.536408</td>\n      <td>0.566725</td>\n      <td>0.512500</td>\n      <td>0.534911</td>\n      <td>...</td>\n      <td>0.464516</td>\n      <td>0.548750</td>\n      <td>0.509357</td>\n      <td>0.6</td>\n      <td>0.653333</td>\n      <td>0.575556</td>\n      <td>0.504545</td>\n      <td>0.442857</td>\n      <td>0.556522</td>\n      <td>0.0</td>\n    </tr>\n    <tr>\n      <th>2</th>\n      <td>32283</td>\n      <td>0.694545</td>\n      <td>0.806452</td>\n      <td>0.758333</td>\n      <td>0.694751</td>\n      <td>0.694805</td>\n      <td>0.723832</td>\n      <td>0.739817</td>\n      <td>0.687004</td>\n      <td>0.728571</td>\n      <td>...</td>\n      <td>0.662162</td>\n      <td>0.742857</td>\n      <td>0.656566</td>\n      <td>0.8</td>\n      <td>0.828571</td>\n      <td>0.721212</td>\n      <td>0.700000</td>\n      <td>0.800000</td>\n      <td>0.769565</td>\n      <td>0.0</td>\n    </tr>\n    <tr>\n      <th>3</th>\n      <td>36495</td>\n      <td>0.677551</td>\n      <td>0.763636</td>\n      <td>0.742857</td>\n      <td>0.764198</td>\n      <td>0.631579</td>\n      <td>0.740541</td>\n      <td>0.755914</td>\n      <td>0.673034</td>\n      <td>0.767241</td>\n      <td>...</td>\n      <td>0.800000</td>\n      <td>0.725000</td>\n      <td>0.640000</td>\n      <td>0.0</td>\n      <td>0.500000</td>\n      <td>0.762500</td>\n      <td>0.800000</td>\n      <td>1.000000</td>\n      <td>0.600000</td>\n      <td>0.0</td>\n    </tr>\n    <tr>\n      <th>4</th>\n      <td>28350</td>\n      <td>0.666667</td>\n      <td>0.705769</td>\n      <td>0.658915</td>\n      <td>0.632463</td>\n      <td>0.656180</td>\n      <td>0.670940</td>\n      <td>0.669822</td>\n      <td>0.653191</td>\n      <td>0.635714</td>\n      <td>...</td>\n      <td>0.429412</td>\n      <td>0.615000</td>\n      <td>0.597561</td>\n      <td>0.8</td>\n      <td>0.000000</td>\n      <td>0.684211</td>\n      <td>0.641667</td>\n      <td>0.700000</td>\n      <td>0.635294</td>\n      <td>0.0</td>\n    </tr>\n    <tr>\n      <th>...</th>\n      <td>...</td>\n      <td>...</td>\n      <td>...</td>\n      <td>...</td>\n      <td>...</td>\n      <td>...</td>\n      <td>...</td>\n      <td>...</td>\n      <td>...</td>\n      <td>...</td>\n      <td>...</td>\n      <td>...</td>\n      <td>...</td>\n      <td>...</td>\n      <td>...</td>\n      <td>...</td>\n      <td>...</td>\n      <td>...</td>\n      <td>...</td>\n      <td>...</td>\n      <td>...</td>\n    </tr>\n    <tr>\n      <th>2108</th>\n      <td>61985</td>\n      <td>0.742424</td>\n      <td>0.746154</td>\n      <td>0.733333</td>\n      <td>0.709677</td>\n      <td>0.738095</td>\n      <td>0.731579</td>\n      <td>0.761538</td>\n      <td>0.749457</td>\n      <td>0.735849</td>\n      <td>...</td>\n      <td>0.738095</td>\n      <td>0.816216</td>\n      <td>0.741509</td>\n      <td>0.9</td>\n      <td>0.800000</td>\n      <td>0.768421</td>\n      <td>0.685714</td>\n      <td>0.750000</td>\n      <td>0.725000</td>\n      <td>0.0</td>\n    </tr>\n    <tr>\n      <th>2109</th>\n      <td>62042</td>\n      <td>0.693333</td>\n      <td>0.690000</td>\n      <td>0.693333</td>\n      <td>0.601818</td>\n      <td>0.685714</td>\n      <td>0.659375</td>\n      <td>0.763265</td>\n      <td>0.583333</td>\n      <td>0.671429</td>\n      <td>...</td>\n      <td>0.566667</td>\n      <td>0.700000</td>\n      <td>0.516667</td>\n      <td>0.0</td>\n      <td>0.000000</td>\n      <td>0.850000</td>\n      <td>0.638462</td>\n      <td>0.000000</td>\n      <td>0.800000</td>\n      <td>0.0</td>\n    </tr>\n    <tr>\n      <th>2110</th>\n      <td>62354</td>\n      <td>0.821429</td>\n      <td>0.820000</td>\n      <td>0.840000</td>\n      <td>0.726316</td>\n      <td>0.888889</td>\n      <td>0.768750</td>\n      <td>0.809677</td>\n      <td>0.827273</td>\n      <td>0.900000</td>\n      <td>...</td>\n      <td>0.660000</td>\n      <td>0.700000</td>\n      <td>0.840000</td>\n      <td>0.0</td>\n      <td>0.000000</td>\n      <td>0.750000</td>\n      <td>0.733333</td>\n      <td>1.000000</td>\n      <td>0.700000</td>\n      <td>0.0</td>\n    </tr>\n    <tr>\n      <th>2111</th>\n      <td>62394</td>\n      <td>0.619178</td>\n      <td>0.628571</td>\n      <td>0.561111</td>\n      <td>0.557534</td>\n      <td>0.613889</td>\n      <td>0.611667</td>\n      <td>0.684817</td>\n      <td>0.607477</td>\n      <td>0.708696</td>\n      <td>...</td>\n      <td>0.631373</td>\n      <td>0.664706</td>\n      <td>0.516364</td>\n      <td>0.9</td>\n      <td>0.500000</td>\n      <td>0.737037</td>\n      <td>0.650000</td>\n      <td>0.733333</td>\n      <td>0.607692</td>\n      <td>0.0</td>\n    </tr>\n    <tr>\n      <th>2112</th>\n      <td>62847</td>\n      <td>0.711111</td>\n      <td>0.833333</td>\n      <td>0.700000</td>\n      <td>0.685455</td>\n      <td>0.654545</td>\n      <td>0.736585</td>\n      <td>0.741975</td>\n      <td>0.697917</td>\n      <td>0.776923</td>\n      <td>...</td>\n      <td>0.642857</td>\n      <td>0.833333</td>\n      <td>0.672727</td>\n      <td>0.0</td>\n      <td>0.700000</td>\n      <td>0.814286</td>\n      <td>0.780000</td>\n      <td>0.900000</td>\n      <td>0.725000</td>\n      <td>0.0</td>\n    </tr>\n  </tbody>\n</table>\n<p>2113 rows × 21 columns</p>\n</div>"
     },
     "metadata": {},
     "execution_count": 7
    }
   ],
   "source": [
    "df_full_profile"
   ]
  },
  {
   "source": [
    "## En df_full_profile tengo el perfil de todos los usuarios y cada linea representa segun lo que califico un usuario que generos estan mas cerca o mas lejos de sus preferencia.\n",
    "## Ahora lo que busco es cuales son las peliculas que estan mas cerca de casa usuario usando la Similitud Coseno (1 es super similar)"
   ],
   "cell_type": "markdown",
   "metadata": {}
  },
  {
   "cell_type": "code",
   "execution_count": 8,
   "metadata": {},
   "outputs": [],
   "source": [
    "df_movies_adDoc = df_movies"
   ]
  },
  {
   "cell_type": "code",
   "execution_count": 9,
   "metadata": {
    "tags": []
   },
   "outputs": [],
   "source": [
    "# Dado un perfil de usuario, veo que pelicula es la mas afin a sus votaciones.\n",
    "\n",
    "def pelicula_afin_a_perfil(userID, B, list_profile):\n",
    "    columnas_genero = [c for c in df_movies_adDoc.columns if c.startswith(\"Genre\")]\n",
    "    \n",
    "    similarityC_base=0\n",
    "    movieID = 0\n",
    "    #for index, row in tqdm_notebook(df_movies_adDoc.iterrows()):\n",
    "    for index, row in (df_movies_adDoc.iterrows()):    \n",
    "        movie = df_movies_adDoc.query(\"id == {}\".format(row[\"id\"]))\n",
    "        A = movie[columnas_genero].values[0]\n",
    "        similarityC = np.dot(A, B) / (np.linalg.norm(A) * np.linalg.norm(B))\n",
    "        #print(userID, row[\"id\"], similarityC)\n",
    "        if (similarityC_base < similarityC):\n",
    "            similarityC_base = similarityC\n",
    "            movieID = row[\"id\"]\n",
    "        #RANKING[index] = [row[\"id\"], similarityC_base]\n",
    "           \n",
    "    user_row = dict()\n",
    "    user_row[\"userID\"] = userID\n",
    "    user_row[\"movieID\"] = movieID\n",
    "    user_row[\"similarityC\"] = similarityC_base\n",
    "    list_profile.append(user_row)\n",
    "    return list_profile"
   ]
  },
  {
   "cell_type": "code",
   "execution_count": 10,
   "metadata": {},
   "outputs": [],
   "source": [
    "df_full_profileCut = df_full_profile[0:1]"
   ]
  },
  {
   "cell_type": "code",
   "execution_count": 11,
   "metadata": {
    "tags": []
   },
   "outputs": [
    {
     "output_type": "display_data",
     "data": {
      "text/plain": "HBox(children=(FloatProgress(value=0.0, max=1.0), HTML(value='')))",
      "application/vnd.jupyter.widget-view+json": {
       "version_major": 2,
       "version_minor": 0,
       "model_id": "0f4856002b2c4c819fe4f121497c91e6"
      }
     },
     "metadata": {}
    },
    {
     "output_type": "stream",
     "name": "stdout",
     "text": [
      "\n"
     ]
    }
   ],
   "source": [
    "profile_movieSelection = []\n",
    "COUNT=1\n",
    "for g in tqdm_notebook(df_full_profileCut[\"userID\"].unique()):\n",
    "    B=df_full_profileCut.iloc[COUNT-1:COUNT, 1:].values[0]\n",
    "    pelicula_afin_a_perfil(g,B,profile_movieSelection)\n",
    "    COUNT=COUNT+1\n"
   ]
  },
  {
   "cell_type": "code",
   "execution_count": 12,
   "metadata": {},
   "outputs": [
    {
     "output_type": "execute_result",
     "data": {
      "text/plain": [
       "   userID  movieID  similarityC\n",
       "0   51198    51709     0.634122"
      ],
      "text/html": "<div>\n<style scoped>\n    .dataframe tbody tr th:only-of-type {\n        vertical-align: middle;\n    }\n\n    .dataframe tbody tr th {\n        vertical-align: top;\n    }\n\n    .dataframe thead th {\n        text-align: right;\n    }\n</style>\n<table border=\"1\" class=\"dataframe\">\n  <thead>\n    <tr style=\"text-align: right;\">\n      <th></th>\n      <th>userID</th>\n      <th>movieID</th>\n      <th>similarityC</th>\n    </tr>\n  </thead>\n  <tbody>\n    <tr>\n      <th>0</th>\n      <td>51198</td>\n      <td>51709</td>\n      <td>0.634122</td>\n    </tr>\n  </tbody>\n</table>\n</div>"
     },
     "metadata": {},
     "execution_count": 12
    }
   ],
   "source": [
    "#df_profile_movieSelection\n",
    "df_profile_movieSelection = pd.DataFrame(profile_movieSelection)\n",
    "df_profile_movieSelection.head()"
   ]
  },
  {
   "source": [
    "### Con esto obtuve una pelicula para recomendarle a un usuario, basado en las peliculas que ya puntuo."
   ],
   "cell_type": "markdown",
   "metadata": {}
  },
  {
   "source": [
    "### a) Poner el promedio de rating de cada pelicula.\n"
   ],
   "cell_type": "markdown",
   "metadata": {}
  },
  {
   "cell_type": "code",
   "execution_count": 13,
   "metadata": {},
   "outputs": [],
   "source": [
    "df_ratings_addoc = df_ratings"
   ]
  },
  {
   "cell_type": "code",
   "execution_count": 197,
   "metadata": {},
   "outputs": [],
   "source": [
    "#df_ratings_addoc[\"extra\"] = df_ratings_addoc.loc[df_ratings_addoc['movieID'] == 141, 'rating'].sum()\n",
    "#df_ratings_addoc[\"extra\"] = df_ratings_addoc.query(\"movieID == 141\")[\"rating\"].sum()\n",
    "#df_ratings_addoc[\"extra\"] = df_ratings_addoc.groupby(\"movieID\")[\"rating\"].sum()[141]\n",
    "#df_ratings_addoc[\"movie_avg\"] = 0 \n",
    "\n",
    "#for index, row in tqdm_notebook(df_ratings_addoc.iterrows()):\n",
    "    #movieID = row[\"movieID\"]\n",
    "    #movie_avg = df_ratings_addoc.groupby(\"movieID\")[\"rating\"].mean()[movieID]\n",
    "    #df_ratings_addoc.loc[index, 'movie_avg'] = movie_avg"
   ]
  },
  {
   "cell_type": "code",
   "execution_count": 14,
   "metadata": {},
   "outputs": [
    {
     "output_type": "execute_result",
     "data": {
      "text/plain": [
       "   ID  userID  movieID  rating  date_day  date_month  date_year  date_hour  \\\n",
       "0   1   51198      608     5.0        17           9       1997         23   \n",
       "1   2   51198      141     4.0        17           9       1997         23   \n",
       "2   3   51198     1073     4.0        17           9       1997         23   \n",
       "3   4   51198      356     4.0        17           9       1997         23   \n",
       "4   5   51198     1198     5.0        17           9       1997         23   \n",
       "\n",
       "   date_minute  date_second  \n",
       "0           40           20  \n",
       "1           41           58  \n",
       "2           41            6  \n",
       "3           43           44  \n",
       "4           44           35  "
      ],
      "text/html": "<div>\n<style scoped>\n    .dataframe tbody tr th:only-of-type {\n        vertical-align: middle;\n    }\n\n    .dataframe tbody tr th {\n        vertical-align: top;\n    }\n\n    .dataframe thead th {\n        text-align: right;\n    }\n</style>\n<table border=\"1\" class=\"dataframe\">\n  <thead>\n    <tr style=\"text-align: right;\">\n      <th></th>\n      <th>ID</th>\n      <th>userID</th>\n      <th>movieID</th>\n      <th>rating</th>\n      <th>date_day</th>\n      <th>date_month</th>\n      <th>date_year</th>\n      <th>date_hour</th>\n      <th>date_minute</th>\n      <th>date_second</th>\n    </tr>\n  </thead>\n  <tbody>\n    <tr>\n      <th>0</th>\n      <td>1</td>\n      <td>51198</td>\n      <td>608</td>\n      <td>5.0</td>\n      <td>17</td>\n      <td>9</td>\n      <td>1997</td>\n      <td>23</td>\n      <td>40</td>\n      <td>20</td>\n    </tr>\n    <tr>\n      <th>1</th>\n      <td>2</td>\n      <td>51198</td>\n      <td>141</td>\n      <td>4.0</td>\n      <td>17</td>\n      <td>9</td>\n      <td>1997</td>\n      <td>23</td>\n      <td>41</td>\n      <td>58</td>\n    </tr>\n    <tr>\n      <th>2</th>\n      <td>3</td>\n      <td>51198</td>\n      <td>1073</td>\n      <td>4.0</td>\n      <td>17</td>\n      <td>9</td>\n      <td>1997</td>\n      <td>23</td>\n      <td>41</td>\n      <td>6</td>\n    </tr>\n    <tr>\n      <th>3</th>\n      <td>4</td>\n      <td>51198</td>\n      <td>356</td>\n      <td>4.0</td>\n      <td>17</td>\n      <td>9</td>\n      <td>1997</td>\n      <td>23</td>\n      <td>43</td>\n      <td>44</td>\n    </tr>\n    <tr>\n      <th>4</th>\n      <td>5</td>\n      <td>51198</td>\n      <td>1198</td>\n      <td>5.0</td>\n      <td>17</td>\n      <td>9</td>\n      <td>1997</td>\n      <td>23</td>\n      <td>44</td>\n      <td>35</td>\n    </tr>\n  </tbody>\n</table>\n</div>"
     },
     "metadata": {},
     "execution_count": 14
    }
   ],
   "source": [
    "df_ratings_addoc.head()"
   ]
  },
  {
   "cell_type": "code",
   "execution_count": 15,
   "metadata": {},
   "outputs": [
    {
     "output_type": "execute_result",
     "data": {
      "text/plain": [
       "       movieID  movie_avg\n",
       "0            1   3.732032\n",
       "1            2   2.977077\n",
       "2            3   2.854348\n",
       "3            4   2.487179\n",
       "4            5   2.774038\n",
       "...        ...        ...\n",
       "10041    65088   3.500000\n",
       "10042    65091   4.000000\n",
       "10043    65126   3.500000\n",
       "10044    65130   2.500000\n",
       "10045    65133   4.000000\n",
       "\n",
       "[10046 rows x 2 columns]"
      ],
      "text/html": "<div>\n<style scoped>\n    .dataframe tbody tr th:only-of-type {\n        vertical-align: middle;\n    }\n\n    .dataframe tbody tr th {\n        vertical-align: top;\n    }\n\n    .dataframe thead th {\n        text-align: right;\n    }\n</style>\n<table border=\"1\" class=\"dataframe\">\n  <thead>\n    <tr style=\"text-align: right;\">\n      <th></th>\n      <th>movieID</th>\n      <th>movie_avg</th>\n    </tr>\n  </thead>\n  <tbody>\n    <tr>\n      <th>0</th>\n      <td>1</td>\n      <td>3.732032</td>\n    </tr>\n    <tr>\n      <th>1</th>\n      <td>2</td>\n      <td>2.977077</td>\n    </tr>\n    <tr>\n      <th>2</th>\n      <td>3</td>\n      <td>2.854348</td>\n    </tr>\n    <tr>\n      <th>3</th>\n      <td>4</td>\n      <td>2.487179</td>\n    </tr>\n    <tr>\n      <th>4</th>\n      <td>5</td>\n      <td>2.774038</td>\n    </tr>\n    <tr>\n      <th>...</th>\n      <td>...</td>\n      <td>...</td>\n    </tr>\n    <tr>\n      <th>10041</th>\n      <td>65088</td>\n      <td>3.500000</td>\n    </tr>\n    <tr>\n      <th>10042</th>\n      <td>65091</td>\n      <td>4.000000</td>\n    </tr>\n    <tr>\n      <th>10043</th>\n      <td>65126</td>\n      <td>3.500000</td>\n    </tr>\n    <tr>\n      <th>10044</th>\n      <td>65130</td>\n      <td>2.500000</td>\n    </tr>\n    <tr>\n      <th>10045</th>\n      <td>65133</td>\n      <td>4.000000</td>\n    </tr>\n  </tbody>\n</table>\n<p>10046 rows × 2 columns</p>\n</div>"
     },
     "metadata": {},
     "execution_count": 15
    }
   ],
   "source": [
    "movies_avg = pd.DataFrame()\n",
    "movies_avg = df_ratings_addoc.groupby(\"movieID\")[\"rating\"].mean().reset_index()\n",
    "movies_avg.columns=[\"movieID\", \"movie_avg\"]\n",
    "movies_avg"
   ]
  },
  {
   "cell_type": "code",
   "execution_count": 16,
   "metadata": {},
   "outputs": [],
   "source": [
    "mediaGeneral = movies_avg[\"movie_avg\"].mean()\n",
    "df_ratings_avg = df_ratings_addoc.merge(movies_avg, on=\"movieID\", how=\"left\")\n",
    "df_ratings_avg = df_ratings_avg.fillna(mediaGeneral)\n",
    "df_ratings_test_avg = df_ratings_test.merge(movies_avg, on=\"movieID\", how=\"left\")\n",
    "df_ratings_test_avg= df_ratings_test_avg.fillna(mediaGeneral)"
   ]
  },
  {
   "cell_type": "code",
   "execution_count": 17,
   "metadata": {},
   "outputs": [
    {
     "output_type": "stream",
     "name": "stdout",
     "text": [
      "train:  770089 770089\ntest:  85509 85509\n"
     ]
    }
   ],
   "source": [
    "print(\"train: \",len(df_ratings_avg),len(df_ratings_addoc))\n",
    "print(\"test: \",len(df_ratings_test_avg),len(df_ratings_test))"
   ]
  },
  {
   "source": [
    "## Regresion Lineal inicial: Train, split de df y calculo de MSE"
   ],
   "cell_type": "markdown",
   "metadata": {}
  },
  {
   "cell_type": "code",
   "execution_count": 129,
   "metadata": {},
   "outputs": [
    {
     "output_type": "stream",
     "name": "stdout",
     "text": [
      "train:  539062 539062\ntest:   231027 231027\nMean squared error: 0.7585\n"
     ]
    }
   ],
   "source": [
    "df_train = df_ratings_avg\n",
    "# X_train, X_test, y_train, y_test = train_test_split(X, y, test_size = 0.3, random_state = 0)\n",
    "full_x = df_train.drop(['rating', 'ID'], axis=1)\n",
    "full_y = df_train[['rating']]\n",
    "X_train, X_test, y_train, y_test = train_test_split(full_x, full_y, test_size=0.3, random_state=0)\n",
    "print(\"train: \",len(X_train),len(y_train))\n",
    "print(\"test:  \",len(X_test),len(y_test))\n",
    "# Creo regresion lineal\n",
    "model_avg = LinearRegression()\n",
    "# Entreno el modelo usando el conjunto de TRAIN\n",
    "model_avg.fit(X_train, y_train)\n",
    "# Hago predicciones usando el TEST \n",
    "prediction_avg = model_avg.predict(X_test)\n",
    "#ECM\n",
    "print('Mean squared error: %.4f' % mean_squared_error(y_test, prediction_avg))\n"
   ]
  },
  {
   "source": [
    "## Regresion lineal: Test y escritura submit"
   ],
   "cell_type": "markdown",
   "metadata": {}
  },
  {
   "cell_type": "code",
   "execution_count": 82,
   "metadata": {},
   "outputs": [
    {
     "output_type": "stream",
     "name": "stdout",
     "text": [
      "85509 85509\n"
     ]
    }
   ],
   "source": [
    "df_x = df_ratings_test_avg.drop(['rating', 'ID'], axis=1)\n",
    "modelFull_avg = LinearRegression()\n",
    "# Entreno el modelo usando el conjunto de TRAIN\n",
    "modelFull_avg.fit(X_train, y_train)\n",
    "\n",
    "# Hago predicciones usando el TEST \n",
    "predFull_avg = modelFull_avg.predict(df_x)\n",
    "print(len(df_ratings_test_avg.ID),len(predFull_avg))"
   ]
  },
  {
   "cell_type": "code",
   "execution_count": 83,
   "metadata": {},
   "outputs": [],
   "source": [
    "def write_submit(df_test,fileName):\n",
    "    submit = pd.DataFrame({'ID':df_test.ID})\n",
    "    submit['rating'] = pd.DataFrame(np.around(predFull, 2))\n",
    "    submit.head()\n",
    "    len(submit)\n",
    "    submit.to_csv(\"./results/\"+fileName+\".csv\", index=False)"
   ]
  },
  {
   "cell_type": "code",
   "execution_count": 84,
   "metadata": {},
   "outputs": [],
   "source": [
    "write_submit(df_ratings_test_avg, \"ignacio_submit2\")"
   ]
  },
  {
   "cell_type": "code",
   "execution_count": 85,
   "metadata": {},
   "outputs": [
    {
     "output_type": "execute_result",
     "data": {
      "text/plain": [
       "   ID  userID  movieID    rating  date_day  date_month  date_year  date_hour  \\\n",
       "0   9   29202     1608  3.213463        18           9       1997          0   \n",
       "1  18   32283     1485  3.213463        18           9       1997         15   \n",
       "2  34   32283       30  3.213463        18           9       1997         16   \n",
       "3  39   32283     1545  3.213463        18           9       1997         16   \n",
       "4  50   51198     1258  3.213463        20           9       1997          0   \n",
       "\n",
       "   date_minute  date_second  movie_avg  \n",
       "0           53           58   3.055254  \n",
       "1           45           18   3.070827  \n",
       "2           36           38   3.777778  \n",
       "3           47           39   4.000000  \n",
       "4           11           21   3.964068  "
      ],
      "text/html": "<div>\n<style scoped>\n    .dataframe tbody tr th:only-of-type {\n        vertical-align: middle;\n    }\n\n    .dataframe tbody tr th {\n        vertical-align: top;\n    }\n\n    .dataframe thead th {\n        text-align: right;\n    }\n</style>\n<table border=\"1\" class=\"dataframe\">\n  <thead>\n    <tr style=\"text-align: right;\">\n      <th></th>\n      <th>ID</th>\n      <th>userID</th>\n      <th>movieID</th>\n      <th>rating</th>\n      <th>date_day</th>\n      <th>date_month</th>\n      <th>date_year</th>\n      <th>date_hour</th>\n      <th>date_minute</th>\n      <th>date_second</th>\n      <th>movie_avg</th>\n    </tr>\n  </thead>\n  <tbody>\n    <tr>\n      <th>0</th>\n      <td>9</td>\n      <td>29202</td>\n      <td>1608</td>\n      <td>3.213463</td>\n      <td>18</td>\n      <td>9</td>\n      <td>1997</td>\n      <td>0</td>\n      <td>53</td>\n      <td>58</td>\n      <td>3.055254</td>\n    </tr>\n    <tr>\n      <th>1</th>\n      <td>18</td>\n      <td>32283</td>\n      <td>1485</td>\n      <td>3.213463</td>\n      <td>18</td>\n      <td>9</td>\n      <td>1997</td>\n      <td>15</td>\n      <td>45</td>\n      <td>18</td>\n      <td>3.070827</td>\n    </tr>\n    <tr>\n      <th>2</th>\n      <td>34</td>\n      <td>32283</td>\n      <td>30</td>\n      <td>3.213463</td>\n      <td>18</td>\n      <td>9</td>\n      <td>1997</td>\n      <td>16</td>\n      <td>36</td>\n      <td>38</td>\n      <td>3.777778</td>\n    </tr>\n    <tr>\n      <th>3</th>\n      <td>39</td>\n      <td>32283</td>\n      <td>1545</td>\n      <td>3.213463</td>\n      <td>18</td>\n      <td>9</td>\n      <td>1997</td>\n      <td>16</td>\n      <td>47</td>\n      <td>39</td>\n      <td>4.000000</td>\n    </tr>\n    <tr>\n      <th>4</th>\n      <td>50</td>\n      <td>51198</td>\n      <td>1258</td>\n      <td>3.213463</td>\n      <td>20</td>\n      <td>9</td>\n      <td>1997</td>\n      <td>0</td>\n      <td>11</td>\n      <td>21</td>\n      <td>3.964068</td>\n    </tr>\n  </tbody>\n</table>\n</div>"
     },
     "metadata": {},
     "execution_count": 85
    }
   ],
   "source": [
    "df_ratings_test_avg.head()"
   ]
  },
  {
   "source": [
    "# *******************************************************************************************************\n",
    "## LeaderBoard: 0.88102"
   ],
   "cell_type": "markdown",
   "metadata": {}
  },
  {
   "source": [
    "### b) Poner el promedio de rating por mes para cada mes."
   ],
   "cell_type": "markdown",
   "metadata": {}
  },
  {
   "cell_type": "code",
   "execution_count": 131,
   "metadata": {},
   "outputs": [
    {
     "output_type": "execute_result",
     "data": {
      "text/plain": [
       "   ID  userID  movieID  rating  date_day  date_month  date_year  date_hour  \\\n",
       "0   1   51198      608     5.0        17           9       1997         23   \n",
       "1   2   51198      141     4.0        17           9       1997         23   \n",
       "2   3   51198     1073     4.0        17           9       1997         23   \n",
       "3   4   51198      356     4.0        17           9       1997         23   \n",
       "4   5   51198     1198     5.0        17           9       1997         23   \n",
       "\n",
       "   date_minute  date_second  movie_avg  \n",
       "0           40           20   4.020387  \n",
       "1           41           58   3.406467  \n",
       "2           41            6   3.689828  \n",
       "3           43           44   3.931526  \n",
       "4           44           35   4.136558  "
      ],
      "text/html": "<div>\n<style scoped>\n    .dataframe tbody tr th:only-of-type {\n        vertical-align: middle;\n    }\n\n    .dataframe tbody tr th {\n        vertical-align: top;\n    }\n\n    .dataframe thead th {\n        text-align: right;\n    }\n</style>\n<table border=\"1\" class=\"dataframe\">\n  <thead>\n    <tr style=\"text-align: right;\">\n      <th></th>\n      <th>ID</th>\n      <th>userID</th>\n      <th>movieID</th>\n      <th>rating</th>\n      <th>date_day</th>\n      <th>date_month</th>\n      <th>date_year</th>\n      <th>date_hour</th>\n      <th>date_minute</th>\n      <th>date_second</th>\n      <th>movie_avg</th>\n    </tr>\n  </thead>\n  <tbody>\n    <tr>\n      <th>0</th>\n      <td>1</td>\n      <td>51198</td>\n      <td>608</td>\n      <td>5.0</td>\n      <td>17</td>\n      <td>9</td>\n      <td>1997</td>\n      <td>23</td>\n      <td>40</td>\n      <td>20</td>\n      <td>4.020387</td>\n    </tr>\n    <tr>\n      <th>1</th>\n      <td>2</td>\n      <td>51198</td>\n      <td>141</td>\n      <td>4.0</td>\n      <td>17</td>\n      <td>9</td>\n      <td>1997</td>\n      <td>23</td>\n      <td>41</td>\n      <td>58</td>\n      <td>3.406467</td>\n    </tr>\n    <tr>\n      <th>2</th>\n      <td>3</td>\n      <td>51198</td>\n      <td>1073</td>\n      <td>4.0</td>\n      <td>17</td>\n      <td>9</td>\n      <td>1997</td>\n      <td>23</td>\n      <td>41</td>\n      <td>6</td>\n      <td>3.689828</td>\n    </tr>\n    <tr>\n      <th>3</th>\n      <td>4</td>\n      <td>51198</td>\n      <td>356</td>\n      <td>4.0</td>\n      <td>17</td>\n      <td>9</td>\n      <td>1997</td>\n      <td>23</td>\n      <td>43</td>\n      <td>44</td>\n      <td>3.931526</td>\n    </tr>\n    <tr>\n      <th>4</th>\n      <td>5</td>\n      <td>51198</td>\n      <td>1198</td>\n      <td>5.0</td>\n      <td>17</td>\n      <td>9</td>\n      <td>1997</td>\n      <td>23</td>\n      <td>44</td>\n      <td>35</td>\n      <td>4.136558</td>\n    </tr>\n  </tbody>\n</table>\n</div>"
     },
     "metadata": {},
     "execution_count": 131
    }
   ],
   "source": [
    "df_ratings_avg.head()"
   ]
  },
  {
   "cell_type": "code",
   "execution_count": 132,
   "metadata": {},
   "outputs": [
    {
     "output_type": "execute_result",
     "data": {
      "text/plain": [
       "      date_day  date_month  date_year   day_avg\n",
       "0            1           1       1998  3.750000\n",
       "1            1           1       1999  3.500000\n",
       "2            1           1       2000  3.666667\n",
       "3            1           1       2001  3.573333\n",
       "4            1           1       2002  3.222973\n",
       "...        ...         ...        ...       ...\n",
       "3691        31          12       2004  3.658363\n",
       "3692        31          12       2005  3.644410\n",
       "3693        31          12       2006  3.040541\n",
       "3694        31          12       2007  3.349217\n",
       "3695        31          12       2008  3.807292\n",
       "\n",
       "[3696 rows x 4 columns]"
      ],
      "text/html": "<div>\n<style scoped>\n    .dataframe tbody tr th:only-of-type {\n        vertical-align: middle;\n    }\n\n    .dataframe tbody tr th {\n        vertical-align: top;\n    }\n\n    .dataframe thead th {\n        text-align: right;\n    }\n</style>\n<table border=\"1\" class=\"dataframe\">\n  <thead>\n    <tr style=\"text-align: right;\">\n      <th></th>\n      <th>date_day</th>\n      <th>date_month</th>\n      <th>date_year</th>\n      <th>day_avg</th>\n    </tr>\n  </thead>\n  <tbody>\n    <tr>\n      <th>0</th>\n      <td>1</td>\n      <td>1</td>\n      <td>1998</td>\n      <td>3.750000</td>\n    </tr>\n    <tr>\n      <th>1</th>\n      <td>1</td>\n      <td>1</td>\n      <td>1999</td>\n      <td>3.500000</td>\n    </tr>\n    <tr>\n      <th>2</th>\n      <td>1</td>\n      <td>1</td>\n      <td>2000</td>\n      <td>3.666667</td>\n    </tr>\n    <tr>\n      <th>3</th>\n      <td>1</td>\n      <td>1</td>\n      <td>2001</td>\n      <td>3.573333</td>\n    </tr>\n    <tr>\n      <th>4</th>\n      <td>1</td>\n      <td>1</td>\n      <td>2002</td>\n      <td>3.222973</td>\n    </tr>\n    <tr>\n      <th>...</th>\n      <td>...</td>\n      <td>...</td>\n      <td>...</td>\n      <td>...</td>\n    </tr>\n    <tr>\n      <th>3691</th>\n      <td>31</td>\n      <td>12</td>\n      <td>2004</td>\n      <td>3.658363</td>\n    </tr>\n    <tr>\n      <th>3692</th>\n      <td>31</td>\n      <td>12</td>\n      <td>2005</td>\n      <td>3.644410</td>\n    </tr>\n    <tr>\n      <th>3693</th>\n      <td>31</td>\n      <td>12</td>\n      <td>2006</td>\n      <td>3.040541</td>\n    </tr>\n    <tr>\n      <th>3694</th>\n      <td>31</td>\n      <td>12</td>\n      <td>2007</td>\n      <td>3.349217</td>\n    </tr>\n    <tr>\n      <th>3695</th>\n      <td>31</td>\n      <td>12</td>\n      <td>2008</td>\n      <td>3.807292</td>\n    </tr>\n  </tbody>\n</table>\n<p>3696 rows × 4 columns</p>\n</div>"
     },
     "metadata": {},
     "execution_count": 132
    }
   ],
   "source": [
    "day_avg = pd.DataFrame()\n",
    "day_avg = df_ratings_avg.groupby([\"date_day\",\"date_month\", \"date_year\"])[\"rating\"].mean().reset_index()\n",
    "day_avg.columns=[ \"date_day\",\"date_month\", \"date_year\", \"day_avg\"]\n",
    "day_avg"
   ]
  },
  {
   "cell_type": "code",
   "execution_count": 133,
   "metadata": {},
   "outputs": [],
   "source": [
    "mediaGeneral_day_avg = month_avg[\"day_avg\"].mean()\n",
    "df_ratings_avg_month = df_ratings_avg.merge(day_avg, left_on=[\"date_day\", \"date_month\",\"date_year\"], right_on = [\"date_day\", \"date_month\",\"date_year\"], how=\"left\")\n",
    "df_ratings_avg_month = df_ratings_avg_month.fillna(mediaGeneral_day_avg)\n",
    "df_ratings_test_avg_month = df_ratings_test_avg.merge(day_avg, left_on=[\"date_day\", \"date_month\",\"date_year\"], right_on = [\"date_day\",\"date_month\",\"date_year\"], how=\"left\")\n",
    "df_ratings_test_avg_month = df_ratings_test_avg_month.fillna(mediaGeneral_day_avg)"
   ]
  },
  {
   "cell_type": "code",
   "execution_count": 134,
   "metadata": {},
   "outputs": [
    {
     "output_type": "stream",
     "name": "stdout",
     "text": [
      "train:  770089 770089\ntest:  85509 85509\n"
     ]
    }
   ],
   "source": [
    "print(\"train: \",len(df_ratings_avg),len(df_ratings_avg_month))\n",
    "print(\"test: \",len(df_ratings_test_avg),len(df_ratings_test_avg_month))"
   ]
  },
  {
   "cell_type": "code",
   "execution_count": 135,
   "metadata": {},
   "outputs": [
    {
     "output_type": "stream",
     "name": "stdout",
     "text": [
      "train:  539062 539062\n",
      "test:   231027 231027\n",
      "Mean squared error: 0.7197\n"
     ]
    }
   ],
   "source": [
    "    df_train = df_ratings_avg_month\n",
    "    full_x = df_train.drop(['rating', 'ID'], axis=1)\n",
    "    full_y = df_train[['rating']]\n",
    "    X_train, X_test, y_train, y_test = train_test_split(full_x, full_y, test_size=0.3, random_state=0)\n",
    "    print(\"train: \",len(X_train),len(y_train))\n",
    "    print(\"test:  \",len(X_test),len(y_test))\n",
    "    # Creo regresion lineal\n",
    "    model_avg2 = LinearRegression()\n",
    "    # Entreno el modelo usando el conjunto de TRAIN\n",
    "    model_avg2.fit(X_train, y_train)\n",
    "    # Hago predicciones usando el TEST \n",
    "    prediction_avg2 = model_avg2.predict(X_test)\n",
    "    #ECM\n",
    "    print('Mean squared error: %.4f' % mean_squared_error(y_test, prediction_avg2))"
   ]
  },
  {
   "cell_type": "code",
   "execution_count": 136,
   "metadata": {},
   "outputs": [
    {
     "output_type": "stream",
     "name": "stdout",
     "text": [
      "85509 85509\n"
     ]
    }
   ],
   "source": [
    "df_x = df_ratings_test_avg_month.drop(['rating', 'ID'], axis=1)\n",
    "modelFull_avg2 = LinearRegression()\n",
    "# Entreno el modelo usando el conjunto de TRAIN\n",
    "modelFull_avg2.fit(X_train, y_train)\n",
    "\n",
    "# Hago predicciones usando el TEST \n",
    "predFull_avg2 = modelFull_avg2.predict(df_x)\n",
    "print(len(df_ratings_test_avg.ID),len(predFull_avg2))"
   ]
  },
  {
   "cell_type": "code",
   "execution_count": 137,
   "metadata": {},
   "outputs": [],
   "source": [
    "write_submit(df_ratings_test_avg_month, \"ignacio_submit3\")"
   ]
  },
  {
   "source": [
    "## LeaderBoard: 0.88102"
   ],
   "cell_type": "markdown",
   "metadata": {}
  },
  {
   "cell_type": "code",
   "execution_count": null,
   "metadata": {},
   "outputs": [],
   "source": []
  }
 ],
 "metadata": {
  "kernelspec": {
   "name": "Python 3.7.5 64-bit ('anaconda3': virtualenv)",
   "display_name": "Python 3.7.5 64-bit ('anaconda3': virtualenv)",
   "metadata": {
    "interpreter": {
     "hash": "9a37e5188a605e95d3282a4fb8007f4c3c52885d8cd12f2ffcfc398feaa7ff36"
    }
   }
  },
  "language_info": {
   "codemirror_mode": {
    "name": "ipython",
    "version": 3
   },
   "file_extension": ".py",
   "mimetype": "text/x-python",
   "name": "python",
   "nbconvert_exporter": "python",
   "pygments_lexer": "ipython3",
   "version": "3.7.5-final"
  }
 },
 "nbformat": 4,
 "nbformat_minor": 4
}