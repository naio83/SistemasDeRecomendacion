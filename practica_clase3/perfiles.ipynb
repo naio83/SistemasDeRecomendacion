{
 "cells": [
  {
   "cell_type": "code",
   "execution_count": 454,
   "metadata": {},
   "outputs": [],
   "source": [
    "import pandas as pd\n",
    "import pandas_profiling\n",
    "import numpy as np\n",
    "import math\n",
    "import seaborn as sns\n",
    "import numpy as np\n",
    "from sklearn.linear_model import LinearRegression\n",
    "from sklearn import datasets\n",
    "from datetime import date, datetime\n",
    "from sklearn.metrics import mean_squared_error, r2_score\n",
    "from sklearn.model_selection import train_test_split\n",
    "from tqdm import tqdm, tqdm_notebook\n",
    "import matplotlib.pyplot as plt\n",
    "plt.style.use(\"seaborn\")\n",
    "sns.set(style=\"white\")"
   ]
  },
  {
   "source": [
    "## Perfil de peliculas y usuarios."
   ],
   "cell_type": "markdown",
   "metadata": {}
  },
  {
   "source": [
    "### Perfil de las peliculas segun su genero "
   ],
   "cell_type": "markdown",
   "metadata": {}
  },
  {
   "cell_type": "code",
   "execution_count": 2,
   "metadata": {},
   "outputs": [],
   "source": [
    "df_genres = pd.read_csv(\"./data/movie_genres.csv\")\n",
    "df_movies = pd.read_csv(\"./data/movies.csv\")\n",
    "df_ratings = pd.read_csv(\"./data/ratings_train.csv\")"
   ]
  },
  {
   "cell_type": "code",
   "execution_count": 3,
   "metadata": {},
   "outputs": [
    {
     "output_type": "execute_result",
     "data": {
      "text/plain": [
       "array(['Adventure', 'Animation', 'Children', 'Comedy', 'Fantasy',\n",
       "       'Romance', 'Drama', 'Action', 'Crime', 'Thriller', 'Horror',\n",
       "       'Mystery', 'Sci-Fi', 'IMAX', 'Documentary', 'War', 'Musical',\n",
       "       'Film-Noir', 'Western', 'Short'], dtype=object)"
      ]
     },
     "metadata": {},
     "execution_count": 3
    }
   ],
   "source": [
    "#Generos para todas las peliculas\n",
    "df_genres[\"genre\"].unique()"
   ]
  },
  {
   "cell_type": "code",
   "execution_count": 4,
   "metadata": {},
   "outputs": [
    {
     "output_type": "execute_result",
     "data": {
      "text/plain": [
       "array([    6,     9,    10, ..., 64921, 64997, 64999])"
      ]
     },
     "metadata": {},
     "execution_count": 4
    }
   ],
   "source": [
    "# Localizo los IDs de las peliculas de Action\n",
    "mids = df_genres.loc[df_genres[\"genre\"]==\"Action\", \"movieID\"].unique()\n",
    "mids"
   ]
  },
  {
   "cell_type": "code",
   "execution_count": 5,
   "metadata": {},
   "outputs": [
    {
     "output_type": "execute_result",
     "data": {
      "text/plain": [
       "   id                        title  year  imdbID                         rtID  \\\n",
       "0   1                    Toy story  1995  114709                    toy_story   \n",
       "1   2                      Jumanji  1995  113497              1068044-jumanji   \n",
       "2   3               Grumpy Old Men  1993  107050               grumpy_old_men   \n",
       "3   4            Waiting to Exhale  1995  114885            waiting_to_exhale   \n",
       "4   5  Father of the Bride Part II  1995  113041  father_of_the_bride_part_ii   \n",
       "\n",
       "   Genre Action  \n",
       "0             0  \n",
       "1             0  \n",
       "2             0  \n",
       "3             0  \n",
       "4             0  "
      ],
      "text/html": "<div>\n<style scoped>\n    .dataframe tbody tr th:only-of-type {\n        vertical-align: middle;\n    }\n\n    .dataframe tbody tr th {\n        vertical-align: top;\n    }\n\n    .dataframe thead th {\n        text-align: right;\n    }\n</style>\n<table border=\"1\" class=\"dataframe\">\n  <thead>\n    <tr style=\"text-align: right;\">\n      <th></th>\n      <th>id</th>\n      <th>title</th>\n      <th>year</th>\n      <th>imdbID</th>\n      <th>rtID</th>\n      <th>Genre Action</th>\n    </tr>\n  </thead>\n  <tbody>\n    <tr>\n      <th>0</th>\n      <td>1</td>\n      <td>Toy story</td>\n      <td>1995</td>\n      <td>114709</td>\n      <td>toy_story</td>\n      <td>0</td>\n    </tr>\n    <tr>\n      <th>1</th>\n      <td>2</td>\n      <td>Jumanji</td>\n      <td>1995</td>\n      <td>113497</td>\n      <td>1068044-jumanji</td>\n      <td>0</td>\n    </tr>\n    <tr>\n      <th>2</th>\n      <td>3</td>\n      <td>Grumpy Old Men</td>\n      <td>1993</td>\n      <td>107050</td>\n      <td>grumpy_old_men</td>\n      <td>0</td>\n    </tr>\n    <tr>\n      <th>3</th>\n      <td>4</td>\n      <td>Waiting to Exhale</td>\n      <td>1995</td>\n      <td>114885</td>\n      <td>waiting_to_exhale</td>\n      <td>0</td>\n    </tr>\n    <tr>\n      <th>4</th>\n      <td>5</td>\n      <td>Father of the Bride Part II</td>\n      <td>1995</td>\n      <td>113041</td>\n      <td>father_of_the_bride_part_ii</td>\n      <td>0</td>\n    </tr>\n  </tbody>\n</table>\n</div>"
     },
     "metadata": {},
     "execution_count": 5
    }
   ],
   "source": [
    "# Agrego una columna donde me identifica cuales son de accion y cuales no\n",
    "df_movies[\"Genre Action\"] = df_movies[\"id\"].isin(mids).astype(\"int16\")\n",
    "df_movies.head()\n",
    "#df_movies[\"Genre Action\"].sum()"
   ]
  },
  {
   "cell_type": "code",
   "execution_count": 6,
   "metadata": {},
   "outputs": [
    {
     "output_type": "execute_result",
     "data": {
      "text/plain": [
       "   id                        title  year  imdbID                         rtID  \\\n",
       "0   1                    Toy story  1995  114709                    toy_story   \n",
       "1   2                      Jumanji  1995  113497              1068044-jumanji   \n",
       "2   3               Grumpy Old Men  1993  107050               grumpy_old_men   \n",
       "3   4            Waiting to Exhale  1995  114885            waiting_to_exhale   \n",
       "4   5  Father of the Bride Part II  1995  113041  father_of_the_bride_part_ii   \n",
       "\n",
       "   Genre Action  Genre Adventure  Genre Animation  Genre Children  \\\n",
       "0             0                1                1               1   \n",
       "1             0                1                0               1   \n",
       "2             0                0                0               0   \n",
       "3             0                0                0               0   \n",
       "4             0                0                0               0   \n",
       "\n",
       "   Genre Comedy  ...  Genre Horror  Genre Mystery  Genre Sci-Fi  Genre IMAX  \\\n",
       "0             1  ...             0              0             0           0   \n",
       "1             0  ...             0              0             0           0   \n",
       "2             1  ...             0              0             0           0   \n",
       "3             1  ...             0              0             0           0   \n",
       "4             1  ...             0              0             0           0   \n",
       "\n",
       "   Genre Documentary  Genre War  Genre Musical  Genre Film-Noir  \\\n",
       "0                  0          0              0                0   \n",
       "1                  0          0              0                0   \n",
       "2                  0          0              0                0   \n",
       "3                  0          0              0                0   \n",
       "4                  0          0              0                0   \n",
       "\n",
       "   Genre Western  Genre Short  \n",
       "0              0            0  \n",
       "1              0            0  \n",
       "2              0            0  \n",
       "3              0            0  \n",
       "4              0            0  \n",
       "\n",
       "[5 rows x 25 columns]"
      ],
      "text/html": "<div>\n<style scoped>\n    .dataframe tbody tr th:only-of-type {\n        vertical-align: middle;\n    }\n\n    .dataframe tbody tr th {\n        vertical-align: top;\n    }\n\n    .dataframe thead th {\n        text-align: right;\n    }\n</style>\n<table border=\"1\" class=\"dataframe\">\n  <thead>\n    <tr style=\"text-align: right;\">\n      <th></th>\n      <th>id</th>\n      <th>title</th>\n      <th>year</th>\n      <th>imdbID</th>\n      <th>rtID</th>\n      <th>Genre Action</th>\n      <th>Genre Adventure</th>\n      <th>Genre Animation</th>\n      <th>Genre Children</th>\n      <th>Genre Comedy</th>\n      <th>...</th>\n      <th>Genre Horror</th>\n      <th>Genre Mystery</th>\n      <th>Genre Sci-Fi</th>\n      <th>Genre IMAX</th>\n      <th>Genre Documentary</th>\n      <th>Genre War</th>\n      <th>Genre Musical</th>\n      <th>Genre Film-Noir</th>\n      <th>Genre Western</th>\n      <th>Genre Short</th>\n    </tr>\n  </thead>\n  <tbody>\n    <tr>\n      <th>0</th>\n      <td>1</td>\n      <td>Toy story</td>\n      <td>1995</td>\n      <td>114709</td>\n      <td>toy_story</td>\n      <td>0</td>\n      <td>1</td>\n      <td>1</td>\n      <td>1</td>\n      <td>1</td>\n      <td>...</td>\n      <td>0</td>\n      <td>0</td>\n      <td>0</td>\n      <td>0</td>\n      <td>0</td>\n      <td>0</td>\n      <td>0</td>\n      <td>0</td>\n      <td>0</td>\n      <td>0</td>\n    </tr>\n    <tr>\n      <th>1</th>\n      <td>2</td>\n      <td>Jumanji</td>\n      <td>1995</td>\n      <td>113497</td>\n      <td>1068044-jumanji</td>\n      <td>0</td>\n      <td>1</td>\n      <td>0</td>\n      <td>1</td>\n      <td>0</td>\n      <td>...</td>\n      <td>0</td>\n      <td>0</td>\n      <td>0</td>\n      <td>0</td>\n      <td>0</td>\n      <td>0</td>\n      <td>0</td>\n      <td>0</td>\n      <td>0</td>\n      <td>0</td>\n    </tr>\n    <tr>\n      <th>2</th>\n      <td>3</td>\n      <td>Grumpy Old Men</td>\n      <td>1993</td>\n      <td>107050</td>\n      <td>grumpy_old_men</td>\n      <td>0</td>\n      <td>0</td>\n      <td>0</td>\n      <td>0</td>\n      <td>1</td>\n      <td>...</td>\n      <td>0</td>\n      <td>0</td>\n      <td>0</td>\n      <td>0</td>\n      <td>0</td>\n      <td>0</td>\n      <td>0</td>\n      <td>0</td>\n      <td>0</td>\n      <td>0</td>\n    </tr>\n    <tr>\n      <th>3</th>\n      <td>4</td>\n      <td>Waiting to Exhale</td>\n      <td>1995</td>\n      <td>114885</td>\n      <td>waiting_to_exhale</td>\n      <td>0</td>\n      <td>0</td>\n      <td>0</td>\n      <td>0</td>\n      <td>1</td>\n      <td>...</td>\n      <td>0</td>\n      <td>0</td>\n      <td>0</td>\n      <td>0</td>\n      <td>0</td>\n      <td>0</td>\n      <td>0</td>\n      <td>0</td>\n      <td>0</td>\n      <td>0</td>\n    </tr>\n    <tr>\n      <th>4</th>\n      <td>5</td>\n      <td>Father of the Bride Part II</td>\n      <td>1995</td>\n      <td>113041</td>\n      <td>father_of_the_bride_part_ii</td>\n      <td>0</td>\n      <td>0</td>\n      <td>0</td>\n      <td>0</td>\n      <td>1</td>\n      <td>...</td>\n      <td>0</td>\n      <td>0</td>\n      <td>0</td>\n      <td>0</td>\n      <td>0</td>\n      <td>0</td>\n      <td>0</td>\n      <td>0</td>\n      <td>0</td>\n      <td>0</td>\n    </tr>\n  </tbody>\n</table>\n<p>5 rows × 25 columns</p>\n</div>"
     },
     "metadata": {},
     "execution_count": 6
    }
   ],
   "source": [
    "# Creo una matriz donde se agrego un flag \"1\" en cada genero del que la pelicula pertenece.\n",
    "# Perfil de la pelicula sobre el Genero\n",
    "for g in df_genres[\"genre\"].unique():\n",
    "    mids = df_genres.loc[df_genres[\"genre\"] == g, \"movieID\"].unique()\n",
    "    df_movies[\"Genre {}\".format(g)] = df_movies[\"id\"].isin(mids).astype(\"int16\")\n",
    "df_movies.head()\n",
    "# Podria ponderar por la cantidad de generos que tiene, si tiene 4 generos cada uno seria 0.25"
   ]
  },
  {
   "source": [
    "## Perfil de los usuarios"
   ],
   "cell_type": "markdown",
   "metadata": {}
  },
  {
   "cell_type": "code",
   "execution_count": 7,
   "metadata": {},
   "outputs": [
    {
     "output_type": "execute_result",
     "data": {
      "text/plain": [
       "   ID  userID  movieID  rating  date_day  date_month  date_year  date_hour  \\\n",
       "0   1   51198      608     5.0        17           9       1997         23   \n",
       "1   2   51198     1073     4.0        17           9       1997         23   \n",
       "2   3   51198      141     4.0        17           9       1997         23   \n",
       "3   4   51198      356     4.0        17           9       1997         23   \n",
       "4   5   51198     1198     5.0        17           9       1997         23   \n",
       "\n",
       "   date_minute  date_second  \n",
       "0           40           20  \n",
       "1           41            6  \n",
       "2           41           58  \n",
       "3           43           44  \n",
       "4           44           35  "
      ],
      "text/html": "<div>\n<style scoped>\n    .dataframe tbody tr th:only-of-type {\n        vertical-align: middle;\n    }\n\n    .dataframe tbody tr th {\n        vertical-align: top;\n    }\n\n    .dataframe thead th {\n        text-align: right;\n    }\n</style>\n<table border=\"1\" class=\"dataframe\">\n  <thead>\n    <tr style=\"text-align: right;\">\n      <th></th>\n      <th>ID</th>\n      <th>userID</th>\n      <th>movieID</th>\n      <th>rating</th>\n      <th>date_day</th>\n      <th>date_month</th>\n      <th>date_year</th>\n      <th>date_hour</th>\n      <th>date_minute</th>\n      <th>date_second</th>\n    </tr>\n  </thead>\n  <tbody>\n    <tr>\n      <th>0</th>\n      <td>1</td>\n      <td>51198</td>\n      <td>608</td>\n      <td>5.0</td>\n      <td>17</td>\n      <td>9</td>\n      <td>1997</td>\n      <td>23</td>\n      <td>40</td>\n      <td>20</td>\n    </tr>\n    <tr>\n      <th>1</th>\n      <td>2</td>\n      <td>51198</td>\n      <td>1073</td>\n      <td>4.0</td>\n      <td>17</td>\n      <td>9</td>\n      <td>1997</td>\n      <td>23</td>\n      <td>41</td>\n      <td>6</td>\n    </tr>\n    <tr>\n      <th>2</th>\n      <td>3</td>\n      <td>51198</td>\n      <td>141</td>\n      <td>4.0</td>\n      <td>17</td>\n      <td>9</td>\n      <td>1997</td>\n      <td>23</td>\n      <td>41</td>\n      <td>58</td>\n    </tr>\n    <tr>\n      <th>3</th>\n      <td>4</td>\n      <td>51198</td>\n      <td>356</td>\n      <td>4.0</td>\n      <td>17</td>\n      <td>9</td>\n      <td>1997</td>\n      <td>23</td>\n      <td>43</td>\n      <td>44</td>\n    </tr>\n    <tr>\n      <th>4</th>\n      <td>5</td>\n      <td>51198</td>\n      <td>1198</td>\n      <td>5.0</td>\n      <td>17</td>\n      <td>9</td>\n      <td>1997</td>\n      <td>23</td>\n      <td>44</td>\n      <td>35</td>\n    </tr>\n  </tbody>\n</table>\n</div>"
     },
     "metadata": {},
     "execution_count": 7
    }
   ],
   "source": [
    "df_ratings.head()"
   ]
  },
  {
   "cell_type": "code",
   "execution_count": 8,
   "metadata": {},
   "outputs": [
    {
     "output_type": "execute_result",
     "data": {
      "text/plain": [
       "array([51198, 29202, 32283, ..., 62354, 62394, 62847])"
      ]
     },
     "metadata": {},
     "execution_count": 8
    }
   ],
   "source": [
    "df_ratings[\"userID\"].unique()"
   ]
  },
  {
   "cell_type": "code",
   "execution_count": 9,
   "metadata": {},
   "outputs": [
    {
     "output_type": "execute_result",
     "data": {
      "text/plain": [
       "            ID  userID  movieID  rating  date_day  date_month  date_year  \\\n",
       "473065  525416      75     6225     0.5        29          10       2006   \n",
       "473058  525408      75        3     1.0        29          10       2006   \n",
       "473060  525410      75     2054     1.5        29          10       2006   \n",
       "473081  525435      75     3258     1.5        29          10       2006   \n",
       "473054  525403      75      160     2.0        29          10       2006   \n",
       "\n",
       "        date_hour  date_minute  date_second  \n",
       "473065         23           21           25  \n",
       "473058         23           17           16  \n",
       "473060         23           17           33  \n",
       "473081         23           26            8  \n",
       "473054         23           16           52  "
      ],
      "text/html": "<div>\n<style scoped>\n    .dataframe tbody tr th:only-of-type {\n        vertical-align: middle;\n    }\n\n    .dataframe tbody tr th {\n        vertical-align: top;\n    }\n\n    .dataframe thead th {\n        text-align: right;\n    }\n</style>\n<table border=\"1\" class=\"dataframe\">\n  <thead>\n    <tr style=\"text-align: right;\">\n      <th></th>\n      <th>ID</th>\n      <th>userID</th>\n      <th>movieID</th>\n      <th>rating</th>\n      <th>date_day</th>\n      <th>date_month</th>\n      <th>date_year</th>\n      <th>date_hour</th>\n      <th>date_minute</th>\n      <th>date_second</th>\n    </tr>\n  </thead>\n  <tbody>\n    <tr>\n      <th>473065</th>\n      <td>525416</td>\n      <td>75</td>\n      <td>6225</td>\n      <td>0.5</td>\n      <td>29</td>\n      <td>10</td>\n      <td>2006</td>\n      <td>23</td>\n      <td>21</td>\n      <td>25</td>\n    </tr>\n    <tr>\n      <th>473058</th>\n      <td>525408</td>\n      <td>75</td>\n      <td>3</td>\n      <td>1.0</td>\n      <td>29</td>\n      <td>10</td>\n      <td>2006</td>\n      <td>23</td>\n      <td>17</td>\n      <td>16</td>\n    </tr>\n    <tr>\n      <th>473060</th>\n      <td>525410</td>\n      <td>75</td>\n      <td>2054</td>\n      <td>1.5</td>\n      <td>29</td>\n      <td>10</td>\n      <td>2006</td>\n      <td>23</td>\n      <td>17</td>\n      <td>33</td>\n    </tr>\n    <tr>\n      <th>473081</th>\n      <td>525435</td>\n      <td>75</td>\n      <td>3258</td>\n      <td>1.5</td>\n      <td>29</td>\n      <td>10</td>\n      <td>2006</td>\n      <td>23</td>\n      <td>26</td>\n      <td>8</td>\n    </tr>\n    <tr>\n      <th>473054</th>\n      <td>525403</td>\n      <td>75</td>\n      <td>160</td>\n      <td>2.0</td>\n      <td>29</td>\n      <td>10</td>\n      <td>2006</td>\n      <td>23</td>\n      <td>16</td>\n      <td>52</td>\n    </tr>\n  </tbody>\n</table>\n</div>"
     },
     "metadata": {},
     "execution_count": 9
    }
   ],
   "source": [
    "# Voy a crea el perfil de un usuario\n",
    "USUARIO = 75\n",
    "df_ratings_usuario = df_ratings[df_ratings[\"userID\"] == USUARIO]\n",
    "df_ratings_usuario.sort_values(\"rating\").head()"
   ]
  },
  {
   "cell_type": "code",
   "execution_count": 67,
   "metadata": {},
   "outputs": [
    {
     "output_type": "execute_result",
     "data": {
      "text/plain": [
       "        ID  userID  movieID  rating  date_day  date_month  date_year  \\\n",
       "13  525416      75     6225     0.5        29          10       2006   \n",
       "6   525408      75        3     1.0        29          10       2006   \n",
       "8   525410      75     2054     1.5        29          10       2006   \n",
       "27  525435      75     3258     1.5        29          10       2006   \n",
       "2   525403      75      160     2.0        29          10       2006   \n",
       "\n",
       "    date_hour  date_minute  date_second  ...  Genre Horror Genre Mystery  \\\n",
       "13         23           21           25  ...             0             0   \n",
       "6          23           17           16  ...             0             0   \n",
       "8          23           17           33  ...             0             0   \n",
       "27         23           26            8  ...             0             0   \n",
       "2          23           16           52  ...             0             1   \n",
       "\n",
       "    Genre Sci-Fi  Genre IMAX Genre Documentary  Genre War  Genre Musical  \\\n",
       "13             0           0                 0          0              0   \n",
       "6              0           0                 0          0              0   \n",
       "8              1           0                 0          0              0   \n",
       "27             0           0                 0          0              0   \n",
       "2              1           0                 0          0              0   \n",
       "\n",
       "    Genre Film-Noir  Genre Western  Genre Short  \n",
       "13                0              0            0  \n",
       "6                 0              0            0  \n",
       "8                 0              0            0  \n",
       "27                0              0            0  \n",
       "2                 0              0            0  \n",
       "\n",
       "[5 rows x 35 columns]"
      ],
      "text/html": "<div>\n<style scoped>\n    .dataframe tbody tr th:only-of-type {\n        vertical-align: middle;\n    }\n\n    .dataframe tbody tr th {\n        vertical-align: top;\n    }\n\n    .dataframe thead th {\n        text-align: right;\n    }\n</style>\n<table border=\"1\" class=\"dataframe\">\n  <thead>\n    <tr style=\"text-align: right;\">\n      <th></th>\n      <th>ID</th>\n      <th>userID</th>\n      <th>movieID</th>\n      <th>rating</th>\n      <th>date_day</th>\n      <th>date_month</th>\n      <th>date_year</th>\n      <th>date_hour</th>\n      <th>date_minute</th>\n      <th>date_second</th>\n      <th>...</th>\n      <th>Genre Horror</th>\n      <th>Genre Mystery</th>\n      <th>Genre Sci-Fi</th>\n      <th>Genre IMAX</th>\n      <th>Genre Documentary</th>\n      <th>Genre War</th>\n      <th>Genre Musical</th>\n      <th>Genre Film-Noir</th>\n      <th>Genre Western</th>\n      <th>Genre Short</th>\n    </tr>\n  </thead>\n  <tbody>\n    <tr>\n      <th>13</th>\n      <td>525416</td>\n      <td>75</td>\n      <td>6225</td>\n      <td>0.5</td>\n      <td>29</td>\n      <td>10</td>\n      <td>2006</td>\n      <td>23</td>\n      <td>21</td>\n      <td>25</td>\n      <td>...</td>\n      <td>0</td>\n      <td>0</td>\n      <td>0</td>\n      <td>0</td>\n      <td>0</td>\n      <td>0</td>\n      <td>0</td>\n      <td>0</td>\n      <td>0</td>\n      <td>0</td>\n    </tr>\n    <tr>\n      <th>6</th>\n      <td>525408</td>\n      <td>75</td>\n      <td>3</td>\n      <td>1.0</td>\n      <td>29</td>\n      <td>10</td>\n      <td>2006</td>\n      <td>23</td>\n      <td>17</td>\n      <td>16</td>\n      <td>...</td>\n      <td>0</td>\n      <td>0</td>\n      <td>0</td>\n      <td>0</td>\n      <td>0</td>\n      <td>0</td>\n      <td>0</td>\n      <td>0</td>\n      <td>0</td>\n      <td>0</td>\n    </tr>\n    <tr>\n      <th>8</th>\n      <td>525410</td>\n      <td>75</td>\n      <td>2054</td>\n      <td>1.5</td>\n      <td>29</td>\n      <td>10</td>\n      <td>2006</td>\n      <td>23</td>\n      <td>17</td>\n      <td>33</td>\n      <td>...</td>\n      <td>0</td>\n      <td>0</td>\n      <td>1</td>\n      <td>0</td>\n      <td>0</td>\n      <td>0</td>\n      <td>0</td>\n      <td>0</td>\n      <td>0</td>\n      <td>0</td>\n    </tr>\n    <tr>\n      <th>27</th>\n      <td>525435</td>\n      <td>75</td>\n      <td>3258</td>\n      <td>1.5</td>\n      <td>29</td>\n      <td>10</td>\n      <td>2006</td>\n      <td>23</td>\n      <td>26</td>\n      <td>8</td>\n      <td>...</td>\n      <td>0</td>\n      <td>0</td>\n      <td>0</td>\n      <td>0</td>\n      <td>0</td>\n      <td>0</td>\n      <td>0</td>\n      <td>0</td>\n      <td>0</td>\n      <td>0</td>\n    </tr>\n    <tr>\n      <th>2</th>\n      <td>525403</td>\n      <td>75</td>\n      <td>160</td>\n      <td>2.0</td>\n      <td>29</td>\n      <td>10</td>\n      <td>2006</td>\n      <td>23</td>\n      <td>16</td>\n      <td>52</td>\n      <td>...</td>\n      <td>0</td>\n      <td>1</td>\n      <td>1</td>\n      <td>0</td>\n      <td>0</td>\n      <td>0</td>\n      <td>0</td>\n      <td>0</td>\n      <td>0</td>\n      <td>0</td>\n    </tr>\n  </tbody>\n</table>\n<p>5 rows × 35 columns</p>\n</div>"
     },
     "metadata": {},
     "execution_count": 67
    }
   ],
   "source": [
    "# Ahora lo que busco es condensar sus gustos de pelicula por los generos.\n",
    "# Mergeo al rating de un usuario el perfil de cada pelicula\n",
    "df_ratings_usuario = df_ratings[df_ratings[\"userID\"] == USUARIO].merge(df_movies, left_on=\"movieID\", right_on=\"id\")\n",
    "df_ratings_usuario.sort_values(\"rating\").head()"
   ]
  },
  {
   "source": [
    "### Ahora lo que busco es agrupar toda esta tabla en una sola lista, donde pueda sumar los generos para tener para un solo usuario el perfil completo."
   ],
   "cell_type": "markdown",
   "metadata": {}
  },
  {
   "cell_type": "code",
   "execution_count": 18,
   "metadata": {},
   "outputs": [
    {
     "output_type": "execute_result",
     "data": {
      "text/plain": [
       "(0.7333333333333333, 0.3111111111111111, 0.3333333333333333)"
      ]
     },
     "metadata": {},
     "execution_count": 18
    }
   ],
   "source": [
    "# Veo para el usuario 75 que porcentaje tiene sobre los generos Action, Comedy y Drama de las peliculas que opino.\n",
    "df_ratings_usuario[\"Genre Action\"].mean(), df_ratings_usuario[\"Genre Comedy\"].mean(), df_ratings_usuario[\"Genre Drama\"].mean()"
   ]
  },
  {
   "cell_type": "code",
   "execution_count": 74,
   "metadata": {},
   "outputs": [
    {
     "output_type": "execute_result",
     "data": {
      "text/plain": [
       "2.6666666666666665"
      ]
     },
     "metadata": {},
     "execution_count": 74
    }
   ],
   "source": [
    "# Una mejor manera de ranquear, es tomar el minimo y el maximo raking que el usuario puso y no el 1-5 que es el estandar. Si un usuario siempre vota de 3-5, entonces se usa esa base.\n",
    "\n",
    "(df_ratings_usuario[\"Genre Action\"] * df_ratings_usuario[\"rating\"]).mean()\n"
   ]
  },
  {
   "cell_type": "code",
   "execution_count": 83,
   "metadata": {},
   "outputs": [
    {
     "output_type": "execute_result",
     "data": {
      "text/plain": [
       "(0.7272727272727273, 0.7533333333333333, 0.6357142857142857)"
      ]
     },
     "metadata": {},
     "execution_count": 83
    }
   ],
   "source": [
    "# Si saco la media, me da CERO en los que no tiene accion y un numero de votacion sobre los que si tenian accion. Idealmente no deberia contar los CEROs.\n",
    "# Lo Normalizo por la cantidad de votaciones posibles\n",
    "df_ratings_usuario.loc[df_ratings_usuario[\"Genre Action\"]==1, \"rating\"].mean() / 5.0, df_ratings_usuario.loc[df_ratings_usuario[\"Genre Drama\"]==1, \"rating\"].mean() / 5.0, df_ratings_usuario.loc[df_ratings_usuario[\"Genre Comedy\"]==1, \"rating\"].mean() / 5.0"
   ]
  },
  {
   "source": [
    "### Esto va generado varios vectores entre CERO y UNO y el vector del usuario. Luego deberia buscar cual es el vector mas cercano."
   ],
   "cell_type": "markdown",
   "metadata": {}
  },
  {
   "cell_type": "code",
   "execution_count": 85,
   "metadata": {},
   "outputs": [
    {
     "output_type": "stream",
     "name": "stdout",
     "text": [
      "{'Genre Action': [0.7272727272727273], 'Genre Adventure': [0.6571428571428571], 'Genre Animation': [0.9], 'Genre Children': [0.3], 'Genre Comedy': [0.6357142857142857], 'Genre Fantasy': [0.625], 'Genre Romance': [0.5], 'Genre Drama': [0.7533333333333333], 'Genre Crime': [0.8300000000000001], 'Genre Thriller': [0.7761904761904762], 'Genre Horror': [0.7], 'Genre Mystery': [0.55], 'Genre Sci-Fi': [0.6538461538461539], 'Genre IMAX': [nan], 'Genre Documentary': [nan], 'Genre War': [0.7333333333333333], 'Genre Musical': [0.9], 'Genre Film-Noir': [nan], 'Genre Western': [0.5], 'Genre Short': [nan]}\n"
     ]
    }
   ],
   "source": [
    "# Perfil del USER 75, la idea es generar el perfil para los usuarios.\n",
    "# Creo PERFIL como diccionario\n",
    "PERFIL ={}\n",
    "for c in df_ratings_usuario.columns:\n",
    "    # Me quedo solo con las columnas que empiezan con GENRE \n",
    "    if not c.startswith(\"Genre\"):\n",
    "       continue\n",
    "\n",
    "    PERFIL[c] = [df_ratings_usuario.loc[df_ratings_usuario[c]==1, \"rating\"].mean() / 5.0]\n",
    "\n",
    "print(PERFIL)\n",
    "\n"
   ]
  },
  {
   "cell_type": "code",
   "execution_count": 86,
   "metadata": {},
   "outputs": [
    {
     "output_type": "execute_result",
     "data": {
      "text/plain": [
       "   Genre Action  Genre Adventure  Genre Animation  Genre Children  \\\n",
       "0      0.727273         0.657143              0.9             0.3   \n",
       "\n",
       "   Genre Comedy  Genre Fantasy  Genre Romance  Genre Drama  Genre Crime  \\\n",
       "0      0.635714          0.625            0.5     0.753333         0.83   \n",
       "\n",
       "   Genre Thriller  Genre Horror  Genre Mystery  Genre Sci-Fi  Genre IMAX  \\\n",
       "0         0.77619           0.7           0.55      0.653846         0.0   \n",
       "\n",
       "   Genre Documentary  Genre War  Genre Musical  Genre Film-Noir  \\\n",
       "0                0.0   0.733333            0.9              0.0   \n",
       "\n",
       "   Genre Western  Genre Short  \n",
       "0            0.5          0.0  "
      ],
      "text/html": "<div>\n<style scoped>\n    .dataframe tbody tr th:only-of-type {\n        vertical-align: middle;\n    }\n\n    .dataframe tbody tr th {\n        vertical-align: top;\n    }\n\n    .dataframe thead th {\n        text-align: right;\n    }\n</style>\n<table border=\"1\" class=\"dataframe\">\n  <thead>\n    <tr style=\"text-align: right;\">\n      <th></th>\n      <th>Genre Action</th>\n      <th>Genre Adventure</th>\n      <th>Genre Animation</th>\n      <th>Genre Children</th>\n      <th>Genre Comedy</th>\n      <th>Genre Fantasy</th>\n      <th>Genre Romance</th>\n      <th>Genre Drama</th>\n      <th>Genre Crime</th>\n      <th>Genre Thriller</th>\n      <th>Genre Horror</th>\n      <th>Genre Mystery</th>\n      <th>Genre Sci-Fi</th>\n      <th>Genre IMAX</th>\n      <th>Genre Documentary</th>\n      <th>Genre War</th>\n      <th>Genre Musical</th>\n      <th>Genre Film-Noir</th>\n      <th>Genre Western</th>\n      <th>Genre Short</th>\n    </tr>\n  </thead>\n  <tbody>\n    <tr>\n      <th>0</th>\n      <td>0.727273</td>\n      <td>0.657143</td>\n      <td>0.9</td>\n      <td>0.3</td>\n      <td>0.635714</td>\n      <td>0.625</td>\n      <td>0.5</td>\n      <td>0.753333</td>\n      <td>0.83</td>\n      <td>0.77619</td>\n      <td>0.7</td>\n      <td>0.55</td>\n      <td>0.653846</td>\n      <td>0.0</td>\n      <td>0.0</td>\n      <td>0.733333</td>\n      <td>0.9</td>\n      <td>0.0</td>\n      <td>0.5</td>\n      <td>0.0</td>\n    </tr>\n  </tbody>\n</table>\n</div>"
     },
     "metadata": {},
     "execution_count": 86
    }
   ],
   "source": [
    "# Lo convierto en un DataFrame\n",
    "# fillna(0) me llena los nan como CERO\n",
    "df_perfil = pd.DataFrame.from_dict(PERFIL).fillna(0)\n",
    "df_perfil"
   ]
  },
  {
   "source": [
    "### Este es el perfil del usuario 75, e informa segun lo que califico cuales son los generos que estan mas cerca de su gusto.\n",
    "### Ahora lo que busco es cuales son las peliculas que estan mas cerca de este usuario usando la Similitud Coseno (1 es super similar)"
   ],
   "cell_type": "markdown",
   "metadata": {}
  },
  {
   "cell_type": "code",
   "execution_count": 91,
   "metadata": {},
   "outputs": [],
   "source": [
    "# Agarro una pelicula cualquier y me fijo que tan cerca o lejos esta de su perfil.\n",
    "MOVIE = 65088\n",
    "movie = df_movies.query(f\"id=={MOVIE}\")\n",
    "columnas_genero = [c for c in df_movies.columns if c.startswith(\"Genre\")]\n",
    "A = movie[columnas_genero].values[0]\n",
    "B = df_perfil[columnas_genero].values[0]\n",
    "# A es la pelicula y B es el perfil del usuario"
   ]
  },
  {
   "cell_type": "code",
   "execution_count": 92,
   "metadata": {},
   "outputs": [
    {
     "output_type": "execute_result",
     "data": {
      "text/plain": [
       "0.33397865808365"
      ]
     },
     "metadata": {},
     "execution_count": 92
    }
   ],
   "source": [
    "# El perfil\n",
    "# Similaridad Coseno, mientras mas cerca del 1 mejor\n",
    "np.dot(A,B) / (np.linalg.norm(A) * np.linalg.norm(B))"
   ]
  },
  {
   "cell_type": "code",
   "execution_count": null,
   "metadata": {},
   "outputs": [],
   "source": [
    "# Ahora busco hacerlo para todas las peliculas\n",
    "\n",
    "columnas_genero = [c for c in df_movies.columns if c.startswith(\"Genre\")]\n",
    "B = df_perfil[columnas_genero].values[0]\n",
    "\n",
    "for index, row in df_movies.iterrows():    \n",
    "    movie = df_movies.query(\"id == {}\".format(row[\"id\"]))\n",
    "\n",
    "    A = movie[columnas_genero].values[0]\n",
    "    #print(row[\"id\"], np.dot(A, B) / (np.linalg.norm(A) * np.linalg.norm(B)))\n",
    "\n",
    "#0.49472772819267147 * 5.0\n",
    "# Si tomo el mayor y lo multiplico por 5, eso me da el rating.\n",
    "\n",
    "# Tambien podria tomar las 5 con mayor rating y podria decir que esas son las 5 que mas le deberian gustar.\n",
    "# No deberia mostrarle peliculas que YA vio, porque esas podrian ser muy cercanas.\n",
    "# Esta tecnica me permite con 1 sola pelicula, ya empezar a recomendarle peliculas similares."
   ]
  },
  {
   "cell_type": "code",
   "execution_count": null,
   "metadata": {},
   "outputs": [],
   "source": [
    "# Con el pais podria hacer algo similar y decir para cada usuario que pais de pelicula prefiere. Pero quizas no haya que hacer * 5.0?\n",
    "# Podria pondear los generos por 0.6 y los paises por 0.4 ...\n",
    "# Como reflejar en el perfil del usuario que prefiere peliculas a partir del año 2000?\n",
    "# Se podrian hacer bines por decadas. Agregar el año en el perfil, etc. \n",
    "# (año- minimoAño / maximoAño - minimoAños) los paso a CERO y UNO, y mutiplico año contra año.\n",
    "# Podria incluir\n",
    "# Año, directores, actores, paises, etc."
   ]
  },
  {
   "source": [
    "## Calculo para todos los usuarios"
   ],
   "cell_type": "markdown",
   "metadata": {}
  },
  {
   "cell_type": "code",
   "execution_count": 7,
   "metadata": {},
   "outputs": [
    {
     "output_type": "execute_result",
     "data": {
      "text/plain": [
       "   id                        title  year  imdbID                         rtID  \\\n",
       "0   1                    Toy story  1995  114709                    toy_story   \n",
       "1   2                      Jumanji  1995  113497              1068044-jumanji   \n",
       "2   3               Grumpy Old Men  1993  107050               grumpy_old_men   \n",
       "3   4            Waiting to Exhale  1995  114885            waiting_to_exhale   \n",
       "4   5  Father of the Bride Part II  1995  113041  father_of_the_bride_part_ii   \n",
       "\n",
       "   Genre Action  Genre Adventure  Genre Animation  Genre Children  \\\n",
       "0             0                1                1               1   \n",
       "1             0                1                0               1   \n",
       "2             0                0                0               0   \n",
       "3             0                0                0               0   \n",
       "4             0                0                0               0   \n",
       "\n",
       "   Genre Comedy  ...  Genre Horror  Genre Mystery  Genre Sci-Fi  Genre IMAX  \\\n",
       "0             1  ...             0              0             0           0   \n",
       "1             0  ...             0              0             0           0   \n",
       "2             1  ...             0              0             0           0   \n",
       "3             1  ...             0              0             0           0   \n",
       "4             1  ...             0              0             0           0   \n",
       "\n",
       "   Genre Documentary  Genre War  Genre Musical  Genre Film-Noir  \\\n",
       "0                  0          0              0                0   \n",
       "1                  0          0              0                0   \n",
       "2                  0          0              0                0   \n",
       "3                  0          0              0                0   \n",
       "4                  0          0              0                0   \n",
       "\n",
       "   Genre Western  Genre Short  \n",
       "0              0            0  \n",
       "1              0            0  \n",
       "2              0            0  \n",
       "3              0            0  \n",
       "4              0            0  \n",
       "\n",
       "[5 rows x 25 columns]"
      ],
      "text/html": "<div>\n<style scoped>\n    .dataframe tbody tr th:only-of-type {\n        vertical-align: middle;\n    }\n\n    .dataframe tbody tr th {\n        vertical-align: top;\n    }\n\n    .dataframe thead th {\n        text-align: right;\n    }\n</style>\n<table border=\"1\" class=\"dataframe\">\n  <thead>\n    <tr style=\"text-align: right;\">\n      <th></th>\n      <th>id</th>\n      <th>title</th>\n      <th>year</th>\n      <th>imdbID</th>\n      <th>rtID</th>\n      <th>Genre Action</th>\n      <th>Genre Adventure</th>\n      <th>Genre Animation</th>\n      <th>Genre Children</th>\n      <th>Genre Comedy</th>\n      <th>...</th>\n      <th>Genre Horror</th>\n      <th>Genre Mystery</th>\n      <th>Genre Sci-Fi</th>\n      <th>Genre IMAX</th>\n      <th>Genre Documentary</th>\n      <th>Genre War</th>\n      <th>Genre Musical</th>\n      <th>Genre Film-Noir</th>\n      <th>Genre Western</th>\n      <th>Genre Short</th>\n    </tr>\n  </thead>\n  <tbody>\n    <tr>\n      <th>0</th>\n      <td>1</td>\n      <td>Toy story</td>\n      <td>1995</td>\n      <td>114709</td>\n      <td>toy_story</td>\n      <td>0</td>\n      <td>1</td>\n      <td>1</td>\n      <td>1</td>\n      <td>1</td>\n      <td>...</td>\n      <td>0</td>\n      <td>0</td>\n      <td>0</td>\n      <td>0</td>\n      <td>0</td>\n      <td>0</td>\n      <td>0</td>\n      <td>0</td>\n      <td>0</td>\n      <td>0</td>\n    </tr>\n    <tr>\n      <th>1</th>\n      <td>2</td>\n      <td>Jumanji</td>\n      <td>1995</td>\n      <td>113497</td>\n      <td>1068044-jumanji</td>\n      <td>0</td>\n      <td>1</td>\n      <td>0</td>\n      <td>1</td>\n      <td>0</td>\n      <td>...</td>\n      <td>0</td>\n      <td>0</td>\n      <td>0</td>\n      <td>0</td>\n      <td>0</td>\n      <td>0</td>\n      <td>0</td>\n      <td>0</td>\n      <td>0</td>\n      <td>0</td>\n    </tr>\n    <tr>\n      <th>2</th>\n      <td>3</td>\n      <td>Grumpy Old Men</td>\n      <td>1993</td>\n      <td>107050</td>\n      <td>grumpy_old_men</td>\n      <td>0</td>\n      <td>0</td>\n      <td>0</td>\n      <td>0</td>\n      <td>1</td>\n      <td>...</td>\n      <td>0</td>\n      <td>0</td>\n      <td>0</td>\n      <td>0</td>\n      <td>0</td>\n      <td>0</td>\n      <td>0</td>\n      <td>0</td>\n      <td>0</td>\n      <td>0</td>\n    </tr>\n    <tr>\n      <th>3</th>\n      <td>4</td>\n      <td>Waiting to Exhale</td>\n      <td>1995</td>\n      <td>114885</td>\n      <td>waiting_to_exhale</td>\n      <td>0</td>\n      <td>0</td>\n      <td>0</td>\n      <td>0</td>\n      <td>1</td>\n      <td>...</td>\n      <td>0</td>\n      <td>0</td>\n      <td>0</td>\n      <td>0</td>\n      <td>0</td>\n      <td>0</td>\n      <td>0</td>\n      <td>0</td>\n      <td>0</td>\n      <td>0</td>\n    </tr>\n    <tr>\n      <th>4</th>\n      <td>5</td>\n      <td>Father of the Bride Part II</td>\n      <td>1995</td>\n      <td>113041</td>\n      <td>father_of_the_bride_part_ii</td>\n      <td>0</td>\n      <td>0</td>\n      <td>0</td>\n      <td>0</td>\n      <td>1</td>\n      <td>...</td>\n      <td>0</td>\n      <td>0</td>\n      <td>0</td>\n      <td>0</td>\n      <td>0</td>\n      <td>0</td>\n      <td>0</td>\n      <td>0</td>\n      <td>0</td>\n      <td>0</td>\n    </tr>\n  </tbody>\n</table>\n<p>5 rows × 25 columns</p>\n</div>"
     },
     "metadata": {},
     "execution_count": 7
    }
   ],
   "source": [
    "df_movies.head()"
   ]
  },
  {
   "cell_type": "code",
   "execution_count": 13,
   "metadata": {},
   "outputs": [
    {
     "output_type": "execute_result",
     "data": {
      "text/plain": [
       "array([51198, 29202, 32283, ..., 62354, 62394, 62847])"
      ]
     },
     "metadata": {},
     "execution_count": 13
    }
   ],
   "source": [
    "df_ratings[\"userID\"].unique()"
   ]
  },
  {
   "cell_type": "code",
   "execution_count": 170,
   "metadata": {},
   "outputs": [],
   "source": [
    "def perfil_por_usuario(USUARIO):\n",
    "\n",
    "    # Voy a crea el perfil de un usuario\n",
    "    df_ratings_generic = df_ratings[df_ratings[\"userID\"] == USUARIO]\n",
    "    df_ratings_generic.sort_values(\"rating\").head()\n",
    "    # Ahora lo que busco es condensar sus gustos de pelicula por los generos.\n",
    "    # Mergeo al rating de un usuario el perfil de cada pelicula\n",
    "    df_ratings_generic = df_ratings[df_ratings[\"userID\"] == USUARIO].merge(df_movies, left_on=\"movieID\", right_on=\"id\")\n",
    "    df_ratings_generic.sort_values(\"rating\").head()\n",
    "\n",
    "    # Perfil del USER 29202, la idea es generar el perfil para los usuarios.\n",
    "    # Creo PERFIL como diccionario\n",
    "    PERFIL ={}\n",
    "    for c in df_ratings_generic.columns:\n",
    "        # Me quedo solo con las columnas que empiezan con GENRE \n",
    "        if  c.startswith(\"userID\"):\n",
    "           PERFIL[c] = [USUARIO] \n",
    "        #if not c.startswith((\"Genre\", \"userID\")):\n",
    "        if not c.startswith(\"Genre\"):\n",
    "            continue\n",
    "        PERFIL[c] = [df_ratings_generic.loc[df_ratings_generic[c]==1, \"rating\"].mean() / 5.0]\n",
    "\n",
    "\n",
    "    #print(PERFIL)\n",
    "    return PERFIL"
   ]
  },
  {
   "cell_type": "code",
   "execution_count": 171,
   "metadata": {},
   "outputs": [
    {
     "output_type": "execute_result",
     "data": {
      "text/plain": [
       "{'userID': [29202],\n",
       " 'Genre Action': [0.5125],\n",
       " 'Genre Adventure': [0.5031818181818182],\n",
       " 'Genre Animation': [0.4470588235294118],\n",
       " 'Genre Children': [0.4333333333333333],\n",
       " 'Genre Comedy': [0.4436131386861314],\n",
       " 'Genre Fantasy': [0.492741935483871],\n",
       " 'Genre Romance': [0.5364077669902912],\n",
       " 'Genre Drama': [0.5667250437828371],\n",
       " 'Genre Crime': [0.5349112426035503],\n",
       " 'Genre Thriller': [0.5311797752808989],\n",
       " 'Genre Horror': [0.4645161290322581],\n",
       " 'Genre Mystery': [0.54875],\n",
       " 'Genre Sci-Fi': [0.5093567251461988],\n",
       " 'Genre IMAX': [0.6],\n",
       " 'Genre Documentary': [0.6533333333333333],\n",
       " 'Genre War': [0.5755555555555556],\n",
       " 'Genre Musical': [0.5045454545454546],\n",
       " 'Genre Film-Noir': [0.4428571428571429],\n",
       " 'Genre Western': [0.5565217391304348],\n",
       " 'Genre Short': [nan]}"
      ]
     },
     "metadata": {},
     "execution_count": 171
    }
   ],
   "source": [
    "df_perfil_full=None\n",
    "USUARIO = 29202\n",
    "perfil_por_usuario(USUARIO)\n",
    "\n",
    "\n",
    "# Lo convierto en un DataFrame\n",
    "# fillna(0) me llena los nan como CERO\n",
    "#df_perfil = pd.DataFrame.from_dict(PERFIL).fillna(0)\n",
    "#df_perfil.insert(0,'userID',USUARIO)\n"
   ]
  },
  {
   "cell_type": "code",
   "execution_count": 429,
   "metadata": {},
   "outputs": [
    {
     "output_type": "execute_result",
     "data": {
      "text/plain": [
       "array([51198, 29202, 32283, ..., 62354, 62394, 62847])"
      ]
     },
     "metadata": {},
     "execution_count": 429
    }
   ],
   "source": [
    "IDs = ['29202','75','62354']\n",
    "df_addoc = df_ratings.loc[df_ratings[\"userID\"].isin(IDs)]\n",
    "df_addoc = df_ratings\n",
    "df_addoc[\"userID\"].unique()"
   ]
  },
  {
   "cell_type": "code",
   "execution_count": 446,
   "metadata": {
    "tags": []
   },
   "outputs": [],
   "source": [
    "\n",
    "#df_perfil = pd.DataFrame.from_dict(PERFIL).fillna(0)\n",
    "#df_perfil.insert(0,'userID',USUARIO)\n",
    "df_full_profile = pd.DataFrame()\n",
    "for g in df_addoc[\"userID\"].unique():\n",
    "    #PERFIl_FULL = perfil_por_usuario(g)\n",
    "    df_full_profile = df_full_profile.append(pd.DataFrame.from_dict(perfil_por_usuario(g)).fillna(0), ignore_index=True)\n",
    "    #print(df_full_profile.tail(1))\n"
   ]
  },
  {
   "cell_type": "code",
   "execution_count": 447,
   "metadata": {},
   "outputs": [
    {
     "output_type": "execute_result",
     "data": {
      "text/plain": [
       "      userID  Genre Action  Genre Adventure  Genre Animation  Genre Children  \\\n",
       "0      51198      0.783824         0.798000         0.788889        0.766667   \n",
       "1      29202      0.512500         0.503182         0.447059        0.433333   \n",
       "2      32283      0.687004         0.694545         0.806452        0.758333   \n",
       "3      36495      0.673034         0.677551         0.763636        0.742857   \n",
       "4      28350      0.653191         0.666667         0.705769        0.658915   \n",
       "...      ...           ...              ...              ...             ...   \n",
       "2108   61985      0.749457         0.742424         0.746154        0.733333   \n",
       "2109   62042      0.583333         0.693333         0.690000        0.693333   \n",
       "2110   62354      0.827273         0.821429         0.820000        0.840000   \n",
       "2111   62394      0.607477         0.619178         0.628571        0.561111   \n",
       "2112   62847      0.697917         0.711111         0.833333        0.700000   \n",
       "\n",
       "      Genre Comedy  Genre Fantasy  Genre Romance  Genre Drama  Genre Crime  \\\n",
       "0         0.779000       0.796667       0.810811     0.833028     0.865116   \n",
       "1         0.443613       0.492742       0.536408     0.566725     0.534911   \n",
       "2         0.694751       0.694805       0.723832     0.739817     0.728571   \n",
       "3         0.764198       0.631579       0.740541     0.755914     0.767241   \n",
       "4         0.632463       0.656180       0.670940     0.669822     0.635714   \n",
       "...            ...            ...            ...          ...          ...   \n",
       "2108      0.709677       0.738095       0.731579     0.761538     0.735849   \n",
       "2109      0.601818       0.685714       0.659375     0.763265     0.671429   \n",
       "2110      0.726316       0.888889       0.768750     0.809677     0.900000   \n",
       "2111      0.557534       0.613889       0.611667     0.684817     0.708696   \n",
       "2112      0.685455       0.654545       0.736585     0.741975     0.776923   \n",
       "\n",
       "      ...  Genre Horror  Genre Mystery  Genre Sci-Fi  Genre IMAX  \\\n",
       "0     ...      0.728571       0.804762      0.784211         0.9   \n",
       "1     ...      0.464516       0.548750      0.509357         0.6   \n",
       "2     ...      0.662162       0.742857      0.656566         0.8   \n",
       "3     ...      0.800000       0.725000      0.640000         0.0   \n",
       "4     ...      0.429412       0.615000      0.597561         0.8   \n",
       "...   ...           ...            ...           ...         ...   \n",
       "2108  ...      0.738095       0.816216      0.741509         0.9   \n",
       "2109  ...      0.566667       0.700000      0.516667         0.0   \n",
       "2110  ...      0.660000       0.700000      0.840000         0.0   \n",
       "2111  ...      0.631373       0.664706      0.516364         0.9   \n",
       "2112  ...      0.642857       0.833333      0.672727         0.0   \n",
       "\n",
       "      Genre Documentary  Genre War  Genre Musical  Genre Film-Noir  \\\n",
       "0              0.883333   0.816667       0.840000         0.800000   \n",
       "1              0.653333   0.575556       0.504545         0.442857   \n",
       "2              0.828571   0.721212       0.700000         0.800000   \n",
       "3              0.500000   0.762500       0.800000         1.000000   \n",
       "4              0.000000   0.684211       0.641667         0.700000   \n",
       "...                 ...        ...            ...              ...   \n",
       "2108           0.800000   0.768421       0.685714         0.750000   \n",
       "2109           0.000000   0.850000       0.638462         0.000000   \n",
       "2110           0.000000   0.750000       0.733333         1.000000   \n",
       "2111           0.500000   0.737037       0.650000         0.733333   \n",
       "2112           0.700000   0.814286       0.780000         0.900000   \n",
       "\n",
       "      Genre Western  Genre Short  \n",
       "0          0.733333          0.0  \n",
       "1          0.556522          0.0  \n",
       "2          0.769565          0.0  \n",
       "3          0.600000          0.0  \n",
       "4          0.635294          0.0  \n",
       "...             ...          ...  \n",
       "2108       0.725000          0.0  \n",
       "2109       0.800000          0.0  \n",
       "2110       0.700000          0.0  \n",
       "2111       0.607692          0.0  \n",
       "2112       0.725000          0.0  \n",
       "\n",
       "[2113 rows x 21 columns]"
      ],
      "text/html": "<div>\n<style scoped>\n    .dataframe tbody tr th:only-of-type {\n        vertical-align: middle;\n    }\n\n    .dataframe tbody tr th {\n        vertical-align: top;\n    }\n\n    .dataframe thead th {\n        text-align: right;\n    }\n</style>\n<table border=\"1\" class=\"dataframe\">\n  <thead>\n    <tr style=\"text-align: right;\">\n      <th></th>\n      <th>userID</th>\n      <th>Genre Action</th>\n      <th>Genre Adventure</th>\n      <th>Genre Animation</th>\n      <th>Genre Children</th>\n      <th>Genre Comedy</th>\n      <th>Genre Fantasy</th>\n      <th>Genre Romance</th>\n      <th>Genre Drama</th>\n      <th>Genre Crime</th>\n      <th>...</th>\n      <th>Genre Horror</th>\n      <th>Genre Mystery</th>\n      <th>Genre Sci-Fi</th>\n      <th>Genre IMAX</th>\n      <th>Genre Documentary</th>\n      <th>Genre War</th>\n      <th>Genre Musical</th>\n      <th>Genre Film-Noir</th>\n      <th>Genre Western</th>\n      <th>Genre Short</th>\n    </tr>\n  </thead>\n  <tbody>\n    <tr>\n      <th>0</th>\n      <td>51198</td>\n      <td>0.783824</td>\n      <td>0.798000</td>\n      <td>0.788889</td>\n      <td>0.766667</td>\n      <td>0.779000</td>\n      <td>0.796667</td>\n      <td>0.810811</td>\n      <td>0.833028</td>\n      <td>0.865116</td>\n      <td>...</td>\n      <td>0.728571</td>\n      <td>0.804762</td>\n      <td>0.784211</td>\n      <td>0.9</td>\n      <td>0.883333</td>\n      <td>0.816667</td>\n      <td>0.840000</td>\n      <td>0.800000</td>\n      <td>0.733333</td>\n      <td>0.0</td>\n    </tr>\n    <tr>\n      <th>1</th>\n      <td>29202</td>\n      <td>0.512500</td>\n      <td>0.503182</td>\n      <td>0.447059</td>\n      <td>0.433333</td>\n      <td>0.443613</td>\n      <td>0.492742</td>\n      <td>0.536408</td>\n      <td>0.566725</td>\n      <td>0.534911</td>\n      <td>...</td>\n      <td>0.464516</td>\n      <td>0.548750</td>\n      <td>0.509357</td>\n      <td>0.6</td>\n      <td>0.653333</td>\n      <td>0.575556</td>\n      <td>0.504545</td>\n      <td>0.442857</td>\n      <td>0.556522</td>\n      <td>0.0</td>\n    </tr>\n    <tr>\n      <th>2</th>\n      <td>32283</td>\n      <td>0.687004</td>\n      <td>0.694545</td>\n      <td>0.806452</td>\n      <td>0.758333</td>\n      <td>0.694751</td>\n      <td>0.694805</td>\n      <td>0.723832</td>\n      <td>0.739817</td>\n      <td>0.728571</td>\n      <td>...</td>\n      <td>0.662162</td>\n      <td>0.742857</td>\n      <td>0.656566</td>\n      <td>0.8</td>\n      <td>0.828571</td>\n      <td>0.721212</td>\n      <td>0.700000</td>\n      <td>0.800000</td>\n      <td>0.769565</td>\n      <td>0.0</td>\n    </tr>\n    <tr>\n      <th>3</th>\n      <td>36495</td>\n      <td>0.673034</td>\n      <td>0.677551</td>\n      <td>0.763636</td>\n      <td>0.742857</td>\n      <td>0.764198</td>\n      <td>0.631579</td>\n      <td>0.740541</td>\n      <td>0.755914</td>\n      <td>0.767241</td>\n      <td>...</td>\n      <td>0.800000</td>\n      <td>0.725000</td>\n      <td>0.640000</td>\n      <td>0.0</td>\n      <td>0.500000</td>\n      <td>0.762500</td>\n      <td>0.800000</td>\n      <td>1.000000</td>\n      <td>0.600000</td>\n      <td>0.0</td>\n    </tr>\n    <tr>\n      <th>4</th>\n      <td>28350</td>\n      <td>0.653191</td>\n      <td>0.666667</td>\n      <td>0.705769</td>\n      <td>0.658915</td>\n      <td>0.632463</td>\n      <td>0.656180</td>\n      <td>0.670940</td>\n      <td>0.669822</td>\n      <td>0.635714</td>\n      <td>...</td>\n      <td>0.429412</td>\n      <td>0.615000</td>\n      <td>0.597561</td>\n      <td>0.8</td>\n      <td>0.000000</td>\n      <td>0.684211</td>\n      <td>0.641667</td>\n      <td>0.700000</td>\n      <td>0.635294</td>\n      <td>0.0</td>\n    </tr>\n    <tr>\n      <th>...</th>\n      <td>...</td>\n      <td>...</td>\n      <td>...</td>\n      <td>...</td>\n      <td>...</td>\n      <td>...</td>\n      <td>...</td>\n      <td>...</td>\n      <td>...</td>\n      <td>...</td>\n      <td>...</td>\n      <td>...</td>\n      <td>...</td>\n      <td>...</td>\n      <td>...</td>\n      <td>...</td>\n      <td>...</td>\n      <td>...</td>\n      <td>...</td>\n      <td>...</td>\n      <td>...</td>\n    </tr>\n    <tr>\n      <th>2108</th>\n      <td>61985</td>\n      <td>0.749457</td>\n      <td>0.742424</td>\n      <td>0.746154</td>\n      <td>0.733333</td>\n      <td>0.709677</td>\n      <td>0.738095</td>\n      <td>0.731579</td>\n      <td>0.761538</td>\n      <td>0.735849</td>\n      <td>...</td>\n      <td>0.738095</td>\n      <td>0.816216</td>\n      <td>0.741509</td>\n      <td>0.9</td>\n      <td>0.800000</td>\n      <td>0.768421</td>\n      <td>0.685714</td>\n      <td>0.750000</td>\n      <td>0.725000</td>\n      <td>0.0</td>\n    </tr>\n    <tr>\n      <th>2109</th>\n      <td>62042</td>\n      <td>0.583333</td>\n      <td>0.693333</td>\n      <td>0.690000</td>\n      <td>0.693333</td>\n      <td>0.601818</td>\n      <td>0.685714</td>\n      <td>0.659375</td>\n      <td>0.763265</td>\n      <td>0.671429</td>\n      <td>...</td>\n      <td>0.566667</td>\n      <td>0.700000</td>\n      <td>0.516667</td>\n      <td>0.0</td>\n      <td>0.000000</td>\n      <td>0.850000</td>\n      <td>0.638462</td>\n      <td>0.000000</td>\n      <td>0.800000</td>\n      <td>0.0</td>\n    </tr>\n    <tr>\n      <th>2110</th>\n      <td>62354</td>\n      <td>0.827273</td>\n      <td>0.821429</td>\n      <td>0.820000</td>\n      <td>0.840000</td>\n      <td>0.726316</td>\n      <td>0.888889</td>\n      <td>0.768750</td>\n      <td>0.809677</td>\n      <td>0.900000</td>\n      <td>...</td>\n      <td>0.660000</td>\n      <td>0.700000</td>\n      <td>0.840000</td>\n      <td>0.0</td>\n      <td>0.000000</td>\n      <td>0.750000</td>\n      <td>0.733333</td>\n      <td>1.000000</td>\n      <td>0.700000</td>\n      <td>0.0</td>\n    </tr>\n    <tr>\n      <th>2111</th>\n      <td>62394</td>\n      <td>0.607477</td>\n      <td>0.619178</td>\n      <td>0.628571</td>\n      <td>0.561111</td>\n      <td>0.557534</td>\n      <td>0.613889</td>\n      <td>0.611667</td>\n      <td>0.684817</td>\n      <td>0.708696</td>\n      <td>...</td>\n      <td>0.631373</td>\n      <td>0.664706</td>\n      <td>0.516364</td>\n      <td>0.9</td>\n      <td>0.500000</td>\n      <td>0.737037</td>\n      <td>0.650000</td>\n      <td>0.733333</td>\n      <td>0.607692</td>\n      <td>0.0</td>\n    </tr>\n    <tr>\n      <th>2112</th>\n      <td>62847</td>\n      <td>0.697917</td>\n      <td>0.711111</td>\n      <td>0.833333</td>\n      <td>0.700000</td>\n      <td>0.685455</td>\n      <td>0.654545</td>\n      <td>0.736585</td>\n      <td>0.741975</td>\n      <td>0.776923</td>\n      <td>...</td>\n      <td>0.642857</td>\n      <td>0.833333</td>\n      <td>0.672727</td>\n      <td>0.0</td>\n      <td>0.700000</td>\n      <td>0.814286</td>\n      <td>0.780000</td>\n      <td>0.900000</td>\n      <td>0.725000</td>\n      <td>0.0</td>\n    </tr>\n  </tbody>\n</table>\n<p>2113 rows × 21 columns</p>\n</div>"
     },
     "metadata": {},
     "execution_count": 447
    }
   ],
   "source": [
    "df_full_profile"
   ]
  },
  {
   "source": [
    "## En df_full_profile tengo el perfil de todos los usuarios y cada linea representa segun lo que califico un usuario que generos estan mas cerca o mas lejos de sus preferencia.\n",
    "## Ahora lo que busco es cuales son las peliculas que estan mas cerca de casa usuario usando la Similitud Coseno (1 es super similar)"
   ],
   "cell_type": "markdown",
   "metadata": {}
  },
  {
   "cell_type": "code",
   "execution_count": 467,
   "metadata": {},
   "outputs": [],
   "source": [
    "df_movies_adDoc = df_movies[0:20]"
   ]
  },
  {
   "cell_type": "code",
   "execution_count": 468,
   "metadata": {
    "tags": []
   },
   "outputs": [],
   "source": [
    "# Dado un perfil de usuario, veo que pelicula es la mas afin a sus votaciones.\n",
    "\n",
    "def pelicula_afin_a_perfil(userID, B, list_profile):\n",
    "    columnas_genero = [c for c in df_movies_adDoc.columns if c.startswith(\"Genre\")]\n",
    "    \n",
    "    similarityC_base=0\n",
    "    movieID = 0\n",
    "    for index, row in (df_movies_adDoc.iterrows()):    \n",
    "        movie = df_movies_adDoc.query(\"id == {}\".format(row[\"id\"]))\n",
    "        A = movie[columnas_genero].values[0]\n",
    "        similarityC = np.dot(A, B) / (np.linalg.norm(A) * np.linalg.norm(B))\n",
    "        if (similarityC_base < simCosin):\n",
    "            similarityC_base = simCosin\n",
    "            movieID = row[\"id\"]\n",
    "        #RANKING[index] = [row[\"id\"], simCosin]\n",
    "    \n",
    "    user_row = dict()\n",
    "    user_row[\"userID\"] = userID\n",
    "    user_row[\"movieID\"] = row[\"id\"]\n",
    "    user_row[\"similarityC\"] = similarityC_base\n",
    "    list_profile.append(user_row)\n",
    "    return list_profile"
   ]
  },
  {
   "cell_type": "code",
   "execution_count": 421,
   "metadata": {},
   "outputs": [],
   "source": [
    "#print(\"movieID:\", movieID, \"simCosin: \",simCosin_base)"
   ]
  },
  {
   "cell_type": "code",
   "execution_count": 419,
   "metadata": {},
   "outputs": [],
   "source": [
    "#df_perfil[columnas_genero].values[0]"
   ]
  },
  {
   "cell_type": "code",
   "execution_count": 420,
   "metadata": {},
   "outputs": [],
   "source": [
    "#COUNT=1\n",
    "## iloc[row slicing, column slicing]\n",
    "#B=df_full_profile.iloc[COUNT-1:COUNT, 1:].values[0]\n",
    "#B"
   ]
  },
  {
   "cell_type": "code",
   "execution_count": 427,
   "metadata": {},
   "outputs": [
    {
     "output_type": "stream",
     "name": "stderr",
     "text": [
      "9it [00:00, 157.44it/s]0.49912149585718957\n",
      "\n"
     ]
    },
    {
     "output_type": "execute_result",
     "data": {
      "text/plain": [
       "[{'userID': '51198', 'movieID': 9, 'simCos': 0.49912149585718957}]"
      ]
     },
     "metadata": {},
     "execution_count": 427
    }
   ],
   "source": [
    "#USER = \"51198\"\n",
    "#column_names = [\"userID\",\"movieID\", \"simCos\"]\n",
    "#df_profile_movieSelection = pd.DataFrame(columns = column_names)\n",
    "#df_profile_movieSelection = []\n",
    "#pelicula_afin_a_perfil(USER,B,df_profile_movieSelection)"
   ]
  },
  {
   "cell_type": "code",
   "execution_count": 464,
   "metadata": {
    "tags": []
   },
   "outputs": [
    {
     "output_type": "display_data",
     "data": {
      "text/plain": "HBox(children=(FloatProgress(value=0.0, max=2113.0), HTML(value='')))",
      "application/vnd.jupyter.widget-view+json": {
       "version_major": 2,
       "version_minor": 0,
       "model_id": "4af2b5cb99af441ab43381c773d956ec"
      }
     },
     "metadata": {}
    },
    {
     "output_type": "stream",
     "name": "stdout",
     "text": [
      "\n"
     ]
    }
   ],
   "source": [
    "df_profile_movieSelection = []\n",
    "COUNT=1\n",
    "for g in tqdm_notebook(df_full_profile[\"userID\"].unique()):\n",
    "    B=df_full_profile.iloc[COUNT-1:COUNT, 1:].values[0]\n",
    "    pelicula_afin_a_perfil(g,B,df_profile_movieSelection)\n",
    "    COUNT=COUNT+1\n"
   ]
  },
  {
   "cell_type": "code",
   "execution_count": 465,
   "metadata": {},
   "outputs": [
    {
     "output_type": "execute_result",
     "data": {
      "text/plain": [
       "7983474454},\n",
       " {'userID': 68393, 'movieID': 9, 'simCos': 0.5413912514048348},\n",
       " {'userID': 68424, 'movieID': 9, 'simCos': 0.5442218924462051},\n",
       " {'userID': 68829, 'movieID': 9, 'simCos': 0.505504465028736},\n",
       " {'userID': 68947, 'movieID': 9, 'simCos': 0.4588278829319902},\n",
       " {'userID': 69153, 'movieID': 9, 'simCos': 0.49332820359308666},\n",
       " {'userID': 69716, 'movieID': 9, 'simCos': 0.5150577737637642},\n",
       " {'userID': 70313, 'movieID': 9, 'simCos': 0.5334050879803173},\n",
       " {'userID': 70369, 'movieID': 9, 'simCos': 0.5103523369443143},\n",
       " {'userID': 70525, 'movieID': 9, 'simCos': 0.5311788270011929},\n",
       " {'userID': 70542, 'movieID': 9, 'simCos': 0.5437679957029553},\n",
       " {'userID': 70981, 'movieID': 9, 'simCos': 0.5292066392962351},\n",
       " {'userID': 71478, 'movieID': 9, 'simCos': 0.5246029105055355},\n",
       " {'userID': 175, 'movieID': 9, 'simCos': 0.5292409307100597},\n",
       " {'userID': 325, 'movieID': 9, 'simCos': 0.5113305982164427},\n",
       " {'userID': 637, 'movieID': 9, 'simCos': 0.5363865253112835},\n",
       " {'userID': 1547, 'movieID': 9, 'simCos': 0.507215911500349},\n",
       " {'userID': 1751, 'movieID': 9, 'simCos': 0.5363446124074911},\n",
       " {'userID': 1988, 'movieID': 9, 'simCos': 0.5205507189267584},\n",
       " {'userID': 2053, 'movieID': 9, 'simCos': 0.5214739763240615},\n",
       " {'userID': 2315, 'movieID': 9, 'simCos': 0.5294115888173704},\n",
       " {'userID': 2658, 'movieID': 9, 'simCos': 0.5650363103121795},\n",
       " {'userID': 2801, 'movieID': 9, 'simCos': 0.4934348215380926},\n",
       " {'userID': 2891, 'movieID': 9, 'simCos': 0.5016074678450345},\n",
       " {'userID': 2930, 'movieID': 9, 'simCos': 0.4832992053999203},\n",
       " {'userID': 3104, 'movieID': 9, 'simCos': 0.5360168980644696},\n",
       " {'userID': 3304, 'movieID': 9, 'simCos': 0.5607748175422577},\n",
       " {'userID': 3313, 'movieID': 9, 'simCos': 0.5149684667674786},\n",
       " {'userID': 3853, 'movieID': 9, 'simCos': 0.5161549044694546},\n",
       " {'userID': 3860, 'movieID': 9, 'simCos': 0.48535252139591584},\n",
       " {'userID': 3976, 'movieID': 9, 'simCos': 0.5288071901456938},\n",
       " {'userID': 4022, 'movieID': 9, 'simCos': 0.5192610033036633},\n",
       " {'userID': 4827, 'movieID': 9, 'simCos': 0.5090938143456414},\n",
       " {'userID': 4856, 'movieID': 9, 'simCos': 0.5615184536960695},\n",
       " {'userID': 4895, 'movieID': 9, 'simCos': 0.4779179081764554},\n",
       " {'userID': 5285, 'movieID': 9, 'simCos': 0.4792036529937835},\n",
       " {'userID': 5757, 'movieID': 9, 'simCos': 0.5214813166861623},\n",
       " {'userID': 5831, 'movieID': 9, 'simCos': 0.6654100090174755},\n",
       " {'userID': 5954, 'movieID': 9, 'simCos': 0.4765764057627359},\n",
       " {'userID': 5978, 'movieID': 9, 'simCos': 0.48534455970350887},\n",
       " {'userID': 6018, 'movieID': 9, 'simCos': 0.5174949286592443},\n",
       " {'userID': 6323, 'movieID': 9, 'simCos': 0.5680922896138831},\n",
       " {'userID': 6362, 'movieID': 9, 'simCos': 0.5263208406171105},\n",
       " {'userID': 6385, 'movieID': 9, 'simCos': 0.5085069925469883},\n",
       " {'userID': 6393, 'movieID': 9, 'simCos': 0.4792330101948372},\n",
       " {'userID': 6400, 'movieID': 9, 'simCos': 0.5043909539433573},\n",
       " {'userID': 6477, 'movieID': 9, 'simCos': 0.4840326294499849},\n",
       " {'userID': 6532, 'movieID': 9, 'simCos': 0.556726591293426},\n",
       " {'userID': 6550, 'movieID': 9, 'simCos': 0.5169224227501448},\n",
       " {'userID': 6571, 'movieID': 9, 'simCos': 0.4498566388859523},\n",
       " {'userID': 6785, 'movieID': 9, 'simCos': 0.5353962791848174},\n",
       " {'userID': 7287, 'movieID': 9, 'simCos': 0.5153668976535805},\n",
       " {'userID': 7315, 'movieID': 9, 'simCos': 0.5035936273976944},\n",
       " {'userID': 7815, 'movieID': 9, 'simCos': 0.5005261861856248},\n",
       " {'userID': 8041, 'movieID': 9, 'simCos': 0.544434214331829},\n",
       " {'userID': 8423, 'movieID': 9, 'simCos': 0.45266262612011077},\n",
       " {'userID': 8434, 'movieID': 9, 'simCos': 0.5466028758494124},\n",
       " {'userID': 8699, 'movieID': 9, 'simCos': 0.47796529981828},\n",
       " {'userID': 8893, 'movieID': 9, 'simCos': 0.6242126254415103},\n",
       " {'userID': 8930, 'movieID': 9, 'simCos': 0.5076305153942816},\n",
       " {'userID': 9245, 'movieID': 9, 'simCos': 0.4978103621532094},\n",
       " {'userID': 9370, 'movieID': 9, 'simCos': 0.4852728581831152},\n",
       " {'userID': 9475, 'movieID': 9, 'simCos': 0.5479733662225919},\n",
       " {'userID': 10084, 'movieID': 9, 'simCos': 0.5733055798169369},\n",
       " {'userID': 10094, 'movieID': 9, 'simCos': 0.549574493627199},\n",
       " {'userID': 10125, 'movieID': 9, 'simCos': 0.43082150230525595},\n",
       " {'userID': 10154, 'movieID': 9, 'simCos': 0.5978113396116724},\n",
       " {'userID': 10181, 'movieID': 9, 'simCos': 0.5665540091896392},\n",
       " {'userID': 10200, 'movieID': 9, 'simCos': 0.49981752157093134},\n",
       " {'userID': 10272, 'movieID': 9, 'simCos': 0.49786024614406865},\n",
       " {'userID': 10335, 'movieID': 9, 'simCos': 0.6200549632902737},\n",
       " {'userID': 10479, 'movieID': 9, 'simCos': 0.457220214452312},\n",
       " {'userID': 10521, 'movieID': 9, 'simCos': 0.5598921208140897},\n",
       " {'userID': 10639, 'movieID': 9, 'simCos': 0.5016178978986586},\n",
       " {'userID': 10936, 'movieID': 9, 'simCos': 0.5007658900269266},\n",
       " {'userID': 11188, 'movieID': 9, 'simCos': 0.5033308093259223},\n",
       " {'userID': 11457, 'movieID': 9, 'simCos': 0.6742390395495568},\n",
       " {'userID': 11554, 'movieID': 9, 'simCos': 0.478878915126268},\n",
       " {'userID': 11577, 'movieID': 9, 'simCos': 0.5042332523572418},\n",
       " {'userID': 11802, 'movieID': 9, 'simCos': 0.48609066487574565},\n",
       " {'userID': 11937, 'movieID': 9, 'simCos': 0.5220585721693489},\n",
       " {'userID': 12028, 'movieID': 9, 'simCos': 0.4716928540116222},\n",
       " {'userID': 12051, 'movieID': 9, 'simCos': 0.5183582673002398},\n",
       " {'userID': 12126, 'movieID': 9, 'simCos': 0.508831639220016},\n",
       " {'userID': 12259, 'movieID': 9, 'simCos': 0.5189187753116914},\n",
       " {'userID': 12356, 'movieID': 9, 'simCos': 0.4732084855477417},\n",
       " {'userID': 12451, 'movieID': 9, 'simCos': 0.5249483262693942},\n",
       " {'userID': 12459, 'movieID': 9, 'simCos': 0.5083405391148241},\n",
       " {'userID': 12554, 'movieID': 9, 'simCos': 0.4814590006504149},\n",
       " {'userID': 12622, 'movieID': 9, 'simCos': 0.5421749995368685},\n",
       " {'userID': 12760, 'movieID': 9, 'simCos': 0.5114060479645268},\n",
       " {'userID': 12818, 'movieID': 9, 'simCos': 0.5261460950806349},\n",
       " {'userID': 12888, 'movieID': 9, 'simCos': 0.5872886070167819},\n",
       " {'userID': 12921, 'movieID': 9, 'simCos': 0.5423744537026233},\n",
       " {'userID': 13029, 'movieID': 9, 'simCos': 0.5183567785414801},\n",
       " {'userID': 13048, 'movieID': 9, 'simCos': 0.5124695467525667},\n",
       " {'userID': 13086, 'movieID': 9, 'simCos': 0.5332805204268827},\n",
       " {'userID': 13159, 'movieID': 9, 'simCos': 0.5648977418790189},\n",
       " {'userID': 13216, 'movieID': 9, 'simCos': 0.5217651075140163},\n",
       " {'userID': 13222, 'movieID': 9, 'simCos': 0.5408908495876364},\n",
       " {'userID': 13230, 'movieID': 9, 'simCos': 0.5760599404873313},\n",
       " {'userID': 13233, 'movieID': 9, 'simCos': 0.5963167074290242},\n",
       " {'userID': 13257, 'movieID': 9, 'simCos': 0.5221556465391061},\n",
       " {'userID': 13266, 'movieID': 9, 'simCos': 0.6152735103394452},\n",
       " {'userID': 13397, 'movieID': 9, 'simCos': 0.5265110060887773},\n",
       " {'userID': 13454, 'movieID': 9, 'simCos': 0.5222932573066168},\n",
       " {'userID': 13472, 'movieID': 9, 'simCos': 0.47795305206768157},\n",
       " {'userID': 13716, 'movieID': 9, 'simCos': 0.5036399465140122},\n",
       " {'userID': 13914, 'movieID': 9, 'simCos': 0.5203311618836016},\n",
       " {'userID': 13897, 'movieID': 9, 'simCos': 0.468639260207093},\n",
       " {'userID': 13970, 'movieID': 9, 'simCos': 0.5731489361086762},\n",
       " {'userID': 14099, 'movieID': 9, 'simCos': 0.5436350101100963},\n",
       " {'userID': 14246, 'movieID': 9, 'simCos': 0.4688224849708941},\n",
       " {'userID': 14421, 'movieID': 9, 'simCos': 0.5532943217866643},\n",
       " {'userID': 14531, 'movieID': 9, 'simCos': 0.5591254868231262},\n",
       " {'userID': 14709, 'movieID': 9, 'simCos': 0.652269614896031},\n",
       " {'userID': 14979, 'movieID': 9, 'simCos': 0.548758903563011},\n",
       " {'userID': 15061, 'movieID': 9, 'simCos': 0.4970401334516599},\n",
       " {'userID': 15157, 'movieID': 9, 'simCos': 0.5348928848863622},\n",
       " {'userID': 15168, 'movieID': 9, 'simCos': 0.49413284360582704},\n",
       " {'userID': 15436, 'movieID': 9, 'simCos': 0.5274210188585343},\n",
       " {'userID': 15715, 'movieID': 9, 'simCos': 0.5772973799948989},\n",
       " {'userID': 15780, 'movieID': 9, 'simCos': 0.49087411475521137},\n",
       " {'userID': 15811, 'movieID': 9, 'simCos': 0.5007980992411148},\n",
       " {'userID': 15853, 'movieID': 9, 'simCos': 0.507179842087872},\n",
       " {'userID': 15896, 'movieID': 9, 'simCos': 0.5847993946627604},\n",
       " {'userID': 15926, 'movieID': 9, 'simCos': 0.5884765667590283},\n",
       " {'userID': 15974, 'movieID': 9, 'simCos': 0.4910957647204649},\n",
       " {'userID': 16103, 'movieID': 9, 'simCos': 0.4883466834892471},\n",
       " {'userID': 16123, 'movieID': 9, 'simCos': 0.6120354336063458},\n",
       " {'userID': 16149, 'movieID': 9, 'simCos': 0.5138915260308038},\n",
       " {'userID': 16289, 'movieID': 9, 'simCos': 0.5790039246673173},\n",
       " {'userID': 16419, 'movieID': 9, 'simCos': 0.5143166965500066},\n",
       " {'userID': 16485, 'movieID': 9, 'simCos': 0.561411522385129},\n",
       " {'userID': 16574, 'movieID': 9, 'simCos': 0.4608536755621548},\n",
       " {'userID': 16591, 'movieID': 9, 'simCos': 0.5604000854131971},\n",
       " {'userID': 16610, 'movieID': 9, 'simCos': 0.5067152829384549},\n",
       " {'userID': 8282, 'movieID': 9, 'simCos': 0.5924748120301662},\n",
       " {'userID': 16850, 'movieID': 9, 'simCos': 0.45779291326255106},\n",
       " {'userID': 16862, 'movieID': 9, 'simCos': 0.5515454216618494},\n",
       " {'userID': 17260, 'movieID': 9, 'simCos': 0.43618085523475253},\n",
       " {'userID': 17312, 'movieID': 9, 'simCos': 0.5199731167818497},\n",
       " {'userID': 17461, 'movieID': 9, 'simCos': 0.6922804146677385},\n",
       " {'userID': 17647, 'movieID': 9, 'simCos': 0.557546597092502},\n",
       " {'userID': 17738, 'movieID': 9, 'simCos': 0.7084901349720274},\n",
       " {'userID': 17930, 'movieID': 9, 'simCos': 0.5229508519773203},\n",
       " {'userID': 18114, 'movieID': 9, 'simCos': 0.5023953882383883},\n",
       " {'userID': 18434, 'movieID': 9, 'simCos': 0.473370307864637},\n",
       " {'userID': 18461, 'movieID': 9, 'simCos': 0.5556635904245322},\n",
       " {'userID': 18510, 'movieID': 9, 'simCos': 0.525763261352245},\n",
       " {'userID': 18687, 'movieID': 9, 'simCos': 0.5164821533324171},\n",
       " {'userID': 18742, 'movieID': 9, 'simCos': 0.6315947443108967},\n",
       " {'userID': 18797, 'movieID': 9, 'simCos': 0.5283568675587821},\n",
       " {'userID': 19054, 'movieID': 9, 'simCos': 0.5696115437338403},\n",
       " {'userID': 19402, 'movieID': 9, 'simCos': 0.5413370661010015},\n",
       " {'userID': 19493, 'movieID': 9, 'simCos': 0.5823015236542752},\n",
       " {'userID': 19519, 'movieID': 9, 'simCos': 0.5013476506838281},\n",
       " {'userID': 19532, 'movieID': 9, 'simCos': 0.5348488828097442},\n",
       " {'userID': 19668, 'movieID': 9, 'simCos': 0.5443191086635023},\n",
       " {'userID': 19742, 'movieID': 9, 'simCos': 0.5060278602921842},\n",
       " {'userID': 19820, 'movieID': 9, 'simCos': 0.5253903194857957},\n",
       " {'userID': 19854, 'movieID': 9, 'simCos': 0.4686618307173379},\n",
       " {'userID': 19864, 'movieID': 9, 'simCos': 0.5163563681311247},\n",
       " {'userID': 19885, 'movieID': 9, 'simCos': 0.5358636404994254},\n",
       " {'userID': 19909, 'movieID': 9, 'simCos': 0.4466208352491306},\n",
       " {'userID': 19986, 'movieID': 9, 'simCos': 0.5160217837389381},\n",
       " {'userID': 20189, 'movieID': 9, 'simCos': 0.5830318139355964},\n",
       " {'userID': 20348, 'movieID': 9, 'simCos': 0.5159694699026706},\n",
       " {'userID': 20606, 'movieID': 9, 'simCos': 0.5187450440150204},\n",
       " {'userID': 20734, 'movieID': 9, 'simCos': 0.6162782547702002},\n",
       " {'userID': 20758, 'movieID': 9, 'simCos': 0.5136589185158736},\n",
       " {'userID': 21184, 'movieID': 9, 'simCos': 0.5623443718611126},\n",
       " {'userID': 21655, 'movieID': 9, 'simCos': 0.4950925464983769},\n",
       " {'userID': 22278, 'movieID': 9, 'simCos': 0.5412772423930154},\n",
       " {'userID': 22453, 'movieID': 9, 'simCos': 0.6212031321265489},\n",
       " {'userID': 22461, 'movieID': 9, 'simCos': 0.55153679777697},\n",
       " {'userID': 22701, 'movieID': 9, 'simCos': 0.5700884709026117},\n",
       " {'userID': 22798, 'movieID': 9, 'simCos': 0.5183051484407335},\n",
       " {'userID': 23561, 'movieID': 9, 'simCos': 0.5084546510277217},\n",
       " {'userID': 23647, 'movieID': 9, 'simCos': 0.4881904742865412},\n",
       " {'userID': 23717, 'movieID': 9, 'simCos': 0.4924888220756008},\n",
       " {'userID': 23850, 'movieID': 9, 'simCos': 0.5347002004756091},\n",
       " {'userID': 23865, 'movieID': 9, 'simCos': 0.6186137479706719},\n",
       " {'userID': 23910, 'movieID': 9, 'simCos': 0.5522397611607464},\n",
       " {'userID': 23953, 'movieID': 9, 'simCos': 0.48320839774610136},\n",
       " {'userID': 24014, 'movieID': 9, 'simCos': 0.5229323986321827},\n",
       " {'userID': 24039, 'movieID': 9, 'simCos': 0.43956206651605356},\n",
       " {'userID': 24132, 'movieID': 9, 'simCos': 0.43666583135188264},\n",
       " {'userID': 24263, 'movieID': 9, 'simCos': 0.5062422558374395},\n",
       " {'userID': 24423, 'movieID': 9, 'simCos': 0.5480622353543322},\n",
       " {'userID': 24476, 'movieID': 9, 'simCos': 0.5258049130669533},\n",
       " {'userID': 24573, 'movieID': 9, 'simCos': 0.4382580796330979},\n",
       " {'userID': 24592, 'movieID': 9, 'simCos': 0.5348177603452603},\n",
       " {'userID': 24708, 'movieID': 9, 'simCos': 0.5156091203028301},\n",
       " {'userID': 24885, 'movieID': 9, 'simCos': 0.5057675853377621},\n",
       " {'userID': 25097, 'movieID': 9, 'simCos': 0.6373399221805198},\n",
       " {'userID': 25248, 'movieID': 9, 'simCos': 0.5011826354694835},\n",
       " {'userID': 25388, 'movieID': 9, 'simCos': 0.4936690397969404},\n",
       " {'userID': 25730, 'movieID': 9, 'simCos': 0.5064370952946025},\n",
       " {'userID': 25913, 'movieID': 9, 'simCos': 0.5197141791269044},\n",
       " {'userID': 26243, 'movieID': 9, 'simCos': 0.5755951092151604},\n",
       " {'userID': 26356, 'movieID': 9, 'simCos': 0.4838574675892772},\n",
       " {'userID': 26589, 'movieID': 9, 'simCos': 0.5152513664831008},\n",
       " {'userID': 26733, 'movieID': 9, 'simCos': 0.6833360497632276},\n",
       " {'userID': 26873, 'movieID': 9, 'simCos': 0.5552379996041757},\n",
       " {'userID': 27115, 'movieID': 9, 'simCos': 0.5108459381783582},\n",
       " {'userID': 27164, 'movieID': 9, 'simCos': 0.5232274442549693},\n",
       " {'userID': 27238, 'movieID': 9, 'simCos': 0.5536947189108451},\n",
       " {'userID': 27297, 'movieID': 9, 'simCos': 0.5854800032831393},\n",
       " {'userID': 27350, 'movieID': 9, 'simCos': 0.5468703460980695},\n",
       " {'userID': 27620, 'movieID': 9, 'simCos': 0.5333537782069935},\n",
       " {'userID': 27648, 'movieID': 9, 'simCos': 0.4754411341161415},\n",
       " {'userID': 27778, 'movieID': 9, 'simCos': 0.5126811866023491},\n",
       " {'userID': 28039, 'movieID': 9, 'simCos': 0.49137536375363194},\n",
       " {'userID': 28048, 'movieID': 9, 'simCos': 0.5137433250081263},\n",
       " {'userID': 28292, 'movieID': 9, 'simCos': 0.465885222370098},\n",
       " {'userID': 28299, 'movieID': 9, 'simCos': 0.5222382113454281},\n",
       " {'userID': 28342, 'movieID': 9, 'simCos': 0.5596492365308413},\n",
       " {'userID': 28508, 'movieID': 9, 'simCos': 0.5034990169011738},\n",
       " {'userID': 28665, 'movieID': 9, 'simCos': 0.4342513710657974},\n",
       " {'userID': 28842, 'movieID': 9, 'simCos': 0.40265224564787827},\n",
       " {'userID': 28830, 'movieID': 9, 'simCos': 0.4502549684558457},\n",
       " {'userID': 29421, 'movieID': 9, 'simCos': 0.515066445736519},\n",
       " {'userID': 29435, 'movieID': 9, 'simCos': 0.44685318538714464},\n",
       " {'userID': 29501, 'movieID': 9, 'simCos': 0.49838808304146853},\n",
       " {'userID': 29508, 'movieID': 9, 'simCos': 0.46874730110843005},\n",
       " {'userID': 29538, 'movieID': 9, 'simCos': 0.44447298579061917},\n",
       " {'userID': 29616, 'movieID': 9, 'simCos': 0.44778031245108624},\n",
       " {'userID': 29658, 'movieID': 9, 'simCos': 0.5126176197486565},\n",
       " {'userID': 29948, 'movieID': 9, 'simCos': 0.4281940325053478},\n",
       " {'userID': 30465, 'movieID': 9, 'simCos': 0.44314262612220334},\n",
       " {'userID': 30490, 'movieID': 9, 'simCos': 0.5612936864850632},\n",
       " {'userID': 30687, 'movieID': 9, 'simCos': 0.5236278873278554},\n",
       " {'userID': 30836, 'movieID': 9, 'simCos': 0.4866202989170148},\n",
       " {'userID': 30879, 'movieID': 9, 'simCos': 0.48182283383614855},\n",
       " {'userID': 30886, 'movieID': 9, 'simCos': 0.495715192216572},\n",
       " {'userID': 30897, 'movieID': 9, 'simCos': 0.49943123555149116},\n",
       " {'userID': 30938, 'movieID': 9, 'simCos': 0.5309886153793709},\n",
       " {'userID': 31088, 'movieID': 9, 'simCos': 0.5586084805323381},\n",
       " {'userID': 31098, 'movieID': 9, 'simCos': 0.45049629952090214},\n",
       " {'userID': 31104, 'movieID': 9, 'simCos': 0.5104628797106787},\n",
       " {'userID': 31156, 'movieID': 9, 'simCos': 0.5883032068479819},\n",
       " {'userID': 31209, 'movieID': 9, 'simCos': 0.44411723712865947},\n",
       " {'userID': 31317, 'movieID': 9, 'simCos': 0.577181896835106},\n",
       " {'userID': 31523, 'movieID': 9, 'simCos': 0.4713234565567379},\n",
       " {'userID': 31789, 'movieID': 9, 'simCos': 0.53818801955975},\n",
       " {'userID': 31854, 'movieID': 9, 'simCos': 0.4702401251525999},\n",
       " {'userID': 31911, 'movieID': 9, 'simCos': 0.6321190756271179},\n",
       " {'userID': 31949, 'movieID': 9, 'simCos': 0.5357816885105958},\n",
       " {'userID': 32031, 'movieID': 9, 'simCos': 0.5386059507801216},\n",
       " {'userID': 32369, 'movieID': 9, 'simCos': 0.5508043481906756},\n",
       " {'userID': 32406, 'movieID': 9, 'simCos': 0.5020844325634536},\n",
       " {'userID': 32831, 'movieID': 9, 'simCos': 0.41170075318278393},\n",
       " {'userID': 33052, 'movieID': 9, 'simCos': 0.5455154785686847},\n",
       " {'userID': 33285, 'movieID': 9, 'simCos': 0.5210533636024809},\n",
       " {'userID': 33481, 'movieID': 9, 'simCos': 0.5925161904301111},\n",
       " {'userID': 33528, 'movieID': 9, 'simCos': 0.5018117744076253},\n",
       " {'userID': 33579, 'movieID': 9, 'simCos': 0.48178482471096273},\n",
       " {'userID': 33780, 'movieID': 9, 'simCos': 0.4962094407444921},\n",
       " {'userID': 33797, 'movieID': 9, 'simCos': 0.5697245562969684},\n",
       " {'userID': 34225, 'movieID': 9, 'simCos': 0.480703457986919},\n",
       " {'userID': 34405, 'movieID': 9, 'simCos': 0.5606516199012207},\n",
       " {'userID': 34671, 'movieID': 9, 'simCos': 0.4815284276653563},\n",
       " {'userID': 34680, 'movieID': 9, 'simCos': 0.488738314600015},\n",
       " {'userID': 34704, 'movieID': 9, 'simCos': 0.5725940829027497},\n",
       " {'userID': 34713, 'movieID': 9, 'simCos': 0.588973749798173},\n",
       " {'userID': 34796, 'movieID': 9, 'simCos': 0.47233275994035523},\n",
       " {'userID': 34958, 'movieID': 9, 'simCos': 0.49524295395996043},\n",
       " {'userID': 35002, 'movieID': 9, 'simCos': 0.5103181952466518},\n",
       " {'userID': 35051, 'movieID': 9, 'simCos': 0.5093485802362744},\n",
       " {'userID': 383, 'movieID': 9, 'simCos': 0.5511596718398643},\n",
       " {'userID': 35141, 'movieID': 9, 'simCos': 0.5698025032637388},\n",
       " {'userID': 35160, 'movieID': 9, 'simCos': 0.5323349100618364},\n",
       " {'userID': 35408, 'movieID': 9, 'simCos': 0.42763423074624446},\n",
       " {'userID': 35665, 'movieID': 9, 'simCos': 0.5240969713065328},\n",
       " {'userID': 35703, 'movieID': 9, 'simCos': 0.4824217478388619},\n",
       " {'userID': 36063, 'movieID': 9, 'simCos': 0.5132686494375319},\n",
       " {'userID': 36527, 'movieID': 9, 'simCos': 0.608136927036166},\n",
       " {'userID': 36655, 'movieID': 9, 'simCos': 0.5404889897240175},\n",
       " {'userID': 36719, 'movieID': 9, 'simCos': 0.5259999398018953},\n",
       " {'userID': 36802, 'movieID': 9, 'simCos': 0.5385183513145512},\n",
       " {'userID': 36937, 'movieID': 9, 'simCos': 0.5110330368885325},\n",
       " {'userID': 36969, 'movieID': 9, 'simCos': 0.48216009358568657},\n",
       " {'userID': 37195, 'movieID': 9, 'simCos': 0.45466121491219613},\n",
       " {'userID': 37216, 'movieID': 9, 'simCos': 0.5392389820470155},\n",
       " {'userID': 37225, 'movieID': 9, 'simCos': 0.5354635873909955},\n",
       " {'userID': 37321, 'movieID': 9, 'simCos': 0.5690562407845385},\n",
       " {'userID': 37713, 'movieID': 9, 'simCos': 0.469767304253131},\n",
       " {'userID': 37782, 'movieID': 9, 'simCos': 0.5208102780393542},\n",
       " {'userID': 37857, 'movieID': 9, 'simCos': 0.5433248950376607},\n",
       " {'userID': 38256, 'movieID': 9, 'simCos': 0.47780596917241247},\n",
       " {'userID': 38646, 'movieID': 9, 'simCos': 0.5633928826952137},\n",
       " {'userID': 38664, 'movieID': 9, 'simCos': 0.5102942541017981},\n",
       " {'userID': 38722, 'movieID': 9, 'simCos': 0.44635586393600835},\n",
       " {'userID': 38740, 'movieID': 9, 'simCos': 0.48584637877316994},\n",
       " {'userID': 39033, 'movieID': 9, 'simCos': 0.5739772237530805},\n",
       " {'userID': 39177, 'movieID': 9, 'simCos': 0.4978252326479637},\n",
       " {'userID': 39282, 'movieID': 9, 'simCos': 0.5031244419349264},\n",
       " {'userID': 39362, 'movieID': 9, 'simCos': 0.4563168838697884},\n",
       " {'userID': 39390, 'movieID': 9, 'simCos': 0.5083430990340398},\n",
       " {'userID': 39463, 'movieID': 9, 'simCos': 0.5299006461491605},\n",
       " {'userID': 39513, 'movieID': 9, 'simCos': 0.5079902886623209},\n",
       " {'userID': 39524, 'movieID': 9, 'simCos': 0.5351532013785654},\n",
       " {'userID': 39677, 'movieID': 9, 'simCos': 0.5379999351138176},\n",
       " {'userID': 39799, 'movieID': 9, 'simCos': 0.5156645246260082},\n",
       " {'userID': 40033, 'movieID': 9, 'simCos': 0.5691270211568777},\n",
       " {'userID': 40457, 'movieID': 9, 'simCos': 0.6346526393454442},\n",
       " {'userID': 40703, 'movieID': 9, 'simCos': 0.5570284738068643},\n",
       " {'userID': 40827, 'movieID': 9, 'simCos': 0.5139707551735925},\n",
       " {'userID': 41066, 'movieID': 9, 'simCos': 0.488622868161749},\n",
       " {'userID': 41103, 'movieID': 9, 'simCos': 0.5694474030810507},\n",
       " {'userID': 41468, 'movieID': 9, 'simCos': 0.5003121029375347},\n",
       " {'userID': 41726, 'movieID': 9, 'simCos': 0.4981369353348282},\n",
       " {'userID': 41859, 'movieID': 9, 'simCos': 0.5372839407067761},\n",
       " ...]"
      ]
     },
     "metadata": {},
     "execution_count": 465
    }
   ],
   "source": [
    "#df_profile_movieSelection\n",
    "dataset = pd.DataFrame(df_profile_movieSelection)"
   ]
  },
  {
   "cell_type": "code",
   "execution_count": null,
   "metadata": {},
   "outputs": [],
   "source": []
  }
 ],
 "metadata": {
  "kernelspec": {
   "name": "Python 3.7.5 64-bit ('base': conda)",
   "display_name": "Python 3.7.5 64-bit ('base': conda)",
   "metadata": {
    "interpreter": {
     "hash": "9a37e5188a605e95d3282a4fb8007f4c3c52885d8cd12f2ffcfc398feaa7ff36"
    }
   }
  },
  "language_info": {
   "codemirror_mode": {
    "name": "ipython",
    "version": 3
   },
   "file_extension": ".py",
   "mimetype": "text/x-python",
   "name": "python",
   "nbconvert_exporter": "python",
   "pygments_lexer": "ipython3",
   "version": "3.7.5-final"
  }
 },
 "nbformat": 4,
 "nbformat_minor": 4
}