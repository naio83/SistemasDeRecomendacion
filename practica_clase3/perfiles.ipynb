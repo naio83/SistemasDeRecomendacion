{
 "cells": [
  {
   "cell_type": "code",
   "execution_count": 3,
   "metadata": {},
   "outputs": [],
   "source": [
    "import pandas as pd\n",
    "import pandas_profiling\n",
    "import numpy as np\n",
    "import math\n",
    "import seaborn as sns\n",
    "import numpy as np\n",
    "from sklearn.linear_model import LinearRegression\n",
    "from sklearn import datasets\n",
    "from datetime import date, datetime\n",
    "from sklearn.metrics import mean_squared_error, r2_score\n",
    "from sklearn.model_selection import train_test_split\n",
    "from tqdm import tqdm, tqdm_notebook\n",
    "import matplotlib.pyplot as plt\n",
    "plt.style.use(\"seaborn\")\n",
    "sns.set(style=\"white\")"
   ]
  },
  {
   "source": [
    "## Perfil de peliculas y usuarios."
   ],
   "cell_type": "markdown",
   "metadata": {}
  },
  {
   "source": [
    "### Perfil de las peliculas segun su genero "
   ],
   "cell_type": "markdown",
   "metadata": {}
  },
  {
   "cell_type": "code",
   "execution_count": 10,
   "metadata": {},
   "outputs": [],
   "source": [
    "df_genres = pd.read_csv(\"./data/movie_genres.csv\")\n",
    "df_movies = pd.read_csv(\"./data/movies.csv\")\n",
    "df_ratings = pd.read_csv(\"./data/ratings_train.csv\")\n",
    "df_ratings_test = pd.read_csv(\"./data/ratings_test.csv\")"
   ]
  },
  {
   "cell_type": "code",
   "execution_count": 11,
   "metadata": {},
   "outputs": [
    {
     "output_type": "execute_result",
     "data": {
      "text/plain": [
       "array(['Adventure', 'Animation', 'Children', 'Comedy', 'Fantasy',\n",
       "       'Romance', 'Drama', 'Action', 'Crime', 'Thriller', 'Horror',\n",
       "       'Mystery', 'Sci-Fi', 'IMAX', 'Documentary', 'War', 'Musical',\n",
       "       'Film-Noir', 'Western', 'Short'], dtype=object)"
      ]
     },
     "metadata": {},
     "execution_count": 11
    }
   ],
   "source": [
    "#Generos para todas las peliculas\n",
    "df_genres[\"genre\"].unique()"
   ]
  },
  {
   "cell_type": "code",
   "execution_count": 12,
   "metadata": {},
   "outputs": [
    {
     "output_type": "execute_result",
     "data": {
      "text/plain": [
       "array([    6,     9,    10, ..., 64921, 64997, 64999])"
      ]
     },
     "metadata": {},
     "execution_count": 12
    }
   ],
   "source": [
    "# Localizo los IDs de las peliculas de Action\n",
    "mids = df_genres.loc[df_genres[\"genre\"]==\"Action\", \"movieID\"].unique()\n",
    "mids"
   ]
  },
  {
   "cell_type": "code",
   "execution_count": 13,
   "metadata": {},
   "outputs": [
    {
     "output_type": "execute_result",
     "data": {
      "text/plain": [
       "   id                        title  year  imdbID                         rtID  \\\n",
       "0   1                    Toy story  1995  114709                    toy_story   \n",
       "1   2                      Jumanji  1995  113497              1068044-jumanji   \n",
       "2   3               Grumpy Old Men  1993  107050               grumpy_old_men   \n",
       "3   4            Waiting to Exhale  1995  114885            waiting_to_exhale   \n",
       "4   5  Father of the Bride Part II  1995  113041  father_of_the_bride_part_ii   \n",
       "\n",
       "   Genre Action  \n",
       "0             0  \n",
       "1             0  \n",
       "2             0  \n",
       "3             0  \n",
       "4             0  "
      ],
      "text/html": "<div>\n<style scoped>\n    .dataframe tbody tr th:only-of-type {\n        vertical-align: middle;\n    }\n\n    .dataframe tbody tr th {\n        vertical-align: top;\n    }\n\n    .dataframe thead th {\n        text-align: right;\n    }\n</style>\n<table border=\"1\" class=\"dataframe\">\n  <thead>\n    <tr style=\"text-align: right;\">\n      <th></th>\n      <th>id</th>\n      <th>title</th>\n      <th>year</th>\n      <th>imdbID</th>\n      <th>rtID</th>\n      <th>Genre Action</th>\n    </tr>\n  </thead>\n  <tbody>\n    <tr>\n      <th>0</th>\n      <td>1</td>\n      <td>Toy story</td>\n      <td>1995</td>\n      <td>114709</td>\n      <td>toy_story</td>\n      <td>0</td>\n    </tr>\n    <tr>\n      <th>1</th>\n      <td>2</td>\n      <td>Jumanji</td>\n      <td>1995</td>\n      <td>113497</td>\n      <td>1068044-jumanji</td>\n      <td>0</td>\n    </tr>\n    <tr>\n      <th>2</th>\n      <td>3</td>\n      <td>Grumpy Old Men</td>\n      <td>1993</td>\n      <td>107050</td>\n      <td>grumpy_old_men</td>\n      <td>0</td>\n    </tr>\n    <tr>\n      <th>3</th>\n      <td>4</td>\n      <td>Waiting to Exhale</td>\n      <td>1995</td>\n      <td>114885</td>\n      <td>waiting_to_exhale</td>\n      <td>0</td>\n    </tr>\n    <tr>\n      <th>4</th>\n      <td>5</td>\n      <td>Father of the Bride Part II</td>\n      <td>1995</td>\n      <td>113041</td>\n      <td>father_of_the_bride_part_ii</td>\n      <td>0</td>\n    </tr>\n  </tbody>\n</table>\n</div>"
     },
     "metadata": {},
     "execution_count": 13
    }
   ],
   "source": [
    "# Agrego una columna donde me identifica cuales son de accion y cuales no\n",
    "df_movies[\"Genre Action\"] = df_movies[\"id\"].isin(mids).astype(\"int16\")\n",
    "df_movies.head()\n",
    "#df_movies[\"Genre Action\"].sum()"
   ]
  },
  {
   "cell_type": "code",
   "execution_count": 14,
   "metadata": {},
   "outputs": [
    {
     "output_type": "execute_result",
     "data": {
      "text/plain": [
       "   id                        title  year  imdbID                         rtID  \\\n",
       "0   1                    Toy story  1995  114709                    toy_story   \n",
       "1   2                      Jumanji  1995  113497              1068044-jumanji   \n",
       "2   3               Grumpy Old Men  1993  107050               grumpy_old_men   \n",
       "3   4            Waiting to Exhale  1995  114885            waiting_to_exhale   \n",
       "4   5  Father of the Bride Part II  1995  113041  father_of_the_bride_part_ii   \n",
       "\n",
       "   Genre Action  Genre Adventure  Genre Animation  Genre Children  \\\n",
       "0             0                1                1               1   \n",
       "1             0                1                0               1   \n",
       "2             0                0                0               0   \n",
       "3             0                0                0               0   \n",
       "4             0                0                0               0   \n",
       "\n",
       "   Genre Comedy  ...  Genre Horror  Genre Mystery  Genre Sci-Fi  Genre IMAX  \\\n",
       "0             1  ...             0              0             0           0   \n",
       "1             0  ...             0              0             0           0   \n",
       "2             1  ...             0              0             0           0   \n",
       "3             1  ...             0              0             0           0   \n",
       "4             1  ...             0              0             0           0   \n",
       "\n",
       "   Genre Documentary  Genre War  Genre Musical  Genre Film-Noir  \\\n",
       "0                  0          0              0                0   \n",
       "1                  0          0              0                0   \n",
       "2                  0          0              0                0   \n",
       "3                  0          0              0                0   \n",
       "4                  0          0              0                0   \n",
       "\n",
       "   Genre Western  Genre Short  \n",
       "0              0            0  \n",
       "1              0            0  \n",
       "2              0            0  \n",
       "3              0            0  \n",
       "4              0            0  \n",
       "\n",
       "[5 rows x 25 columns]"
      ],
      "text/html": "<div>\n<style scoped>\n    .dataframe tbody tr th:only-of-type {\n        vertical-align: middle;\n    }\n\n    .dataframe tbody tr th {\n        vertical-align: top;\n    }\n\n    .dataframe thead th {\n        text-align: right;\n    }\n</style>\n<table border=\"1\" class=\"dataframe\">\n  <thead>\n    <tr style=\"text-align: right;\">\n      <th></th>\n      <th>id</th>\n      <th>title</th>\n      <th>year</th>\n      <th>imdbID</th>\n      <th>rtID</th>\n      <th>Genre Action</th>\n      <th>Genre Adventure</th>\n      <th>Genre Animation</th>\n      <th>Genre Children</th>\n      <th>Genre Comedy</th>\n      <th>...</th>\n      <th>Genre Horror</th>\n      <th>Genre Mystery</th>\n      <th>Genre Sci-Fi</th>\n      <th>Genre IMAX</th>\n      <th>Genre Documentary</th>\n      <th>Genre War</th>\n      <th>Genre Musical</th>\n      <th>Genre Film-Noir</th>\n      <th>Genre Western</th>\n      <th>Genre Short</th>\n    </tr>\n  </thead>\n  <tbody>\n    <tr>\n      <th>0</th>\n      <td>1</td>\n      <td>Toy story</td>\n      <td>1995</td>\n      <td>114709</td>\n      <td>toy_story</td>\n      <td>0</td>\n      <td>1</td>\n      <td>1</td>\n      <td>1</td>\n      <td>1</td>\n      <td>...</td>\n      <td>0</td>\n      <td>0</td>\n      <td>0</td>\n      <td>0</td>\n      <td>0</td>\n      <td>0</td>\n      <td>0</td>\n      <td>0</td>\n      <td>0</td>\n      <td>0</td>\n    </tr>\n    <tr>\n      <th>1</th>\n      <td>2</td>\n      <td>Jumanji</td>\n      <td>1995</td>\n      <td>113497</td>\n      <td>1068044-jumanji</td>\n      <td>0</td>\n      <td>1</td>\n      <td>0</td>\n      <td>1</td>\n      <td>0</td>\n      <td>...</td>\n      <td>0</td>\n      <td>0</td>\n      <td>0</td>\n      <td>0</td>\n      <td>0</td>\n      <td>0</td>\n      <td>0</td>\n      <td>0</td>\n      <td>0</td>\n      <td>0</td>\n    </tr>\n    <tr>\n      <th>2</th>\n      <td>3</td>\n      <td>Grumpy Old Men</td>\n      <td>1993</td>\n      <td>107050</td>\n      <td>grumpy_old_men</td>\n      <td>0</td>\n      <td>0</td>\n      <td>0</td>\n      <td>0</td>\n      <td>1</td>\n      <td>...</td>\n      <td>0</td>\n      <td>0</td>\n      <td>0</td>\n      <td>0</td>\n      <td>0</td>\n      <td>0</td>\n      <td>0</td>\n      <td>0</td>\n      <td>0</td>\n      <td>0</td>\n    </tr>\n    <tr>\n      <th>3</th>\n      <td>4</td>\n      <td>Waiting to Exhale</td>\n      <td>1995</td>\n      <td>114885</td>\n      <td>waiting_to_exhale</td>\n      <td>0</td>\n      <td>0</td>\n      <td>0</td>\n      <td>0</td>\n      <td>1</td>\n      <td>...</td>\n      <td>0</td>\n      <td>0</td>\n      <td>0</td>\n      <td>0</td>\n      <td>0</td>\n      <td>0</td>\n      <td>0</td>\n      <td>0</td>\n      <td>0</td>\n      <td>0</td>\n    </tr>\n    <tr>\n      <th>4</th>\n      <td>5</td>\n      <td>Father of the Bride Part II</td>\n      <td>1995</td>\n      <td>113041</td>\n      <td>father_of_the_bride_part_ii</td>\n      <td>0</td>\n      <td>0</td>\n      <td>0</td>\n      <td>0</td>\n      <td>1</td>\n      <td>...</td>\n      <td>0</td>\n      <td>0</td>\n      <td>0</td>\n      <td>0</td>\n      <td>0</td>\n      <td>0</td>\n      <td>0</td>\n      <td>0</td>\n      <td>0</td>\n      <td>0</td>\n    </tr>\n  </tbody>\n</table>\n<p>5 rows × 25 columns</p>\n</div>"
     },
     "metadata": {},
     "execution_count": 14
    }
   ],
   "source": [
    "# Creo una matriz donde se agrego un flag \"1\" en cada genero del que la pelicula pertenece.\n",
    "# Perfil de la pelicula sobre el Genero\n",
    "for g in df_genres[\"genre\"].unique():\n",
    "    mids = df_genres.loc[df_genres[\"genre\"] == g, \"movieID\"].unique()\n",
    "    df_movies[\"Genre {}\".format(g)] = df_movies[\"id\"].isin(mids).astype(\"int16\")\n",
    "df_movies.head()\n",
    "# Podria ponderar por la cantidad de generos que tiene, si tiene 4 generos cada uno seria 0.25"
   ]
  },
  {
   "source": [
    "## Perfil de los usuarios"
   ],
   "cell_type": "markdown",
   "metadata": {}
  },
  {
   "cell_type": "code",
   "execution_count": 15,
   "metadata": {},
   "outputs": [
    {
     "output_type": "execute_result",
     "data": {
      "text/plain": [
       "   ID  userID  movieID  rating  date_day  date_month  date_year  date_hour  \\\n",
       "0   1   51198      608     5.0        17           9       1997         23   \n",
       "1   2   51198      141     4.0        17           9       1997         23   \n",
       "2   3   51198     1073     4.0        17           9       1997         23   \n",
       "3   4   51198      356     4.0        17           9       1997         23   \n",
       "4   5   51198     1198     5.0        17           9       1997         23   \n",
       "\n",
       "   date_minute  date_second  \n",
       "0           40           20  \n",
       "1           41           58  \n",
       "2           41            6  \n",
       "3           43           44  \n",
       "4           44           35  "
      ],
      "text/html": "<div>\n<style scoped>\n    .dataframe tbody tr th:only-of-type {\n        vertical-align: middle;\n    }\n\n    .dataframe tbody tr th {\n        vertical-align: top;\n    }\n\n    .dataframe thead th {\n        text-align: right;\n    }\n</style>\n<table border=\"1\" class=\"dataframe\">\n  <thead>\n    <tr style=\"text-align: right;\">\n      <th></th>\n      <th>ID</th>\n      <th>userID</th>\n      <th>movieID</th>\n      <th>rating</th>\n      <th>date_day</th>\n      <th>date_month</th>\n      <th>date_year</th>\n      <th>date_hour</th>\n      <th>date_minute</th>\n      <th>date_second</th>\n    </tr>\n  </thead>\n  <tbody>\n    <tr>\n      <th>0</th>\n      <td>1</td>\n      <td>51198</td>\n      <td>608</td>\n      <td>5.0</td>\n      <td>17</td>\n      <td>9</td>\n      <td>1997</td>\n      <td>23</td>\n      <td>40</td>\n      <td>20</td>\n    </tr>\n    <tr>\n      <th>1</th>\n      <td>2</td>\n      <td>51198</td>\n      <td>141</td>\n      <td>4.0</td>\n      <td>17</td>\n      <td>9</td>\n      <td>1997</td>\n      <td>23</td>\n      <td>41</td>\n      <td>58</td>\n    </tr>\n    <tr>\n      <th>2</th>\n      <td>3</td>\n      <td>51198</td>\n      <td>1073</td>\n      <td>4.0</td>\n      <td>17</td>\n      <td>9</td>\n      <td>1997</td>\n      <td>23</td>\n      <td>41</td>\n      <td>6</td>\n    </tr>\n    <tr>\n      <th>3</th>\n      <td>4</td>\n      <td>51198</td>\n      <td>356</td>\n      <td>4.0</td>\n      <td>17</td>\n      <td>9</td>\n      <td>1997</td>\n      <td>23</td>\n      <td>43</td>\n      <td>44</td>\n    </tr>\n    <tr>\n      <th>4</th>\n      <td>5</td>\n      <td>51198</td>\n      <td>1198</td>\n      <td>5.0</td>\n      <td>17</td>\n      <td>9</td>\n      <td>1997</td>\n      <td>23</td>\n      <td>44</td>\n      <td>35</td>\n    </tr>\n  </tbody>\n</table>\n</div>"
     },
     "metadata": {},
     "execution_count": 15
    }
   ],
   "source": [
    "df_ratings.head()"
   ]
  },
  {
   "cell_type": "code",
   "execution_count": 16,
   "metadata": {},
   "outputs": [
    {
     "output_type": "execute_result",
     "data": {
      "text/plain": [
       "array([51198, 29202, 32283, ..., 62354, 62394, 62847])"
      ]
     },
     "metadata": {},
     "execution_count": 16
    }
   ],
   "source": [
    "df_ratings[\"userID\"].unique()"
   ]
  },
  {
   "cell_type": "code",
   "execution_count": 17,
   "metadata": {},
   "outputs": [
    {
     "output_type": "execute_result",
     "data": {
      "text/plain": [
       "            ID  userID  movieID  rating  date_day  date_month  date_year  \\\n",
       "473065  525416      75     6225     0.5        29          10       2006   \n",
       "473056  525405      75        3     1.0        29          10       2006   \n",
       "473082  525436      75     3258     1.5        29          10       2006   \n",
       "473062  525411      75     2054     1.5        29          10       2006   \n",
       "473052  525401      75      160     2.0        29          10       2006   \n",
       "\n",
       "        date_hour  date_minute  date_second  \n",
       "473065         23           21           25  \n",
       "473056         23           17           16  \n",
       "473082         23           26            8  \n",
       "473062         23           17           33  \n",
       "473052         23           16           52  "
      ],
      "text/html": "<div>\n<style scoped>\n    .dataframe tbody tr th:only-of-type {\n        vertical-align: middle;\n    }\n\n    .dataframe tbody tr th {\n        vertical-align: top;\n    }\n\n    .dataframe thead th {\n        text-align: right;\n    }\n</style>\n<table border=\"1\" class=\"dataframe\">\n  <thead>\n    <tr style=\"text-align: right;\">\n      <th></th>\n      <th>ID</th>\n      <th>userID</th>\n      <th>movieID</th>\n      <th>rating</th>\n      <th>date_day</th>\n      <th>date_month</th>\n      <th>date_year</th>\n      <th>date_hour</th>\n      <th>date_minute</th>\n      <th>date_second</th>\n    </tr>\n  </thead>\n  <tbody>\n    <tr>\n      <th>473065</th>\n      <td>525416</td>\n      <td>75</td>\n      <td>6225</td>\n      <td>0.5</td>\n      <td>29</td>\n      <td>10</td>\n      <td>2006</td>\n      <td>23</td>\n      <td>21</td>\n      <td>25</td>\n    </tr>\n    <tr>\n      <th>473056</th>\n      <td>525405</td>\n      <td>75</td>\n      <td>3</td>\n      <td>1.0</td>\n      <td>29</td>\n      <td>10</td>\n      <td>2006</td>\n      <td>23</td>\n      <td>17</td>\n      <td>16</td>\n    </tr>\n    <tr>\n      <th>473082</th>\n      <td>525436</td>\n      <td>75</td>\n      <td>3258</td>\n      <td>1.5</td>\n      <td>29</td>\n      <td>10</td>\n      <td>2006</td>\n      <td>23</td>\n      <td>26</td>\n      <td>8</td>\n    </tr>\n    <tr>\n      <th>473062</th>\n      <td>525411</td>\n      <td>75</td>\n      <td>2054</td>\n      <td>1.5</td>\n      <td>29</td>\n      <td>10</td>\n      <td>2006</td>\n      <td>23</td>\n      <td>17</td>\n      <td>33</td>\n    </tr>\n    <tr>\n      <th>473052</th>\n      <td>525401</td>\n      <td>75</td>\n      <td>160</td>\n      <td>2.0</td>\n      <td>29</td>\n      <td>10</td>\n      <td>2006</td>\n      <td>23</td>\n      <td>16</td>\n      <td>52</td>\n    </tr>\n  </tbody>\n</table>\n</div>"
     },
     "metadata": {},
     "execution_count": 17
    }
   ],
   "source": [
    "# Voy a crea el perfil de un usuario\n",
    "USUARIO = 75\n",
    "df_ratings_usuario = df_ratings[df_ratings[\"userID\"] == USUARIO]\n",
    "df_ratings_usuario.sort_values(\"rating\").head()"
   ]
  },
  {
   "cell_type": "code",
   "execution_count": 18,
   "metadata": {},
   "outputs": [
    {
     "output_type": "execute_result",
     "data": {
      "text/plain": [
       "        ID  userID  movieID  rating  date_day  date_month  date_year  \\\n",
       "13  525416      75     6225     0.5        29          10       2006   \n",
       "4   525405      75        3     1.0        29          10       2006   \n",
       "28  525436      75     3258     1.5        29          10       2006   \n",
       "10  525411      75     2054     1.5        29          10       2006   \n",
       "0   525401      75      160     2.0        29          10       2006   \n",
       "\n",
       "    date_hour  date_minute  date_second  ...  Genre Horror Genre Mystery  \\\n",
       "13         23           21           25  ...             0             0   \n",
       "4          23           17           16  ...             0             0   \n",
       "28         23           26            8  ...             0             0   \n",
       "10         23           17           33  ...             0             0   \n",
       "0          23           16           52  ...             0             1   \n",
       "\n",
       "    Genre Sci-Fi  Genre IMAX Genre Documentary  Genre War  Genre Musical  \\\n",
       "13             0           0                 0          0              0   \n",
       "4              0           0                 0          0              0   \n",
       "28             0           0                 0          0              0   \n",
       "10             1           0                 0          0              0   \n",
       "0              1           0                 0          0              0   \n",
       "\n",
       "    Genre Film-Noir  Genre Western  Genre Short  \n",
       "13                0              0            0  \n",
       "4                 0              0            0  \n",
       "28                0              0            0  \n",
       "10                0              0            0  \n",
       "0                 0              0            0  \n",
       "\n",
       "[5 rows x 35 columns]"
      ],
      "text/html": "<div>\n<style scoped>\n    .dataframe tbody tr th:only-of-type {\n        vertical-align: middle;\n    }\n\n    .dataframe tbody tr th {\n        vertical-align: top;\n    }\n\n    .dataframe thead th {\n        text-align: right;\n    }\n</style>\n<table border=\"1\" class=\"dataframe\">\n  <thead>\n    <tr style=\"text-align: right;\">\n      <th></th>\n      <th>ID</th>\n      <th>userID</th>\n      <th>movieID</th>\n      <th>rating</th>\n      <th>date_day</th>\n      <th>date_month</th>\n      <th>date_year</th>\n      <th>date_hour</th>\n      <th>date_minute</th>\n      <th>date_second</th>\n      <th>...</th>\n      <th>Genre Horror</th>\n      <th>Genre Mystery</th>\n      <th>Genre Sci-Fi</th>\n      <th>Genre IMAX</th>\n      <th>Genre Documentary</th>\n      <th>Genre War</th>\n      <th>Genre Musical</th>\n      <th>Genre Film-Noir</th>\n      <th>Genre Western</th>\n      <th>Genre Short</th>\n    </tr>\n  </thead>\n  <tbody>\n    <tr>\n      <th>13</th>\n      <td>525416</td>\n      <td>75</td>\n      <td>6225</td>\n      <td>0.5</td>\n      <td>29</td>\n      <td>10</td>\n      <td>2006</td>\n      <td>23</td>\n      <td>21</td>\n      <td>25</td>\n      <td>...</td>\n      <td>0</td>\n      <td>0</td>\n      <td>0</td>\n      <td>0</td>\n      <td>0</td>\n      <td>0</td>\n      <td>0</td>\n      <td>0</td>\n      <td>0</td>\n      <td>0</td>\n    </tr>\n    <tr>\n      <th>4</th>\n      <td>525405</td>\n      <td>75</td>\n      <td>3</td>\n      <td>1.0</td>\n      <td>29</td>\n      <td>10</td>\n      <td>2006</td>\n      <td>23</td>\n      <td>17</td>\n      <td>16</td>\n      <td>...</td>\n      <td>0</td>\n      <td>0</td>\n      <td>0</td>\n      <td>0</td>\n      <td>0</td>\n      <td>0</td>\n      <td>0</td>\n      <td>0</td>\n      <td>0</td>\n      <td>0</td>\n    </tr>\n    <tr>\n      <th>28</th>\n      <td>525436</td>\n      <td>75</td>\n      <td>3258</td>\n      <td>1.5</td>\n      <td>29</td>\n      <td>10</td>\n      <td>2006</td>\n      <td>23</td>\n      <td>26</td>\n      <td>8</td>\n      <td>...</td>\n      <td>0</td>\n      <td>0</td>\n      <td>0</td>\n      <td>0</td>\n      <td>0</td>\n      <td>0</td>\n      <td>0</td>\n      <td>0</td>\n      <td>0</td>\n      <td>0</td>\n    </tr>\n    <tr>\n      <th>10</th>\n      <td>525411</td>\n      <td>75</td>\n      <td>2054</td>\n      <td>1.5</td>\n      <td>29</td>\n      <td>10</td>\n      <td>2006</td>\n      <td>23</td>\n      <td>17</td>\n      <td>33</td>\n      <td>...</td>\n      <td>0</td>\n      <td>0</td>\n      <td>1</td>\n      <td>0</td>\n      <td>0</td>\n      <td>0</td>\n      <td>0</td>\n      <td>0</td>\n      <td>0</td>\n      <td>0</td>\n    </tr>\n    <tr>\n      <th>0</th>\n      <td>525401</td>\n      <td>75</td>\n      <td>160</td>\n      <td>2.0</td>\n      <td>29</td>\n      <td>10</td>\n      <td>2006</td>\n      <td>23</td>\n      <td>16</td>\n      <td>52</td>\n      <td>...</td>\n      <td>0</td>\n      <td>1</td>\n      <td>1</td>\n      <td>0</td>\n      <td>0</td>\n      <td>0</td>\n      <td>0</td>\n      <td>0</td>\n      <td>0</td>\n      <td>0</td>\n    </tr>\n  </tbody>\n</table>\n<p>5 rows × 35 columns</p>\n</div>"
     },
     "metadata": {},
     "execution_count": 18
    }
   ],
   "source": [
    "# Ahora lo que busco es condensar sus gustos de pelicula por los generos.\n",
    "# Mergeo al rating de un usuario el perfil de cada pelicula\n",
    "df_ratings_usuario = df_ratings[df_ratings[\"userID\"] == USUARIO].merge(df_movies, left_on=\"movieID\", right_on=\"id\")\n",
    "df_ratings_usuario.sort_values(\"rating\").head()"
   ]
  },
  {
   "source": [
    "### Ahora lo que busco es agrupar toda esta tabla en una sola lista, donde pueda sumar los generos para tener para un solo usuario el perfil completo."
   ],
   "cell_type": "markdown",
   "metadata": {}
  },
  {
   "cell_type": "code",
   "execution_count": 19,
   "metadata": {},
   "outputs": [
    {
     "output_type": "execute_result",
     "data": {
      "text/plain": [
       "(0.7333333333333333, 0.3111111111111111, 0.3333333333333333)"
      ]
     },
     "metadata": {},
     "execution_count": 19
    }
   ],
   "source": [
    "# Veo para el usuario 75 que porcentaje tiene sobre los generos Action, Comedy y Drama de las peliculas que opino.\n",
    "df_ratings_usuario[\"Genre Action\"].mean(), df_ratings_usuario[\"Genre Comedy\"].mean(), df_ratings_usuario[\"Genre Drama\"].mean()"
   ]
  },
  {
   "cell_type": "code",
   "execution_count": 20,
   "metadata": {},
   "outputs": [
    {
     "output_type": "execute_result",
     "data": {
      "text/plain": [
       "2.6666666666666665"
      ]
     },
     "metadata": {},
     "execution_count": 20
    }
   ],
   "source": [
    "# Una mejor manera de ranquear, es tomar el minimo y el maximo raking que el usuario puso y no el 1-5 que es el estandar. Si un usuario siempre vota de 3-5, entonces se usa esa base.\n",
    "\n",
    "(df_ratings_usuario[\"Genre Action\"] * df_ratings_usuario[\"rating\"]).mean()\n"
   ]
  },
  {
   "cell_type": "code",
   "execution_count": 21,
   "metadata": {},
   "outputs": [
    {
     "output_type": "execute_result",
     "data": {
      "text/plain": [
       "(0.7272727272727273, 0.7533333333333333, 0.6357142857142857)"
      ]
     },
     "metadata": {},
     "execution_count": 21
    }
   ],
   "source": [
    "# Si saco la media, me da CERO en los que no tiene accion y un numero de votacion sobre los que si tenian accion. Idealmente no deberia contar los CEROs.\n",
    "# Lo Normalizo por la cantidad de votaciones posibles\n",
    "df_ratings_usuario.loc[df_ratings_usuario[\"Genre Action\"]==1, \"rating\"].mean() / 5.0, df_ratings_usuario.loc[df_ratings_usuario[\"Genre Drama\"]==1, \"rating\"].mean() / 5.0, df_ratings_usuario.loc[df_ratings_usuario[\"Genre Comedy\"]==1, \"rating\"].mean() / 5.0"
   ]
  },
  {
   "source": [
    "### Esto va generado varios vectores entre CERO y UNO y el vector del usuario. Luego deberia buscar cual es el vector mas cercano."
   ],
   "cell_type": "markdown",
   "metadata": {}
  },
  {
   "cell_type": "code",
   "execution_count": 22,
   "metadata": {},
   "outputs": [
    {
     "output_type": "stream",
     "name": "stdout",
     "text": [
      "{'Genre Action': [0.7272727272727273], 'Genre Adventure': [0.6571428571428571], 'Genre Animation': [0.9], 'Genre Children': [0.3], 'Genre Comedy': [0.6357142857142857], 'Genre Fantasy': [0.625], 'Genre Romance': [0.5], 'Genre Drama': [0.7533333333333333], 'Genre Crime': [0.8300000000000001], 'Genre Thriller': [0.7761904761904762], 'Genre Horror': [0.7], 'Genre Mystery': [0.55], 'Genre Sci-Fi': [0.6538461538461539], 'Genre IMAX': [nan], 'Genre Documentary': [nan], 'Genre War': [0.7333333333333333], 'Genre Musical': [0.9], 'Genre Film-Noir': [nan], 'Genre Western': [0.5], 'Genre Short': [nan]}\n"
     ]
    }
   ],
   "source": [
    "# Perfil del USER 75, la idea es generar el perfil para los usuarios.\n",
    "# Creo PERFIL como diccionario\n",
    "PERFIL ={}\n",
    "for c in df_ratings_usuario.columns:\n",
    "    # Me quedo solo con las columnas que empiezan con GENRE \n",
    "    if not c.startswith(\"Genre\"):\n",
    "       continue\n",
    "\n",
    "    PERFIL[c] = [df_ratings_usuario.loc[df_ratings_usuario[c]==1, \"rating\"].mean() / 5.0]\n",
    "\n",
    "print(PERFIL)\n",
    "\n"
   ]
  },
  {
   "cell_type": "code",
   "execution_count": 23,
   "metadata": {},
   "outputs": [
    {
     "output_type": "execute_result",
     "data": {
      "text/plain": [
       "   Genre Action  Genre Adventure  Genre Animation  Genre Children  \\\n",
       "0      0.727273         0.657143              0.9             0.3   \n",
       "\n",
       "   Genre Comedy  Genre Fantasy  Genre Romance  Genre Drama  Genre Crime  \\\n",
       "0      0.635714          0.625            0.5     0.753333         0.83   \n",
       "\n",
       "   Genre Thriller  Genre Horror  Genre Mystery  Genre Sci-Fi  Genre IMAX  \\\n",
       "0         0.77619           0.7           0.55      0.653846         0.0   \n",
       "\n",
       "   Genre Documentary  Genre War  Genre Musical  Genre Film-Noir  \\\n",
       "0                0.0   0.733333            0.9              0.0   \n",
       "\n",
       "   Genre Western  Genre Short  \n",
       "0            0.5          0.0  "
      ],
      "text/html": "<div>\n<style scoped>\n    .dataframe tbody tr th:only-of-type {\n        vertical-align: middle;\n    }\n\n    .dataframe tbody tr th {\n        vertical-align: top;\n    }\n\n    .dataframe thead th {\n        text-align: right;\n    }\n</style>\n<table border=\"1\" class=\"dataframe\">\n  <thead>\n    <tr style=\"text-align: right;\">\n      <th></th>\n      <th>Genre Action</th>\n      <th>Genre Adventure</th>\n      <th>Genre Animation</th>\n      <th>Genre Children</th>\n      <th>Genre Comedy</th>\n      <th>Genre Fantasy</th>\n      <th>Genre Romance</th>\n      <th>Genre Drama</th>\n      <th>Genre Crime</th>\n      <th>Genre Thriller</th>\n      <th>Genre Horror</th>\n      <th>Genre Mystery</th>\n      <th>Genre Sci-Fi</th>\n      <th>Genre IMAX</th>\n      <th>Genre Documentary</th>\n      <th>Genre War</th>\n      <th>Genre Musical</th>\n      <th>Genre Film-Noir</th>\n      <th>Genre Western</th>\n      <th>Genre Short</th>\n    </tr>\n  </thead>\n  <tbody>\n    <tr>\n      <th>0</th>\n      <td>0.727273</td>\n      <td>0.657143</td>\n      <td>0.9</td>\n      <td>0.3</td>\n      <td>0.635714</td>\n      <td>0.625</td>\n      <td>0.5</td>\n      <td>0.753333</td>\n      <td>0.83</td>\n      <td>0.77619</td>\n      <td>0.7</td>\n      <td>0.55</td>\n      <td>0.653846</td>\n      <td>0.0</td>\n      <td>0.0</td>\n      <td>0.733333</td>\n      <td>0.9</td>\n      <td>0.0</td>\n      <td>0.5</td>\n      <td>0.0</td>\n    </tr>\n  </tbody>\n</table>\n</div>"
     },
     "metadata": {},
     "execution_count": 23
    }
   ],
   "source": [
    "# Lo convierto en un DataFrame\n",
    "# fillna(0) me llena los nan como CERO\n",
    "df_perfil = pd.DataFrame.from_dict(PERFIL).fillna(0)\n",
    "df_perfil"
   ]
  },
  {
   "source": [
    "### Este es el perfil del usuario 75, e informa segun lo que califico cuales son los generos que estan mas cerca de su gusto.\n",
    "### Ahora lo que busco es cuales son las peliculas que estan mas cerca de este usuario usando la Similitud Coseno (1 es super similar)"
   ],
   "cell_type": "markdown",
   "metadata": {}
  },
  {
   "cell_type": "code",
   "execution_count": 24,
   "metadata": {},
   "outputs": [],
   "source": [
    "# Agarro una pelicula cualquier y me fijo que tan cerca o lejos esta de su perfil.\n",
    "MOVIE = 65088\n",
    "movie = df_movies.query(f\"id=={MOVIE}\")\n",
    "columnas_genero = [c for c in df_movies.columns if c.startswith(\"Genre\")]\n",
    "A = movie[columnas_genero].values[0]\n",
    "B = df_perfil[columnas_genero].values[0]\n",
    "# A es la pelicula y B es el perfil del usuario"
   ]
  },
  {
   "cell_type": "code",
   "execution_count": 25,
   "metadata": {},
   "outputs": [
    {
     "output_type": "execute_result",
     "data": {
      "text/plain": [
       "0.33397865808365"
      ]
     },
     "metadata": {},
     "execution_count": 25
    }
   ],
   "source": [
    "# El perfil\n",
    "# Similaridad Coseno, mientras mas cerca del 1 mejor\n",
    "np.dot(A,B) / (np.linalg.norm(A) * np.linalg.norm(B))"
   ]
  },
  {
   "cell_type": "code",
   "execution_count": 26,
   "metadata": {},
   "outputs": [
    {
     "output_type": "display_data",
     "data": {
      "text/plain": "HBox(children=(FloatProgress(value=1.0, bar_style='info', max=1.0), HTML(value='')))",
      "application/vnd.jupyter.widget-view+json": {
       "version_major": 2,
       "version_minor": 0,
       "model_id": "3066e748371644c0a476fac514b11b12"
      }
     },
     "metadata": {}
    },
    {
     "output_type": "stream",
     "name": "stdout",
     "text": [
      "\n"
     ]
    }
   ],
   "source": [
    "# Ahora busco hacerlo para todas las peliculas\n",
    "\n",
    "columnas_genero = [c for c in df_movies.columns if c.startswith(\"Genre\")]\n",
    "B = df_perfil[columnas_genero].values[0]\n",
    "\n",
    "for index, row in tqdm_notebook(df_movies.iterrows()):    \n",
    "    movie = df_movies.query(\"id == {}\".format(row[\"id\"]))\n",
    "\n",
    "    A = movie[columnas_genero].values[0]\n",
    "    #print(row[\"id\"], np.dot(A, B) / (np.linalg.norm(A) * np.linalg.norm(B)))\n",
    "\n",
    "#0.49472772819267147 * 5.0\n",
    "# Si tomo el mayor y lo multiplico por 5, eso me da el rating.\n",
    "\n",
    "# Tambien podria tomar las 5 con mayor rating y podria decir que esas son las 5 que mas le deberian gustar.\n",
    "# No deberia mostrarle peliculas que YA vio, porque esas podrian ser muy cercanas.\n",
    "# Esta tecnica me permite con 1 sola pelicula, ya empezar a recomendarle peliculas similares."
   ]
  },
  {
   "cell_type": "code",
   "execution_count": 26,
   "metadata": {},
   "outputs": [],
   "source": [
    "# Con el pais podria hacer algo similar y decir para cada usuario que pais de pelicula prefiere. Pero quizas no haya que hacer * 5.0?\n",
    "# Podria pondear los generos por 0.6 y los paises por 0.4 ...\n",
    "# Como reflejar en el perfil del usuario que prefiere peliculas a partir del año 2000?\n",
    "# Se podrian hacer bines por decadas. Agregar el año en el perfil, etc. \n",
    "# (año- minimoAño / maximoAño - minimoAños) los paso a CERO y UNO, y mutiplico año contra año.\n",
    "# Podria incluir\n",
    "# Año, directores, actores, paises, etc."
   ]
  },
  {
   "source": [
    "## Calculo para todos los usuarios"
   ],
   "cell_type": "markdown",
   "metadata": {}
  },
  {
   "cell_type": "code",
   "execution_count": 27,
   "metadata": {},
   "outputs": [
    {
     "output_type": "execute_result",
     "data": {
      "text/plain": [
       "   id                        title  year  imdbID                         rtID  \\\n",
       "0   1                    Toy story  1995  114709                    toy_story   \n",
       "1   2                      Jumanji  1995  113497              1068044-jumanji   \n",
       "2   3               Grumpy Old Men  1993  107050               grumpy_old_men   \n",
       "3   4            Waiting to Exhale  1995  114885            waiting_to_exhale   \n",
       "4   5  Father of the Bride Part II  1995  113041  father_of_the_bride_part_ii   \n",
       "\n",
       "   Genre Action  Genre Adventure  Genre Animation  Genre Children  \\\n",
       "0             0                1                1               1   \n",
       "1             0                1                0               1   \n",
       "2             0                0                0               0   \n",
       "3             0                0                0               0   \n",
       "4             0                0                0               0   \n",
       "\n",
       "   Genre Comedy  ...  Genre Horror  Genre Mystery  Genre Sci-Fi  Genre IMAX  \\\n",
       "0             1  ...             0              0             0           0   \n",
       "1             0  ...             0              0             0           0   \n",
       "2             1  ...             0              0             0           0   \n",
       "3             1  ...             0              0             0           0   \n",
       "4             1  ...             0              0             0           0   \n",
       "\n",
       "   Genre Documentary  Genre War  Genre Musical  Genre Film-Noir  \\\n",
       "0                  0          0              0                0   \n",
       "1                  0          0              0                0   \n",
       "2                  0          0              0                0   \n",
       "3                  0          0              0                0   \n",
       "4                  0          0              0                0   \n",
       "\n",
       "   Genre Western  Genre Short  \n",
       "0              0            0  \n",
       "1              0            0  \n",
       "2              0            0  \n",
       "3              0            0  \n",
       "4              0            0  \n",
       "\n",
       "[5 rows x 25 columns]"
      ],
      "text/html": "<div>\n<style scoped>\n    .dataframe tbody tr th:only-of-type {\n        vertical-align: middle;\n    }\n\n    .dataframe tbody tr th {\n        vertical-align: top;\n    }\n\n    .dataframe thead th {\n        text-align: right;\n    }\n</style>\n<table border=\"1\" class=\"dataframe\">\n  <thead>\n    <tr style=\"text-align: right;\">\n      <th></th>\n      <th>id</th>\n      <th>title</th>\n      <th>year</th>\n      <th>imdbID</th>\n      <th>rtID</th>\n      <th>Genre Action</th>\n      <th>Genre Adventure</th>\n      <th>Genre Animation</th>\n      <th>Genre Children</th>\n      <th>Genre Comedy</th>\n      <th>...</th>\n      <th>Genre Horror</th>\n      <th>Genre Mystery</th>\n      <th>Genre Sci-Fi</th>\n      <th>Genre IMAX</th>\n      <th>Genre Documentary</th>\n      <th>Genre War</th>\n      <th>Genre Musical</th>\n      <th>Genre Film-Noir</th>\n      <th>Genre Western</th>\n      <th>Genre Short</th>\n    </tr>\n  </thead>\n  <tbody>\n    <tr>\n      <th>0</th>\n      <td>1</td>\n      <td>Toy story</td>\n      <td>1995</td>\n      <td>114709</td>\n      <td>toy_story</td>\n      <td>0</td>\n      <td>1</td>\n      <td>1</td>\n      <td>1</td>\n      <td>1</td>\n      <td>...</td>\n      <td>0</td>\n      <td>0</td>\n      <td>0</td>\n      <td>0</td>\n      <td>0</td>\n      <td>0</td>\n      <td>0</td>\n      <td>0</td>\n      <td>0</td>\n      <td>0</td>\n    </tr>\n    <tr>\n      <th>1</th>\n      <td>2</td>\n      <td>Jumanji</td>\n      <td>1995</td>\n      <td>113497</td>\n      <td>1068044-jumanji</td>\n      <td>0</td>\n      <td>1</td>\n      <td>0</td>\n      <td>1</td>\n      <td>0</td>\n      <td>...</td>\n      <td>0</td>\n      <td>0</td>\n      <td>0</td>\n      <td>0</td>\n      <td>0</td>\n      <td>0</td>\n      <td>0</td>\n      <td>0</td>\n      <td>0</td>\n      <td>0</td>\n    </tr>\n    <tr>\n      <th>2</th>\n      <td>3</td>\n      <td>Grumpy Old Men</td>\n      <td>1993</td>\n      <td>107050</td>\n      <td>grumpy_old_men</td>\n      <td>0</td>\n      <td>0</td>\n      <td>0</td>\n      <td>0</td>\n      <td>1</td>\n      <td>...</td>\n      <td>0</td>\n      <td>0</td>\n      <td>0</td>\n      <td>0</td>\n      <td>0</td>\n      <td>0</td>\n      <td>0</td>\n      <td>0</td>\n      <td>0</td>\n      <td>0</td>\n    </tr>\n    <tr>\n      <th>3</th>\n      <td>4</td>\n      <td>Waiting to Exhale</td>\n      <td>1995</td>\n      <td>114885</td>\n      <td>waiting_to_exhale</td>\n      <td>0</td>\n      <td>0</td>\n      <td>0</td>\n      <td>0</td>\n      <td>1</td>\n      <td>...</td>\n      <td>0</td>\n      <td>0</td>\n      <td>0</td>\n      <td>0</td>\n      <td>0</td>\n      <td>0</td>\n      <td>0</td>\n      <td>0</td>\n      <td>0</td>\n      <td>0</td>\n    </tr>\n    <tr>\n      <th>4</th>\n      <td>5</td>\n      <td>Father of the Bride Part II</td>\n      <td>1995</td>\n      <td>113041</td>\n      <td>father_of_the_bride_part_ii</td>\n      <td>0</td>\n      <td>0</td>\n      <td>0</td>\n      <td>0</td>\n      <td>1</td>\n      <td>...</td>\n      <td>0</td>\n      <td>0</td>\n      <td>0</td>\n      <td>0</td>\n      <td>0</td>\n      <td>0</td>\n      <td>0</td>\n      <td>0</td>\n      <td>0</td>\n      <td>0</td>\n    </tr>\n  </tbody>\n</table>\n<p>5 rows × 25 columns</p>\n</div>"
     },
     "metadata": {},
     "execution_count": 27
    }
   ],
   "source": [
    "df_movies.head()"
   ]
  },
  {
   "cell_type": "code",
   "execution_count": 28,
   "metadata": {},
   "outputs": [
    {
     "output_type": "execute_result",
     "data": {
      "text/plain": [
       "array([51198, 29202, 32283, ..., 62354, 62394, 62847])"
      ]
     },
     "metadata": {},
     "execution_count": 28
    }
   ],
   "source": [
    "df_ratings[\"userID\"].unique()"
   ]
  },
  {
   "cell_type": "code",
   "execution_count": 29,
   "metadata": {},
   "outputs": [],
   "source": [
    "def perfil_por_usuario(USUARIO):\n",
    "\n",
    "    # Voy a crea el perfil de un usuario\n",
    "    df_ratings_generic = df_ratings[df_ratings[\"userID\"] == USUARIO]\n",
    "    df_ratings_generic.sort_values(\"rating\").head()\n",
    "    # Ahora lo que busco es condensar sus gustos de pelicula por los generos.\n",
    "    # Mergeo al rating de un usuario el perfil de cada pelicula\n",
    "    df_ratings_generic = df_ratings[df_ratings[\"userID\"] == USUARIO].merge(df_movies, left_on=\"movieID\", right_on=\"id\")\n",
    "    df_ratings_generic.sort_values(\"rating\").head()\n",
    "\n",
    "    # Perfil del USER 29202, la idea es generar el perfil para los usuarios.\n",
    "    # Creo PERFIL como diccionario\n",
    "    PERFIL ={}\n",
    "    for c in df_ratings_generic.columns:\n",
    "        # Me quedo solo con las columnas que empiezan con GENRE \n",
    "        if  c.startswith(\"userID\"):\n",
    "           PERFIL[c] = [USUARIO] \n",
    "        #if not c.startswith((\"Genre\", \"userID\")):\n",
    "        if not c.startswith(\"Genre\"):\n",
    "            continue\n",
    "        PERFIL[c] = [df_ratings_generic.loc[df_ratings_generic[c]==1, \"rating\"].mean() / 5.0]\n",
    "\n",
    "\n",
    "    #print(PERFIL)\n",
    "    return PERFIL"
   ]
  },
  {
   "cell_type": "code",
   "execution_count": 30,
   "metadata": {},
   "outputs": [
    {
     "output_type": "execute_result",
     "data": {
      "text/plain": [
       "{'userID': [29202],\n",
       " 'Genre Action': [0.5125],\n",
       " 'Genre Adventure': [0.5031818181818182],\n",
       " 'Genre Animation': [0.4470588235294118],\n",
       " 'Genre Children': [0.4333333333333333],\n",
       " 'Genre Comedy': [0.4436131386861314],\n",
       " 'Genre Fantasy': [0.492741935483871],\n",
       " 'Genre Romance': [0.5364077669902912],\n",
       " 'Genre Drama': [0.5667250437828371],\n",
       " 'Genre Crime': [0.5349112426035503],\n",
       " 'Genre Thriller': [0.5311797752808989],\n",
       " 'Genre Horror': [0.4645161290322581],\n",
       " 'Genre Mystery': [0.54875],\n",
       " 'Genre Sci-Fi': [0.5093567251461988],\n",
       " 'Genre IMAX': [0.6],\n",
       " 'Genre Documentary': [0.6533333333333333],\n",
       " 'Genre War': [0.5755555555555556],\n",
       " 'Genre Musical': [0.5045454545454546],\n",
       " 'Genre Film-Noir': [0.4428571428571429],\n",
       " 'Genre Western': [0.5565217391304348],\n",
       " 'Genre Short': [nan]}"
      ]
     },
     "metadata": {},
     "execution_count": 30
    }
   ],
   "source": [
    "df_perfil_full=None\n",
    "USUARIO = 29202\n",
    "perfil_por_usuario(USUARIO)\n",
    "\n",
    "\n",
    "# Lo convierto en un DataFrame\n",
    "# fillna(0) me llena los nan como CERO\n",
    "#df_perfil = pd.DataFrame.from_dict(PERFIL).fillna(0)\n",
    "#df_perfil.insert(0,'userID',USUARIO)\n"
   ]
  },
  {
   "cell_type": "code",
   "execution_count": 31,
   "metadata": {},
   "outputs": [
    {
     "output_type": "execute_result",
     "data": {
      "text/plain": [
       "array([51198, 29202, 32283, ..., 62354, 62394, 62847])"
      ]
     },
     "metadata": {},
     "execution_count": 31
    }
   ],
   "source": [
    "IDs = ['29202','75','62354']\n",
    "df_addoc = df_ratings.loc[df_ratings[\"userID\"].isin(IDs)]\n",
    "df_addoc = df_ratings\n",
    "df_addoc[\"userID\"].unique()"
   ]
  },
  {
   "cell_type": "code",
   "execution_count": 32,
   "metadata": {
    "tags": []
   },
   "outputs": [
    {
     "output_type": "display_data",
     "data": {
      "text/plain": "HBox(children=(FloatProgress(value=0.0, max=2113.0), HTML(value='')))",
      "application/vnd.jupyter.widget-view+json": {
       "version_major": 2,
       "version_minor": 0,
       "model_id": "bd3e66e9caec46888d2ee41acd8c20c3"
      }
     },
     "metadata": {}
    },
    {
     "output_type": "stream",
     "name": "stdout",
     "text": [
      "\n"
     ]
    }
   ],
   "source": [
    "\n",
    "#df_perfil = pd.DataFrame.from_dict(PERFIL).fillna(0)\n",
    "#df_perfil.insert(0,'userID',USUARIO)\n",
    "df_full_profile = pd.DataFrame()\n",
    "for g in tqdm_notebook(df_addoc[\"userID\"].unique()):\n",
    "    #PERFIl_FULL = perfil_por_usuario(g)\n",
    "    df_full_profile = df_full_profile.append(pd.DataFrame.from_dict(perfil_por_usuario(g)).fillna(0), ignore_index=True)\n",
    "    #print(df_full_profile.tail(1))\n"
   ]
  },
  {
   "cell_type": "code",
   "execution_count": 33,
   "metadata": {},
   "outputs": [
    {
     "output_type": "execute_result",
     "data": {
      "text/plain": [
       "      userID  Genre Action  Genre Adventure  Genre Animation  Genre Children  \\\n",
       "0      51198      0.783824         0.798000         0.788889        0.766667   \n",
       "1      29202      0.512500         0.503182         0.447059        0.433333   \n",
       "2      32283      0.687004         0.694545         0.806452        0.758333   \n",
       "3      36495      0.673034         0.677551         0.763636        0.742857   \n",
       "4      28350      0.653191         0.666667         0.705769        0.658915   \n",
       "...      ...           ...              ...              ...             ...   \n",
       "2108   61985      0.749457         0.742424         0.746154        0.733333   \n",
       "2109   62042      0.583333         0.693333         0.690000        0.693333   \n",
       "2110   62354      0.827273         0.821429         0.820000        0.840000   \n",
       "2111   62394      0.607477         0.619178         0.628571        0.561111   \n",
       "2112   62847      0.697917         0.711111         0.833333        0.700000   \n",
       "\n",
       "      Genre Comedy  Genre Fantasy  Genre Romance  Genre Drama  Genre Crime  \\\n",
       "0         0.779000       0.796667       0.810811     0.833028     0.865116   \n",
       "1         0.443613       0.492742       0.536408     0.566725     0.534911   \n",
       "2         0.694751       0.694805       0.723832     0.739817     0.728571   \n",
       "3         0.764198       0.631579       0.740541     0.755914     0.767241   \n",
       "4         0.632463       0.656180       0.670940     0.669822     0.635714   \n",
       "...            ...            ...            ...          ...          ...   \n",
       "2108      0.709677       0.738095       0.731579     0.761538     0.735849   \n",
       "2109      0.601818       0.685714       0.659375     0.763265     0.671429   \n",
       "2110      0.726316       0.888889       0.768750     0.809677     0.900000   \n",
       "2111      0.557534       0.613889       0.611667     0.684817     0.708696   \n",
       "2112      0.685455       0.654545       0.736585     0.741975     0.776923   \n",
       "\n",
       "      ...  Genre Horror  Genre Mystery  Genre Sci-Fi  Genre IMAX  \\\n",
       "0     ...      0.728571       0.804762      0.784211         0.9   \n",
       "1     ...      0.464516       0.548750      0.509357         0.6   \n",
       "2     ...      0.662162       0.742857      0.656566         0.8   \n",
       "3     ...      0.800000       0.725000      0.640000         0.0   \n",
       "4     ...      0.429412       0.615000      0.597561         0.8   \n",
       "...   ...           ...            ...           ...         ...   \n",
       "2108  ...      0.738095       0.816216      0.741509         0.9   \n",
       "2109  ...      0.566667       0.700000      0.516667         0.0   \n",
       "2110  ...      0.660000       0.700000      0.840000         0.0   \n",
       "2111  ...      0.631373       0.664706      0.516364         0.9   \n",
       "2112  ...      0.642857       0.833333      0.672727         0.0   \n",
       "\n",
       "      Genre Documentary  Genre War  Genre Musical  Genre Film-Noir  \\\n",
       "0              0.883333   0.816667       0.840000         0.800000   \n",
       "1              0.653333   0.575556       0.504545         0.442857   \n",
       "2              0.828571   0.721212       0.700000         0.800000   \n",
       "3              0.500000   0.762500       0.800000         1.000000   \n",
       "4              0.000000   0.684211       0.641667         0.700000   \n",
       "...                 ...        ...            ...              ...   \n",
       "2108           0.800000   0.768421       0.685714         0.750000   \n",
       "2109           0.000000   0.850000       0.638462         0.000000   \n",
       "2110           0.000000   0.750000       0.733333         1.000000   \n",
       "2111           0.500000   0.737037       0.650000         0.733333   \n",
       "2112           0.700000   0.814286       0.780000         0.900000   \n",
       "\n",
       "      Genre Western  Genre Short  \n",
       "0          0.733333          0.0  \n",
       "1          0.556522          0.0  \n",
       "2          0.769565          0.0  \n",
       "3          0.600000          0.0  \n",
       "4          0.635294          0.0  \n",
       "...             ...          ...  \n",
       "2108       0.725000          0.0  \n",
       "2109       0.800000          0.0  \n",
       "2110       0.700000          0.0  \n",
       "2111       0.607692          0.0  \n",
       "2112       0.725000          0.0  \n",
       "\n",
       "[2113 rows x 21 columns]"
      ],
      "text/html": "<div>\n<style scoped>\n    .dataframe tbody tr th:only-of-type {\n        vertical-align: middle;\n    }\n\n    .dataframe tbody tr th {\n        vertical-align: top;\n    }\n\n    .dataframe thead th {\n        text-align: right;\n    }\n</style>\n<table border=\"1\" class=\"dataframe\">\n  <thead>\n    <tr style=\"text-align: right;\">\n      <th></th>\n      <th>userID</th>\n      <th>Genre Action</th>\n      <th>Genre Adventure</th>\n      <th>Genre Animation</th>\n      <th>Genre Children</th>\n      <th>Genre Comedy</th>\n      <th>Genre Fantasy</th>\n      <th>Genre Romance</th>\n      <th>Genre Drama</th>\n      <th>Genre Crime</th>\n      <th>...</th>\n      <th>Genre Horror</th>\n      <th>Genre Mystery</th>\n      <th>Genre Sci-Fi</th>\n      <th>Genre IMAX</th>\n      <th>Genre Documentary</th>\n      <th>Genre War</th>\n      <th>Genre Musical</th>\n      <th>Genre Film-Noir</th>\n      <th>Genre Western</th>\n      <th>Genre Short</th>\n    </tr>\n  </thead>\n  <tbody>\n    <tr>\n      <th>0</th>\n      <td>51198</td>\n      <td>0.783824</td>\n      <td>0.798000</td>\n      <td>0.788889</td>\n      <td>0.766667</td>\n      <td>0.779000</td>\n      <td>0.796667</td>\n      <td>0.810811</td>\n      <td>0.833028</td>\n      <td>0.865116</td>\n      <td>...</td>\n      <td>0.728571</td>\n      <td>0.804762</td>\n      <td>0.784211</td>\n      <td>0.9</td>\n      <td>0.883333</td>\n      <td>0.816667</td>\n      <td>0.840000</td>\n      <td>0.800000</td>\n      <td>0.733333</td>\n      <td>0.0</td>\n    </tr>\n    <tr>\n      <th>1</th>\n      <td>29202</td>\n      <td>0.512500</td>\n      <td>0.503182</td>\n      <td>0.447059</td>\n      <td>0.433333</td>\n      <td>0.443613</td>\n      <td>0.492742</td>\n      <td>0.536408</td>\n      <td>0.566725</td>\n      <td>0.534911</td>\n      <td>...</td>\n      <td>0.464516</td>\n      <td>0.548750</td>\n      <td>0.509357</td>\n      <td>0.6</td>\n      <td>0.653333</td>\n      <td>0.575556</td>\n      <td>0.504545</td>\n      <td>0.442857</td>\n      <td>0.556522</td>\n      <td>0.0</td>\n    </tr>\n    <tr>\n      <th>2</th>\n      <td>32283</td>\n      <td>0.687004</td>\n      <td>0.694545</td>\n      <td>0.806452</td>\n      <td>0.758333</td>\n      <td>0.694751</td>\n      <td>0.694805</td>\n      <td>0.723832</td>\n      <td>0.739817</td>\n      <td>0.728571</td>\n      <td>...</td>\n      <td>0.662162</td>\n      <td>0.742857</td>\n      <td>0.656566</td>\n      <td>0.8</td>\n      <td>0.828571</td>\n      <td>0.721212</td>\n      <td>0.700000</td>\n      <td>0.800000</td>\n      <td>0.769565</td>\n      <td>0.0</td>\n    </tr>\n    <tr>\n      <th>3</th>\n      <td>36495</td>\n      <td>0.673034</td>\n      <td>0.677551</td>\n      <td>0.763636</td>\n      <td>0.742857</td>\n      <td>0.764198</td>\n      <td>0.631579</td>\n      <td>0.740541</td>\n      <td>0.755914</td>\n      <td>0.767241</td>\n      <td>...</td>\n      <td>0.800000</td>\n      <td>0.725000</td>\n      <td>0.640000</td>\n      <td>0.0</td>\n      <td>0.500000</td>\n      <td>0.762500</td>\n      <td>0.800000</td>\n      <td>1.000000</td>\n      <td>0.600000</td>\n      <td>0.0</td>\n    </tr>\n    <tr>\n      <th>4</th>\n      <td>28350</td>\n      <td>0.653191</td>\n      <td>0.666667</td>\n      <td>0.705769</td>\n      <td>0.658915</td>\n      <td>0.632463</td>\n      <td>0.656180</td>\n      <td>0.670940</td>\n      <td>0.669822</td>\n      <td>0.635714</td>\n      <td>...</td>\n      <td>0.429412</td>\n      <td>0.615000</td>\n      <td>0.597561</td>\n      <td>0.8</td>\n      <td>0.000000</td>\n      <td>0.684211</td>\n      <td>0.641667</td>\n      <td>0.700000</td>\n      <td>0.635294</td>\n      <td>0.0</td>\n    </tr>\n    <tr>\n      <th>...</th>\n      <td>...</td>\n      <td>...</td>\n      <td>...</td>\n      <td>...</td>\n      <td>...</td>\n      <td>...</td>\n      <td>...</td>\n      <td>...</td>\n      <td>...</td>\n      <td>...</td>\n      <td>...</td>\n      <td>...</td>\n      <td>...</td>\n      <td>...</td>\n      <td>...</td>\n      <td>...</td>\n      <td>...</td>\n      <td>...</td>\n      <td>...</td>\n      <td>...</td>\n      <td>...</td>\n    </tr>\n    <tr>\n      <th>2108</th>\n      <td>61985</td>\n      <td>0.749457</td>\n      <td>0.742424</td>\n      <td>0.746154</td>\n      <td>0.733333</td>\n      <td>0.709677</td>\n      <td>0.738095</td>\n      <td>0.731579</td>\n      <td>0.761538</td>\n      <td>0.735849</td>\n      <td>...</td>\n      <td>0.738095</td>\n      <td>0.816216</td>\n      <td>0.741509</td>\n      <td>0.9</td>\n      <td>0.800000</td>\n      <td>0.768421</td>\n      <td>0.685714</td>\n      <td>0.750000</td>\n      <td>0.725000</td>\n      <td>0.0</td>\n    </tr>\n    <tr>\n      <th>2109</th>\n      <td>62042</td>\n      <td>0.583333</td>\n      <td>0.693333</td>\n      <td>0.690000</td>\n      <td>0.693333</td>\n      <td>0.601818</td>\n      <td>0.685714</td>\n      <td>0.659375</td>\n      <td>0.763265</td>\n      <td>0.671429</td>\n      <td>...</td>\n      <td>0.566667</td>\n      <td>0.700000</td>\n      <td>0.516667</td>\n      <td>0.0</td>\n      <td>0.000000</td>\n      <td>0.850000</td>\n      <td>0.638462</td>\n      <td>0.000000</td>\n      <td>0.800000</td>\n      <td>0.0</td>\n    </tr>\n    <tr>\n      <th>2110</th>\n      <td>62354</td>\n      <td>0.827273</td>\n      <td>0.821429</td>\n      <td>0.820000</td>\n      <td>0.840000</td>\n      <td>0.726316</td>\n      <td>0.888889</td>\n      <td>0.768750</td>\n      <td>0.809677</td>\n      <td>0.900000</td>\n      <td>...</td>\n      <td>0.660000</td>\n      <td>0.700000</td>\n      <td>0.840000</td>\n      <td>0.0</td>\n      <td>0.000000</td>\n      <td>0.750000</td>\n      <td>0.733333</td>\n      <td>1.000000</td>\n      <td>0.700000</td>\n      <td>0.0</td>\n    </tr>\n    <tr>\n      <th>2111</th>\n      <td>62394</td>\n      <td>0.607477</td>\n      <td>0.619178</td>\n      <td>0.628571</td>\n      <td>0.561111</td>\n      <td>0.557534</td>\n      <td>0.613889</td>\n      <td>0.611667</td>\n      <td>0.684817</td>\n      <td>0.708696</td>\n      <td>...</td>\n      <td>0.631373</td>\n      <td>0.664706</td>\n      <td>0.516364</td>\n      <td>0.9</td>\n      <td>0.500000</td>\n      <td>0.737037</td>\n      <td>0.650000</td>\n      <td>0.733333</td>\n      <td>0.607692</td>\n      <td>0.0</td>\n    </tr>\n    <tr>\n      <th>2112</th>\n      <td>62847</td>\n      <td>0.697917</td>\n      <td>0.711111</td>\n      <td>0.833333</td>\n      <td>0.700000</td>\n      <td>0.685455</td>\n      <td>0.654545</td>\n      <td>0.736585</td>\n      <td>0.741975</td>\n      <td>0.776923</td>\n      <td>...</td>\n      <td>0.642857</td>\n      <td>0.833333</td>\n      <td>0.672727</td>\n      <td>0.0</td>\n      <td>0.700000</td>\n      <td>0.814286</td>\n      <td>0.780000</td>\n      <td>0.900000</td>\n      <td>0.725000</td>\n      <td>0.0</td>\n    </tr>\n  </tbody>\n</table>\n<p>2113 rows × 21 columns</p>\n</div>"
     },
     "metadata": {},
     "execution_count": 33
    }
   ],
   "source": [
    "df_full_profile"
   ]
  },
  {
   "source": [
    "## En df_full_profile tengo el perfil de todos los usuarios y cada linea representa segun lo que califico un usuario que generos estan mas cerca o mas lejos de sus preferencia.\n",
    "## Ahora lo que busco es cuales son las peliculas que estan mas cerca de casa usuario usando la Similitud Coseno (1 es super similar)"
   ],
   "cell_type": "markdown",
   "metadata": {}
  },
  {
   "cell_type": "code",
   "execution_count": 34,
   "metadata": {},
   "outputs": [],
   "source": [
    "df_movies_adDoc = df_movies"
   ]
  },
  {
   "cell_type": "code",
   "execution_count": 35,
   "metadata": {
    "tags": []
   },
   "outputs": [],
   "source": [
    "# Dado un perfil de usuario, veo que pelicula es la mas afin a sus votaciones.\n",
    "\n",
    "def pelicula_afin_a_perfil(userID, B, list_profile):\n",
    "    columnas_genero = [c for c in df_movies_adDoc.columns if c.startswith(\"Genre\")]\n",
    "    \n",
    "    similarityC_base=0\n",
    "    movieID = 0\n",
    "    #for index, row in tqdm_notebook(df_movies_adDoc.iterrows()):\n",
    "    for index, row in (df_movies_adDoc.iterrows()):    \n",
    "        movie = df_movies_adDoc.query(\"id == {}\".format(row[\"id\"]))\n",
    "        A = movie[columnas_genero].values[0]\n",
    "        similarityC = np.dot(A, B) / (np.linalg.norm(A) * np.linalg.norm(B))\n",
    "        #print(userID, row[\"id\"], similarityC)\n",
    "        if (similarityC_base < similarityC):\n",
    "            similarityC_base = similarityC\n",
    "            movieID = row[\"id\"]\n",
    "        #RANKING[index] = [row[\"id\"], similarityC_base]\n",
    "           \n",
    "    user_row = dict()\n",
    "    user_row[\"userID\"] = userID\n",
    "    user_row[\"movieID\"] = movieID\n",
    "    user_row[\"similarityC\"] = similarityC_base\n",
    "    list_profile.append(user_row)\n",
    "    return list_profile"
   ]
  },
  {
   "cell_type": "code",
   "execution_count": 36,
   "metadata": {},
   "outputs": [],
   "source": [
    "#print(\"movieID:\", movieID, \"simCosin: \",simCosin_base)"
   ]
  },
  {
   "cell_type": "code",
   "execution_count": 37,
   "metadata": {},
   "outputs": [],
   "source": [
    "#df_perfil[columnas_genero].values[0]"
   ]
  },
  {
   "cell_type": "code",
   "execution_count": 38,
   "metadata": {},
   "outputs": [],
   "source": [
    "#COUNT=1\n",
    "## iloc[row slicing, column slicing]\n",
    "#B=df_full_profile.iloc[COUNT-1:COUNT, 1:].values[0]\n",
    "#B"
   ]
  },
  {
   "cell_type": "code",
   "execution_count": 39,
   "metadata": {},
   "outputs": [],
   "source": [
    "#USER = \"51198\"\n",
    "#column_names = [\"userID\",\"movieID\", \"simCos\"]\n",
    "#df_profile_movieSelection = pd.DataFrame(columns = column_names)\n",
    "#df_profile_movieSelection = []\n",
    "#pelicula_afin_a_perfil(USER,B,df_profile_movieSelection)"
   ]
  },
  {
   "cell_type": "code",
   "execution_count": 40,
   "metadata": {},
   "outputs": [],
   "source": [
    "df_full_profileCut = df_full_profile[0:49]"
   ]
  },
  {
   "cell_type": "code",
   "execution_count": 41,
   "metadata": {
    "tags": []
   },
   "outputs": [
    {
     "output_type": "display_data",
     "data": {
      "text/plain": "HBox(children=(FloatProgress(value=0.0, max=49.0), HTML(value='')))",
      "application/vnd.jupyter.widget-view+json": {
       "version_major": 2,
       "version_minor": 0,
       "model_id": "22b77fd2dade4f8c9a120626ff55c1a5"
      }
     },
     "metadata": {}
    },
    {
     "output_type": "stream",
     "name": "stdout",
     "text": [
      "\n"
     ]
    }
   ],
   "source": [
    "profile_movieSelection = []\n",
    "COUNT=1\n",
    "for g in tqdm_notebook(df_full_profileCut[\"userID\"].unique()):\n",
    "    B=df_full_profileCut.iloc[COUNT-1:COUNT, 1:].values[0]\n",
    "    pelicula_afin_a_perfil(g,B,profile_movieSelection)\n",
    "    COUNT=COUNT+1\n"
   ]
  },
  {
   "cell_type": "code",
   "execution_count": 44,
   "metadata": {},
   "outputs": [
    {
     "output_type": "execute_result",
     "data": {
      "text/plain": [
       "   userID  movieID  similarityC\n",
       "0   51198    51709     0.634122\n",
       "1   29202    51709     0.625363\n",
       "2   32283    51709     0.611448\n",
       "3   36495    51709     0.643312\n",
       "4   28350    56152     0.632130"
      ],
      "text/html": "<div>\n<style scoped>\n    .dataframe tbody tr th:only-of-type {\n        vertical-align: middle;\n    }\n\n    .dataframe tbody tr th {\n        vertical-align: top;\n    }\n\n    .dataframe thead th {\n        text-align: right;\n    }\n</style>\n<table border=\"1\" class=\"dataframe\">\n  <thead>\n    <tr style=\"text-align: right;\">\n      <th></th>\n      <th>userID</th>\n      <th>movieID</th>\n      <th>similarityC</th>\n    </tr>\n  </thead>\n  <tbody>\n    <tr>\n      <th>0</th>\n      <td>51198</td>\n      <td>51709</td>\n      <td>0.634122</td>\n    </tr>\n    <tr>\n      <th>1</th>\n      <td>29202</td>\n      <td>51709</td>\n      <td>0.625363</td>\n    </tr>\n    <tr>\n      <th>2</th>\n      <td>32283</td>\n      <td>51709</td>\n      <td>0.611448</td>\n    </tr>\n    <tr>\n      <th>3</th>\n      <td>36495</td>\n      <td>51709</td>\n      <td>0.643312</td>\n    </tr>\n    <tr>\n      <th>4</th>\n      <td>28350</td>\n      <td>56152</td>\n      <td>0.632130</td>\n    </tr>\n  </tbody>\n</table>\n</div>"
     },
     "metadata": {},
     "execution_count": 44
    }
   ],
   "source": [
    "#df_profile_movieSelection\n",
    "df_profile_movieSelection = pd.DataFrame(profile_movieSelection)\n",
    "df_profile_movieSelection.head()"
   ]
  },
  {
   "cell_type": "code",
   "execution_count": 43,
   "metadata": {},
   "outputs": [],
   "source": [
    "df_profile_movieSelection.to_csv(\"./results/profile_movieSelectionParcial.csv\")"
   ]
  },
  {
   "source": [
    "### Con esto obtuve una pelicula para recomendarle a un usuario, basado en las peliculas que ya puntuo."
   ],
   "cell_type": "markdown",
   "metadata": {}
  },
  {
   "cell_type": "code",
   "execution_count": 2,
   "metadata": {},
   "outputs": [
    {
     "output_type": "error",
     "ename": "NameError",
     "evalue": "name 'pd' is not defined",
     "traceback": [
      "\u001b[0;31m---------------------------------------------------------------------------\u001b[0m",
      "\u001b[0;31mNameError\u001b[0m                                 Traceback (most recent call last)",
      "\u001b[0;32m<ipython-input-2-e3e51be5e130>\u001b[0m in \u001b[0;36m<module>\u001b[0;34m\u001b[0m\n\u001b[0;32m----> 1\u001b[0;31m \u001b[0mdf_ratings_train\u001b[0m \u001b[0;34m=\u001b[0m \u001b[0mpd\u001b[0m\u001b[0;34m.\u001b[0m\u001b[0mread_csv\u001b[0m\u001b[0;34m(\u001b[0m\u001b[0;34m\"./data/ratings_train.csv\"\u001b[0m\u001b[0;34m)\u001b[0m\u001b[0;34m\u001b[0m\u001b[0;34m\u001b[0m\u001b[0m\n\u001b[0m\u001b[1;32m      2\u001b[0m \u001b[0mdf_ratings_test\u001b[0m \u001b[0;34m=\u001b[0m \u001b[0mpd\u001b[0m\u001b[0;34m.\u001b[0m\u001b[0mread_csv\u001b[0m\u001b[0;34m(\u001b[0m\u001b[0;34m\"./data/ratings_test.csv\"\u001b[0m\u001b[0;34m)\u001b[0m\u001b[0;34m\u001b[0m\u001b[0;34m\u001b[0m\u001b[0m\n",
      "\u001b[0;31mNameError\u001b[0m: name 'pd' is not defined"
     ]
    }
   ],
   "source": [
    "list_of_user_movies_similarities = []\n",
    "for user_id, group in tqdm(df_raitings.goupby(\"userID\")):\n",
    "\tfor index, row in group.iterrows():\n",
    "\t\tuser_movie_similarity = dict()\n",
    "\t\tprofile = df_profile.loc[df_profiles ==  user_id][list_of_genres].values[0]\n",
    "\t\tmovie = df_movies.query(\"id=={}\".format(row.movieID))[list_of genres].values[0]\n",
    "\t\tsimilarity = np.dot(movie, profile) / (np.linalg.norm(movie) * np.linalg.norm(profile))\n",
    "\n",
    "\t\tuser_movie_similarity[\"userID\"]=user_id\n",
    "\t\tuser_movie_similarity[\"movieID\"]=row.movieID\n",
    "\t\tuser_movie_similarity[\"similarity\"] = similarity\n",
    "\t\tlist_of_user_movies_similarities.append(user_movie_similarity)"
   ]
  },
  {
   "cell_type": "code",
   "execution_count": 44,
   "metadata": {},
   "outputs": [
    {
     "output_type": "execute_result",
     "data": {
      "text/plain": [
       "array([  608,   141,  1073,   356,  1198,   785,   708,  1183,  1569,\n",
       "        1573,  1219,  1197,   175,   663,   724,   733,   648,   372,\n",
       "        1200,  1193,  1291,  1210,   593,   590,  1208,    62,   780,\n",
       "        1485,   337,  1196,  1466,    94,    95,  1391,  1693,   236,\n",
       "         913,   441,   198,  1676,  1407,  1673,    50,   260,   296,\n",
       "         778,  1080,  1089,  1093,  1136,  1721,  1633,    25,  1047,\n",
       "        1784,  1120,  1835,  1479,  1909,  1194,  1220,  1394,  2003,\n",
       "        2064,  1091,  1225,  2150,  1517,  1103,  2302,   628,  1884,\n",
       "        1732,   110,  2294,  2206,  2355,   551,  1894,  2296,  2628,\n",
       "        1298,  2762,  2571,     1,  1968,  2710,  1641,  1199,  2028,\n",
       "        2115,  1333,  2763,  2683,  2542,  2968,  3571,  3996,  2858,\n",
       "        3007,  3977,  1729,  1215,  4304,  3198,  4226,  4209,  1307,\n",
       "        4642,  4888,  2959,  2324,  4880,   543,  4963,  4993,  4995,\n",
       "        5064,  3801,  4873,  2396,  4718,  1617,  5378,  3798,  4415,\n",
       "        2579,  5630,  4741,  5952,  2502,  3033,  5686,  5669,  1203,\n",
       "         589,  5299,  4967,   924,  2692,  4975,  6942,  7153,  3949,\n",
       "        6934,  2997,   318,   480,  4973,    32,  1206,  5025,  6807,\n",
       "        4011,  3481,  5225,  5991,    70,  4878,  7438,  6283,  5110,\n",
       "        2010,  4161,  3948,  8622,  6953,  6385,  6598,  6291,  7361,\n",
       "        1747, 30825, 30810,  4027,  4881,  8784,   293,  8984,  8873,\n",
       "        1247,  6002, 33794, 33493,  6016,  6870,   592, 42738, 44828,\n",
       "       45210, 45186,  3897, 45517, 45499, 45501, 45672,   364, 41569,\n",
       "       48385,  1464,  5951,  1270,  3160, 48774, 48082, 51540, 51662,\n",
       "       49272, 48516, 52281, 51255, 50872,  1921, 54286, 54503, 52722,\n",
       "        5349, 55444, 56003, 56333, 56757, 55814, 57368, 54997, 55247,\n",
       "       55276, 55269, 55363, 56367, 58559, 60756, 57640, 59315, 61132,\n",
       "        4235])"
      ]
     },
     "metadata": {},
     "execution_count": 44
    }
   ],
   "source": [
    "df_ratings.loc[df_ratings[\"userID\"] == 51198].movieID.unique()\n",
    "\n"
   ]
  }
 ],
 "metadata": {
  "kernelspec": {
   "name": "Python 3.7.5 64-bit ('base': conda)",
   "display_name": "Python 3.7.5 64-bit ('base': conda)",
   "metadata": {
    "interpreter": {
     "hash": "9a37e5188a605e95d3282a4fb8007f4c3c52885d8cd12f2ffcfc398feaa7ff36"
    }
   }
  },
  "language_info": {
   "codemirror_mode": {
    "name": "ipython",
    "version": 3
   },
   "file_extension": ".py",
   "mimetype": "text/x-python",
   "name": "python",
   "nbconvert_exporter": "python",
   "pygments_lexer": "ipython3",
   "version": "3.7.5-final"
  }
 },
 "nbformat": 4,
 "nbformat_minor": 4
}