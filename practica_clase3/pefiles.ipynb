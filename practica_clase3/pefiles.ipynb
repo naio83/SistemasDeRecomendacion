{
 "cells": [
  {
   "cell_type": "code",
   "execution_count": 1,
   "metadata": {},
   "outputs": [],
   "source": [
    "import pandas as pd\n",
    "import pandas_profiling\n",
    "import numpy as np\n",
    "import math\n",
    "import seaborn as sns\n",
    "import numpy as np\n",
    "from sklearn.linear_model import LinearRegression\n",
    "from sklearn import datasets\n",
    "from datetime import date, datetime\n",
    "from sklearn.metrics import mean_squared_error, r2_score\n",
    "from sklearn.model_selection import train_test_split\n",
    "from tqdm import tqdm\n",
    "import matplotlib.pyplot as plt\n",
    "plt.style.use(\"seaborn\")\n",
    "sns.set(style=\"white\")"
   ]
  },
  {
   "source": [
    "## Perfil de peliculas y usuarios."
   ],
   "cell_type": "markdown",
   "metadata": {}
  },
  {
   "source": [
    "### Perfil de las peliculas segun su genero "
   ],
   "cell_type": "markdown",
   "metadata": {}
  },
  {
   "cell_type": "code",
   "execution_count": 2,
   "metadata": {},
   "outputs": [],
   "source": [
    "df_genres = pd.read_csv(\"./data/movie_genres.csv\")\n",
    "df_movies = pd.read_csv(\"./data/movies.csv\")\n",
    "df_ratings = pd.read_csv(\"./data/ratings_train.csv\")"
   ]
  },
  {
   "cell_type": "code",
   "execution_count": 3,
   "metadata": {},
   "outputs": [
    {
     "output_type": "execute_result",
     "data": {
      "text/plain": [
       "   id                        title  year  imdbID                         rtID  \\\n",
       "0   1                    Toy story  1995  114709                    toy_story   \n",
       "1   2                      Jumanji  1995  113497              1068044-jumanji   \n",
       "2   3               Grumpy Old Men  1993  107050               grumpy_old_men   \n",
       "3   4            Waiting to Exhale  1995  114885            waiting_to_exhale   \n",
       "4   5  Father of the Bride Part II  1995  113041  father_of_the_bride_part_ii   \n",
       "\n",
       "   Genre Adventure  Genre Animation  Genre Children  Genre Comedy  \\\n",
       "0                1                1               1             1   \n",
       "1                1                0               1             0   \n",
       "2                0                0               0             1   \n",
       "3                0                0               0             1   \n",
       "4                0                0               0             1   \n",
       "\n",
       "   Genre Fantasy  ...  Genre Horror  Genre Mystery  Genre Sci-Fi  Genre IMAX  \\\n",
       "0              1  ...             0              0             0           0   \n",
       "1              1  ...             0              0             0           0   \n",
       "2              0  ...             0              0             0           0   \n",
       "3              0  ...             0              0             0           0   \n",
       "4              0  ...             0              0             0           0   \n",
       "\n",
       "   Genre Documentary  Genre War  Genre Musical  Genre Film-Noir  \\\n",
       "0                  0          0              0                0   \n",
       "1                  0          0              0                0   \n",
       "2                  0          0              0                0   \n",
       "3                  0          0              0                0   \n",
       "4                  0          0              0                0   \n",
       "\n",
       "   Genre Western  Genre Short  \n",
       "0              0            0  \n",
       "1              0            0  \n",
       "2              0            0  \n",
       "3              0            0  \n",
       "4              0            0  \n",
       "\n",
       "[5 rows x 25 columns]"
      ],
      "text/html": "<div>\n<style scoped>\n    .dataframe tbody tr th:only-of-type {\n        vertical-align: middle;\n    }\n\n    .dataframe tbody tr th {\n        vertical-align: top;\n    }\n\n    .dataframe thead th {\n        text-align: right;\n    }\n</style>\n<table border=\"1\" class=\"dataframe\">\n  <thead>\n    <tr style=\"text-align: right;\">\n      <th></th>\n      <th>id</th>\n      <th>title</th>\n      <th>year</th>\n      <th>imdbID</th>\n      <th>rtID</th>\n      <th>Genre Adventure</th>\n      <th>Genre Animation</th>\n      <th>Genre Children</th>\n      <th>Genre Comedy</th>\n      <th>Genre Fantasy</th>\n      <th>...</th>\n      <th>Genre Horror</th>\n      <th>Genre Mystery</th>\n      <th>Genre Sci-Fi</th>\n      <th>Genre IMAX</th>\n      <th>Genre Documentary</th>\n      <th>Genre War</th>\n      <th>Genre Musical</th>\n      <th>Genre Film-Noir</th>\n      <th>Genre Western</th>\n      <th>Genre Short</th>\n    </tr>\n  </thead>\n  <tbody>\n    <tr>\n      <th>0</th>\n      <td>1</td>\n      <td>Toy story</td>\n      <td>1995</td>\n      <td>114709</td>\n      <td>toy_story</td>\n      <td>1</td>\n      <td>1</td>\n      <td>1</td>\n      <td>1</td>\n      <td>1</td>\n      <td>...</td>\n      <td>0</td>\n      <td>0</td>\n      <td>0</td>\n      <td>0</td>\n      <td>0</td>\n      <td>0</td>\n      <td>0</td>\n      <td>0</td>\n      <td>0</td>\n      <td>0</td>\n    </tr>\n    <tr>\n      <th>1</th>\n      <td>2</td>\n      <td>Jumanji</td>\n      <td>1995</td>\n      <td>113497</td>\n      <td>1068044-jumanji</td>\n      <td>1</td>\n      <td>0</td>\n      <td>1</td>\n      <td>0</td>\n      <td>1</td>\n      <td>...</td>\n      <td>0</td>\n      <td>0</td>\n      <td>0</td>\n      <td>0</td>\n      <td>0</td>\n      <td>0</td>\n      <td>0</td>\n      <td>0</td>\n      <td>0</td>\n      <td>0</td>\n    </tr>\n    <tr>\n      <th>2</th>\n      <td>3</td>\n      <td>Grumpy Old Men</td>\n      <td>1993</td>\n      <td>107050</td>\n      <td>grumpy_old_men</td>\n      <td>0</td>\n      <td>0</td>\n      <td>0</td>\n      <td>1</td>\n      <td>0</td>\n      <td>...</td>\n      <td>0</td>\n      <td>0</td>\n      <td>0</td>\n      <td>0</td>\n      <td>0</td>\n      <td>0</td>\n      <td>0</td>\n      <td>0</td>\n      <td>0</td>\n      <td>0</td>\n    </tr>\n    <tr>\n      <th>3</th>\n      <td>4</td>\n      <td>Waiting to Exhale</td>\n      <td>1995</td>\n      <td>114885</td>\n      <td>waiting_to_exhale</td>\n      <td>0</td>\n      <td>0</td>\n      <td>0</td>\n      <td>1</td>\n      <td>0</td>\n      <td>...</td>\n      <td>0</td>\n      <td>0</td>\n      <td>0</td>\n      <td>0</td>\n      <td>0</td>\n      <td>0</td>\n      <td>0</td>\n      <td>0</td>\n      <td>0</td>\n      <td>0</td>\n    </tr>\n    <tr>\n      <th>4</th>\n      <td>5</td>\n      <td>Father of the Bride Part II</td>\n      <td>1995</td>\n      <td>113041</td>\n      <td>father_of_the_bride_part_ii</td>\n      <td>0</td>\n      <td>0</td>\n      <td>0</td>\n      <td>1</td>\n      <td>0</td>\n      <td>...</td>\n      <td>0</td>\n      <td>0</td>\n      <td>0</td>\n      <td>0</td>\n      <td>0</td>\n      <td>0</td>\n      <td>0</td>\n      <td>0</td>\n      <td>0</td>\n      <td>0</td>\n    </tr>\n  </tbody>\n</table>\n<p>5 rows × 25 columns</p>\n</div>"
     },
     "metadata": {},
     "execution_count": 3
    }
   ],
   "source": [
    "# Creo una matriz donde se agrego un flag \"1\" en cada genero del que la pelicula pertenece.\n",
    "# Perfil de la pelicula sobre el Genero\n",
    "for g in df_genres[\"genre\"].unique():\n",
    "    mids = df_genres.loc[df_genres[\"genre\"] == g, \"movieID\"].unique()\n",
    "    df_movies[\"Genre {}\".format(g)] = df_movies[\"id\"].isin(mids).astype(\"int16\")\n",
    "df_movies.head()\n",
    "# Podria ponderar por la cantidad de generos que tiene, si tiene 4 generos cada uno seria 0.25"
   ]
  },
  {
   "source": [
    "## Perfil de los usuarios"
   ],
   "cell_type": "markdown",
   "metadata": {}
  },
  {
   "cell_type": "code",
   "execution_count": 9,
   "metadata": {},
   "outputs": [
    {
     "output_type": "execute_result",
     "data": {
      "text/plain": [
       "   ID  userID  movieID  rating  date_day  date_month  date_year  date_hour  \\\n",
       "0   1   51198      608     5.0        17           9       1997         23   \n",
       "1   2   51198     1073     4.0        17           9       1997         23   \n",
       "2   3   51198      141     4.0        17           9       1997         23   \n",
       "3   4   51198      356     4.0        17           9       1997         23   \n",
       "4   5   51198     1198     5.0        17           9       1997         23   \n",
       "\n",
       "   date_minute  date_second  \n",
       "0           40           20  \n",
       "1           41            6  \n",
       "2           41           58  \n",
       "3           43           44  \n",
       "4           44           35  "
      ],
      "text/html": "<div>\n<style scoped>\n    .dataframe tbody tr th:only-of-type {\n        vertical-align: middle;\n    }\n\n    .dataframe tbody tr th {\n        vertical-align: top;\n    }\n\n    .dataframe thead th {\n        text-align: right;\n    }\n</style>\n<table border=\"1\" class=\"dataframe\">\n  <thead>\n    <tr style=\"text-align: right;\">\n      <th></th>\n      <th>ID</th>\n      <th>userID</th>\n      <th>movieID</th>\n      <th>rating</th>\n      <th>date_day</th>\n      <th>date_month</th>\n      <th>date_year</th>\n      <th>date_hour</th>\n      <th>date_minute</th>\n      <th>date_second</th>\n    </tr>\n  </thead>\n  <tbody>\n    <tr>\n      <th>0</th>\n      <td>1</td>\n      <td>51198</td>\n      <td>608</td>\n      <td>5.0</td>\n      <td>17</td>\n      <td>9</td>\n      <td>1997</td>\n      <td>23</td>\n      <td>40</td>\n      <td>20</td>\n    </tr>\n    <tr>\n      <th>1</th>\n      <td>2</td>\n      <td>51198</td>\n      <td>1073</td>\n      <td>4.0</td>\n      <td>17</td>\n      <td>9</td>\n      <td>1997</td>\n      <td>23</td>\n      <td>41</td>\n      <td>6</td>\n    </tr>\n    <tr>\n      <th>2</th>\n      <td>3</td>\n      <td>51198</td>\n      <td>141</td>\n      <td>4.0</td>\n      <td>17</td>\n      <td>9</td>\n      <td>1997</td>\n      <td>23</td>\n      <td>41</td>\n      <td>58</td>\n    </tr>\n    <tr>\n      <th>3</th>\n      <td>4</td>\n      <td>51198</td>\n      <td>356</td>\n      <td>4.0</td>\n      <td>17</td>\n      <td>9</td>\n      <td>1997</td>\n      <td>23</td>\n      <td>43</td>\n      <td>44</td>\n    </tr>\n    <tr>\n      <th>4</th>\n      <td>5</td>\n      <td>51198</td>\n      <td>1198</td>\n      <td>5.0</td>\n      <td>17</td>\n      <td>9</td>\n      <td>1997</td>\n      <td>23</td>\n      <td>44</td>\n      <td>35</td>\n    </tr>\n  </tbody>\n</table>\n</div>"
     },
     "metadata": {},
     "execution_count": 9
    }
   ],
   "source": [
    "df_ratings.head()\n"
   ]
  },
  {
   "cell_type": "code",
   "execution_count": 64,
   "metadata": {},
   "outputs": [
    {
     "output_type": "execute_result",
     "data": {
      "text/plain": [
       "            ID  userID  movieID  rating  date_day  date_month  date_year  \\\n",
       "473065  525416      75     6225     0.5        29          10       2006   \n",
       "473058  525408      75        3     1.0        29          10       2006   \n",
       "473060  525410      75     2054     1.5        29          10       2006   \n",
       "473081  525435      75     3258     1.5        29          10       2006   \n",
       "473054  525403      75      160     2.0        29          10       2006   \n",
       "\n",
       "        date_hour  date_minute  date_second  \n",
       "473065         23           21           25  \n",
       "473058         23           17           16  \n",
       "473060         23           17           33  \n",
       "473081         23           26            8  \n",
       "473054         23           16           52  "
      ],
      "text/html": "<div>\n<style scoped>\n    .dataframe tbody tr th:only-of-type {\n        vertical-align: middle;\n    }\n\n    .dataframe tbody tr th {\n        vertical-align: top;\n    }\n\n    .dataframe thead th {\n        text-align: right;\n    }\n</style>\n<table border=\"1\" class=\"dataframe\">\n  <thead>\n    <tr style=\"text-align: right;\">\n      <th></th>\n      <th>ID</th>\n      <th>userID</th>\n      <th>movieID</th>\n      <th>rating</th>\n      <th>date_day</th>\n      <th>date_month</th>\n      <th>date_year</th>\n      <th>date_hour</th>\n      <th>date_minute</th>\n      <th>date_second</th>\n    </tr>\n  </thead>\n  <tbody>\n    <tr>\n      <th>473065</th>\n      <td>525416</td>\n      <td>75</td>\n      <td>6225</td>\n      <td>0.5</td>\n      <td>29</td>\n      <td>10</td>\n      <td>2006</td>\n      <td>23</td>\n      <td>21</td>\n      <td>25</td>\n    </tr>\n    <tr>\n      <th>473058</th>\n      <td>525408</td>\n      <td>75</td>\n      <td>3</td>\n      <td>1.0</td>\n      <td>29</td>\n      <td>10</td>\n      <td>2006</td>\n      <td>23</td>\n      <td>17</td>\n      <td>16</td>\n    </tr>\n    <tr>\n      <th>473060</th>\n      <td>525410</td>\n      <td>75</td>\n      <td>2054</td>\n      <td>1.5</td>\n      <td>29</td>\n      <td>10</td>\n      <td>2006</td>\n      <td>23</td>\n      <td>17</td>\n      <td>33</td>\n    </tr>\n    <tr>\n      <th>473081</th>\n      <td>525435</td>\n      <td>75</td>\n      <td>3258</td>\n      <td>1.5</td>\n      <td>29</td>\n      <td>10</td>\n      <td>2006</td>\n      <td>23</td>\n      <td>26</td>\n      <td>8</td>\n    </tr>\n    <tr>\n      <th>473054</th>\n      <td>525403</td>\n      <td>75</td>\n      <td>160</td>\n      <td>2.0</td>\n      <td>29</td>\n      <td>10</td>\n      <td>2006</td>\n      <td>23</td>\n      <td>16</td>\n      <td>52</td>\n    </tr>\n  </tbody>\n</table>\n</div>"
     },
     "metadata": {},
     "execution_count": 64
    }
   ],
   "source": [
    "# Voy a crea el perfil de un usuario\n",
    "USUARIO = 75\n",
    "df_ratings_usuario = df_ratings[df_ratings[\"userID\"] == USUARIO]\n",
    "df_ratings_usuario.sort_values(\"rating\").head()"
   ]
  },
  {
   "cell_type": "code",
   "execution_count": 67,
   "metadata": {},
   "outputs": [
    {
     "output_type": "execute_result",
     "data": {
      "text/plain": [
       "        ID  userID  movieID  rating  date_day  date_month  date_year  \\\n",
       "13  525416      75     6225     0.5        29          10       2006   \n",
       "6   525408      75        3     1.0        29          10       2006   \n",
       "8   525410      75     2054     1.5        29          10       2006   \n",
       "27  525435      75     3258     1.5        29          10       2006   \n",
       "2   525403      75      160     2.0        29          10       2006   \n",
       "\n",
       "    date_hour  date_minute  date_second  ...  Genre Horror Genre Mystery  \\\n",
       "13         23           21           25  ...             0             0   \n",
       "6          23           17           16  ...             0             0   \n",
       "8          23           17           33  ...             0             0   \n",
       "27         23           26            8  ...             0             0   \n",
       "2          23           16           52  ...             0             1   \n",
       "\n",
       "    Genre Sci-Fi  Genre IMAX Genre Documentary  Genre War  Genre Musical  \\\n",
       "13             0           0                 0          0              0   \n",
       "6              0           0                 0          0              0   \n",
       "8              1           0                 0          0              0   \n",
       "27             0           0                 0          0              0   \n",
       "2              1           0                 0          0              0   \n",
       "\n",
       "    Genre Film-Noir  Genre Western  Genre Short  \n",
       "13                0              0            0  \n",
       "6                 0              0            0  \n",
       "8                 0              0            0  \n",
       "27                0              0            0  \n",
       "2                 0              0            0  \n",
       "\n",
       "[5 rows x 35 columns]"
      ],
      "text/html": "<div>\n<style scoped>\n    .dataframe tbody tr th:only-of-type {\n        vertical-align: middle;\n    }\n\n    .dataframe tbody tr th {\n        vertical-align: top;\n    }\n\n    .dataframe thead th {\n        text-align: right;\n    }\n</style>\n<table border=\"1\" class=\"dataframe\">\n  <thead>\n    <tr style=\"text-align: right;\">\n      <th></th>\n      <th>ID</th>\n      <th>userID</th>\n      <th>movieID</th>\n      <th>rating</th>\n      <th>date_day</th>\n      <th>date_month</th>\n      <th>date_year</th>\n      <th>date_hour</th>\n      <th>date_minute</th>\n      <th>date_second</th>\n      <th>...</th>\n      <th>Genre Horror</th>\n      <th>Genre Mystery</th>\n      <th>Genre Sci-Fi</th>\n      <th>Genre IMAX</th>\n      <th>Genre Documentary</th>\n      <th>Genre War</th>\n      <th>Genre Musical</th>\n      <th>Genre Film-Noir</th>\n      <th>Genre Western</th>\n      <th>Genre Short</th>\n    </tr>\n  </thead>\n  <tbody>\n    <tr>\n      <th>13</th>\n      <td>525416</td>\n      <td>75</td>\n      <td>6225</td>\n      <td>0.5</td>\n      <td>29</td>\n      <td>10</td>\n      <td>2006</td>\n      <td>23</td>\n      <td>21</td>\n      <td>25</td>\n      <td>...</td>\n      <td>0</td>\n      <td>0</td>\n      <td>0</td>\n      <td>0</td>\n      <td>0</td>\n      <td>0</td>\n      <td>0</td>\n      <td>0</td>\n      <td>0</td>\n      <td>0</td>\n    </tr>\n    <tr>\n      <th>6</th>\n      <td>525408</td>\n      <td>75</td>\n      <td>3</td>\n      <td>1.0</td>\n      <td>29</td>\n      <td>10</td>\n      <td>2006</td>\n      <td>23</td>\n      <td>17</td>\n      <td>16</td>\n      <td>...</td>\n      <td>0</td>\n      <td>0</td>\n      <td>0</td>\n      <td>0</td>\n      <td>0</td>\n      <td>0</td>\n      <td>0</td>\n      <td>0</td>\n      <td>0</td>\n      <td>0</td>\n    </tr>\n    <tr>\n      <th>8</th>\n      <td>525410</td>\n      <td>75</td>\n      <td>2054</td>\n      <td>1.5</td>\n      <td>29</td>\n      <td>10</td>\n      <td>2006</td>\n      <td>23</td>\n      <td>17</td>\n      <td>33</td>\n      <td>...</td>\n      <td>0</td>\n      <td>0</td>\n      <td>1</td>\n      <td>0</td>\n      <td>0</td>\n      <td>0</td>\n      <td>0</td>\n      <td>0</td>\n      <td>0</td>\n      <td>0</td>\n    </tr>\n    <tr>\n      <th>27</th>\n      <td>525435</td>\n      <td>75</td>\n      <td>3258</td>\n      <td>1.5</td>\n      <td>29</td>\n      <td>10</td>\n      <td>2006</td>\n      <td>23</td>\n      <td>26</td>\n      <td>8</td>\n      <td>...</td>\n      <td>0</td>\n      <td>0</td>\n      <td>0</td>\n      <td>0</td>\n      <td>0</td>\n      <td>0</td>\n      <td>0</td>\n      <td>0</td>\n      <td>0</td>\n      <td>0</td>\n    </tr>\n    <tr>\n      <th>2</th>\n      <td>525403</td>\n      <td>75</td>\n      <td>160</td>\n      <td>2.0</td>\n      <td>29</td>\n      <td>10</td>\n      <td>2006</td>\n      <td>23</td>\n      <td>16</td>\n      <td>52</td>\n      <td>...</td>\n      <td>0</td>\n      <td>1</td>\n      <td>1</td>\n      <td>0</td>\n      <td>0</td>\n      <td>0</td>\n      <td>0</td>\n      <td>0</td>\n      <td>0</td>\n      <td>0</td>\n    </tr>\n  </tbody>\n</table>\n<p>5 rows × 35 columns</p>\n</div>"
     },
     "metadata": {},
     "execution_count": 67
    }
   ],
   "source": [
    "# Ahora lo que busco es condensar sus gustos de pelicula por los generos.\n",
    "# Mergeo al rating de un usuario el perfil de cada pelicula\n",
    "df_ratings_usuario = df_ratings[df_ratings[\"userID\"] == USUARIO].merge(df_movies, left_on=\"movieID\", right_on=\"id\")\n",
    "df_ratings_usuario.sort_values(\"rating\").head()"
   ]
  },
  {
   "source": [
    "### Ahora lo que busco es agrupar toda esta tabla en una sola lista, donde pueda sumar los generos para tener para un solo usuario el perfil completo."
   ],
   "cell_type": "markdown",
   "metadata": {}
  },
  {
   "cell_type": "code",
   "execution_count": 18,
   "metadata": {},
   "outputs": [
    {
     "output_type": "execute_result",
     "data": {
      "text/plain": [
       "(0.7333333333333333, 0.3111111111111111, 0.3333333333333333)"
      ]
     },
     "metadata": {},
     "execution_count": 18
    }
   ],
   "source": [
    "# Veo para el usuario 75 que porcentaje tiene sobre los generos Action, Comedy y Drama de las peliculas que opino.\n",
    "df_ratings_usuario[\"Genre Action\"].mean(), df_ratings_usuario[\"Genre Comedy\"].mean(), df_ratings_usuario[\"Genre Drama\"].mean()"
   ]
  },
  {
   "cell_type": "code",
   "execution_count": 74,
   "metadata": {},
   "outputs": [
    {
     "output_type": "execute_result",
     "data": {
      "text/plain": [
       "2.6666666666666665"
      ]
     },
     "metadata": {},
     "execution_count": 74
    }
   ],
   "source": [
    "# Una mejor manera de ranquear, es tomar el minimo y el maximo raking que el usuario puso y no el 1-5 que es el estandar. Si un usuario siempre vota de 3-5, entonces se usa esa base.\n",
    "\n",
    "(df_ratings_usuario[\"Genre Action\"] * df_ratings_usuario[\"rating\"]).mean()\n"
   ]
  },
  {
   "cell_type": "code",
   "execution_count": 83,
   "metadata": {},
   "outputs": [
    {
     "output_type": "execute_result",
     "data": {
      "text/plain": [
       "(0.7272727272727273, 0.7533333333333333, 0.6357142857142857)"
      ]
     },
     "metadata": {},
     "execution_count": 83
    }
   ],
   "source": [
    "# Si saco la media, me da CERO en los que no tiene accion y un numero de votacion sobre los que si tenian accion. Idealmente no deberia contar los CEROs.\n",
    "# Lo Normalizo por la cantidad de votaciones posibles\n",
    "df_ratings_usuario.loc[df_ratings_usuario[\"Genre Action\"]==1, \"rating\"].mean() / 5.0, df_ratings_usuario.loc[df_ratings_usuario[\"Genre Drama\"]==1, \"rating\"].mean() / 5.0, df_ratings_usuario.loc[df_ratings_usuario[\"Genre Comedy\"]==1, \"rating\"].mean() / 5.0"
   ]
  },
  {
   "source": [
    "### Esto va generado varios vectores entre CERO y UNO y el vector del usuario. Luego deberia buscar cual es el vector mas cercano."
   ],
   "cell_type": "markdown",
   "metadata": {}
  },
  {
   "cell_type": "code",
   "execution_count": 85,
   "metadata": {},
   "outputs": [
    {
     "output_type": "stream",
     "name": "stdout",
     "text": [
      "{'Genre Action': [0.7272727272727273], 'Genre Adventure': [0.6571428571428571], 'Genre Animation': [0.9], 'Genre Children': [0.3], 'Genre Comedy': [0.6357142857142857], 'Genre Fantasy': [0.625], 'Genre Romance': [0.5], 'Genre Drama': [0.7533333333333333], 'Genre Crime': [0.8300000000000001], 'Genre Thriller': [0.7761904761904762], 'Genre Horror': [0.7], 'Genre Mystery': [0.55], 'Genre Sci-Fi': [0.6538461538461539], 'Genre IMAX': [nan], 'Genre Documentary': [nan], 'Genre War': [0.7333333333333333], 'Genre Musical': [0.9], 'Genre Film-Noir': [nan], 'Genre Western': [0.5], 'Genre Short': [nan]}\n"
     ]
    }
   ],
   "source": [
    "# Perfil del USER 75, la idea es generar el perfil para los usuarios.\n",
    "# Creo PERFIL como diccionario\n",
    "PERFIL ={}\n",
    "for c in df_ratings_usuario.columns:\n",
    "    # Me quedo solo con las columnas que empiezan con GENRE \n",
    "    if not c.startswith(\"Genre\"):\n",
    "       continue\n",
    "\n",
    "    PERFIL[c] = [df_ratings_usuario.loc[df_ratings_usuario[c]==1, \"rating\"].mean() / 5.0]\n",
    "\n",
    "print(PERFIL)\n",
    "\n"
   ]
  },
  {
   "cell_type": "code",
   "execution_count": 86,
   "metadata": {},
   "outputs": [
    {
     "output_type": "execute_result",
     "data": {
      "text/plain": [
       "   Genre Action  Genre Adventure  Genre Animation  Genre Children  \\\n",
       "0      0.727273         0.657143              0.9             0.3   \n",
       "\n",
       "   Genre Comedy  Genre Fantasy  Genre Romance  Genre Drama  Genre Crime  \\\n",
       "0      0.635714          0.625            0.5     0.753333         0.83   \n",
       "\n",
       "   Genre Thriller  Genre Horror  Genre Mystery  Genre Sci-Fi  Genre IMAX  \\\n",
       "0         0.77619           0.7           0.55      0.653846         0.0   \n",
       "\n",
       "   Genre Documentary  Genre War  Genre Musical  Genre Film-Noir  \\\n",
       "0                0.0   0.733333            0.9              0.0   \n",
       "\n",
       "   Genre Western  Genre Short  \n",
       "0            0.5          0.0  "
      ],
      "text/html": "<div>\n<style scoped>\n    .dataframe tbody tr th:only-of-type {\n        vertical-align: middle;\n    }\n\n    .dataframe tbody tr th {\n        vertical-align: top;\n    }\n\n    .dataframe thead th {\n        text-align: right;\n    }\n</style>\n<table border=\"1\" class=\"dataframe\">\n  <thead>\n    <tr style=\"text-align: right;\">\n      <th></th>\n      <th>Genre Action</th>\n      <th>Genre Adventure</th>\n      <th>Genre Animation</th>\n      <th>Genre Children</th>\n      <th>Genre Comedy</th>\n      <th>Genre Fantasy</th>\n      <th>Genre Romance</th>\n      <th>Genre Drama</th>\n      <th>Genre Crime</th>\n      <th>Genre Thriller</th>\n      <th>Genre Horror</th>\n      <th>Genre Mystery</th>\n      <th>Genre Sci-Fi</th>\n      <th>Genre IMAX</th>\n      <th>Genre Documentary</th>\n      <th>Genre War</th>\n      <th>Genre Musical</th>\n      <th>Genre Film-Noir</th>\n      <th>Genre Western</th>\n      <th>Genre Short</th>\n    </tr>\n  </thead>\n  <tbody>\n    <tr>\n      <th>0</th>\n      <td>0.727273</td>\n      <td>0.657143</td>\n      <td>0.9</td>\n      <td>0.3</td>\n      <td>0.635714</td>\n      <td>0.625</td>\n      <td>0.5</td>\n      <td>0.753333</td>\n      <td>0.83</td>\n      <td>0.77619</td>\n      <td>0.7</td>\n      <td>0.55</td>\n      <td>0.653846</td>\n      <td>0.0</td>\n      <td>0.0</td>\n      <td>0.733333</td>\n      <td>0.9</td>\n      <td>0.0</td>\n      <td>0.5</td>\n      <td>0.0</td>\n    </tr>\n  </tbody>\n</table>\n</div>"
     },
     "metadata": {},
     "execution_count": 86
    }
   ],
   "source": [
    "# Lo convierto en un DataFrame\n",
    "# fillna(0) me llena los nan como CERO\n",
    "df_perfil = pd.DataFrame.from_dict(PERFIL).fillna(0)\n",
    "df_perfil"
   ]
  },
  {
   "source": [
    "### Este es el perfil del usuario 75, e informa segun lo que califico cuales son los generos que estan mas cerca de su gusto.\n",
    "### Ahora lo que busco es cuales son las peliculas que estan mas cerca de este usuario usando la Similitud Coseno (1 es super similar)"
   ],
   "cell_type": "markdown",
   "metadata": {}
  },
  {
   "cell_type": "code",
   "execution_count": 91,
   "metadata": {},
   "outputs": [],
   "source": [
    "# Agarro una pelicula cualquier y me fijo que tan cerca o lejos esta de su perfil.\n",
    "MOVIE = 65088\n",
    "movie = df_movies.query(f\"id=={MOVIE}\")\n",
    "columnas_genero = [c for c in df_movies.columns if c.startswith(\"Genre\")]\n",
    "A = movie[columnas_genero].values[0]\n",
    "B = df_perfil[columnas_genero].values[0]\n",
    "# A es la pelicula y B es el perfil del usuario"
   ]
  },
  {
   "cell_type": "code",
   "execution_count": 92,
   "metadata": {},
   "outputs": [
    {
     "output_type": "execute_result",
     "data": {
      "text/plain": [
       "0.33397865808365"
      ]
     },
     "metadata": {},
     "execution_count": 92
    }
   ],
   "source": [
    "# El perfil\n",
    "# Similaridad Coseno, mientras mas cerca del 1 mejor\n",
    "np.dot(A,B) / (np.linalg.norm(A) * np.linalg.norm(B))"
   ]
  },
  {
   "cell_type": "code",
   "execution_count": null,
   "metadata": {},
   "outputs": [],
   "source": [
    "# Ahora busco hacerlo para todas las peliculas\n",
    "\n",
    "columnas_genero = [c for c in df_movies.columns if c.startswith(\"Genre\")]\n",
    "B = df_perfil[columnas_genero].values[0]\n",
    "\n",
    "for index, row in df_movies.iterrows():    \n",
    "    movie = df_movies.query(\"id == {}\".format(row[\"id\"]))\n",
    "\n",
    "    A = movie[columnas_genero].values[0]\n",
    "    #print(row[\"id\"], np.dot(A, B) / (np.linalg.norm(A) * np.linalg.norm(B)))\n",
    "\n",
    "#0.49472772819267147 * 5.0\n",
    "# Si tomo el mayor y lo multiplico por 5, eso me da el rating.\n",
    "\n",
    "# Tambien podria tomar las 5 con mayor rating y podria decir que esas son las 5 que mas le deberian gustar.\n",
    "# No deberia mostrarle peliculas que YA vio, porque esas podrian ser muy cercanas.\n",
    "# Esta tecnica me permite con 1 sola pelicula, ya empezar a recomendarle peliculas similares."
   ]
  },
  {
   "cell_type": "code",
   "execution_count": null,
   "metadata": {},
   "outputs": [],
   "source": [
    "# Con el pais podria hacer algo similar y decir para cada usuario que pais de pelicula prefiere. Pero quizas no haya que hacer * 5.0?\n",
    "# Podria pondear los generos por 0.6 y los paises por 0.4 ...\n",
    "# Como reflejar en el perfil del usuario que prefiere peliculas a partir del año 2000?\n",
    "# Se podrian hacer bines por decadas. Agregar el año en el perfil, etc. \n",
    "# (año- minimoAño / maximoAño - minimoAños) los paso a CERO y UNO, y mutiplico año contra año.\n",
    "# Podria incluir\n",
    "# Año, directores, actores, paises, etc."
   ]
  },
  {
   "source": [
    "# Calculo para todos los usuarios"
   ],
   "cell_type": "markdown",
   "metadata": {}
  }
 ],
 "metadata": {
  "kernelspec": {
   "name": "Python 3.7.5 64-bit ('base': conda)",
   "display_name": "Python 3.7.5 64-bit ('base': conda)",
   "metadata": {
    "interpreter": {
     "hash": "9a37e5188a605e95d3282a4fb8007f4c3c52885d8cd12f2ffcfc398feaa7ff36"
    }
   }
  },
  "language_info": {
   "codemirror_mode": {
    "name": "ipython",
    "version": 3
   },
   "file_extension": ".py",
   "mimetype": "text/x-python",
   "name": "python",
   "nbconvert_exporter": "python",
   "pygments_lexer": "ipython3",
   "version": "3.7.5-final"
  }
 },
 "nbformat": 4,
 "nbformat_minor": 4
}