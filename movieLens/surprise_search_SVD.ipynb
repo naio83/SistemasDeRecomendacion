{
 "cells": [
  {
   "cell_type": "code",
   "execution_count": 1,
   "metadata": {},
   "outputs": [],
   "source": [
    "import pandas as pd\n",
    "import numpy as np\n",
    "import matplotlib.pyplot as plt\n",
    "%matplotlib inline\n",
    "import surprise as sp\n",
    "from surprise.model_selection import cross_validate\n",
    "from surprise.model_selection import GridSearchCV, RandomizedSearchCV\n",
    "from surprise import KNNBasic, KNNWithMeans, KNNWithZScore, SVD, NMF\n",
    "from sklearn.model_selection import train_test_split\n",
    "from sklearn.metrics import mean_squared_error, r2_score\n",
    "from tqdm import tqdm, tqdm_notebook\n",
    "import time\n",
    "import os"
   ]
  },
  {
   "source": [
    "## Comparativa Metodos KNN y Busqueda de hiperParametros"
   ],
   "cell_type": "markdown",
   "metadata": {}
  },
  {
   "cell_type": "code",
   "execution_count": 17,
   "metadata": {},
   "outputs": [],
   "source": [
    "df_train = pd.read_csv('./data/ratings_train.csv')\n",
    "df_test = pd.read_csv('./data/ratings_test.csv')"
   ]
  },
  {
   "cell_type": "code",
   "execution_count": 18,
   "metadata": {},
   "outputs": [
    {
     "output_type": "stream",
     "name": "stdout",
     "text": [
      "(770089, 10) (85509, 10)\n"
     ]
    }
   ],
   "source": [
    "#trainset, testset = train_test_split(df_train, test_size=0.30)\n",
    "trainset = df_train\n",
    "testset = df_test\n",
    "print(trainset.shape, testset.shape)"
   ]
  },
  {
   "cell_type": "code",
   "execution_count": 4,
   "metadata": {},
   "outputs": [],
   "source": [
    "#trainset.isnull().sum()"
   ]
  },
  {
   "source": [
    "## HiperParametros"
   ],
   "cell_type": "markdown",
   "metadata": {}
  },
  {
   "cell_type": "code",
   "execution_count": 19,
   "metadata": {},
   "outputs": [],
   "source": [
    "reader = sp.reader.Reader(rating_scale=(0.5, 5))\n",
    "data_train= sp.dataset.Dataset.load_from_df(df_train[['userID', 'movieID', 'rating']], reader)\n",
    "\n",
    "\n",
    "# opciones del algoritmo\n",
    "param_grid_svd = {'n_factors': [80, 90, 100, 110, 120], 'n_epochs': [10, 15, 20, 25, 30], 'lr_all': [0.001, 0.003, 0.005, 0.008],\n",
    "              'reg_all': [0.01, 0.02, 0.03]}\n",
    "\n",
    "param_grid_nmf = {'n_factors': [5, 10, 15, 20, 25], 'n_epochs': [40, 50, 60]}\n",
    "\n",
    "SVD_algo = SVD()\n",
    "NMF_algo = NMF()\n",
    "# Run 5-fold cross-validation and print results\n",
    "#cross_validate(SVD_algo, data_train, measures=['RMSE', 'MAE'], cv=5, verbose=True)\n",
    "#print(\"======================================\")\n",
    "#cross_validate(NMF_algo, data_train, measures=['RMSE', 'MAE'], cv=5, verbose=True)\n"
   ]
  },
  {
   "cell_type": "code",
   "execution_count": 5,
   "metadata": {},
   "outputs": [],
   "source": [
    "#gs = GridSearchCV(SVD, param_grid, measures=['rmse', 'mae'], cv=3)\n",
    "#gs.fit(data)\n",
    "#print(\"SVD\")\n",
    "#print('RMSE =', gs.best_params['rmse']) #, 'MAE =', knnbasic_gs.best_params['mae'])"
   ]
  },
  {
   "cell_type": "code",
   "execution_count": 6,
   "metadata": {},
   "outputs": [
    {
     "output_type": "stream",
     "name": "stdout",
     "text": [
      "SVD\nRMSE = {'n_factors': 110, 'n_epochs': 10, 'lr_all': 0.008, 'reg_all': 0.03}\ntiempo:  1035.5437660217285\n"
     ]
    }
   ],
   "source": [
    "t_0 = time.time()\n",
    "svd_rs = RandomizedSearchCV(SVD, param_grid_svd, measures=['rmse', 'mae'],n_iter=10, n_jobs=-1)\n",
    "svd_rs.fit(data_train)\n",
    "print(\"SVD\")\n",
    "print('RMSE =', svd_rs.best_params['rmse']) \n",
    "print (\"tiempo: \", time.time() - t_0)"
   ]
  },
  {
   "cell_type": "code",
   "execution_count": 7,
   "metadata": {},
   "outputs": [
    {
     "output_type": "stream",
     "name": "stdout",
     "text": [
      "NMF\nRMSE = {'n_factors': 15, 'n_epochs': 60}\ntiempo:  1071.4651556015015\n"
     ]
    }
   ],
   "source": [
    "t_0 = time.time()\n",
    "nmf_rs = RandomizedSearchCV(NMF, param_grid_nmf, measures=['rmse', 'mae'],n_iter=10, n_jobs=-1)\n",
    "nmf_rs.fit(data_train)\n",
    "print(\"NMF\")\n",
    "print('RMSE =', nmf_rs.best_params['rmse']) \n",
    "print (\"tiempo: \", time.time() - t_0)"
   ]
  },
  {
   "cell_type": "code",
   "execution_count": 20,
   "metadata": {},
   "outputs": [],
   "source": [
    "#bsl_svd_options = {'n_factors': 90, 'n_epochs': 15, 'lr_all': 0.005, 'reg_all': 0.03 }\n",
    "#bsl_nmf_options = {'n_factors': 20, 'n_epochs': 40 }\n",
    "\n",
    "SVD_algo = SVD(n_factors= 110, n_epochs= 10, lr_all= 0.008, reg_all= 0.03)\n",
    "NMF_algo = NMF(n_factors= 15, n_epochs= 60)"
   ]
  },
  {
   "cell_type": "code",
   "execution_count": 21,
   "metadata": {},
   "outputs": [],
   "source": [
    "trainset_model = data_train.build_full_trainset()"
   ]
  },
  {
   "cell_type": "code",
   "execution_count": 22,
   "metadata": {},
   "outputs": [
    {
     "output_type": "stream",
     "name": "stdout",
     "text": [
      "tiempo:  27.544204235076904\n"
     ]
    }
   ],
   "source": [
    "t_0 = time.time()\n",
    "pred_SVD = SVD_algo.fit(trainset_model)\n",
    "print (\"tiempo: \", time.time() - t_0)"
   ]
  },
  {
   "cell_type": "code",
   "execution_count": 23,
   "metadata": {},
   "outputs": [
    {
     "output_type": "stream",
     "name": "stdout",
     "text": [
      "tiempo:  69.26765632629395\n"
     ]
    }
   ],
   "source": [
    "t_0 = time.time()\n",
    "pred_NMF = NMF_algo.fit(trainset_model)\n",
    "print (\"tiempo: \", time.time() - t_0)"
   ]
  },
  {
   "cell_type": "code",
   "execution_count": 24,
   "metadata": {},
   "outputs": [
    {
     "output_type": "stream",
     "name": "stdout",
     "text": [
      "85509\n"
     ]
    }
   ],
   "source": [
    "print(len(testset))"
   ]
  },
  {
   "cell_type": "code",
   "execution_count": 25,
   "metadata": {},
   "outputs": [],
   "source": [
    "def full_prediction(algo_name,algoritmo,test):\n",
    "    list_pred = []\n",
    "    for index, row in tqdm_notebook(test.iterrows()):\n",
    "        row_pred = dict()\n",
    "        uid = row.userID\n",
    "        iid = row.movieID\n",
    "        pred = algoritmo.predict(uid, iid, verbose=False)\n",
    "        row_pred[\"ID\"] = row.ID.astype(int)\n",
    "        row_pred[\"rating\"] = np.around(pred.est, 2)\n",
    "        list_pred.append(row_pred)\n",
    "    print(row.ID.astype(int))\n",
    "    df = pd.DataFrame(list_pred)    \n",
    "    return list_pred\n",
    "    #print(algo_name + \" MSE:      %.4f\" % mean_squared_error(test.rating, df.rating))"
   ]
  },
  {
   "cell_type": "code",
   "execution_count": 28,
   "metadata": {
    "tags": []
   },
   "outputs": [
    {
     "output_type": "display_data",
     "data": {
      "text/plain": "HBox(children=(FloatProgress(value=1.0, bar_style='info', max=1.0), HTML(value='')))",
      "application/vnd.jupyter.widget-view+json": {
       "version_major": 2,
       "version_minor": 0,
       "model_id": "448a4eaad9f04462b286fc95b18eae5f"
      }
     },
     "metadata": {}
    },
    {
     "output_type": "stream",
     "name": "stdout",
     "text": [
      "\n855571\n"
     ]
    },
    {
     "output_type": "display_data",
     "data": {
      "text/plain": "HBox(children=(FloatProgress(value=1.0, bar_style='info', max=1.0), HTML(value='')))",
      "application/vnd.jupyter.widget-view+json": {
       "version_major": 2,
       "version_minor": 0,
       "model_id": "ee15c70c42504ac79c9ad04bc7497982"
      }
     },
     "metadata": {}
    },
    {
     "output_type": "stream",
     "name": "stdout",
     "text": [
      "\n855571\n"
     ]
    }
   ],
   "source": [
    "df_list_pred_SVD = pd.DataFrame(full_prediction(\"SVD\",SVD_algo,testset))\n",
    "df_list_pred_NMF = pd.DataFrame(full_prediction(\"NMF\",NMF_algo,testset))\n",
    "\n",
    "#full_prediction(\"NMF\",NMF_algo,testset)"
   ]
  },
  {
   "cell_type": "code",
   "execution_count": 29,
   "metadata": {},
   "outputs": [],
   "source": [
    "df_list_pred_SVD.to_csv(\"./results/ignacio_submit_SVD.csv\", index=False)\n",
    "df_list_pred_NMF.to_csv(\"./results/ignacio_submit_MSE.csv\", index=False)"
   ]
  },
  {
   "cell_type": "code",
   "execution_count": null,
   "metadata": {},
   "outputs": [],
   "source": []
  }
 ],
 "metadata": {
  "kernelspec": {
   "name": "python3",
   "display_name": "Python 3.7.5 64-bit ('base': conda)",
   "metadata": {
    "interpreter": {
     "hash": "9a37e5188a605e95d3282a4fb8007f4c3c52885d8cd12f2ffcfc398feaa7ff36"
    }
   }
  },
  "language_info": {
   "codemirror_mode": {
    "name": "ipython",
    "version": 3
   },
   "file_extension": ".py",
   "mimetype": "text/x-python",
   "name": "python",
   "nbconvert_exporter": "python",
   "pygments_lexer": "ipython3",
   "version": "3.7.5-final"
  }
 },
 "nbformat": 4,
 "nbformat_minor": 4
}