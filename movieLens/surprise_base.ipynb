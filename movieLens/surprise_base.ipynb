{
 "cells": [
  {
   "cell_type": "code",
   "execution_count": 125,
   "metadata": {},
   "outputs": [],
   "source": [
    "import pandas as pd\n",
    "import numpy as np\n",
    "import matplotlib.pyplot as plt\n",
    "%matplotlib inline\n",
    "import surprise as sp\n",
    "from surprise.model_selection import cross_validate\n",
    "from surprise.model_selection import GridSearchCV, RandomizedSearchCV\n",
    "from surprise import KNNBasic, KNNWithMeans, KNNWithZScore\n",
    "from sklearn.model_selection import train_test_split\n",
    "from sklearn.metrics import mean_squared_error, r2_score\n",
    "from tqdm import tqdm, tqdm_notebook\n",
    "\n",
    "import os"
   ]
  },
  {
   "source": [
    "## Ejemplo  Surprise\n",
    "### https://surprise.readthedocs.io/en/stable/"
   ],
   "cell_type": "markdown",
   "metadata": {}
  },
  {
   "cell_type": "code",
   "execution_count": 2,
   "metadata": {},
   "outputs": [],
   "source": [
    "df_train = pd.read_csv('./data/ratings_train.csv')\n",
    "df_test = pd.read_csv('./data/ratings_test.csv')"
   ]
  },
  {
   "cell_type": "code",
   "execution_count": 38,
   "metadata": {},
   "outputs": [
    {
     "output_type": "stream",
     "name": "stdout",
     "text": [
      "(770089, 10) (85509, 10)\n"
     ]
    }
   ],
   "source": [
    "trainset, testset = train_test_split(df_train, test_size=0.30)\n",
    "#trainset = df_train\n",
    "#testset = df_test\n",
    "print(trainset.shape, testset.shape)"
   ]
  },
  {
   "cell_type": "code",
   "execution_count": 39,
   "metadata": {},
   "outputs": [],
   "source": [
    "# Escala del rating (lo usar para hacer maximo y minimo), podria levantar info del archivo.\n",
    "\n",
    "reader = sp.reader.Reader(rating_scale=(0.5, 5))\n",
    "\n",
    "data= sp.dataset.Dataset.load_from_df(trainset[['userID', 'movieID', 'rating']], reader)\n",
    "#testset= sp.dataset.Dataset.load_from_df(testset[['userID', 'movieID', 'rating']], reader)"
   ]
  },
  {
   "cell_type": "code",
   "execution_count": 40,
   "metadata": {},
   "outputs": [],
   "source": [
    "# opciones del algoritmo\n",
    "sim_options = {\n",
    "    'name': 'pearson_baseline', # Podria ser \"cosine\" o \"MSD\", \"pearson\", \"pearson_baseline\"\n",
    "    'user_based': False, #False,   # TRUE basado en Usuarios (compara usuarios con usuarios), False basado en Items. (Hay que probar)\n",
    "    #'shrinkage': 1  # no shrinkage\n",
    "}\n",
    "\n",
    "# Algoritmo a usar para predecir\n",
    "# algo = sp.NormalPredictor() toma un numero al azar\n",
    "\n",
    "# min_k minima cantidad de vecinos\n",
    "#algo = sp.prediction_algorithms.knns.KNNBasic(k=40, min_k=10, sim_options=sim_options)\n",
    "algo = sp.prediction_algorithms.knns.KNNWithMeans(k=30, min_k=4, sim_options=sim_options)\n",
    "# n_jobs= -1 para que tome todos los procesadores.\n",
    "# sp.model_selection.validation.cross_validate(algo, data, measures=['rmse', 'mae'], cv=5, n_jobs=-1)\n"
   ]
  },
  {
   "cell_type": "code",
   "execution_count": 41,
   "metadata": {},
   "outputs": [],
   "source": [
    "trainset = data.build_full_trainset()"
   ]
  },
  {
   "cell_type": "code",
   "execution_count": 42,
   "metadata": {},
   "outputs": [
    {
     "output_type": "stream",
     "name": "stdout",
     "text": [
      "Estimating biases using als...\n",
      "Computing the pearson_baseline similarity matrix...\n",
      "Done computing similarity matrix.\n"
     ]
    }
   ],
   "source": [
    "predictions = algo.fit(trainset)#.test(testset)\n",
    "#accuracy.rmse(predictions)"
   ]
  },
  {
   "cell_type": "code",
   "execution_count": 43,
   "metadata": {},
   "outputs": [],
   "source": [
    "#uid = str(33349)  # raw user id (as in the ratings file). They are **strings**!\n",
    "#iid = str(2791)  # raw item id (as in the ratings file). They are **strings**!\n",
    "\n",
    "# get a prediction for specific users and items.\n",
    "#pred_1 = algo.predict(uid, iid, r_ui=4, verbose=True)"
   ]
  },
  {
   "cell_type": "code",
   "execution_count": 44,
   "metadata": {},
   "outputs": [
    {
     "output_type": "execute_result",
     "data": {
      "text/plain": [
       "85509"
      ]
     },
     "metadata": {},
     "execution_count": 44
    }
   ],
   "source": [
    "len(testset)"
   ]
  },
  {
   "cell_type": "code",
   "execution_count": 45,
   "metadata": {
    "tags": []
   },
   "outputs": [
    {
     "output_type": "display_data",
     "data": {
      "text/plain": "HBox(children=(FloatProgress(value=1.0, bar_style='info', max=1.0), HTML(value='')))",
      "application/vnd.jupyter.widget-view+json": {
       "version_major": 2,
       "version_minor": 0,
       "model_id": "8c089e62d24647f3bd7c0327b6904fcd"
      }
     },
     "metadata": {}
    },
    {
     "output_type": "stream",
     "name": "stdout",
     "text": [
      "\n"
     ]
    }
   ],
   "source": [
    "list_pred = []\n",
    "\n",
    "for index, row in tqdm_notebook(testset.iterrows()):\n",
    "    row_pred = dict()\n",
    "    uid = row.userID\n",
    "    iid = row.movieID\n",
    "    pred = algo.predict(uid, iid, verbose=False)\n",
    "    row_pred[\"ID\"] = row.ID.astype(int)\n",
    "    row_pred[\"rating\"] = np.around(pred.est, 2)\n",
    "    list_pred.append(row_pred)\n",
    "   "
   ]
  },
  {
   "cell_type": "code",
   "execution_count": 46,
   "metadata": {},
   "outputs": [
    {
     "output_type": "execute_result",
     "data": {
      "text/plain": [
       "85509"
      ]
     },
     "metadata": {},
     "execution_count": 46
    }
   ],
   "source": [
    "df_list_pred = pd.DataFrame(list_pred)\n",
    "len(df_list_pred)"
   ]
  },
  {
   "cell_type": "code",
   "execution_count": 27,
   "metadata": {},
   "outputs": [],
   "source": [
    "### Cosine: 0.7726, pearson: 0.75, MSD_True: 0.6851 , MSD_False=0.7023\n",
    "###\n",
    "### KNNWithMeans\n",
    "### MSD_True (min=5, max=40): 0.6612\n",
    "### MSD_True (min=2, max=40): 0.6611\n",
    "### MSD_True (min=1, max=30): 0.6640\n",
    "### MSD_True (min=2, max=50): 0.6603\n",
    "### pearson_baseline_True (min=2, max=50): 0.6299 >> 0.77689\n",
    "### pearson_baseline_True (min=5, max=30): 0.6287\n",
    "### pearson_baseline_True (min=5, max=40): 0.6276  \n",
    "### pearson_baseline_True (min=5, max=50): 0.6276\n",
    "### pearson_baseline_False (min=5, max=50): 0.6033 >>>>>> 0.75570\n",
    "### pearson_baseline_False (min=6, max=25): 0.6021 \n",
    "### pearson_baseline_False (min=5, max=15): 0.6081\n",
    "### pearson_baseline_False (min=4, max=30): 0.6015 <=======================\n",
    "### pearson_baseline_False (min=2, max=30): 0.6015\n",
    "### pearson_baseline_True (min=5, max=40, 'shrinkage': 0): 0.6425\n",
    "### pearson_baseline_True (min=5, max=40, 'shrinkage': 1): 0.6403\n",
    "### KNNWithZScore\n",
    "### pearson_baseline_False (min=6, max=40): 0.6021"
   ]
  },
  {
   "cell_type": "code",
   "execution_count": 36,
   "metadata": {},
   "outputs": [
    {
     "output_type": "stream",
     "name": "stdout",
     "text": [
      "Mean squared error: 0.6015\n"
     ]
    }
   ],
   "source": [
    "print('Mean squared error: %.4f' % mean_squared_error(testset.rating, df_list_pred.rating))"
   ]
  },
  {
   "source": [
    "## Corrida sobre TEST entrenando con todo TRAIN"
   ],
   "cell_type": "markdown",
   "metadata": {}
  },
  {
   "cell_type": "code",
   "execution_count": 47,
   "metadata": {},
   "outputs": [],
   "source": [
    "df_list_pred.to_csv(\"./results/ignacio_submit7.csv\", index=False)"
   ]
  },
  {
   "cell_type": "code",
   "execution_count": null,
   "metadata": {},
   "outputs": [],
   "source": []
  }
 ],
 "metadata": {
  "kernelspec": {
   "name": "Python 3.7.5 64-bit ('base': conda)",
   "display_name": "Python 3.7.5 64-bit ('base': conda)",
   "metadata": {
    "interpreter": {
     "hash": "9a37e5188a605e95d3282a4fb8007f4c3c52885d8cd12f2ffcfc398feaa7ff36"
    }
   }
  },
  "language_info": {
   "codemirror_mode": {
    "name": "ipython",
    "version": 3
   },
   "file_extension": ".py",
   "mimetype": "text/x-python",
   "name": "python",
   "nbconvert_exporter": "python",
   "pygments_lexer": "ipython3",
   "version": "3.7.5-final"
  }
 },
 "nbformat": 4,
 "nbformat_minor": 4
}