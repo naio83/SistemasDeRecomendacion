{
 "cells": [
  {
   "cell_type": "code",
   "execution_count": 1,
   "metadata": {},
   "outputs": [],
   "source": [
    "import pandas as pd\n",
    "import time\n",
    "import pandas_profiling\n",
    "import numpy as np\n",
    "import math\n",
    "import seaborn as sns\n",
    "import numpy as np\n",
    "from sklearn.linear_model import LinearRegression\n",
    "from sklearn import datasets\n",
    "from datetime import date, datetime\n",
    "from sklearn.metrics import mean_squared_error, r2_score\n",
    "from sklearn.model_selection import train_test_split\n",
    "from tqdm import tqdm, tqdm_notebook\n",
    "import matplotlib.pyplot as plt\n",
    "import json\n",
    "from pandas.io.json import json_normalize #package for flattening json in pandas df\n",
    "import gc\n",
    "import pymongo\n",
    "from pymongo import MongoClient\n",
    "import warnings, sys, os\n",
    "plt.style.use(\"seaborn\")\n",
    "sns.set(style=\"white\")"
   ]
  },
  {
   "cell_type": "code",
   "execution_count": 2,
   "metadata": {},
   "outputs": [],
   "source": [
    "#pd.set_option('display.max_colwidth', -1)\n",
    "#pd.set_option('display.max_colwidth', 100)"
   ]
  },
  {
   "source": [
    "## Carga Parcial"
   ],
   "cell_type": "markdown",
   "metadata": {}
  },
  {
   "cell_type": "code",
   "execution_count": 3,
   "metadata": {},
   "outputs": [
    {
     "output_type": "execute_result",
     "data": {
      "text/plain": [
       "' client = MongoClient(\\'localhost\\', 27017)\\ndb = client.sistReco\\nitem_data = db.item_data\\ntest = db.test\\ntrain = db.train\\n######## ITEM_DATA ########\\ndf_item_data = pd.DataFrame(list(item_data.find()))\\n#df_item_data.to_csv(\"./data/item_data.csv\", index=False)\\n######## TEST ########\\ndf_test = pd.DataFrame(list(test.find()))\\n#df_test.to_csv(\"./data/df_test.csv\", index=False)\\n#df_test_s = df_test[:3000]\\n#df_test_s.to_csv(\"./data/df_test_s.csv\", index=False)\\n######## TRAIN ########\\ndf_train = pd.DataFrame(list(train.find()))\\n#df_train.to_csv(\"./data/df_train.csv\", index=False)\\n#df_train_s = df_train[:7000]\\n#df_train_s.to_csv(\"./data/df_train_s.csv\", index=False) '"
      ]
     },
     "metadata": {},
     "execution_count": 3
    }
   ],
   "source": [
    "\"\"\" client = MongoClient('localhost', 27017)\n",
    "db = client.sistReco\n",
    "item_data = db.item_data\n",
    "test = db.test\n",
    "train = db.train\n",
    "######## ITEM_DATA ########\n",
    "df_item_data = pd.DataFrame(list(item_data.find()))\n",
    "#df_item_data.to_csv(\"./data/item_data.csv\", index=False)\n",
    "######## TEST ########\n",
    "df_test = pd.DataFrame(list(test.find()))\n",
    "#df_test.to_csv(\"./data/df_test.csv\", index=False)\n",
    "#df_test_s = df_test[:3000]\n",
    "#df_test_s.to_csv(\"./data/df_test_s.csv\", index=False)\n",
    "######## TRAIN ########\n",
    "df_train = pd.DataFrame(list(train.find()))\n",
    "#df_train.to_csv(\"./data/df_train.csv\", index=False)\n",
    "#df_train_s = df_train[:7000]\n",
    "#df_train_s.to_csv(\"./data/df_train_s.csv\", index=False) \"\"\""
   ]
  },
  {
   "cell_type": "code",
   "execution_count": 4,
   "metadata": {},
   "outputs": [
    {
     "output_type": "execute_result",
     "data": {
      "text/plain": [
       "' del [[df_test, df_train]]\\ngc.collect() '"
      ]
     },
     "metadata": {},
     "execution_count": 4
    }
   ],
   "source": [
    "\"\"\" del [[df_test, df_train]]\n",
    "gc.collect() \"\"\""
   ]
  },
  {
   "cell_type": "code",
   "execution_count": 5,
   "metadata": {},
   "outputs": [
    {
     "output_type": "execute_result",
     "data": {
      "text/plain": [
       "            event_info               event_timestamp event_type\n",
       "0              1786148  2019-10-19T11:25:42.444-0400       view\n",
       "1              1786148  2019-10-19T11:25:57.487-0400       view\n",
       "2   RELOGIO SMARTWATCH  2019-10-19T11:26:07.063-0400     search\n",
       "3              1615991  2019-10-19T11:27:26.879-0400       view\n",
       "4              1615991  2019-10-19T11:28:36.558-0400       view\n",
       "5              1615991  2019-10-19T11:28:40.827-0400       view\n",
       "6              1615991  2019-10-19T11:30:42.089-0400       view\n",
       "7              1615991  2019-10-19T21:51:29.622-0400       view\n",
       "8              1615991  2019-10-19T21:52:09.281-0400       view\n",
       "9              1615991  2019-10-19T21:52:41.863-0400       view\n",
       "10             1615991  2019-10-19T21:54:16.119-0400       view\n",
       "11             1615991  2019-10-19T21:54:40.629-0400       view\n",
       "12             1615991  2019-10-19T21:54:57.329-0400       view\n",
       "13             1615991  2019-10-19T22:00:04.577-0400       view\n",
       "14             1615991  2019-10-20T10:36:47.525-0400       view\n",
       "15             1615991  2019-10-20T10:37:23.202-0400       view\n",
       "16             1615991  2019-10-20T10:37:47.699-0400       view\n",
       "17             1615991  2019-10-20T19:28:14.619-0400       view\n",
       "18             1615991  2019-10-20T19:28:41.646-0400       view"
      ],
      "text/html": "<div>\n<style scoped>\n    .dataframe tbody tr th:only-of-type {\n        vertical-align: middle;\n    }\n\n    .dataframe tbody tr th {\n        vertical-align: top;\n    }\n\n    .dataframe thead th {\n        text-align: right;\n    }\n</style>\n<table border=\"1\" class=\"dataframe\">\n  <thead>\n    <tr style=\"text-align: right;\">\n      <th></th>\n      <th>event_info</th>\n      <th>event_timestamp</th>\n      <th>event_type</th>\n    </tr>\n  </thead>\n  <tbody>\n    <tr>\n      <th>0</th>\n      <td>1786148</td>\n      <td>2019-10-19T11:25:42.444-0400</td>\n      <td>view</td>\n    </tr>\n    <tr>\n      <th>1</th>\n      <td>1786148</td>\n      <td>2019-10-19T11:25:57.487-0400</td>\n      <td>view</td>\n    </tr>\n    <tr>\n      <th>2</th>\n      <td>RELOGIO SMARTWATCH</td>\n      <td>2019-10-19T11:26:07.063-0400</td>\n      <td>search</td>\n    </tr>\n    <tr>\n      <th>3</th>\n      <td>1615991</td>\n      <td>2019-10-19T11:27:26.879-0400</td>\n      <td>view</td>\n    </tr>\n    <tr>\n      <th>4</th>\n      <td>1615991</td>\n      <td>2019-10-19T11:28:36.558-0400</td>\n      <td>view</td>\n    </tr>\n    <tr>\n      <th>5</th>\n      <td>1615991</td>\n      <td>2019-10-19T11:28:40.827-0400</td>\n      <td>view</td>\n    </tr>\n    <tr>\n      <th>6</th>\n      <td>1615991</td>\n      <td>2019-10-19T11:30:42.089-0400</td>\n      <td>view</td>\n    </tr>\n    <tr>\n      <th>7</th>\n      <td>1615991</td>\n      <td>2019-10-19T21:51:29.622-0400</td>\n      <td>view</td>\n    </tr>\n    <tr>\n      <th>8</th>\n      <td>1615991</td>\n      <td>2019-10-19T21:52:09.281-0400</td>\n      <td>view</td>\n    </tr>\n    <tr>\n      <th>9</th>\n      <td>1615991</td>\n      <td>2019-10-19T21:52:41.863-0400</td>\n      <td>view</td>\n    </tr>\n    <tr>\n      <th>10</th>\n      <td>1615991</td>\n      <td>2019-10-19T21:54:16.119-0400</td>\n      <td>view</td>\n    </tr>\n    <tr>\n      <th>11</th>\n      <td>1615991</td>\n      <td>2019-10-19T21:54:40.629-0400</td>\n      <td>view</td>\n    </tr>\n    <tr>\n      <th>12</th>\n      <td>1615991</td>\n      <td>2019-10-19T21:54:57.329-0400</td>\n      <td>view</td>\n    </tr>\n    <tr>\n      <th>13</th>\n      <td>1615991</td>\n      <td>2019-10-19T22:00:04.577-0400</td>\n      <td>view</td>\n    </tr>\n    <tr>\n      <th>14</th>\n      <td>1615991</td>\n      <td>2019-10-20T10:36:47.525-0400</td>\n      <td>view</td>\n    </tr>\n    <tr>\n      <th>15</th>\n      <td>1615991</td>\n      <td>2019-10-20T10:37:23.202-0400</td>\n      <td>view</td>\n    </tr>\n    <tr>\n      <th>16</th>\n      <td>1615991</td>\n      <td>2019-10-20T10:37:47.699-0400</td>\n      <td>view</td>\n    </tr>\n    <tr>\n      <th>17</th>\n      <td>1615991</td>\n      <td>2019-10-20T19:28:14.619-0400</td>\n      <td>view</td>\n    </tr>\n    <tr>\n      <th>18</th>\n      <td>1615991</td>\n      <td>2019-10-20T19:28:41.646-0400</td>\n      <td>view</td>\n    </tr>\n  </tbody>\n</table>\n</div>"
     },
     "metadata": {},
     "execution_count": 5
    }
   ],
   "source": [
    "var = [{'event_info': 1786148, 'event_timestamp': '2019-10-19T11:25:42.444-0400', 'event_type': 'view'}, {'event_info': 1786148, 'event_timestamp': '2019-10-19T11:25:57.487-0400', 'event_type': 'view'}, {'event_info': 'RELOGIO SMARTWATCH', 'event_timestamp': '2019-10-19T11:26:07.063-0400', 'event_type': 'search'}, {'event_info': 1615991, 'event_timestamp': '2019-10-19T11:27:26.879-0400', 'event_type': 'view'}, {'event_info': 1615991, 'event_timestamp': '2019-10-19T11:28:36.558-0400', 'event_type': 'view'}, {'event_info': 1615991, 'event_timestamp': '2019-10-19T11:28:40.827-0400', 'event_type': 'view'}, {'event_info': 1615991, 'event_timestamp': '2019-10-19T11:30:42.089-0400', 'event_type': 'view'}, {'event_info': 1615991, 'event_timestamp': '2019-10-19T21:51:29.622-0400', 'event_type': 'view'}, {'event_info': 1615991, 'event_timestamp': '2019-10-19T21:52:09.281-0400', 'event_type': 'view'}, {'event_info': 1615991, 'event_timestamp': '2019-10-19T21:52:41.863-0400', 'event_type': 'view'}, {'event_info': 1615991, 'event_timestamp': '2019-10-19T21:54:16.119-0400', 'event_type': 'view'}, {'event_info': 1615991, 'event_timestamp': '2019-10-19T21:54:40.629-0400', 'event_type': 'view'}, {'event_info': 1615991, 'event_timestamp': '2019-10-19T21:54:57.329-0400', 'event_type': 'view'}, {'event_info': 1615991, 'event_timestamp': '2019-10-19T22:00:04.577-0400', 'event_type': 'view'}, {'event_info': 1615991, 'event_timestamp': '2019-10-20T10:36:47.525-0400', 'event_type': 'view'}, {'event_info': 1615991, 'event_timestamp': '2019-10-20T10:37:23.202-0400', 'event_type': 'view'}, {'event_info': 1615991, 'event_timestamp': '2019-10-20T10:37:47.699-0400', 'event_type': 'view'}, {'event_info': 1615991, 'event_timestamp': '2019-10-20T19:28:14.619-0400', 'event_type': 'view'}, {'event_info': 1615991, 'event_timestamp': '2019-10-20T19:28:41.646-0400', 'event_type': 'view'}]\t\n",
    "\n",
    "plain_json = json_normalize(var)\n",
    "plain_json"
   ]
  },
  {
   "cell_type": "code",
   "execution_count": 2,
   "metadata": {},
   "outputs": [],
   "source": [
    "df_test = pd.read_json('./data/raw/test_dataset.jl', lines=True)\n",
    "#df_train = pd.read_json('./data/raw/train_dataset.jl', lines=True)"
   ]
  },
  {
   "cell_type": "code",
   "execution_count": 12,
   "metadata": {},
   "outputs": [],
   "source": [
    "#df_train_s = df_train[:100000]"
   ]
  },
  {
   "cell_type": "code",
   "execution_count": 9,
   "metadata": {},
   "outputs": [
    {
     "output_type": "execute_result",
     "data": {
      "text/plain": [
       "                                        user_history  item_bought\n",
       "0  [{'event_info': 1786148, 'event_timestamp': '2...      1748830\n",
       "1  [{'event_info': 643652, 'event_timestamp': '20...       228737"
      ],
      "text/html": "<div>\n<style scoped>\n    .dataframe tbody tr th:only-of-type {\n        vertical-align: middle;\n    }\n\n    .dataframe tbody tr th {\n        vertical-align: top;\n    }\n\n    .dataframe thead th {\n        text-align: right;\n    }\n</style>\n<table border=\"1\" class=\"dataframe\">\n  <thead>\n    <tr style=\"text-align: right;\">\n      <th></th>\n      <th>user_history</th>\n      <th>item_bought</th>\n    </tr>\n  </thead>\n  <tbody>\n    <tr>\n      <th>0</th>\n      <td>[{'event_info': 1786148, 'event_timestamp': '2...</td>\n      <td>1748830</td>\n    </tr>\n    <tr>\n      <th>1</th>\n      <td>[{'event_info': 643652, 'event_timestamp': '20...</td>\n      <td>228737</td>\n    </tr>\n  </tbody>\n</table>\n</div>"
     },
     "metadata": {},
     "execution_count": 9
    }
   ],
   "source": [
    "df_1 = df_train[:2]\n",
    "df_1"
   ]
  },
  {
   "cell_type": "code",
   "execution_count": 13,
   "metadata": {},
   "outputs": [],
   "source": [
    "aux = json_normalize(df_1['user_history'][0])"
   ]
  },
  {
   "cell_type": "code",
   "execution_count": 7,
   "metadata": {
    "tags": []
   },
   "outputs": [],
   "source": [
    "def to_plain_dataset(df_in, array_out):\n",
    "    print(\"len: \",len(df_in) )\n",
    "    #plain_json = []\n",
    "    id = 0\n",
    "    for row in tqdm_notebook(df_in.itertuples()):  \n",
    "        json = json_normalize(row.user_history)\n",
    "        id = id + 1\n",
    "        for key in range(len(json)):\n",
    "            json_row = dict()\n",
    "            json_row[\"id\"] = id\n",
    "            json_row[\"event_info\"] = json.event_info[key]\n",
    "            json_row[\"event_timestamp\"] = json.event_timestamp[key]\n",
    "            json_row[\"event_type\"] = json.event_type[key]\n",
    "            #json_row[\"item_bought\"] = row.item_bought            \n",
    "            plain_json.append(json_row)        \n",
    "    #df_out = pd.DataFrame(plain_json)\n",
    "    return array_out"
   ]
  },
  {
   "cell_type": "code",
   "execution_count": 11,
   "metadata": {},
   "outputs": [
    {
     "output_type": "stream",
     "name": "stdout",
     "text": [
      "len:  177070\n"
     ]
    },
    {
     "output_type": "display_data",
     "data": {
      "text/plain": "HBox(children=(FloatProgress(value=1.0, bar_style='info', max=1.0), HTML(value='')))",
      "application/vnd.jupyter.widget-view+json": {
       "version_major": 2,
       "version_minor": 0,
       "model_id": "f5137d7fce2943f2b5ac36d886c91795"
      }
     },
     "metadata": {}
    },
    {
     "output_type": "stream",
     "name": "stdout",
     "text": [
      "\ntiempo:  612.7680552005768\n"
     ]
    }
   ],
   "source": [
    "t_0 = time.time()\n",
    "plain_json = []\n",
    "to_plain_dataset(df_test, plain_json)\n",
    "print (\"tiempo: \", time.time() - t_0)\n",
    "\n",
    "# 100 000 ===> tiempo:  322.5890488624573\n",
    "# 413 163 ===> tiempo:  1369.7225346565247"
   ]
  },
  {
   "cell_type": "code",
   "execution_count": 14,
   "metadata": {},
   "outputs": [],
   "source": [
    "#del [df_train]\n",
    "#gc.collect()"
   ]
  },
  {
   "cell_type": "code",
   "execution_count": 15,
   "metadata": {},
   "outputs": [
    {
     "output_type": "stream",
     "name": "stdout",
     "text": [
      "plain_len:  5187754\n",
      "tiempo:  7.783769607543945\n"
     ]
    },
    {
     "output_type": "execute_result",
     "data": {
      "text/plain": [
       "   id event_info               event_timestamp event_type\n",
       "0   1    1572239  2019-09-26T18:31:47.705-0400       view\n",
       "1   1    1572239  2019-09-26T18:35:04.724-0400       view\n",
       "2   1    1572239  2019-09-26T18:37:35.532-0400       view\n",
       "3   1    1572239  2019-09-26T18:38:54.680-0400       view\n",
       "4   1    1572239  2019-09-26T18:40:26.904-0400       view"
      ],
      "text/html": "<div>\n<style scoped>\n    .dataframe tbody tr th:only-of-type {\n        vertical-align: middle;\n    }\n\n    .dataframe tbody tr th {\n        vertical-align: top;\n    }\n\n    .dataframe thead th {\n        text-align: right;\n    }\n</style>\n<table border=\"1\" class=\"dataframe\">\n  <thead>\n    <tr style=\"text-align: right;\">\n      <th></th>\n      <th>id</th>\n      <th>event_info</th>\n      <th>event_timestamp</th>\n      <th>event_type</th>\n    </tr>\n  </thead>\n  <tbody>\n    <tr>\n      <th>0</th>\n      <td>1</td>\n      <td>1572239</td>\n      <td>2019-09-26T18:31:47.705-0400</td>\n      <td>view</td>\n    </tr>\n    <tr>\n      <th>1</th>\n      <td>1</td>\n      <td>1572239</td>\n      <td>2019-09-26T18:35:04.724-0400</td>\n      <td>view</td>\n    </tr>\n    <tr>\n      <th>2</th>\n      <td>1</td>\n      <td>1572239</td>\n      <td>2019-09-26T18:37:35.532-0400</td>\n      <td>view</td>\n    </tr>\n    <tr>\n      <th>3</th>\n      <td>1</td>\n      <td>1572239</td>\n      <td>2019-09-26T18:38:54.680-0400</td>\n      <td>view</td>\n    </tr>\n    <tr>\n      <th>4</th>\n      <td>1</td>\n      <td>1572239</td>\n      <td>2019-09-26T18:40:26.904-0400</td>\n      <td>view</td>\n    </tr>\n  </tbody>\n</table>\n</div>"
     },
     "metadata": {},
     "execution_count": 15
    }
   ],
   "source": [
    "t_0 = time.time()\n",
    "print(\"plain_len: \",len(plain_json))\n",
    "df_plain_json = pd.DataFrame(plain_json)\n",
    "print (\"tiempo: \", time.time() - t_0)\n",
    "df_plain_json.head()\n",
    "\n",
    "# 100 000 ===> plain_len:  2909159 ===> tiempo:  5.075702428817749\n",
    "# 413 163 ===> plain_len:  11999166 ===> tiempo:  25.772322416305542"
   ]
  },
  {
   "cell_type": "code",
   "execution_count": 16,
   "metadata": {},
   "outputs": [
    {
     "output_type": "stream",
     "name": "stdout",
     "text": [
      "tiempo:  16.726579904556274\n"
     ]
    }
   ],
   "source": [
    "t_0 = time.time()\n",
    "df_plain_json.to_csv(\"./data/testData.csv\", index=False)\n",
    "print (\"tiempo: \", time.time() - t_0)\n",
    "# 100 000 ===> tiempo:  10.253700494766235\n",
    "# 413 163 ===> tiempo:  39.71964073181152"
   ]
  },
  {
   "cell_type": "code",
   "execution_count": 3,
   "metadata": {},
   "outputs": [],
   "source": [
    "df_item_data = pd.read_json('./data/raw/item_data.jl', lines=True)"
   ]
  },
  {
   "cell_type": "code",
   "execution_count": 4,
   "metadata": {},
   "outputs": [
    {
     "output_type": "execute_result",
     "data": {
      "text/plain": [
       "   item_id                                              title  \\\n",
       "0   111260  Casa Sola En Venta Con Gran Patio Solo Pago De...   \n",
       "1   871377  Resident Evil Origins Collection Nintendo Swit...   \n",
       "2   490232                      Falda De Imitación Piel Negra   \n",
       "3  1150706       Powercolor Red Devil Radeon Rx 580 8gb Gddr5   \n",
       "4   934912  Laptop Hp Nx6320 Core Duo Con Puerto Db9 Windo...   \n",
       "\n",
       "                        domain_id  product_id       price category_id  \\\n",
       "0  MLM-INDIVIDUAL_HOUSES_FOR_SALE         NaN  1150000.00   MLM170527   \n",
       "1                 MLM-VIDEO_GAMES  15270800.0     1392.83   MLM151595   \n",
       "2                      MLM-SKIRTS         NaN      350.00     MLM7697   \n",
       "3              MLM-GRAPHICS_CARDS         NaN     3200.00     MLM9761   \n",
       "4                   MLM-NOTEBOOKS         NaN     1599.00     MLM1652   \n",
       "\n",
       "  condition  \n",
       "0       new  \n",
       "1       new  \n",
       "2       new  \n",
       "3      used  \n",
       "4      used  "
      ],
      "text/html": "<div>\n<style scoped>\n    .dataframe tbody tr th:only-of-type {\n        vertical-align: middle;\n    }\n\n    .dataframe tbody tr th {\n        vertical-align: top;\n    }\n\n    .dataframe thead th {\n        text-align: right;\n    }\n</style>\n<table border=\"1\" class=\"dataframe\">\n  <thead>\n    <tr style=\"text-align: right;\">\n      <th></th>\n      <th>item_id</th>\n      <th>title</th>\n      <th>domain_id</th>\n      <th>product_id</th>\n      <th>price</th>\n      <th>category_id</th>\n      <th>condition</th>\n    </tr>\n  </thead>\n  <tbody>\n    <tr>\n      <th>0</th>\n      <td>111260</td>\n      <td>Casa Sola En Venta Con Gran Patio Solo Pago De...</td>\n      <td>MLM-INDIVIDUAL_HOUSES_FOR_SALE</td>\n      <td>NaN</td>\n      <td>1150000.00</td>\n      <td>MLM170527</td>\n      <td>new</td>\n    </tr>\n    <tr>\n      <th>1</th>\n      <td>871377</td>\n      <td>Resident Evil Origins Collection Nintendo Swit...</td>\n      <td>MLM-VIDEO_GAMES</td>\n      <td>15270800.0</td>\n      <td>1392.83</td>\n      <td>MLM151595</td>\n      <td>new</td>\n    </tr>\n    <tr>\n      <th>2</th>\n      <td>490232</td>\n      <td>Falda De Imitación Piel Negra</td>\n      <td>MLM-SKIRTS</td>\n      <td>NaN</td>\n      <td>350.00</td>\n      <td>MLM7697</td>\n      <td>new</td>\n    </tr>\n    <tr>\n      <th>3</th>\n      <td>1150706</td>\n      <td>Powercolor Red Devil Radeon Rx 580 8gb Gddr5</td>\n      <td>MLM-GRAPHICS_CARDS</td>\n      <td>NaN</td>\n      <td>3200.00</td>\n      <td>MLM9761</td>\n      <td>used</td>\n    </tr>\n    <tr>\n      <th>4</th>\n      <td>934912</td>\n      <td>Laptop Hp Nx6320 Core Duo Con Puerto Db9 Windo...</td>\n      <td>MLM-NOTEBOOKS</td>\n      <td>NaN</td>\n      <td>1599.00</td>\n      <td>MLM1652</td>\n      <td>used</td>\n    </tr>\n  </tbody>\n</table>\n</div>"
     },
     "metadata": {},
     "execution_count": 4
    }
   ],
   "source": [
    "df_item_data.head()"
   ]
  },
  {
   "cell_type": "code",
   "execution_count": 6,
   "metadata": {},
   "outputs": [
    {
     "output_type": "execute_result",
     "data": {
      "text/plain": [
       "2102277"
      ]
     },
     "metadata": {},
     "execution_count": 6
    }
   ],
   "source": [
    "len(df_item_data)"
   ]
  },
  {
   "cell_type": "code",
   "execution_count": null,
   "metadata": {},
   "outputs": [],
   "source": []
  }
 ],
 "metadata": {
  "kernelspec": {
   "name": "Python 3.7.5 64-bit ('base': conda)",
   "display_name": "Python 3.7.5 64-bit ('base': conda)",
   "metadata": {
    "interpreter": {
     "hash": "9a37e5188a605e95d3282a4fb8007f4c3c52885d8cd12f2ffcfc398feaa7ff36"
    }
   }
  },
  "language_info": {
   "codemirror_mode": {
    "name": "ipython",
    "version": 3
   },
   "file_extension": ".py",
   "mimetype": "text/x-python",
   "name": "python",
   "nbconvert_exporter": "python",
   "pygments_lexer": "ipython3",
   "version": "3.7.5-final"
  }
 },
 "nbformat": 4,
 "nbformat_minor": 4
}