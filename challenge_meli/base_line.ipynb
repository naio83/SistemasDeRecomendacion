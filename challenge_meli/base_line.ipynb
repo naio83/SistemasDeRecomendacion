{
 "cells": [
  {
   "cell_type": "code",
   "execution_count": 2,
   "metadata": {},
   "outputs": [],
   "source": [
    "import pandas as pd\n",
    "import numpy as np\n",
    "import time\n",
    "import math\n",
    "import json\n",
    "import random\n",
    "import warnings, sys, os, gzip, gc\n",
    "from collections import Counter, defaultdict\n",
    "from sklearn import datasets\n",
    "from datetime import date, datetime\n",
    "from sklearn.model_selection import train_test_split\n",
    "from tqdm import tqdm, tqdm_notebook\n",
    "from pandas.io.json import json_normalize #package for flattening json in pandas df"
   ]
  },
  {
   "cell_type": "code",
   "execution_count": 3,
   "metadata": {},
   "outputs": [],
   "source": [
    "def jl_to_list(fname):\n",
    "    output=[]\n",
    "    with gzip.open(fname, 'rb') as f:\n",
    "        for line in f:\n",
    "            output.append(json.loads(line))\n",
    "    return output"
   ]
  },
  {
   "cell_type": "code",
   "execution_count": 4,
   "metadata": {},
   "outputs": [
    {
     "output_type": "stream",
     "name": "stdout",
     "text": [
      "tiempo:  27.855225563049316\n"
     ]
    }
   ],
   "source": [
    "t_0 = time.time()\n",
    "rows = jl_to_list('./data/raw/train_dataset.jl.gz')\n",
    "print (\"tiempo: \", time.time() - t_0)"
   ]
  },
  {
   "cell_type": "code",
   "execution_count": 5,
   "metadata": {},
   "outputs": [
    {
     "output_type": "stream",
     "name": "stdout",
     "text": [
      "tiempo:  20.489689826965332\n"
     ]
    }
   ],
   "source": [
    "t_0 = time.time()\n",
    "item_data = jl_to_list('./data/raw/item_data.jl.gz')\n",
    "print (\"tiempo: \", time.time() - t_0)"
   ]
  },
  {
   "cell_type": "code",
   "execution_count": 6,
   "metadata": {},
   "outputs": [
    {
     "output_type": "stream",
     "name": "stdout",
     "text": [
      "tiempo:  12.030776023864746\n177070\n"
     ]
    }
   ],
   "source": [
    "t_0 = time.time()\n",
    "test_rows = jl_to_list('./data/raw/test_dataset.jl.gz')\n",
    "print (\"tiempo: \", time.time() - t_0)\n",
    "print(len(test_rows))"
   ]
  },
  {
   "cell_type": "code",
   "execution_count": 7,
   "metadata": {},
   "outputs": [
    {
     "output_type": "stream",
     "name": "stdout",
     "text": [
      "330530 82633\n"
     ]
    }
   ],
   "source": [
    "#samples = 100000\n",
    "#if samples:\n",
    "#    rows = rows[:samples]\n",
    "\n",
    "rows_train, rows_test =  train_test_split(rows, test_size=0.2, random_state=42)\n",
    "print(len(rows_train), len(rows_test))"
   ]
  },
  {
   "cell_type": "code",
   "execution_count": 8,
   "metadata": {},
   "outputs": [],
   "source": [
    "metadata = {x['item_id']:x for x in item_data}\n",
    "all_items = list(metadata.keys())"
   ]
  },
  {
   "source": [
    "## BL_1: Items mas vendidos del dominio mas visitado\n",
    "### a) Reviso el domino que mas miro un usuario\n",
    "### b) Para ese domino busco los 10 items mas vendidos\n",
    "### c) Si hay menos de 10 relleno al azar\n",
    "### Score: 0.13451"
   ],
   "cell_type": "markdown",
   "metadata": {}
  },
  {
   "cell_type": "code",
   "execution_count": 22,
   "metadata": {},
   "outputs": [
    {
     "output_type": "display_data",
     "data": {
      "text/plain": "HBox(children=(FloatProgress(value=0.0, max=330530.0), HTML(value='')))",
      "application/vnd.jupyter.widget-view+json": {
       "version_major": 2,
       "version_minor": 0,
       "model_id": "fab31901881e4a55b16f5451dae5b412"
      }
     },
     "metadata": {}
    },
    {
     "output_type": "stream",
     "name": "stdout",
     "text": [
      "\n"
     ]
    }
   ],
   "source": [
    "# Diccionario de diccionarios: Para cada dominio tiene un diccionario con items, y dice cuatas ventas  tuvo ese item de ese domino.\n",
    "ventas_x_dominio = defaultdict(lambda: defaultdict(int))\n",
    "\n",
    "for row in tqdm_notebook(rows_train):\n",
    "    viewed = [ev['event_info'] for ev in row['user_history'] if ev['event_type']=='view']\n",
    "    for item in viewed:\n",
    "        domain = metadata[item]['domain_id']\n",
    "        ventas_x_dominio[domain][item] += 1"
   ]
  },
  {
   "cell_type": "code",
   "execution_count": 23,
   "metadata": {},
   "outputs": [],
   "source": [
    "# Devuelve una lista con todos los dominios que visito un usuario y cuantas veces visito cada uno.\n",
    "def dominios_visitados(row, max_views=15):\n",
    "    domains = Counter()\n",
    "    viewed = [ev['event_info'] for ev in row['user_history'] if ev['event_type']=='view']\n",
    "    if len(viewed) > max_views:\n",
    "        viewed = viewed[:15]\n",
    "    for item in viewed:\n",
    "        domain = metadata[item]['domain_id']\n",
    "        domains[domain] +=1\n",
    "    return domains"
   ]
  },
  {
   "cell_type": "code",
   "execution_count": 24,
   "metadata": {},
   "outputs": [
    {
     "output_type": "execute_result",
     "data": {
      "text/plain": [
       "Counter({'MLB-PERFUMES': 14, 'MLB-HAIR_SHAMPOOS_AND_CONDITIONERS': 1})"
      ]
     },
     "metadata": {},
     "execution_count": 24
    }
   ],
   "source": [
    "dominios_visitados(rows_train[1])"
   ]
  },
  {
   "cell_type": "code",
   "execution_count": 25,
   "metadata": {},
   "outputs": [],
   "source": [
    "# Le paso un dominio, y devuelve cuales son los K items mas vendidos del dominio que le paso.\n",
    "def top_items(domain, k=10):\n",
    "    top = ventas_x_dominio[domain]\n",
    "    top = Counter(top)\n",
    "    top = top.most_common(k)\n",
    "    return [x[0] for x in top]"
   ]
  },
  {
   "cell_type": "code",
   "execution_count": 26,
   "metadata": {},
   "outputs": [
    {
     "output_type": "execute_result",
     "data": {
      "text/plain": [
       "[896415,\n",
       " 1232519,\n",
       " 481256,\n",
       " 1913520,\n",
       " 1226818,\n",
       " 1409684,\n",
       " 1369096,\n",
       " 1022320,\n",
       " 2055221,\n",
       " 1855874]"
      ]
     },
     "metadata": {},
     "execution_count": 26
    }
   ],
   "source": [
    "top_items('MLB-DRUM_BRAKE_WHEEL_CYLINDERS')"
   ]
  },
  {
   "cell_type": "code",
   "execution_count": 27,
   "metadata": {},
   "outputs": [],
   "source": [
    "def top_by_best_domain(row, k=10):\n",
    "    views = [ev['event_info'] for ev in row['user_history'] if ev['event_type']=='view']\n",
    "    if len(views) == 0:\n",
    "        return random.choices(all_items,  k=k)\n",
    "    domain = dominios_visitados(row)\n",
    "    domain = domain.most_common(1)[0][0]\n",
    "    #print(len(top_items(domain, k=k)))\n",
    "    if len(top_items(domain, k=k)) < k:\n",
    "        return random.choices(all_items,  k=k)\n",
    "    return top_items(domain, k=k)"
   ]
  },
  {
   "cell_type": "code",
   "execution_count": 28,
   "metadata": {},
   "outputs": [
    {
     "output_type": "execute_result",
     "data": {
      "text/plain": [
       "[160527,\n",
       " 179595,\n",
       " 1557017,\n",
       " 394243,\n",
       " 1381571,\n",
       " 324280,\n",
       " 1178286,\n",
       " 1022234,\n",
       " 1620782,\n",
       " 1977523]"
      ]
     },
     "metadata": {},
     "execution_count": 28
    }
   ],
   "source": [
    "top_by_best_domain(rows_test[200])"
   ]
  },
  {
   "cell_type": "code",
   "execution_count": 15,
   "metadata": {},
   "outputs": [
    {
     "output_type": "display_data",
     "data": {
      "text/plain": "HBox(children=(FloatProgress(value=0.0, max=177070.0), HTML(value='')))",
      "application/vnd.jupyter.widget-view+json": {
       "version_major": 2,
       "version_minor": 0,
       "model_id": "10725be45ce048ee8d6a3b8c0210da95"
      }
     },
     "metadata": {}
    },
    {
     "output_type": "stream",
     "name": "stdout",
     "text": [
      "\n"
     ]
    }
   ],
   "source": [
    "y_pred = []\n",
    "for row in tqdm_notebook(test_rows):\n",
    "    recom = top_by_best_domain(row)\n",
    "    y_pred.append(recom)"
   ]
  },
  {
   "cell_type": "code",
   "execution_count": 16,
   "metadata": {},
   "outputs": [],
   "source": [
    "df_pred = pd.DataFrame(y_pred)  \n",
    "#df_pred.to_csv(\"./submission/baseline1_submission.csv\", index=False, header=False)"
   ]
  },
  {
   "cell_type": "code",
   "execution_count": 17,
   "metadata": {},
   "outputs": [
    {
     "output_type": "execute_result",
     "data": {
      "text/plain": [
       "0    0\n",
       "1    0\n",
       "2    0\n",
       "3    0\n",
       "4    0\n",
       "5    0\n",
       "6    0\n",
       "7    0\n",
       "8    0\n",
       "9    0\n",
       "dtype: int64"
      ]
     },
     "metadata": {},
     "execution_count": 17
    }
   ],
   "source": [
    "df_pred.isnull().sum()"
   ]
  },
  {
   "cell_type": "code",
   "execution_count": 18,
   "metadata": {},
   "outputs": [
    {
     "output_type": "execute_result",
     "data": {
      "text/plain": [
       "177070"
      ]
     },
     "metadata": {},
     "execution_count": 18
    }
   ],
   "source": [
    "len(df_pred)"
   ]
  },
  {
   "cell_type": "code",
   "execution_count": 19,
   "metadata": {},
   "outputs": [],
   "source": [
    "# Tomo del dataset de test cual es el que compro realmente, para computar el score de nuestro test.\n",
    "y_true = [row['item_bought'] for row in rows_test]"
   ]
  },
  {
   "cell_type": "code",
   "execution_count": null,
   "metadata": {},
   "outputs": [],
   "source": [
    "from challenge_metric import ndcg_score\n",
    "score = ndcg_score(y=true, y_pred, item_data, n_predictions=10)\n",
    "print (f'El score es: {score}')"
   ]
  },
  {
   "source": [
    "## BL_2: Ultimos Items Vistos\n",
    "### a) Tomo los items que miro el usuario.\n",
    "### b) Selecciono los ultimos 10.\n",
    "### c) Si hay menos de 10, relleno al azar.\n",
    "### Score: 0.20757379669640982 (relativo 33)\n"
   ],
   "cell_type": "markdown",
   "metadata": {}
  },
  {
   "cell_type": "code",
   "execution_count": 29,
   "metadata": {},
   "outputs": [],
   "source": [
    "def last_viewed(row, k=10):\n",
    "    viewed = [ev for ev in row['user_history'] if ev['event_type']=='view']\n",
    "    viewed = sorted(viewed, key=lambda x: x['event_timestamp'], reverse=True)\n",
    "    viewed = [ev['event_info'] for ev in viewed]\n",
    "    recom = []\n",
    "    \n",
    "    for item in viewed:\n",
    "        if item not in recom:\n",
    "            recom.append(item)\n",
    "    if len(recom) > 10:\n",
    "        return recom[:10]\n",
    "    if len(recom) == 10:\n",
    "        return recom\n",
    "    \n",
    "    k=10-len(recom)    \n",
    "    relleno = random.choices(all_items, k=k)\n",
    "    return recom + relleno"
   ]
  },
  {
   "cell_type": "code",
   "execution_count": 30,
   "metadata": {},
   "outputs": [
    {
     "output_type": "execute_result",
     "data": {
      "text/plain": [
       "[1837360,\n",
       " 1589341,\n",
       " 1487760,\n",
       " 12458,\n",
       " 1274340,\n",
       " 1412866,\n",
       " 1591130,\n",
       " 34265,\n",
       " 2084079,\n",
       " 204920]"
      ]
     },
     "metadata": {},
     "execution_count": 30
    }
   ],
   "source": [
    "last_viewed(test_rows[13])"
   ]
  },
  {
   "cell_type": "code",
   "execution_count": 22,
   "metadata": {
    "tags": []
   },
   "outputs": [
    {
     "output_type": "display_data",
     "data": {
      "text/plain": "HBox(children=(FloatProgress(value=0.0, max=177070.0), HTML(value='')))",
      "application/vnd.jupyter.widget-view+json": {
       "version_major": 2,
       "version_minor": 0,
       "model_id": "53bd3b452d37422ba0463922013f296c"
      }
     },
     "metadata": {}
    },
    {
     "output_type": "stream",
     "name": "stdout",
     "text": [
      "\n"
     ]
    }
   ],
   "source": [
    "y_pred_2 = []\n",
    "for row in tqdm_notebook(test_rows):\n",
    "    recom = last_viewed(row)\n",
    "    y_pred_2.append(recom)"
   ]
  },
  {
   "cell_type": "code",
   "execution_count": 23,
   "metadata": {},
   "outputs": [
    {
     "output_type": "stream",
     "name": "stdout",
     "text": [
      "tiempo:  1.6090893745422363\n"
     ]
    }
   ],
   "source": [
    "t_0 = time.time()\n",
    "df_pred_2 = pd.DataFrame(y_pred_2)  \n",
    "#df_pred_2.to_csv(\"./submission/baseline2_submission.csv\", index=False, header=False)\n",
    "print (\"tiempo: \", time.time() - t_0)"
   ]
  },
  {
   "cell_type": "code",
   "execution_count": 24,
   "metadata": {},
   "outputs": [
    {
     "output_type": "execute_result",
     "data": {
      "text/plain": [
       "177070"
      ]
     },
     "metadata": {},
     "execution_count": 24
    }
   ],
   "source": [
    "len(df_pred_2)"
   ]
  },
  {
   "cell_type": "code",
   "execution_count": 25,
   "metadata": {},
   "outputs": [
    {
     "output_type": "execute_result",
     "data": {
      "text/plain": [
       "0    0\n",
       "1    0\n",
       "2    0\n",
       "3    0\n",
       "4    0\n",
       "5    0\n",
       "6    0\n",
       "7    0\n",
       "8    0\n",
       "9    0\n",
       "dtype: int64"
      ]
     },
     "metadata": {},
     "execution_count": 25
    }
   ],
   "source": [
    "df_pred_2.isnull().sum()"
   ]
  },
  {
   "source": [
    "## BL_3: Vistas Compras (Quienes vieron esto, compraron lo otro)\n",
    "### Score: "
   ],
   "cell_type": "markdown",
   "metadata": {}
  },
  {
   "cell_type": "code",
   "execution_count": 9,
   "metadata": {},
   "outputs": [
    {
     "output_type": "display_data",
     "data": {
      "text/plain": "HBox(children=(FloatProgress(value=0.0, max=330530.0), HTML(value='')))",
      "application/vnd.jupyter.widget-view+json": {
       "version_major": 2,
       "version_minor": 0,
       "model_id": "7a1a972ca89b43af89c24eff9f994d0b"
      }
     },
     "metadata": {}
    },
    {
     "output_type": "stream",
     "name": "stdout",
     "text": [
      "\n"
     ]
    }
   ],
   "source": [
    "# Diccionario de vistas compras\n",
    "vistas_compras = defaultdict(lambda: defaultdict(int))\n",
    "for row in tqdm_notebook(rows_train):\n",
    "    for ev in row['user_history']:\n",
    "        if ev['event_type']=='view':\n",
    "            vistas_compras[int(ev['event_info'])][int(row['item_bought'])] +=1"
   ]
  },
  {
   "cell_type": "code",
   "execution_count": 10,
   "metadata": {},
   "outputs": [],
   "source": [
    "#calculo de Scores\n",
    "def get_item_score(row):\n",
    "    item_scores = defaultdict(int)\n",
    "    for ev in row['user_history']:\n",
    "        if ev['event_type']=='view':\n",
    "            for k,v in vistas_compras[int(ev['event_info'])].items():\n",
    "                item_scores[k] += v\n",
    "    return Counter(item_scores)"
   ]
  },
  {
   "cell_type": "code",
   "execution_count": 11,
   "metadata": {},
   "outputs": [],
   "source": [
    "# Recomendador: Agarra los 10 items que mejor score tienen, y sino hay 10 rellena con random.\n",
    "def vc_reco(row):\n",
    "    reco = []\n",
    "    scores = get_item_score(row)\n",
    "    most_common = scores.most_common()\n",
    "    for item, score in most_common:\n",
    "        reco.append(item)\n",
    "        if len(reco) == 10:\n",
    "            return reco\n",
    "    \n",
    "    k=10-len(reco)\n",
    "    relleno = random.choices(all_items, k=k)\n",
    "\n",
    "    return reco + relleno\n"
   ]
  },
  {
   "cell_type": "code",
   "execution_count": 12,
   "metadata": {},
   "outputs": [
    {
     "output_type": "display_data",
     "data": {
      "text/plain": "HBox(children=(FloatProgress(value=0.0, max=177070.0), HTML(value='')))",
      "application/vnd.jupyter.widget-view+json": {
       "version_major": 2,
       "version_minor": 0,
       "model_id": "c3be16b00a6f4fd9a65bf22089c67611"
      }
     },
     "metadata": {}
    },
    {
     "output_type": "stream",
     "name": "stdout",
     "text": [
      "\n"
     ]
    }
   ],
   "source": [
    "y_pred_3 = []\n",
    "for row in tqdm_notebook(test_rows):\n",
    "    recom = vc_reco(row)\n",
    "    y_pred_3.append(recom)"
   ]
  },
  {
   "cell_type": "code",
   "execution_count": 20,
   "metadata": {},
   "outputs": [
    {
     "output_type": "stream",
     "name": "stdout",
     "text": [
      "tiempo:  2.0694820880889893\nlongitud:  177070\n\nCheck de NAs\n0    0\n1    0\n2    0\n3    0\n4    0\n5    0\n6    0\n7    0\n8    0\n9    0\ndtype: int64\n"
     ]
    }
   ],
   "source": [
    "t_0 = time.time()\n",
    "df_pred_3 = pd.DataFrame(y_pred_3)  \n",
    "df_pred_3.to_csv(\"./submission/baseline3_submission.csv\", index=False, header=False)\n",
    "print (\"tiempo: \", time.time() - t_0)\n",
    "print(\"longitud: \",len(df_pred_3))\n",
    "print(\"\")\n",
    "print(\"Check de NAs\")\n",
    "print(df_pred_3.isnull().sum())"
   ]
  },
  {
   "source": [
    "## Ensamble_basico_1: Ultimos Items Vistos con relleno de los items mas vendidos\n",
    "### a) Tomo los items que miro el usuario.\n",
    "### b) Selecciono los ultimos 10.\n",
    "### c) Si hay menos de 10, con los items mas vendidos del dominio mas visitado por el usuario\n",
    "### Score: 0.2334158892435007"
   ],
   "cell_type": "markdown",
   "metadata": {}
  },
  {
   "cell_type": "code",
   "execution_count": 31,
   "metadata": {},
   "outputs": [
    {
     "output_type": "execute_result",
     "data": {
      "text/plain": [
       "[1896472, 1589341, 1112926, 889151]"
      ]
     },
     "metadata": {},
     "execution_count": 31
    }
   ],
   "source": [
    "random.choices(top_by_best_domain(test_rows[13]), k=4)"
   ]
  },
  {
   "cell_type": "code",
   "execution_count": 32,
   "metadata": {},
   "outputs": [],
   "source": [
    "def last_viewed_smart_filling(row, k=10):\n",
    "    viewed = [ev for ev in row['user_history'] if ev['event_type']=='view']\n",
    "    viewed = sorted(viewed, key=lambda x: x['event_timestamp'], reverse=True)\n",
    "    viewed = [ev['event_info'] for ev in viewed]\n",
    "    recom = []\n",
    "    \n",
    "    for item in viewed:\n",
    "        if item not in recom:\n",
    "            recom.append(item)\n",
    "    if len(recom) > 10:\n",
    "        return recom[:10]\n",
    "    if len(recom) == 10:\n",
    "        return recom\n",
    "    \n",
    "    k=10-len(recom)    \n",
    "    relleno = random.choices(top_by_best_domain(row), k=k)\n",
    "    #if len(relleno) < 10:\n",
    "     #   print(\"filling:\", k, \"| len final:\",len(recom + relleno))\n",
    "    return recom + relleno"
   ]
  },
  {
   "cell_type": "code",
   "execution_count": 33,
   "metadata": {},
   "outputs": [
    {
     "output_type": "execute_result",
     "data": {
      "text/plain": [
       "[849692,\n",
       " 26324,\n",
       " 48097,\n",
       " 788705,\n",
       " 831243,\n",
       " 943786,\n",
       " 1125393,\n",
       " 1676401,\n",
       " 353783,\n",
       " 1007213]"
      ]
     },
     "metadata": {},
     "execution_count": 33
    }
   ],
   "source": [
    "last_viewed_smart_filling(test_rows[1])"
   ]
  },
  {
   "cell_type": "code",
   "execution_count": 34,
   "metadata": {
    "tags": []
   },
   "outputs": [
    {
     "output_type": "display_data",
     "data": {
      "text/plain": "HBox(children=(FloatProgress(value=0.0, max=177070.0), HTML(value='')))",
      "application/vnd.jupyter.widget-view+json": {
       "version_major": 2,
       "version_minor": 0,
       "model_id": "c38e34248950425d9ba4d58c36680b24"
      }
     },
     "metadata": {}
    },
    {
     "output_type": "stream",
     "name": "stdout",
     "text": [
      "\n"
     ]
    }
   ],
   "source": [
    "y_pred_4 = []\n",
    "for row in tqdm_notebook(test_rows):\n",
    "    recom = last_viewed_smart_filling(row)\n",
    "    y_pred_4.append(recom)"
   ]
  },
  {
   "cell_type": "code",
   "execution_count": 35,
   "metadata": {},
   "outputs": [
    {
     "output_type": "stream",
     "name": "stdout",
     "text": [
      "tiempo:  1.6895322799682617\nlongitud:  177070\n\nCheck de NAs\n0    0\n1    0\n2    0\n3    0\n4    0\n5    0\n6    0\n7    0\n8    0\n9    0\ndtype: int64\n"
     ]
    }
   ],
   "source": [
    "t_0 = time.time()\n",
    "df_pred_4 = pd.DataFrame(y_pred_4)  \n",
    "df_pred_4.to_csv(\"./submission/ensablB1_submission.csv\", index=False, header=False)\n",
    "print (\"tiempo: \", time.time() - t_0)\n",
    "print(\"longitud: \",len(df_pred_4))\n",
    "print(\"\")\n",
    "print(\"Check de NAs\")\n",
    "print(df_pred_4.isnull().sum())"
   ]
  },
  {
   "source": [
    "## Ensamble_basico_2: Ultimos Items Vistos con relleno de los vistas_compra\n",
    "### a) Lo mismo que antes pero con vc_reco\n",
    "### Score: 0.22104"
   ],
   "cell_type": "markdown",
   "metadata": {}
  },
  {
   "cell_type": "code",
   "execution_count": 40,
   "metadata": {},
   "outputs": [],
   "source": [
    "def last_viewed_smart_filling_2(row, k=10):\n",
    "    viewed = [ev for ev in row['user_history'] if ev['event_type']=='view']\n",
    "    viewed = sorted(viewed, key=lambda x: x['event_timestamp'], reverse=True)\n",
    "    viewed = [ev['event_info'] for ev in viewed]\n",
    "    recom = []\n",
    "    \n",
    "    for item in viewed:\n",
    "        if item not in recom:\n",
    "            recom.append(item)\n",
    "    if len(recom) > 10:\n",
    "        return recom[:10]\n",
    "    if len(recom) == 10:\n",
    "        return recom\n",
    "    \n",
    "    k=10-len(recom)    \n",
    "    relleno = random.choices(vc_reco(row), k=k)\n",
    "    #if len(relleno) > 7:\n",
    "       #print(\"filling:\", k, \"| len final:\",len(recom + relleno))\n",
    "    return recom + relleno"
   ]
  },
  {
   "cell_type": "code",
   "execution_count": 41,
   "metadata": {},
   "outputs": [
    {
     "output_type": "execute_result",
     "data": {
      "text/plain": [
       "[849692, 26324, 48097, 788705, 831243, 943786, 1125393, 849692, 1180937, 17614]"
      ]
     },
     "metadata": {},
     "execution_count": 41
    }
   ],
   "source": [
    "last_viewed_smart_filling_2(test_rows[1])"
   ]
  },
  {
   "cell_type": "code",
   "execution_count": 42,
   "metadata": {},
   "outputs": [
    {
     "output_type": "display_data",
     "data": {
      "text/plain": "HBox(children=(FloatProgress(value=0.0, max=177070.0), HTML(value='')))",
      "application/vnd.jupyter.widget-view+json": {
       "version_major": 2,
       "version_minor": 0,
       "model_id": "a11be44d9a2b49b78d156bb6b0fa5f42"
      }
     },
     "metadata": {}
    },
    {
     "output_type": "stream",
     "name": "stdout",
     "text": [
      "\n"
     ]
    }
   ],
   "source": [
    "y_pred_5 = []\n",
    "for row in tqdm_notebook(test_rows):\n",
    "    recom = last_viewed_smart_filling_2(row)\n",
    "    y_pred_5.append(recom)"
   ]
  },
  {
   "cell_type": "code",
   "execution_count": 43,
   "metadata": {},
   "outputs": [
    {
     "output_type": "stream",
     "name": "stdout",
     "text": [
      "tiempo:  1.6219103336334229\nlongitud:  177070\n\nCheck de NAs\n0    0\n1    0\n2    0\n3    0\n4    0\n5    0\n6    0\n7    0\n8    0\n9    0\ndtype: int64\n"
     ]
    }
   ],
   "source": [
    "t_0 = time.time()\n",
    "df_pred_5 = pd.DataFrame(y_pred_5)  \n",
    "df_pred_5.to_csv(\"./submission/ensablB2_submission.csv\", index=False, header=False)\n",
    "print (\"tiempo: \", time.time() - t_0)\n",
    "print(\"longitud: \",len(df_pred_5))\n",
    "print(\"\")\n",
    "print(\"Check de NAs\")\n",
    "print(df_pred_5.isnull().sum())"
   ]
  },
  {
   "source": [
    "## Ensamble_basico_3: Ultimos Items Vistos con relleno de los items mas vendidos de la \"categoria\" mas visitada por el usuario\n",
    "### Score: 0.23334950336442892"
   ],
   "cell_type": "markdown",
   "metadata": {}
  },
  {
   "cell_type": "code",
   "execution_count": null,
   "metadata": {},
   "outputs": [],
   "source": [
    "# Diccionario de diccionarios: Para cada Categoria tiene un diccionario con items, y dice cuatas ventas  tuvo ese item de ese Categoria\n",
    "ventas_x_categoria = defaultdict(lambda: defaultdict(int))\n",
    "\n",
    "for row in tqdm_notebook(rows_train):\n",
    "    viewed = [ev['event_info'] for ev in row['user_history'] if ev['event_type']=='view']\n",
    "    for item in viewed:\n",
    "        domain = metadata[item]['category_id']\n",
    "        ventas_x_categoria[domain][item] += 1"
   ]
  },
  {
   "cell_type": "code",
   "execution_count": null,
   "metadata": {},
   "outputs": [],
   "source": [
    "# Devuelve una lista con todas las categories que visito un usuario y cuantas veces visito cada uno.\n",
    "def categorias_visitadas(row, max_views=15):\n",
    "    categories = Counter()\n",
    "    viewed = [ev['event_info'] for ev in row['user_history'] if ev['event_type']=='view']\n",
    "    if len(viewed) > max_views:\n",
    "        viewed = viewed[:15]\n",
    "    for item in viewed:\n",
    "        category = metadata[item]['category_id']\n",
    "        categories[category] +=1\n",
    "    return categories"
   ]
  },
  {
   "cell_type": "code",
   "execution_count": null,
   "metadata": {},
   "outputs": [],
   "source": [
    "categorias_visitadas(rows[1])"
   ]
  },
  {
   "cell_type": "code",
   "execution_count": null,
   "metadata": {},
   "outputs": [],
   "source": [
    "# Le paso una categoria, y devuelve cuales son los K items mas vendidos de la categoria que pase.\n",
    "def top_items_cat(category, k=10):\n",
    "    top = ventas_x_categoria[category]\n",
    "    top = Counter(top)\n",
    "    top = top.most_common(k)\n",
    "    return [x[0] for x in top]"
   ]
  },
  {
   "cell_type": "code",
   "execution_count": null,
   "metadata": {},
   "outputs": [],
   "source": [
    "top_items_cat('MLB269588')"
   ]
  },
  {
   "cell_type": "code",
   "execution_count": null,
   "metadata": {},
   "outputs": [],
   "source": [
    "def top_by_best_category(row, k=10):\n",
    "    views = [ev['event_info'] for ev in row['user_history'] if ev['event_type']=='view']\n",
    "    if len(views) == 0:\n",
    "        return random.choices(all_items,  k=k)\n",
    "    category = categorias_visitadas(row)\n",
    "    category = category.most_common(1)[0][0]\n",
    "    #print(len(top_items(domain, k=k)))\n",
    "    if len(top_items_cat(category, k=k)) < k:\n",
    "        return random.choices(all_items,  k=k)\n",
    "    return top_items_cat(category, k=k)"
   ]
  },
  {
   "cell_type": "code",
   "execution_count": null,
   "metadata": {},
   "outputs": [],
   "source": [
    "top_by_best_category(rows[200])"
   ]
  },
  {
   "cell_type": "code",
   "execution_count": null,
   "metadata": {},
   "outputs": [],
   "source": [
    "def last_viewed_smart_filling_cat(row, k=10):\n",
    "    viewed = [ev for ev in row['user_history'] if ev['event_type']=='view']\n",
    "    viewed = sorted(viewed, key=lambda x: x['event_timestamp'], reverse=True)\n",
    "    viewed = [ev['event_info'] for ev in viewed]\n",
    "    recom = []\n",
    "    \n",
    "    for item in viewed:\n",
    "        if item not in recom:\n",
    "            recom.append(item)\n",
    "    if len(recom) > 10:\n",
    "        return recom[:10]\n",
    "    if len(recom) == 10:\n",
    "        return recom\n",
    "    \n",
    "    k=10-len(recom)    \n",
    "    relleno = random.choices(top_by_best_category(row), k=k)\n",
    "    #if len(relleno) < 10:\n",
    "     #   print(\"filling:\", k, \"| len final:\",len(recom + relleno))\n",
    "    return recom + relleno"
   ]
  },
  {
   "cell_type": "code",
   "execution_count": null,
   "metadata": {},
   "outputs": [],
   "source": [
    "last_viewed_smart_filling_cat(rows[1])"
   ]
  },
  {
   "cell_type": "code",
   "execution_count": null,
   "metadata": {},
   "outputs": [],
   "source": [
    "y_pred_6 = []\n",
    "for row in tqdm_notebook(test_rows):\n",
    "    recom = last_viewed_smart_filling_cat(row)\n",
    "    y_pred_6.append(recom)"
   ]
  },
  {
   "cell_type": "code",
   "execution_count": null,
   "metadata": {},
   "outputs": [],
   "source": [
    "t_0 = time.time()\n",
    "df_pred_6 = pd.DataFrame(y_pred_6)  \n",
    "#df_pred_6.to_csv(\"./submission/ensablB3_submission.csv\", index=False, header=False)\n",
    "print (\"tiempo: \", time.time() - t_0)\n",
    "print(\"longitud: \",len(df_pred_6))\n",
    "print(\"\")\n",
    "print(\"Check de NAs\")\n",
    "print(df_pred_6.isnull().sum())"
   ]
  },
  {
   "source": [
    "- Revisar si combinando los baselines, no puedo conbiar 3 para el caso de evitar lo mas posible los randoms.\n",
    "- Hacer votar a cada baseline y elegir cuanto vale cada voto con algun algoritmo de ML.\n",
    "- Usar estos baselines como generadores para un modelo tipo signal vs noise."
   ],
   "cell_type": "markdown",
   "metadata": {}
  }
 ],
 "metadata": {
  "kernelspec": {
   "name": "python3",
   "display_name": "Python 3.7.5 64-bit ('base': conda)",
   "metadata": {
    "interpreter": {
     "hash": "9a37e5188a605e95d3282a4fb8007f4c3c52885d8cd12f2ffcfc398feaa7ff36"
    }
   }
  },
  "language_info": {
   "codemirror_mode": {
    "name": "ipython",
    "version": 3
   },
   "file_extension": ".py",
   "mimetype": "text/x-python",
   "name": "python",
   "nbconvert_exporter": "python",
   "pygments_lexer": "ipython3",
   "version": "3.7.5-final"
  }
 },
 "nbformat": 4,
 "nbformat_minor": 4
}