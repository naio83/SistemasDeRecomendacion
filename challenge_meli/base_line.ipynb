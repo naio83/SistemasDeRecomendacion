{
 "cells": [
  {
   "cell_type": "code",
   "execution_count": 1,
   "metadata": {},
   "outputs": [],
   "source": [
    "import pandas as pd\n",
    "import numpy as np\n",
    "import time\n",
    "import math\n",
    "import json\n",
    "import random\n",
    "import warnings, sys, os, gzip, gc\n",
    "from collections import Counter, defaultdict\n",
    "from sklearn import datasets\n",
    "from datetime import date, datetime\n",
    "from sklearn.model_selection import train_test_split\n",
    "from tqdm import tqdm, tqdm_notebook\n",
    "from pandas.io.json import json_normalize #package for flattening json in pandas df"
   ]
  },
  {
   "cell_type": "code",
   "execution_count": 2,
   "metadata": {},
   "outputs": [],
   "source": [
    "def jl_to_list(fname):\n",
    "    output=[]\n",
    "    with gzip.open(fname, 'rb') as f:\n",
    "        for line in f:\n",
    "            output.append(json.loads(line))\n",
    "    return output"
   ]
  },
  {
   "cell_type": "code",
   "execution_count": 3,
   "metadata": {},
   "outputs": [
    {
     "output_type": "stream",
     "name": "stdout",
     "text": [
      "tiempo:  29.823493242263794\n"
     ]
    }
   ],
   "source": [
    "t_0 = time.time()\n",
    "rows = jl_to_list('./data/raw/train_dataset.jl.gz')\n",
    "print (\"tiempo: \", time.time() - t_0)"
   ]
  },
  {
   "cell_type": "code",
   "execution_count": 4,
   "metadata": {},
   "outputs": [
    {
     "output_type": "stream",
     "name": "stdout",
     "text": [
      "tiempo:  21.753265142440796\n"
     ]
    }
   ],
   "source": [
    "t_0 = time.time()\n",
    "item_data = jl_to_list('./data/raw/item_data.jl.gz')\n",
    "print (\"tiempo: \", time.time() - t_0)"
   ]
  },
  {
   "cell_type": "code",
   "execution_count": 20,
   "metadata": {},
   "outputs": [
    {
     "output_type": "stream",
     "name": "stdout",
     "text": [
      "tiempo:  11.645015001296997\n177070\n"
     ]
    }
   ],
   "source": [
    "t_0 = time.time()\n",
    "test_rows = jl_to_list('./data/raw/test_dataset.jl.gz')\n",
    "print (\"tiempo: \", time.time() - t_0)\n",
    "print(len(test_rows))"
   ]
  },
  {
   "cell_type": "code",
   "execution_count": 5,
   "metadata": {},
   "outputs": [
    {
     "output_type": "stream",
     "name": "stdout",
     "text": [
      "330530 82633\n"
     ]
    }
   ],
   "source": [
    "#samples = 100000\n",
    "#if samples:\n",
    "#    rows = rows[:samples]\n",
    "\n",
    "rows_train, rows_test =  train_test_split(rows, test_size=0.2, random_state=42)\n",
    "print(len(rows_train), len(rows_test))"
   ]
  },
  {
   "cell_type": "code",
   "execution_count": 6,
   "metadata": {},
   "outputs": [],
   "source": [
    "metadata = {x['item_id']:x for x in item_data}\n",
    "all_items = list(metadata.keys())"
   ]
  },
  {
   "source": [
    "## Items mas vendidos del dominio mas visitado\n",
    "### Reviso el domio que mas miro el usuario y tomo los 10 items que mas se venden en ese dominio."
   ],
   "cell_type": "markdown",
   "metadata": {}
  },
  {
   "cell_type": "code",
   "execution_count": 7,
   "metadata": {},
   "outputs": [
    {
     "output_type": "display_data",
     "data": {
      "text/plain": "HBox(children=(FloatProgress(value=0.0, max=330530.0), HTML(value='')))",
      "application/vnd.jupyter.widget-view+json": {
       "version_major": 2,
       "version_minor": 0,
       "model_id": "4c096b2394cd44209b7c584fe7ffc428"
      }
     },
     "metadata": {}
    },
    {
     "output_type": "stream",
     "name": "stdout",
     "text": [
      "\n"
     ]
    }
   ],
   "source": [
    "# Diccionario de diccionarios: Para cada dominio tiene un diccionario con items, y dice cuatas ventas  tuvo ese item de ese domino.\n",
    "ventas_x_dominio = defaultdict(lambda: defaultdict(int))\n",
    "\n",
    "for row in tqdm_notebook(rows_train):\n",
    "    viewed = [ev['event_info'] for ev in row['user_history'] if ev['event_type']=='view']\n",
    "    for item in viewed:\n",
    "        domain = metadata[item]['domain_id']\n",
    "        ventas_x_dominio[domain][item] += 1"
   ]
  },
  {
   "cell_type": "code",
   "execution_count": 8,
   "metadata": {},
   "outputs": [],
   "source": [
    "# Devuelve una lista con todos los dominios que visito un usuario y cuantas veces visito cada uno.\n",
    "def dominios_visitados(row, max_views=15):\n",
    "    domains = Counter()\n",
    "    viewed = [ev['event_info'] for ev in row['user_history'] if ev['event_type']=='view']\n",
    "    if len(viewed) > max_views:\n",
    "        viewed = viewed[:15]\n",
    "    for item in viewed:\n",
    "        domain = metadata[item]['domain_id']\n",
    "        domains[domain] +=1\n",
    "    return domains"
   ]
  },
  {
   "cell_type": "code",
   "execution_count": 9,
   "metadata": {},
   "outputs": [
    {
     "output_type": "execute_result",
     "data": {
      "text/plain": [
       "Counter({'MLB-PERFUMES': 14, 'MLB-HAIR_SHAMPOOS_AND_CONDITIONERS': 1})"
      ]
     },
     "metadata": {},
     "execution_count": 9
    }
   ],
   "source": [
    "dominios_visitados(rows_train[1])"
   ]
  },
  {
   "cell_type": "code",
   "execution_count": 10,
   "metadata": {},
   "outputs": [],
   "source": [
    "# Le paso un dominio, y devuelve cuales son los K items mas vendidos del dominio que le paso.\n",
    "def top_items(domain, k=10):\n",
    "    top = ventas_x_dominio[domain]\n",
    "    top = Counter(top)\n",
    "    top = top.most_common(k)\n",
    "    return [x[0] for x in top]"
   ]
  },
  {
   "cell_type": "code",
   "execution_count": 11,
   "metadata": {},
   "outputs": [
    {
     "output_type": "execute_result",
     "data": {
      "text/plain": [
       "[896415,\n",
       " 1232519,\n",
       " 481256,\n",
       " 1913520,\n",
       " 1226818,\n",
       " 1409684,\n",
       " 1369096,\n",
       " 1022320,\n",
       " 2055221,\n",
       " 1855874]"
      ]
     },
     "metadata": {},
     "execution_count": 11
    }
   ],
   "source": [
    "top_items('MLB-DRUM_BRAKE_WHEEL_CYLINDERS')"
   ]
  },
  {
   "cell_type": "code",
   "execution_count": 12,
   "metadata": {},
   "outputs": [],
   "source": [
    "def top_by_best_domain(row, k=10):\n",
    "    views = [ev['event_info'] for ev in row['user_history'] if ev['event_type']=='view']\n",
    "    if len(views) == 0:\n",
    "        return random.choices(all_items,  k=k)\n",
    "    domain = dominios_visitados(row)\n",
    "    domain = domain.most_common(1)[0][0]\n",
    "    #print(len(top_items(domain, k=k)))\n",
    "    if len(top_items(domain, k=k)) < k:\n",
    "        return random.choices(all_items,  k=k)\n",
    "    return top_items(domain, k=k)"
   ]
  },
  {
   "cell_type": "code",
   "execution_count": 13,
   "metadata": {},
   "outputs": [
    {
     "output_type": "execute_result",
     "data": {
      "text/plain": [
       "[160527,\n",
       " 179595,\n",
       " 1557017,\n",
       " 394243,\n",
       " 1381571,\n",
       " 324280,\n",
       " 1178286,\n",
       " 1022234,\n",
       " 1620782,\n",
       " 1977523]"
      ]
     },
     "metadata": {},
     "execution_count": 13
    }
   ],
   "source": [
    "top_by_best_domain(rows_test[200])"
   ]
  },
  {
   "cell_type": "code",
   "execution_count": 16,
   "metadata": {},
   "outputs": [
    {
     "output_type": "display_data",
     "data": {
      "text/plain": "HBox(children=(FloatProgress(value=0.0, max=82633.0), HTML(value='')))",
      "application/vnd.jupyter.widget-view+json": {
       "version_major": 2,
       "version_minor": 0,
       "model_id": "babe8ccfa134405187df4ee2e7cbec44"
      }
     },
     "metadata": {}
    },
    {
     "output_type": "stream",
     "name": "stdout",
     "text": [
      "\n"
     ]
    }
   ],
   "source": [
    "y_pred = []\n",
    "for row in tqdm_notebook(test_rows):\n",
    "    recom = top_by_best_domain(row)\n",
    "    y_pred.append(recom)"
   ]
  },
  {
   "cell_type": "code",
   "execution_count": 17,
   "metadata": {},
   "outputs": [],
   "source": [
    "df_pred = pd.DataFrame(y_pred)  \n",
    "df_pred.to_csv(\"./submission/baseline1_submission.csv\", index=False, header=False)"
   ]
  },
  {
   "cell_type": "code",
   "execution_count": 18,
   "metadata": {},
   "outputs": [
    {
     "output_type": "execute_result",
     "data": {
      "text/plain": [
       "0    0\n",
       "1    0\n",
       "2    0\n",
       "3    0\n",
       "4    0\n",
       "5    0\n",
       "6    0\n",
       "7    0\n",
       "8    0\n",
       "9    0\n",
       "dtype: int64"
      ]
     },
     "metadata": {},
     "execution_count": 18
    }
   ],
   "source": [
    "df_pred.isnull().sum()"
   ]
  },
  {
   "cell_type": "code",
   "execution_count": 19,
   "metadata": {},
   "outputs": [
    {
     "output_type": "execute_result",
     "data": {
      "text/plain": [
       "82633"
      ]
     },
     "metadata": {},
     "execution_count": 19
    }
   ],
   "source": [
    "len(df_pred)"
   ]
  },
  {
   "cell_type": "code",
   "execution_count": 54,
   "metadata": {},
   "outputs": [],
   "source": [
    "# Tomo del dataset de test cual es el que compro realmente, para computar el score de nuestro test.\n",
    "y_true = [row['item_bought'] for row in rows_test]"
   ]
  },
  {
   "cell_type": "code",
   "execution_count": null,
   "metadata": {},
   "outputs": [],
   "source": [
    "from challenge_metric import ndcg_score\n",
    "score = ndcg_score(y=true, y_pred, item_data, n_predictions=10)\n",
    "print (f'El score es: {score}')"
   ]
  }
 ],
 "metadata": {
  "kernelspec": {
   "name": "python3",
   "display_name": "Python 3.7.5 64-bit ('base': conda)",
   "metadata": {
    "interpreter": {
     "hash": "9a37e5188a605e95d3282a4fb8007f4c3c52885d8cd12f2ffcfc398feaa7ff36"
    }
   }
  },
  "language_info": {
   "codemirror_mode": {
    "name": "ipython",
    "version": 3
   },
   "file_extension": ".py",
   "mimetype": "text/x-python",
   "name": "python",
   "nbconvert_exporter": "python",
   "pygments_lexer": "ipython3",
   "version": "3.7.5-final"
  }
 },
 "nbformat": 4,
 "nbformat_minor": 4
}