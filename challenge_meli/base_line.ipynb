{
 "cells": [
  {
   "cell_type": "code",
   "execution_count": 4,
   "metadata": {},
   "outputs": [],
   "source": [
    "import pandas as pd\n",
    "import numpy as np\n",
    "import time\n",
    "import math\n",
    "import json\n",
    "import warnings, sys, os, gzip, gc\n",
    "from collections import Counter, defaultdict\n",
    "from sklearn import datasets\n",
    "from datetime import date, datetime\n",
    "from sklearn.model_selection import train_test_split\n",
    "from tqdm import tqdm, tqdm_notebook\n",
    "from pandas.io.json import json_normalize #package for flattening json in pandas df"
   ]
  },
  {
   "cell_type": "code",
   "execution_count": 5,
   "metadata": {},
   "outputs": [],
   "source": [
    "def jl_to_list(fname):\n",
    "    output=[]\n",
    "    with gzip.open(fname, 'rb') as f:\n",
    "        for line in f:\n",
    "            output.append(json.loads(line))\n",
    "    return output"
   ]
  },
  {
   "cell_type": "code",
   "execution_count": 6,
   "metadata": {},
   "outputs": [
    {
     "output_type": "stream",
     "name": "stdout",
     "text": [
      "tiempo:  33.470163345336914\n"
     ]
    }
   ],
   "source": [
    "t_0 = time.time()\n",
    "rows = jl_to_list('./data/raw/train_dataset.jl.gz')\n",
    "print (\"tiempo: \", time.time() - t_0)"
   ]
  },
  {
   "cell_type": "code",
   "execution_count": 7,
   "metadata": {},
   "outputs": [
    {
     "output_type": "stream",
     "name": "stdout",
     "text": [
      "tiempo:  26.907017946243286\n"
     ]
    }
   ],
   "source": [
    "t_0 = time.time()\n",
    "item_data = jl_to_list('./data/raw/item_data.jl.gz')\n",
    "print (\"tiempo: \", time.time() - t_0)"
   ]
  },
  {
   "cell_type": "code",
   "execution_count": 11,
   "metadata": {},
   "outputs": [],
   "source": [
    "samples = 10000\n",
    "if samples:\n",
    "    rows = rows[:samples]\n",
    "\n",
    "rows_train, rows_test =  train_test_split(rows, test_size=0.2, random_state=42)"
   ]
  },
  {
   "cell_type": "code",
   "execution_count": 12,
   "metadata": {},
   "outputs": [],
   "source": [
    "metadata = {x['item_id']:x for x in item_data}\n",
    "all_items = list(metadata.keys())"
   ]
  },
  {
   "source": [
    "## Items mas vendidos del dominio mas visitado"
   ],
   "cell_type": "markdown",
   "metadata": {}
  },
  {
   "cell_type": "code",
   "execution_count": 15,
   "metadata": {},
   "outputs": [
    {
     "output_type": "display_data",
     "data": {
      "text/plain": "HBox(children=(FloatProgress(value=0.0, max=8000.0), HTML(value='')))",
      "application/vnd.jupyter.widget-view+json": {
       "version_major": 2,
       "version_minor": 0,
       "model_id": "1ec97c80218247f89277715db1d7da69"
      }
     },
     "metadata": {}
    },
    {
     "output_type": "stream",
     "name": "stdout",
     "text": [
      "\n"
     ]
    }
   ],
   "source": [
    "ventas_x_dominio = defaultdict(lambda: defaultdict(int))\n",
    "\n",
    "for row in tqdm_notebook(rows_train):\n",
    "    viewed = [ev['event_info'] for ev in row['user_history'] if ev['event_type']=='view']\n",
    "    for item in viewed:\n",
    "        domain = metadata[item]['domain_id']\n",
    "        ventas_x_dominio[domain][item] += 1"
   ]
  },
  {
   "cell_type": "code",
   "execution_count": null,
   "metadata": {},
   "outputs": [],
   "source": [
    "def dominios_visitados(row, max_views=15):\n",
    "    domains = Counter()\n",
    "    viewed = [ev['event_info'] for ev in row['user_history'] if ev['event_type']=='view']"
   ]
  }
 ],
 "metadata": {
  "kernelspec": {
   "name": "python3",
   "display_name": "Python 3.7.5 64-bit ('base': conda)",
   "metadata": {
    "interpreter": {
     "hash": "9a37e5188a605e95d3282a4fb8007f4c3c52885d8cd12f2ffcfc398feaa7ff36"
    }
   }
  },
  "language_info": {
   "codemirror_mode": {
    "name": "ipython",
    "version": 3
   },
   "file_extension": ".py",
   "mimetype": "text/x-python",
   "name": "python",
   "nbconvert_exporter": "python",
   "pygments_lexer": "ipython3",
   "version": "3.7.5-final"
  }
 },
 "nbformat": 4,
 "nbformat_minor": 4
}