{
 "cells": [
  {
   "cell_type": "code",
   "execution_count": 1,
   "metadata": {},
   "outputs": [],
   "source": [
    "import pandas as pd\n",
    "import numpy as np\n",
    "import re\n",
    "import time, datetime\n",
    "import math\n",
    "import json\n",
    "import random\n",
    "import warnings, sys, os, gzip, gc\n",
    "from collections import Counter, defaultdict\n",
    "from sklearn import datasets\n",
    "from datetime import date, datetime\n",
    "from sklearn.model_selection import train_test_split\n",
    "from tqdm import tqdm, tqdm_notebook\n",
    "from pandas.io.json import json_normalize #package for flattening json in pandas df"
   ]
  },
  {
   "cell_type": "code",
   "execution_count": 2,
   "metadata": {},
   "outputs": [],
   "source": [
    "def jl_to_list(fname):\n",
    "    output=[]\n",
    "    with gzip.open(fname, 'rb') as f:\n",
    "        for line in f:\n",
    "            output.append(json.loads(line))\n",
    "    return output"
   ]
  },
  {
   "cell_type": "code",
   "execution_count": 3,
   "metadata": {},
   "outputs": [
    {
     "output_type": "stream",
     "name": "stdout",
     "text": [
      "tiempo:  29.05925440788269\n"
     ]
    }
   ],
   "source": [
    "t_0 = time.time()\n",
    "rows = jl_to_list('./data/raw/train_dataset.jl.gz')\n",
    "print (\"tiempo: \", time.time() - t_0)"
   ]
  },
  {
   "cell_type": "code",
   "execution_count": 4,
   "metadata": {},
   "outputs": [
    {
     "output_type": "stream",
     "name": "stdout",
     "text": [
      "tiempo:  20.95676016807556\n"
     ]
    }
   ],
   "source": [
    "t_0 = time.time()\n",
    "item_data = jl_to_list('./data/raw/item_data.jl.gz')\n",
    "print (\"tiempo: \", time.time() - t_0)"
   ]
  },
  {
   "cell_type": "code",
   "execution_count": 5,
   "metadata": {},
   "outputs": [],
   "source": [
    "#t_0 = time.time()\n",
    "#test_rows = jl_to_list('./data/raw/test_dataset.jl.gz')\n",
    "#print (\"tiempo: \", time.time() - t_0)\n",
    "#print(len(test_rows))"
   ]
  },
  {
   "cell_type": "code",
   "execution_count": 6,
   "metadata": {},
   "outputs": [
    {
     "output_type": "stream",
     "name": "stdout",
     "text": [
      "10000\n"
     ]
    }
   ],
   "source": [
    "samples = 10000\n",
    "if samples:\n",
    "    rows = rows[:samples]\n",
    "print(len(rows))"
   ]
  },
  {
   "source": [
    "## Analisis Exploratorio"
   ],
   "cell_type": "markdown",
   "metadata": {}
  },
  {
   "cell_type": "code",
   "execution_count": 7,
   "metadata": {},
   "outputs": [],
   "source": [
    "metadata = {x['item_id']:x for x in item_data}\n",
    "all_items = list(metadata.keys())"
   ]
  },
  {
   "cell_type": "code",
   "execution_count": 8,
   "metadata": {},
   "outputs": [],
   "source": [
    "metadata_bought = {x['item_bought']:x for x in rows}\n",
    "all_bought = list(metadata_bought.keys())\n",
    "# Por lo que revise no hay dos compras del mismo producto."
   ]
  },
  {
   "cell_type": "code",
   "execution_count": 9,
   "metadata": {},
   "outputs": [],
   "source": [
    "domains = {x['domain_id']:x for x in item_data}\n",
    "#categories = {x['category_id']:x for x in item_data}\n",
    "all_domains = list(domains.keys())\n",
    "#all_categories = list(categories.keys())"
   ]
  },
  {
   "cell_type": "code",
   "execution_count": 10,
   "metadata": {},
   "outputs": [
    {
     "output_type": "stream",
     "name": "stdout",
     "text": [
      "7894\n"
     ]
    }
   ],
   "source": [
    "print(len(all_domains))\n",
    "#print(len(all_categories))"
   ]
  },
  {
   "source": [
    "## Lista de dominios"
   ],
   "cell_type": "markdown",
   "metadata": {}
  },
  {
   "cell_type": "code",
   "execution_count": 11,
   "metadata": {},
   "outputs": [],
   "source": [
    "# Devuelve una lista con todos los dominios que visito un usuario y cuantas veces visito cada uno.\n",
    "def dominios_visitados(row, max_views=15):\n",
    "    domains = Counter()\n",
    "    viewed = [ev['event_info'] for ev in row['user_history'] if ev['event_type']=='view']\n",
    "    if len(viewed) > max_views:\n",
    "        viewed = viewed[:15]\n",
    "    for item in viewed:\n",
    "        domain = metadata[item]['domain_id']\n",
    "        domains[domain] +=1\n",
    "    #sorted(viewed, key=lambda x: x['event_timestamp'], reverse=True)    \n",
    "    return domains"
   ]
  },
  {
   "cell_type": "code",
   "execution_count": 17,
   "metadata": {},
   "outputs": [
    {
     "output_type": "execute_result",
     "data": {
      "text/plain": [
       "[('MLB-MILK_EXTRACTORS', 7), ('MLB-SHOWER_HEADS', 1)]"
      ]
     },
     "metadata": {},
     "execution_count": 17
    }
   ],
   "source": [
    "dominios_visitados(rows[1]).most_common()"
   ]
  },
  {
   "cell_type": "code",
   "execution_count": 18,
   "metadata": {},
   "outputs": [
    {
     "output_type": "execute_result",
     "data": {
      "text/plain": [
       "'MLB-MILK_EXTRACTORS'"
      ]
     },
     "metadata": {},
     "execution_count": 18
    }
   ],
   "source": [
    "dominios_visitados(rows[1]).most_common(1)[0][0]"
   ]
  },
  {
   "cell_type": "code",
   "execution_count": 19,
   "metadata": {},
   "outputs": [
    {
     "output_type": "execute_result",
     "data": {
      "text/plain": [
       "'MLB-MILK_EXTRACTORS'"
      ]
     },
     "metadata": {},
     "execution_count": 19
    }
   ],
   "source": [
    "item= rows[1]['item_bought']\n",
    "domain_bought = metadata[item]['domain_id']\n",
    "domain_bought"
   ]
  },
  {
   "cell_type": "code",
   "execution_count": 20,
   "metadata": {},
   "outputs": [
    {
     "output_type": "execute_result",
     "data": {
      "text/plain": [
       "                     0  1\n",
       "0  MLB-MILK_EXTRACTORS  7\n",
       "1     MLB-SHOWER_HEADS  1"
      ],
      "text/html": "<div>\n<style scoped>\n    .dataframe tbody tr th:only-of-type {\n        vertical-align: middle;\n    }\n\n    .dataframe tbody tr th {\n        vertical-align: top;\n    }\n\n    .dataframe thead th {\n        text-align: right;\n    }\n</style>\n<table border=\"1\" class=\"dataframe\">\n  <thead>\n    <tr style=\"text-align: right;\">\n      <th></th>\n      <th>0</th>\n      <th>1</th>\n    </tr>\n  </thead>\n  <tbody>\n    <tr>\n      <th>0</th>\n      <td>MLB-MILK_EXTRACTORS</td>\n      <td>7</td>\n    </tr>\n    <tr>\n      <th>1</th>\n      <td>MLB-SHOWER_HEADS</td>\n      <td>1</td>\n    </tr>\n  </tbody>\n</table>\n</div>"
     },
     "metadata": {},
     "execution_count": 20
    }
   ],
   "source": [
    "df = pd.DataFrame(dominios_visitados(rows[1]).most_common()) \n",
    "df "
   ]
  },
  {
   "cell_type": "code",
   "execution_count": 21,
   "metadata": {},
   "outputs": [
    {
     "output_type": "stream",
     "name": "stdout",
     "text": [
      "MLB-MILK_EXTRACTORS 7\n"
     ]
    }
   ],
   "source": [
    "dominios_visitados(rows[1]).most_common()\n",
    "first_domain = dominios_visitados(rows[1]).most_common()[0][0]\n",
    "first_count = dominios_visitados(rows[1]).most_common()[0][1]\n",
    "print(first_domain,first_count)"
   ]
  },
  {
   "cell_type": "code",
   "execution_count": 22,
   "metadata": {},
   "outputs": [
    {
     "output_type": "display_data",
     "data": {
      "text/plain": "HBox(children=(FloatProgress(value=0.0, max=10000.0), HTML(value='')))",
      "application/vnd.jupyter.widget-view+json": {
       "version_major": 2,
       "version_minor": 0,
       "model_id": "bbc41bb28f774bc583b5a53f5d54e285"
      }
     },
     "metadata": {}
    },
    {
     "output_type": "stream",
     "name": "stdout",
     "text": [
      "\n"
     ]
    }
   ],
   "source": [
    "list_perf = []\n",
    "row_id = 0\n",
    "for row in tqdm_notebook(rows[:10000]):\n",
    "    row_perf = dict()        \n",
    "    row_perf['ID']=row_id\n",
    "    row_perf['domain_bought'] = metadata[row['item_bought']]['domain_id']\n",
    "    for index in dominios_visitados(row).most_common():        \n",
    "        #print(count,index[0],index[1])\n",
    "        row_perf[index[0]]=index[1]\n",
    "    row_id +=1\n",
    "    list_perf.append(row_perf)"
   ]
  },
  {
   "cell_type": "code",
   "execution_count": 23,
   "metadata": {},
   "outputs": [],
   "source": [
    "#del [rows]\n",
    "#del [item_data]\n",
    "#del [all_items]\n",
    "#del [all_domains]\n",
    "#del [all_bought]\n",
    "#gc.collect()"
   ]
  },
  {
   "cell_type": "code",
   "execution_count": 24,
   "metadata": {},
   "outputs": [
    {
     "output_type": "execute_result",
     "data": {
      "text/plain": [
       "10000"
      ]
     },
     "metadata": {},
     "execution_count": 24
    }
   ],
   "source": [
    "len(list_perf)"
   ]
  },
  {
   "cell_type": "code",
   "execution_count": 25,
   "metadata": {},
   "outputs": [
    {
     "output_type": "execute_result",
     "data": {
      "text/plain": [
       "{'ID': 2500,\n",
       " 'domain_bought': 'MLB-SHORTS',\n",
       " 'MLB-CLOTHING': 3,\n",
       " 'MLB-TACTICAL_AND_SPORTING_KNIVES_AND_BLADES': 3,\n",
       " 'MLB-BOOKS': 2,\n",
       " 'MLB-KEYCHAINS': 2,\n",
       " 'MLB-BACKPACKS': 1,\n",
       " 'MLB-FANNY_PACKS': 1,\n",
       " 'MLB-HAIRDRESSING_SCISSORS': 1,\n",
       " 'MLB-PANTS': 1,\n",
       " 'MLB-T_SHIRTS': 1}"
      ]
     },
     "metadata": {},
     "execution_count": 25
    }
   ],
   "source": [
    "list_perf[2500]"
   ]
  },
  {
   "cell_type": "code",
   "execution_count": 26,
   "metadata": {},
   "outputs": [],
   "source": [
    "df_list_perf = pd.DataFrame(list_perf)\n",
    "#df_list_perf"
   ]
  },
  {
   "cell_type": "code",
   "execution_count": 27,
   "metadata": {},
   "outputs": [
    {
     "output_type": "execute_result",
     "data": {
      "text/plain": [
       "3130"
      ]
     },
     "metadata": {},
     "execution_count": 27
    }
   ],
   "source": [
    "len(df_list_perf.columns)"
   ]
  },
  {
   "cell_type": "code",
   "execution_count": 28,
   "metadata": {},
   "outputs": [],
   "source": [
    "df_list_perf.fillna(0, inplace=True)"
   ]
  },
  {
   "cell_type": "code",
   "execution_count": 29,
   "metadata": {},
   "outputs": [
    {
     "output_type": "execute_result",
     "data": {
      "text/plain": [
       "        ID               domain_bought  MLB-SMARTWATCHES  MLB-MILK_EXTRACTORS  \\\n",
       "0        0            MLB-SMARTWATCHES              15.0                  0.0   \n",
       "1        1         MLB-MILK_EXTRACTORS               0.0                  7.0   \n",
       "2        2   MLB-CELLPHONE_ACCESSORIES               0.0                  0.0   \n",
       "3        3  MLB-CARD_PAYMENT_TERMINALS               0.0                  0.0   \n",
       "4        4            MLB-SMARTWATCHES               5.0                  0.0   \n",
       "...    ...                         ...               ...                  ...   \n",
       "9995  9995            MLB-WRISTWATCHES               0.0                  0.0   \n",
       "9996  9996              MLB-CELLPHONES               0.0                  0.0   \n",
       "9997  9997                MLB-SPEAKERS               0.0                  0.0   \n",
       "9998  9998       MLB-CRIB_BEDDING_SETS               0.0                  0.0   \n",
       "9999  9999           MLB-HAIR_CLIPPERS               0.0                  0.0   \n",
       "\n",
       "      MLB-SHOWER_HEADS  MLB-TOWEL_SETS  \\\n",
       "0                  0.0             0.0   \n",
       "1                  1.0             0.0   \n",
       "2                  0.0             2.0   \n",
       "3                  0.0             0.0   \n",
       "4                  0.0             0.0   \n",
       "...                ...             ...   \n",
       "9995               0.0             0.0   \n",
       "9996               0.0             0.0   \n",
       "9997               0.0             0.0   \n",
       "9998               0.0             0.0   \n",
       "9999               0.0             0.0   \n",
       "\n",
       "      MLB-COMPUTER_EQUIPMENT_AND_SPARE_PARTS  MLB-OFFICE_SOFTWARE  MLB-TENTS  \\\n",
       "0                                        0.0                  0.0        0.0   \n",
       "1                                        0.0                  0.0        0.0   \n",
       "2                                        0.0                  0.0        0.0   \n",
       "3                                        5.0                  2.0        0.0   \n",
       "4                                        0.0                  0.0        4.0   \n",
       "...                                      ...                  ...        ...   \n",
       "9995                                     0.0                  0.0        0.0   \n",
       "9996                                     0.0                  0.0        0.0   \n",
       "9997                                     0.0                  0.0        0.0   \n",
       "9998                                     0.0                  0.0        0.0   \n",
       "9999                                     0.0                  0.0        0.0   \n",
       "\n",
       "      MLB-TOYS_AND_GAMES  ...  MLB-PASTAS  MLM-DEPILATORY_WAXES  \\\n",
       "0                    0.0  ...         0.0                   0.0   \n",
       "1                    0.0  ...         0.0                   0.0   \n",
       "2                    0.0  ...         0.0                   0.0   \n",
       "3                    0.0  ...         0.0                   0.0   \n",
       "4                    3.0  ...         0.0                   0.0   \n",
       "...                  ...  ...         ...                   ...   \n",
       "9995                 0.0  ...         0.0                   0.0   \n",
       "9996                 0.0  ...         0.0                   0.0   \n",
       "9997                 0.0  ...         0.0                   0.0   \n",
       "9998                 0.0  ...         0.0                   0.0   \n",
       "9999                 0.0  ...         0.0                   0.0   \n",
       "\n",
       "      MLM-HAIR_REMOVAL_STRIPS  MLB-RAZOR_CARTRIDGES  MLM-MAKEUP_TRAIN_CASES  \\\n",
       "0                         0.0                   0.0                     0.0   \n",
       "1                         0.0                   0.0                     0.0   \n",
       "2                         0.0                   0.0                     0.0   \n",
       "3                         0.0                   0.0                     0.0   \n",
       "4                         0.0                   0.0                     0.0   \n",
       "...                       ...                   ...                     ...   \n",
       "9995                      0.0                   0.0                     0.0   \n",
       "9996                      0.0                   0.0                     0.0   \n",
       "9997                      0.0                   0.0                     0.0   \n",
       "9998                      0.0                   0.0                     0.0   \n",
       "9999                      0.0                   0.0                     0.0   \n",
       "\n",
       "      MLM-HOUSE_NUMBERS  MLM-BABY_BATHTUBS  MLB-BICYCLE_WRENCHES  \\\n",
       "0                   0.0                0.0                   0.0   \n",
       "1                   0.0                0.0                   0.0   \n",
       "2                   0.0                0.0                   0.0   \n",
       "3                   0.0                0.0                   0.0   \n",
       "4                   0.0                0.0                   0.0   \n",
       "...                 ...                ...                   ...   \n",
       "9995                0.0                0.0                   0.0   \n",
       "9996                0.0                0.0                   0.0   \n",
       "9997                0.0                0.0                   0.0   \n",
       "9998                0.0                0.0                   0.0   \n",
       "9999                0.0                0.0                   0.0   \n",
       "\n",
       "      MLB-LAMINATORS  MLB-IDENTIFICATION_AND_PRESENTATION_CARD_CUTTERS  \n",
       "0                0.0                                               0.0  \n",
       "1                0.0                                               0.0  \n",
       "2                0.0                                               0.0  \n",
       "3                0.0                                               0.0  \n",
       "4                0.0                                               0.0  \n",
       "...              ...                                               ...  \n",
       "9995             0.0                                               0.0  \n",
       "9996             0.0                                               0.0  \n",
       "9997             0.0                                               0.0  \n",
       "9998             0.0                                               0.0  \n",
       "9999             0.0                                               0.0  \n",
       "\n",
       "[10000 rows x 3130 columns]"
      ],
      "text/html": "<div>\n<style scoped>\n    .dataframe tbody tr th:only-of-type {\n        vertical-align: middle;\n    }\n\n    .dataframe tbody tr th {\n        vertical-align: top;\n    }\n\n    .dataframe thead th {\n        text-align: right;\n    }\n</style>\n<table border=\"1\" class=\"dataframe\">\n  <thead>\n    <tr style=\"text-align: right;\">\n      <th></th>\n      <th>ID</th>\n      <th>domain_bought</th>\n      <th>MLB-SMARTWATCHES</th>\n      <th>MLB-MILK_EXTRACTORS</th>\n      <th>MLB-SHOWER_HEADS</th>\n      <th>MLB-TOWEL_SETS</th>\n      <th>MLB-COMPUTER_EQUIPMENT_AND_SPARE_PARTS</th>\n      <th>MLB-OFFICE_SOFTWARE</th>\n      <th>MLB-TENTS</th>\n      <th>MLB-TOYS_AND_GAMES</th>\n      <th>...</th>\n      <th>MLB-PASTAS</th>\n      <th>MLM-DEPILATORY_WAXES</th>\n      <th>MLM-HAIR_REMOVAL_STRIPS</th>\n      <th>MLB-RAZOR_CARTRIDGES</th>\n      <th>MLM-MAKEUP_TRAIN_CASES</th>\n      <th>MLM-HOUSE_NUMBERS</th>\n      <th>MLM-BABY_BATHTUBS</th>\n      <th>MLB-BICYCLE_WRENCHES</th>\n      <th>MLB-LAMINATORS</th>\n      <th>MLB-IDENTIFICATION_AND_PRESENTATION_CARD_CUTTERS</th>\n    </tr>\n  </thead>\n  <tbody>\n    <tr>\n      <th>0</th>\n      <td>0</td>\n      <td>MLB-SMARTWATCHES</td>\n      <td>15.0</td>\n      <td>0.0</td>\n      <td>0.0</td>\n      <td>0.0</td>\n      <td>0.0</td>\n      <td>0.0</td>\n      <td>0.0</td>\n      <td>0.0</td>\n      <td>...</td>\n      <td>0.0</td>\n      <td>0.0</td>\n      <td>0.0</td>\n      <td>0.0</td>\n      <td>0.0</td>\n      <td>0.0</td>\n      <td>0.0</td>\n      <td>0.0</td>\n      <td>0.0</td>\n      <td>0.0</td>\n    </tr>\n    <tr>\n      <th>1</th>\n      <td>1</td>\n      <td>MLB-MILK_EXTRACTORS</td>\n      <td>0.0</td>\n      <td>7.0</td>\n      <td>1.0</td>\n      <td>0.0</td>\n      <td>0.0</td>\n      <td>0.0</td>\n      <td>0.0</td>\n      <td>0.0</td>\n      <td>...</td>\n      <td>0.0</td>\n      <td>0.0</td>\n      <td>0.0</td>\n      <td>0.0</td>\n      <td>0.0</td>\n      <td>0.0</td>\n      <td>0.0</td>\n      <td>0.0</td>\n      <td>0.0</td>\n      <td>0.0</td>\n    </tr>\n    <tr>\n      <th>2</th>\n      <td>2</td>\n      <td>MLB-CELLPHONE_ACCESSORIES</td>\n      <td>0.0</td>\n      <td>0.0</td>\n      <td>0.0</td>\n      <td>2.0</td>\n      <td>0.0</td>\n      <td>0.0</td>\n      <td>0.0</td>\n      <td>0.0</td>\n      <td>...</td>\n      <td>0.0</td>\n      <td>0.0</td>\n      <td>0.0</td>\n      <td>0.0</td>\n      <td>0.0</td>\n      <td>0.0</td>\n      <td>0.0</td>\n      <td>0.0</td>\n      <td>0.0</td>\n      <td>0.0</td>\n    </tr>\n    <tr>\n      <th>3</th>\n      <td>3</td>\n      <td>MLB-CARD_PAYMENT_TERMINALS</td>\n      <td>0.0</td>\n      <td>0.0</td>\n      <td>0.0</td>\n      <td>0.0</td>\n      <td>5.0</td>\n      <td>2.0</td>\n      <td>0.0</td>\n      <td>0.0</td>\n      <td>...</td>\n      <td>0.0</td>\n      <td>0.0</td>\n      <td>0.0</td>\n      <td>0.0</td>\n      <td>0.0</td>\n      <td>0.0</td>\n      <td>0.0</td>\n      <td>0.0</td>\n      <td>0.0</td>\n      <td>0.0</td>\n    </tr>\n    <tr>\n      <th>4</th>\n      <td>4</td>\n      <td>MLB-SMARTWATCHES</td>\n      <td>5.0</td>\n      <td>0.0</td>\n      <td>0.0</td>\n      <td>0.0</td>\n      <td>0.0</td>\n      <td>0.0</td>\n      <td>4.0</td>\n      <td>3.0</td>\n      <td>...</td>\n      <td>0.0</td>\n      <td>0.0</td>\n      <td>0.0</td>\n      <td>0.0</td>\n      <td>0.0</td>\n      <td>0.0</td>\n      <td>0.0</td>\n      <td>0.0</td>\n      <td>0.0</td>\n      <td>0.0</td>\n    </tr>\n    <tr>\n      <th>...</th>\n      <td>...</td>\n      <td>...</td>\n      <td>...</td>\n      <td>...</td>\n      <td>...</td>\n      <td>...</td>\n      <td>...</td>\n      <td>...</td>\n      <td>...</td>\n      <td>...</td>\n      <td>...</td>\n      <td>...</td>\n      <td>...</td>\n      <td>...</td>\n      <td>...</td>\n      <td>...</td>\n      <td>...</td>\n      <td>...</td>\n      <td>...</td>\n      <td>...</td>\n      <td>...</td>\n    </tr>\n    <tr>\n      <th>9995</th>\n      <td>9995</td>\n      <td>MLB-WRISTWATCHES</td>\n      <td>0.0</td>\n      <td>0.0</td>\n      <td>0.0</td>\n      <td>0.0</td>\n      <td>0.0</td>\n      <td>0.0</td>\n      <td>0.0</td>\n      <td>0.0</td>\n      <td>...</td>\n      <td>0.0</td>\n      <td>0.0</td>\n      <td>0.0</td>\n      <td>0.0</td>\n      <td>0.0</td>\n      <td>0.0</td>\n      <td>0.0</td>\n      <td>0.0</td>\n      <td>0.0</td>\n      <td>0.0</td>\n    </tr>\n    <tr>\n      <th>9996</th>\n      <td>9996</td>\n      <td>MLB-CELLPHONES</td>\n      <td>0.0</td>\n      <td>0.0</td>\n      <td>0.0</td>\n      <td>0.0</td>\n      <td>0.0</td>\n      <td>0.0</td>\n      <td>0.0</td>\n      <td>0.0</td>\n      <td>...</td>\n      <td>0.0</td>\n      <td>0.0</td>\n      <td>0.0</td>\n      <td>0.0</td>\n      <td>0.0</td>\n      <td>0.0</td>\n      <td>0.0</td>\n      <td>0.0</td>\n      <td>0.0</td>\n      <td>0.0</td>\n    </tr>\n    <tr>\n      <th>9997</th>\n      <td>9997</td>\n      <td>MLB-SPEAKERS</td>\n      <td>0.0</td>\n      <td>0.0</td>\n      <td>0.0</td>\n      <td>0.0</td>\n      <td>0.0</td>\n      <td>0.0</td>\n      <td>0.0</td>\n      <td>0.0</td>\n      <td>...</td>\n      <td>0.0</td>\n      <td>0.0</td>\n      <td>0.0</td>\n      <td>0.0</td>\n      <td>0.0</td>\n      <td>0.0</td>\n      <td>0.0</td>\n      <td>0.0</td>\n      <td>0.0</td>\n      <td>0.0</td>\n    </tr>\n    <tr>\n      <th>9998</th>\n      <td>9998</td>\n      <td>MLB-CRIB_BEDDING_SETS</td>\n      <td>0.0</td>\n      <td>0.0</td>\n      <td>0.0</td>\n      <td>0.0</td>\n      <td>0.0</td>\n      <td>0.0</td>\n      <td>0.0</td>\n      <td>0.0</td>\n      <td>...</td>\n      <td>0.0</td>\n      <td>0.0</td>\n      <td>0.0</td>\n      <td>0.0</td>\n      <td>0.0</td>\n      <td>0.0</td>\n      <td>0.0</td>\n      <td>0.0</td>\n      <td>0.0</td>\n      <td>0.0</td>\n    </tr>\n    <tr>\n      <th>9999</th>\n      <td>9999</td>\n      <td>MLB-HAIR_CLIPPERS</td>\n      <td>0.0</td>\n      <td>0.0</td>\n      <td>0.0</td>\n      <td>0.0</td>\n      <td>0.0</td>\n      <td>0.0</td>\n      <td>0.0</td>\n      <td>0.0</td>\n      <td>...</td>\n      <td>0.0</td>\n      <td>0.0</td>\n      <td>0.0</td>\n      <td>0.0</td>\n      <td>0.0</td>\n      <td>0.0</td>\n      <td>0.0</td>\n      <td>0.0</td>\n      <td>0.0</td>\n      <td>0.0</td>\n    </tr>\n  </tbody>\n</table>\n<p>10000 rows × 3130 columns</p>\n</div>"
     },
     "metadata": {},
     "execution_count": 29
    }
   ],
   "source": [
    "df_list_perf"
   ]
  },
  {
   "cell_type": "code",
   "execution_count": 30,
   "metadata": {},
   "outputs": [],
   "source": [
    "df_list_perf.to_csv(\"./data/df_list_perf.csv\", index=False, header=True)"
   ]
  },
  {
   "source": [
    "### Prediccion"
   ],
   "cell_type": "markdown",
   "metadata": {}
  },
  {
   "cell_type": "code",
   "execution_count": 47,
   "metadata": {},
   "outputs": [],
   "source": [
    "df_prefiles = pd.read_csv(\"./data/df_list_perf.csv\")"
   ]
  },
  {
   "cell_type": "code",
   "execution_count": 49,
   "metadata": {},
   "outputs": [
    {
     "output_type": "stream",
     "name": "stdout",
     "text": [
      "ID                                                   float64\ndomain_bought                                       category\nMLB-SMARTWATCHES                                     float64\nMLB-MILK_EXTRACTORS                                  float64\nMLB-SHOWER_HEADS                                     float64\n                                                      ...   \nMLM-HOUSE_NUMBERS                                    float64\nMLM-BABY_BATHTUBS                                    float64\nMLB-BICYCLE_WRENCHES                                 float64\nMLB-LAMINATORS                                       float64\nMLB-IDENTIFICATION_AND_PRESENTATION_CARD_CUTTERS     float64\nLength: 3130, dtype: object\n"
     ]
    }
   ],
   "source": [
    "df_prefiles['domain_bought'] = df_prefiles['domain_bought'].astype('category')\n",
    "df_prefiles['ID'] = df_prefiles['ID'].astype('float64')\n",
    "print(df_prefiles.dtypes)"
   ]
  },
  {
   "cell_type": "code",
   "execution_count": 50,
   "metadata": {},
   "outputs": [],
   "source": [
    "#cols=[i for i in df_prefiles.columns if i not in ['domain_bought']]\n",
    "#for col in cols:\n",
    "    #df_prefiles[col]=df_prefiles[col].astype('int')"
   ]
  },
  {
   "cell_type": "code",
   "execution_count": 56,
   "metadata": {},
   "outputs": [],
   "source": [
    "full_x = df_prefiles.drop(['domain_bought'], axis=1)\n",
    "full_y = df_prefiles[['domain_bought']]\n",
    "X_train, X_test, y_train, y_test = train_test_split(full_x, full_y, test_size=0.2, random_state=0)"
   ]
  },
  {
   "cell_type": "code",
   "execution_count": 57,
   "metadata": {},
   "outputs": [],
   "source": [
    "import lightgbm as lgb"
   ]
  },
  {
   "cell_type": "code",
   "execution_count": 61,
   "metadata": {},
   "outputs": [],
   "source": [
    "#lgb_train = lgb.Dataset(full_x, full_y)\n",
    "lgb_train = lgb.Dataset(X_train, y_train)"
   ]
  },
  {
   "cell_type": "code",
   "execution_count": 62,
   "metadata": {},
   "outputs": [],
   "source": [
    "# specify your configurations as a dict\n",
    "params = {\n",
    "    'boosting_type': 'gbdt',\n",
    "    'objective': 'regression',\n",
    "    'metric': {'l2', 'l1'},\n",
    "    'num_leaves': 50,\n",
    "    'learning_rate': 0.05,\n",
    "    'feature_fraction': 0.9,\n",
    "    'bagging_fraction': 0.8,\n",
    "    'bagging_freq': 5,\n",
    "    'verbose': 0\n",
    "}\n",
    "# acotar hojas y profundidad\n",
    "# Staking"
   ]
  },
  {
   "cell_type": "code",
   "execution_count": 63,
   "metadata": {},
   "outputs": [
    {
     "output_type": "stream",
     "name": "stdout",
     "text": [
      "Starting training...\n"
     ]
    },
    {
     "output_type": "error",
     "ename": "ValueError",
     "evalue": "DataFrame.dtypes for label must be int, float or bool",
     "traceback": [
      "\u001b[0;31m---------------------------------------------------------------------------\u001b[0m",
      "\u001b[0;31mValueError\u001b[0m                                Traceback (most recent call last)",
      "\u001b[0;32m<ipython-input-63-ec95e8502e99>\u001b[0m in \u001b[0;36m<module>\u001b[0;34m\u001b[0m\n\u001b[1;32m      4\u001b[0m gbm = lgb.train(params,\n\u001b[1;32m      5\u001b[0m                 \u001b[0mlgb_train\u001b[0m\u001b[0;34m,\u001b[0m\u001b[0;34m\u001b[0m\u001b[0;34m\u001b[0m\u001b[0m\n\u001b[0;32m----> 6\u001b[0;31m                 num_boost_round=20)\n\u001b[0m\u001b[1;32m      7\u001b[0m \u001b[0;31m# save model to file\u001b[0m\u001b[0;34m\u001b[0m\u001b[0;34m\u001b[0m\u001b[0;34m\u001b[0m\u001b[0m\n\u001b[1;32m      8\u001b[0m \u001b[0;31m#gbm.save_model('model.txt')\u001b[0m\u001b[0;34m\u001b[0m\u001b[0;34m\u001b[0m\u001b[0;34m\u001b[0m\u001b[0m\n",
      "\u001b[0;32m~/anaconda3/lib/python3.7/site-packages/lightgbm/engine.py\u001b[0m in \u001b[0;36mtrain\u001b[0;34m(params, train_set, num_boost_round, valid_sets, valid_names, fobj, feval, init_model, feature_name, categorical_feature, early_stopping_rounds, evals_result, verbose_eval, learning_rates, keep_training_booster, callbacks)\u001b[0m\n\u001b[1;32m    229\u001b[0m     \u001b[0;31m# construct booster\u001b[0m\u001b[0;34m\u001b[0m\u001b[0;34m\u001b[0m\u001b[0;34m\u001b[0m\u001b[0m\n\u001b[1;32m    230\u001b[0m     \u001b[0;32mtry\u001b[0m\u001b[0;34m:\u001b[0m\u001b[0;34m\u001b[0m\u001b[0;34m\u001b[0m\u001b[0m\n\u001b[0;32m--> 231\u001b[0;31m         \u001b[0mbooster\u001b[0m \u001b[0;34m=\u001b[0m \u001b[0mBooster\u001b[0m\u001b[0;34m(\u001b[0m\u001b[0mparams\u001b[0m\u001b[0;34m=\u001b[0m\u001b[0mparams\u001b[0m\u001b[0;34m,\u001b[0m \u001b[0mtrain_set\u001b[0m\u001b[0;34m=\u001b[0m\u001b[0mtrain_set\u001b[0m\u001b[0;34m)\u001b[0m\u001b[0;34m\u001b[0m\u001b[0;34m\u001b[0m\u001b[0m\n\u001b[0m\u001b[1;32m    232\u001b[0m         \u001b[0;32mif\u001b[0m \u001b[0mis_valid_contain_train\u001b[0m\u001b[0;34m:\u001b[0m\u001b[0;34m\u001b[0m\u001b[0;34m\u001b[0m\u001b[0m\n\u001b[1;32m    233\u001b[0m             \u001b[0mbooster\u001b[0m\u001b[0;34m.\u001b[0m\u001b[0mset_train_data_name\u001b[0m\u001b[0;34m(\u001b[0m\u001b[0mtrain_data_name\u001b[0m\u001b[0;34m)\u001b[0m\u001b[0;34m\u001b[0m\u001b[0;34m\u001b[0m\u001b[0m\n",
      "\u001b[0;32m~/anaconda3/lib/python3.7/site-packages/lightgbm/basic.py\u001b[0m in \u001b[0;36m__init__\u001b[0;34m(self, params, train_set, model_file, model_str, silent)\u001b[0m\n\u001b[1;32m   1981\u001b[0m                     \u001b[0;32mbreak\u001b[0m\u001b[0;34m\u001b[0m\u001b[0;34m\u001b[0m\u001b[0m\n\u001b[1;32m   1982\u001b[0m             \u001b[0;31m# construct booster object\u001b[0m\u001b[0;34m\u001b[0m\u001b[0;34m\u001b[0m\u001b[0;34m\u001b[0m\u001b[0m\n\u001b[0;32m-> 1983\u001b[0;31m             \u001b[0mtrain_set\u001b[0m\u001b[0;34m.\u001b[0m\u001b[0mconstruct\u001b[0m\u001b[0;34m(\u001b[0m\u001b[0;34m)\u001b[0m\u001b[0;34m\u001b[0m\u001b[0;34m\u001b[0m\u001b[0m\n\u001b[0m\u001b[1;32m   1984\u001b[0m             \u001b[0;31m# copy the parameters from train_set\u001b[0m\u001b[0;34m\u001b[0m\u001b[0;34m\u001b[0m\u001b[0;34m\u001b[0m\u001b[0m\n\u001b[1;32m   1985\u001b[0m             \u001b[0mparams\u001b[0m\u001b[0;34m.\u001b[0m\u001b[0mupdate\u001b[0m\u001b[0;34m(\u001b[0m\u001b[0mtrain_set\u001b[0m\u001b[0;34m.\u001b[0m\u001b[0mget_params\u001b[0m\u001b[0;34m(\u001b[0m\u001b[0;34m)\u001b[0m\u001b[0;34m)\u001b[0m\u001b[0;34m\u001b[0m\u001b[0;34m\u001b[0m\u001b[0m\n",
      "\u001b[0;32m~/anaconda3/lib/python3.7/site-packages/lightgbm/basic.py\u001b[0m in \u001b[0;36mconstruct\u001b[0;34m(self)\u001b[0m\n\u001b[1;32m   1323\u001b[0m                                 \u001b[0minit_score\u001b[0m\u001b[0;34m=\u001b[0m\u001b[0mself\u001b[0m\u001b[0;34m.\u001b[0m\u001b[0minit_score\u001b[0m\u001b[0;34m,\u001b[0m \u001b[0mpredictor\u001b[0m\u001b[0;34m=\u001b[0m\u001b[0mself\u001b[0m\u001b[0;34m.\u001b[0m\u001b[0m_predictor\u001b[0m\u001b[0;34m,\u001b[0m\u001b[0;34m\u001b[0m\u001b[0;34m\u001b[0m\u001b[0m\n\u001b[1;32m   1324\u001b[0m                                 \u001b[0msilent\u001b[0m\u001b[0;34m=\u001b[0m\u001b[0mself\u001b[0m\u001b[0;34m.\u001b[0m\u001b[0msilent\u001b[0m\u001b[0;34m,\u001b[0m \u001b[0mfeature_name\u001b[0m\u001b[0;34m=\u001b[0m\u001b[0mself\u001b[0m\u001b[0;34m.\u001b[0m\u001b[0mfeature_name\u001b[0m\u001b[0;34m,\u001b[0m\u001b[0;34m\u001b[0m\u001b[0;34m\u001b[0m\u001b[0m\n\u001b[0;32m-> 1325\u001b[0;31m                                 categorical_feature=self.categorical_feature, params=self.params)\n\u001b[0m\u001b[1;32m   1326\u001b[0m             \u001b[0;32mif\u001b[0m \u001b[0mself\u001b[0m\u001b[0;34m.\u001b[0m\u001b[0mfree_raw_data\u001b[0m\u001b[0;34m:\u001b[0m\u001b[0;34m\u001b[0m\u001b[0;34m\u001b[0m\u001b[0m\n\u001b[1;32m   1327\u001b[0m                 \u001b[0mself\u001b[0m\u001b[0;34m.\u001b[0m\u001b[0mdata\u001b[0m \u001b[0;34m=\u001b[0m \u001b[0;32mNone\u001b[0m\u001b[0;34m\u001b[0m\u001b[0;34m\u001b[0m\u001b[0m\n",
      "\u001b[0;32m~/anaconda3/lib/python3.7/site-packages/lightgbm/basic.py\u001b[0m in \u001b[0;36m_lazy_init\u001b[0;34m(self, data, label, reference, weight, group, init_score, predictor, silent, feature_name, categorical_feature, params)\u001b[0m\n\u001b[1;32m   1064\u001b[0m                                                                                              \u001b[0mcategorical_feature\u001b[0m\u001b[0;34m,\u001b[0m\u001b[0;34m\u001b[0m\u001b[0;34m\u001b[0m\u001b[0m\n\u001b[1;32m   1065\u001b[0m                                                                                              self.pandas_categorical)\n\u001b[0;32m-> 1066\u001b[0;31m         \u001b[0mlabel\u001b[0m \u001b[0;34m=\u001b[0m \u001b[0m_label_from_pandas\u001b[0m\u001b[0;34m(\u001b[0m\u001b[0mlabel\u001b[0m\u001b[0;34m)\u001b[0m\u001b[0;34m\u001b[0m\u001b[0;34m\u001b[0m\u001b[0m\n\u001b[0m\u001b[1;32m   1067\u001b[0m \u001b[0;34m\u001b[0m\u001b[0m\n\u001b[1;32m   1068\u001b[0m         \u001b[0;31m# process for args\u001b[0m\u001b[0;34m\u001b[0m\u001b[0;34m\u001b[0m\u001b[0;34m\u001b[0m\u001b[0m\n",
      "\u001b[0;32m~/anaconda3/lib/python3.7/site-packages/lightgbm/basic.py\u001b[0m in \u001b[0;36m_label_from_pandas\u001b[0;34m(label)\u001b[0m\n\u001b[1;32m    412\u001b[0m             \u001b[0;32mraise\u001b[0m \u001b[0mValueError\u001b[0m\u001b[0;34m(\u001b[0m\u001b[0;34m'DataFrame for label cannot have multiple columns'\u001b[0m\u001b[0;34m)\u001b[0m\u001b[0;34m\u001b[0m\u001b[0;34m\u001b[0m\u001b[0m\n\u001b[1;32m    413\u001b[0m         \u001b[0;32mif\u001b[0m \u001b[0m_get_bad_pandas_dtypes\u001b[0m\u001b[0;34m(\u001b[0m\u001b[0mlabel\u001b[0m\u001b[0;34m.\u001b[0m\u001b[0mdtypes\u001b[0m\u001b[0;34m)\u001b[0m\u001b[0;34m:\u001b[0m\u001b[0;34m\u001b[0m\u001b[0;34m\u001b[0m\u001b[0m\n\u001b[0;32m--> 414\u001b[0;31m             \u001b[0;32mraise\u001b[0m \u001b[0mValueError\u001b[0m\u001b[0;34m(\u001b[0m\u001b[0;34m'DataFrame.dtypes for label must be int, float or bool'\u001b[0m\u001b[0;34m)\u001b[0m\u001b[0;34m\u001b[0m\u001b[0;34m\u001b[0m\u001b[0m\n\u001b[0m\u001b[1;32m    415\u001b[0m         \u001b[0mlabel\u001b[0m \u001b[0;34m=\u001b[0m \u001b[0mnp\u001b[0m\u001b[0;34m.\u001b[0m\u001b[0mravel\u001b[0m\u001b[0;34m(\u001b[0m\u001b[0mlabel\u001b[0m\u001b[0;34m.\u001b[0m\u001b[0mvalues\u001b[0m\u001b[0;34m.\u001b[0m\u001b[0mastype\u001b[0m\u001b[0;34m(\u001b[0m\u001b[0mnp\u001b[0m\u001b[0;34m.\u001b[0m\u001b[0mfloat32\u001b[0m\u001b[0;34m,\u001b[0m \u001b[0mcopy\u001b[0m\u001b[0;34m=\u001b[0m\u001b[0;32mFalse\u001b[0m\u001b[0;34m)\u001b[0m\u001b[0;34m)\u001b[0m\u001b[0;34m\u001b[0m\u001b[0;34m\u001b[0m\u001b[0m\n\u001b[1;32m    416\u001b[0m     \u001b[0;32mreturn\u001b[0m \u001b[0mlabel\u001b[0m\u001b[0;34m\u001b[0m\u001b[0;34m\u001b[0m\u001b[0m\n",
      "\u001b[0;31mValueError\u001b[0m: DataFrame.dtypes for label must be int, float or bool"
     ]
    }
   ],
   "source": [
    "print('Starting training...')\n",
    "# train\n",
    "#gbm = lgb.train(params, lgb_train, num_boost_round=20, valid_sets=lgb_eval,early_stopping_rounds=5)\n",
    "gbm = lgb.train(params,\n",
    "                lgb_train,\n",
    "                num_boost_round=20)\n",
    "# save model to file\n",
    "#gbm.save_model('model.txt')"
   ]
  },
  {
   "cell_type": "code",
   "execution_count": null,
   "metadata": {},
   "outputs": [],
   "source": []
  }
 ],
 "metadata": {
  "kernelspec": {
   "name": "python3",
   "display_name": "Python 3.7.5 64-bit ('base': conda)",
   "metadata": {
    "interpreter": {
     "hash": "9a37e5188a605e95d3282a4fb8007f4c3c52885d8cd12f2ffcfc398feaa7ff36"
    }
   }
  },
  "language_info": {
   "codemirror_mode": {
    "name": "ipython",
    "version": 3
   },
   "file_extension": ".py",
   "mimetype": "text/x-python",
   "name": "python",
   "nbconvert_exporter": "python",
   "pygments_lexer": "ipython3",
   "version": "3.7.5-final"
  }
 },
 "nbformat": 4,
 "nbformat_minor": 4
}