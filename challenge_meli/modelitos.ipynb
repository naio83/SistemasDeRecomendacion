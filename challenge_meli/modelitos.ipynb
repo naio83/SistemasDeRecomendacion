{
 "cells": [
  {
   "cell_type": "code",
   "execution_count": 1,
   "metadata": {},
   "outputs": [],
   "source": [
    "import pandas as pd\n",
    "import numpy as np\n",
    "import re\n",
    "import time\n",
    "import math\n",
    "import json\n",
    "import random\n",
    "import warnings, sys, os, gzip, gc\n",
    "from collections import Counter, defaultdict\n",
    "from sklearn import datasets\n",
    "from datetime import date, datetime\n",
    "from sklearn.model_selection import train_test_split\n",
    "from tqdm import tqdm, tqdm_notebook\n",
    "from pandas.io.json import json_normalize #package for flattening json in pandas df\n",
    "from challenge_metric import ndcg_score"
   ]
  },
  {
   "cell_type": "code",
   "execution_count": 2,
   "metadata": {},
   "outputs": [],
   "source": [
    "def jl_to_list(fname):\n",
    "    output=[]\n",
    "    with gzip.open(fname, 'rb') as f:\n",
    "        for line in f:\n",
    "            output.append(json.loads(line))\n",
    "    return output"
   ]
  },
  {
   "cell_type": "code",
   "execution_count": 3,
   "metadata": {},
   "outputs": [
    {
     "output_type": "stream",
     "name": "stdout",
     "text": [
      "tiempo:  27.39821171760559\n"
     ]
    }
   ],
   "source": [
    "t_0 = time.time()\n",
    "rows = jl_to_list('./data/raw/train_dataset.jl.gz')\n",
    "print (\"tiempo: \", time.time() - t_0)"
   ]
  },
  {
   "cell_type": "code",
   "execution_count": 4,
   "metadata": {},
   "outputs": [
    {
     "output_type": "stream",
     "name": "stdout",
     "text": [
      "tiempo:  20.220482349395752\n"
     ]
    }
   ],
   "source": [
    "t_0 = time.time()\n",
    "item_data = jl_to_list('./data/raw/item_data.jl.gz')\n",
    "print (\"tiempo: \", time.time() - t_0)"
   ]
  },
  {
   "cell_type": "code",
   "execution_count": 5,
   "metadata": {},
   "outputs": [
    {
     "output_type": "stream",
     "name": "stdout",
     "text": [
      "tiempo:  12.461353778839111\n177070\n"
     ]
    }
   ],
   "source": [
    "t_0 = time.time()\n",
    "test_rows = jl_to_list('./data/raw/test_dataset.jl.gz')\n",
    "print (\"tiempo: \", time.time() - t_0)\n",
    "print(len(test_rows))"
   ]
  },
  {
   "cell_type": "code",
   "execution_count": 5,
   "metadata": {},
   "outputs": [
    {
     "output_type": "stream",
     "name": "stdout",
     "text": [
      "330530 82633\n"
     ]
    }
   ],
   "source": [
    "#samples = 100000\n",
    "#if samples:\n",
    "#    rows = rows[:samples]\n",
    "\n",
    "rows_train, rows_test =  train_test_split(rows, test_size=0.2, random_state=42)\n",
    "print(len(rows_train), len(rows_test))"
   ]
  },
  {
   "cell_type": "code",
   "execution_count": 6,
   "metadata": {},
   "outputs": [],
   "source": [
    "metadata = {x['item_id']:x for x in item_data}\n",
    "all_items = list(metadata.keys())"
   ]
  },
  {
   "cell_type": "code",
   "execution_count": 7,
   "metadata": {},
   "outputs": [],
   "source": [
    "#Creo lista de items por PAIS\n",
    "items_Brasil = [d for d in item_data if re.search('MLB.+', str(d['domain_id']))]\n",
    "items_Mexico = [d for d in item_data if re.search('MLM.+', str(d['domain_id']))]"
   ]
  },
  {
   "cell_type": "code",
   "execution_count": 8,
   "metadata": {},
   "outputs": [],
   "source": [
    "metadata_brasil = {x['item_id']:x for x in items_Brasil}\n",
    "metadata_mexico = {x['item_id']:x for x in items_Mexico}\n",
    "all_items_brasil = list(metadata_brasil.keys())\n",
    "all_items_mexico = list(metadata_mexico.keys())"
   ]
  },
  {
   "cell_type": "code",
   "execution_count": 18,
   "metadata": {},
   "outputs": [],
   "source": [
    "### Local Prediction ###\n",
    "def local_prediction(y_pred):\n",
    "    # Tomo del dataset de test cual es el que compro realmente, para computar el score de nuestro test.\n",
    "    y_true = [row['item_bought'] for row in rows_test]\n",
    "    print(len(y_true), len(y_pred))    \n",
    "    local_score = ndcg_score(y_true, y_pred, item_data,n_predictions=10)\n",
    "    print (f'El score local es: {local_score}')"
   ]
  },
  {
   "cell_type": "code",
   "execution_count": 17,
   "metadata": {},
   "outputs": [
    {
     "output_type": "display_data",
     "data": {
      "text/plain": "HBox(children=(FloatProgress(value=0.0, max=330530.0), HTML(value='')))",
      "application/vnd.jupyter.widget-view+json": {
       "version_major": 2,
       "version_minor": 0,
       "model_id": "e6d8dbc1f08445dfabac6e5ff6fde2d7"
      }
     },
     "metadata": {}
    },
    {
     "output_type": "stream",
     "name": "stdout",
     "text": [
      "\n"
     ]
    }
   ],
   "source": [
    "# Diccionario de diccionarios: Para cada dominio tiene un diccionario con items, y dice cuatas ventas  tuvo ese item de ese domino.\n",
    "ventas_x_dominio = defaultdict(lambda: defaultdict(int))\n",
    "\n",
    "for row in tqdm_notebook(rows_train):\n",
    "    viewed = [ev['event_info'] for ev in row['user_history'] if ev['event_type']=='view']\n",
    "    for item in viewed:\n",
    "        domain = metadata[item]['domain_id']\n",
    "        ventas_x_dominio[domain][item] += 1"
   ]
  },
  {
   "cell_type": "code",
   "execution_count": 18,
   "metadata": {},
   "outputs": [],
   "source": [
    "# Devuelve una lista con todos los dominios que visito un usuario y cuantas veces visito cada uno.\n",
    "def dominios_visitados(row, max_views=15):\n",
    "    domains = Counter()\n",
    "    viewed = [ev['event_info'] for ev in row['user_history'] if ev['event_type']=='view']\n",
    "    if len(viewed) > max_views:\n",
    "        viewed = viewed[:15]\n",
    "    for item in viewed:\n",
    "        domain = metadata[item]['domain_id']\n",
    "        domains[domain] +=1\n",
    "    return domains"
   ]
  },
  {
   "cell_type": "code",
   "execution_count": 19,
   "metadata": {},
   "outputs": [],
   "source": [
    "# Devuelve el pais del dominio mas visitado\n",
    "def dominios_pais(domain):\n",
    "    if re.search('MLB.+', str(domain)):\n",
    "        return \"Brasil\"\n",
    "    elif re.search('MLM.+', str(domain)):\n",
    "        return \"Mexico\"  "
   ]
  },
  {
   "cell_type": "code",
   "execution_count": 20,
   "metadata": {},
   "outputs": [
    {
     "output_type": "execute_result",
     "data": {
      "text/plain": [
       "'Mexico'"
      ]
     },
     "metadata": {},
     "execution_count": 20
    }
   ],
   "source": [
    "dominios_pais('MLM-EARRINGS')"
   ]
  },
  {
   "cell_type": "code",
   "execution_count": 21,
   "metadata": {},
   "outputs": [],
   "source": [
    "# Le paso un dominio, y devuelve cuales son los K items mas vendidos del dominio que le paso.\n",
    "def top_items(domain, k=10):\n",
    "    top = ventas_x_dominio[domain]\n",
    "    top = Counter(top)\n",
    "    top = top.most_common(k)\n",
    "    return [x[0] for x in top]"
   ]
  },
  {
   "cell_type": "code",
   "execution_count": 22,
   "metadata": {},
   "outputs": [
    {
     "output_type": "execute_result",
     "data": {
      "text/plain": [
       "[327390,\n",
       " 853217,\n",
       " 1227769,\n",
       " 437622,\n",
       " 1894243,\n",
       " 676375,\n",
       " 1142694,\n",
       " 550317,\n",
       " 193913,\n",
       " 1649032]"
      ]
     },
     "metadata": {},
     "execution_count": 22
    }
   ],
   "source": [
    "top_items('MLB-STYLUSES')"
   ]
  },
  {
   "cell_type": "code",
   "execution_count": 30,
   "metadata": {},
   "outputs": [],
   "source": [
    "## En vez de all_items tengo que pasar el del pais correspondiente\n",
    "def top_by_best_domain(row, k=10):\n",
    "    views = [ev['event_info'] for ev in row['user_history'] if ev['event_type']=='view']\n",
    "    if len(views) == 0:\n",
    "        return random.choices(all_items,  k=k)\n",
    "    domain = dominios_visitados(row)\n",
    "    domain = domain.most_common(1)[0][0]\n",
    "    domain_country = dominios_pais(domain)\n",
    "    #print(domain_country)\n",
    "    tItems = top_items(domain, k=k)\n",
    "    if len(tItems) < k:\n",
    "            filling = random.choices(all_items,  k=k-len(tItems))\n",
    "            tItemsWithFilling = tItems + filling\n",
    "            return tItemsWithFilling\n",
    "    return top_items(domain, k=k)"
   ]
  },
  {
   "cell_type": "code",
   "execution_count": 31,
   "metadata": {},
   "outputs": [
    {
     "output_type": "execute_result",
     "data": {
      "text/plain": [
       "[327390,\n",
       " 853217,\n",
       " 1227769,\n",
       " 437622,\n",
       " 1894243,\n",
       " 676375,\n",
       " 1142694,\n",
       " 550317,\n",
       " 193913,\n",
       " 1649032]"
      ]
     },
     "metadata": {},
     "execution_count": 31
    }
   ],
   "source": [
    "top_items('MLB-STYLUSES', k=10)"
   ]
  },
  {
   "cell_type": "code",
   "execution_count": null,
   "metadata": {},
   "outputs": [],
   "source": []
  },
  {
   "cell_type": "code",
   "execution_count": 32,
   "metadata": {},
   "outputs": [
    {
     "output_type": "execute_result",
     "data": {
      "text/plain": [
       "[144417,\n",
       " 1246365,\n",
       " 734383,\n",
       " 1178261,\n",
       " 828545,\n",
       " 1091806,\n",
       " 174220,\n",
       " 2091992,\n",
       " 722431,\n",
       " 1028116]"
      ]
     },
     "metadata": {},
     "execution_count": 32
    }
   ],
   "source": [
    "top_by_best_domain(rows_train[2], k=10)"
   ]
  },
  {
   "source": [
    "## Modelito 1: Ultimos Items Vistos con relleno de los items mas vendidos del mismo pais\n",
    "### a) Tomo los items que miro el usuario.\n",
    "### b) Selecciono los ultimos 10.\n",
    "### c) Si hay menos de 10, con los items mas vendidos del dominio mas visitado por el usuario\n",
    "### Score: 0.2334158892435007\n",
    "### El score local es: 0.23514438282397668\n",
    "### El score local es: 0.23525713095693013 (filling en top_by_best_domain)\n",
    "### Score: 0.23344948510371125"
   ],
   "cell_type": "markdown",
   "metadata": {}
  },
  {
   "cell_type": "code",
   "execution_count": 33,
   "metadata": {},
   "outputs": [],
   "source": [
    "def last_viewed_smart_filling(row, k=10):\n",
    "    viewed = [ev for ev in row['user_history'] if ev['event_type']=='view']\n",
    "    viewed = sorted(viewed, key=lambda x: x['event_timestamp'], reverse=True)\n",
    "    viewed = [ev['event_info'] for ev in viewed]\n",
    "    recom = []\n",
    "    \n",
    "    for item in viewed:\n",
    "        if item not in recom:\n",
    "            recom.append(item)\n",
    "    if len(recom) > 10:\n",
    "        return recom[:10]\n",
    "    if len(recom) == 10:\n",
    "        return recom\n",
    "    \n",
    "    k=10-len(recom)    \n",
    "    relleno = random.choices(top_by_best_domain(row), k=k)\n",
    "    #if len(relleno) < 10:\n",
    "     #   print(\"filling:\", k, \"| len final:\",len(recom + relleno))\n",
    "    return recom + relleno"
   ]
  },
  {
   "cell_type": "code",
   "execution_count": 34,
   "metadata": {
    "tags": []
   },
   "outputs": [
    {
     "output_type": "display_data",
     "data": {
      "text/plain": "HBox(children=(FloatProgress(value=0.0, max=177070.0), HTML(value='')))",
      "application/vnd.jupyter.widget-view+json": {
       "version_major": 2,
       "version_minor": 0,
       "model_id": "39d7cf9b644044c1b318634ababc8e54"
      }
     },
     "metadata": {}
    },
    {
     "output_type": "stream",
     "name": "stdout",
     "text": [
      "\n"
     ]
    }
   ],
   "source": [
    "y_pred_m1 = []\n",
    "# !!!\n",
    "#\"rows_test\" for local score and \"test_rows\" for remote\n",
    "for row in tqdm_notebook(test_rows):\n",
    "    recom = last_viewed_smart_filling(row)\n",
    "    y_pred_m1.append(recom)"
   ]
  },
  {
   "cell_type": "code",
   "execution_count": 35,
   "metadata": {},
   "outputs": [
    {
     "output_type": "stream",
     "name": "stdout",
     "text": [
      "0    0\n1    0\n2    0\n3    0\n4    0\n5    0\n6    0\n7    0\n8    0\n9    0\ndtype: int64\n"
     ]
    }
   ],
   "source": [
    "df_pred_m1 = pd.DataFrame(y_pred_m1)  \n",
    "df_pred_m1.to_csv(\"./submission/modelito1.1_submission.csv\", index=False, header=False)\n",
    "print(df_pred_m1.isnull().sum())"
   ]
  },
  {
   "cell_type": "code",
   "execution_count": 42,
   "metadata": {},
   "outputs": [
    {
     "output_type": "stream",
     "name": "stdout",
     "text": [
      "82633 82633\n",
      "El score local es: 0.2352399149614516\n"
     ]
    }
   ],
   "source": [
    "local_prediction(y_pred_m1)"
   ]
  },
  {
   "cell_type": "code",
   "execution_count": null,
   "metadata": {},
   "outputs": [],
   "source": []
  },
  {
   "source": [
    "## Modelito 2: Ultimos Items Vistos con relleno de los items mas vendidos de la \"categoria\" mas visitada por el usuario\n",
    "### Revisar el filling\n",
    "### Score: 0.23334950336442892\n",
    "### El score local es: 0.23511979632660793"
   ],
   "cell_type": "markdown",
   "metadata": {}
  },
  {
   "cell_type": "code",
   "execution_count": 7,
   "metadata": {},
   "outputs": [
    {
     "output_type": "display_data",
     "data": {
      "text/plain": "HBox(children=(FloatProgress(value=0.0, max=330530.0), HTML(value='')))",
      "application/vnd.jupyter.widget-view+json": {
       "version_major": 2,
       "version_minor": 0,
       "model_id": "856ad4d0414f475b8c4c136718ecaa6b"
      }
     },
     "metadata": {}
    },
    {
     "output_type": "stream",
     "name": "stdout",
     "text": [
      "\n"
     ]
    }
   ],
   "source": [
    "# Diccionario de diccionarios: Para cada Categoria tiene un diccionario con items, y dice cuatas ventas  tuvo ese item de ese Categoria\n",
    "ventas_x_categoria = defaultdict(lambda: defaultdict(int))\n",
    "\n",
    "for row in tqdm_notebook(rows_train):\n",
    "    viewed = [ev['event_info'] for ev in row['user_history'] if ev['event_type']=='view']\n",
    "    for item in viewed:\n",
    "        domain = metadata[item]['category_id']\n",
    "        ventas_x_categoria[domain][item] += 1"
   ]
  },
  {
   "cell_type": "code",
   "execution_count": 8,
   "metadata": {},
   "outputs": [],
   "source": [
    "# Devuelve una lista con todas las categories que visito un usuario y cuantas veces visito cada uno.\n",
    "def categorias_visitadas(row, max_views=15):\n",
    "    categories = Counter()\n",
    "    viewed = [ev['event_info'] for ev in row['user_history'] if ev['event_type']=='view']\n",
    "    if len(viewed) > max_views:\n",
    "        viewed = viewed[:15]\n",
    "    for item in viewed:\n",
    "        category = metadata[item]['category_id']\n",
    "        categories[category] +=1\n",
    "    return categories"
   ]
  },
  {
   "cell_type": "code",
   "execution_count": 9,
   "metadata": {},
   "outputs": [
    {
     "output_type": "execute_result",
     "data": {
      "text/plain": [
       "Counter({'MLB269588': 1, 'MLB264021': 7})"
      ]
     },
     "metadata": {},
     "execution_count": 9
    }
   ],
   "source": [
    "categorias_visitadas(rows[1])"
   ]
  },
  {
   "cell_type": "code",
   "execution_count": 10,
   "metadata": {},
   "outputs": [],
   "source": [
    "# Le paso una categoria, y devuelve cuales son los K items mas vendidos de la categoria que pase.\n",
    "def top_items_cat(category, k=10):\n",
    "    top = ventas_x_categoria[category]\n",
    "    top = Counter(top)\n",
    "    top = top.most_common(k)\n",
    "    return [x[0] for x in top]"
   ]
  },
  {
   "cell_type": "code",
   "execution_count": 11,
   "metadata": {},
   "outputs": [
    {
     "output_type": "execute_result",
     "data": {
      "text/plain": [
       "[1165777,\n",
       " 285756,\n",
       " 1639443,\n",
       " 1172716,\n",
       " 178545,\n",
       " 986486,\n",
       " 1468462,\n",
       " 1982437,\n",
       " 388651,\n",
       " 445732]"
      ]
     },
     "metadata": {},
     "execution_count": 11
    }
   ],
   "source": [
    "top_items_cat('MLB269588')"
   ]
  },
  {
   "cell_type": "code",
   "execution_count": 12,
   "metadata": {},
   "outputs": [],
   "source": [
    "def top_by_best_category(row, k=10):\n",
    "    views = [ev['event_info'] for ev in row['user_history'] if ev['event_type']=='view']\n",
    "    if len(views) == 0:\n",
    "        return random.choices(all_items,  k=k)\n",
    "    category = categorias_visitadas(row)\n",
    "    category = category.most_common(1)[0][0]\n",
    "    #print(len(top_items(domain, k=k)))\n",
    "    if len(top_items_cat(category, k=k)) < k:\n",
    "        return random.choices(all_items,  k=k)\n",
    "    return top_items_cat(category, k=k)"
   ]
  },
  {
   "cell_type": "code",
   "execution_count": 13,
   "metadata": {},
   "outputs": [],
   "source": [
    "def last_viewed_smart_filling_cat(row, k=10):\n",
    "    viewed = [ev for ev in row['user_history'] if ev['event_type']=='view']\n",
    "    viewed = sorted(viewed, key=lambda x: x['event_timestamp'], reverse=True)\n",
    "    viewed = [ev['event_info'] for ev in viewed]\n",
    "    recom = []\n",
    "    \n",
    "    for item in viewed:\n",
    "        if item not in recom:\n",
    "            recom.append(item)\n",
    "    if len(recom) > 10:\n",
    "        return recom[:10]\n",
    "    if len(recom) == 10:\n",
    "        return recom\n",
    "    \n",
    "    k=10-len(recom)    \n",
    "    relleno = random.choices(top_by_best_category(row), k=k)\n",
    "    #if len(relleno) < 10:\n",
    "     #   print(\"filling:\", k, \"| len final:\",len(recom + relleno))\n",
    "    return recom + relleno"
   ]
  },
  {
   "cell_type": "code",
   "execution_count": 14,
   "metadata": {},
   "outputs": [
    {
     "output_type": "execute_result",
     "data": {
      "text/plain": [
       "[228737,\n",
       " 1282813,\n",
       " 206667,\n",
       " 1943604,\n",
       " 1156086,\n",
       " 643652,\n",
       " 864577,\n",
       " 228737,\n",
       " 868817,\n",
       " 1341158]"
      ]
     },
     "metadata": {},
     "execution_count": 14
    }
   ],
   "source": [
    "last_viewed_smart_filling_cat(rows[1])"
   ]
  },
  {
   "cell_type": "code",
   "execution_count": 16,
   "metadata": {},
   "outputs": [
    {
     "output_type": "display_data",
     "data": {
      "text/plain": "HBox(children=(FloatProgress(value=0.0, max=82633.0), HTML(value='')))",
      "application/vnd.jupyter.widget-view+json": {
       "version_major": 2,
       "version_minor": 0,
       "model_id": "6a39d7b2d10042a9bbc770ac3a36d6f5"
      }
     },
     "metadata": {}
    },
    {
     "output_type": "stream",
     "name": "stdout",
     "text": [
      "\n"
     ]
    }
   ],
   "source": [
    "y_pred_m2 = []\n",
    "# !!!\n",
    "#\"rows_test\" for local score and \"test_rows\" for remote\n",
    "for row in tqdm_notebook(rows_test):\n",
    "    recom = last_viewed_smart_filling_cat(row)\n",
    "    y_pred_m2.append(recom)"
   ]
  },
  {
   "cell_type": "code",
   "execution_count": 19,
   "metadata": {},
   "outputs": [
    {
     "output_type": "stream",
     "name": "stdout",
     "text": [
      "82633 82633\n",
      "El score local es: 0.23511979632660793\n"
     ]
    }
   ],
   "source": [
    "local_prediction(y_pred_m2)"
   ]
  },
  {
   "cell_type": "code",
   "execution_count": null,
   "metadata": {},
   "outputs": [],
   "source": [
    "t_0 = time.time()\n",
    "df_pred_6 = pd.DataFrame(y_pred_6)  \n",
    "#df_pred_6.to_csv(\"./submission/ensablB3_submission.csv\", index=False, header=False)\n",
    "print (\"tiempo: \", time.time() - t_0)\n",
    "print(\"longitud: \",len(df_pred_6))\n",
    "print(\"\")\n",
    "print(\"Check de NAs\")\n",
    "print(df_pred_6.isnull().sum())"
   ]
  }
 ],
 "metadata": {
  "kernelspec": {
   "name": "python3",
   "display_name": "Python 3.7.5 64-bit ('base': conda)",
   "metadata": {
    "interpreter": {
     "hash": "9a37e5188a605e95d3282a4fb8007f4c3c52885d8cd12f2ffcfc398feaa7ff36"
    }
   }
  },
  "language_info": {
   "codemirror_mode": {
    "name": "ipython",
    "version": 3
   },
   "file_extension": ".py",
   "mimetype": "text/x-python",
   "name": "python",
   "nbconvert_exporter": "python",
   "pygments_lexer": "ipython3",
   "version": "3.7.5-final"
  }
 },
 "nbformat": 4,
 "nbformat_minor": 4
}