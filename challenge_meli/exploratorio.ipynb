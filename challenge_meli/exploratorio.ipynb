{
 "cells": [
  {
   "cell_type": "code",
   "execution_count": 1,
   "metadata": {},
   "outputs": [],
   "source": [
    "import pandas as pd\n",
    "import numpy as np\n",
    "import re\n",
    "import time, datetime\n",
    "import math\n",
    "import json\n",
    "import random\n",
    "import warnings, sys, os, gzip, gc\n",
    "from collections import Counter, defaultdict\n",
    "from sklearn import datasets\n",
    "from datetime import date, datetime\n",
    "from sklearn.model_selection import train_test_split\n",
    "from tqdm import tqdm, tqdm_notebook\n",
    "from pandas.io.json import json_normalize #package for flattening json in pandas df"
   ]
  },
  {
   "cell_type": "code",
   "execution_count": 2,
   "metadata": {},
   "outputs": [],
   "source": [
    "def jl_to_list(fname):\n",
    "    output=[]\n",
    "    with gzip.open(fname, 'rb') as f:\n",
    "        for line in f:\n",
    "            output.append(json.loads(line))\n",
    "    return output"
   ]
  },
  {
   "cell_type": "code",
   "execution_count": 3,
   "metadata": {},
   "outputs": [
    {
     "output_type": "stream",
     "name": "stdout",
     "text": [
      "tiempo:  30.443601846694946\n"
     ]
    }
   ],
   "source": [
    "t_0 = time.time()\n",
    "rows = jl_to_list('./data/raw/train_dataset.jl.gz')\n",
    "print (\"tiempo: \", time.time() - t_0)"
   ]
  },
  {
   "cell_type": "code",
   "execution_count": 4,
   "metadata": {},
   "outputs": [
    {
     "output_type": "stream",
     "name": "stdout",
     "text": [
      "tiempo:  24.33327889442444\n"
     ]
    }
   ],
   "source": [
    "t_0 = time.time()\n",
    "item_data = jl_to_list('./data/raw/item_data.jl.gz')\n",
    "print (\"tiempo: \", time.time() - t_0)"
   ]
  },
  {
   "cell_type": "code",
   "execution_count": 5,
   "metadata": {},
   "outputs": [],
   "source": [
    "t_0 = time.time()\n",
    "test_rows = jl_to_list('./data/raw/test_dataset.jl.gz')\n",
    "print (\"tiempo: \", time.time() - t_0)\n",
    "print(len(test_rows))"
   ]
  },
  {
   "cell_type": "code",
   "execution_count": 12,
   "metadata": {},
   "outputs": [
    {
     "output_type": "stream",
     "name": "stdout",
     "text": [
      "8000 2000\n"
     ]
    }
   ],
   "source": [
    "samples = 10000\n",
    "if samples:\n",
    "    rows = rows[:samples]\n",
    "rows_train, rows_test =  train_test_split(rows, test_size=0.2, random_state=42)\n",
    "print(len(rows_train), len(rows_test))"
   ]
  },
  {
   "source": [
    "## Analisis Exploratorio"
   ],
   "cell_type": "markdown",
   "metadata": {}
  },
  {
   "cell_type": "code",
   "execution_count": 5,
   "metadata": {},
   "outputs": [],
   "source": [
    "metadata = {x['item_id']:x for x in item_data}\n",
    "all_items = list(metadata.keys())"
   ]
  },
  {
   "cell_type": "code",
   "execution_count": 6,
   "metadata": {},
   "outputs": [],
   "source": [
    "metadata_bought = {x['item_bought']:x for x in rows}\n",
    "all_bought = list(metadata_bought.keys())\n",
    "# Por lo que revise no hay dos compras del mismo producto."
   ]
  },
  {
   "cell_type": "code",
   "execution_count": 7,
   "metadata": {},
   "outputs": [
    {
     "output_type": "execute_result",
     "data": {
      "text/plain": [
       "{'item_id': 871377,\n",
       " 'title': 'Resident Evil Origins Collection Nintendo Switch (en D3gamer',\n",
       " 'domain_id': 'MLM-VIDEO_GAMES',\n",
       " 'product_id': '15270800',\n",
       " 'price': '1392.83',\n",
       " 'category_id': 'MLM151595',\n",
       " 'condition': 'new'}"
      ]
     },
     "metadata": {},
     "execution_count": 7
    }
   ],
   "source": [
    "item_data[1]"
   ]
  },
  {
   "cell_type": "code",
   "execution_count": 7,
   "metadata": {},
   "outputs": [
    {
     "output_type": "stream",
     "name": "stdout",
     "text": [
      "64928\n2102277\n"
     ]
    }
   ],
   "source": [
    "print(len(all_bought))\n",
    "print(len(all_items))"
   ]
  },
  {
   "cell_type": "code",
   "execution_count": 8,
   "metadata": {},
   "outputs": [],
   "source": [
    "domains = {x['domain_id']:x for x in item_data}\n",
    "categories = {x['category_id']:x for x in item_data}\n",
    "all_domains = list(domains.keys())\n",
    "all_categories = list(categories.keys())"
   ]
  },
  {
   "cell_type": "code",
   "execution_count": 9,
   "metadata": {},
   "outputs": [
    {
     "output_type": "stream",
     "name": "stdout",
     "text": [
      "7894\n11493\n"
     ]
    }
   ],
   "source": [
    "print(len(all_domains))\n",
    "print(len(all_categories))"
   ]
  },
  {
   "cell_type": "code",
   "execution_count": 11,
   "metadata": {},
   "outputs": [],
   "source": [
    "# Funcion que devuelve si un usuario compro un articulo de entre los que vio con anterioridad\n",
    "def see_and_bought(row):\n",
    "    viewed = [ev for ev in row['user_history'] if ev['event_type']=='view']\n",
    "    viewed = sorted(viewed, key=lambda x: x['event_timestamp'], reverse=True)\n",
    "    viewed = [ev['event_info'] for ev in viewed]\n",
    "    bought = row['item_bought']\n",
    "    boolean = bought in viewed\n",
    "    return boolean"
   ]
  },
  {
   "cell_type": "code",
   "execution_count": 12,
   "metadata": {},
   "outputs": [
    {
     "output_type": "execute_result",
     "data": {
      "text/plain": [
       "True"
      ]
     },
     "metadata": {},
     "execution_count": 12
    }
   ],
   "source": [
    "see_and_bought(rows[1])"
   ]
  },
  {
   "cell_type": "code",
   "execution_count": 13,
   "metadata": {},
   "outputs": [
    {
     "output_type": "display_data",
     "data": {
      "text/plain": "HBox(children=(FloatProgress(value=0.0, max=413163.0), HTML(value='')))",
      "application/vnd.jupyter.widget-view+json": {
       "version_major": 2,
       "version_minor": 0,
       "model_id": "e701fbd456e84d84b2a1e88d7df339f5"
      }
     },
     "metadata": {}
    },
    {
     "output_type": "stream",
     "name": "stdout",
     "text": [
      "\nTotales:  413163\nCompro de entre las que vio:  121422\n29.39 %\n"
     ]
    }
   ],
   "source": [
    "count = 0\n",
    "for row in tqdm_notebook(rows):    \n",
    "    if see_and_bought(row) == True:\n",
    "        count +=1\n",
    "print(\"Totales: \",len(rows))\n",
    "print(\"Compro de entre las que vio: \",count)\n",
    "print(np.around(count*100/len(rows), 2),\"%\")"
   ]
  },
  {
   "cell_type": "code",
   "execution_count": 14,
   "metadata": {},
   "outputs": [],
   "source": [
    "# Devuelve una lista con todos los dominios que visito un usuario.\n",
    "def visited_domains(row):\n",
    "    domains_set = set()\n",
    "    viewed = [ev['event_info'] for ev in row['user_history'] if ev['event_type']=='view']\n",
    "    for item in viewed:\n",
    "        domain = metadata[item]['domain_id']\n",
    "        domains_set.add(domain)\n",
    "    return list(domains_set)"
   ]
  },
  {
   "cell_type": "code",
   "execution_count": 15,
   "metadata": {},
   "outputs": [
    {
     "output_type": "execute_result",
     "data": {
      "text/plain": [
       "['MLB-SHOWER_HEADS', 'MLB-MILK_EXTRACTORS']"
      ]
     },
     "metadata": {},
     "execution_count": 15
    }
   ],
   "source": [
    "visited_domains(rows[1])"
   ]
  },
  {
   "cell_type": "code",
   "execution_count": 16,
   "metadata": {},
   "outputs": [
    {
     "output_type": "execute_result",
     "data": {
      "text/plain": [
       "True"
      ]
     },
     "metadata": {},
     "execution_count": 16
    }
   ],
   "source": [
    "metadata[228737]['domain_id'] in visited_domains(rows[1])"
   ]
  },
  {
   "cell_type": "code",
   "execution_count": 17,
   "metadata": {},
   "outputs": [],
   "source": [
    "# Funcion que devuelve si un usuario compro un articulo de los dominios que vio con anterioridad\n",
    "def same_domain(row):\n",
    "    viewed = [ev for ev in row['user_history'] if ev['event_type']=='view']\n",
    "    viewed = sorted(viewed, key=lambda x: x['event_timestamp'], reverse=True)\n",
    "    viewed = [ev['event_info'] for ev in viewed]\n",
    "    domain_bought = metadata[row['item_bought']]['domain_id']\n",
    "    boolean = domain_bought in visited_domains(row)\n",
    "    return boolean"
   ]
  },
  {
   "cell_type": "code",
   "execution_count": 18,
   "metadata": {},
   "outputs": [
    {
     "output_type": "execute_result",
     "data": {
      "text/plain": [
       "True"
      ]
     },
     "metadata": {},
     "execution_count": 18
    }
   ],
   "source": [
    "same_domain(rows[0])"
   ]
  },
  {
   "cell_type": "code",
   "execution_count": 19,
   "metadata": {},
   "outputs": [
    {
     "output_type": "display_data",
     "data": {
      "text/plain": "HBox(children=(FloatProgress(value=0.0, max=413163.0), HTML(value='')))",
      "application/vnd.jupyter.widget-view+json": {
       "version_major": 2,
       "version_minor": 0,
       "model_id": "1c677955703f471fa3741ad7bda24642"
      }
     },
     "metadata": {}
    },
    {
     "output_type": "stream",
     "name": "stdout",
     "text": [
      "\nTotales:  413163\nCompro en el mismo domio:  203857\n49.34 %\n"
     ]
    }
   ],
   "source": [
    "count = 0\n",
    "for row in tqdm_notebook(rows):    \n",
    "    if same_domain(row) == True:\n",
    "        count +=1\n",
    "print(\"Totales: \",len(rows))\n",
    "print(\"Compro en el mismo domio: \",count)\n",
    "print(np.around(count*100/len(rows), 2),\"%\")"
   ]
  },
  {
   "source": [
    "## Revisar Views vs Search"
   ],
   "cell_type": "markdown",
   "metadata": {}
  },
  {
   "cell_type": "code",
   "execution_count": 20,
   "metadata": {},
   "outputs": [
    {
     "output_type": "execute_result",
     "data": {
      "text/plain": [
       "'MLM-VIDEO_GAMES'"
      ]
     },
     "metadata": {},
     "execution_count": 20
    }
   ],
   "source": [
    "all_domains[1]"
   ]
  },
  {
   "cell_type": "code",
   "execution_count": 21,
   "metadata": {},
   "outputs": [
    {
     "output_type": "execute_result",
     "data": {
      "text/plain": [
       "1"
      ]
     },
     "metadata": {},
     "execution_count": 21
    }
   ],
   "source": [
    "all_domains.count('MLM-VIDEO_GAMES')"
   ]
  },
  {
   "cell_type": "code",
   "execution_count": 23,
   "metadata": {},
   "outputs": [
    {
     "output_type": "stream",
     "name": "stdout",
     "text": [
      "7894\n1 3688 4205\n"
     ]
    }
   ],
   "source": [
    "# Cuantos dominios de cada pais hay\n",
    "count_Mexico = 0\n",
    "count_Brasil = 0\n",
    "count_none = 0\n",
    "for domain in all_domains:\n",
    "    if re.search('MLM.+', str(domain)):   \n",
    "        count_Mexico +=1\n",
    "    elif re.search('MLB.+', str(domain)):   \n",
    "        count_Brasil +=1\n",
    "    else:\n",
    "        count_none +=1\n",
    "print(len(all_domains))        \n",
    "print(count_none, count_Mexico, count_Brasil) "
   ]
  },
  {
   "cell_type": "code",
   "execution_count": 24,
   "metadata": {},
   "outputs": [
    {
     "output_type": "execute_result",
     "data": {
      "text/plain": [
       "{'item_id': 4,\n",
       " 'title': 'Ps4 Playstation 4 Slim 500gb Em Campinas Sp Com Nota Fiscal',\n",
       " 'domain_id': 'MLB-GAME_CONSOLES',\n",
       " 'product_id': '10813731',\n",
       " 'price': '2349.00',\n",
       " 'category_id': 'MLB11172',\n",
       " 'condition': 'new'}"
      ]
     },
     "metadata": {},
     "execution_count": 24
    }
   ],
   "source": [
    "metadata[4]"
   ]
  },
  {
   "cell_type": "code",
   "execution_count": 25,
   "metadata": {
    "tags": []
   },
   "outputs": [
    {
     "output_type": "execute_result",
     "data": {
      "text/plain": [
       "{'key': {'item_id': 2010306,\n",
       "  'title': 'Kit Turbo Turbina Virtual Simulador Som Apito Carro E Moto',\n",
       "  'domain_id': 'MLB-VEHICLE_ACCESSORIES',\n",
       "  'product_id': None,\n",
       "  'price': '64.99',\n",
       "  'category_id': 'MLB117639',\n",
       "  'condition': 'new'}}"
      ]
     },
     "metadata": {},
     "execution_count": 25
    }
   ],
   "source": [
    "# Creo una lista de items por pais (Mexico y Brasil)\n",
    "brasil = dict()\n",
    "brasil_list = []\n",
    "for key, value in metadata.items():\n",
    "    #print(key, ':', value)\n",
    "    if re.search('MLB.+', str(value)):  \n",
    "        brasil['key']=value\n",
    "        brasil_list.append(brasil)\n",
    "\n",
    "brasil"
   ]
  },
  {
   "cell_type": "code",
   "execution_count": 26,
   "metadata": {},
   "outputs": [
    {
     "output_type": "execute_result",
     "data": {
      "text/plain": [
       "{'item_id': 934912,\n",
       " 'title': 'Laptop Hp Nx6320 Core Duo Con Puerto Db9 Windows 7',\n",
       " 'domain_id': 'MLM-NOTEBOOKS',\n",
       " 'product_id': None,\n",
       " 'price': '1599.00',\n",
       " 'category_id': 'MLM1652',\n",
       " 'condition': 'used'}"
      ]
     },
     "metadata": {},
     "execution_count": 26
    }
   ],
   "source": [
    "item_data[4]"
   ]
  },
  {
   "cell_type": "code",
   "execution_count": 27,
   "metadata": {},
   "outputs": [],
   "source": [
    "# Funcion que revisa si una row tiene un search\n",
    "def view_search(row):\n",
    "    searched = [ev for ev in row['user_history'] if ev['event_type']=='search']\n",
    "    return searched"
   ]
  },
  {
   "cell_type": "code",
   "execution_count": 28,
   "metadata": {},
   "outputs": [
    {
     "output_type": "display_data",
     "data": {
      "text/plain": "HBox(children=(FloatProgress(value=0.0, max=413163.0), HTML(value='')))",
      "application/vnd.jupyter.widget-view+json": {
       "version_major": 2,
       "version_minor": 0,
       "model_id": "6393cde54da948de8e015263670b94cb"
      }
     },
     "metadata": {}
    },
    {
     "output_type": "stream",
     "name": "stdout",
     "text": [
      "\nTotales:  413163\nFilas con Search:  340636\n82.45 %\n"
     ]
    }
   ],
   "source": [
    "count = 0\n",
    "for row in tqdm_notebook(rows):    \n",
    "    if view_search(row):\n",
    "        count +=1\n",
    "print(\"Totales: \",len(rows))\n",
    "print(\"Filas con Search: \",count)\n",
    "print(np.around(count*100/len(rows), 2),\"%\")"
   ]
  },
  {
   "cell_type": "code",
   "execution_count": 22,
   "metadata": {},
   "outputs": [],
   "source": [
    "#rows[1]['user_history']\n",
    "# DESMAMADEIRA ELETRICA"
   ]
  },
  {
   "cell_type": "code",
   "execution_count": 29,
   "metadata": {},
   "outputs": [
    {
     "output_type": "execute_result",
     "data": {
      "text/plain": [
       "'casa sola en venta con gran patio solo pago de contado.'"
      ]
     },
     "metadata": {},
     "execution_count": 29
    }
   ],
   "source": [
    "metadata[111260]['title'].lower()"
   ]
  },
  {
   "cell_type": "code",
   "execution_count": 30,
   "metadata": {},
   "outputs": [
    {
     "output_type": "execute_result",
     "data": {
      "text/plain": [
       "False"
      ]
     },
     "metadata": {},
     "execution_count": 30
    }
   ],
   "source": [
    "'DESMAMADEIRA ELETRICA' in metadata[111260]['title']"
   ]
  },
  {
   "cell_type": "code",
   "execution_count": 32,
   "metadata": {
    "tags": []
   },
   "outputs": [
    {
     "output_type": "execute_result",
     "data": {
      "text/plain": [
       "''"
      ]
     },
     "metadata": {},
     "execution_count": 32
    }
   ],
   "source": [
    "exampl = 'DESMAMADEIRA ELETRICA'\n",
    "boolean = False\n",
    "find = ''\n",
    "for item in all_items:\n",
    "    if(exampl.lower() in metadata[item]['title']):\n",
    "        find =  metadata[item]['title']\n",
    "        boolean = True\n",
    "boolean   \n",
    "find \n",
    "    "
   ]
  },
  {
   "cell_type": "code",
   "execution_count": 33,
   "metadata": {},
   "outputs": [
    {
     "output_type": "execute_result",
     "data": {
      "text/plain": [
       "'MLB-BOOTS_AND_BOOTIES'"
      ]
     },
     "metadata": {},
     "execution_count": 33
    }
   ],
   "source": [
    "metadata[1]['domain_id']"
   ]
  },
  {
   "source": [
    "### Busquedas dentro del mismo Pais"
   ],
   "cell_type": "markdown",
   "metadata": {}
  },
  {
   "cell_type": "code",
   "execution_count": 34,
   "metadata": {},
   "outputs": [],
   "source": [
    "#Creo lista de items por PAIS\n",
    "items_Brasil = [d for d in item_data if re.search('MLB.+', str(d['domain_id']))]\n",
    "items_Mexico = [d for d in item_data if re.search('MLM.+', str(d['domain_id']))]"
   ]
  },
  {
   "cell_type": "code",
   "execution_count": 35,
   "metadata": {},
   "outputs": [],
   "source": [
    "metadata_brasil = {x['item_id']:x for x in items_Brasil}\n",
    "metadata_mexico = {x['item_id']:x for x in items_Mexico}\n",
    "all_items_brasil = list(metadata_brasil.keys())\n",
    "all_items_mexico = list(metadata_mexico.keys())"
   ]
  },
  {
   "cell_type": "code",
   "execution_count": 36,
   "metadata": {},
   "outputs": [
    {
     "output_type": "stream",
     "name": "stdout",
     "text": [
      "1723216 378210\n"
     ]
    }
   ],
   "source": [
    "print(len(all_items_brasil), len(all_items_mexico))"
   ]
  },
  {
   "source": [
    "## Historial de Navegacion"
   ],
   "cell_type": "markdown",
   "metadata": {}
  },
  {
   "cell_type": "code",
   "execution_count": 37,
   "metadata": {},
   "outputs": [
    {
     "output_type": "execute_result",
     "data": {
      "text/plain": [
       "13"
      ]
     },
     "metadata": {},
     "execution_count": 37
    }
   ],
   "source": [
    "len(rows[1]['user_history'])"
   ]
  },
  {
   "cell_type": "code",
   "execution_count": 40,
   "metadata": {},
   "outputs": [
    {
     "output_type": "display_data",
     "data": {
      "text/plain": "HBox(children=(FloatProgress(value=0.0, max=413163.0), HTML(value='')))",
      "application/vnd.jupyter.widget-view+json": {
       "version_major": 2,
       "version_minor": 0,
       "model_id": "cc90548dc41e4862bfdd19a3262de59b"
      }
     },
     "metadata": {}
    },
    {
     "output_type": "stream",
     "name": "stdout",
     "text": [
      "\nTotales: 413163\nMen 10:  154207  -  37.32 %\nMen 10 & search:  93596  -  22.65 %\n"
     ]
    }
   ],
   "source": [
    "count_men = 0\n",
    "count_men_search = 0\n",
    "for row in tqdm_notebook(rows):\n",
    "   lenRow = len(row['user_history'])\n",
    "   if (lenRow < 10):\n",
    "       count_men+=1\n",
    "       if(view_search(row)):\n",
    "           count_men_search+=1\n",
    "\n",
    "print('Totales:', len(rows) )\n",
    "print('Men 10: ', count_men,' - ', np.around(count_men*100/len(rows), 2),\"%\")\n",
    "print('Men 10 & search: ',count_men_search,' - ', np.around(count_men_search*100/len(rows), 2),\"%\")"
   ]
  },
  {
   "cell_type": "code",
   "execution_count": 41,
   "metadata": {},
   "outputs": [
    {
     "output_type": "execute_result",
     "data": {
      "text/plain": [
       "{'user_history': [{'event_info': 'TAMPA TRASEIRA IPHONE8',\n",
       "   'event_timestamp': '2019-10-16T13:19:43.349-0400',\n",
       "   'event_type': 'search'},\n",
       "  {'event_info': 2029385,\n",
       "   'event_timestamp': '2019-10-16T13:19:47.561-0400',\n",
       "   'event_type': 'view'},\n",
       "  {'event_info': 'TAMPA TRASEIRA IPHONE8',\n",
       "   'event_timestamp': '2019-10-16T13:20:01.542-0400',\n",
       "   'event_type': 'search'},\n",
       "  {'event_info': 794504,\n",
       "   'event_timestamp': '2019-10-16T13:20:48.524-0400',\n",
       "   'event_type': 'view'},\n",
       "  {'event_info': 'CAMBIO C4 PALLAS',\n",
       "   'event_timestamp': '2019-10-18T09:59:12.467-0400',\n",
       "   'event_type': 'search'},\n",
       "  {'event_info': 1135701,\n",
       "   'event_timestamp': '2019-10-18T09:59:18.962-0400',\n",
       "   'event_type': 'view'},\n",
       "  {'event_info': 'CAMBIO C4 PALLAS',\n",
       "   'event_timestamp': '2019-10-18T10:12:27.052-0400',\n",
       "   'event_type': 'search'},\n",
       "  {'event_info': 1135701,\n",
       "   'event_timestamp': '2019-10-18T10:12:30.186-0400',\n",
       "   'event_type': 'view'}],\n",
       " 'item_bought': 1046119}"
      ]
     },
     "metadata": {},
     "execution_count": 41
    }
   ],
   "source": [
    "rows[5]"
   ]
  },
  {
   "cell_type": "code",
   "execution_count": 42,
   "metadata": {},
   "outputs": [
    {
     "output_type": "execute_result",
     "data": {
      "text/plain": [
       "[{'item_id': 1135701,\n",
       "  'title': 'Cambio Automatico C4 Pallas Automáticos Mooca Com Garantia',\n",
       "  'domain_id': 'MLB-CAR_GEARBOXES',\n",
       "  'product_id': None,\n",
       "  'price': '4499.00',\n",
       "  'category_id': 'MLB194806',\n",
       "  'condition': 'new'}]"
      ]
     },
     "metadata": {},
     "execution_count": 42
    }
   ],
   "source": [
    "[d for d in item_data if d['item_id']==1135701] "
   ]
  },
  {
   "cell_type": "code",
   "execution_count": 43,
   "metadata": {},
   "outputs": [
    {
     "output_type": "execute_result",
     "data": {
      "text/plain": [
       "[{'item_id': 1046119,\n",
       "  'title': 'Placa Conector Carga Micro Usb Moto G5 Xt1672 Flex ',\n",
       "  'domain_id': 'MLB-CELLPHONES_AND_TELEPHONY',\n",
       "  'product_id': None,\n",
       "  'price': '13.90',\n",
       "  'category_id': 'MLB1915',\n",
       "  'condition': 'new'}]"
      ]
     },
     "metadata": {},
     "execution_count": 43
    }
   ],
   "source": [
    "#item_data[1]['item_id']==871377\n",
    "[d for d in item_data if d['item_id']==1046119]   "
   ]
  },
  {
   "source": [
    "## TimeStamp\n",
    "#### https://docs.python.org/2/library/datetime.html#strftime-strptime-behavior"
   ],
   "cell_type": "markdown",
   "metadata": {}
  },
  {
   "cell_type": "code",
   "execution_count": 44,
   "metadata": {},
   "outputs": [
    {
     "output_type": "execute_result",
     "data": {
      "text/plain": [
       "['2019-10-06T18:02:53.893-0400',\n",
       " '2019-10-07T09:45:29.322-0400',\n",
       " '2019-10-07T09:46:07.960-0400',\n",
       " '2019-10-07T09:46:17.100-0400',\n",
       " '2019-10-07T09:46:19.173-0400',\n",
       " '2019-10-07T09:47:53.958-0400',\n",
       " '2019-10-07T18:53:20.113-0400',\n",
       " '2019-10-07T18:53:26.670-0400',\n",
       " '2019-10-07T18:54:36.944-0400',\n",
       " '2019-10-07T18:54:50.998-0400',\n",
       " '2019-10-07T18:56:43.678-0400',\n",
       " '2019-10-07T19:01:44.718-0400',\n",
       " '2019-10-07T19:46:18.382-0400']"
      ]
     },
     "metadata": {},
     "execution_count": 44
    }
   ],
   "source": [
    "#[ev['event_timestamp'] for ev in rows[1]['user_history'] if ev['event_type']=='view']\n",
    "[ev['event_timestamp'] for ev in rows[1]['user_history']]"
   ]
  },
  {
   "cell_type": "code",
   "execution_count": 45,
   "metadata": {},
   "outputs": [
    {
     "output_type": "execute_result",
     "data": {
      "text/plain": [
       "9.973333333333333"
      ]
     },
     "metadata": {},
     "execution_count": 45
    }
   ],
   "source": [
    "ts_1= datetime.strptime('2019-10-07T19:46:18.382-0400', '%Y-%m-%dT%H:%M:%S.%f%z')\n",
    "ts_2= datetime.strptime('2019-10-07T09:47:53.958-0400', '%Y-%m-%dT%H:%M:%S.%f%z')\n",
    "diff = ts_1 - ts_2\n",
    "diff.seconds/3600"
   ]
  },
  {
   "cell_type": "code",
   "execution_count": 46,
   "metadata": {},
   "outputs": [
    {
     "output_type": "display_data",
     "data": {
      "text/plain": "HBox(children=(FloatProgress(value=0.0, max=413163.0), HTML(value='')))",
      "application/vnd.jupyter.widget-view+json": {
       "version_major": 2,
       "version_minor": 0,
       "model_id": "c73e30ba6b4c493191455c62c30b23fe"
      }
     },
     "metadata": {}
    },
    {
     "output_type": "stream",
     "name": "stdout",
     "text": [
      "\nTotales: 413163\nMen 10:  154207\nMen 10 & search:  93596\n"
     ]
    }
   ],
   "source": [
    "count_men = 0\n",
    "count_men_search = 0\n",
    "for row in tqdm_notebook(rows):\n",
    "   lenRow = len(row['user_history'])\n",
    "   if (lenRow < 10):\n",
    "       count_men+=1\n",
    "       if(view_search(row)):\n",
    "           count_men_search+=1\n",
    "\n",
    "print('Totales:', len(rows) )\n",
    "print('Men 10: ', count_men)\n",
    "print('Men 10 & search: ',count_men_search)"
   ]
  },
  {
   "source": [
    "## Lista de dominios"
   ],
   "cell_type": "markdown",
   "metadata": {}
  },
  {
   "cell_type": "code",
   "execution_count": 10,
   "metadata": {},
   "outputs": [],
   "source": [
    "# Devuelve una lista con todos los dominios que visito un usuario y cuantas veces visito cada uno.\n",
    "def dominios_visitados(row, max_views=15):\n",
    "    domains = Counter()\n",
    "    viewed = [ev['event_info'] for ev in row['user_history'] if ev['event_type']=='view']\n",
    "    if len(viewed) > max_views:\n",
    "        viewed = viewed[:15]\n",
    "    for item in viewed:\n",
    "        domain = metadata[item]['domain_id']\n",
    "        domains[domain] +=1\n",
    "    #sorted(viewed, key=lambda x: x['event_timestamp'], reverse=True)    \n",
    "    return domains"
   ]
  },
  {
   "cell_type": "code",
   "execution_count": 13,
   "metadata": {},
   "outputs": [
    {
     "output_type": "execute_result",
     "data": {
      "text/plain": [
       "[('MLB-RIVETS', 8),\n",
       " ('MLB-RIVET_GUNS', 3),\n",
       " ('MLB-ELECTRONIC_ACCESSORIES_AND_SPARE_PARTS', 1),\n",
       " ('MLB-HOME_APPLIANCE_CONTACTORS_AND_RELAYS', 1),\n",
       " ('MLB-DRILL_BITS', 1)]"
      ]
     },
     "metadata": {},
     "execution_count": 13
    }
   ],
   "source": [
    "dominios_visitados(rows_train[1]).most_common()"
   ]
  },
  {
   "cell_type": "code",
   "execution_count": 14,
   "metadata": {},
   "outputs": [
    {
     "output_type": "execute_result",
     "data": {
      "text/plain": [
       "'MLB-RIVETS'"
      ]
     },
     "metadata": {},
     "execution_count": 14
    }
   ],
   "source": [
    "dominios_visitados(rows_train[1]).most_common(1)[0][0]"
   ]
  },
  {
   "cell_type": "code",
   "execution_count": 15,
   "metadata": {},
   "outputs": [
    {
     "output_type": "execute_result",
     "data": {
      "text/plain": [
       "'MLB-CELLPHONES'"
      ]
     },
     "metadata": {},
     "execution_count": 15
    }
   ],
   "source": [
    "item= rows_train[1]['item_bought']\n",
    "domain_bought = metadata[item]['domain_id']\n",
    "domain_bought"
   ]
  },
  {
   "cell_type": "code",
   "execution_count": 16,
   "metadata": {},
   "outputs": [
    {
     "output_type": "execute_result",
     "data": {
      "text/plain": [
       "                                            0  1\n",
       "0                                  MLB-RIVETS  8\n",
       "1                              MLB-RIVET_GUNS  3\n",
       "2  MLB-ELECTRONIC_ACCESSORIES_AND_SPARE_PARTS  1\n",
       "3    MLB-HOME_APPLIANCE_CONTACTORS_AND_RELAYS  1\n",
       "4                              MLB-DRILL_BITS  1"
      ],
      "text/html": "<div>\n<style scoped>\n    .dataframe tbody tr th:only-of-type {\n        vertical-align: middle;\n    }\n\n    .dataframe tbody tr th {\n        vertical-align: top;\n    }\n\n    .dataframe thead th {\n        text-align: right;\n    }\n</style>\n<table border=\"1\" class=\"dataframe\">\n  <thead>\n    <tr style=\"text-align: right;\">\n      <th></th>\n      <th>0</th>\n      <th>1</th>\n    </tr>\n  </thead>\n  <tbody>\n    <tr>\n      <th>0</th>\n      <td>MLB-RIVETS</td>\n      <td>8</td>\n    </tr>\n    <tr>\n      <th>1</th>\n      <td>MLB-RIVET_GUNS</td>\n      <td>3</td>\n    </tr>\n    <tr>\n      <th>2</th>\n      <td>MLB-ELECTRONIC_ACCESSORIES_AND_SPARE_PARTS</td>\n      <td>1</td>\n    </tr>\n    <tr>\n      <th>3</th>\n      <td>MLB-HOME_APPLIANCE_CONTACTORS_AND_RELAYS</td>\n      <td>1</td>\n    </tr>\n    <tr>\n      <th>4</th>\n      <td>MLB-DRILL_BITS</td>\n      <td>1</td>\n    </tr>\n  </tbody>\n</table>\n</div>"
     },
     "metadata": {},
     "execution_count": 16
    }
   ],
   "source": [
    "df = pd.DataFrame(dominios_visitados(rows_train[1]).most_common()) \n",
    "df "
   ]
  },
  {
   "cell_type": "code",
   "execution_count": 55,
   "metadata": {},
   "outputs": [
    {
     "output_type": "execute_result",
     "data": {
      "text/plain": [
       "        MLM-INDIVIDUAL_HOUSES_FOR_SALE  MLM-VIDEO_GAMES  MLM-SKIRTS  \\\n",
       "Domain  MLM-INDIVIDUAL_HOUSES_FOR_SALE  MLM-VIDEO_GAMES  MLM-SKIRTS   \n",
       "count                                0                0           0   \n",
       "\n",
       "        MLM-GRAPHICS_CARDS  MLM-NOTEBOOKS  MLM-VEHICLE_ACCESSORIES  \\\n",
       "Domain  MLM-GRAPHICS_CARDS  MLM-NOTEBOOKS  MLM-VEHICLE_ACCESSORIES   \n",
       "count                    0              0                        0   \n",
       "\n",
       "        MLM-CELLPHONE_COVERS  MLM-WALL_AND_CEILING_LIGHTS  MLM-NAPKIN_HOLDERS  \\\n",
       "Domain  MLM-CELLPHONE_COVERS  MLM-WALL_AND_CEILING_LIGHTS  MLM-NAPKIN_HOLDERS   \n",
       "count                      0                            0                   0   \n",
       "\n",
       "        MLM-FLATS  ...  MLB-SKATE_BOOT_COVERS  MLB-ADVERTISING_INFLATABLES  \\\n",
       "Domain  MLM-FLATS  ...  MLB-SKATE_BOOT_COVERS  MLB-ADVERTISING_INFLATABLES   \n",
       "count           0  ...                      0                            0   \n",
       "\n",
       "        MLB-PRESSURE_TANKS  MLB-PRINTER_CLEANING_KITS  \\\n",
       "Domain  MLB-PRESSURE_TANKS  MLB-PRINTER_CLEANING_KITS   \n",
       "count                    0                          0   \n",
       "\n",
       "        MLB-ELECTRIC_CREAM_SEPARATORS  MLB-BURETTES  MLB-GLASS_SAFETY_FILMS  \\\n",
       "Domain  MLB-ELECTRIC_CREAM_SEPARATORS  MLB-BURETTES  MLB-GLASS_SAFETY_FILMS   \n",
       "count                               0             0                       0   \n",
       "\n",
       "        MLB-SCREEN_PRINTING_KITS  MLB-ANTIQUE_AUDIO_ANTENNAS  \\\n",
       "Domain  MLB-SCREEN_PRINTING_KITS  MLB-ANTIQUE_AUDIO_ANTENNAS   \n",
       "count                          0                           0   \n",
       "\n",
       "        MLB-RUGBY_HELMETS  \n",
       "Domain  MLB-RUGBY_HELMETS  \n",
       "count                   0  \n",
       "\n",
       "[2 rows x 7894 columns]"
      ],
      "text/html": "<div>\n<style scoped>\n    .dataframe tbody tr th:only-of-type {\n        vertical-align: middle;\n    }\n\n    .dataframe tbody tr th {\n        vertical-align: top;\n    }\n\n    .dataframe thead th {\n        text-align: right;\n    }\n</style>\n<table border=\"1\" class=\"dataframe\">\n  <thead>\n    <tr style=\"text-align: right;\">\n      <th></th>\n      <th>MLM-INDIVIDUAL_HOUSES_FOR_SALE</th>\n      <th>MLM-VIDEO_GAMES</th>\n      <th>MLM-SKIRTS</th>\n      <th>MLM-GRAPHICS_CARDS</th>\n      <th>MLM-NOTEBOOKS</th>\n      <th>MLM-VEHICLE_ACCESSORIES</th>\n      <th>MLM-CELLPHONE_COVERS</th>\n      <th>MLM-WALL_AND_CEILING_LIGHTS</th>\n      <th>MLM-NAPKIN_HOLDERS</th>\n      <th>MLM-FLATS</th>\n      <th>...</th>\n      <th>MLB-SKATE_BOOT_COVERS</th>\n      <th>MLB-ADVERTISING_INFLATABLES</th>\n      <th>MLB-PRESSURE_TANKS</th>\n      <th>MLB-PRINTER_CLEANING_KITS</th>\n      <th>MLB-ELECTRIC_CREAM_SEPARATORS</th>\n      <th>MLB-BURETTES</th>\n      <th>MLB-GLASS_SAFETY_FILMS</th>\n      <th>MLB-SCREEN_PRINTING_KITS</th>\n      <th>MLB-ANTIQUE_AUDIO_ANTENNAS</th>\n      <th>MLB-RUGBY_HELMETS</th>\n    </tr>\n  </thead>\n  <tbody>\n    <tr>\n      <th>Domain</th>\n      <td>MLM-INDIVIDUAL_HOUSES_FOR_SALE</td>\n      <td>MLM-VIDEO_GAMES</td>\n      <td>MLM-SKIRTS</td>\n      <td>MLM-GRAPHICS_CARDS</td>\n      <td>MLM-NOTEBOOKS</td>\n      <td>MLM-VEHICLE_ACCESSORIES</td>\n      <td>MLM-CELLPHONE_COVERS</td>\n      <td>MLM-WALL_AND_CEILING_LIGHTS</td>\n      <td>MLM-NAPKIN_HOLDERS</td>\n      <td>MLM-FLATS</td>\n      <td>...</td>\n      <td>MLB-SKATE_BOOT_COVERS</td>\n      <td>MLB-ADVERTISING_INFLATABLES</td>\n      <td>MLB-PRESSURE_TANKS</td>\n      <td>MLB-PRINTER_CLEANING_KITS</td>\n      <td>MLB-ELECTRIC_CREAM_SEPARATORS</td>\n      <td>MLB-BURETTES</td>\n      <td>MLB-GLASS_SAFETY_FILMS</td>\n      <td>MLB-SCREEN_PRINTING_KITS</td>\n      <td>MLB-ANTIQUE_AUDIO_ANTENNAS</td>\n      <td>MLB-RUGBY_HELMETS</td>\n    </tr>\n    <tr>\n      <th>count</th>\n      <td>0</td>\n      <td>0</td>\n      <td>0</td>\n      <td>0</td>\n      <td>0</td>\n      <td>0</td>\n      <td>0</td>\n      <td>0</td>\n      <td>0</td>\n      <td>0</td>\n      <td>...</td>\n      <td>0</td>\n      <td>0</td>\n      <td>0</td>\n      <td>0</td>\n      <td>0</td>\n      <td>0</td>\n      <td>0</td>\n      <td>0</td>\n      <td>0</td>\n      <td>0</td>\n    </tr>\n  </tbody>\n</table>\n<p>2 rows × 7894 columns</p>\n</div>"
     },
     "metadata": {},
     "execution_count": 55
    }
   ],
   "source": [
    "#df_domains = pd.DataFrame(all_domains, columns =['Domain'])\n",
    "#df_domains[\"count\"] = 0\n",
    "#df_domains = df_domains.transpose()\n",
    "#df_domains.rename(columns=df_domains.iloc[0], inplace = True)\n",
    "#df_domains"
   ]
  },
  {
   "cell_type": "code",
   "execution_count": 79,
   "metadata": {},
   "outputs": [],
   "source": [
    "all_domains.append(\"ID\")\n",
    "all_domains.append(\"domain_bought\")"
   ]
  },
  {
   "cell_type": "code",
   "execution_count": 80,
   "metadata": {},
   "outputs": [
    {
     "output_type": "execute_result",
     "data": {
      "text/plain": [
       "array(['MLM-INDIVIDUAL_HOUSES_FOR_SALE', 'MLM-VIDEO_GAMES', 'MLM-SKIRTS',\n",
       "       ..., 'MLB-RUGBY_HELMETS', 'ID', 'domain_bought'], dtype=object)"
      ]
     },
     "metadata": {},
     "execution_count": 80
    }
   ],
   "source": [
    "#Generos todos los id de Dominios\n",
    "domains_array = np.array(all_domains)\n",
    "domains_array"
   ]
  },
  {
   "cell_type": "code",
   "execution_count": 123,
   "metadata": {},
   "outputs": [
    {
     "output_type": "execute_result",
     "data": {
      "text/plain": [
       "  MLM-INDIVIDUAL_HOUSES_FOR_SALE MLM-VIDEO_GAMES MLM-SKIRTS  \\\n",
       "0                            0.0             0.0        0.0   \n",
       "1                            0.0             0.0        0.0   \n",
       "2                            0.0             0.0        0.0   \n",
       "3                            0.0             0.0        0.0   \n",
       "\n",
       "  MLM-GRAPHICS_CARDS MLM-NOTEBOOKS MLM-VEHICLE_ACCESSORIES  \\\n",
       "0                0.0           0.0                     0.0   \n",
       "1                0.0           0.0                     0.0   \n",
       "2                0.0           0.0                     0.0   \n",
       "3                0.0           0.0                     0.0   \n",
       "\n",
       "  MLM-CELLPHONE_COVERS MLM-WALL_AND_CEILING_LIGHTS MLM-NAPKIN_HOLDERS  \\\n",
       "0                  0.0                         0.0                0.0   \n",
       "1                  0.0                         0.0                0.0   \n",
       "2                  0.0                         0.0                0.0   \n",
       "3                  0.0                         0.0                0.0   \n",
       "\n",
       "  MLM-FLATS  ... MLB-PRESSURE_TANKS MLB-PRINTER_CLEANING_KITS  \\\n",
       "0       0.0  ...                0.0                       0.0   \n",
       "1       0.0  ...                0.0                       0.0   \n",
       "2       0.0  ...                0.0                       0.0   \n",
       "3       0.0  ...                0.0                       0.0   \n",
       "\n",
       "  MLB-ELECTRIC_CREAM_SEPARATORS MLB-BURETTES MLB-GLASS_SAFETY_FILMS  \\\n",
       "0                           0.0          0.0                    0.0   \n",
       "1                           0.0          0.0                    0.0   \n",
       "2                           0.0          0.0                    0.0   \n",
       "3                           0.0          0.0                    0.0   \n",
       "\n",
       "  MLB-SCREEN_PRINTING_KITS MLB-ANTIQUE_AUDIO_ANTENNAS MLB-RUGBY_HELMETS   ID  \\\n",
       "0                      0.0                        0.0               0.0  0.0   \n",
       "1                      0.0                        0.0               0.0  0.0   \n",
       "2                      0.0                        0.0               0.0  0.0   \n",
       "3                      0.0                        0.0               0.0  0.0   \n",
       "\n",
       "  domain_bought  \n",
       "0           0.0  \n",
       "1           0.0  \n",
       "2           0.0  \n",
       "3           0.0  \n",
       "\n",
       "[4 rows x 7896 columns]"
      ],
      "text/html": "<div>\n<style scoped>\n    .dataframe tbody tr th:only-of-type {\n        vertical-align: middle;\n    }\n\n    .dataframe tbody tr th {\n        vertical-align: top;\n    }\n\n    .dataframe thead th {\n        text-align: right;\n    }\n</style>\n<table border=\"1\" class=\"dataframe\">\n  <thead>\n    <tr style=\"text-align: right;\">\n      <th></th>\n      <th>MLM-INDIVIDUAL_HOUSES_FOR_SALE</th>\n      <th>MLM-VIDEO_GAMES</th>\n      <th>MLM-SKIRTS</th>\n      <th>MLM-GRAPHICS_CARDS</th>\n      <th>MLM-NOTEBOOKS</th>\n      <th>MLM-VEHICLE_ACCESSORIES</th>\n      <th>MLM-CELLPHONE_COVERS</th>\n      <th>MLM-WALL_AND_CEILING_LIGHTS</th>\n      <th>MLM-NAPKIN_HOLDERS</th>\n      <th>MLM-FLATS</th>\n      <th>...</th>\n      <th>MLB-PRESSURE_TANKS</th>\n      <th>MLB-PRINTER_CLEANING_KITS</th>\n      <th>MLB-ELECTRIC_CREAM_SEPARATORS</th>\n      <th>MLB-BURETTES</th>\n      <th>MLB-GLASS_SAFETY_FILMS</th>\n      <th>MLB-SCREEN_PRINTING_KITS</th>\n      <th>MLB-ANTIQUE_AUDIO_ANTENNAS</th>\n      <th>MLB-RUGBY_HELMETS</th>\n      <th>ID</th>\n      <th>domain_bought</th>\n    </tr>\n  </thead>\n  <tbody>\n    <tr>\n      <th>0</th>\n      <td>0.0</td>\n      <td>0.0</td>\n      <td>0.0</td>\n      <td>0.0</td>\n      <td>0.0</td>\n      <td>0.0</td>\n      <td>0.0</td>\n      <td>0.0</td>\n      <td>0.0</td>\n      <td>0.0</td>\n      <td>...</td>\n      <td>0.0</td>\n      <td>0.0</td>\n      <td>0.0</td>\n      <td>0.0</td>\n      <td>0.0</td>\n      <td>0.0</td>\n      <td>0.0</td>\n      <td>0.0</td>\n      <td>0.0</td>\n      <td>0.0</td>\n    </tr>\n    <tr>\n      <th>1</th>\n      <td>0.0</td>\n      <td>0.0</td>\n      <td>0.0</td>\n      <td>0.0</td>\n      <td>0.0</td>\n      <td>0.0</td>\n      <td>0.0</td>\n      <td>0.0</td>\n      <td>0.0</td>\n      <td>0.0</td>\n      <td>...</td>\n      <td>0.0</td>\n      <td>0.0</td>\n      <td>0.0</td>\n      <td>0.0</td>\n      <td>0.0</td>\n      <td>0.0</td>\n      <td>0.0</td>\n      <td>0.0</td>\n      <td>0.0</td>\n      <td>0.0</td>\n    </tr>\n    <tr>\n      <th>2</th>\n      <td>0.0</td>\n      <td>0.0</td>\n      <td>0.0</td>\n      <td>0.0</td>\n      <td>0.0</td>\n      <td>0.0</td>\n      <td>0.0</td>\n      <td>0.0</td>\n      <td>0.0</td>\n      <td>0.0</td>\n      <td>...</td>\n      <td>0.0</td>\n      <td>0.0</td>\n      <td>0.0</td>\n      <td>0.0</td>\n      <td>0.0</td>\n      <td>0.0</td>\n      <td>0.0</td>\n      <td>0.0</td>\n      <td>0.0</td>\n      <td>0.0</td>\n    </tr>\n    <tr>\n      <th>3</th>\n      <td>0.0</td>\n      <td>0.0</td>\n      <td>0.0</td>\n      <td>0.0</td>\n      <td>0.0</td>\n      <td>0.0</td>\n      <td>0.0</td>\n      <td>0.0</td>\n      <td>0.0</td>\n      <td>0.0</td>\n      <td>...</td>\n      <td>0.0</td>\n      <td>0.0</td>\n      <td>0.0</td>\n      <td>0.0</td>\n      <td>0.0</td>\n      <td>0.0</td>\n      <td>0.0</td>\n      <td>0.0</td>\n      <td>0.0</td>\n      <td>0.0</td>\n    </tr>\n  </tbody>\n</table>\n<p>4 rows × 7896 columns</p>\n</div>"
     },
     "metadata": {},
     "execution_count": 123
    }
   ],
   "source": [
    "df_domains = pd.DataFrame(np.zeros((4, len(domains_array))),columns = domains_array)\n",
    "#df_domains[['domain_bought']] = df_domains[['domain_bought']].astype(str)\n",
    "df_domains = df_domains.astype(str)\n",
    "df_domains"
   ]
  },
  {
   "cell_type": "code",
   "execution_count": 124,
   "metadata": {},
   "outputs": [
    {
     "output_type": "stream",
     "name": "stdout",
     "text": [
      "MLB-RIVETS 8\n"
     ]
    }
   ],
   "source": [
    "dominios_visitados(rows_train[1]).most_common()\n",
    "first_domain = dominios_visitados(rows_train[1]).most_common()[0][0]\n",
    "first_count = dominios_visitados(rows_train[1]).most_common()[0][1]\n",
    "print(first_domain,first_count)"
   ]
  },
  {
   "cell_type": "code",
   "execution_count": 122,
   "metadata": {},
   "outputs": [
    {
     "output_type": "execute_result",
     "data": {
      "text/plain": [
       "  MLM-INDIVIDUAL_HOUSES_FOR_SALE MLM-VIDEO_GAMES MLM-SKIRTS  \\\n",
       "0                              6             0.0        0.0   \n",
       "1                            0.0             0.0        0.0   \n",
       "2                            0.0             0.0        0.0   \n",
       "3                            0.0             0.0        0.0   \n",
       "\n",
       "  MLM-GRAPHICS_CARDS MLM-NOTEBOOKS MLM-VEHICLE_ACCESSORIES  \\\n",
       "0                0.0           0.0                     0.0   \n",
       "1                0.0           0.0                     0.0   \n",
       "2                0.0           0.0                     0.0   \n",
       "3                0.0           0.0                     0.0   \n",
       "\n",
       "  MLM-CELLPHONE_COVERS MLM-WALL_AND_CEILING_LIGHTS MLM-NAPKIN_HOLDERS  \\\n",
       "0                  0.0                         0.0                0.0   \n",
       "1                  0.0                         0.0                0.0   \n",
       "2                  0.0                         0.0                0.0   \n",
       "3                  0.0                         0.0                0.0   \n",
       "\n",
       "  MLM-FLATS  ... MLB-PRESSURE_TANKS MLB-PRINTER_CLEANING_KITS  \\\n",
       "0       0.0  ...                0.0                       0.0   \n",
       "1       0.0  ...                0.0                       0.0   \n",
       "2       0.0  ...                0.0                       0.0   \n",
       "3       0.0  ...                0.0                       0.0   \n",
       "\n",
       "  MLB-ELECTRIC_CREAM_SEPARATORS MLB-BURETTES MLB-GLASS_SAFETY_FILMS  \\\n",
       "0                           0.0          0.0                    0.0   \n",
       "1                           0.0          0.0                    0.0   \n",
       "2                           0.0          0.0                    0.0   \n",
       "3                           0.0          0.0                    0.0   \n",
       "\n",
       "  MLB-SCREEN_PRINTING_KITS MLB-ANTIQUE_AUDIO_ANTENNAS MLB-RUGBY_HELMETS   ID  \\\n",
       "0                      0.0                        0.0               0.0    1   \n",
       "1                      0.0                        0.0               0.0  0.0   \n",
       "2                      0.0                        0.0               0.0  0.0   \n",
       "3                      0.0                        0.0               0.0  0.0   \n",
       "\n",
       "  domain_bought  \n",
       "0    MLB-RIVETS  \n",
       "1           0.0  \n",
       "2           0.0  \n",
       "3           0.0  \n",
       "\n",
       "[4 rows x 7896 columns]"
      ],
      "text/html": "<div>\n<style scoped>\n    .dataframe tbody tr th:only-of-type {\n        vertical-align: middle;\n    }\n\n    .dataframe tbody tr th {\n        vertical-align: top;\n    }\n\n    .dataframe thead th {\n        text-align: right;\n    }\n</style>\n<table border=\"1\" class=\"dataframe\">\n  <thead>\n    <tr style=\"text-align: right;\">\n      <th></th>\n      <th>MLM-INDIVIDUAL_HOUSES_FOR_SALE</th>\n      <th>MLM-VIDEO_GAMES</th>\n      <th>MLM-SKIRTS</th>\n      <th>MLM-GRAPHICS_CARDS</th>\n      <th>MLM-NOTEBOOKS</th>\n      <th>MLM-VEHICLE_ACCESSORIES</th>\n      <th>MLM-CELLPHONE_COVERS</th>\n      <th>MLM-WALL_AND_CEILING_LIGHTS</th>\n      <th>MLM-NAPKIN_HOLDERS</th>\n      <th>MLM-FLATS</th>\n      <th>...</th>\n      <th>MLB-PRESSURE_TANKS</th>\n      <th>MLB-PRINTER_CLEANING_KITS</th>\n      <th>MLB-ELECTRIC_CREAM_SEPARATORS</th>\n      <th>MLB-BURETTES</th>\n      <th>MLB-GLASS_SAFETY_FILMS</th>\n      <th>MLB-SCREEN_PRINTING_KITS</th>\n      <th>MLB-ANTIQUE_AUDIO_ANTENNAS</th>\n      <th>MLB-RUGBY_HELMETS</th>\n      <th>ID</th>\n      <th>domain_bought</th>\n    </tr>\n  </thead>\n  <tbody>\n    <tr>\n      <th>0</th>\n      <td>6</td>\n      <td>0.0</td>\n      <td>0.0</td>\n      <td>0.0</td>\n      <td>0.0</td>\n      <td>0.0</td>\n      <td>0.0</td>\n      <td>0.0</td>\n      <td>0.0</td>\n      <td>0.0</td>\n      <td>...</td>\n      <td>0.0</td>\n      <td>0.0</td>\n      <td>0.0</td>\n      <td>0.0</td>\n      <td>0.0</td>\n      <td>0.0</td>\n      <td>0.0</td>\n      <td>0.0</td>\n      <td>1</td>\n      <td>MLB-RIVETS</td>\n    </tr>\n    <tr>\n      <th>1</th>\n      <td>0.0</td>\n      <td>0.0</td>\n      <td>0.0</td>\n      <td>0.0</td>\n      <td>0.0</td>\n      <td>0.0</td>\n      <td>0.0</td>\n      <td>0.0</td>\n      <td>0.0</td>\n      <td>0.0</td>\n      <td>...</td>\n      <td>0.0</td>\n      <td>0.0</td>\n      <td>0.0</td>\n      <td>0.0</td>\n      <td>0.0</td>\n      <td>0.0</td>\n      <td>0.0</td>\n      <td>0.0</td>\n      <td>0.0</td>\n      <td>0.0</td>\n    </tr>\n    <tr>\n      <th>2</th>\n      <td>0.0</td>\n      <td>0.0</td>\n      <td>0.0</td>\n      <td>0.0</td>\n      <td>0.0</td>\n      <td>0.0</td>\n      <td>0.0</td>\n      <td>0.0</td>\n      <td>0.0</td>\n      <td>0.0</td>\n      <td>...</td>\n      <td>0.0</td>\n      <td>0.0</td>\n      <td>0.0</td>\n      <td>0.0</td>\n      <td>0.0</td>\n      <td>0.0</td>\n      <td>0.0</td>\n      <td>0.0</td>\n      <td>0.0</td>\n      <td>0.0</td>\n    </tr>\n    <tr>\n      <th>3</th>\n      <td>0.0</td>\n      <td>0.0</td>\n      <td>0.0</td>\n      <td>0.0</td>\n      <td>0.0</td>\n      <td>0.0</td>\n      <td>0.0</td>\n      <td>0.0</td>\n      <td>0.0</td>\n      <td>0.0</td>\n      <td>...</td>\n      <td>0.0</td>\n      <td>0.0</td>\n      <td>0.0</td>\n      <td>0.0</td>\n      <td>0.0</td>\n      <td>0.0</td>\n      <td>0.0</td>\n      <td>0.0</td>\n      <td>0.0</td>\n      <td>0.0</td>\n    </tr>\n  </tbody>\n</table>\n<p>4 rows × 7896 columns</p>\n</div>"
     },
     "metadata": {},
     "execution_count": 122
    }
   ],
   "source": [
    "df_domains.loc[0]['ID']='1'\n",
    "df_domains.loc[0]['MLM-INDIVIDUAL_HOUSES_FOR_SALE']='6'\n",
    "df_domains"
   ]
  },
  {
   "cell_type": "code",
   "execution_count": 132,
   "metadata": {},
   "outputs": [
    {
     "output_type": "stream",
     "name": "stdout",
     "text": [
      "0 MLB-RIVETS 8\n0 MLB-RIVET_GUNS 3\n0 MLB-ELECTRONIC_ACCESSORIES_AND_SPARE_PARTS 1\n0 MLB-HOME_APPLIANCE_CONTACTORS_AND_RELAYS 1\n0 MLB-DRILL_BITS 1\n"
     ]
    }
   ],
   "source": [
    "count = 0\n",
    "for index in dominios_visitados(rows_train[1]).most_common():\n",
    "    print(count,index[0],index[1])\n",
    "    df_domains.loc[count][index[0]]=index[1]\n",
    "\n"
   ]
  },
  {
   "cell_type": "code",
   "execution_count": 133,
   "metadata": {},
   "outputs": [
    {
     "output_type": "execute_result",
     "data": {
      "text/plain": [
       "  MLM-INDIVIDUAL_HOUSES_FOR_SALE MLM-VIDEO_GAMES MLM-SKIRTS  \\\n",
       "0                            0.0             0.0        0.0   \n",
       "1                            0.0             0.0        0.0   \n",
       "2                            0.0             0.0        0.0   \n",
       "3                            0.0             0.0        0.0   \n",
       "\n",
       "  MLM-GRAPHICS_CARDS MLM-NOTEBOOKS MLM-VEHICLE_ACCESSORIES  \\\n",
       "0                0.0           0.0                     0.0   \n",
       "1                0.0           0.0                     0.0   \n",
       "2                0.0           0.0                     0.0   \n",
       "3                0.0           0.0                     0.0   \n",
       "\n",
       "  MLM-CELLPHONE_COVERS MLM-WALL_AND_CEILING_LIGHTS MLM-NAPKIN_HOLDERS  \\\n",
       "0                  0.0                         0.0                0.0   \n",
       "1                  0.0                         0.0                0.0   \n",
       "2                  0.0                         0.0                0.0   \n",
       "3                  0.0                         0.0                0.0   \n",
       "\n",
       "  MLM-FLATS  ... MLB-PRESSURE_TANKS MLB-PRINTER_CLEANING_KITS  \\\n",
       "0       0.0  ...                0.0                       0.0   \n",
       "1       0.0  ...                0.0                       0.0   \n",
       "2       0.0  ...                0.0                       0.0   \n",
       "3       0.0  ...                0.0                       0.0   \n",
       "\n",
       "  MLB-ELECTRIC_CREAM_SEPARATORS MLB-BURETTES MLB-GLASS_SAFETY_FILMS  \\\n",
       "0                           0.0          0.0                    0.0   \n",
       "1                           0.0          0.0                    0.0   \n",
       "2                           0.0          0.0                    0.0   \n",
       "3                           0.0          0.0                    0.0   \n",
       "\n",
       "  MLB-SCREEN_PRINTING_KITS MLB-ANTIQUE_AUDIO_ANTENNAS MLB-RUGBY_HELMETS   ID  \\\n",
       "0                      0.0                        0.0               0.0  0.0   \n",
       "1                      0.0                        0.0               0.0  0.0   \n",
       "2                      0.0                        0.0               0.0  0.0   \n",
       "3                      0.0                        0.0               0.0  0.0   \n",
       "\n",
       "  domain_bought  \n",
       "0           0.0  \n",
       "1           0.0  \n",
       "2           0.0  \n",
       "3           0.0  \n",
       "\n",
       "[4 rows x 7896 columns]"
      ],
      "text/html": "<div>\n<style scoped>\n    .dataframe tbody tr th:only-of-type {\n        vertical-align: middle;\n    }\n\n    .dataframe tbody tr th {\n        vertical-align: top;\n    }\n\n    .dataframe thead th {\n        text-align: right;\n    }\n</style>\n<table border=\"1\" class=\"dataframe\">\n  <thead>\n    <tr style=\"text-align: right;\">\n      <th></th>\n      <th>MLM-INDIVIDUAL_HOUSES_FOR_SALE</th>\n      <th>MLM-VIDEO_GAMES</th>\n      <th>MLM-SKIRTS</th>\n      <th>MLM-GRAPHICS_CARDS</th>\n      <th>MLM-NOTEBOOKS</th>\n      <th>MLM-VEHICLE_ACCESSORIES</th>\n      <th>MLM-CELLPHONE_COVERS</th>\n      <th>MLM-WALL_AND_CEILING_LIGHTS</th>\n      <th>MLM-NAPKIN_HOLDERS</th>\n      <th>MLM-FLATS</th>\n      <th>...</th>\n      <th>MLB-PRESSURE_TANKS</th>\n      <th>MLB-PRINTER_CLEANING_KITS</th>\n      <th>MLB-ELECTRIC_CREAM_SEPARATORS</th>\n      <th>MLB-BURETTES</th>\n      <th>MLB-GLASS_SAFETY_FILMS</th>\n      <th>MLB-SCREEN_PRINTING_KITS</th>\n      <th>MLB-ANTIQUE_AUDIO_ANTENNAS</th>\n      <th>MLB-RUGBY_HELMETS</th>\n      <th>ID</th>\n      <th>domain_bought</th>\n    </tr>\n  </thead>\n  <tbody>\n    <tr>\n      <th>0</th>\n      <td>0.0</td>\n      <td>0.0</td>\n      <td>0.0</td>\n      <td>0.0</td>\n      <td>0.0</td>\n      <td>0.0</td>\n      <td>0.0</td>\n      <td>0.0</td>\n      <td>0.0</td>\n      <td>0.0</td>\n      <td>...</td>\n      <td>0.0</td>\n      <td>0.0</td>\n      <td>0.0</td>\n      <td>0.0</td>\n      <td>0.0</td>\n      <td>0.0</td>\n      <td>0.0</td>\n      <td>0.0</td>\n      <td>0.0</td>\n      <td>0.0</td>\n    </tr>\n    <tr>\n      <th>1</th>\n      <td>0.0</td>\n      <td>0.0</td>\n      <td>0.0</td>\n      <td>0.0</td>\n      <td>0.0</td>\n      <td>0.0</td>\n      <td>0.0</td>\n      <td>0.0</td>\n      <td>0.0</td>\n      <td>0.0</td>\n      <td>...</td>\n      <td>0.0</td>\n      <td>0.0</td>\n      <td>0.0</td>\n      <td>0.0</td>\n      <td>0.0</td>\n      <td>0.0</td>\n      <td>0.0</td>\n      <td>0.0</td>\n      <td>0.0</td>\n      <td>0.0</td>\n    </tr>\n    <tr>\n      <th>2</th>\n      <td>0.0</td>\n      <td>0.0</td>\n      <td>0.0</td>\n      <td>0.0</td>\n      <td>0.0</td>\n      <td>0.0</td>\n      <td>0.0</td>\n      <td>0.0</td>\n      <td>0.0</td>\n      <td>0.0</td>\n      <td>...</td>\n      <td>0.0</td>\n      <td>0.0</td>\n      <td>0.0</td>\n      <td>0.0</td>\n      <td>0.0</td>\n      <td>0.0</td>\n      <td>0.0</td>\n      <td>0.0</td>\n      <td>0.0</td>\n      <td>0.0</td>\n    </tr>\n    <tr>\n      <th>3</th>\n      <td>0.0</td>\n      <td>0.0</td>\n      <td>0.0</td>\n      <td>0.0</td>\n      <td>0.0</td>\n      <td>0.0</td>\n      <td>0.0</td>\n      <td>0.0</td>\n      <td>0.0</td>\n      <td>0.0</td>\n      <td>...</td>\n      <td>0.0</td>\n      <td>0.0</td>\n      <td>0.0</td>\n      <td>0.0</td>\n      <td>0.0</td>\n      <td>0.0</td>\n      <td>0.0</td>\n      <td>0.0</td>\n      <td>0.0</td>\n      <td>0.0</td>\n    </tr>\n  </tbody>\n</table>\n<p>4 rows × 7896 columns</p>\n</div>"
     },
     "metadata": {},
     "execution_count": 133
    }
   ],
   "source": [
    "df_domains[0]"
   ]
  }
 ],
 "metadata": {
  "kernelspec": {
   "name": "python3",
   "display_name": "Python 3.7.5 64-bit ('base': conda)",
   "metadata": {
    "interpreter": {
     "hash": "9a37e5188a605e95d3282a4fb8007f4c3c52885d8cd12f2ffcfc398feaa7ff36"
    }
   }
  },
  "language_info": {
   "codemirror_mode": {
    "name": "ipython",
    "version": 3
   },
   "file_extension": ".py",
   "mimetype": "text/x-python",
   "name": "python",
   "nbconvert_exporter": "python",
   "pygments_lexer": "ipython3",
   "version": "3.7.5-final"
  }
 },
 "nbformat": 4,
 "nbformat_minor": 4
}