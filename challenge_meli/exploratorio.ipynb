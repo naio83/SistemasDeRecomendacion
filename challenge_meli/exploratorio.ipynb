{
 "cells": [
  {
   "cell_type": "code",
   "execution_count": 1,
   "metadata": {},
   "outputs": [],
   "source": [
    "import pandas as pd\n",
    "import numpy as np\n",
    "import time\n",
    "import math\n",
    "import json\n",
    "import random\n",
    "import warnings, sys, os, gzip, gc\n",
    "from collections import Counter, defaultdict\n",
    "from sklearn import datasets\n",
    "from datetime import date, datetime\n",
    "from sklearn.model_selection import train_test_split\n",
    "from tqdm import tqdm, tqdm_notebook\n",
    "from pandas.io.json import json_normalize #package for flattening json in pandas df"
   ]
  },
  {
   "cell_type": "code",
   "execution_count": 2,
   "metadata": {},
   "outputs": [],
   "source": [
    "def jl_to_list(fname):\n",
    "    output=[]\n",
    "    with gzip.open(fname, 'rb') as f:\n",
    "        for line in f:\n",
    "            output.append(json.loads(line))\n",
    "    return output"
   ]
  },
  {
   "cell_type": "code",
   "execution_count": 3,
   "metadata": {},
   "outputs": [
    {
     "output_type": "stream",
     "name": "stdout",
     "text": [
      "tiempo:  27.142229318618774\n"
     ]
    }
   ],
   "source": [
    "t_0 = time.time()\n",
    "rows = jl_to_list('./data/raw/train_dataset.jl.gz')\n",
    "print (\"tiempo: \", time.time() - t_0)"
   ]
  },
  {
   "cell_type": "code",
   "execution_count": 4,
   "metadata": {},
   "outputs": [
    {
     "output_type": "stream",
     "name": "stdout",
     "text": [
      "tiempo:  20.389840364456177\n"
     ]
    }
   ],
   "source": [
    "t_0 = time.time()\n",
    "item_data = jl_to_list('./data/raw/item_data.jl.gz')\n",
    "print (\"tiempo: \", time.time() - t_0)"
   ]
  },
  {
   "cell_type": "code",
   "execution_count": 5,
   "metadata": {},
   "outputs": [
    {
     "output_type": "stream",
     "name": "stdout",
     "text": [
      "tiempo:  14.62082314491272\n177070\n"
     ]
    }
   ],
   "source": [
    "t_0 = time.time()\n",
    "test_rows = jl_to_list('./data/raw/test_dataset.jl.gz')\n",
    "print (\"tiempo: \", time.time() - t_0)\n",
    "print(len(test_rows))"
   ]
  },
  {
   "cell_type": "code",
   "execution_count": 5,
   "metadata": {},
   "outputs": [
    {
     "output_type": "stream",
     "name": "stdout",
     "text": [
      "330530 82633\n"
     ]
    }
   ],
   "source": [
    "#samples = 10000\n",
    "#if samples:\n",
    "#    rows = rows[:samples]\n",
    "rows_train, rows_test =  train_test_split(rows, test_size=0.2, random_state=42)\n",
    "print(len(rows_train), len(rows_test))"
   ]
  },
  {
   "source": [
    "## Analisis Exploratorio"
   ],
   "cell_type": "markdown",
   "metadata": {}
  },
  {
   "cell_type": "code",
   "execution_count": 5,
   "metadata": {},
   "outputs": [],
   "source": [
    "metadata = {x['item_id']:x for x in item_data}\n",
    "all_items = list(metadata.keys())"
   ]
  },
  {
   "cell_type": "code",
   "execution_count": 6,
   "metadata": {},
   "outputs": [],
   "source": [
    "metadata_bought = {x['item_bought']:x for x in rows}\n",
    "all_bought = list(metadata_bought.keys())\n",
    "# Por lo que revise no hay dos compras del mismo producto."
   ]
  },
  {
   "cell_type": "code",
   "execution_count": 7,
   "metadata": {},
   "outputs": [
    {
     "output_type": "execute_result",
     "data": {
      "text/plain": [
       "{'item_id': 871377,\n",
       " 'title': 'Resident Evil Origins Collection Nintendo Switch (en D3gamer',\n",
       " 'domain_id': 'MLM-VIDEO_GAMES',\n",
       " 'product_id': '15270800',\n",
       " 'price': '1392.83',\n",
       " 'category_id': 'MLM151595',\n",
       " 'condition': 'new'}"
      ]
     },
     "metadata": {},
     "execution_count": 7
    }
   ],
   "source": [
    "item_data[1]"
   ]
  },
  {
   "cell_type": "code",
   "execution_count": 8,
   "metadata": {},
   "outputs": [
    {
     "output_type": "stream",
     "name": "stdout",
     "text": [
      "64928\n2102277\n"
     ]
    }
   ],
   "source": [
    "print(len(all_bought))\n",
    "print(len(all_items))"
   ]
  },
  {
   "cell_type": "code",
   "execution_count": 9,
   "metadata": {},
   "outputs": [],
   "source": [
    "domains = {x['domain_id']:x for x in item_data}\n",
    "categories = {x['category_id']:x for x in item_data}"
   ]
  },
  {
   "cell_type": "code",
   "execution_count": 10,
   "metadata": {},
   "outputs": [
    {
     "output_type": "stream",
     "name": "stdout",
     "text": [
      "7894\n11493\n"
     ]
    }
   ],
   "source": [
    "print(len(domains))\n",
    "print(len(categories))"
   ]
  },
  {
   "cell_type": "code",
   "execution_count": 12,
   "metadata": {},
   "outputs": [],
   "source": [
    "# Me llevo los items que realmente terminaron comprando.\n",
    "y_true = [row['item_bought'] for row in rows]"
   ]
  },
  {
   "cell_type": "code",
   "execution_count": 13,
   "metadata": {},
   "outputs": [
    {
     "output_type": "execute_result",
     "data": {
      "text/plain": [
       "413163"
      ]
     },
     "metadata": {},
     "execution_count": 13
    }
   ],
   "source": [
    "len(y_true)"
   ]
  },
  {
   "cell_type": "code",
   "execution_count": 17,
   "metadata": {},
   "outputs": [],
   "source": [
    "# Funcion que devuelve si un usuario compro un articulo de entre los que vio con anterioridad\n",
    "def see_and_bought(row):\n",
    "    viewed = [ev for ev in row['user_history'] if ev['event_type']=='view']\n",
    "    viewed = sorted(viewed, key=lambda x: x['event_timestamp'], reverse=True)\n",
    "    viewed = [ev['event_info'] for ev in viewed]\n",
    "    bought = row['item_bought']\n",
    "    boolean = bought in viewed\n",
    "    return boolean"
   ]
  },
  {
   "cell_type": "code",
   "execution_count": 18,
   "metadata": {},
   "outputs": [
    {
     "output_type": "execute_result",
     "data": {
      "text/plain": [
       "True"
      ]
     },
     "metadata": {},
     "execution_count": 18
    }
   ],
   "source": [
    "see_and_bought(rows[1])"
   ]
  },
  {
   "cell_type": "code",
   "execution_count": 24,
   "metadata": {},
   "outputs": [
    {
     "output_type": "display_data",
     "data": {
      "text/plain": "HBox(children=(FloatProgress(value=0.0, max=413163.0), HTML(value='')))",
      "application/vnd.jupyter.widget-view+json": {
       "version_major": 2,
       "version_minor": 0,
       "model_id": "82afd6d6b8914fcca36356d21b367922"
      }
     },
     "metadata": {}
    },
    {
     "output_type": "stream",
     "name": "stdout",
     "text": [
      "\nTotales:  413163\nCompro de entre las que vio:  121422\n29.39 %\n"
     ]
    }
   ],
   "source": [
    "count = 0\n",
    "for row in tqdm_notebook(rows):    \n",
    "    if see_and_bought(row) == True:\n",
    "        count +=1\n",
    "print(\"Totales: \",len(rows))\n",
    "print(\"Compro de entre las que vio: \",count)\n",
    "print(np.around(count*100/len(rows), 2),\"%\")"
   ]
  },
  {
   "cell_type": "code",
   "execution_count": 93,
   "metadata": {},
   "outputs": [],
   "source": [
    "# Devuelve una lista con todos los dominios que visito un usuario.\n",
    "def visited_domains(row):\n",
    "    domains_set = set()\n",
    "    viewed = [ev['event_info'] for ev in row['user_history'] if ev['event_type']=='view']\n",
    "    for item in viewed:\n",
    "        domain = metadata[item]['domain_id']\n",
    "        domains_set.add(domain)\n",
    "    return list(domains_set)"
   ]
  },
  {
   "cell_type": "code",
   "execution_count": 94,
   "metadata": {},
   "outputs": [
    {
     "output_type": "execute_result",
     "data": {
      "text/plain": [
       "['MLB-SHOWER_HEADS', 'MLB-MILK_EXTRACTORS']"
      ]
     },
     "metadata": {},
     "execution_count": 94
    }
   ],
   "source": [
    "visited_domains(rows[1])"
   ]
  },
  {
   "cell_type": "code",
   "execution_count": 95,
   "metadata": {},
   "outputs": [
    {
     "output_type": "execute_result",
     "data": {
      "text/plain": [
       "True"
      ]
     },
     "metadata": {},
     "execution_count": 95
    }
   ],
   "source": [
    "metadata[228737]['domain_id'] in visited_domains(rows[1])"
   ]
  },
  {
   "cell_type": "code",
   "execution_count": 117,
   "metadata": {},
   "outputs": [],
   "source": [
    "# Funcion que devuelve si un usuario compro un articulo de los dominios que vio con anterioridad\n",
    "def same_domain(row):\n",
    "    viewed = [ev for ev in row['user_history'] if ev['event_type']=='view']\n",
    "    viewed = sorted(viewed, key=lambda x: x['event_timestamp'], reverse=True)\n",
    "    viewed = [ev['event_info'] for ev in viewed]\n",
    "    domain_bought = metadata[row['item_bought']]['domain_id']\n",
    "    boolean = domain_bought in visited_domains(row)\n",
    "    return boolean"
   ]
  },
  {
   "cell_type": "code",
   "execution_count": 115,
   "metadata": {},
   "outputs": [
    {
     "output_type": "stream",
     "name": "stdout",
     "text": [
      "MLB-SMARTWATCHES\n['MLB-SMARTWATCHES']\nTrue\n--------------------------\n"
     ]
    },
    {
     "output_type": "execute_result",
     "data": {
      "text/plain": [
       "True"
      ]
     },
     "metadata": {},
     "execution_count": 115
    }
   ],
   "source": [
    "same_domain(rows[0])"
   ]
  },
  {
   "cell_type": "code",
   "execution_count": 120,
   "metadata": {},
   "outputs": [
    {
     "output_type": "display_data",
     "data": {
      "text/plain": "HBox(children=(FloatProgress(value=0.0, max=413163.0), HTML(value='')))",
      "application/vnd.jupyter.widget-view+json": {
       "version_major": 2,
       "version_minor": 0,
       "model_id": "4f1c774cc30d407d9e9af5ee1bf36289"
      }
     },
     "metadata": {}
    },
    {
     "output_type": "stream",
     "name": "stdout",
     "text": [
      "\nTotales:  413163\nCompro en el mismo domio:  203857\n49.34 %\n"
     ]
    }
   ],
   "source": [
    "count = 0\n",
    "for row in tqdm_notebook(rows):    \n",
    "    if same_domain(row) == True:\n",
    "        count +=1\n",
    "print(\"Totales: \",len(rows))\n",
    "print(\"Compro en el mismo domio: \",count)\n",
    "print(np.around(count*100/len(rows), 2),\"%\")"
   ]
  },
  {
   "cell_type": "code",
   "execution_count": null,
   "metadata": {},
   "outputs": [],
   "source": []
  }
 ],
 "metadata": {
  "kernelspec": {
   "name": "python3",
   "display_name": "Python 3.7.5 64-bit ('base': conda)",
   "metadata": {
    "interpreter": {
     "hash": "9a37e5188a605e95d3282a4fb8007f4c3c52885d8cd12f2ffcfc398feaa7ff36"
    }
   }
  },
  "language_info": {
   "codemirror_mode": {
    "name": "ipython",
    "version": 3
   },
   "file_extension": ".py",
   "mimetype": "text/x-python",
   "name": "python",
   "nbconvert_exporter": "python",
   "pygments_lexer": "ipython3",
   "version": "3.7.5-final"
  }
 },
 "nbformat": 4,
 "nbformat_minor": 4
}