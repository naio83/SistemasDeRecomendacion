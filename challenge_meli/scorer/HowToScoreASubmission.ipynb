{
 "cells": [
  {
   "cell_type": "markdown",
   "metadata": {},
   "source": [
    "# How to score a submission (locally)"
   ]
  },
  {
   "cell_type": "code",
   "execution_count": 1,
   "metadata": {},
   "outputs": [],
   "source": [
    "%load_ext autoreload\n",
    "%autoreload 2"
   ]
  },
  {
   "cell_type": "code",
   "execution_count": 2,
   "metadata": {},
   "outputs": [],
   "source": [
    "import gzip\n",
    "import json\n",
    "import csv"
   ]
  },
  {
   "cell_type": "code",
   "execution_count": 3,
   "metadata": {},
   "outputs": [],
   "source": [
    "### Auxiliary functions to process the data:\n",
    "def _jl_to_list(f, sample):\n",
    "    output = []\n",
    "    for e,line in enumerate(f):\n",
    "        if sample and sample>e:\n",
    "            output.append(json.loads(line))\n",
    "        elif not sample:\n",
    "            output.append(json.loads(line))\n",
    "            \n",
    "    return output\n",
    "\n",
    "def jl_to_list(fname, sample=False):\n",
    "    \n",
    "    if fname.suffix == '.gz':\n",
    "        with gzip.open(fname, 'r') as f:\n",
    "            return _jl_to_list(f, sample)\n",
    "    else:\n",
    "        with open(fname, 'r') as f:\n",
    "            return _jl_to_list(f, sample)\n",
    "\n",
    "def read_csv(filename):\n",
    "    output = []\n",
    "    with open(filename, newline='') as f:\n",
    "        reader = csv.reader(f)\n",
    "        for row in reader:\n",
    "            output.append(row)\n",
    "    return output"
   ]
  },
  {
   "cell_type": "markdown",
   "metadata": {},
   "source": [
    "#### #1 Configure the path where your data is stored"
   ]
  },
  {
   "cell_type": "code",
   "execution_count": 4,
   "metadata": {},
   "outputs": [],
   "source": [
    "from pathlib import Path\n",
    "path = Path('data')"
   ]
  },
  {
   "cell_type": "markdown",
   "metadata": {},
   "source": [
    "#### #2 Load the data"
   ]
  },
  {
   "cell_type": "code",
   "execution_count": 5,
   "metadata": {},
   "outputs": [],
   "source": [
    "item_data = jl_to_list(path/'item_data.jl.gz') # --> You will always need to load the full item_data file, as the domains information will be extracted from here.\n",
    "train_dataset = jl_to_list(path/'train_dataset.jl.gz')[0:100] ### For this example I will just load the first 100 rows of the dataset"
   ]
  },
  {
   "cell_type": "markdown",
   "metadata": {},
   "source": [
    "#### #3 Get the targets "
   ]
  },
  {
   "cell_type": "markdown",
   "metadata": {},
   "source": [
    "The scoring function will expect a list of item-ids"
   ]
  },
  {
   "cell_type": "code",
   "execution_count": 6,
   "metadata": {},
   "outputs": [],
   "source": [
    "y_true = [user['item_bought'] for user in train_dataset]"
   ]
  },
  {
   "cell_type": "markdown",
   "metadata": {},
   "source": [
    "#### #4 Generate your submission"
   ]
  },
  {
   "cell_type": "markdown",
   "metadata": {},
   "source": [
    "In this case, I will generate random recommendations. The scoring function will expect a list of lists."
   ]
  },
  {
   "cell_type": "code",
   "execution_count": 7,
   "metadata": {},
   "outputs": [],
   "source": [
    "import random\n",
    "y_pred = []\n",
    "for i in range(len(y_true)):\n",
    "    random_recom = random.choices(item_data, k=10)\n",
    "    y_pred.append([recom['item_id'] for recom in random_recom])"
   ]
  },
  {
   "cell_type": "markdown",
   "metadata": {},
   "source": [
    "#### #5 Score your submission\n",
    "\n",
    "\n"
   ]
  },
  {
   "cell_type": "markdown",
   "metadata": {},
   "source": [
    "Pass the targets and the recommendations together with the item data to the ndcg_score function\n",
    "\n"
   ]
  },
  {
   "cell_type": "code",
   "execution_count": 8,
   "metadata": {},
   "outputs": [
    {
     "name": "stdout",
     "output_type": "stream",
     "text": [
      "Your score is: 0.0005332917917927891\n"
     ]
    }
   ],
   "source": [
    "from challenge_metric import ndcg_score\n",
    "\n",
    "ndcg_score = ndcg_score(y_true, y_pred, item_data,n_predictions=10)\n",
    "\n",
    "print(f'Your score is: {ndcg_score}')"
   ]
  },
  {
   "cell_type": "code",
   "execution_count": null,
   "metadata": {},
   "outputs": [],
   "source": []
  }
 ],
 "metadata": {
  "kernelspec": {
   "display_name": "Python 3",
   "language": "python",
   "name": "python3"
  },
  "language_info": {
   "codemirror_mode": {
    "name": "ipython",
    "version": 3
   },
   "file_extension": ".py",
   "mimetype": "text/x-python",
   "name": "python",
   "nbconvert_exporter": "python",
   "pygments_lexer": "ipython3",
   "version": "3.7.4"
  }
 },
 "nbformat": 4,
 "nbformat_minor": 4
}
