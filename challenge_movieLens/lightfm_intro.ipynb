{
 "cells": [
  {
   "cell_type": "code",
   "execution_count": 1,
   "metadata": {},
   "outputs": [],
   "source": [
    "import pandas as pd\n",
    "import numpy as np\n",
    "import matplotlib.pyplot as plt\n",
    "%matplotlib inline\n",
    "from sklearn.model_selection import train_test_split\n",
    "from sklearn.metrics import mean_squared_error, r2_score\n",
    "from tqdm import tqdm, tqdm_notebook\n",
    "import time, os\n",
    "import lightfm as lfm\n",
    "from lightfm import data\n",
    "from lightfm import cross_validation\n",
    "from lightfm import evaluation"
   ]
  },
  {
   "source": [
    "## Comparativa Metodos KNN y Busqueda de hiperParametros"
   ],
   "cell_type": "markdown",
   "metadata": {}
  },
  {
   "cell_type": "code",
   "execution_count": 4,
   "metadata": {},
   "outputs": [],
   "source": [
    "#! pip install lightfm"
   ]
  },
  {
   "source": [
    "### https://making.lyst.com/lightfm/docs/lightfm.html"
   ],
   "cell_type": "markdown",
   "metadata": {}
  },
  {
   "cell_type": "code",
   "execution_count": 2,
   "metadata": {},
   "outputs": [],
   "source": [
    "df = pd.read_csv('./data/ratings_train.csv')\n",
    "mg = pd.read_csv('./data/movie_genres.csv')"
   ]
  },
  {
   "source": [
    "## Init Lightfm"
   ],
   "cell_type": "markdown",
   "metadata": {}
  },
  {
   "cell_type": "code",
   "execution_count": 3,
   "metadata": {},
   "outputs": [
    {
     "output_type": "execute_result",
     "data": {
      "text/plain": [
       "(2113, 10197)"
      ]
     },
     "metadata": {},
     "execution_count": 3
    }
   ],
   "source": [
    "ds = lfm.data.Dataset()\n",
    "ds.fit(users=df[\"userID\"].unique(), items=mg[\"movieID\"].unique())\n",
    "ds.interactions_shape()"
   ]
  },
  {
   "cell_type": "code",
   "execution_count": 4,
   "metadata": {},
   "outputs": [
    {
     "output_type": "execute_result",
     "data": {
      "text/plain": [
       "<2113x10197 sparse matrix of type '<class 'numpy.int32'>'\n",
       "\twith 770089 stored elements in COOrdinate format>"
      ]
     },
     "metadata": {},
     "execution_count": 4
    }
   ],
   "source": [
    "(interactions, weights) = ds.build_interactions(df[['userID', 'movieID', 'rating']].itertuples(index=False))\n",
    "interactions"
   ]
  },
  {
   "cell_type": "code",
   "execution_count": 5,
   "metadata": {},
   "outputs": [
    {
     "output_type": "execute_result",
     "data": {
      "text/plain": [
       "<lightfm.lightfm.LightFM at 0x7fd432d42c10>"
      ]
     },
     "metadata": {},
     "execution_count": 5
    }
   ],
   "source": [
    "train, test = lfm.cross_validation.random_train_test_split(interactions, test_percentage=0.2)\n",
    "model = lfm.LightFM(no_components=20)\n",
    "model.fit(train, epochs=10, num_threads=2)"
   ]
  },
  {
   "cell_type": "code",
   "execution_count": 6,
   "metadata": {},
   "outputs": [
    {
     "output_type": "stream",
     "name": "stdout",
     "text": [
      "Precision en train: 0.5128726959228516\nPrecision en test: 0.13170617818832397\n"
     ]
    }
   ],
   "source": [
    "train_precision = lfm.evaluation.precision_at_k(model, train, k=10, num_threads=2).mean()\n",
    "test_precision  = lfm.evaluation.precision_at_k(model, test,  k=10, num_threads=2).mean()\n",
    "print('Precision en train: {}'.format(train_precision))\n",
    "print('Precision en test: {}'.format(test_precision))"
   ]
  },
  {
   "source": [
    "## Item Features"
   ],
   "cell_type": "markdown",
   "metadata": {}
  },
  {
   "cell_type": "code",
   "execution_count": 7,
   "metadata": {},
   "outputs": [
    {
     "output_type": "execute_result",
     "data": {
      "text/plain": [
       "(2113, 10197)"
      ]
     },
     "metadata": {},
     "execution_count": 7
    }
   ],
   "source": [
    "ds = lfm.data.Dataset()\n",
    "ds.fit(users=df[\"userID\"].unique(), items=mg[\"movieID\"].unique(), item_features=mg[\"genre\"].unique())\n",
    "ds.interactions_shape()"
   ]
  },
  {
   "cell_type": "code",
   "execution_count": 8,
   "metadata": {},
   "outputs": [
    {
     "output_type": "execute_result",
     "data": {
      "text/plain": [
       "array(['Adventure', 'Animation', 'Children', 'Comedy', 'Fantasy',\n",
       "       'Romance', 'Drama', 'Action', 'Crime', 'Thriller', 'Horror',\n",
       "       'Mystery', 'Sci-Fi', 'IMAX', 'Documentary', 'War', 'Musical',\n",
       "       'Film-Noir', 'Western', 'Short'], dtype=object)"
      ]
     },
     "metadata": {},
     "execution_count": 8
    }
   ],
   "source": [
    "mg[\"genre\"].unique()\n"
   ]
  },
  {
   "cell_type": "code",
   "execution_count": 9,
   "metadata": {},
   "outputs": [],
   "source": [
    "item_features = ds.build_item_features([(i, mg.loc[mg[\"movieID\"] == i, \"genre\"].values) for i in mg[\"movieID\"].values])"
   ]
  },
  {
   "cell_type": "code",
   "execution_count": 35,
   "metadata": {},
   "outputs": [
    {
     "output_type": "execute_result",
     "data": {
      "text/plain": [
       "<2113x10197 sparse matrix of type '<class 'numpy.int32'>'\n",
       "\twith 770089 stored elements in COOrdinate format>"
      ]
     },
     "metadata": {},
     "execution_count": 35
    }
   ],
   "source": [
    "(interactions, weights) = ds.build_interactions(df[['userID', 'movieID', 'rating']].itertuples(index=False))\n",
    "interactions"
   ]
  },
  {
   "cell_type": "code",
   "execution_count": 36,
   "metadata": {},
   "outputs": [
    {
     "output_type": "execute_result",
     "data": {
      "text/plain": [
       "<lightfm.lightfm.LightFM at 0x7fed10cc71d0>"
      ]
     },
     "metadata": {},
     "execution_count": 36
    }
   ],
   "source": [
    "train, test = lfm.cross_validation.random_train_test_split(interactions, test_percentage=0.2)\n",
    "model = lfm.LightFM(no_components=20)\n",
    "model.fit(train, epochs=10, item_features=item_features, num_threads=2)"
   ]
  },
  {
   "cell_type": "code",
   "execution_count": 37,
   "metadata": {},
   "outputs": [
    {
     "output_type": "stream",
     "name": "stdout",
     "text": [
      "Precision en train: 0.046142928302288055\nPrecision en test: 0.010379146784543991\n"
     ]
    }
   ],
   "source": [
    "train_precision = lfm.evaluation.precision_at_k(model, train, item_features=item_features, k=10, num_threads=2).mean()\n",
    "test_precision  = lfm.evaluation.precision_at_k(model, test,  item_features=item_features, k=10, num_threads=2).mean()\n",
    "print('Precision en train: {}'.format(train_precision))\n",
    "print('Precision en test: {}'.format(test_precision))"
   ]
  },
  {
   "cell_type": "code",
   "execution_count": null,
   "metadata": {},
   "outputs": [],
   "source": []
  }
 ],
 "metadata": {
  "kernelspec": {
   "name": "python3",
   "display_name": "Python 3.7.5 64-bit ('anaconda3': virtualenv)",
   "metadata": {
    "interpreter": {
     "hash": "9a37e5188a605e95d3282a4fb8007f4c3c52885d8cd12f2ffcfc398feaa7ff36"
    }
   }
  },
  "language_info": {
   "codemirror_mode": {
    "name": "ipython",
    "version": 3
   },
   "file_extension": ".py",
   "mimetype": "text/x-python",
   "name": "python",
   "nbconvert_exporter": "python",
   "pygments_lexer": "ipython3",
   "version": "3.7.5-final"
  }
 },
 "nbformat": 4,
 "nbformat_minor": 4
}