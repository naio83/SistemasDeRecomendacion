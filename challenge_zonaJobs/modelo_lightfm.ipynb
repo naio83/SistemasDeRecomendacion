{
 "cells": [
  {
   "cell_type": "code",
   "execution_count": 67,
   "metadata": {},
   "outputs": [],
   "source": [
    "import pandas as pd\n",
    "import numpy as np\n",
    "import random\n",
    "import matplotlib.pyplot as plt\n",
    "%matplotlib inline\n",
    "from sklearn.model_selection import train_test_split\n",
    "from sklearn.metrics import mean_squared_error, r2_score\n",
    "from tqdm import tqdm, tqdm_notebook\n",
    "import time, os\n",
    "import lightfm as lfm\n",
    "from lightfm import data\n",
    "from lightfm import cross_validation\n",
    "from lightfm import evaluation\n",
    "from lightfm.evaluation import auc_score, precision_at_k"
   ]
  },
  {
   "source": [
    "## Carga de datos"
   ],
   "cell_type": "markdown",
   "metadata": {}
  },
  {
   "cell_type": "code",
   "execution_count": 51,
   "metadata": {},
   "outputs": [
    {
     "output_type": "stream",
     "name": "stdout",
     "text": [
      "(312464, 2)\n(6468689, 3)\n"
     ]
    }
   ],
   "source": [
    "df_test = pd.read_csv('./data/ejemplo_de_solucion.csv')\n",
    "df_train = pd.read_csv(\"./data/postulaciones/postulaciones_train.csv\")\n",
    "print(df_test.shape)\n",
    "print(df_train.shape)"
   ]
  },
  {
   "cell_type": "code",
   "execution_count": 52,
   "metadata": {},
   "outputs": [
    {
     "output_type": "stream",
     "name": "stdout",
     "text": [
      "(283163, 7)\n(18362, 7)\n"
     ]
    }
   ],
   "source": [
    "df_postulante = pd.read_csv(\"./data/postulantes/postulantes_train_clean.csv\")\n",
    "df_avisos = pd.read_csv(\"./data/avisos/avisos_filtrados.csv\")\n",
    "print(df_postulante.shape)\n",
    "print(df_avisos.shape)"
   ]
  },
  {
   "cell_type": "code",
   "execution_count": 3,
   "metadata": {},
   "outputs": [
    {
     "output_type": "execute_result",
     "data": {
      "text/plain": [
       "      idaviso                                         titulo  \\\n",
       "0     8725750               VENDEDOR/A PROVINCIA DE SANTA FE   \n",
       "1    17903700                                     Enfermeras   \n",
       "2  1000610287  CHOFER DE CAMIONETA BAHIA BLANCA - PUNTA ALTA   \n",
       "3  1001135716  Vendedor Viajante TUCUMAN/SANTIAGO DEL ESTERO   \n",
       "4  1001326344       Vendedor Viajante RECONQUISTA/AVELLANEDA   \n",
       "\n",
       "          nivel_laboral nombre_area     denominacion_empresa online_desde  \\\n",
       "0  Senior / Semi-Senior   Comercial                   VENTOR   2018-01-15   \n",
       "1  Senior / Semi-Senior       Salud  Farmacias Central Oeste   2018-03-20   \n",
       "2  Senior / Semi-Senior  Transporte      Wurth Argentina S.A   2018-01-15   \n",
       "3  Senior / Semi-Senior      Ventas      Wurth Argentina S.A   2018-01-15   \n",
       "4  Senior / Semi-Senior      Ventas      Wurth Argentina S.A   2018-01-15   \n",
       "\n",
       "  online_hasta  \n",
       "0   2018-02-10  \n",
       "1   2018-04-17  \n",
       "2   2018-03-17  \n",
       "3   2018-04-16  \n",
       "4   2018-03-27  "
      ],
      "text/html": "<div>\n<style scoped>\n    .dataframe tbody tr th:only-of-type {\n        vertical-align: middle;\n    }\n\n    .dataframe tbody tr th {\n        vertical-align: top;\n    }\n\n    .dataframe thead th {\n        text-align: right;\n    }\n</style>\n<table border=\"1\" class=\"dataframe\">\n  <thead>\n    <tr style=\"text-align: right;\">\n      <th></th>\n      <th>idaviso</th>\n      <th>titulo</th>\n      <th>nivel_laboral</th>\n      <th>nombre_area</th>\n      <th>denominacion_empresa</th>\n      <th>online_desde</th>\n      <th>online_hasta</th>\n    </tr>\n  </thead>\n  <tbody>\n    <tr>\n      <th>0</th>\n      <td>8725750</td>\n      <td>VENDEDOR/A PROVINCIA DE SANTA FE</td>\n      <td>Senior / Semi-Senior</td>\n      <td>Comercial</td>\n      <td>VENTOR</td>\n      <td>2018-01-15</td>\n      <td>2018-02-10</td>\n    </tr>\n    <tr>\n      <th>1</th>\n      <td>17903700</td>\n      <td>Enfermeras</td>\n      <td>Senior / Semi-Senior</td>\n      <td>Salud</td>\n      <td>Farmacias Central Oeste</td>\n      <td>2018-03-20</td>\n      <td>2018-04-17</td>\n    </tr>\n    <tr>\n      <th>2</th>\n      <td>1000610287</td>\n      <td>CHOFER DE CAMIONETA BAHIA BLANCA - PUNTA ALTA</td>\n      <td>Senior / Semi-Senior</td>\n      <td>Transporte</td>\n      <td>Wurth Argentina S.A</td>\n      <td>2018-01-15</td>\n      <td>2018-03-17</td>\n    </tr>\n    <tr>\n      <th>3</th>\n      <td>1001135716</td>\n      <td>Vendedor Viajante TUCUMAN/SANTIAGO DEL ESTERO</td>\n      <td>Senior / Semi-Senior</td>\n      <td>Ventas</td>\n      <td>Wurth Argentina S.A</td>\n      <td>2018-01-15</td>\n      <td>2018-04-16</td>\n    </tr>\n    <tr>\n      <th>4</th>\n      <td>1001326344</td>\n      <td>Vendedor Viajante RECONQUISTA/AVELLANEDA</td>\n      <td>Senior / Semi-Senior</td>\n      <td>Ventas</td>\n      <td>Wurth Argentina S.A</td>\n      <td>2018-01-15</td>\n      <td>2018-03-27</td>\n    </tr>\n  </tbody>\n</table>\n</div>"
     },
     "metadata": {},
     "execution_count": 3
    }
   ],
   "source": [
    "df_avisos.head()"
   ]
  },
  {
   "cell_type": "code",
   "execution_count": 4,
   "metadata": {},
   "outputs": [
    {
     "output_type": "execute_result",
     "data": {
      "text/plain": [
       "array(['VENTOR', 'Farmacias Central Oeste', 'Wurth Argentina S.A', ...,\n",
       "       'ISAC', 'País Marcela', 'GO-BETWEEN RRHH'], dtype=object)"
      ]
     },
     "metadata": {},
     "execution_count": 4
    }
   ],
   "source": [
    "df_avisos.denominacion_empresa.unique()"
   ]
  },
  {
   "cell_type": "code",
   "execution_count": 5,
   "metadata": {},
   "outputs": [],
   "source": [
    "df_avisos.titulo.unique()\n",
    "i_f=[]\n",
    "for titulo in df_avisos.titulo.unique():\n",
    "    i_f.append('titulo:'+titulo)\n",
    "for nivel_laboral in df_avisos.nivel_laboral.unique():\n",
    "    i_f.append('nivel_laboral:'+nivel_laboral)\n",
    "for nombre_area in df_avisos.nombre_area.unique():\n",
    "    i_f.append('nombre_area:'+nombre_area)\n",
    "for de in df_avisos.denominacion_empresa.unique():\n",
    "    i_f.append('denominacion_empresa:'+str(de))"
   ]
  },
  {
   "cell_type": "code",
   "execution_count": 6,
   "metadata": {},
   "outputs": [
    {
     "output_type": "execute_result",
     "data": {
      "text/plain": [
       "  idpostulante fechanacimiento  sexo             nombre    estado     idaviso  \\\n",
       "0         NM5M      1970-12-03   FEM         Secundario  Graduado  1112257047   \n",
       "1         5awk      1962-12-04   FEM      Universitario  Graduado  1112237522   \n",
       "2         ZaO5      1978-08-10   FEM  Terciario/Técnico  Graduado  1112286523   \n",
       "3         NdJl      1969-05-09  MASC           Posgrado  En Curso  1112261212   \n",
       "4         eo2p      1981-02-16  MASC         Secundario  Graduado  1112301117   \n",
       "\n",
       "      fechapostulacion  \n",
       "0  2018-01-15 16:22:34  \n",
       "1  2018-01-25 18:55:03  \n",
       "2  2018-01-24 15:07:39  \n",
       "3  2018-01-16 08:50:30  \n",
       "4  2018-02-01 13:58:50  "
      ],
      "text/html": "<div>\n<style scoped>\n    .dataframe tbody tr th:only-of-type {\n        vertical-align: middle;\n    }\n\n    .dataframe tbody tr th {\n        vertical-align: top;\n    }\n\n    .dataframe thead th {\n        text-align: right;\n    }\n</style>\n<table border=\"1\" class=\"dataframe\">\n  <thead>\n    <tr style=\"text-align: right;\">\n      <th></th>\n      <th>idpostulante</th>\n      <th>fechanacimiento</th>\n      <th>sexo</th>\n      <th>nombre</th>\n      <th>estado</th>\n      <th>idaviso</th>\n      <th>fechapostulacion</th>\n    </tr>\n  </thead>\n  <tbody>\n    <tr>\n      <th>0</th>\n      <td>NM5M</td>\n      <td>1970-12-03</td>\n      <td>FEM</td>\n      <td>Secundario</td>\n      <td>Graduado</td>\n      <td>1112257047</td>\n      <td>2018-01-15 16:22:34</td>\n    </tr>\n    <tr>\n      <th>1</th>\n      <td>5awk</td>\n      <td>1962-12-04</td>\n      <td>FEM</td>\n      <td>Universitario</td>\n      <td>Graduado</td>\n      <td>1112237522</td>\n      <td>2018-01-25 18:55:03</td>\n    </tr>\n    <tr>\n      <th>2</th>\n      <td>ZaO5</td>\n      <td>1978-08-10</td>\n      <td>FEM</td>\n      <td>Terciario/Técnico</td>\n      <td>Graduado</td>\n      <td>1112286523</td>\n      <td>2018-01-24 15:07:39</td>\n    </tr>\n    <tr>\n      <th>3</th>\n      <td>NdJl</td>\n      <td>1969-05-09</td>\n      <td>MASC</td>\n      <td>Posgrado</td>\n      <td>En Curso</td>\n      <td>1112261212</td>\n      <td>2018-01-16 08:50:30</td>\n    </tr>\n    <tr>\n      <th>4</th>\n      <td>eo2p</td>\n      <td>1981-02-16</td>\n      <td>MASC</td>\n      <td>Secundario</td>\n      <td>Graduado</td>\n      <td>1112301117</td>\n      <td>2018-02-01 13:58:50</td>\n    </tr>\n  </tbody>\n</table>\n</div>"
     },
     "metadata": {},
     "execution_count": 6
    }
   ],
   "source": [
    "df_postulante.head()"
   ]
  },
  {
   "cell_type": "code",
   "execution_count": 7,
   "metadata": {},
   "outputs": [
    {
     "output_type": "execute_result",
     "data": {
      "text/plain": [
       "['sexo:FEM',\n",
       " 'sexo:MASC',\n",
       " 'sexo:NO_DECLARA',\n",
       " 'nombre:Secundario',\n",
       " 'nombre:Universitario',\n",
       " 'nombre:Terciario/Técnico',\n",
       " 'nombre:Posgrado',\n",
       " 'nombre:Otro',\n",
       " 'nombre:Master',\n",
       " 'nombre:Doctorado',\n",
       " 'estado:Graduado',\n",
       " 'estado:En Curso',\n",
       " 'estado:Abandonado']"
      ]
     },
     "metadata": {},
     "execution_count": 7
    }
   ],
   "source": [
    "# feature_name,feature_value posibilities\n",
    "# res = str(x)+ \":\" +str(y)\n",
    "u_f=[]\n",
    "u_f.append('sexo:FEM')\n",
    "u_f.append('sexo:MASC')\n",
    "u_f.append('sexo:NO_DECLARA')\n",
    "u_f.append('nombre:Secundario')\n",
    "u_f.append('nombre:Universitario')\n",
    "u_f.append('nombre:Terciario/Técnico')\n",
    "u_f.append('nombre:Posgrado')\n",
    "u_f.append('nombre:Otro')\n",
    "u_f.append('nombre:Master')\n",
    "u_f.append('nombre:Doctorado')\n",
    "u_f.append('estado:Graduado')\n",
    "u_f.append('estado:En Curso')\n",
    "u_f.append('estado:Abandonado')\n",
    "u_f"
   ]
  },
  {
   "cell_type": "code",
   "execution_count": 8,
   "metadata": {},
   "outputs": [
    {
     "output_type": "execute_result",
     "data": {
      "text/plain": [
       "(302787, 18362)"
      ]
     },
     "metadata": {},
     "execution_count": 8
    }
   ],
   "source": [
    "# we call fit to supply userid, item id and user/item features \n",
    "ds = lfm.data.Dataset()\n",
    "ds.fit(users=df_train['idpostulante'].unique(), # list of all the users\n",
    "       items=df_avisos[\"idaviso\"].unique(), #list of all the items\n",
    "       user_features = u_f, #additional user features\n",
    "       item_features = i_f) #additional item features\n",
    "ds.interactions_shape()"
   ]
  },
  {
   "cell_type": "code",
   "execution_count": 9,
   "metadata": {},
   "outputs": [
    {
     "output_type": "execute_result",
     "data": {
      "text/plain": [
       "<302787x18362 sparse matrix of type '<class 'numpy.int32'>'\n",
       "\twith 6468689 stored elements in COOrdinate format>"
      ]
     },
     "metadata": {},
     "execution_count": 9
    }
   ],
   "source": [
    "(interactions, weights) = ds.build_interactions(df_train[['idpostulante','idaviso']].itertuples(index=False))\n",
    "interactions"
   ]
  },
  {
   "cell_type": "code",
   "execution_count": 10,
   "metadata": {},
   "outputs": [],
   "source": [
    "#interactions.todense()\n",
    "#weights.todense()"
   ]
  },
  {
   "cell_type": "code",
   "execution_count": 11,
   "metadata": {
    "tags": []
   },
   "outputs": [
    {
     "output_type": "display_data",
     "data": {
      "text/plain": "HBox(children=(FloatProgress(value=1.0, bar_style='info', max=1.0), HTML(value='')))",
      "application/vnd.jupyter.widget-view+json": {
       "version_major": 2,
       "version_minor": 0,
       "model_id": "fb74c6bf53c74c588b4e00d332b3c015"
      }
     },
     "metadata": {}
    },
    {
     "output_type": "stream",
     "name": "stdout",
     "text": [
      "\n"
     ]
    }
   ],
   "source": [
    "#for titulo in df_avisos.titulo.unique():\n",
    "#    i_f.append('titulo:'+titulo)\n",
    "uf_list=[]\n",
    "for row in tqdm_notebook(df_postulante.itertuples()):\n",
    "    uf=[]\n",
    "    uf.append('sexo:'+row.sexo)\n",
    "    uf.append('nombre:'+row.nombre)\n",
    "    uf.append('estado:'+row.estado)\n",
    "    uf_list.append(uf)\n",
    "#user_tuples    "
   ]
  },
  {
   "cell_type": "code",
   "execution_count": 12,
   "metadata": {},
   "outputs": [],
   "source": [
    "user_tuple = list(zip(df_postulante.idpostulante, uf_list))"
   ]
  },
  {
   "cell_type": "code",
   "execution_count": 13,
   "metadata": {},
   "outputs": [
    {
     "output_type": "execute_result",
     "data": {
      "text/plain": [
       "[('NM5M', ['sexo:FEM', 'nombre:Secundario', 'estado:Graduado']),\n",
       " ('5awk', ['sexo:FEM', 'nombre:Universitario', 'estado:Graduado']),\n",
       " ('ZaO5', ['sexo:FEM', 'nombre:Terciario/Técnico', 'estado:Graduado']),\n",
       " ('NdJl', ['sexo:MASC', 'nombre:Posgrado', 'estado:En Curso']),\n",
       " ('eo2p', ['sexo:MASC', 'nombre:Secundario', 'estado:Graduado']),\n",
       " ('Ez8J', ['sexo:MASC', 'nombre:Universitario', 'estado:Abandonado']),\n",
       " ('aOQq', ['sexo:MASC', 'nombre:Universitario', 'estado:Abandonado']),\n",
       " ('8BkL', ['sexo:FEM', 'nombre:Universitario', 'estado:En Curso']),\n",
       " ('1d2B', ['sexo:MASC', 'nombre:Universitario', 'estado:En Curso']),\n",
       " ('NPBx', ['sexo:MASC', 'nombre:Universitario', 'estado:En Curso'])]"
      ]
     },
     "metadata": {},
     "execution_count": 13
    }
   ],
   "source": [
    "user_tuple[:10]"
   ]
  },
  {
   "cell_type": "code",
   "execution_count": 14,
   "metadata": {},
   "outputs": [],
   "source": [
    "user_features = ds.build_user_features(user_tuple, normalize= False)"
   ]
  },
  {
   "cell_type": "code",
   "execution_count": 15,
   "metadata": {},
   "outputs": [],
   "source": [
    "user_id_map, user_feature_map, item_id_map, item_feature_map = ds.mapping()\n",
    "#user_feature_map"
   ]
  },
  {
   "cell_type": "code",
   "execution_count": 23,
   "metadata": {},
   "outputs": [
    {
     "output_type": "stream",
     "name": "stdout",
     "text": [
      "CPU times: user 5min 22s, sys: 1.42 s, total: 5min 23s\nWall time: 53.4 s\ntiempo:  53.40120720863342\n"
     ]
    }
   ],
   "source": [
    "#Modelo\n",
    "t_0 = time.time()\n",
    "model = lfm.LightFM(loss='warp')\n",
    "%time model.fit(interactions,user_features= user_features,sample_weight= weights,epochs=10,num_threads=8)\n",
    "print (\"tiempo: \", time.time() - t_0)"
   ]
  },
  {
   "cell_type": "code",
   "execution_count": 56,
   "metadata": {},
   "outputs": [],
   "source": [
    "#print(\"Train precision: %.2f\" % precision_at_k(model, df_train, k=5).mean())"
   ]
  },
  {
   "cell_type": "code",
   "execution_count": 57,
   "metadata": {},
   "outputs": [
    {
     "output_type": "stream",
     "name": "stdout",
     "text": [
      "Hybrid training set AUC: 0.9701069\ntiempo:  304.5644133090973\n"
     ]
    }
   ],
   "source": [
    "t_0 = time.time()\n",
    "train_auc = auc_score(model,\n",
    "                      interactions,\n",
    "                      user_features=user_features\n",
    "                     ).mean()\n",
    "print('Hybrid training set AUC: %s' % train_auc)\n",
    "print (\"tiempo: \", time.time() - t_0)"
   ]
  },
  {
   "cell_type": "code",
   "execution_count": 24,
   "metadata": {},
   "outputs": [
    {
     "output_type": "execute_result",
     "data": {
      "text/plain": [
       "array([ 0.07864339, -0.63615018, -0.64637917, ..., -1.33148825,\n",
       "       -1.76895821, -1.01004422])"
      ]
     },
     "metadata": {},
     "execution_count": 24
    }
   ],
   "source": [
    "# Prediccion para un usuario existente\n",
    "user_x = user_id_map['1d2B']\n",
    "n_users, n_items = interactions.shape # number of users * number of items\n",
    "predict_scores = model.predict(user_x, np.arange(n_items)) # means predict for all \n",
    "predict_scores"
   ]
  },
  {
   "cell_type": "code",
   "execution_count": 25,
   "metadata": {},
   "outputs": [
    {
     "output_type": "execute_result",
     "data": {
      "text/plain": [
       "array([1.32456017, 1.10609603, 1.06191337, 0.8762691 , 0.85244226,\n",
       "       0.84130436, 0.81828463, 0.71243286, 0.69268149, 0.68734455])"
      ]
     },
     "metadata": {},
     "execution_count": 25
    }
   ],
   "source": [
    "np.sort(predict_scores)[::-1][:10]"
   ]
  },
  {
   "cell_type": "code",
   "execution_count": 26,
   "metadata": {},
   "outputs": [
    {
     "output_type": "execute_result",
     "data": {
      "text/plain": [
       "array([10693,  2694,    66,  2223,  8559,  3757,  2717, 10374, 17220,\n",
       "        7620])"
      ]
     },
     "metadata": {},
     "execution_count": 26
    }
   ],
   "source": [
    "# Me da las posiciones donde estan los avisos de mayor score   \n",
    "posiciones_scores = np.argsort(predict_scores)[::-1][:10]\n",
    "posiciones_scores"
   ]
  },
  {
   "cell_type": "code",
   "execution_count": 30,
   "metadata": {},
   "outputs": [],
   "source": [
    "items=df_avisos[\"idaviso\"].unique()"
   ]
  },
  {
   "cell_type": "code",
   "execution_count": 28,
   "metadata": {},
   "outputs": [
    {
     "output_type": "execute_result",
     "data": {
      "text/plain": [
       "array([1112206678, 1112033906, 1111753681, 1112349451, 1112260111,\n",
       "       1112292851, 1112094756, 1112196813, 1112403061, 1111662226])"
      ]
     },
     "metadata": {},
     "execution_count": 28
    }
   ],
   "source": [
    "items[posiciones_scores]"
   ]
  },
  {
   "cell_type": "code",
   "execution_count": 29,
   "metadata": {},
   "outputs": [
    {
     "output_type": "execute_result",
     "data": {
      "text/plain": [
       "       idaviso idpostulante     fechapostulacion\n",
       "91  1112020573         1d2B  2018-02-19 07:01:34\n",
       "92  1112325331         1d2B  2018-02-19 07:04:50\n",
       "93  1112343340         1d2B  2018-02-26 21:54:31"
      ],
      "text/html": "<div>\n<style scoped>\n    .dataframe tbody tr th:only-of-type {\n        vertical-align: middle;\n    }\n\n    .dataframe tbody tr th {\n        vertical-align: top;\n    }\n\n    .dataframe thead th {\n        text-align: right;\n    }\n</style>\n<table border=\"1\" class=\"dataframe\">\n  <thead>\n    <tr style=\"text-align: right;\">\n      <th></th>\n      <th>idaviso</th>\n      <th>idpostulante</th>\n      <th>fechapostulacion</th>\n    </tr>\n  </thead>\n  <tbody>\n    <tr>\n      <th>91</th>\n      <td>1112020573</td>\n      <td>1d2B</td>\n      <td>2018-02-19 07:01:34</td>\n    </tr>\n    <tr>\n      <th>92</th>\n      <td>1112325331</td>\n      <td>1d2B</td>\n      <td>2018-02-19 07:04:50</td>\n    </tr>\n    <tr>\n      <th>93</th>\n      <td>1112343340</td>\n      <td>1d2B</td>\n      <td>2018-02-26 21:54:31</td>\n    </tr>\n  </tbody>\n</table>\n</div>"
     },
     "metadata": {},
     "execution_count": 29
    }
   ],
   "source": [
    "df_train.loc[df_train['idpostulante']=='1d2B']"
   ]
  },
  {
   "cell_type": "code",
   "execution_count": 39,
   "metadata": {},
   "outputs": [
    {
     "output_type": "execute_result",
     "data": {
      "text/plain": [
       "0    1112257047\n",
       "1    1111920714\n",
       "2    1112346945\n",
       "3    1112345547\n",
       "Name: idaviso, dtype: int64"
      ]
     },
     "metadata": {},
     "execution_count": 39
    }
   ],
   "source": [
    "df_train.loc[df_train['idpostulante']=='NM5M'].idaviso"
   ]
  },
  {
   "cell_type": "code",
   "execution_count": 56,
   "metadata": {},
   "outputs": [
    {
     "output_type": "stream",
     "name": "stdout",
     "text": [
      "unicos de test:  41204\ncompartidos con train:  115028\n"
     ]
    }
   ],
   "source": [
    "idpost_train = df_train.idpostulante\n",
    "idpost_test = df_test.idpostulante\n",
    "idpost_train_set = set(idpost_train.unique().tolist())\n",
    "idpost_test_set = set(idpost_test.unique().tolist())\n",
    "\n",
    "test_unique = (idpost_test_set - idpost_train_set)\n",
    "test_intersect = (idpost_test_set - test_unique)\n",
    "print(\"unicos de test: \",len(test_unique ))\n",
    "print(\"compartidos con train: \", len(test_intersect))"
   ]
  },
  {
   "cell_type": "code",
   "execution_count": 64,
   "metadata": {},
   "outputs": [],
   "source": [
    "users = test_intersect\n",
    "users_unknown = test_unique"
   ]
  },
  {
   "cell_type": "code",
   "execution_count": 136,
   "metadata": {
    "tags": []
   },
   "outputs": [
    {
     "output_type": "error",
     "ename": "TypeError",
     "evalue": "'set' object is not subscriptable",
     "traceback": [
      "\u001b[0;31m---------------------------------------------------------------------------\u001b[0m",
      "\u001b[0;31mTypeError\u001b[0m                                 Traceback (most recent call last)",
      "\u001b[0;32m<ipython-input-136-dd975fbfd480>\u001b[0m in \u001b[0;36m<module>\u001b[0;34m\u001b[0m\n\u001b[1;32m      1\u001b[0m \u001b[0mscored_list\u001b[0m\u001b[0;34m=\u001b[0m\u001b[0;34m[\u001b[0m\u001b[0;34m]\u001b[0m\u001b[0;34m\u001b[0m\u001b[0;34m\u001b[0m\u001b[0m\n\u001b[0;32m----> 2\u001b[0;31m \u001b[0;32mfor\u001b[0m \u001b[0muser\u001b[0m \u001b[0;32min\u001b[0m \u001b[0mtqdm_notebook\u001b[0m\u001b[0;34m(\u001b[0m\u001b[0musers\u001b[0m\u001b[0;34m[\u001b[0m\u001b[0;36m1\u001b[0m\u001b[0;34m]\u001b[0m\u001b[0;34m)\u001b[0m\u001b[0;34m:\u001b[0m\u001b[0;34m\u001b[0m\u001b[0;34m\u001b[0m\u001b[0m\n\u001b[0m\u001b[1;32m      3\u001b[0m     \u001b[0muser_x\u001b[0m \u001b[0;34m=\u001b[0m \u001b[0muser_id_map\u001b[0m\u001b[0;34m[\u001b[0m\u001b[0muser\u001b[0m\u001b[0;34m]\u001b[0m\u001b[0;34m\u001b[0m\u001b[0;34m\u001b[0m\u001b[0m\n\u001b[1;32m      4\u001b[0m     \u001b[0mpredict_scores\u001b[0m \u001b[0;34m=\u001b[0m \u001b[0mmodel\u001b[0m\u001b[0;34m.\u001b[0m\u001b[0mpredict\u001b[0m\u001b[0;34m(\u001b[0m\u001b[0muser_x\u001b[0m\u001b[0;34m,\u001b[0m \u001b[0mnp\u001b[0m\u001b[0;34m.\u001b[0m\u001b[0marange\u001b[0m\u001b[0;34m(\u001b[0m\u001b[0mn_items\u001b[0m\u001b[0;34m)\u001b[0m\u001b[0;34m)\u001b[0m\u001b[0;34m\u001b[0m\u001b[0;34m\u001b[0m\u001b[0m\n\u001b[1;32m      5\u001b[0m     \u001b[0mavisos\u001b[0m \u001b[0;34m=\u001b[0m \u001b[0mitems\u001b[0m\u001b[0;34m[\u001b[0m\u001b[0mnp\u001b[0m\u001b[0;34m.\u001b[0m\u001b[0margsort\u001b[0m\u001b[0;34m(\u001b[0m\u001b[0mpredict_scores\u001b[0m\u001b[0;34m)\u001b[0m\u001b[0;34m[\u001b[0m\u001b[0;34m:\u001b[0m\u001b[0;34m:\u001b[0m\u001b[0;34m-\u001b[0m\u001b[0;36m1\u001b[0m\u001b[0;34m]\u001b[0m\u001b[0;34m[\u001b[0m\u001b[0;34m:\u001b[0m\u001b[0;36m10\u001b[0m\u001b[0;34m]\u001b[0m\u001b[0;34m]\u001b[0m\u001b[0;34m\u001b[0m\u001b[0;34m\u001b[0m\u001b[0m\n",
      "\u001b[0;31mTypeError\u001b[0m: 'set' object is not subscriptable"
     ]
    }
   ],
   "source": [
    "scored_list=[]\n",
    "for user in tqdm_notebook(users):\n",
    "    user_x = user_id_map[user]\n",
    "    predict_scores = model.predict(user_x, np.arange(n_items))\n",
    "    avisos = items[np.argsort(predict_scores)[::-1][:10]]\n",
    "    for aviso in avisos:\n",
    "        user_aviso=dict()\n",
    "        #user_aviso[user] = aviso\n",
    "        user_aviso[\"idaviso\"] = aviso\n",
    "        user_aviso[\"idpostulante\"] = user\n",
    "        scored_list.append(user_aviso)\n",
    "\n",
    "#scored_list"
   ]
  },
  {
   "cell_type": "code",
   "execution_count": 132,
   "metadata": {},
   "outputs": [
    {
     "output_type": "execute_result",
     "data": {
      "text/plain": [
       "['Dr6ArVA']"
      ]
     },
     "metadata": {},
     "execution_count": 132
    }
   ],
   "source": [
    "#value=scored_list[:10][0].keys()\n",
    "df_modelo = pd.DataFrame(scored_list)\n",
    "df_modelo.head()\n"
   ]
  },
  {
   "cell_type": "code",
   "execution_count": 69,
   "metadata": {},
   "outputs": [
    {
     "output_type": "display_data",
     "data": {
      "text/plain": "HBox(children=(FloatProgress(value=0.0, max=41204.0), HTML(value='')))",
      "application/vnd.jupyter.widget-view+json": {
       "version_major": 2,
       "version_minor": 0,
       "model_id": "58120986808b4d24b826435c0b212702"
      }
     },
     "metadata": {}
    },
    {
     "output_type": "stream",
     "name": "stdout",
     "text": [
      "\n"
     ]
    }
   ],
   "source": [
    "scored_list_unknow = []\n",
    "\n",
    "for user_unknown in tqdm_notebook(users_unknown):\n",
    "    for index in range(10):\n",
    "        user_aviso=dict()\n",
    "        user_aviso[\"idaviso\"] = random.choices(avisos)[0]\n",
    "        user_aviso[\"idpostulante\"] = user_unknown\n",
    "        scored_list_unknow.append(user_aviso)\n",
    "\n",
    "#scored_list_unknow"
   ]
  },
  {
   "cell_type": "code",
   "execution_count": 71,
   "metadata": {},
   "outputs": [
    {
     "output_type": "execute_result",
     "data": {
      "text/plain": [
       "      idaviso idpostulante\n",
       "0  1112206678      PmGvRbb\n",
       "1  1112266595      PmGvRbb\n",
       "2  1112341365      PmGvRbb\n",
       "3  1112341365      PmGvRbb\n",
       "4  1112296005      PmGvRbb"
      ],
      "text/html": "<div>\n<style scoped>\n    .dataframe tbody tr th:only-of-type {\n        vertical-align: middle;\n    }\n\n    .dataframe tbody tr th {\n        vertical-align: top;\n    }\n\n    .dataframe thead th {\n        text-align: right;\n    }\n</style>\n<table border=\"1\" class=\"dataframe\">\n  <thead>\n    <tr style=\"text-align: right;\">\n      <th></th>\n      <th>idaviso</th>\n      <th>idpostulante</th>\n    </tr>\n  </thead>\n  <tbody>\n    <tr>\n      <th>0</th>\n      <td>1112206678</td>\n      <td>PmGvRbb</td>\n    </tr>\n    <tr>\n      <th>1</th>\n      <td>1112266595</td>\n      <td>PmGvRbb</td>\n    </tr>\n    <tr>\n      <th>2</th>\n      <td>1112341365</td>\n      <td>PmGvRbb</td>\n    </tr>\n    <tr>\n      <th>3</th>\n      <td>1112341365</td>\n      <td>PmGvRbb</td>\n    </tr>\n    <tr>\n      <th>4</th>\n      <td>1112296005</td>\n      <td>PmGvRbb</td>\n    </tr>\n  </tbody>\n</table>\n</div>"
     },
     "metadata": {},
     "execution_count": 71
    }
   ],
   "source": [
    "df_modelo_unknow = pd.DataFrame(scored_list_unknow)\n",
    "df_modelo_unknow.head()"
   ]
  },
  {
   "cell_type": "code",
   "execution_count": null,
   "metadata": {},
   "outputs": [],
   "source": [
    "df_modeloligthFM = df_modelo.append(df_modelo_unknow)\n",
    "df_modeloligthFM.head()"
   ]
  }
 ],
 "metadata": {
  "kernelspec": {
   "name": "python3",
   "display_name": "Python 3.7.5 64-bit ('base': conda)",
   "metadata": {
    "interpreter": {
     "hash": "9a37e5188a605e95d3282a4fb8007f4c3c52885d8cd12f2ffcfc398feaa7ff36"
    }
   }
  },
  "language_info": {
   "codemirror_mode": {
    "name": "ipython",
    "version": 3
   },
   "file_extension": ".py",
   "mimetype": "text/x-python",
   "name": "python",
   "nbconvert_exporter": "python",
   "pygments_lexer": "ipython3",
   "version": "3.7.5-final"
  }
 },
 "nbformat": 4,
 "nbformat_minor": 4
}