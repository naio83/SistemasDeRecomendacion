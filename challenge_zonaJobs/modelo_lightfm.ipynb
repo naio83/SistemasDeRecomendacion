{
 "cells": [
  {
   "cell_type": "code",
   "execution_count": 1,
   "metadata": {},
   "outputs": [],
   "source": [
    "import pandas as pd\n",
    "import numpy as np\n",
    "import random\n",
    "import matplotlib.pyplot as plt\n",
    "from sklearn.model_selection import train_test_split\n",
    "from tqdm import tqdm, tqdm_notebook\n",
    "import time, os\n",
    "import lightfm as lfm\n",
    "from lightfm import data\n",
    "from lightfm import cross_validation\n",
    "from lightfm import evaluation\n",
    "from lightfm.evaluation import auc_score, precision_at_k"
   ]
  },
  {
   "source": [
    "## Carga de datos"
   ],
   "cell_type": "markdown",
   "metadata": {}
  },
  {
   "cell_type": "code",
   "execution_count": 2,
   "metadata": {},
   "outputs": [
    {
     "output_type": "stream",
     "name": "stdout",
     "text": [
      "(312464, 2)\n(6468689, 3)\n"
     ]
    }
   ],
   "source": [
    "df_test = pd.read_csv('./data/ejemplo_de_solucion.csv')\n",
    "df_train = pd.read_csv('./data/postulaciones/postulaciones_train.csv')\n",
    "print(df_test.shape)\n",
    "print(df_train.shape)"
   ]
  },
  {
   "cell_type": "code",
   "execution_count": 3,
   "metadata": {},
   "outputs": [
    {
     "output_type": "stream",
     "name": "stdout",
     "text": [
      "(283163, 5)\n(18362, 7)\n"
     ]
    }
   ],
   "source": [
    "df_postulante = pd.read_csv(\"./data/postulantes/postulantes_justInTrain.csv\")\n",
    "df_avisos = pd.read_csv(\"./data/avisos/avisos_filtrados.csv\")\n",
    "print(df_postulante.shape)\n",
    "print(df_avisos.shape)"
   ]
  },
  {
   "cell_type": "code",
   "execution_count": 4,
   "metadata": {},
   "outputs": [],
   "source": [
    "# Reemplazo los 6 NaN que hay en denominacion_empresa por vacio\n",
    "df_avisos = df_avisos.replace(np.nan, '', regex=True)"
   ]
  },
  {
   "cell_type": "code",
   "execution_count": 5,
   "metadata": {},
   "outputs": [
    {
     "output_type": "execute_result",
     "data": {
      "text/plain": [
       "  idpostulante fechanacimiento  sexo             nombre    estado\n",
       "0         NM5M      1970-12-03   FEM         Secundario  Graduado\n",
       "1         5awk      1962-12-04   FEM      Universitario  Graduado\n",
       "2         ZaO5      1978-08-10   FEM  Terciario/Técnico  Graduado\n",
       "3         NdJl      1969-05-09  MASC           Posgrado  En Curso\n",
       "4         eo2p      1981-02-16  MASC         Secundario  Graduado"
      ],
      "text/html": "<div>\n<style scoped>\n    .dataframe tbody tr th:only-of-type {\n        vertical-align: middle;\n    }\n\n    .dataframe tbody tr th {\n        vertical-align: top;\n    }\n\n    .dataframe thead th {\n        text-align: right;\n    }\n</style>\n<table border=\"1\" class=\"dataframe\">\n  <thead>\n    <tr style=\"text-align: right;\">\n      <th></th>\n      <th>idpostulante</th>\n      <th>fechanacimiento</th>\n      <th>sexo</th>\n      <th>nombre</th>\n      <th>estado</th>\n    </tr>\n  </thead>\n  <tbody>\n    <tr>\n      <th>0</th>\n      <td>NM5M</td>\n      <td>1970-12-03</td>\n      <td>FEM</td>\n      <td>Secundario</td>\n      <td>Graduado</td>\n    </tr>\n    <tr>\n      <th>1</th>\n      <td>5awk</td>\n      <td>1962-12-04</td>\n      <td>FEM</td>\n      <td>Universitario</td>\n      <td>Graduado</td>\n    </tr>\n    <tr>\n      <th>2</th>\n      <td>ZaO5</td>\n      <td>1978-08-10</td>\n      <td>FEM</td>\n      <td>Terciario/Técnico</td>\n      <td>Graduado</td>\n    </tr>\n    <tr>\n      <th>3</th>\n      <td>NdJl</td>\n      <td>1969-05-09</td>\n      <td>MASC</td>\n      <td>Posgrado</td>\n      <td>En Curso</td>\n    </tr>\n    <tr>\n      <th>4</th>\n      <td>eo2p</td>\n      <td>1981-02-16</td>\n      <td>MASC</td>\n      <td>Secundario</td>\n      <td>Graduado</td>\n    </tr>\n  </tbody>\n</table>\n</div>"
     },
     "metadata": {},
     "execution_count": 5
    }
   ],
   "source": [
    "df_postulante.head()"
   ]
  },
  {
   "cell_type": "code",
   "execution_count": 6,
   "metadata": {},
   "outputs": [
    {
     "output_type": "execute_result",
     "data": {
      "text/plain": [
       "      idaviso                                         titulo  \\\n",
       "0     8725750               VENDEDOR/A PROVINCIA DE SANTA FE   \n",
       "1    17903700                                     Enfermeras   \n",
       "2  1000610287  CHOFER DE CAMIONETA BAHIA BLANCA - PUNTA ALTA   \n",
       "3  1001135716  Vendedor Viajante TUCUMAN/SANTIAGO DEL ESTERO   \n",
       "4  1001326344       Vendedor Viajante RECONQUISTA/AVELLANEDA   \n",
       "\n",
       "          nivel_laboral nombre_area     denominacion_empresa online_desde  \\\n",
       "0  Senior / Semi-Senior   Comercial                   VENTOR   2018-01-15   \n",
       "1  Senior / Semi-Senior       Salud  Farmacias Central Oeste   2018-03-20   \n",
       "2  Senior / Semi-Senior  Transporte      Wurth Argentina S.A   2018-01-15   \n",
       "3  Senior / Semi-Senior      Ventas      Wurth Argentina S.A   2018-01-15   \n",
       "4  Senior / Semi-Senior      Ventas      Wurth Argentina S.A   2018-01-15   \n",
       "\n",
       "  online_hasta  \n",
       "0   2018-02-10  \n",
       "1   2018-04-17  \n",
       "2   2018-03-17  \n",
       "3   2018-04-16  \n",
       "4   2018-03-27  "
      ],
      "text/html": "<div>\n<style scoped>\n    .dataframe tbody tr th:only-of-type {\n        vertical-align: middle;\n    }\n\n    .dataframe tbody tr th {\n        vertical-align: top;\n    }\n\n    .dataframe thead th {\n        text-align: right;\n    }\n</style>\n<table border=\"1\" class=\"dataframe\">\n  <thead>\n    <tr style=\"text-align: right;\">\n      <th></th>\n      <th>idaviso</th>\n      <th>titulo</th>\n      <th>nivel_laboral</th>\n      <th>nombre_area</th>\n      <th>denominacion_empresa</th>\n      <th>online_desde</th>\n      <th>online_hasta</th>\n    </tr>\n  </thead>\n  <tbody>\n    <tr>\n      <th>0</th>\n      <td>8725750</td>\n      <td>VENDEDOR/A PROVINCIA DE SANTA FE</td>\n      <td>Senior / Semi-Senior</td>\n      <td>Comercial</td>\n      <td>VENTOR</td>\n      <td>2018-01-15</td>\n      <td>2018-02-10</td>\n    </tr>\n    <tr>\n      <th>1</th>\n      <td>17903700</td>\n      <td>Enfermeras</td>\n      <td>Senior / Semi-Senior</td>\n      <td>Salud</td>\n      <td>Farmacias Central Oeste</td>\n      <td>2018-03-20</td>\n      <td>2018-04-17</td>\n    </tr>\n    <tr>\n      <th>2</th>\n      <td>1000610287</td>\n      <td>CHOFER DE CAMIONETA BAHIA BLANCA - PUNTA ALTA</td>\n      <td>Senior / Semi-Senior</td>\n      <td>Transporte</td>\n      <td>Wurth Argentina S.A</td>\n      <td>2018-01-15</td>\n      <td>2018-03-17</td>\n    </tr>\n    <tr>\n      <th>3</th>\n      <td>1001135716</td>\n      <td>Vendedor Viajante TUCUMAN/SANTIAGO DEL ESTERO</td>\n      <td>Senior / Semi-Senior</td>\n      <td>Ventas</td>\n      <td>Wurth Argentina S.A</td>\n      <td>2018-01-15</td>\n      <td>2018-04-16</td>\n    </tr>\n    <tr>\n      <th>4</th>\n      <td>1001326344</td>\n      <td>Vendedor Viajante RECONQUISTA/AVELLANEDA</td>\n      <td>Senior / Semi-Senior</td>\n      <td>Ventas</td>\n      <td>Wurth Argentina S.A</td>\n      <td>2018-01-15</td>\n      <td>2018-03-27</td>\n    </tr>\n  </tbody>\n</table>\n</div>"
     },
     "metadata": {},
     "execution_count": 6
    }
   ],
   "source": [
    "df_avisos.head()"
   ]
  },
  {
   "cell_type": "code",
   "execution_count": 7,
   "metadata": {},
   "outputs": [
    {
     "output_type": "execute_result",
     "data": {
      "text/plain": [
       "array(['VENTOR', 'Farmacias Central Oeste', 'Wurth Argentina S.A', ...,\n",
       "       'ISAC', 'País Marcela', 'GO-BETWEEN RRHH'], dtype=object)"
      ]
     },
     "metadata": {},
     "execution_count": 7
    }
   ],
   "source": [
    "df_avisos.denominacion_empresa.unique()"
   ]
  },
  {
   "cell_type": "code",
   "execution_count": 8,
   "metadata": {},
   "outputs": [
    {
     "output_type": "execute_result",
     "data": {
      "text/plain": [
       "  idpostulante fechanacimiento  sexo             nombre    estado\n",
       "0         NM5M      1970-12-03   FEM         Secundario  Graduado\n",
       "1         5awk      1962-12-04   FEM      Universitario  Graduado\n",
       "2         ZaO5      1978-08-10   FEM  Terciario/Técnico  Graduado\n",
       "3         NdJl      1969-05-09  MASC           Posgrado  En Curso\n",
       "4         eo2p      1981-02-16  MASC         Secundario  Graduado"
      ],
      "text/html": "<div>\n<style scoped>\n    .dataframe tbody tr th:only-of-type {\n        vertical-align: middle;\n    }\n\n    .dataframe tbody tr th {\n        vertical-align: top;\n    }\n\n    .dataframe thead th {\n        text-align: right;\n    }\n</style>\n<table border=\"1\" class=\"dataframe\">\n  <thead>\n    <tr style=\"text-align: right;\">\n      <th></th>\n      <th>idpostulante</th>\n      <th>fechanacimiento</th>\n      <th>sexo</th>\n      <th>nombre</th>\n      <th>estado</th>\n    </tr>\n  </thead>\n  <tbody>\n    <tr>\n      <th>0</th>\n      <td>NM5M</td>\n      <td>1970-12-03</td>\n      <td>FEM</td>\n      <td>Secundario</td>\n      <td>Graduado</td>\n    </tr>\n    <tr>\n      <th>1</th>\n      <td>5awk</td>\n      <td>1962-12-04</td>\n      <td>FEM</td>\n      <td>Universitario</td>\n      <td>Graduado</td>\n    </tr>\n    <tr>\n      <th>2</th>\n      <td>ZaO5</td>\n      <td>1978-08-10</td>\n      <td>FEM</td>\n      <td>Terciario/Técnico</td>\n      <td>Graduado</td>\n    </tr>\n    <tr>\n      <th>3</th>\n      <td>NdJl</td>\n      <td>1969-05-09</td>\n      <td>MASC</td>\n      <td>Posgrado</td>\n      <td>En Curso</td>\n    </tr>\n    <tr>\n      <th>4</th>\n      <td>eo2p</td>\n      <td>1981-02-16</td>\n      <td>MASC</td>\n      <td>Secundario</td>\n      <td>Graduado</td>\n    </tr>\n  </tbody>\n</table>\n</div>"
     },
     "metadata": {},
     "execution_count": 8
    }
   ],
   "source": [
    "df_postulante.head()"
   ]
  },
  {
   "cell_type": "code",
   "execution_count": 9,
   "metadata": {},
   "outputs": [],
   "source": [
    "df_avisos.titulo.unique()\n",
    "i_f=[]\n",
    "for titulo in df_avisos.titulo.unique():\n",
    "    i_f.append('titulo:'+titulo)\n",
    "for nivel_laboral in df_avisos.nivel_laboral.unique():\n",
    "    i_f.append('nivel_laboral:'+nivel_laboral)\n",
    "for nombre_area in df_avisos.nombre_area.unique():\n",
    "    i_f.append('nombre_area:'+nombre_area)\n",
    "for de in df_avisos.denominacion_empresa.unique():\n",
    "   i_f.append('denominacion_empresa:'+str(de))\n",
    "\n",
    "#nombre area y nivel laboral"
   ]
  },
  {
   "cell_type": "code",
   "execution_count": 10,
   "metadata": {},
   "outputs": [
    {
     "output_type": "execute_result",
     "data": {
      "text/plain": [
       "['sexo:FEM',\n",
       " 'sexo:MASC',\n",
       " 'sexo:NO_DECLARA',\n",
       " 'nombre:Secundario',\n",
       " 'nombre:Universitario',\n",
       " 'nombre:Terciario/Técnico',\n",
       " 'nombre:Posgrado',\n",
       " 'nombre:Otro',\n",
       " 'nombre:Master',\n",
       " 'nombre:Doctorado']"
      ]
     },
     "metadata": {},
     "execution_count": 10
    }
   ],
   "source": [
    "# feature_name,feature_value posibilities\n",
    "# res = str(x)+ \":\" +str(y)\n",
    "u_f=[]\n",
    "u_f.append('sexo:FEM')\n",
    "u_f.append('sexo:MASC')\n",
    "u_f.append('sexo:NO_DECLARA')\n",
    "u_f.append('nombre:Secundario')\n",
    "u_f.append('nombre:Universitario')\n",
    "u_f.append('nombre:Terciario/Técnico')\n",
    "u_f.append('nombre:Posgrado')\n",
    "u_f.append('nombre:Otro')\n",
    "u_f.append('nombre:Master')\n",
    "u_f.append('nombre:Doctorado')\n",
    "u_f.append('estado:Graduado')\n",
    "u_f.append('estado:En Curso')\n",
    "u_f.append('estado:Abandonado')\n",
    "u_f\n",
    "# Sexo y nombre"
   ]
  },
  {
   "cell_type": "code",
   "execution_count": 11,
   "metadata": {},
   "outputs": [
    {
     "output_type": "execute_result",
     "data": {
      "text/plain": [
       "(302787, 18362)"
      ]
     },
     "metadata": {},
     "execution_count": 11
    }
   ],
   "source": [
    "# we call fit to supply userid, item id and user/item features \n",
    "ds = lfm.data.Dataset()\n",
    "ds.fit(users=df_train['idpostulante'].unique(), # list of all the users\n",
    "       items=df_avisos[\"idaviso\"].unique(), #list of all the items\n",
    "       user_features = u_f, #additional user features\n",
    "       item_features = i_f) #additional item features\n",
    "ds.interactions_shape()"
   ]
  },
  {
   "cell_type": "code",
   "execution_count": 12,
   "metadata": {},
   "outputs": [
    {
     "output_type": "execute_result",
     "data": {
      "text/plain": [
       "<302787x18362 sparse matrix of type '<class 'numpy.int32'>'\n",
       "\twith 6468689 stored elements in COOrdinate format>"
      ]
     },
     "metadata": {},
     "execution_count": 12
    }
   ],
   "source": [
    "(interactions, weights) = ds.build_interactions(df_train[['idpostulante','idaviso']].itertuples(index=False))\n",
    "interactions"
   ]
  },
  {
   "cell_type": "code",
   "execution_count": 13,
   "metadata": {},
   "outputs": [],
   "source": [
    "#interactions.todense()\n",
    "#weights.todense()"
   ]
  },
  {
   "cell_type": "code",
   "execution_count": 14,
   "metadata": {
    "tags": []
   },
   "outputs": [
    {
     "output_type": "display_data",
     "data": {
      "text/plain": "HBox(children=(FloatProgress(value=1.0, bar_style='info', max=1.0), HTML(value='')))",
      "application/vnd.jupyter.widget-view+json": {
       "version_major": 2,
       "version_minor": 0,
       "model_id": "f1ae7c7d9c6b4c18bce14650470c0ee3"
      }
     },
     "metadata": {}
    },
    {
     "output_type": "stream",
     "name": "stdout",
     "text": [
      "\n"
     ]
    },
    {
     "output_type": "execute_result",
     "data": {
      "text/plain": [
       "[('NM5M', ['sexo:FEM', 'nombre:Secundario']),\n",
       " ('5awk', ['sexo:FEM', 'nombre:Universitario']),\n",
       " ('ZaO5', ['sexo:FEM', 'nombre:Terciario/Técnico']),\n",
       " ('NdJl', ['sexo:MASC', 'nombre:Posgrado']),\n",
       " ('eo2p', ['sexo:MASC', 'nombre:Secundario']),\n",
       " ('Ez8J', ['sexo:MASC', 'nombre:Universitario']),\n",
       " ('aOQq', ['sexo:MASC', 'nombre:Universitario']),\n",
       " ('8BkL', ['sexo:FEM', 'nombre:Universitario']),\n",
       " ('1d2B', ['sexo:MASC', 'nombre:Universitario']),\n",
       " ('NPBx', ['sexo:MASC', 'nombre:Universitario'])]"
      ]
     },
     "metadata": {},
     "execution_count": 14
    }
   ],
   "source": [
    "# Creo user_tuple\n",
    "uf_list=[]\n",
    "for row in tqdm_notebook(df_postulante.itertuples()):\n",
    "    uf=[]\n",
    "    uf.append('sexo:'+row.sexo)\n",
    "    uf.append('nombre:'+row.nombre)\n",
    "    uf.append('estado:'+row.estado) # Probar no estado\n",
    "    uf_list.append(uf)\n",
    "#uf_list \n",
    "user_tuple = list(zip(df_postulante.idpostulante, uf_list)) \n",
    "user_tuple[:10]  "
   ]
  },
  {
   "cell_type": "code",
   "execution_count": 15,
   "metadata": {},
   "outputs": [
    {
     "output_type": "display_data",
     "data": {
      "text/plain": "HBox(children=(FloatProgress(value=1.0, bar_style='info', max=1.0), HTML(value='')))",
      "application/vnd.jupyter.widget-view+json": {
       "version_major": 2,
       "version_minor": 0,
       "model_id": "774d97576476431185560dd2cb8aaf85"
      }
     },
     "metadata": {}
    },
    {
     "output_type": "stream",
     "name": "stdout",
     "text": [
      "\n"
     ]
    },
    {
     "output_type": "execute_result",
     "data": {
      "text/plain": [
       "[(8725750, ['nivel_laboral:Senior / Semi-Senior', 'nombre_area:Comercial']),\n",
       " (17903700, ['nivel_laboral:Senior / Semi-Senior', 'nombre_area:Salud'])]"
      ]
     },
     "metadata": {},
     "execution_count": 15
    }
   ],
   "source": [
    "# Creo item_tuple\n",
    "if_list=[]\n",
    "for row in tqdm_notebook(df_avisos.itertuples()):\n",
    "    i_f=[]\n",
    "    i_f.append('titulo:'+row.titulo)\n",
    "    i_f.append('nivel_laboral:'+row.nivel_laboral) ###\n",
    "    i_f.append('nombre_area:'+row.nombre_area) ###\n",
    "    i_f.append('denominacion_empresa:'+row.denominacion_empresa)\n",
    "    if_list.append(i_f)\n",
    "#if_list \n",
    "item_tuple = list(zip(df_avisos.idaviso, if_list)) \n",
    "item_tuple[:2]  "
   ]
  },
  {
   "cell_type": "code",
   "execution_count": 16,
   "metadata": {},
   "outputs": [],
   "source": [
    "user_features = ds.build_user_features(user_tuple, normalize= False)\n",
    "item_features = ds.build_item_features(item_tuple, normalize= False)"
   ]
  },
  {
   "cell_type": "code",
   "execution_count": 17,
   "metadata": {},
   "outputs": [],
   "source": [
    "user_id_map, user_feature_map, item_id_map, item_feature_map = ds.mapping()\n",
    "#user_feature_map"
   ]
  },
  {
   "cell_type": "code",
   "execution_count": 18,
   "metadata": {},
   "outputs": [
    {
     "output_type": "stream",
     "name": "stdout",
     "text": [
      "CPU times: user 6min 26s, sys: 1.82 s, total: 6min 27s\nWall time: 1min 1s\ntiempo:  61.829225063323975\n"
     ]
    }
   ],
   "source": [
    "#Modelo\n",
    "# TODO: Probar no pasar sample_weight\n",
    "t_0 = time.time()\n",
    "model = lfm.LightFM(loss='warp')\n",
    "#%time model.fit(interactions,user_features= user_features,sample_weight= weights,epochs=10,num_threads=8)\n",
    "%time model.fit(interactions,user_features= user_features, item_features= item_features ,epochs=10,num_threads=8)\n",
    "print (\"tiempo: \", time.time() - t_0)"
   ]
  },
  {
   "cell_type": "code",
   "execution_count": 19,
   "metadata": {},
   "outputs": [],
   "source": [
    "#print(\"Train precision: %.2f\" % precision_at_k(model, df_train, k=5).mean())"
   ]
  },
  {
   "cell_type": "code",
   "execution_count": 20,
   "metadata": {},
   "outputs": [],
   "source": [
    "#t_0 = time.time()\n",
    "#train_auc = auc_score(model,\n",
    "#                      interactions,\n",
    "#                      user_features=user_features\n",
    "#                     ).mean()\n",
    "#print('Hybrid training set AUC: %s' % train_auc)\n",
    "#print (\"tiempo: \", time.time() - t_0)"
   ]
  },
  {
   "cell_type": "code",
   "execution_count": 21,
   "metadata": {},
   "outputs": [
    {
     "output_type": "execute_result",
     "data": {
      "text/plain": [
       "array([-715.09667969, -718.32531738, -717.6439209 , ..., -717.10015869,\n",
       "       -719.5581665 , -717.55541992])"
      ]
     },
     "metadata": {},
     "execution_count": 21
    }
   ],
   "source": [
    "# Prediccion para un usuario existente\n",
    "user_x = user_id_map['1d2B']\n",
    "n_users, n_items = interactions.shape # number of users * number of items\n",
    "#predict_scores = model.predict(user_x, np.arange(n_items))\n",
    "predict_scores = model.predict(user_x, np.arange(n_items), user_features= user_features, item_features= item_features) # means predict for all \n",
    "predict_scores"
   ]
  },
  {
   "cell_type": "code",
   "execution_count": 22,
   "metadata": {},
   "outputs": [
    {
     "output_type": "execute_result",
     "data": {
      "text/plain": [
       "array([-712.70452881, -713.45288086, -713.79901123, -713.95861816,\n",
       "       -713.98022461, -713.99053955, -714.0065918 , -714.04956055,\n",
       "       -714.08502197, -714.10406494])"
      ]
     },
     "metadata": {},
     "execution_count": 22
    }
   ],
   "source": [
    "np.sort(predict_scores)[::-1][:10]"
   ]
  },
  {
   "cell_type": "code",
   "execution_count": 23,
   "metadata": {},
   "outputs": [
    {
     "output_type": "execute_result",
     "data": {
      "text/plain": [
       "array([10693,  3915,  2148,  6358,  8806,   123,  1048,  8559,  4406,\n",
       "        4637])"
      ]
     },
     "metadata": {},
     "execution_count": 23
    }
   ],
   "source": [
    "# Me da las posiciones donde estan los avisos de mayor score   \n",
    "posiciones_scores = np.argsort(predict_scores)[::-1][:10]\n",
    "posiciones_scores"
   ]
  },
  {
   "cell_type": "code",
   "execution_count": 24,
   "metadata": {},
   "outputs": [],
   "source": [
    "items=df_avisos[\"idaviso\"].unique()"
   ]
  },
  {
   "cell_type": "code",
   "execution_count": 25,
   "metadata": {},
   "outputs": [
    {
     "output_type": "execute_result",
     "data": {
      "text/plain": [
       "array([1112206678, 1112296169, 1112348918, 1112308219, 1112315589,\n",
       "       1112016972, 1112278394, 1112260111, 1112356835, 1112360030])"
      ]
     },
     "metadata": {},
     "execution_count": 25
    }
   ],
   "source": [
    "items[posiciones_scores]"
   ]
  },
  {
   "cell_type": "code",
   "execution_count": 26,
   "metadata": {},
   "outputs": [
    {
     "output_type": "execute_result",
     "data": {
      "text/plain": [
       "       idaviso idpostulante     fechapostulacion\n",
       "91  1112020573         1d2B  2018-02-19 07:01:34\n",
       "92  1112325331         1d2B  2018-02-19 07:04:50\n",
       "93  1112343340         1d2B  2018-02-26 21:54:31"
      ],
      "text/html": "<div>\n<style scoped>\n    .dataframe tbody tr th:only-of-type {\n        vertical-align: middle;\n    }\n\n    .dataframe tbody tr th {\n        vertical-align: top;\n    }\n\n    .dataframe thead th {\n        text-align: right;\n    }\n</style>\n<table border=\"1\" class=\"dataframe\">\n  <thead>\n    <tr style=\"text-align: right;\">\n      <th></th>\n      <th>idaviso</th>\n      <th>idpostulante</th>\n      <th>fechapostulacion</th>\n    </tr>\n  </thead>\n  <tbody>\n    <tr>\n      <th>91</th>\n      <td>1112020573</td>\n      <td>1d2B</td>\n      <td>2018-02-19 07:01:34</td>\n    </tr>\n    <tr>\n      <th>92</th>\n      <td>1112325331</td>\n      <td>1d2B</td>\n      <td>2018-02-19 07:04:50</td>\n    </tr>\n    <tr>\n      <th>93</th>\n      <td>1112343340</td>\n      <td>1d2B</td>\n      <td>2018-02-26 21:54:31</td>\n    </tr>\n  </tbody>\n</table>\n</div>"
     },
     "metadata": {},
     "execution_count": 26
    }
   ],
   "source": [
    "df_train.loc[df_train['idpostulante']=='1d2B']"
   ]
  },
  {
   "cell_type": "code",
   "execution_count": 27,
   "metadata": {},
   "outputs": [
    {
     "output_type": "stream",
     "name": "stdout",
     "text": [
      "unicos de test:  41204\ncompartidos con train:  115028\n"
     ]
    }
   ],
   "source": [
    "idpost_train = df_train.idpostulante\n",
    "idpost_test = df_test.idpostulante\n",
    "idpost_train_set = set(idpost_train.unique().tolist())\n",
    "idpost_test_set = set(idpost_test.unique().tolist())\n",
    "\n",
    "test_unique = (idpost_test_set - idpost_train_set)\n",
    "test_intersect = (idpost_test_set - test_unique)\n",
    "print(\"unicos de test: \",len(test_unique ))\n",
    "print(\"compartidos con train: \", len(test_intersect))"
   ]
  },
  {
   "cell_type": "code",
   "execution_count": 28,
   "metadata": {},
   "outputs": [],
   "source": [
    "users = test_intersect\n",
    "users_unknown = test_unique"
   ]
  },
  {
   "cell_type": "code",
   "execution_count": 38,
   "metadata": {},
   "outputs": [
    {
     "output_type": "stream",
     "name": "stdout",
     "text": [
      "6722\n18362\n"
     ]
    }
   ],
   "source": [
    "avisos_abril = set(df_avisos.loc[df_avisos['online_hasta']>='2018-04-01'].idaviso)\n",
    "avisos_abril_list = df_avisos.loc[df_avisos['online_hasta']>='2018-04-01'].idaviso.tolist()\n",
    "print(len(avisos_abril))\n",
    "print(len(df_avisos))"
   ]
  },
  {
   "cell_type": "code",
   "execution_count": 30,
   "metadata": {},
   "outputs": [],
   "source": [
    "user_x = user_id_map['akO24jJ']\n",
    "predict_scores = model.predict(user_x, np.arange(n_items), user_features= user_features, item_features= item_features)\n",
    "avisos = items[np.argsort(predict_scores)[::-1][:100]"
   ]
  },
  {
   "cell_type": "code",
   "execution_count": 31,
   "metadata": {},
   "outputs": [
    {
     "output_type": "execute_result",
     "data": {
      "text/plain": [
       "True"
      ]
     },
     "metadata": {},
     "execution_count": 31
    }
   ],
   "source": [
    "1112393398 in avisos_abril"
   ]
  },
  {
   "cell_type": "code",
   "execution_count": 32,
   "metadata": {},
   "outputs": [
    {
     "output_type": "execute_result",
     "data": {
      "text/plain": [
       "False"
      ]
     },
     "metadata": {},
     "execution_count": 32
    }
   ],
   "source": [
    "1112403164 in avisos_abril"
   ]
  },
  {
   "cell_type": "code",
   "execution_count": 33,
   "metadata": {},
   "outputs": [],
   "source": [
    "# black list de avisos (avisos que estan en Train y no quiero que aparezcan en las predicciones)\n",
    "#avisos_train_bl = df_train.drop_duplicates(subset='idaviso')\n",
    "#avisos_train_bl = set(avisos_train_bl.idaviso)"
   ]
  },
  {
   "cell_type": "code",
   "execution_count": 33,
   "metadata": {
    "tags": []
   },
   "outputs": [],
   "source": [
    "def enAbril(ranking_list,avisos_abril, avisos):\n",
    "    for i in avisos:\n",
    "        if (i in avisos_abril) :\n",
    "            ranking_list.append(i)\n",
    "        if (len(ranking_list)==10):\n",
    "            break\n",
    "    return ranking_list"
   ]
  },
  {
   "cell_type": "code",
   "execution_count": 34,
   "metadata": {},
   "outputs": [
    {
     "output_type": "execute_result",
     "data": {
      "text/plain": [
       "[1111644641,\n",
       " 1112320618,\n",
       " 1112033906,\n",
       " 1112334788,\n",
       " 1112205158,\n",
       " 1112208702,\n",
       " 1112339238,\n",
       " 1112334791,\n",
       " 1112208550,\n",
       " 1112208757]"
      ]
     },
     "metadata": {},
     "execution_count": 34
    }
   ],
   "source": [
    "avisos_dummy=[]\n",
    "enAbril(avisos_dummy,avisos_abril, avisos)"
   ]
  },
  {
   "cell_type": "code",
   "execution_count": 35,
   "metadata": {},
   "outputs": [
    {
     "output_type": "display_data",
     "data": {
      "text/plain": "HBox(children=(FloatProgress(value=0.0, max=115028.0), HTML(value='')))",
      "application/vnd.jupyter.widget-view+json": {
       "version_major": 2,
       "version_minor": 0,
       "model_id": "7f71c82769cc4b068b4ecaa42ecf7472"
      }
     },
     "metadata": {}
    },
    {
     "output_type": "stream",
     "name": "stdout",
     "text": [
      "\n"
     ]
    }
   ],
   "source": [
    "# TODO: Si el PRONOSTICADO ya esta en TRAIN, hay que SACARLO!!!\n",
    "scored_list=[]\n",
    "for user in tqdm_notebook(users):\n",
    "    top_avisos=[]\n",
    "    user_x = user_id_map[user]\n",
    "    predict_scores = model.predict(user_x, np.arange(n_items), user_features= user_features, item_features= item_features)    \n",
    "    avisos_full = items[np.argsort(predict_scores)[::-1]]\n",
    "    #Validos solo los que estan en ABRIL.\n",
    "    enAbril(top_avisos, avisos_abril, avisos_full)\n",
    "    for aviso in top_avisos:\n",
    "        user_aviso=dict()\n",
    "        user_aviso[\"idaviso\"] = aviso\n",
    "        user_aviso[\"idpostulante\"] = user\n",
    "        scored_list.append(user_aviso)\n",
    "\n",
    "#scored_list"
   ]
  },
  {
   "cell_type": "code",
   "execution_count": 36,
   "metadata": {},
   "outputs": [
    {
     "output_type": "execute_result",
     "data": {
      "text/plain": [
       "      idaviso idpostulante\n",
       "0  1112147486       5QMBew\n",
       "1  1112248723       5QMBew\n",
       "2  1112406827       5QMBew\n",
       "3  1112413366       5QMBew\n",
       "4  1112306543       5QMBew"
      ],
      "text/html": "<div>\n<style scoped>\n    .dataframe tbody tr th:only-of-type {\n        vertical-align: middle;\n    }\n\n    .dataframe tbody tr th {\n        vertical-align: top;\n    }\n\n    .dataframe thead th {\n        text-align: right;\n    }\n</style>\n<table border=\"1\" class=\"dataframe\">\n  <thead>\n    <tr style=\"text-align: right;\">\n      <th></th>\n      <th>idaviso</th>\n      <th>idpostulante</th>\n    </tr>\n  </thead>\n  <tbody>\n    <tr>\n      <th>0</th>\n      <td>1112147486</td>\n      <td>5QMBew</td>\n    </tr>\n    <tr>\n      <th>1</th>\n      <td>1112248723</td>\n      <td>5QMBew</td>\n    </tr>\n    <tr>\n      <th>2</th>\n      <td>1112406827</td>\n      <td>5QMBew</td>\n    </tr>\n    <tr>\n      <th>3</th>\n      <td>1112413366</td>\n      <td>5QMBew</td>\n    </tr>\n    <tr>\n      <th>4</th>\n      <td>1112306543</td>\n      <td>5QMBew</td>\n    </tr>\n  </tbody>\n</table>\n</div>"
     },
     "metadata": {},
     "execution_count": 36
    }
   ],
   "source": [
    "# Creo dataframe con la lista scoreada de los postulantes que estan en train y test\n",
    "df_modelo = pd.DataFrame(scored_list)\n",
    "df_modelo.head()"
   ]
  },
  {
   "cell_type": "code",
   "execution_count": 39,
   "metadata": {},
   "outputs": [
    {
     "output_type": "display_data",
     "data": {
      "text/plain": "HBox(children=(FloatProgress(value=0.0, max=41204.0), HTML(value='')))",
      "application/vnd.jupyter.widget-view+json": {
       "version_major": 2,
       "version_minor": 0,
       "model_id": "74284a28b355466d9ac4b9775729ef47"
      }
     },
     "metadata": {}
    },
    {
     "output_type": "stream",
     "name": "stdout",
     "text": [
      "\n"
     ]
    }
   ],
   "source": [
    "# Random con AVISOS DE ABRIL 2018 y no en Train\n",
    "scored_list_unknow = []\n",
    "for user_unknown in tqdm_notebook(users_unknown):\n",
    "    for index in range(10):\n",
    "        user_aviso=dict()\n",
    "        user_aviso[\"idaviso\"] = random.choices(avisos_abril_list)[0]\n",
    "        user_aviso[\"idpostulante\"] = user_unknown\n",
    "        scored_list_unknow.append(user_aviso)\n",
    "#scored_list_unknow"
   ]
  },
  {
   "cell_type": "code",
   "execution_count": 40,
   "metadata": {},
   "outputs": [
    {
     "output_type": "execute_result",
     "data": {
      "text/plain": [
       "      idaviso idpostulante\n",
       "0  1112376988      X9oXkmO\n",
       "1  1112016155      X9oXkmO\n",
       "2  1112447747      X9oXkmO\n",
       "3  1112408354      X9oXkmO\n",
       "4  1112444435      X9oXkmO"
      ],
      "text/html": "<div>\n<style scoped>\n    .dataframe tbody tr th:only-of-type {\n        vertical-align: middle;\n    }\n\n    .dataframe tbody tr th {\n        vertical-align: top;\n    }\n\n    .dataframe thead th {\n        text-align: right;\n    }\n</style>\n<table border=\"1\" class=\"dataframe\">\n  <thead>\n    <tr style=\"text-align: right;\">\n      <th></th>\n      <th>idaviso</th>\n      <th>idpostulante</th>\n    </tr>\n  </thead>\n  <tbody>\n    <tr>\n      <th>0</th>\n      <td>1112376988</td>\n      <td>X9oXkmO</td>\n    </tr>\n    <tr>\n      <th>1</th>\n      <td>1112016155</td>\n      <td>X9oXkmO</td>\n    </tr>\n    <tr>\n      <th>2</th>\n      <td>1112447747</td>\n      <td>X9oXkmO</td>\n    </tr>\n    <tr>\n      <th>3</th>\n      <td>1112408354</td>\n      <td>X9oXkmO</td>\n    </tr>\n    <tr>\n      <th>4</th>\n      <td>1112444435</td>\n      <td>X9oXkmO</td>\n    </tr>\n  </tbody>\n</table>\n</div>"
     },
     "metadata": {},
     "execution_count": 40
    }
   ],
   "source": [
    "# Creo dataframe con la lista random de los postulantes que estan solo en test\n",
    "df_modelo_unknow = pd.DataFrame(scored_list_unknow)\n",
    "df_modelo_unknow.head()"
   ]
  },
  {
   "cell_type": "code",
   "execution_count": 41,
   "metadata": {},
   "outputs": [
    {
     "output_type": "execute_result",
     "data": {
      "text/plain": [
       "      idaviso idpostulante\n",
       "0  1112147486       5QMBew\n",
       "1  1112248723       5QMBew\n",
       "2  1112406827       5QMBew\n",
       "3  1112413366       5QMBew\n",
       "4  1112306543       5QMBew"
      ],
      "text/html": "<div>\n<style scoped>\n    .dataframe tbody tr th:only-of-type {\n        vertical-align: middle;\n    }\n\n    .dataframe tbody tr th {\n        vertical-align: top;\n    }\n\n    .dataframe thead th {\n        text-align: right;\n    }\n</style>\n<table border=\"1\" class=\"dataframe\">\n  <thead>\n    <tr style=\"text-align: right;\">\n      <th></th>\n      <th>idaviso</th>\n      <th>idpostulante</th>\n    </tr>\n  </thead>\n  <tbody>\n    <tr>\n      <th>0</th>\n      <td>1112147486</td>\n      <td>5QMBew</td>\n    </tr>\n    <tr>\n      <th>1</th>\n      <td>1112248723</td>\n      <td>5QMBew</td>\n    </tr>\n    <tr>\n      <th>2</th>\n      <td>1112406827</td>\n      <td>5QMBew</td>\n    </tr>\n    <tr>\n      <th>3</th>\n      <td>1112413366</td>\n      <td>5QMBew</td>\n    </tr>\n    <tr>\n      <th>4</th>\n      <td>1112306543</td>\n      <td>5QMBew</td>\n    </tr>\n  </tbody>\n</table>\n</div>"
     },
     "metadata": {},
     "execution_count": 41
    }
   ],
   "source": [
    "# Appendeo al modelo creado con lightFM para los postulantes de ambos ds los postulantes del ds Testing unicamente..\n",
    "df_modeloligthFM = df_modelo.append(df_modelo_unknow)\n",
    "df_modeloligthFM.head()"
   ]
  },
  {
   "cell_type": "code",
   "execution_count": 42,
   "metadata": {},
   "outputs": [
    {
     "output_type": "stream",
     "name": "stdout",
     "text": [
      "1562320\n156232\n6722\n"
     ]
    }
   ],
   "source": [
    "# Imprimo longitud del dataset final.\n",
    "print(len(df_modeloligthFM.idpostulante))\n",
    "print(len(df_modeloligthFM.idpostulante.unique()))\n",
    "print(len(df_modeloligthFM.idaviso.unique()))"
   ]
  },
  {
   "cell_type": "code",
   "execution_count": 43,
   "metadata": {},
   "outputs": [],
   "source": [
    "#modeloligthFM_1                     ---> Resultado Kaggle: 0.00028\n",
    "#modeloligthFM_2   UF                ---> Resultado Kaggle: 0.00077   (2500 idaviso.unique)\n",
    "#modeloligthFM_3   UF e IF           ---> Resultado Kaggle: 0.00135   (5449 idaviso.unique)\n",
    "#modeloligthFM_4   UF+IF+Abril       ---> Resultado Kaggle: 0.00216   (6722 idaviso.unique)\n",
    "#modeloligthFM_5   UF'+IF'+Abril-Train ---> Resultado Kaggle: 0.00177 (6722 idaviso.unique)\n",
    "#modeloligthFM_5   UF+IF+Abril-Train ---> Resultado Kaggle:  ????         (  ???  idaviso.unique)\n",
    "\n",
    "df_modeloligthFM.to_csv(\"./submissions/modeloligthFM_5.csv\", index=False)"
   ]
  },
  {
   "cell_type": "code",
   "execution_count": 124,
   "metadata": {},
   "outputs": [],
   "source": []
  },
  {
   "cell_type": "code",
   "execution_count": null,
   "metadata": {},
   "outputs": [],
   "source": []
  }
 ],
 "metadata": {
  "kernelspec": {
   "name": "python3",
   "display_name": "Python 3.7.5 64-bit ('base': conda)",
   "metadata": {
    "interpreter": {
     "hash": "9a37e5188a605e95d3282a4fb8007f4c3c52885d8cd12f2ffcfc398feaa7ff36"
    }
   }
  },
  "language_info": {
   "codemirror_mode": {
    "name": "ipython",
    "version": 3
   },
   "file_extension": ".py",
   "mimetype": "text/x-python",
   "name": "python",
   "nbconvert_exporter": "python",
   "pygments_lexer": "ipython3",
   "version": "3.7.5-final"
  }
 },
 "nbformat": 4,
 "nbformat_minor": 4
}