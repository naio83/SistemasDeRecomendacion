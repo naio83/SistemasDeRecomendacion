{
 "cells": [
  {
   "cell_type": "code",
   "execution_count": 1,
   "metadata": {},
   "outputs": [],
   "source": [
    "import pandas as pd\n",
    "import numpy as np\n",
    "import random\n",
    "import matplotlib.pyplot as plt\n",
    "from sklearn.model_selection import train_test_split\n",
    "from tqdm import tqdm, tqdm_notebook\n",
    "import time, os\n",
    "import lightfm as lfm\n",
    "import pickle\n",
    "from lightfm import data\n",
    "from lightfm import cross_validation\n",
    "from lightfm import evaluation\n",
    "from lightfm.evaluation import auc_score, precision_at_k"
   ]
  },
  {
   "source": [
    "## Carga de datos"
   ],
   "cell_type": "markdown",
   "metadata": {}
  },
  {
   "cell_type": "code",
   "execution_count": 2,
   "metadata": {},
   "outputs": [
    {
     "output_type": "stream",
     "name": "stdout",
     "text": [
      "(312464, 2)\n(6468689, 3)\n"
     ]
    }
   ],
   "source": [
    "df_test = pd.read_csv('./data/ejemplo_de_solucion.csv')\n",
    "df_train = pd.read_csv('./data/postulaciones/postulaciones_train.csv')\n",
    "print(df_test.shape)\n",
    "print(df_train.shape)"
   ]
  },
  {
   "cell_type": "code",
   "execution_count": 3,
   "metadata": {},
   "outputs": [
    {
     "output_type": "stream",
     "name": "stdout",
     "text": [
      "(283163, 5)\n(18362, 9)\n"
     ]
    }
   ],
   "source": [
    "df_postulante = pd.read_csv(\"./data/postulantes/postulantes_justInTrain.csv\")\n",
    "df_avisos = pd.read_csv(\"./data/avisos/avisos_filtrados.csv\")\n",
    "print(df_postulante.shape)\n",
    "print(df_avisos.shape)"
   ]
  },
  {
   "cell_type": "code",
   "execution_count": 4,
   "metadata": {},
   "outputs": [],
   "source": [
    "# Concateno para crear un df con todos los postulantes (train+test)\n",
    "users_total= pd.concat([df_train[['idpostulante']].drop_duplicates(), df_test[['idpostulante']].drop_duplicates()]).drop_duplicates()"
   ]
  },
  {
   "cell_type": "code",
   "execution_count": 5,
   "metadata": {},
   "outputs": [
    {
     "output_type": "execute_result",
     "data": {
      "text/plain": [
       "  idpostulante fechanacimiento  sexo             nombre    estado\n",
       "0         NM5M      1970-12-03   FEM         Secundario  Graduado\n",
       "1         5awk      1962-12-04   FEM      Universitario  Graduado\n",
       "2         ZaO5      1978-08-10   FEM  Terciario/Técnico  Graduado\n",
       "3         NdJl      1969-05-09  MASC           Posgrado  En Curso\n",
       "4         eo2p      1981-02-16  MASC         Secundario  Graduado"
      ],
      "text/html": "<div>\n<style scoped>\n    .dataframe tbody tr th:only-of-type {\n        vertical-align: middle;\n    }\n\n    .dataframe tbody tr th {\n        vertical-align: top;\n    }\n\n    .dataframe thead th {\n        text-align: right;\n    }\n</style>\n<table border=\"1\" class=\"dataframe\">\n  <thead>\n    <tr style=\"text-align: right;\">\n      <th></th>\n      <th>idpostulante</th>\n      <th>fechanacimiento</th>\n      <th>sexo</th>\n      <th>nombre</th>\n      <th>estado</th>\n    </tr>\n  </thead>\n  <tbody>\n    <tr>\n      <th>0</th>\n      <td>NM5M</td>\n      <td>1970-12-03</td>\n      <td>FEM</td>\n      <td>Secundario</td>\n      <td>Graduado</td>\n    </tr>\n    <tr>\n      <th>1</th>\n      <td>5awk</td>\n      <td>1962-12-04</td>\n      <td>FEM</td>\n      <td>Universitario</td>\n      <td>Graduado</td>\n    </tr>\n    <tr>\n      <th>2</th>\n      <td>ZaO5</td>\n      <td>1978-08-10</td>\n      <td>FEM</td>\n      <td>Terciario/Técnico</td>\n      <td>Graduado</td>\n    </tr>\n    <tr>\n      <th>3</th>\n      <td>NdJl</td>\n      <td>1969-05-09</td>\n      <td>MASC</td>\n      <td>Posgrado</td>\n      <td>En Curso</td>\n    </tr>\n    <tr>\n      <th>4</th>\n      <td>eo2p</td>\n      <td>1981-02-16</td>\n      <td>MASC</td>\n      <td>Secundario</td>\n      <td>Graduado</td>\n    </tr>\n  </tbody>\n</table>\n</div>"
     },
     "metadata": {},
     "execution_count": 5
    }
   ],
   "source": [
    "df_postulante.head()"
   ]
  },
  {
   "cell_type": "code",
   "execution_count": 6,
   "metadata": {},
   "outputs": [],
   "source": [
    "# Reemplazo los 6 NaN que hay en denominacion_empresa por vacio\n",
    "df_avisos = df_avisos.replace(np.nan, '', regex=True)"
   ]
  },
  {
   "cell_type": "code",
   "execution_count": 7,
   "metadata": {},
   "outputs": [],
   "source": [
    "df_avisos.titulo.unique()\n",
    "i_f=[]\n",
    "for titulo in df_avisos.titulo.unique():\n",
    "    i_f.append('titulo:'+titulo)\n",
    "for nivel_laboral in df_avisos.nivel_laboral.unique():\n",
    "    i_f.append('nivel_laboral:'+nivel_laboral)\n",
    "for nombre_area in df_avisos.nombre_area.unique():\n",
    "    i_f.append('nombre_area:'+nombre_area)\n",
    "for de in df_avisos.denominacion_empresa.unique():\n",
    "   i_f.append('denominacion_empresa:'+str(de))\n",
    "\n",
    "#nombre area y nivel laboral"
   ]
  },
  {
   "cell_type": "code",
   "execution_count": 8,
   "metadata": {},
   "outputs": [],
   "source": [
    "u_f=[]\n",
    "for sexo in df_postulante.sexo.unique():\n",
    "    u_f.append('sexo:'+sexo)\n",
    "for nombre in df_postulante.nombre.unique():\n",
    "    u_f.append('nombre:'+nombre)\n",
    "for estado in df_postulante.estado.unique():\n",
    "    u_f.append('estado:'+estado)\n",
    "#u_f"
   ]
  },
  {
   "cell_type": "code",
   "execution_count": 9,
   "metadata": {},
   "outputs": [
    {
     "output_type": "execute_result",
     "data": {
      "text/plain": [
       "343991"
      ]
     },
     "metadata": {},
     "execution_count": 9
    }
   ],
   "source": [
    "df_full = df_train['idpostulante'].append(df_test['idpostulante'])\n",
    "len(df_full.unique())"
   ]
  },
  {
   "source": [
    "### Primer fit con todos los datos"
   ],
   "cell_type": "markdown",
   "metadata": {}
  },
  {
   "cell_type": "code",
   "execution_count": 10,
   "metadata": {},
   "outputs": [
    {
     "output_type": "execute_result",
     "data": {
      "text/plain": [
       "(343991, 18362)"
      ]
     },
     "metadata": {},
     "execution_count": 10
    }
   ],
   "source": [
    "# we call fit to supply userid, item id and user/item features \n",
    "# TODO: Probar meter df_train + df_test\n",
    "ds = lfm.data.Dataset()\n",
    "ds.fit(users=users_total['idpostulante'].unique(), # list of all the users\n",
    "       items=df_avisos[\"idaviso\"].unique(), #list of all the items\n",
    "       user_features = u_f, #additional user features\n",
    "       item_features = i_f) #additional item features\n",
    "ds.interactions_shape()"
   ]
  },
  {
   "cell_type": "code",
   "execution_count": 11,
   "metadata": {},
   "outputs": [
    {
     "output_type": "execute_result",
     "data": {
      "text/plain": [
       "<343991x18362 sparse matrix of type '<class 'numpy.int32'>'\n",
       "\twith 6468689 stored elements in COOrdinate format>"
      ]
     },
     "metadata": {},
     "execution_count": 11
    }
   ],
   "source": [
    "(interactions, weights) = ds.build_interactions(df_train[['idpostulante','idaviso']].itertuples(index=False))\n",
    "interactions\n",
    "#interactions.todense()\n",
    "#weights.todense()"
   ]
  },
  {
   "cell_type": "code",
   "execution_count": 12,
   "metadata": {
    "tags": []
   },
   "outputs": [
    {
     "output_type": "display_data",
     "data": {
      "text/plain": "HBox(children=(FloatProgress(value=1.0, bar_style='info', max=1.0), HTML(value='')))",
      "application/vnd.jupyter.widget-view+json": {
       "version_major": 2,
       "version_minor": 0,
       "model_id": "89439cbf69434c6a9b4b3e5ae89737fb"
      }
     },
     "metadata": {}
    },
    {
     "output_type": "stream",
     "name": "stdout",
     "text": [
      "\n"
     ]
    },
    {
     "output_type": "execute_result",
     "data": {
      "text/plain": [
       "[('NM5M', ['sexo:FEM', 'nombre:Secundario', 'estado:Graduado']),\n",
       " ('5awk', ['sexo:FEM', 'nombre:Universitario', 'estado:Graduado']),\n",
       " ('ZaO5', ['sexo:FEM', 'nombre:Terciario/Técnico', 'estado:Graduado']),\n",
       " ('NdJl', ['sexo:MASC', 'nombre:Posgrado', 'estado:En Curso']),\n",
       " ('eo2p', ['sexo:MASC', 'nombre:Secundario', 'estado:Graduado'])]"
      ]
     },
     "metadata": {},
     "execution_count": 12
    }
   ],
   "source": [
    "# Creo user_tuple\n",
    "uf_list=[]\n",
    "for row in tqdm_notebook(df_postulante.itertuples()):\n",
    "    uf=[]\n",
    "    uf.append('sexo:'+row.sexo)\n",
    "    uf.append('nombre:'+row.nombre)\n",
    "    uf.append('estado:'+row.estado) # Probar no estado\n",
    "    uf_list.append(uf)\n",
    "#uf_list \n",
    "user_tuple = list(zip(df_postulante.idpostulante, uf_list)) \n",
    "user_tuple[:5] "
   ]
  },
  {
   "cell_type": "code",
   "execution_count": 72,
   "metadata": {},
   "outputs": [
    {
     "output_type": "display_data",
     "data": {
      "text/plain": "HBox(children=(FloatProgress(value=1.0, bar_style='info', max=1.0), HTML(value='')))",
      "application/vnd.jupyter.widget-view+json": {
       "version_major": 2,
       "version_minor": 0,
       "model_id": "e0be25b28ac943a2bff4ac28acf768a5"
      }
     },
     "metadata": {}
    },
    {
     "output_type": "stream",
     "name": "stdout",
     "text": [
      "\n"
     ]
    },
    {
     "output_type": "execute_result",
     "data": {
      "text/plain": [
       "[(8725750,\n",
       "  ['titulo:VENDEDOR/A PROVINCIA DE SANTA FE',\n",
       "   'nivel_laboral:Senior / Semi-Senior',\n",
       "   'nombre_area:Comercial',\n",
       "   'denominacion_empresa:VENTOR']),\n",
       " (17903700,\n",
       "  ['titulo:Enfermeras',\n",
       "   'nivel_laboral:Senior / Semi-Senior',\n",
       "   'nombre_area:Salud',\n",
       "   'denominacion_empresa:Farmacias Central Oeste'])]"
      ]
     },
     "metadata": {},
     "execution_count": 72
    }
   ],
   "source": [
    "# Creo item_tuple\n",
    "if_list=[]\n",
    "for row in tqdm_notebook(df_avisos.itertuples()):\n",
    "    i_f=[]\n",
    "    i_f.append('titulo:'+row.titulo)\n",
    "    i_f.append('nivel_laboral:'+row.nivel_laboral) ###\n",
    "    i_f.append('nombre_area:'+row.nombre_area) ###\n",
    "    i_f.append('denominacion_empresa:'+row.denominacion_empresa)\n",
    "    if_list.append(i_f)\n",
    "#if_list \n",
    "item_tuple = list(zip(df_avisos.idaviso, if_list)) \n",
    "item_tuple[:2] "
   ]
  },
  {
   "cell_type": "code",
   "execution_count": 13,
   "metadata": {},
   "outputs": [
    {
     "output_type": "error",
     "ename": "NameError",
     "evalue": "name 'item_tuple' is not defined",
     "traceback": [
      "\u001b[0;31m---------------------------------------------------------------------------\u001b[0m",
      "\u001b[0;31mNameError\u001b[0m                                 Traceback (most recent call last)",
      "\u001b[0;32m<ipython-input-13-c3cbfa9e6e8c>\u001b[0m in \u001b[0;36m<module>\u001b[0;34m\u001b[0m\n\u001b[1;32m      1\u001b[0m \u001b[0muser_features\u001b[0m \u001b[0;34m=\u001b[0m \u001b[0mds\u001b[0m\u001b[0;34m.\u001b[0m\u001b[0mbuild_user_features\u001b[0m\u001b[0;34m(\u001b[0m\u001b[0muser_tuple\u001b[0m\u001b[0;34m,\u001b[0m \u001b[0mnormalize\u001b[0m\u001b[0;34m=\u001b[0m \u001b[0;32mFalse\u001b[0m\u001b[0;34m)\u001b[0m\u001b[0;34m\u001b[0m\u001b[0;34m\u001b[0m\u001b[0m\n\u001b[0;32m----> 2\u001b[0;31m \u001b[0mitem_features\u001b[0m \u001b[0;34m=\u001b[0m \u001b[0mds\u001b[0m\u001b[0;34m.\u001b[0m\u001b[0mbuild_item_features\u001b[0m\u001b[0;34m(\u001b[0m\u001b[0mitem_tuple\u001b[0m\u001b[0;34m,\u001b[0m \u001b[0mnormalize\u001b[0m\u001b[0;34m=\u001b[0m \u001b[0;32mFalse\u001b[0m\u001b[0;34m)\u001b[0m\u001b[0;34m\u001b[0m\u001b[0;34m\u001b[0m\u001b[0m\n\u001b[0m",
      "\u001b[0;31mNameError\u001b[0m: name 'item_tuple' is not defined"
     ]
    }
   ],
   "source": [
    "user_features = ds.build_user_features(user_tuple, normalize= False)\n",
    "item_features = ds.build_item_features(item_tuple, normalize= False)"
   ]
  },
  {
   "cell_type": "code",
   "execution_count": null,
   "metadata": {},
   "outputs": [],
   "source": [
    "user_id_map, user_feature_map, item_id_map, item_feature_map = ds.mapping()\n",
    "#user_feature_map"
   ]
  },
  {
   "cell_type": "code",
   "execution_count": 75,
   "metadata": {},
   "outputs": [
    {
     "output_type": "error",
     "ename": "KeyboardInterrupt",
     "evalue": "",
     "traceback": [
      "\u001b[0;31m---------------------------------------------------------------------------\u001b[0m",
      "\u001b[0;31mKeyboardInterrupt\u001b[0m                         Traceback (most recent call last)",
      "\u001b[0;32m<timed eval>\u001b[0m in \u001b[0;36m<module>\u001b[0;34m\u001b[0m\n",
      "\u001b[0;32m~/anaconda3/lib/python3.7/site-packages/lightfm/lightfm.py\u001b[0m in \u001b[0;36mfit\u001b[0;34m(self, interactions, user_features, item_features, sample_weight, epochs, num_threads, verbose)\u001b[0m\n\u001b[1;32m    477\u001b[0m                                 \u001b[0mepochs\u001b[0m\u001b[0;34m=\u001b[0m\u001b[0mepochs\u001b[0m\u001b[0;34m,\u001b[0m\u001b[0;34m\u001b[0m\u001b[0;34m\u001b[0m\u001b[0m\n\u001b[1;32m    478\u001b[0m                                 \u001b[0mnum_threads\u001b[0m\u001b[0;34m=\u001b[0m\u001b[0mnum_threads\u001b[0m\u001b[0;34m,\u001b[0m\u001b[0;34m\u001b[0m\u001b[0;34m\u001b[0m\u001b[0m\n\u001b[0;32m--> 479\u001b[0;31m                                 verbose=verbose)\n\u001b[0m\u001b[1;32m    480\u001b[0m \u001b[0;34m\u001b[0m\u001b[0m\n\u001b[1;32m    481\u001b[0m     def fit_partial(self, interactions,\n",
      "\u001b[0;32m~/anaconda3/lib/python3.7/site-packages/lightfm/lightfm.py\u001b[0m in \u001b[0;36mfit_partial\u001b[0;34m(self, interactions, user_features, item_features, sample_weight, epochs, num_threads, verbose)\u001b[0m\n\u001b[1;32m    574\u001b[0m                             \u001b[0msample_weight_data\u001b[0m\u001b[0;34m,\u001b[0m\u001b[0;34m\u001b[0m\u001b[0;34m\u001b[0m\u001b[0m\n\u001b[1;32m    575\u001b[0m                             \u001b[0mnum_threads\u001b[0m\u001b[0;34m,\u001b[0m\u001b[0;34m\u001b[0m\u001b[0;34m\u001b[0m\u001b[0m\n\u001b[0;32m--> 576\u001b[0;31m                             self.loss)\n\u001b[0m\u001b[1;32m    577\u001b[0m \u001b[0;34m\u001b[0m\u001b[0m\n\u001b[1;32m    578\u001b[0m             \u001b[0mself\u001b[0m\u001b[0;34m.\u001b[0m\u001b[0m_check_finite\u001b[0m\u001b[0;34m(\u001b[0m\u001b[0;34m)\u001b[0m\u001b[0;34m\u001b[0m\u001b[0;34m\u001b[0m\u001b[0m\n",
      "\u001b[0;32m~/anaconda3/lib/python3.7/site-packages/lightfm/lightfm.py\u001b[0m in \u001b[0;36m_run_epoch\u001b[0;34m(self, item_features, user_features, interactions, sample_weight, num_threads, loss)\u001b[0m\n\u001b[1;32m    613\u001b[0m                      \u001b[0mself\u001b[0m\u001b[0;34m.\u001b[0m\u001b[0muser_alpha\u001b[0m\u001b[0;34m,\u001b[0m\u001b[0;34m\u001b[0m\u001b[0;34m\u001b[0m\u001b[0m\n\u001b[1;32m    614\u001b[0m                      \u001b[0mnum_threads\u001b[0m\u001b[0;34m,\u001b[0m\u001b[0;34m\u001b[0m\u001b[0;34m\u001b[0m\u001b[0m\n\u001b[0;32m--> 615\u001b[0;31m                      self.random_state)\n\u001b[0m\u001b[1;32m    616\u001b[0m         \u001b[0;32melif\u001b[0m \u001b[0mloss\u001b[0m \u001b[0;34m==\u001b[0m \u001b[0;34m'bpr'\u001b[0m\u001b[0;34m:\u001b[0m\u001b[0;34m\u001b[0m\u001b[0;34m\u001b[0m\u001b[0m\n\u001b[1;32m    617\u001b[0m             fit_bpr(CSRMatrix(item_features),\n",
      "\u001b[0;31mKeyboardInterrupt\u001b[0m: "
     ]
    }
   ],
   "source": [
    "#Modelo\n",
    "# TODO: Probar pasar sample_weight\n",
    "model = lfm.LightFM(no_components=30, loss='warp', random_state=42)\n",
    "#%time model.fit(interactions,user_features= user_features, item_features= item_features ,epochs=10,num_threads=8)\n",
    "%time model.fit(interactions,epochs=10000,num_threads=8)\n",
    "# Init: 22:50   "
   ]
  },
  {
   "cell_type": "code",
   "execution_count": 133,
   "metadata": {},
   "outputs": [
    {
     "output_type": "stream",
     "name": "stdout",
     "text": [
      "CPU times: user 12min 28s, sys: 1.07 s, total: 12min 29s\nWall time: 1min 56s\n"
     ]
    },
    {
     "output_type": "execute_result",
     "data": {
      "text/plain": [
       "0.4241087"
      ]
     },
     "metadata": {},
     "execution_count": 133
    }
   ],
   "source": [
    "# Precision\n",
    "#%time lfm.evaluation.precision_at_k(model, interactions,user_features= user_features, item_features= item_features, k=10, num_threads=8).mean()\n",
    "%time lfm.evaluation.precision_at_k(model, interactions, k=10, num_threads=8).mean()"
   ]
  },
  {
   "cell_type": "code",
   "execution_count": null,
   "metadata": {},
   "outputs": [],
   "source": [
    "#pickle.dump(model, open('./data/models/warp_10000epochs_30components', \"wb\"))\n",
    "model = pickle.load(open('./data/models/warp_10000epochs_30components', \"rb\"))\n",
    "#%time lfm.evaluation.precision_at_k(model, interactions, k=10, num_threads=8).mean()"
   ]
  },
  {
   "cell_type": "code",
   "execution_count": 16,
   "metadata": {},
   "outputs": [
    {
     "output_type": "execute_result",
     "data": {
      "text/plain": [
       "array([-1.59272933, -4.59733295, -3.19401598, ..., -8.78190517,\n",
       "       -4.39390898, -6.81702805])"
      ]
     },
     "metadata": {},
     "execution_count": 16
    }
   ],
   "source": [
    "# Prediccion para un usuario existente\n",
    "user_x = user_id_map['1d2B']\n",
    "n_users, n_items = interactions.shape # number of users * number of items\n",
    "#predict_scores = model.predict(user_x, np.arange(n_items), user_features= user_features, item_features= item_features) # means predict for all \n",
    "predict_scores = model.predict(user_x, np.arange(n_items))\n",
    "predict_scores"
   ]
  },
  {
   "cell_type": "code",
   "execution_count": 17,
   "metadata": {},
   "outputs": [
    {
     "output_type": "execute_result",
     "data": {
      "text/plain": [
       "array([4.89876556, 4.80268049, 4.77186012, 4.76650143, 4.20909548,\n",
       "       4.18022442, 4.01044321, 3.98084688, 3.96417308, 3.95097804])"
      ]
     },
     "metadata": {},
     "execution_count": 17
    }
   ],
   "source": [
    "np.sort(predict_scores)[::-1][:10]"
   ]
  },
  {
   "cell_type": "code",
   "execution_count": 18,
   "metadata": {},
   "outputs": [
    {
     "output_type": "execute_result",
     "data": {
      "text/plain": [
       "array([ 1762,   149,  3999,  9358,  9030, 10285,  8806, 12358,   123,\n",
       "        4321])"
      ]
     },
     "metadata": {},
     "execution_count": 18
    }
   ],
   "source": [
    "# Me da las posiciones donde estan los avisos de mayor score   \n",
    "posiciones_scores = np.argsort(predict_scores)[::-1][:10]\n",
    "posiciones_scores"
   ]
  },
  {
   "cell_type": "code",
   "execution_count": 19,
   "metadata": {},
   "outputs": [
    {
     "output_type": "execute_result",
     "data": {
      "text/plain": [
       "array([1112343340, 1112020573, 1112297115, 1112325331, 1112319747,\n",
       "       1112009194, 1112315589, 1112338507, 1112016972, 1112355747])"
      ]
     },
     "metadata": {},
     "execution_count": 19
    }
   ],
   "source": [
    "items=df_avisos[\"idaviso\"].unique()\n",
    "items[posiciones_scores]"
   ]
  },
  {
   "cell_type": "code",
   "execution_count": 20,
   "metadata": {},
   "outputs": [
    {
     "output_type": "execute_result",
     "data": {
      "text/plain": [
       "       idaviso idpostulante     fechapostulacion\n",
       "91  1112020573         1d2B  2018-02-19 07:01:34\n",
       "92  1112325331         1d2B  2018-02-19 07:04:50\n",
       "93  1112343340         1d2B  2018-02-26 21:54:31"
      ],
      "text/html": "<div>\n<style scoped>\n    .dataframe tbody tr th:only-of-type {\n        vertical-align: middle;\n    }\n\n    .dataframe tbody tr th {\n        vertical-align: top;\n    }\n\n    .dataframe thead th {\n        text-align: right;\n    }\n</style>\n<table border=\"1\" class=\"dataframe\">\n  <thead>\n    <tr style=\"text-align: right;\">\n      <th></th>\n      <th>idaviso</th>\n      <th>idpostulante</th>\n      <th>fechapostulacion</th>\n    </tr>\n  </thead>\n  <tbody>\n    <tr>\n      <th>91</th>\n      <td>1112020573</td>\n      <td>1d2B</td>\n      <td>2018-02-19 07:01:34</td>\n    </tr>\n    <tr>\n      <th>92</th>\n      <td>1112325331</td>\n      <td>1d2B</td>\n      <td>2018-02-19 07:04:50</td>\n    </tr>\n    <tr>\n      <th>93</th>\n      <td>1112343340</td>\n      <td>1d2B</td>\n      <td>2018-02-26 21:54:31</td>\n    </tr>\n  </tbody>\n</table>\n</div>"
     },
     "metadata": {},
     "execution_count": 20
    }
   ],
   "source": [
    "df_train.loc[df_train['idpostulante']=='1d2B']"
   ]
  },
  {
   "cell_type": "code",
   "execution_count": 21,
   "metadata": {},
   "outputs": [
    {
     "output_type": "stream",
     "name": "stdout",
     "text": [
      "unicos de test:  41204\ncompartidos con train:  115028\n"
     ]
    }
   ],
   "source": [
    "idpost_train = df_train.idpostulante\n",
    "idpost_test = df_test.idpostulante\n",
    "idpost_train_set = set(idpost_train.unique().tolist())\n",
    "idpost_test_set = set(idpost_test.unique().tolist())\n",
    "\n",
    "test_unique = (idpost_test_set - idpost_train_set)\n",
    "test_intersect = (idpost_test_set - test_unique)\n",
    "print(\"unicos de test: \",len(test_unique ))\n",
    "print(\"compartidos con train: \", len(test_intersect))"
   ]
  },
  {
   "cell_type": "code",
   "execution_count": 22,
   "metadata": {},
   "outputs": [
    {
     "output_type": "execute_result",
     "data": {
      "text/plain": [
       "156232"
      ]
     },
     "metadata": {},
     "execution_count": 22
    }
   ],
   "source": [
    "user_test_totales = df_test.idpostulante.drop_duplicates()\n",
    "users = test_intersect\n",
    "users_unknown = test_unique\n",
    "len(user_test_totales)"
   ]
  },
  {
   "cell_type": "code",
   "execution_count": 23,
   "metadata": {},
   "outputs": [
    {
     "output_type": "stream",
     "name": "stdout",
     "text": [
      "6722\n18362\n"
     ]
    }
   ],
   "source": [
    "avisos_abril = set(df_avisos.loc[df_avisos['online_hasta']>='2018-04-01'].idaviso)\n",
    "avisos_abril_list = df_avisos.loc[df_avisos['online_hasta']>='2018-04-01'].idaviso.tolist()\n",
    "print(len(avisos_abril))\n",
    "print(len(df_avisos))"
   ]
  },
  {
   "cell_type": "code",
   "execution_count": 24,
   "metadata": {},
   "outputs": [],
   "source": [
    "user_x = user_id_map['akO24jJ']\n",
    "#predict_scores = model.predict(user_x, np.arange(n_items), user_features= user_features, item_features= item_features)\n",
    "predict_scores = model.predict(user_x, np.arange(n_items))\n",
    "avisos = items[np.argsort(predict_scores)][::-1][:100]"
   ]
  },
  {
   "cell_type": "code",
   "execution_count": 25,
   "metadata": {},
   "outputs": [
    {
     "output_type": "stream",
     "name": "stdout",
     "text": [
      "True\nFalse\n"
     ]
    }
   ],
   "source": [
    "print (1112393398 in avisos_abril)\n",
    "print (1112403164 in avisos_abril)"
   ]
  },
  {
   "cell_type": "code",
   "execution_count": 26,
   "metadata": {},
   "outputs": [
    {
     "output_type": "execute_result",
     "data": {
      "text/plain": [
       "[1112257047, 1111920714, 1112346945, 1112345547]"
      ]
     },
     "metadata": {},
     "execution_count": 26
    }
   ],
   "source": [
    "avisos_train_bl = df_train[['idaviso','idpostulante']]\n",
    "avisos_train_bl.loc[avisos_train_bl['idpostulante']=='NM5M'].idaviso.tolist()\n",
    "#['NM5M', '5awk', 'ZaO5', 'NdJl', 'eo2p', 'Ez8J', 'aOQq', '8BkL','1d2B', '1QLLO', 'YjGMZ']"
   ]
  },
  {
   "cell_type": "code",
   "execution_count": 27,
   "metadata": {},
   "outputs": [
    {
     "output_type": "display_data",
     "data": {
      "text/plain": "HBox(children=(FloatProgress(value=0.0, max=302787.0), HTML(value='')))",
      "application/vnd.jupyter.widget-view+json": {
       "version_major": 2,
       "version_minor": 0,
       "model_id": "bd466d29362a4847a15d6af091e22382"
      }
     },
     "metadata": {}
    },
    {
     "output_type": "stream",
     "name": "stdout",
     "text": [
      "\n"
     ]
    }
   ],
   "source": [
    "# Creo una tupla cuyo primer elemento es un user y como segundo elemento la lista de avisos a los que se postulo\n",
    "#for row in tqdm_notebook(avisos_train_bl.idpostulante.unique()):\n",
    "    #postulations_list[row] = avisos_train_bl.loc[avisos_train_bl['idpostulante']==row].idaviso.tolist()\n",
    "postulations_list=dict()\n",
    "for user, group in tqdm_notebook(avisos_train_bl.groupby('idpostulante')):\n",
    "    postulations_list[user] = group.idaviso.values"
   ]
  },
  {
   "cell_type": "code",
   "execution_count": 28,
   "metadata": {},
   "outputs": [
    {
     "output_type": "stream",
     "name": "stdout",
     "text": [
      "[1112237522 1112277633 1112302347 1112291495 1112304011 1112303543\n 1112315393 1112315188 1112346738 1112330625 1112306543 1112315170\n 1111799928 1112323355 1112305358]\n[1112228888 1112359096 1112349723 1112308241 1112228888 1112359096\n 1112349723 1112308241 1112373863 1112402536]\n"
     ]
    }
   ],
   "source": [
    "print (postulations_list.get('5awk'))\n",
    "print (postulations_list.get('YjGMZ'))"
   ]
  },
  {
   "cell_type": "code",
   "execution_count": 37,
   "metadata": {},
   "outputs": [],
   "source": [
    "# Solo tengo que validar para los usuarios que estan en TRAIN\n",
    "#print (1112349726 not in postulations_list.get('erL9'))"
   ]
  },
  {
   "cell_type": "code",
   "execution_count": 29,
   "metadata": {},
   "outputs": [],
   "source": [
    "# Devuelve una lista con los 10 avisos mejor rankeados que son de Abril y ademas si pertenece a TRAIN revisa que no sea una postulacion a la que ya se haya presentado.\n",
    "def enAbrilYNoPostulado(ranking_list,avisos_abril, avisos, user):\n",
    "    if postulations_list.get(user) is None:\n",
    "        for i in avisos:\n",
    "            if ((i in avisos_abril)):\n",
    "                ranking_list.append(i)\n",
    "            if (len(ranking_list)==10):\n",
    "                break\n",
    "    else:\n",
    "        for i in avisos:\n",
    "            if ((i in avisos_abril) and (i not in postulations_list.get(user))):\n",
    "                ranking_list.append(i)\n",
    "            if (len(ranking_list)==10):\n",
    "                break\n",
    "    return ranking_list"
   ]
  },
  {
   "cell_type": "code",
   "execution_count": 39,
   "metadata": {
    "tags": []
   },
   "outputs": [],
   "source": [
    "# Devuelve una lista con los 10 avisos mejor rankeados que son de Abril.\n",
    "def enAbril(ranking_list,avisos_abril, avisos, user):\n",
    "    for i in avisos:\n",
    "        if (i in avisos_abril): #and (user not in postulations_list.get(user)):\n",
    "            ranking_list.append(i)\n",
    "        if (len(ranking_list)==10):\n",
    "            break\n",
    "    return ranking_list"
   ]
  },
  {
   "cell_type": "code",
   "execution_count": 30,
   "metadata": {},
   "outputs": [
    {
     "output_type": "execute_result",
     "data": {
      "text/plain": [
       "[1112334788,\n",
       " 1112334791,\n",
       " 1112208765,\n",
       " 1112208550,\n",
       " 1112208702,\n",
       " 1112420745,\n",
       " 1112410647,\n",
       " 1112414725,\n",
       " 1112394515,\n",
       " 1112033906]"
      ]
     },
     "metadata": {},
     "execution_count": 30
    }
   ],
   "source": [
    "avisos_dummy=[]\n",
    "enAbrilYNoPostulado(avisos_dummy,avisos_abril, avisos,'erL9')"
   ]
  },
  {
   "cell_type": "code",
   "execution_count": 31,
   "metadata": {},
   "outputs": [
    {
     "output_type": "display_data",
     "data": {
      "text/plain": "HBox(children=(FloatProgress(value=0.0, max=156232.0), HTML(value='')))",
      "application/vnd.jupyter.widget-view+json": {
       "version_major": 2,
       "version_minor": 0,
       "model_id": "75a4a73cb8f04da586b47c962647a35f"
      }
     },
     "metadata": {}
    },
    {
     "output_type": "stream",
     "name": "stdout",
     "text": [
      "\n"
     ]
    }
   ],
   "source": [
    "# Genero la prediccion y me aseguro que los avisos predichos sean de Abril y que las predicciones de users de TRAIN no repitan postulaciones para el mismo user.\n",
    "scored_list=[]\n",
    "for user in tqdm_notebook(user_test_totales):\n",
    "    top_avisos=[]\n",
    "    user_x = user_id_map[user]\n",
    "    #predict_scores = model.predict(user_x, np.arange(n_items), user_features= user_features, item_features= item_features)    \n",
    "    predict_scores = model.predict(user_x, np.arange(n_items))    \n",
    "    avisos_full = items[np.argsort(predict_scores)[::-1]]\n",
    "    #Validos solo los que estan en ABRIL.\n",
    "    enAbrilYNoPostulado(top_avisos, avisos_abril, avisos_full,user)\n",
    "    for aviso in top_avisos:\n",
    "        user_aviso=dict()\n",
    "        user_aviso[\"idaviso\"] = aviso\n",
    "        user_aviso[\"idpostulante\"] = user\n",
    "        scored_list.append(user_aviso)\n",
    "#scored_list"
   ]
  },
  {
   "cell_type": "code",
   "execution_count": null,
   "metadata": {},
   "outputs": [],
   "source": []
  },
  {
   "cell_type": "code",
   "execution_count": null,
   "metadata": {},
   "outputs": [],
   "source": []
  },
  {
   "cell_type": "code",
   "execution_count": null,
   "metadata": {},
   "outputs": [],
   "source": []
  },
  {
   "cell_type": "code",
   "execution_count": 32,
   "metadata": {},
   "outputs": [
    {
     "output_type": "stream",
     "name": "stdout",
     "text": [
      "1562320\n156232\n4269\n\n"
     ]
    },
    {
     "output_type": "execute_result",
     "data": {
      "text/plain": [
       "      idaviso idpostulante\n",
       "0  1112397792         ZaO5\n",
       "1  1112312666         ZaO5\n",
       "2  1112377249         ZaO5\n",
       "3  1112424046         ZaO5\n",
       "4  1112402823         ZaO5"
      ],
      "text/html": "<div>\n<style scoped>\n    .dataframe tbody tr th:only-of-type {\n        vertical-align: middle;\n    }\n\n    .dataframe tbody tr th {\n        vertical-align: top;\n    }\n\n    .dataframe thead th {\n        text-align: right;\n    }\n</style>\n<table border=\"1\" class=\"dataframe\">\n  <thead>\n    <tr style=\"text-align: right;\">\n      <th></th>\n      <th>idaviso</th>\n      <th>idpostulante</th>\n    </tr>\n  </thead>\n  <tbody>\n    <tr>\n      <th>0</th>\n      <td>1112397792</td>\n      <td>ZaO5</td>\n    </tr>\n    <tr>\n      <th>1</th>\n      <td>1112312666</td>\n      <td>ZaO5</td>\n    </tr>\n    <tr>\n      <th>2</th>\n      <td>1112377249</td>\n      <td>ZaO5</td>\n    </tr>\n    <tr>\n      <th>3</th>\n      <td>1112424046</td>\n      <td>ZaO5</td>\n    </tr>\n    <tr>\n      <th>4</th>\n      <td>1112402823</td>\n      <td>ZaO5</td>\n    </tr>\n  </tbody>\n</table>\n</div>"
     },
     "metadata": {},
     "execution_count": 32
    }
   ],
   "source": [
    "# Creo dataframe con la lista scoreada de los postulantes que estan en train y test\n",
    "df_modelo = pd.DataFrame(scored_list)\n",
    "# Imprimo longitudes del dataset final.\n",
    "print(len(df_modelo.idpostulante))\n",
    "print(len(df_modelo.idpostulante.unique()))\n",
    "print(len(df_modelo.idaviso.unique()))\n",
    "print()\n",
    "df_modelo.head()"
   ]
  },
  {
   "cell_type": "code",
   "execution_count": 33,
   "metadata": {},
   "outputs": [],
   "source": [
    "df_modelo.to_csv(\"./submissions/modeloligthFM_17.csv\", index=False)"
   ]
  },
  {
   "cell_type": "code",
   "execution_count": 124,
   "metadata": {},
   "outputs": [],
   "source": []
  }
 ],
 "metadata": {
  "kernelspec": {
   "name": "python3",
   "display_name": "Python 3.7.5 64-bit ('base': conda)",
   "metadata": {
    "interpreter": {
     "hash": "9a37e5188a605e95d3282a4fb8007f4c3c52885d8cd12f2ffcfc398feaa7ff36"
    }
   }
  },
  "language_info": {
   "codemirror_mode": {
    "name": "ipython",
    "version": 3
   },
   "file_extension": ".py",
   "mimetype": "text/x-python",
   "name": "python",
   "nbconvert_exporter": "python",
   "pygments_lexer": "ipython3",
   "version": "3.7.5-final"
  }
 },
 "nbformat": 4,
 "nbformat_minor": 4
}