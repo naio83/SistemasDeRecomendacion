{
 "cells": [
  {
   "cell_type": "code",
   "execution_count": 1,
   "metadata": {},
   "outputs": [],
   "source": [
    "import pandas as pd\n",
    "import numpy as np\n",
    "import time, os"
   ]
  },
  {
   "source": [
    "## Init"
   ],
   "cell_type": "markdown",
   "metadata": {}
  },
  {
   "cell_type": "code",
   "execution_count": 2,
   "metadata": {},
   "outputs": [],
   "source": [
    "df_test = pd.read_csv('./data/ejemplo_de_solucion.csv')\n",
    "df_train = pd.read_csv('./data/postulaciones/postulaciones_train.csv')"
   ]
  },
  {
   "cell_type": "code",
   "execution_count": 3,
   "metadata": {},
   "outputs": [],
   "source": [
    "df_aDetalle = pd.read_csv('./data/avisos/avisos_detalle.csv')\n",
    "df_aOnline = pd.read_csv('./data/avisos/avisos_online.csv')\n",
    "df_postEdu = pd.read_csv('./data/postulantes/postulantes_educacion.csv')\n",
    "df_postGenero = pd.read_csv('./data/postulantes/postulantes_genero_edad.csv')"
   ]
  },
  {
   "cell_type": "code",
   "execution_count": 4,
   "metadata": {},
   "outputs": [
    {
     "output_type": "execute_result",
     "data": {
      "text/plain": [
       "      idaviso  idpais                                         titulo  \\\n",
       "0     8725750       1               VENDEDOR/A PROVINCIA DE SANTA FE   \n",
       "1    17903700       1                                     Enfermeras   \n",
       "2  1000150677       1                                 Chofer de taxi   \n",
       "3  1000610287       1  CHOFER DE CAMIONETA BAHIA BLANCA - PUNTA ALTA   \n",
       "4  1000872556       1  Operarios de Planta - Rubro Electrodomésticos   \n",
       "\n",
       "                                         descripcion        nombre_zona  \\\n",
       "0  <p><strong><strong>Empresa:</strong></strong> ...  Gran Buenos Aires   \n",
       "1  <p>Solicitamos para importante cadena de farma...  Gran Buenos Aires   \n",
       "2  <p>TE GUSTA MANEJAR? QUERES GANAR PLATA HACIEN...    Capital Federal   \n",
       "3  <p><strong>Somos una empresa multinacional que...  Gran Buenos Aires   \n",
       "4  <p><strong>OPERARIOS DE PLANTA</strong></p><p>...  Gran Buenos Aires   \n",
       "\n",
       "  ciudad       mapacalle tipo_de_trabajo         nivel_laboral nombre_area  \\\n",
       "0    NaN             NaN       Full-time  Senior / Semi-Senior   Comercial   \n",
       "1    NaN             NaN       Full-time  Senior / Semi-Senior       Salud   \n",
       "2    NaN  Empedrado 2336       Full-time  Senior / Semi-Senior  Transporte   \n",
       "3    NaN             NaN       Full-time  Senior / Semi-Senior  Transporte   \n",
       "4    NaN             NaN       Full-time  Senior / Semi-Senior  Producción   \n",
       "\n",
       "      denominacion_empresa  \n",
       "0                   VENTOR  \n",
       "1  Farmacias Central Oeste  \n",
       "2              FAMITAX SRL  \n",
       "3      Wurth Argentina S.A  \n",
       "4       ELECTRO OUTLET SRL  "
      ],
      "text/html": "<div>\n<style scoped>\n    .dataframe tbody tr th:only-of-type {\n        vertical-align: middle;\n    }\n\n    .dataframe tbody tr th {\n        vertical-align: top;\n    }\n\n    .dataframe thead th {\n        text-align: right;\n    }\n</style>\n<table border=\"1\" class=\"dataframe\">\n  <thead>\n    <tr style=\"text-align: right;\">\n      <th></th>\n      <th>idaviso</th>\n      <th>idpais</th>\n      <th>titulo</th>\n      <th>descripcion</th>\n      <th>nombre_zona</th>\n      <th>ciudad</th>\n      <th>mapacalle</th>\n      <th>tipo_de_trabajo</th>\n      <th>nivel_laboral</th>\n      <th>nombre_area</th>\n      <th>denominacion_empresa</th>\n    </tr>\n  </thead>\n  <tbody>\n    <tr>\n      <th>0</th>\n      <td>8725750</td>\n      <td>1</td>\n      <td>VENDEDOR/A PROVINCIA DE SANTA FE</td>\n      <td>&lt;p&gt;&lt;strong&gt;&lt;strong&gt;Empresa:&lt;/strong&gt;&lt;/strong&gt; ...</td>\n      <td>Gran Buenos Aires</td>\n      <td>NaN</td>\n      <td>NaN</td>\n      <td>Full-time</td>\n      <td>Senior / Semi-Senior</td>\n      <td>Comercial</td>\n      <td>VENTOR</td>\n    </tr>\n    <tr>\n      <th>1</th>\n      <td>17903700</td>\n      <td>1</td>\n      <td>Enfermeras</td>\n      <td>&lt;p&gt;Solicitamos para importante cadena de farma...</td>\n      <td>Gran Buenos Aires</td>\n      <td>NaN</td>\n      <td>NaN</td>\n      <td>Full-time</td>\n      <td>Senior / Semi-Senior</td>\n      <td>Salud</td>\n      <td>Farmacias Central Oeste</td>\n    </tr>\n    <tr>\n      <th>2</th>\n      <td>1000150677</td>\n      <td>1</td>\n      <td>Chofer de taxi</td>\n      <td>&lt;p&gt;TE GUSTA MANEJAR? QUERES GANAR PLATA HACIEN...</td>\n      <td>Capital Federal</td>\n      <td>NaN</td>\n      <td>Empedrado 2336</td>\n      <td>Full-time</td>\n      <td>Senior / Semi-Senior</td>\n      <td>Transporte</td>\n      <td>FAMITAX SRL</td>\n    </tr>\n    <tr>\n      <th>3</th>\n      <td>1000610287</td>\n      <td>1</td>\n      <td>CHOFER DE CAMIONETA BAHIA BLANCA - PUNTA ALTA</td>\n      <td>&lt;p&gt;&lt;strong&gt;Somos una empresa multinacional que...</td>\n      <td>Gran Buenos Aires</td>\n      <td>NaN</td>\n      <td>NaN</td>\n      <td>Full-time</td>\n      <td>Senior / Semi-Senior</td>\n      <td>Transporte</td>\n      <td>Wurth Argentina S.A</td>\n    </tr>\n    <tr>\n      <th>4</th>\n      <td>1000872556</td>\n      <td>1</td>\n      <td>Operarios de Planta - Rubro Electrodomésticos</td>\n      <td>&lt;p&gt;&lt;strong&gt;OPERARIOS DE PLANTA&lt;/strong&gt;&lt;/p&gt;&lt;p&gt;...</td>\n      <td>Gran Buenos Aires</td>\n      <td>NaN</td>\n      <td>NaN</td>\n      <td>Full-time</td>\n      <td>Senior / Semi-Senior</td>\n      <td>Producción</td>\n      <td>ELECTRO OUTLET SRL</td>\n    </tr>\n  </tbody>\n</table>\n</div>"
     },
     "metadata": {},
     "execution_count": 4
    }
   ],
   "source": [
    "df_aDetalle.head()"
   ]
  },
  {
   "cell_type": "code",
   "execution_count": 5,
   "metadata": {},
   "outputs": [
    {
     "output_type": "execute_result",
     "data": {
      "text/plain": [
       "      idaviso online_desde online_hasta\n",
       "0     8725750   2018-01-15   2018-02-10\n",
       "1    12543760   2018-01-18   2018-03-20\n",
       "2    12812680   2018-02-20   2018-03-21\n",
       "3    17903700   2018-03-20   2018-04-17\n",
       "4  1000132160   2018-01-17   2018-01-31"
      ],
      "text/html": "<div>\n<style scoped>\n    .dataframe tbody tr th:only-of-type {\n        vertical-align: middle;\n    }\n\n    .dataframe tbody tr th {\n        vertical-align: top;\n    }\n\n    .dataframe thead th {\n        text-align: right;\n    }\n</style>\n<table border=\"1\" class=\"dataframe\">\n  <thead>\n    <tr style=\"text-align: right;\">\n      <th></th>\n      <th>idaviso</th>\n      <th>online_desde</th>\n      <th>online_hasta</th>\n    </tr>\n  </thead>\n  <tbody>\n    <tr>\n      <th>0</th>\n      <td>8725750</td>\n      <td>2018-01-15</td>\n      <td>2018-02-10</td>\n    </tr>\n    <tr>\n      <th>1</th>\n      <td>12543760</td>\n      <td>2018-01-18</td>\n      <td>2018-03-20</td>\n    </tr>\n    <tr>\n      <th>2</th>\n      <td>12812680</td>\n      <td>2018-02-20</td>\n      <td>2018-03-21</td>\n    </tr>\n    <tr>\n      <th>3</th>\n      <td>17903700</td>\n      <td>2018-03-20</td>\n      <td>2018-04-17</td>\n    </tr>\n    <tr>\n      <th>4</th>\n      <td>1000132160</td>\n      <td>2018-01-17</td>\n      <td>2018-01-31</td>\n    </tr>\n  </tbody>\n</table>\n</div>"
     },
     "metadata": {},
     "execution_count": 5
    }
   ],
   "source": [
    "df_aOnline.head()"
   ]
  },
  {
   "cell_type": "code",
   "execution_count": 7,
   "metadata": {},
   "outputs": [
    {
     "output_type": "execute_result",
     "data": {
      "text/plain": [
       "  idpostulante         nombre    estado\n",
       "0         NdJl       Posgrado  En Curso\n",
       "1         8BkL  Universitario  En Curso\n",
       "2         1d2B  Universitario  En Curso\n",
       "3         NPBx  Universitario  En Curso\n",
       "4         NPBx         Master  En Curso"
      ],
      "text/html": "<div>\n<style scoped>\n    .dataframe tbody tr th:only-of-type {\n        vertical-align: middle;\n    }\n\n    .dataframe tbody tr th {\n        vertical-align: top;\n    }\n\n    .dataframe thead th {\n        text-align: right;\n    }\n</style>\n<table border=\"1\" class=\"dataframe\">\n  <thead>\n    <tr style=\"text-align: right;\">\n      <th></th>\n      <th>idpostulante</th>\n      <th>nombre</th>\n      <th>estado</th>\n    </tr>\n  </thead>\n  <tbody>\n    <tr>\n      <th>0</th>\n      <td>NdJl</td>\n      <td>Posgrado</td>\n      <td>En Curso</td>\n    </tr>\n    <tr>\n      <th>1</th>\n      <td>8BkL</td>\n      <td>Universitario</td>\n      <td>En Curso</td>\n    </tr>\n    <tr>\n      <th>2</th>\n      <td>1d2B</td>\n      <td>Universitario</td>\n      <td>En Curso</td>\n    </tr>\n    <tr>\n      <th>3</th>\n      <td>NPBx</td>\n      <td>Universitario</td>\n      <td>En Curso</td>\n    </tr>\n    <tr>\n      <th>4</th>\n      <td>NPBx</td>\n      <td>Master</td>\n      <td>En Curso</td>\n    </tr>\n  </tbody>\n</table>\n</div>"
     },
     "metadata": {},
     "execution_count": 7
    }
   ],
   "source": [
    "df_postEdu.head()"
   ]
  },
  {
   "cell_type": "code",
   "execution_count": 8,
   "metadata": {},
   "outputs": [
    {
     "output_type": "execute_result",
     "data": {
      "text/plain": [
       "  idpostulante fechanacimiento  sexo\n",
       "0         NM5M      1970-12-03   FEM\n",
       "1         5awk      1962-12-04   FEM\n",
       "2         ZaO5      1978-08-10   FEM\n",
       "3         NdJl      1969-05-09  MASC\n",
       "4         eo2p      1981-02-16  MASC"
      ],
      "text/html": "<div>\n<style scoped>\n    .dataframe tbody tr th:only-of-type {\n        vertical-align: middle;\n    }\n\n    .dataframe tbody tr th {\n        vertical-align: top;\n    }\n\n    .dataframe thead th {\n        text-align: right;\n    }\n</style>\n<table border=\"1\" class=\"dataframe\">\n  <thead>\n    <tr style=\"text-align: right;\">\n      <th></th>\n      <th>idpostulante</th>\n      <th>fechanacimiento</th>\n      <th>sexo</th>\n    </tr>\n  </thead>\n  <tbody>\n    <tr>\n      <th>0</th>\n      <td>NM5M</td>\n      <td>1970-12-03</td>\n      <td>FEM</td>\n    </tr>\n    <tr>\n      <th>1</th>\n      <td>5awk</td>\n      <td>1962-12-04</td>\n      <td>FEM</td>\n    </tr>\n    <tr>\n      <th>2</th>\n      <td>ZaO5</td>\n      <td>1978-08-10</td>\n      <td>FEM</td>\n    </tr>\n    <tr>\n      <th>3</th>\n      <td>NdJl</td>\n      <td>1969-05-09</td>\n      <td>MASC</td>\n    </tr>\n    <tr>\n      <th>4</th>\n      <td>eo2p</td>\n      <td>1981-02-16</td>\n      <td>MASC</td>\n    </tr>\n  </tbody>\n</table>\n</div>"
     },
     "metadata": {},
     "execution_count": 8
    }
   ],
   "source": [
    "df_postGenero.head()"
   ]
  },
  {
   "cell_type": "code",
   "execution_count": 9,
   "metadata": {},
   "outputs": [
    {
     "output_type": "execute_result",
     "data": {
      "text/plain": [
       "      idaviso idpostulante     fechapostulacion\n",
       "0  1112257047         NM5M  2018-01-15 16:22:34\n",
       "1  1111920714         NM5M  2018-02-06 09:04:50\n",
       "2  1112346945         NM5M  2018-02-22 09:04:47\n",
       "3  1112345547         NM5M  2018-02-22 09:04:59\n",
       "4  1112237522         5awk  2018-01-25 18:55:03"
      ],
      "text/html": "<div>\n<style scoped>\n    .dataframe tbody tr th:only-of-type {\n        vertical-align: middle;\n    }\n\n    .dataframe tbody tr th {\n        vertical-align: top;\n    }\n\n    .dataframe thead th {\n        text-align: right;\n    }\n</style>\n<table border=\"1\" class=\"dataframe\">\n  <thead>\n    <tr style=\"text-align: right;\">\n      <th></th>\n      <th>idaviso</th>\n      <th>idpostulante</th>\n      <th>fechapostulacion</th>\n    </tr>\n  </thead>\n  <tbody>\n    <tr>\n      <th>0</th>\n      <td>1112257047</td>\n      <td>NM5M</td>\n      <td>2018-01-15 16:22:34</td>\n    </tr>\n    <tr>\n      <th>1</th>\n      <td>1111920714</td>\n      <td>NM5M</td>\n      <td>2018-02-06 09:04:50</td>\n    </tr>\n    <tr>\n      <th>2</th>\n      <td>1112346945</td>\n      <td>NM5M</td>\n      <td>2018-02-22 09:04:47</td>\n    </tr>\n    <tr>\n      <th>3</th>\n      <td>1112345547</td>\n      <td>NM5M</td>\n      <td>2018-02-22 09:04:59</td>\n    </tr>\n    <tr>\n      <th>4</th>\n      <td>1112237522</td>\n      <td>5awk</td>\n      <td>2018-01-25 18:55:03</td>\n    </tr>\n  </tbody>\n</table>\n</div>"
     },
     "metadata": {},
     "execution_count": 9
    }
   ],
   "source": [
    "df_train.head()"
   ]
  },
  {
   "cell_type": "code",
   "execution_count": 10,
   "metadata": {},
   "outputs": [
    {
     "output_type": "execute_result",
     "data": {
      "text/plain": [
       "      idaviso idpostulante\n",
       "0  1112427970         ZaO5\n",
       "1  1112427970         NdJl\n",
       "2  1112427970         5kNq\n",
       "3  1112427970         Ez8J\n",
       "4  1112427970         erL9"
      ],
      "text/html": "<div>\n<style scoped>\n    .dataframe tbody tr th:only-of-type {\n        vertical-align: middle;\n    }\n\n    .dataframe tbody tr th {\n        vertical-align: top;\n    }\n\n    .dataframe thead th {\n        text-align: right;\n    }\n</style>\n<table border=\"1\" class=\"dataframe\">\n  <thead>\n    <tr style=\"text-align: right;\">\n      <th></th>\n      <th>idaviso</th>\n      <th>idpostulante</th>\n    </tr>\n  </thead>\n  <tbody>\n    <tr>\n      <th>0</th>\n      <td>1112427970</td>\n      <td>ZaO5</td>\n    </tr>\n    <tr>\n      <th>1</th>\n      <td>1112427970</td>\n      <td>NdJl</td>\n    </tr>\n    <tr>\n      <th>2</th>\n      <td>1112427970</td>\n      <td>5kNq</td>\n    </tr>\n    <tr>\n      <th>3</th>\n      <td>1112427970</td>\n      <td>Ez8J</td>\n    </tr>\n    <tr>\n      <th>4</th>\n      <td>1112427970</td>\n      <td>erL9</td>\n    </tr>\n  </tbody>\n</table>\n</div>"
     },
     "metadata": {},
     "execution_count": 10
    }
   ],
   "source": [
    "df_test.head()"
   ]
  },
  {
   "cell_type": "code",
   "execution_count": 11,
   "metadata": {},
   "outputs": [
    {
     "output_type": "execute_result",
     "data": {
      "text/plain": [
       "156232"
      ]
     },
     "metadata": {},
     "execution_count": 11
    }
   ],
   "source": [
    "len(df_test.idpostulante.unique())\n"
   ]
  },
  {
   "cell_type": "code",
   "execution_count": 12,
   "metadata": {},
   "outputs": [
    {
     "output_type": "execute_result",
     "data": {
      "text/plain": [
       "           idaviso idpostulante\n",
       "0       1112427970         ZaO5\n",
       "156232  1112094756         ZaO5"
      ],
      "text/html": "<div>\n<style scoped>\n    .dataframe tbody tr th:only-of-type {\n        vertical-align: middle;\n    }\n\n    .dataframe tbody tr th {\n        vertical-align: top;\n    }\n\n    .dataframe thead th {\n        text-align: right;\n    }\n</style>\n<table border=\"1\" class=\"dataframe\">\n  <thead>\n    <tr style=\"text-align: right;\">\n      <th></th>\n      <th>idaviso</th>\n      <th>idpostulante</th>\n    </tr>\n  </thead>\n  <tbody>\n    <tr>\n      <th>0</th>\n      <td>1112427970</td>\n      <td>ZaO5</td>\n    </tr>\n    <tr>\n      <th>156232</th>\n      <td>1112094756</td>\n      <td>ZaO5</td>\n    </tr>\n  </tbody>\n</table>\n</div>"
     },
     "metadata": {},
     "execution_count": 12
    }
   ],
   "source": [
    "df_test.loc[df_test['idpostulante']=='ZaO5']"
   ]
  },
  {
   "cell_type": "code",
   "execution_count": null,
   "metadata": {},
   "outputs": [],
   "source": []
  },
  {
   "cell_type": "code",
   "execution_count": 24,
   "metadata": {},
   "outputs": [],
   "source": [
    "#Elimino filas repetidas\n",
    "df_postEdu=df_postEdu.drop_duplicates(subset='idpostulante')\n",
    "df_postGenero=df_postGenero.drop_duplicates(subset='idpostulante')"
   ]
  },
  {
   "cell_type": "code",
   "execution_count": 25,
   "metadata": {},
   "outputs": [
    {
     "output_type": "execute_result",
     "data": {
      "text/plain": [
       "       idpostulante fechanacimiento  sexo             nombre    estado\n",
       "0              NM5M      1970-12-03   FEM         Secundario  Graduado\n",
       "1              5awk      1962-12-04   FEM      Universitario  Graduado\n",
       "2              ZaO5      1978-08-10   FEM  Terciario/Técnico  Graduado\n",
       "3              NdJl      1969-05-09  MASC           Posgrado  En Curso\n",
       "4              eo2p      1981-02-16  MASC         Secundario  Graduado\n",
       "...             ...             ...   ...                ...       ...\n",
       "447904      GNZr6xw      1997-08-17  MASC      Universitario  En Curso\n",
       "447905      OqrJ8zv      1998-06-23   FEM  Terciario/Técnico  Graduado\n",
       "447906      X95VzpK      1998-02-25  MASC      Universitario  En Curso\n",
       "447907      QNr9A2N      1992-08-01  MASC             Master  En Curso\n",
       "447908      bOjBk8b      1974-12-19   FEM  Terciario/Técnico  Graduado\n",
       "\n",
       "[447909 rows x 5 columns]"
      ],
      "text/html": "<div>\n<style scoped>\n    .dataframe tbody tr th:only-of-type {\n        vertical-align: middle;\n    }\n\n    .dataframe tbody tr th {\n        vertical-align: top;\n    }\n\n    .dataframe thead th {\n        text-align: right;\n    }\n</style>\n<table border=\"1\" class=\"dataframe\">\n  <thead>\n    <tr style=\"text-align: right;\">\n      <th></th>\n      <th>idpostulante</th>\n      <th>fechanacimiento</th>\n      <th>sexo</th>\n      <th>nombre</th>\n      <th>estado</th>\n    </tr>\n  </thead>\n  <tbody>\n    <tr>\n      <th>0</th>\n      <td>NM5M</td>\n      <td>1970-12-03</td>\n      <td>FEM</td>\n      <td>Secundario</td>\n      <td>Graduado</td>\n    </tr>\n    <tr>\n      <th>1</th>\n      <td>5awk</td>\n      <td>1962-12-04</td>\n      <td>FEM</td>\n      <td>Universitario</td>\n      <td>Graduado</td>\n    </tr>\n    <tr>\n      <th>2</th>\n      <td>ZaO5</td>\n      <td>1978-08-10</td>\n      <td>FEM</td>\n      <td>Terciario/Técnico</td>\n      <td>Graduado</td>\n    </tr>\n    <tr>\n      <th>3</th>\n      <td>NdJl</td>\n      <td>1969-05-09</td>\n      <td>MASC</td>\n      <td>Posgrado</td>\n      <td>En Curso</td>\n    </tr>\n    <tr>\n      <th>4</th>\n      <td>eo2p</td>\n      <td>1981-02-16</td>\n      <td>MASC</td>\n      <td>Secundario</td>\n      <td>Graduado</td>\n    </tr>\n    <tr>\n      <th>...</th>\n      <td>...</td>\n      <td>...</td>\n      <td>...</td>\n      <td>...</td>\n      <td>...</td>\n    </tr>\n    <tr>\n      <th>447904</th>\n      <td>GNZr6xw</td>\n      <td>1997-08-17</td>\n      <td>MASC</td>\n      <td>Universitario</td>\n      <td>En Curso</td>\n    </tr>\n    <tr>\n      <th>447905</th>\n      <td>OqrJ8zv</td>\n      <td>1998-06-23</td>\n      <td>FEM</td>\n      <td>Terciario/Técnico</td>\n      <td>Graduado</td>\n    </tr>\n    <tr>\n      <th>447906</th>\n      <td>X95VzpK</td>\n      <td>1998-02-25</td>\n      <td>MASC</td>\n      <td>Universitario</td>\n      <td>En Curso</td>\n    </tr>\n    <tr>\n      <th>447907</th>\n      <td>QNr9A2N</td>\n      <td>1992-08-01</td>\n      <td>MASC</td>\n      <td>Master</td>\n      <td>En Curso</td>\n    </tr>\n    <tr>\n      <th>447908</th>\n      <td>bOjBk8b</td>\n      <td>1974-12-19</td>\n      <td>FEM</td>\n      <td>Terciario/Técnico</td>\n      <td>Graduado</td>\n    </tr>\n  </tbody>\n</table>\n<p>447909 rows × 5 columns</p>\n</div>"
     },
     "metadata": {},
     "execution_count": 25
    }
   ],
   "source": [
    "# Acumulo informacion de los postulantes\n",
    "df_postulante = df_postGenero.merge(df_postEdu, on='idpostulante')\n",
    "df_postulante"
   ]
  },
  {
   "cell_type": "code",
   "execution_count": 26,
   "metadata": {},
   "outputs": [
    {
     "output_type": "execute_result",
     "data": {
      "text/plain": [
       "    idpostulante         nombre    estado\n",
       "671         5awk  Universitario  Graduado"
      ],
      "text/html": "<div>\n<style scoped>\n    .dataframe tbody tr th:only-of-type {\n        vertical-align: middle;\n    }\n\n    .dataframe tbody tr th {\n        vertical-align: top;\n    }\n\n    .dataframe thead th {\n        text-align: right;\n    }\n</style>\n<table border=\"1\" class=\"dataframe\">\n  <thead>\n    <tr style=\"text-align: right;\">\n      <th></th>\n      <th>idpostulante</th>\n      <th>nombre</th>\n      <th>estado</th>\n    </tr>\n  </thead>\n  <tbody>\n    <tr>\n      <th>671</th>\n      <td>5awk</td>\n      <td>Universitario</td>\n      <td>Graduado</td>\n    </tr>\n  </tbody>\n</table>\n</div>"
     },
     "metadata": {},
     "execution_count": 26
    }
   ],
   "source": []
  },
  {
   "cell_type": "code",
   "execution_count": 32,
   "metadata": {},
   "outputs": [
    {
     "output_type": "stream",
     "name": "stdout",
     "text": [
      "(24950, 11) (18362, 3)\n"
     ]
    }
   ],
   "source": [
    "print(df_aDetalle.shape, df_aOnline.shape)"
   ]
  },
  {
   "cell_type": "code",
   "execution_count": 47,
   "metadata": {},
   "outputs": [],
   "source": [
    "# Me quedo con las publicaciones que tiene fecha de inicio y fin, las otras las elimino.\n",
    "df_publicacion = df_aDetalle.merge(df_aOnline, on='idaviso')\n",
    "# Elimino idPais: Son todos 1\n",
    "df_publicacion = df_publicacion.drop(['idpais','descripcion','tipo_de_trabajo', 'ciudad', 'mapacalle'], axis=1)"
   ]
  },
  {
   "cell_type": "code",
   "execution_count": 48,
   "metadata": {},
   "outputs": [
    {
     "output_type": "execute_result",
     "data": {
      "text/plain": [
       "          idaviso                                             titulo  \\\n",
       "0         8725750                   VENDEDOR/A PROVINCIA DE SANTA FE   \n",
       "1        17903700                                         Enfermeras   \n",
       "2      1000610287      CHOFER DE CAMIONETA BAHIA BLANCA - PUNTA ALTA   \n",
       "3      1001135716      Vendedor Viajante TUCUMAN/SANTIAGO DEL ESTERO   \n",
       "4      1001326344           Vendedor Viajante RECONQUISTA/AVELLANEDA   \n",
       "...           ...                                                ...   \n",
       "18357  1112407528                     Analista Contable - Impositivo   \n",
       "18358  1112407400  Entrevista CAJERO REPOSITOR presentarse LUNES ...   \n",
       "18359  1112407609                              Tecnico sector moldes   \n",
       "18360  1112407882                                Analista de Nominas   \n",
       "18361  1111687072                      Operarios con exp en Ensamble   \n",
       "\n",
       "             nombre_zona tipo_de_trabajo         nivel_laboral  \\\n",
       "0      Gran Buenos Aires       Full-time  Senior / Semi-Senior   \n",
       "1      Gran Buenos Aires       Full-time  Senior / Semi-Senior   \n",
       "2      Gran Buenos Aires       Full-time  Senior / Semi-Senior   \n",
       "3      Gran Buenos Aires       Full-time  Senior / Semi-Senior   \n",
       "4      Gran Buenos Aires       Full-time  Senior / Semi-Senior   \n",
       "...                  ...             ...                   ...   \n",
       "18357  Gran Buenos Aires       Full-time  Senior / Semi-Senior   \n",
       "18358  Gran Buenos Aires       Full-time                Junior   \n",
       "18359  Gran Buenos Aires       Full-time  Senior / Semi-Senior   \n",
       "18360  Gran Buenos Aires       Full-time  Senior / Semi-Senior   \n",
       "18361  Gran Buenos Aires       Full-time  Senior / Semi-Senior   \n",
       "\n",
       "                      nombre_area     denominacion_empresa online_desde  \\\n",
       "0                       Comercial                   VENTOR   2018-01-15   \n",
       "1                           Salud  Farmacias Central Oeste   2018-03-20   \n",
       "2                      Transporte      Wurth Argentina S.A   2018-01-15   \n",
       "3                          Ventas      Wurth Argentina S.A   2018-01-15   \n",
       "4                          Ventas      Wurth Argentina S.A   2018-01-15   \n",
       "...                           ...                      ...          ...   \n",
       "18357                Contabilidad       GI GROUP Argentina   2018-03-16   \n",
       "18358                   Comercial               Suministra   2018-03-16   \n",
       "18359                 Laboratorio                 GAES S A   2018-03-16   \n",
       "18360  Administración de Personal          Nexo Consultora   2018-03-19   \n",
       "18361                  Producción  Estrategia Laboral S.A.   2018-03-15   \n",
       "\n",
       "      online_hasta  \n",
       "0       2018-02-10  \n",
       "1       2018-04-17  \n",
       "2       2018-03-17  \n",
       "3       2018-04-16  \n",
       "4       2018-03-27  \n",
       "...            ...  \n",
       "18357   2018-03-18  \n",
       "18358   2018-03-20  \n",
       "18359   2018-04-13  \n",
       "18360   2018-03-25  \n",
       "18361   2018-04-13  \n",
       "\n",
       "[18362 rows x 9 columns]"
      ],
      "text/html": "<div>\n<style scoped>\n    .dataframe tbody tr th:only-of-type {\n        vertical-align: middle;\n    }\n\n    .dataframe tbody tr th {\n        vertical-align: top;\n    }\n\n    .dataframe thead th {\n        text-align: right;\n    }\n</style>\n<table border=\"1\" class=\"dataframe\">\n  <thead>\n    <tr style=\"text-align: right;\">\n      <th></th>\n      <th>idaviso</th>\n      <th>titulo</th>\n      <th>nombre_zona</th>\n      <th>tipo_de_trabajo</th>\n      <th>nivel_laboral</th>\n      <th>nombre_area</th>\n      <th>denominacion_empresa</th>\n      <th>online_desde</th>\n      <th>online_hasta</th>\n    </tr>\n  </thead>\n  <tbody>\n    <tr>\n      <th>0</th>\n      <td>8725750</td>\n      <td>VENDEDOR/A PROVINCIA DE SANTA FE</td>\n      <td>Gran Buenos Aires</td>\n      <td>Full-time</td>\n      <td>Senior / Semi-Senior</td>\n      <td>Comercial</td>\n      <td>VENTOR</td>\n      <td>2018-01-15</td>\n      <td>2018-02-10</td>\n    </tr>\n    <tr>\n      <th>1</th>\n      <td>17903700</td>\n      <td>Enfermeras</td>\n      <td>Gran Buenos Aires</td>\n      <td>Full-time</td>\n      <td>Senior / Semi-Senior</td>\n      <td>Salud</td>\n      <td>Farmacias Central Oeste</td>\n      <td>2018-03-20</td>\n      <td>2018-04-17</td>\n    </tr>\n    <tr>\n      <th>2</th>\n      <td>1000610287</td>\n      <td>CHOFER DE CAMIONETA BAHIA BLANCA - PUNTA ALTA</td>\n      <td>Gran Buenos Aires</td>\n      <td>Full-time</td>\n      <td>Senior / Semi-Senior</td>\n      <td>Transporte</td>\n      <td>Wurth Argentina S.A</td>\n      <td>2018-01-15</td>\n      <td>2018-03-17</td>\n    </tr>\n    <tr>\n      <th>3</th>\n      <td>1001135716</td>\n      <td>Vendedor Viajante TUCUMAN/SANTIAGO DEL ESTERO</td>\n      <td>Gran Buenos Aires</td>\n      <td>Full-time</td>\n      <td>Senior / Semi-Senior</td>\n      <td>Ventas</td>\n      <td>Wurth Argentina S.A</td>\n      <td>2018-01-15</td>\n      <td>2018-04-16</td>\n    </tr>\n    <tr>\n      <th>4</th>\n      <td>1001326344</td>\n      <td>Vendedor Viajante RECONQUISTA/AVELLANEDA</td>\n      <td>Gran Buenos Aires</td>\n      <td>Full-time</td>\n      <td>Senior / Semi-Senior</td>\n      <td>Ventas</td>\n      <td>Wurth Argentina S.A</td>\n      <td>2018-01-15</td>\n      <td>2018-03-27</td>\n    </tr>\n    <tr>\n      <th>...</th>\n      <td>...</td>\n      <td>...</td>\n      <td>...</td>\n      <td>...</td>\n      <td>...</td>\n      <td>...</td>\n      <td>...</td>\n      <td>...</td>\n      <td>...</td>\n    </tr>\n    <tr>\n      <th>18357</th>\n      <td>1112407528</td>\n      <td>Analista Contable - Impositivo</td>\n      <td>Gran Buenos Aires</td>\n      <td>Full-time</td>\n      <td>Senior / Semi-Senior</td>\n      <td>Contabilidad</td>\n      <td>GI GROUP Argentina</td>\n      <td>2018-03-16</td>\n      <td>2018-03-18</td>\n    </tr>\n    <tr>\n      <th>18358</th>\n      <td>1112407400</td>\n      <td>Entrevista CAJERO REPOSITOR presentarse LUNES ...</td>\n      <td>Gran Buenos Aires</td>\n      <td>Full-time</td>\n      <td>Junior</td>\n      <td>Comercial</td>\n      <td>Suministra</td>\n      <td>2018-03-16</td>\n      <td>2018-03-20</td>\n    </tr>\n    <tr>\n      <th>18359</th>\n      <td>1112407609</td>\n      <td>Tecnico sector moldes</td>\n      <td>Gran Buenos Aires</td>\n      <td>Full-time</td>\n      <td>Senior / Semi-Senior</td>\n      <td>Laboratorio</td>\n      <td>GAES S A</td>\n      <td>2018-03-16</td>\n      <td>2018-04-13</td>\n    </tr>\n    <tr>\n      <th>18360</th>\n      <td>1112407882</td>\n      <td>Analista de Nominas</td>\n      <td>Gran Buenos Aires</td>\n      <td>Full-time</td>\n      <td>Senior / Semi-Senior</td>\n      <td>Administración de Personal</td>\n      <td>Nexo Consultora</td>\n      <td>2018-03-19</td>\n      <td>2018-03-25</td>\n    </tr>\n    <tr>\n      <th>18361</th>\n      <td>1111687072</td>\n      <td>Operarios con exp en Ensamble</td>\n      <td>Gran Buenos Aires</td>\n      <td>Full-time</td>\n      <td>Senior / Semi-Senior</td>\n      <td>Producción</td>\n      <td>Estrategia Laboral S.A.</td>\n      <td>2018-03-15</td>\n      <td>2018-04-13</td>\n    </tr>\n  </tbody>\n</table>\n<p>18362 rows × 9 columns</p>\n</div>"
     },
     "metadata": {},
     "execution_count": 48
    }
   ],
   "source": [
    "df_publicacion"
   ]
  },
  {
   "cell_type": "code",
   "execution_count": null,
   "metadata": {},
   "outputs": [],
   "source": []
  }
 ],
 "metadata": {
  "kernelspec": {
   "name": "python3",
   "display_name": "Python 3.7.5 64-bit ('base': conda)",
   "metadata": {
    "interpreter": {
     "hash": "9a37e5188a605e95d3282a4fb8007f4c3c52885d8cd12f2ffcfc398feaa7ff36"
    }
   }
  },
  "language_info": {
   "codemirror_mode": {
    "name": "ipython",
    "version": 3
   },
   "file_extension": ".py",
   "mimetype": "text/x-python",
   "name": "python",
   "nbconvert_exporter": "python",
   "pygments_lexer": "ipython3",
   "version": "3.7.5-final"
  }
 },
 "nbformat": 4,
 "nbformat_minor": 4
}