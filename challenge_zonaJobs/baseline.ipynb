{
 "cells": [
  {
   "cell_type": "code",
   "execution_count": 24,
   "metadata": {},
   "outputs": [
    {
     "output_type": "execute_result",
     "data": {
      "text/plain": [
       "0       8725750\n",
       "1      17903700\n",
       "2    1000610287\n",
       "3    1001135716\n",
       "4    1001326344\n",
       "Name: idaviso, dtype: int64"
      ]
     },
     "metadata": {},
     "execution_count": 24
    }
   ],
   "source": [
    "# Todos los candidatos de avisos posibles\n",
    "avisos_diff = df_avisos_diff.idaviso\n",
    "avisos_diff.head()"
   ]
  },
  {
   "cell_type": "code",
   "execution_count": 1,
   "metadata": {},
   "outputs": [],
   "source": [
    "import pandas as pd\n",
    "import numpy as np\n",
    "import time, os\n",
    "import random\n",
    "from datetime import datetime\n",
    "from sklearn.model_selection import train_test_split\n",
    "from tqdm import tqdm, tqdm_notebook\n",
    "import lightgbm as lgb"
   ]
  },
  {
   "source": [
    "## Init"
   ],
   "cell_type": "markdown",
   "metadata": {}
  },
  {
   "cell_type": "code",
   "execution_count": 2,
   "metadata": {},
   "outputs": [
    {
     "output_type": "stream",
     "name": "stdout",
     "text": [
      "(312464, 2) (18362, 7)\n"
     ]
    }
   ],
   "source": [
    "df_test = pd.read_csv('./data/ejemplo_de_solucion.csv')\n",
    "df_avisos = pd.read_csv('./data/avisos/avisos_filtrados.csv')\n",
    "print(df_test.shape, df_avisos.shape)"
   ]
  },
  {
   "source": [
    "## Baseline_1: Azar"
   ],
   "cell_type": "markdown",
   "metadata": {}
  },
  {
   "cell_type": "code",
   "execution_count": 3,
   "metadata": {},
   "outputs": [
    {
     "output_type": "execute_result",
     "data": {
      "text/plain": [
       "0       8725750\n",
       "1      17903700\n",
       "2    1000610287\n",
       "3    1001135716\n",
       "4    1001326344\n",
       "Name: idaviso, dtype: int64"
      ]
     },
     "metadata": {},
     "execution_count": 3
    }
   ],
   "source": [
    "# Todos los candidatos de avisos posibles\n",
    "avisos = df_avisos.idaviso\n",
    "avisos.head()"
   ]
  },
  {
   "cell_type": "code",
   "execution_count": 22,
   "metadata": {},
   "outputs": [
    {
     "output_type": "execute_result",
     "data": {
      "text/plain": [
       "0    ZaO5\n",
       "1    NdJl\n",
       "2    5kNq\n",
       "3    Ez8J\n",
       "4    erL9\n",
       "Name: idpostulante, dtype: object"
      ]
     },
     "metadata": {},
     "execution_count": 22
    }
   ],
   "source": [
    "#Postulantes a recomendar avisos\n",
    "postulantes = df_test.idpostulante\n",
    "postulantes.head()"
   ]
  },
  {
   "cell_type": "code",
   "execution_count": 5,
   "metadata": {},
   "outputs": [
    {
     "output_type": "execute_result",
     "data": {
      "text/plain": [
       "1112315908"
      ]
     },
     "metadata": {},
     "execution_count": 5
    }
   ],
   "source": [
    "avisoRandom = random.choices(avisos)[0]\n",
    "avisoRandom"
   ]
  },
  {
   "cell_type": "code",
   "execution_count": 6,
   "metadata": {
    "tags": []
   },
   "outputs": [],
   "source": [
    "list_pred = []\n",
    "\n",
    "for row in postulantes:\n",
    "    row_pred = dict()\n",
    "    row_pred[\"idaviso\"] = random.choices(avisos)[0]\n",
    "    row_pred[\"idpostulante\"] = row\n",
    "    list_pred.append(row_pred)\n",
    "   "
   ]
  },
  {
   "cell_type": "code",
   "execution_count": 7,
   "metadata": {},
   "outputs": [
    {
     "output_type": "execute_result",
     "data": {
      "text/plain": [
       "      idaviso idpostulante\n",
       "0  1112300756         ZaO5\n",
       "1  1112431016         NdJl\n",
       "2  1112279042         5kNq\n",
       "3  1112226644         Ez8J\n",
       "4  1112207834         erL9"
      ],
      "text/html": "<div>\n<style scoped>\n    .dataframe tbody tr th:only-of-type {\n        vertical-align: middle;\n    }\n\n    .dataframe tbody tr th {\n        vertical-align: top;\n    }\n\n    .dataframe thead th {\n        text-align: right;\n    }\n</style>\n<table border=\"1\" class=\"dataframe\">\n  <thead>\n    <tr style=\"text-align: right;\">\n      <th></th>\n      <th>idaviso</th>\n      <th>idpostulante</th>\n    </tr>\n  </thead>\n  <tbody>\n    <tr>\n      <th>0</th>\n      <td>1112300756</td>\n      <td>ZaO5</td>\n    </tr>\n    <tr>\n      <th>1</th>\n      <td>1112431016</td>\n      <td>NdJl</td>\n    </tr>\n    <tr>\n      <th>2</th>\n      <td>1112279042</td>\n      <td>5kNq</td>\n    </tr>\n    <tr>\n      <th>3</th>\n      <td>1112226644</td>\n      <td>Ez8J</td>\n    </tr>\n    <tr>\n      <th>4</th>\n      <td>1112207834</td>\n      <td>erL9</td>\n    </tr>\n  </tbody>\n</table>\n</div>"
     },
     "metadata": {},
     "execution_count": 7
    }
   ],
   "source": [
    "df_baseLine_1 = pd.DataFrame(list_pred)\n",
    "df_baseLine_1.head()"
   ]
  },
  {
   "cell_type": "code",
   "execution_count": 10,
   "metadata": {},
   "outputs": [],
   "source": [
    "#df_baseLine_1.to_csv(\"./submissions/baseLine_1.csv\", index=False)\n",
    "# Resultado Kaggle: 0.00017"
   ]
  },
  {
   "source": [
    "## Baseline_2: Predigo un aviso y lo repito en todas las apariciones"
   ],
   "cell_type": "markdown",
   "metadata": {}
  },
  {
   "cell_type": "code",
   "execution_count": 8,
   "metadata": {},
   "outputs": [],
   "source": [
    "df_postulantes = pd.read_csv('./data/postulantes/postulantes_train_full.csv')\n",
    "df_train = pd.read_csv('./data/postulaciones/postulaciones_train.csv')"
   ]
  },
  {
   "cell_type": "code",
   "execution_count": 19,
   "metadata": {},
   "outputs": [],
   "source": [
    "#df_train = df_train[:10000]"
   ]
  },
  {
   "cell_type": "code",
   "execution_count": 10,
   "metadata": {},
   "outputs": [
    {
     "output_type": "execute_result",
     "data": {
      "text/plain": [
       "       idpostulante fechanacimiento  sexo             nombre    estado\n",
       "0              NM5M      1970-12-03   FEM         Secundario  Graduado\n",
       "1              5awk      1962-12-04   FEM      Universitario  Graduado\n",
       "2              ZaO5      1978-08-10   FEM  Terciario/Técnico  Graduado\n",
       "3              NdJl      1969-05-09  MASC           Posgrado  En Curso\n",
       "4              eo2p      1981-02-16  MASC         Secundario  Graduado\n",
       "...             ...             ...   ...                ...       ...\n",
       "447904      GNZr6xw      1997-08-17  MASC      Universitario  En Curso\n",
       "447905      OqrJ8zv      1998-06-23   FEM  Terciario/Técnico  Graduado\n",
       "447906      X95VzpK      1998-02-25  MASC      Universitario  En Curso\n",
       "447907      QNr9A2N      1992-08-01  MASC             Master  En Curso\n",
       "447908      bOjBk8b      1974-12-19   FEM  Terciario/Técnico  Graduado\n",
       "\n",
       "[447909 rows x 5 columns]"
      ],
      "text/html": "<div>\n<style scoped>\n    .dataframe tbody tr th:only-of-type {\n        vertical-align: middle;\n    }\n\n    .dataframe tbody tr th {\n        vertical-align: top;\n    }\n\n    .dataframe thead th {\n        text-align: right;\n    }\n</style>\n<table border=\"1\" class=\"dataframe\">\n  <thead>\n    <tr style=\"text-align: right;\">\n      <th></th>\n      <th>idpostulante</th>\n      <th>fechanacimiento</th>\n      <th>sexo</th>\n      <th>nombre</th>\n      <th>estado</th>\n    </tr>\n  </thead>\n  <tbody>\n    <tr>\n      <th>0</th>\n      <td>NM5M</td>\n      <td>1970-12-03</td>\n      <td>FEM</td>\n      <td>Secundario</td>\n      <td>Graduado</td>\n    </tr>\n    <tr>\n      <th>1</th>\n      <td>5awk</td>\n      <td>1962-12-04</td>\n      <td>FEM</td>\n      <td>Universitario</td>\n      <td>Graduado</td>\n    </tr>\n    <tr>\n      <th>2</th>\n      <td>ZaO5</td>\n      <td>1978-08-10</td>\n      <td>FEM</td>\n      <td>Terciario/Técnico</td>\n      <td>Graduado</td>\n    </tr>\n    <tr>\n      <th>3</th>\n      <td>NdJl</td>\n      <td>1969-05-09</td>\n      <td>MASC</td>\n      <td>Posgrado</td>\n      <td>En Curso</td>\n    </tr>\n    <tr>\n      <th>4</th>\n      <td>eo2p</td>\n      <td>1981-02-16</td>\n      <td>MASC</td>\n      <td>Secundario</td>\n      <td>Graduado</td>\n    </tr>\n    <tr>\n      <th>...</th>\n      <td>...</td>\n      <td>...</td>\n      <td>...</td>\n      <td>...</td>\n      <td>...</td>\n    </tr>\n    <tr>\n      <th>447904</th>\n      <td>GNZr6xw</td>\n      <td>1997-08-17</td>\n      <td>MASC</td>\n      <td>Universitario</td>\n      <td>En Curso</td>\n    </tr>\n    <tr>\n      <th>447905</th>\n      <td>OqrJ8zv</td>\n      <td>1998-06-23</td>\n      <td>FEM</td>\n      <td>Terciario/Técnico</td>\n      <td>Graduado</td>\n    </tr>\n    <tr>\n      <th>447906</th>\n      <td>X95VzpK</td>\n      <td>1998-02-25</td>\n      <td>MASC</td>\n      <td>Universitario</td>\n      <td>En Curso</td>\n    </tr>\n    <tr>\n      <th>447907</th>\n      <td>QNr9A2N</td>\n      <td>1992-08-01</td>\n      <td>MASC</td>\n      <td>Master</td>\n      <td>En Curso</td>\n    </tr>\n    <tr>\n      <th>447908</th>\n      <td>bOjBk8b</td>\n      <td>1974-12-19</td>\n      <td>FEM</td>\n      <td>Terciario/Técnico</td>\n      <td>Graduado</td>\n    </tr>\n  </tbody>\n</table>\n<p>447909 rows × 5 columns</p>\n</div>"
     },
     "metadata": {},
     "execution_count": 10
    }
   ],
   "source": [
    "df_postulantes"
   ]
  },
  {
   "cell_type": "code",
   "execution_count": 11,
   "metadata": {},
   "outputs": [
    {
     "output_type": "stream",
     "name": "stdout",
     "text": [
      "idaviso                 0\nidpostulante            0\nfechanacimiento    247920\nsexo               179938\nnombre             179938\nestado             179938\ndtype: int64\n"
     ]
    },
    {
     "output_type": "execute_result",
     "data": {
      "text/plain": [
       "            idaviso idpostulante fechanacimiento  sexo         nombre  \\\n",
       "0        1112257047         NM5M      1970-12-03   FEM     Secundario   \n",
       "1        1111920714         NM5M      1970-12-03   FEM     Secundario   \n",
       "2        1112346945         NM5M      1970-12-03   FEM     Secundario   \n",
       "3        1112345547         NM5M      1970-12-03   FEM     Secundario   \n",
       "4        1112237522         5awk      1962-12-04   FEM  Universitario   \n",
       "...             ...          ...             ...   ...            ...   \n",
       "6468684  1112345900      5mPJNDG      1998-07-21   FEM  Universitario   \n",
       "6468685  1112334789      5mPJNDG      1998-07-21   FEM  Universitario   \n",
       "6468686  1112334784      5mPJNDG      1998-07-21   FEM  Universitario   \n",
       "6468687  1112334806      5mPJNDG      1998-07-21   FEM  Universitario   \n",
       "6468688  1110591925      zvabRzD      1976-07-29  MASC     Secundario   \n",
       "\n",
       "           estado  \n",
       "0        Graduado  \n",
       "1        Graduado  \n",
       "2        Graduado  \n",
       "3        Graduado  \n",
       "4        Graduado  \n",
       "...           ...  \n",
       "6468684  En Curso  \n",
       "6468685  En Curso  \n",
       "6468686  En Curso  \n",
       "6468687  En Curso  \n",
       "6468688  Graduado  \n",
       "\n",
       "[6468689 rows x 6 columns]"
      ],
      "text/html": "<div>\n<style scoped>\n    .dataframe tbody tr th:only-of-type {\n        vertical-align: middle;\n    }\n\n    .dataframe tbody tr th {\n        vertical-align: top;\n    }\n\n    .dataframe thead th {\n        text-align: right;\n    }\n</style>\n<table border=\"1\" class=\"dataframe\">\n  <thead>\n    <tr style=\"text-align: right;\">\n      <th></th>\n      <th>idaviso</th>\n      <th>idpostulante</th>\n      <th>fechanacimiento</th>\n      <th>sexo</th>\n      <th>nombre</th>\n      <th>estado</th>\n    </tr>\n  </thead>\n  <tbody>\n    <tr>\n      <th>0</th>\n      <td>1112257047</td>\n      <td>NM5M</td>\n      <td>1970-12-03</td>\n      <td>FEM</td>\n      <td>Secundario</td>\n      <td>Graduado</td>\n    </tr>\n    <tr>\n      <th>1</th>\n      <td>1111920714</td>\n      <td>NM5M</td>\n      <td>1970-12-03</td>\n      <td>FEM</td>\n      <td>Secundario</td>\n      <td>Graduado</td>\n    </tr>\n    <tr>\n      <th>2</th>\n      <td>1112346945</td>\n      <td>NM5M</td>\n      <td>1970-12-03</td>\n      <td>FEM</td>\n      <td>Secundario</td>\n      <td>Graduado</td>\n    </tr>\n    <tr>\n      <th>3</th>\n      <td>1112345547</td>\n      <td>NM5M</td>\n      <td>1970-12-03</td>\n      <td>FEM</td>\n      <td>Secundario</td>\n      <td>Graduado</td>\n    </tr>\n    <tr>\n      <th>4</th>\n      <td>1112237522</td>\n      <td>5awk</td>\n      <td>1962-12-04</td>\n      <td>FEM</td>\n      <td>Universitario</td>\n      <td>Graduado</td>\n    </tr>\n    <tr>\n      <th>...</th>\n      <td>...</td>\n      <td>...</td>\n      <td>...</td>\n      <td>...</td>\n      <td>...</td>\n      <td>...</td>\n    </tr>\n    <tr>\n      <th>6468684</th>\n      <td>1112345900</td>\n      <td>5mPJNDG</td>\n      <td>1998-07-21</td>\n      <td>FEM</td>\n      <td>Universitario</td>\n      <td>En Curso</td>\n    </tr>\n    <tr>\n      <th>6468685</th>\n      <td>1112334789</td>\n      <td>5mPJNDG</td>\n      <td>1998-07-21</td>\n      <td>FEM</td>\n      <td>Universitario</td>\n      <td>En Curso</td>\n    </tr>\n    <tr>\n      <th>6468686</th>\n      <td>1112334784</td>\n      <td>5mPJNDG</td>\n      <td>1998-07-21</td>\n      <td>FEM</td>\n      <td>Universitario</td>\n      <td>En Curso</td>\n    </tr>\n    <tr>\n      <th>6468687</th>\n      <td>1112334806</td>\n      <td>5mPJNDG</td>\n      <td>1998-07-21</td>\n      <td>FEM</td>\n      <td>Universitario</td>\n      <td>En Curso</td>\n    </tr>\n    <tr>\n      <th>6468688</th>\n      <td>1110591925</td>\n      <td>zvabRzD</td>\n      <td>1976-07-29</td>\n      <td>MASC</td>\n      <td>Secundario</td>\n      <td>Graduado</td>\n    </tr>\n  </tbody>\n</table>\n<p>6468689 rows × 6 columns</p>\n</div>"
     },
     "metadata": {},
     "execution_count": 11
    }
   ],
   "source": [
    "df_train_full =  df_train.merge(df_postulantes, on='idpostulante', how='left')\n",
    "df_train_full = df_train_full[['idaviso','idpostulante','fechanacimiento','sexo','nombre','estado']]\n",
    "print(df_train_full.isna().sum())\n",
    "df_train_full"
   ]
  },
  {
   "cell_type": "code",
   "execution_count": 12,
   "metadata": {},
   "outputs": [
    {
     "output_type": "stream",
     "name": "stdout",
     "text": [
      "idaviso                0\nidpostulante           0\nfechanacimiento    26286\nsexo               20790\nnombre             20790\nestado             20790\ndtype: int64\n"
     ]
    },
    {
     "output_type": "execute_result",
     "data": {
      "text/plain": [
       "       idpostulante fechanacimiento  sexo             nombre      estado\n",
       "0              ZaO5      1978-08-10   FEM  Terciario/Técnico    Graduado\n",
       "1              NdJl      1969-05-09  MASC           Posgrado    En Curso\n",
       "2              5kNq      1973-02-08  MASC               Otro    En Curso\n",
       "3              Ez8J      1968-12-18  MASC      Universitario  Abandonado\n",
       "4              erL9      1977-10-02  MASC  Terciario/Técnico    Graduado\n",
       "...             ...             ...   ...                ...         ...\n",
       "312459      EzemRA2      1992-06-22  MASC             Master    Graduado\n",
       "312460      Nzr1RRJ      2000-04-08  MASC         Secundario    Graduado\n",
       "312461      QNrBRk5      1990-10-07  MASC         Secundario    En Curso\n",
       "312462      96XvNjP      1972-03-21   FEM         Secundario    Graduado\n",
       "312463      VNr0qZ2             NaN   NaN                NaN         NaN\n",
       "\n",
       "[312464 rows x 5 columns]"
      ],
      "text/html": "<div>\n<style scoped>\n    .dataframe tbody tr th:only-of-type {\n        vertical-align: middle;\n    }\n\n    .dataframe tbody tr th {\n        vertical-align: top;\n    }\n\n    .dataframe thead th {\n        text-align: right;\n    }\n</style>\n<table border=\"1\" class=\"dataframe\">\n  <thead>\n    <tr style=\"text-align: right;\">\n      <th></th>\n      <th>idpostulante</th>\n      <th>fechanacimiento</th>\n      <th>sexo</th>\n      <th>nombre</th>\n      <th>estado</th>\n    </tr>\n  </thead>\n  <tbody>\n    <tr>\n      <th>0</th>\n      <td>ZaO5</td>\n      <td>1978-08-10</td>\n      <td>FEM</td>\n      <td>Terciario/Técnico</td>\n      <td>Graduado</td>\n    </tr>\n    <tr>\n      <th>1</th>\n      <td>NdJl</td>\n      <td>1969-05-09</td>\n      <td>MASC</td>\n      <td>Posgrado</td>\n      <td>En Curso</td>\n    </tr>\n    <tr>\n      <th>2</th>\n      <td>5kNq</td>\n      <td>1973-02-08</td>\n      <td>MASC</td>\n      <td>Otro</td>\n      <td>En Curso</td>\n    </tr>\n    <tr>\n      <th>3</th>\n      <td>Ez8J</td>\n      <td>1968-12-18</td>\n      <td>MASC</td>\n      <td>Universitario</td>\n      <td>Abandonado</td>\n    </tr>\n    <tr>\n      <th>4</th>\n      <td>erL9</td>\n      <td>1977-10-02</td>\n      <td>MASC</td>\n      <td>Terciario/Técnico</td>\n      <td>Graduado</td>\n    </tr>\n    <tr>\n      <th>...</th>\n      <td>...</td>\n      <td>...</td>\n      <td>...</td>\n      <td>...</td>\n      <td>...</td>\n    </tr>\n    <tr>\n      <th>312459</th>\n      <td>EzemRA2</td>\n      <td>1992-06-22</td>\n      <td>MASC</td>\n      <td>Master</td>\n      <td>Graduado</td>\n    </tr>\n    <tr>\n      <th>312460</th>\n      <td>Nzr1RRJ</td>\n      <td>2000-04-08</td>\n      <td>MASC</td>\n      <td>Secundario</td>\n      <td>Graduado</td>\n    </tr>\n    <tr>\n      <th>312461</th>\n      <td>QNrBRk5</td>\n      <td>1990-10-07</td>\n      <td>MASC</td>\n      <td>Secundario</td>\n      <td>En Curso</td>\n    </tr>\n    <tr>\n      <th>312462</th>\n      <td>96XvNjP</td>\n      <td>1972-03-21</td>\n      <td>FEM</td>\n      <td>Secundario</td>\n      <td>Graduado</td>\n    </tr>\n    <tr>\n      <th>312463</th>\n      <td>VNr0qZ2</td>\n      <td>NaN</td>\n      <td>NaN</td>\n      <td>NaN</td>\n      <td>NaN</td>\n    </tr>\n  </tbody>\n</table>\n<p>312464 rows × 5 columns</p>\n</div>"
     },
     "metadata": {},
     "execution_count": 12
    }
   ],
   "source": [
    "df_test_full =  df_test.merge(df_postulantes, on='idpostulante', how='left')\n",
    "df_test_full = df_test_full[['idaviso','idpostulante','fechanacimiento','sexo','nombre','estado']]\n",
    "print(df_test_full.isna().sum())\n",
    "df_test_full = df_test_full[['idpostulante', 'fechanacimiento','sexo','nombre','estado']]\n",
    "df_test_full"
   ]
  },
  {
   "cell_type": "code",
   "execution_count": 13,
   "metadata": {},
   "outputs": [],
   "source": [
    "df_train_full['idpostulante'] = df_train_full['idpostulante'].astype('category')\n",
    "df_train_full['fechanacimiento'] = df_train_full['fechanacimiento'].astype('category')\n",
    "df_train_full['sexo'] = df_train_full['sexo'].astype('category')\n",
    "df_train_full['nombre'] = df_train_full['nombre'].astype('category')\n",
    "df_train_full['estado'] = df_train_full['estado'].astype('category')\n",
    "\n",
    "df_test_full['idpostulante'] = df_test_full['idpostulante'].astype('category')\n",
    "df_test_full['fechanacimiento'] = df_test_full['fechanacimiento'].astype('category')\n",
    "df_test_full['sexo'] = df_test_full['sexo'].astype('category')\n",
    "df_test_full['nombre'] = df_test_full['nombre'].astype('category')\n",
    "df_test_full['estado'] = df_test_full['estado'].astype('category')"
   ]
  },
  {
   "cell_type": "code",
   "execution_count": 14,
   "metadata": {},
   "outputs": [],
   "source": [
    "full_x = df_train_full[['idpostulante', 'fechanacimiento','sexo','nombre','estado']]\n",
    "full_y = df_train_full[['idaviso']]\n",
    "X_train, X_test, y_train, y_test = train_test_split(full_x, full_y, test_size=0.3, random_state=0)"
   ]
  },
  {
   "cell_type": "code",
   "execution_count": 15,
   "metadata": {},
   "outputs": [],
   "source": [
    "lgb_train = lgb.Dataset(full_x, full_y)"
   ]
  },
  {
   "cell_type": "code",
   "execution_count": 16,
   "metadata": {},
   "outputs": [],
   "source": [
    "# specify your configurations as a dict\n",
    "params = {\n",
    "    'boosting_type': 'gbdt',\n",
    "    'objective': 'regression',\n",
    "    'metric': {'l2', 'l1'},\n",
    "    'num_leaves': 50,\n",
    "    'learning_rate': 0.05,\n",
    "    'feature_fraction': 0.9,\n",
    "    'bagging_fraction': 0.8,\n",
    "    'bagging_freq': 5,\n",
    "    'verbose': 0\n",
    "}\n",
    "# acotar hojas y profundidad\n",
    "# Staking"
   ]
  },
  {
   "cell_type": "code",
   "execution_count": 17,
   "metadata": {},
   "outputs": [
    {
     "output_type": "stream",
     "name": "stdout",
     "text": [
      "Starting training...\n",
      "[LightGBM] [Warning] Auto-choosing row-wise multi-threading, the overhead of testing was 0.049311 seconds.\n",
      "You can set `force_row_wise=true` to remove the overhead.\n",
      "And if memory is not enough, you can set `force_col_wise=true`.\n"
     ]
    }
   ],
   "source": [
    "print('Starting training...')\n",
    "# train\n",
    "#gbm = lgb.train(params, lgb_train, num_boost_round=20, valid_sets=lgb_eval,early_stopping_rounds=5)\n",
    "gbm = lgb.train(params,\n",
    "                lgb_train,\n",
    "                num_boost_round=20)\n",
    "# save model to file\n",
    "#gbm.save_model('model.txt')"
   ]
  },
  {
   "cell_type": "code",
   "execution_count": 18,
   "metadata": {},
   "outputs": [
    {
     "output_type": "stream",
     "name": "stdout",
     "text": [
      "Starting predicting...\n"
     ]
    }
   ],
   "source": [
    "print('Starting predicting...')\n",
    "# predict\n",
    "y_pred_lgb = gbm.predict(X_train, num_iteration=gbm.best_iteration)\n",
    "# eval\n",
    "#print('RMSE: %.4f' % np.sqrt(mean_squared_error(y_test, y_pred_lgb)))"
   ]
  },
  {
   "cell_type": "code",
   "execution_count": 35,
   "metadata": {},
   "outputs": [
    {
     "output_type": "stream",
     "name": "stdout",
     "text": [
      "tiempo:  1.1920278072357178\n"
     ]
    }
   ],
   "source": [
    "t_0 = time.time()\n",
    "y_pred = gbm.predict(df_test_full, num_iteration=gbm.best_iteration)\n",
    "print (\"tiempo: \", time.time() - t_0)"
   ]
  },
  {
   "cell_type": "code",
   "execution_count": 21,
   "metadata": {},
   "outputs": [
    {
     "output_type": "execute_result",
     "data": {
      "text/plain": [
       "312464"
      ]
     },
     "metadata": {},
     "execution_count": 21
    }
   ],
   "source": [
    "len(y_pred)"
   ]
  },
  {
   "cell_type": "code",
   "execution_count": 23,
   "metadata": {},
   "outputs": [
    {
     "output_type": "execute_result",
     "data": {
      "text/plain": [
       "1111781447.6673856"
      ]
     },
     "metadata": {},
     "execution_count": 23
    }
   ],
   "source": [
    "y_pred[8]"
   ]
  },
  {
   "cell_type": "code",
   "execution_count": 25,
   "metadata": {},
   "outputs": [],
   "source": [
    "# La lista de predicciones tiene valores que no existen en la lista de \"avisos\", con lo cual tengo que buscar para cada prediccion el valor mas cercano en dicha lista."
   ]
  },
  {
   "cell_type": "code",
   "execution_count": 26,
   "metadata": {},
   "outputs": [],
   "source": [
    "avisos_list = avisos.values.tolist()"
   ]
  },
  {
   "cell_type": "code",
   "execution_count": 28,
   "metadata": {},
   "outputs": [],
   "source": [
    "def find_nearest(array, value):\n",
    "    array = np.asarray(array)\n",
    "    idx = (np.abs(array - value)).argmin()\n",
    "    return array[idx]"
   ]
  },
  {
   "cell_type": "code",
   "execution_count": 29,
   "metadata": {},
   "outputs": [
    {
     "output_type": "execute_result",
     "data": {
      "text/plain": [
       "1111782047"
      ]
     },
     "metadata": {},
     "execution_count": 29
    }
   ],
   "source": [
    "find_nearest(avisos_list,1111781447 )"
   ]
  },
  {
   "cell_type": "code",
   "execution_count": 30,
   "metadata": {},
   "outputs": [
    {
     "output_type": "display_data",
     "data": {
      "text/plain": "HBox(children=(FloatProgress(value=0.0, max=312464.0), HTML(value='')))",
      "application/vnd.jupyter.widget-view+json": {
       "version_major": 2,
       "version_minor": 0,
       "model_id": "83a606e793474a24aa5a01a639af0fcd"
      }
     },
     "metadata": {}
    },
    {
     "output_type": "stream",
     "name": "stdout",
     "text": [
      "\n"
     ]
    }
   ],
   "source": [
    "y_pred_avisos = []\n",
    "for index in tqdm_notebook(y_pred):\n",
    "    y_pred_avisos.append(find_nearest(avisos_list,index.astype(int)))"
   ]
  },
  {
   "cell_type": "code",
   "execution_count": 36,
   "metadata": {},
   "outputs": [],
   "source": [
    "def write_submit(df_test,prediccion,fileName):\n",
    "    submit = pd.DataFrame({'idaviso':prediccion})\n",
    "    submit['idaviso'] =  submit['idaviso'].astype(int)\n",
    "    submit['idpostulante'] = df_test.idpostulante\n",
    "    submit.to_csv(\"./submissions/\"+fileName+\".csv\", index=False)"
   ]
  },
  {
   "cell_type": "code",
   "execution_count": 37,
   "metadata": {},
   "outputs": [],
   "source": [
    "write_submit(df_test,y_pred_avisos,'baseline_2' )"
   ]
  },
  {
   "cell_type": "code",
   "execution_count": 33,
   "metadata": {},
   "outputs": [
    {
     "output_type": "execute_result",
     "data": {
      "text/plain": [
       "True"
      ]
     },
     "metadata": {},
     "execution_count": 33
    }
   ],
   "source": [
    "1111782047 in avisos_list"
   ]
  },
  {
   "cell_type": "code",
   "execution_count": 34,
   "metadata": {
    "tags": []
   },
   "outputs": [
    {
     "output_type": "display_data",
     "data": {
      "text/plain": "HBox(children=(FloatProgress(value=0.0, max=312464.0), HTML(value='')))",
      "application/vnd.jupyter.widget-view+json": {
       "version_major": 2,
       "version_minor": 0,
       "model_id": "51d18974234548a8b6d519cf18d9a4b6"
      }
     },
     "metadata": {}
    },
    {
     "output_type": "stream",
     "name": "stdout",
     "text": [
      "\n"
     ]
    }
   ],
   "source": [
    "for element in tqdm_notebook(y_pred_avisos):\n",
    "    boolean = element in avisos_list\n",
    "    if boolean == False:\n",
    "        print(element, \"no esta en la lista de avisos\")\n",
    "    "
   ]
  },
  {
   "source": [
    "## Baseline 3\n",
    "### Elimino los avisos con duracion menos duracion (25%)."
   ],
   "cell_type": "markdown",
   "metadata": {}
  },
  {
   "cell_type": "code",
   "execution_count": 66,
   "metadata": {},
   "outputs": [],
   "source": [
    "df_avisos_diff = df_avisos"
   ]
  },
  {
   "cell_type": "code",
   "execution_count": 74,
   "metadata": {},
   "outputs": [],
   "source": [
    "df_avisos_diff['online_hasta'] = pd.to_datetime(df_avisos_diff['online_hasta'])\n",
    "df_avisos_diff['online_desde'] = pd.to_datetime(df_avisos_diff['online_desde'])"
   ]
  },
  {
   "cell_type": "code",
   "execution_count": 75,
   "metadata": {},
   "outputs": [
    {
     "output_type": "execute_result",
     "data": {
      "text/plain": [
       "28"
      ]
     },
     "metadata": {},
     "execution_count": 75
    }
   ],
   "source": [
    "(df_avisos_diff.loc[1]['online_hasta'] - df_avisos_diff.loc[1]['online_desde']).days"
   ]
  },
  {
   "cell_type": "code",
   "execution_count": 76,
   "metadata": {},
   "outputs": [],
   "source": [
    "df_avisos_diff['diff'] = (df_avisos_diff['online_hasta'] - df_avisos_diff['online_desde'])"
   ]
  },
  {
   "cell_type": "code",
   "execution_count": 77,
   "metadata": {},
   "outputs": [
    {
     "output_type": "execute_result",
     "data": {
      "text/plain": [
       "          idaviso                                             titulo  \\\n",
       "703    1112219332                           Ingeniero Electrónico Jr   \n",
       "2845   1112224292                               Social Media Manager   \n",
       "10786  1112208757                       Repositor externo Zona Norte   \n",
       "3297   1112232024                       Supervisor de Punto de Venta   \n",
       "5950   1112247209  Analista de Recursos Humanos para Importante M...   \n",
       "\n",
       "              nivel_laboral                          nombre_area  \\\n",
       "703    Senior / Semi-Senior  Ingeniería  Eléctrica y Electrónica   \n",
       "2845   Senior / Semi-Senior                            Marketing   \n",
       "10786  Senior / Semi-Senior      Almacén / Depósito / Expedición   \n",
       "3297   Senior / Semi-Senior                            Comercial   \n",
       "5950   Senior / Semi-Senior                     Recursos Humanos   \n",
       "\n",
       "            denominacion_empresa online_desde online_hasta    diff  \n",
       "703       Adecco -Región GBA SUR   2018-01-15   2018-04-17 92 days  \n",
       "2845                  Wall Chase   2018-01-15   2018-04-17 92 days  \n",
       "10786  Adecco -Sales & Marketing   2018-01-15   2018-04-17 92 days  \n",
       "3297         Hidalgo & Asociados   2018-01-15   2018-04-17 92 days  \n",
       "5950    Focalizar Capital Humano   2018-01-15   2018-04-17 92 days  "
      ],
      "text/html": "<div>\n<style scoped>\n    .dataframe tbody tr th:only-of-type {\n        vertical-align: middle;\n    }\n\n    .dataframe tbody tr th {\n        vertical-align: top;\n    }\n\n    .dataframe thead th {\n        text-align: right;\n    }\n</style>\n<table border=\"1\" class=\"dataframe\">\n  <thead>\n    <tr style=\"text-align: right;\">\n      <th></th>\n      <th>idaviso</th>\n      <th>titulo</th>\n      <th>nivel_laboral</th>\n      <th>nombre_area</th>\n      <th>denominacion_empresa</th>\n      <th>online_desde</th>\n      <th>online_hasta</th>\n      <th>diff</th>\n    </tr>\n  </thead>\n  <tbody>\n    <tr>\n      <th>703</th>\n      <td>1112219332</td>\n      <td>Ingeniero Electrónico Jr</td>\n      <td>Senior / Semi-Senior</td>\n      <td>Ingeniería  Eléctrica y Electrónica</td>\n      <td>Adecco -Región GBA SUR</td>\n      <td>2018-01-15</td>\n      <td>2018-04-17</td>\n      <td>92 days</td>\n    </tr>\n    <tr>\n      <th>2845</th>\n      <td>1112224292</td>\n      <td>Social Media Manager</td>\n      <td>Senior / Semi-Senior</td>\n      <td>Marketing</td>\n      <td>Wall Chase</td>\n      <td>2018-01-15</td>\n      <td>2018-04-17</td>\n      <td>92 days</td>\n    </tr>\n    <tr>\n      <th>10786</th>\n      <td>1112208757</td>\n      <td>Repositor externo Zona Norte</td>\n      <td>Senior / Semi-Senior</td>\n      <td>Almacén / Depósito / Expedición</td>\n      <td>Adecco -Sales &amp; Marketing</td>\n      <td>2018-01-15</td>\n      <td>2018-04-17</td>\n      <td>92 days</td>\n    </tr>\n    <tr>\n      <th>3297</th>\n      <td>1112232024</td>\n      <td>Supervisor de Punto de Venta</td>\n      <td>Senior / Semi-Senior</td>\n      <td>Comercial</td>\n      <td>Hidalgo &amp; Asociados</td>\n      <td>2018-01-15</td>\n      <td>2018-04-17</td>\n      <td>92 days</td>\n    </tr>\n    <tr>\n      <th>5950</th>\n      <td>1112247209</td>\n      <td>Analista de Recursos Humanos para Importante M...</td>\n      <td>Senior / Semi-Senior</td>\n      <td>Recursos Humanos</td>\n      <td>Focalizar Capital Humano</td>\n      <td>2018-01-15</td>\n      <td>2018-04-17</td>\n      <td>92 days</td>\n    </tr>\n  </tbody>\n</table>\n</div>"
     },
     "metadata": {},
     "execution_count": 77
    }
   ],
   "source": [
    "df_avisos_diff.sort_values('diff', ascending=False).head()"
   ]
  },
  {
   "cell_type": "code",
   "execution_count": 79,
   "metadata": {},
   "outputs": [
    {
     "output_type": "stream",
     "name": "stdout",
     "text": [
      "count                      18362\nmean     23 days 04:55:11.011872\nstd      16 days 03:56:31.733150\nmin              0 days 00:00:00\n25%             11 days 00:00:00\n50%             26 days 00:00:00\n75%             29 days 00:00:00\nmax             92 days 00:00:00\nName: diff, dtype: object\n\n13519\n"
     ]
    }
   ],
   "source": [
    "print(df_avisos_diff['diff'].describe())\n",
    "print()\n",
    "print(len(df_avisos_diff.loc[df_avisos_diff['diff'] > '11 days']))"
   ]
  },
  {
   "cell_type": "code",
   "execution_count": 80,
   "metadata": {},
   "outputs": [
    {
     "output_type": "execute_result",
     "data": {
      "text/plain": [
       "          idaviso                                             titulo  \\\n",
       "0         8725750                   VENDEDOR/A PROVINCIA DE SANTA FE   \n",
       "1        17903700                                         Enfermeras   \n",
       "2      1000610287      CHOFER DE CAMIONETA BAHIA BLANCA - PUNTA ALTA   \n",
       "3      1001135716      Vendedor Viajante TUCUMAN/SANTIAGO DEL ESTERO   \n",
       "4      1001326344           Vendedor Viajante RECONQUISTA/AVELLANEDA   \n",
       "...           ...                                                ...   \n",
       "18353  1112407368  Desarrollador Franquicias REMAX - Profesionale...   \n",
       "18354  1112407434                         Port Folio nuevos negocios   \n",
       "18356  1112407469                               Asuntos Regulatorios   \n",
       "18359  1112407609                              Tecnico sector moldes   \n",
       "18361  1111687072                      Operarios con exp en Ensamble   \n",
       "\n",
       "              nivel_laboral             nombre_area     denominacion_empresa  \\\n",
       "0      Senior / Semi-Senior               Comercial                   VENTOR   \n",
       "1      Senior / Semi-Senior                   Salud  Farmacias Central Oeste   \n",
       "2      Senior / Semi-Senior              Transporte      Wurth Argentina S.A   \n",
       "3      Senior / Semi-Senior                  Ventas      Wurth Argentina S.A   \n",
       "4      Senior / Semi-Senior                  Ventas      Wurth Argentina S.A   \n",
       "...                     ...                     ...                      ...   \n",
       "18353  Senior / Semi-Senior               Marketing    GB Consultores - RRHH   \n",
       "18354  Senior / Semi-Senior  Desarrollo de Negocios       Importante Empresa   \n",
       "18356  Senior / Semi-Senior            Farmacéutica       GI GROUP Argentina   \n",
       "18359  Senior / Semi-Senior             Laboratorio                 GAES S A   \n",
       "18361  Senior / Semi-Senior              Producción  Estrategia Laboral S.A.   \n",
       "\n",
       "      online_desde online_hasta    diff  \n",
       "0       2018-01-15   2018-02-10 26 days  \n",
       "1       2018-03-20   2018-04-17 28 days  \n",
       "2       2018-01-15   2018-03-17 61 days  \n",
       "3       2018-01-15   2018-04-16 91 days  \n",
       "4       2018-01-15   2018-03-27 71 days  \n",
       "...            ...          ...     ...  \n",
       "18353   2018-03-16   2018-04-13 28 days  \n",
       "18354   2018-03-16   2018-04-10 25 days  \n",
       "18356   2018-03-16   2018-04-05 20 days  \n",
       "18359   2018-03-16   2018-04-13 28 days  \n",
       "18361   2018-03-15   2018-04-13 29 days  \n",
       "\n",
       "[13519 rows x 8 columns]"
      ],
      "text/html": "<div>\n<style scoped>\n    .dataframe tbody tr th:only-of-type {\n        vertical-align: middle;\n    }\n\n    .dataframe tbody tr th {\n        vertical-align: top;\n    }\n\n    .dataframe thead th {\n        text-align: right;\n    }\n</style>\n<table border=\"1\" class=\"dataframe\">\n  <thead>\n    <tr style=\"text-align: right;\">\n      <th></th>\n      <th>idaviso</th>\n      <th>titulo</th>\n      <th>nivel_laboral</th>\n      <th>nombre_area</th>\n      <th>denominacion_empresa</th>\n      <th>online_desde</th>\n      <th>online_hasta</th>\n      <th>diff</th>\n    </tr>\n  </thead>\n  <tbody>\n    <tr>\n      <th>0</th>\n      <td>8725750</td>\n      <td>VENDEDOR/A PROVINCIA DE SANTA FE</td>\n      <td>Senior / Semi-Senior</td>\n      <td>Comercial</td>\n      <td>VENTOR</td>\n      <td>2018-01-15</td>\n      <td>2018-02-10</td>\n      <td>26 days</td>\n    </tr>\n    <tr>\n      <th>1</th>\n      <td>17903700</td>\n      <td>Enfermeras</td>\n      <td>Senior / Semi-Senior</td>\n      <td>Salud</td>\n      <td>Farmacias Central Oeste</td>\n      <td>2018-03-20</td>\n      <td>2018-04-17</td>\n      <td>28 days</td>\n    </tr>\n    <tr>\n      <th>2</th>\n      <td>1000610287</td>\n      <td>CHOFER DE CAMIONETA BAHIA BLANCA - PUNTA ALTA</td>\n      <td>Senior / Semi-Senior</td>\n      <td>Transporte</td>\n      <td>Wurth Argentina S.A</td>\n      <td>2018-01-15</td>\n      <td>2018-03-17</td>\n      <td>61 days</td>\n    </tr>\n    <tr>\n      <th>3</th>\n      <td>1001135716</td>\n      <td>Vendedor Viajante TUCUMAN/SANTIAGO DEL ESTERO</td>\n      <td>Senior / Semi-Senior</td>\n      <td>Ventas</td>\n      <td>Wurth Argentina S.A</td>\n      <td>2018-01-15</td>\n      <td>2018-04-16</td>\n      <td>91 days</td>\n    </tr>\n    <tr>\n      <th>4</th>\n      <td>1001326344</td>\n      <td>Vendedor Viajante RECONQUISTA/AVELLANEDA</td>\n      <td>Senior / Semi-Senior</td>\n      <td>Ventas</td>\n      <td>Wurth Argentina S.A</td>\n      <td>2018-01-15</td>\n      <td>2018-03-27</td>\n      <td>71 days</td>\n    </tr>\n    <tr>\n      <th>...</th>\n      <td>...</td>\n      <td>...</td>\n      <td>...</td>\n      <td>...</td>\n      <td>...</td>\n      <td>...</td>\n      <td>...</td>\n      <td>...</td>\n    </tr>\n    <tr>\n      <th>18353</th>\n      <td>1112407368</td>\n      <td>Desarrollador Franquicias REMAX - Profesionale...</td>\n      <td>Senior / Semi-Senior</td>\n      <td>Marketing</td>\n      <td>GB Consultores - RRHH</td>\n      <td>2018-03-16</td>\n      <td>2018-04-13</td>\n      <td>28 days</td>\n    </tr>\n    <tr>\n      <th>18354</th>\n      <td>1112407434</td>\n      <td>Port Folio nuevos negocios</td>\n      <td>Senior / Semi-Senior</td>\n      <td>Desarrollo de Negocios</td>\n      <td>Importante Empresa</td>\n      <td>2018-03-16</td>\n      <td>2018-04-10</td>\n      <td>25 days</td>\n    </tr>\n    <tr>\n      <th>18356</th>\n      <td>1112407469</td>\n      <td>Asuntos Regulatorios</td>\n      <td>Senior / Semi-Senior</td>\n      <td>Farmacéutica</td>\n      <td>GI GROUP Argentina</td>\n      <td>2018-03-16</td>\n      <td>2018-04-05</td>\n      <td>20 days</td>\n    </tr>\n    <tr>\n      <th>18359</th>\n      <td>1112407609</td>\n      <td>Tecnico sector moldes</td>\n      <td>Senior / Semi-Senior</td>\n      <td>Laboratorio</td>\n      <td>GAES S A</td>\n      <td>2018-03-16</td>\n      <td>2018-04-13</td>\n      <td>28 days</td>\n    </tr>\n    <tr>\n      <th>18361</th>\n      <td>1111687072</td>\n      <td>Operarios con exp en Ensamble</td>\n      <td>Senior / Semi-Senior</td>\n      <td>Producción</td>\n      <td>Estrategia Laboral S.A.</td>\n      <td>2018-03-15</td>\n      <td>2018-04-13</td>\n      <td>29 days</td>\n    </tr>\n  </tbody>\n</table>\n<p>13519 rows × 8 columns</p>\n</div>"
     },
     "metadata": {},
     "execution_count": 80
    }
   ],
   "source": [
    "df_avisos_diff = df_avisos_diff.loc[df_avisos['diff'] > '11 days']\n",
    "df_avisos_diff"
   ]
  },
  {
   "cell_type": "code",
   "execution_count": 81,
   "metadata": {},
   "outputs": [],
   "source": [
    "# Todos los candidatos de avisos posibles\n",
    "avisos_diff = df_avisos_diff.idaviso\n",
    "avisos_diff = avisos_diff.tolist()"
   ]
  },
  {
   "cell_type": "code",
   "execution_count": 84,
   "metadata": {},
   "outputs": [
    {
     "output_type": "execute_result",
     "data": {
      "text/plain": [
       "1112289757"
      ]
     },
     "metadata": {},
     "execution_count": 84
    }
   ],
   "source": [
    "avisoRandom = random.choices(avisos_diff)[0]\n",
    "avisoRandom "
   ]
  },
  {
   "cell_type": "code",
   "execution_count": 85,
   "metadata": {},
   "outputs": [],
   "source": [
    "list_pred_3 = []\n",
    "\n",
    "for row in postulantes:\n",
    "    row_pred = dict()\n",
    "    row_pred[\"idaviso\"] = random.choices(avisos_diff)[0]\n",
    "    row_pred[\"idpostulante\"] = row\n",
    "    list_pred_3.append(row_pred)\n",
    "   "
   ]
  },
  {
   "cell_type": "code",
   "execution_count": 86,
   "metadata": {},
   "outputs": [
    {
     "output_type": "execute_result",
     "data": {
      "text/plain": [
       "      idaviso idpostulante\n",
       "0  1112169167         ZaO5\n",
       "1  1112418975         NdJl\n",
       "2  1112296292         5kNq\n",
       "3  1112322919         Ez8J\n",
       "4  1112424893         erL9"
      ],
      "text/html": "<div>\n<style scoped>\n    .dataframe tbody tr th:only-of-type {\n        vertical-align: middle;\n    }\n\n    .dataframe tbody tr th {\n        vertical-align: top;\n    }\n\n    .dataframe thead th {\n        text-align: right;\n    }\n</style>\n<table border=\"1\" class=\"dataframe\">\n  <thead>\n    <tr style=\"text-align: right;\">\n      <th></th>\n      <th>idaviso</th>\n      <th>idpostulante</th>\n    </tr>\n  </thead>\n  <tbody>\n    <tr>\n      <th>0</th>\n      <td>1112169167</td>\n      <td>ZaO5</td>\n    </tr>\n    <tr>\n      <th>1</th>\n      <td>1112418975</td>\n      <td>NdJl</td>\n    </tr>\n    <tr>\n      <th>2</th>\n      <td>1112296292</td>\n      <td>5kNq</td>\n    </tr>\n    <tr>\n      <th>3</th>\n      <td>1112322919</td>\n      <td>Ez8J</td>\n    </tr>\n    <tr>\n      <th>4</th>\n      <td>1112424893</td>\n      <td>erL9</td>\n    </tr>\n  </tbody>\n</table>\n</div>"
     },
     "metadata": {},
     "execution_count": 86
    }
   ],
   "source": [
    "df_baseLine_3 = pd.DataFrame(list_pred_3)\n",
    "df_baseLine_3.head()"
   ]
  },
  {
   "cell_type": "code",
   "execution_count": 88,
   "metadata": {},
   "outputs": [],
   "source": [
    "df_baseLine_3.to_csv(\"./submissions/baseLine_3.csv\", index=False)\n",
    "# Resultado Kaggle: 0.00015"
   ]
  },
  {
   "cell_type": "code",
   "execution_count": null,
   "metadata": {},
   "outputs": [],
   "source": []
  }
 ],
 "metadata": {
  "kernelspec": {
   "name": "python3",
   "display_name": "Python 3.7.5 64-bit ('base': conda)",
   "metadata": {
    "interpreter": {
     "hash": "9a37e5188a605e95d3282a4fb8007f4c3c52885d8cd12f2ffcfc398feaa7ff36"
    }
   }
  },
  "language_info": {
   "codemirror_mode": {
    "name": "ipython",
    "version": 3
   },
   "file_extension": ".py",
   "mimetype": "text/x-python",
   "name": "python",
   "nbconvert_exporter": "python",
   "pygments_lexer": "ipython3",
   "version": "3.7.5-final"
  }
 },
 "nbformat": 4,
 "nbformat_minor": 4
}