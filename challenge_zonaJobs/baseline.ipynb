{
 "cells": [
  {
   "cell_type": "code",
   "execution_count": 1,
   "metadata": {},
   "outputs": [],
   "source": [
    "import pandas as pd\n",
    "import numpy as np\n",
    "import time, os\n",
    "import random"
   ]
  },
  {
   "source": [
    "## Init"
   ],
   "cell_type": "markdown",
   "metadata": {}
  },
  {
   "cell_type": "code",
   "execution_count": 2,
   "metadata": {},
   "outputs": [
    {
     "output_type": "stream",
     "name": "stdout",
     "text": [
      "(312464, 2) (18362, 7)\n"
     ]
    }
   ],
   "source": [
    "df_test = pd.read_csv('./data/ejemplo_de_solucion.csv')\n",
    "df_avisos = pd.read_csv('./data/avisos/avisos_filtrados.csv')\n",
    "print(df_test.shape, df_avisos.shape)"
   ]
  },
  {
   "cell_type": "code",
   "execution_count": 3,
   "metadata": {},
   "outputs": [
    {
     "output_type": "execute_result",
     "data": {
      "text/plain": [
       "0       8725750\n",
       "1      17903700\n",
       "2    1000610287\n",
       "3    1001135716\n",
       "4    1001326344\n",
       "Name: idaviso, dtype: int64"
      ]
     },
     "metadata": {},
     "execution_count": 3
    }
   ],
   "source": [
    "# Todos los candidatos de avisos posibles\n",
    "avisos = df_avisos.idaviso\n",
    "avisos.head()"
   ]
  },
  {
   "cell_type": "code",
   "execution_count": 4,
   "metadata": {},
   "outputs": [
    {
     "output_type": "execute_result",
     "data": {
      "text/plain": [
       "0    ZaO5\n",
       "1    NdJl\n",
       "2    5kNq\n",
       "3    Ez8J\n",
       "4    erL9\n",
       "Name: idpostulante, dtype: object"
      ]
     },
     "metadata": {},
     "execution_count": 4
    }
   ],
   "source": [
    "#Postulantes a recomendar avisos\n",
    "postulantes = df_test.idpostulante\n",
    "postulantes.head()"
   ]
  },
  {
   "cell_type": "code",
   "execution_count": 5,
   "metadata": {},
   "outputs": [
    {
     "output_type": "execute_result",
     "data": {
      "text/plain": [
       "1112271619"
      ]
     },
     "metadata": {},
     "execution_count": 5
    }
   ],
   "source": [
    "avisoRandom = random.choices(avisos)[0]\n",
    "avisoRandom"
   ]
  },
  {
   "cell_type": "code",
   "execution_count": 6,
   "metadata": {
    "tags": []
   },
   "outputs": [],
   "source": [
    "list_pred = []\n",
    "\n",
    "for row in postulantes:\n",
    "    row_pred = dict()\n",
    "    row_pred[\"idaviso\"] = random.choices(avisos)[0]\n",
    "    row_pred[\"idpostulante\"] = row\n",
    "    list_pred.append(row_pred)\n",
    "   "
   ]
  },
  {
   "cell_type": "code",
   "execution_count": 8,
   "metadata": {},
   "outputs": [
    {
     "output_type": "execute_result",
     "data": {
      "text/plain": [
       "      idaviso idpostulante\n",
       "0  1112282610         ZaO5\n",
       "1  1112255884         NdJl\n",
       "2  1112410659         5kNq\n",
       "3  1112354073         Ez8J\n",
       "4  1112346576         erL9"
      ],
      "text/html": "<div>\n<style scoped>\n    .dataframe tbody tr th:only-of-type {\n        vertical-align: middle;\n    }\n\n    .dataframe tbody tr th {\n        vertical-align: top;\n    }\n\n    .dataframe thead th {\n        text-align: right;\n    }\n</style>\n<table border=\"1\" class=\"dataframe\">\n  <thead>\n    <tr style=\"text-align: right;\">\n      <th></th>\n      <th>idaviso</th>\n      <th>idpostulante</th>\n    </tr>\n  </thead>\n  <tbody>\n    <tr>\n      <th>0</th>\n      <td>1112282610</td>\n      <td>ZaO5</td>\n    </tr>\n    <tr>\n      <th>1</th>\n      <td>1112255884</td>\n      <td>NdJl</td>\n    </tr>\n    <tr>\n      <th>2</th>\n      <td>1112410659</td>\n      <td>5kNq</td>\n    </tr>\n    <tr>\n      <th>3</th>\n      <td>1112354073</td>\n      <td>Ez8J</td>\n    </tr>\n    <tr>\n      <th>4</th>\n      <td>1112346576</td>\n      <td>erL9</td>\n    </tr>\n  </tbody>\n</table>\n</div>"
     },
     "metadata": {},
     "execution_count": 8
    }
   ],
   "source": [
    "df_baseLine_1 = pd.DataFrame(list_pred)\n",
    "df_baseLine_1.head()"
   ]
  },
  {
   "cell_type": "code",
   "execution_count": 10,
   "metadata": {},
   "outputs": [],
   "source": [
    "df_baseLine_1.to_csv(\"./submissions/baseLine_1.csv\", index=False)\n",
    "# Resultado Kaggle: 0.00017"
   ]
  },
  {
   "cell_type": "code",
   "execution_count": null,
   "metadata": {},
   "outputs": [],
   "source": []
  }
 ],
 "metadata": {
  "kernelspec": {
   "name": "python3",
   "display_name": "Python 3.7.5 64-bit ('base': conda)",
   "metadata": {
    "interpreter": {
     "hash": "9a37e5188a605e95d3282a4fb8007f4c3c52885d8cd12f2ffcfc398feaa7ff36"
    }
   }
  },
  "language_info": {
   "codemirror_mode": {
    "name": "ipython",
    "version": 3
   },
   "file_extension": ".py",
   "mimetype": "text/x-python",
   "name": "python",
   "nbconvert_exporter": "python",
   "pygments_lexer": "ipython3",
   "version": "3.7.5-final"
  }
 },
 "nbformat": 4,
 "nbformat_minor": 4
}