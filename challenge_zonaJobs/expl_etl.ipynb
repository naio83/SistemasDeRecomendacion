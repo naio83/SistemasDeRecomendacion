{
 "cells": [
  {
   "cell_type": "code",
   "execution_count": null,
   "metadata": {},
   "outputs": [],
   "source": []
  },
  {
   "cell_type": "code",
   "execution_count": null,
   "metadata": {},
   "outputs": [],
   "source": []
  },
  {
   "cell_type": "code",
   "execution_count": 107,
   "metadata": {},
   "outputs": [],
   "source": [
    "import pandas as pd\n",
    "import numpy as np\n",
    "import time, os, datetime\n",
    "from datetime import date, datetime\n",
    "from datetime import datetime\n",
    "from dateutil import relativedelta"
   ]
  },
  {
   "source": [
    "## Init"
   ],
   "cell_type": "markdown",
   "metadata": {}
  },
  {
   "cell_type": "code",
   "execution_count": 7,
   "metadata": {},
   "outputs": [],
   "source": [
    "df_test = pd.read_csv('./data/ejemplo_de_solucion.csv')\n",
    "df_train = pd.read_csv('./data/postulaciones/postulaciones_train.csv')"
   ]
  },
  {
   "cell_type": "code",
   "execution_count": 108,
   "metadata": {},
   "outputs": [],
   "source": [
    "df_aDetalle = pd.read_csv('./data/avisos/avisos_detalle.csv')\n",
    "df_aOnline = pd.read_csv('./data/avisos/avisos_online.csv')\n",
    "df_postEdu = pd.read_csv('./data/postulantes/postulantes_educacion.csv')\n",
    "df_postGenero = pd.read_csv('./data/postulantes/postulantes_genero_edad.csv')"
   ]
  },
  {
   "cell_type": "code",
   "execution_count": 9,
   "metadata": {},
   "outputs": [
    {
     "output_type": "execute_result",
     "data": {
      "text/plain": [
       "156232"
      ]
     },
     "metadata": {},
     "execution_count": 9
    }
   ],
   "source": [
    "len(df_test.idpostulante.unique())\n"
   ]
  },
  {
   "cell_type": "code",
   "execution_count": 10,
   "metadata": {},
   "outputs": [
    {
     "output_type": "execute_result",
     "data": {
      "text/plain": [
       "           idaviso idpostulante\n",
       "0       1112427970         ZaO5\n",
       "156232  1112094756         ZaO5"
      ],
      "text/html": "<div>\n<style scoped>\n    .dataframe tbody tr th:only-of-type {\n        vertical-align: middle;\n    }\n\n    .dataframe tbody tr th {\n        vertical-align: top;\n    }\n\n    .dataframe thead th {\n        text-align: right;\n    }\n</style>\n<table border=\"1\" class=\"dataframe\">\n  <thead>\n    <tr style=\"text-align: right;\">\n      <th></th>\n      <th>idaviso</th>\n      <th>idpostulante</th>\n    </tr>\n  </thead>\n  <tbody>\n    <tr>\n      <th>0</th>\n      <td>1112427970</td>\n      <td>ZaO5</td>\n    </tr>\n    <tr>\n      <th>156232</th>\n      <td>1112094756</td>\n      <td>ZaO5</td>\n    </tr>\n  </tbody>\n</table>\n</div>"
     },
     "metadata": {},
     "execution_count": 10
    }
   ],
   "source": [
    "df_test.loc[df_test['idpostulante']=='ZaO5']"
   ]
  },
  {
   "source": [
    "## Comienzo fe"
   ],
   "cell_type": "markdown",
   "metadata": {}
  },
  {
   "cell_type": "code",
   "execution_count": 11,
   "metadata": {},
   "outputs": [],
   "source": [
    "#Elimino filas repetidas\n",
    "df_postEdu=df_postEdu.drop_duplicates(subset='idpostulante')\n",
    "df_postGenero=df_postGenero.drop_duplicates(subset='idpostulante')"
   ]
  },
  {
   "cell_type": "code",
   "execution_count": 104,
   "metadata": {},
   "outputs": [
    {
     "output_type": "execute_result",
     "data": {
      "text/plain": [
       "       idpostulante fechanacimiento  sexo             nombre    estado\n",
       "0              NM5M      1970-12-03   FEM         Secundario  Graduado\n",
       "1              5awk      1962-12-04   FEM      Universitario  Graduado\n",
       "2              ZaO5      1978-08-10   FEM  Terciario/Técnico  Graduado\n",
       "3              NdJl      1969-05-09  MASC           Posgrado  En Curso\n",
       "4              eo2p      1981-02-16  MASC         Secundario  Graduado\n",
       "...             ...             ...   ...                ...       ...\n",
       "447904      GNZr6xw      1997-08-17  MASC      Universitario  En Curso\n",
       "447905      OqrJ8zv      1998-06-23   FEM  Terciario/Técnico  Graduado\n",
       "447906      X95VzpK      1998-02-25  MASC      Universitario  En Curso\n",
       "447907      QNr9A2N      1992-08-01  MASC             Master  En Curso\n",
       "447908      bOjBk8b      1974-12-19   FEM  Terciario/Técnico  Graduado\n",
       "\n",
       "[447909 rows x 5 columns]"
      ],
      "text/html": "<div>\n<style scoped>\n    .dataframe tbody tr th:only-of-type {\n        vertical-align: middle;\n    }\n\n    .dataframe tbody tr th {\n        vertical-align: top;\n    }\n\n    .dataframe thead th {\n        text-align: right;\n    }\n</style>\n<table border=\"1\" class=\"dataframe\">\n  <thead>\n    <tr style=\"text-align: right;\">\n      <th></th>\n      <th>idpostulante</th>\n      <th>fechanacimiento</th>\n      <th>sexo</th>\n      <th>nombre</th>\n      <th>estado</th>\n    </tr>\n  </thead>\n  <tbody>\n    <tr>\n      <th>0</th>\n      <td>NM5M</td>\n      <td>1970-12-03</td>\n      <td>FEM</td>\n      <td>Secundario</td>\n      <td>Graduado</td>\n    </tr>\n    <tr>\n      <th>1</th>\n      <td>5awk</td>\n      <td>1962-12-04</td>\n      <td>FEM</td>\n      <td>Universitario</td>\n      <td>Graduado</td>\n    </tr>\n    <tr>\n      <th>2</th>\n      <td>ZaO5</td>\n      <td>1978-08-10</td>\n      <td>FEM</td>\n      <td>Terciario/Técnico</td>\n      <td>Graduado</td>\n    </tr>\n    <tr>\n      <th>3</th>\n      <td>NdJl</td>\n      <td>1969-05-09</td>\n      <td>MASC</td>\n      <td>Posgrado</td>\n      <td>En Curso</td>\n    </tr>\n    <tr>\n      <th>4</th>\n      <td>eo2p</td>\n      <td>1981-02-16</td>\n      <td>MASC</td>\n      <td>Secundario</td>\n      <td>Graduado</td>\n    </tr>\n    <tr>\n      <th>...</th>\n      <td>...</td>\n      <td>...</td>\n      <td>...</td>\n      <td>...</td>\n      <td>...</td>\n    </tr>\n    <tr>\n      <th>447904</th>\n      <td>GNZr6xw</td>\n      <td>1997-08-17</td>\n      <td>MASC</td>\n      <td>Universitario</td>\n      <td>En Curso</td>\n    </tr>\n    <tr>\n      <th>447905</th>\n      <td>OqrJ8zv</td>\n      <td>1998-06-23</td>\n      <td>FEM</td>\n      <td>Terciario/Técnico</td>\n      <td>Graduado</td>\n    </tr>\n    <tr>\n      <th>447906</th>\n      <td>X95VzpK</td>\n      <td>1998-02-25</td>\n      <td>MASC</td>\n      <td>Universitario</td>\n      <td>En Curso</td>\n    </tr>\n    <tr>\n      <th>447907</th>\n      <td>QNr9A2N</td>\n      <td>1992-08-01</td>\n      <td>MASC</td>\n      <td>Master</td>\n      <td>En Curso</td>\n    </tr>\n    <tr>\n      <th>447908</th>\n      <td>bOjBk8b</td>\n      <td>1974-12-19</td>\n      <td>FEM</td>\n      <td>Terciario/Técnico</td>\n      <td>Graduado</td>\n    </tr>\n  </tbody>\n</table>\n<p>447909 rows × 5 columns</p>\n</div>"
     },
     "metadata": {},
     "execution_count": 104
    }
   ],
   "source": [
    "# Acumulo informacion de los postulantes\n",
    "df_postulante = df_postGenero.merge(df_postEdu, on='idpostulante')\n",
    "df_postulante"
   ]
  },
  {
   "cell_type": "code",
   "execution_count": 30,
   "metadata": {},
   "outputs": [
    {
     "output_type": "execute_result",
     "data": {
      "text/plain": [
       "'1970-12-03'"
      ]
     },
     "metadata": {},
     "execution_count": 30
    }
   ],
   "source": [
    "nacimiento =df_postulante[:1].fechanacimiento.values[0]\n",
    "nacimiento"
   ]
  },
  {
   "cell_type": "code",
   "execution_count": 48,
   "metadata": {},
   "outputs": [
    {
     "output_type": "execute_result",
     "data": {
      "text/plain": [
       "47"
      ]
     },
     "metadata": {},
     "execution_count": 48
    }
   ],
   "source": [
    "ts_1= datetime.strptime(nacimiento, '%Y-%m-%d')\n",
    "ts_2= datetime.strptime('2018-04-01', '%Y-%m-%d')\n",
    "difference = relativedelta.relativedelta(ts_2, ts_1)\n",
    "difference.years"
   ]
  },
  {
   "cell_type": "code",
   "execution_count": 53,
   "metadata": {},
   "outputs": [],
   "source": [
    "df_postulante['edad'] = relativedelta.relativedelta(ts_2, datetime.strptime(df_postulante['fechanacimiento'].values[0], '%Y-%m-%d')).years"
   ]
  },
  {
   "cell_type": "code",
   "execution_count": 125,
   "metadata": {},
   "outputs": [],
   "source": [
    "def diff_edad(row):\n",
    "    return relativedelta.relativedelta(ts_2, datetime.strptime(row['fechanacimiento'], '%Y-%m-%d')).years"
   ]
  },
  {
   "cell_type": "code",
   "execution_count": 127,
   "metadata": {},
   "outputs": [],
   "source": [
    "#diff_edad(df_postulante[:1]['fechanacimiento'])"
   ]
  },
  {
   "cell_type": "code",
   "execution_count": 175,
   "metadata": {},
   "outputs": [
    {
     "output_type": "execute_result",
     "data": {
      "text/plain": [
       "0    1992-04-01\n",
       "dtype: object"
      ]
     },
     "metadata": {},
     "execution_count": 175
    }
   ],
   "source": [
    "# fechanacimiento tiene 9391 nan\n",
    "moda_fechanacimiento= df_postulante.fechanacimiento.mode()\n",
    "moda_fechanacimiento\n",
    "df_postulante = df_postulante.replace(np.nan, '1992-04-01', regex=True)"
   ]
  },
  {
   "cell_type": "code",
   "execution_count": 182,
   "metadata": {},
   "outputs": [],
   "source": [
    "df_postulante['edad'] = df_postulante.apply(diff_edad, axis=1)"
   ]
  },
  {
   "cell_type": "code",
   "execution_count": 195,
   "metadata": {
    "tags": []
   },
   "outputs": [
    {
     "output_type": "stream",
     "name": "stdout",
     "text": [
      "0    26\ndtype: int64\n"
     ]
    },
    {
     "output_type": "execute_result",
     "data": {
      "text/plain": [
       "count    447909.000000\n",
       "mean         30.431217\n",
       "std          16.869111\n",
       "min           7.000000\n",
       "25%          24.000000\n",
       "50%          28.000000\n",
       "75%          35.000000\n",
       "max        2016.000000\n",
       "Name: edad, dtype: float64"
      ]
     },
     "metadata": {},
     "execution_count": 195
    }
   ],
   "source": [
    "moda_edad= df_postulante.edad.mode()\n",
    "print(moda_edad)\n",
    "df_postulante.edad.describe()"
   ]
  },
  {
   "cell_type": "code",
   "execution_count": 238,
   "metadata": {},
   "outputs": [
    {
     "output_type": "execute_result",
     "data": {
      "text/plain": [
       "  idpostulante fechanacimiento  sexo             nombre    estado  edad  \\\n",
       "0         NM5M      1970-12-03   FEM         Secundario  Graduado    47   \n",
       "1         5awk      1962-12-04   FEM      Universitario  Graduado    55   \n",
       "2         ZaO5      1978-08-10   FEM  Terciario/Técnico  Graduado    39   \n",
       "3         NdJl      1969-05-09  MASC           Posgrado  En Curso    48   \n",
       "4         eo2p      1981-02-16  MASC         Secundario  Graduado    37   \n",
       "\n",
       "  tipo_edad  \n",
       "0      cat3  \n",
       "1      cat3  \n",
       "2      cat3  \n",
       "3      cat3  \n",
       "4      cat3  "
      ],
      "text/html": "<div>\n<style scoped>\n    .dataframe tbody tr th:only-of-type {\n        vertical-align: middle;\n    }\n\n    .dataframe tbody tr th {\n        vertical-align: top;\n    }\n\n    .dataframe thead th {\n        text-align: right;\n    }\n</style>\n<table border=\"1\" class=\"dataframe\">\n  <thead>\n    <tr style=\"text-align: right;\">\n      <th></th>\n      <th>idpostulante</th>\n      <th>fechanacimiento</th>\n      <th>sexo</th>\n      <th>nombre</th>\n      <th>estado</th>\n      <th>edad</th>\n      <th>tipo_edad</th>\n    </tr>\n  </thead>\n  <tbody>\n    <tr>\n      <th>0</th>\n      <td>NM5M</td>\n      <td>1970-12-03</td>\n      <td>FEM</td>\n      <td>Secundario</td>\n      <td>Graduado</td>\n      <td>47</td>\n      <td>cat3</td>\n    </tr>\n    <tr>\n      <th>1</th>\n      <td>5awk</td>\n      <td>1962-12-04</td>\n      <td>FEM</td>\n      <td>Universitario</td>\n      <td>Graduado</td>\n      <td>55</td>\n      <td>cat3</td>\n    </tr>\n    <tr>\n      <th>2</th>\n      <td>ZaO5</td>\n      <td>1978-08-10</td>\n      <td>FEM</td>\n      <td>Terciario/Técnico</td>\n      <td>Graduado</td>\n      <td>39</td>\n      <td>cat3</td>\n    </tr>\n    <tr>\n      <th>3</th>\n      <td>NdJl</td>\n      <td>1969-05-09</td>\n      <td>MASC</td>\n      <td>Posgrado</td>\n      <td>En Curso</td>\n      <td>48</td>\n      <td>cat3</td>\n    </tr>\n    <tr>\n      <th>4</th>\n      <td>eo2p</td>\n      <td>1981-02-16</td>\n      <td>MASC</td>\n      <td>Secundario</td>\n      <td>Graduado</td>\n      <td>37</td>\n      <td>cat3</td>\n    </tr>\n  </tbody>\n</table>\n</div>"
     },
     "metadata": {},
     "execution_count": 238
    }
   ],
   "source": [
    " tipo_edad = []\n",
    " for row in df_postulante['edad']:\n",
    "     if row < 25 :           tipo_edad.append('cat1')\n",
    "     elif 25 <= row <= 35:   tipo_edad.append('cat2')\n",
    "     else:                   tipo_edad.append('cat3')\n",
    "            \n",
    " df_postulante['tipo_edad'] = tipo_edad\n",
    " df_postulante.head()"
   ]
  },
  {
   "cell_type": "code",
   "execution_count": 239,
   "metadata": {},
   "outputs": [],
   "source": [
    "# Datos de los postulantes filtrados y consolidados con Genero y Educacion.\n",
    "df_postulante.to_csv(\"./data/postulantes/postulantes_consolidado.csv\", index=False, header=True)"
   ]
  },
  {
   "cell_type": "code",
   "execution_count": 14,
   "metadata": {},
   "outputs": [
    {
     "output_type": "stream",
     "name": "stdout",
     "text": [
      "(24950, 11) (18362, 3)\n"
     ]
    }
   ],
   "source": [
    "print(df_aDetalle.shape, df_aOnline.shape)"
   ]
  },
  {
   "cell_type": "code",
   "execution_count": 113,
   "metadata": {},
   "outputs": [],
   "source": [
    "# Me quedo con los avisos/postulaciones que tiene fecha de inicio y fin, las otras las elimino.\n",
    "df_avisos = df_aDetalle.merge(df_aOnline, on='idaviso')\n",
    "# Elimino idPais: Son todos 1\n",
    "df_avisos = df_avisos.drop(['idpais','descripcion', 'ciudad', 'mapacalle'], axis=1)"
   ]
  },
  {
   "cell_type": "code",
   "execution_count": 114,
   "metadata": {},
   "outputs": [
    {
     "output_type": "execute_result",
     "data": {
      "text/plain": [
       "      idaviso                                         titulo  \\\n",
       "0     8725750               VENDEDOR/A PROVINCIA DE SANTA FE   \n",
       "1    17903700                                     Enfermeras   \n",
       "2  1000610287  CHOFER DE CAMIONETA BAHIA BLANCA - PUNTA ALTA   \n",
       "3  1001135716  Vendedor Viajante TUCUMAN/SANTIAGO DEL ESTERO   \n",
       "4  1001326344       Vendedor Viajante RECONQUISTA/AVELLANEDA   \n",
       "\n",
       "         nombre_zona tipo_de_trabajo         nivel_laboral nombre_area  \\\n",
       "0  Gran Buenos Aires       Full-time  Senior / Semi-Senior   Comercial   \n",
       "1  Gran Buenos Aires       Full-time  Senior / Semi-Senior       Salud   \n",
       "2  Gran Buenos Aires       Full-time  Senior / Semi-Senior  Transporte   \n",
       "3  Gran Buenos Aires       Full-time  Senior / Semi-Senior      Ventas   \n",
       "4  Gran Buenos Aires       Full-time  Senior / Semi-Senior      Ventas   \n",
       "\n",
       "      denominacion_empresa online_desde online_hasta  \n",
       "0                   VENTOR   2018-01-15   2018-02-10  \n",
       "1  Farmacias Central Oeste   2018-03-20   2018-04-17  \n",
       "2      Wurth Argentina S.A   2018-01-15   2018-03-17  \n",
       "3      Wurth Argentina S.A   2018-01-15   2018-04-16  \n",
       "4      Wurth Argentina S.A   2018-01-15   2018-03-27  "
      ],
      "text/html": "<div>\n<style scoped>\n    .dataframe tbody tr th:only-of-type {\n        vertical-align: middle;\n    }\n\n    .dataframe tbody tr th {\n        vertical-align: top;\n    }\n\n    .dataframe thead th {\n        text-align: right;\n    }\n</style>\n<table border=\"1\" class=\"dataframe\">\n  <thead>\n    <tr style=\"text-align: right;\">\n      <th></th>\n      <th>idaviso</th>\n      <th>titulo</th>\n      <th>nombre_zona</th>\n      <th>tipo_de_trabajo</th>\n      <th>nivel_laboral</th>\n      <th>nombre_area</th>\n      <th>denominacion_empresa</th>\n      <th>online_desde</th>\n      <th>online_hasta</th>\n    </tr>\n  </thead>\n  <tbody>\n    <tr>\n      <th>0</th>\n      <td>8725750</td>\n      <td>VENDEDOR/A PROVINCIA DE SANTA FE</td>\n      <td>Gran Buenos Aires</td>\n      <td>Full-time</td>\n      <td>Senior / Semi-Senior</td>\n      <td>Comercial</td>\n      <td>VENTOR</td>\n      <td>2018-01-15</td>\n      <td>2018-02-10</td>\n    </tr>\n    <tr>\n      <th>1</th>\n      <td>17903700</td>\n      <td>Enfermeras</td>\n      <td>Gran Buenos Aires</td>\n      <td>Full-time</td>\n      <td>Senior / Semi-Senior</td>\n      <td>Salud</td>\n      <td>Farmacias Central Oeste</td>\n      <td>2018-03-20</td>\n      <td>2018-04-17</td>\n    </tr>\n    <tr>\n      <th>2</th>\n      <td>1000610287</td>\n      <td>CHOFER DE CAMIONETA BAHIA BLANCA - PUNTA ALTA</td>\n      <td>Gran Buenos Aires</td>\n      <td>Full-time</td>\n      <td>Senior / Semi-Senior</td>\n      <td>Transporte</td>\n      <td>Wurth Argentina S.A</td>\n      <td>2018-01-15</td>\n      <td>2018-03-17</td>\n    </tr>\n    <tr>\n      <th>3</th>\n      <td>1001135716</td>\n      <td>Vendedor Viajante TUCUMAN/SANTIAGO DEL ESTERO</td>\n      <td>Gran Buenos Aires</td>\n      <td>Full-time</td>\n      <td>Senior / Semi-Senior</td>\n      <td>Ventas</td>\n      <td>Wurth Argentina S.A</td>\n      <td>2018-01-15</td>\n      <td>2018-04-16</td>\n    </tr>\n    <tr>\n      <th>4</th>\n      <td>1001326344</td>\n      <td>Vendedor Viajante RECONQUISTA/AVELLANEDA</td>\n      <td>Gran Buenos Aires</td>\n      <td>Full-time</td>\n      <td>Senior / Semi-Senior</td>\n      <td>Ventas</td>\n      <td>Wurth Argentina S.A</td>\n      <td>2018-01-15</td>\n      <td>2018-03-27</td>\n    </tr>\n  </tbody>\n</table>\n</div>"
     },
     "metadata": {},
     "execution_count": 114
    }
   ],
   "source": [
    "df_avisos.head()"
   ]
  },
  {
   "cell_type": "code",
   "execution_count": 115,
   "metadata": {},
   "outputs": [],
   "source": [
    "# Avisos filtrados y con fecha de inici y fin\n",
    "df_avisos.to_csv(\"./data/avisos/avisos_filtrados.csv\", index=False, header=True)"
   ]
  },
  {
   "source": [
    "## Revision de datos train vs test"
   ],
   "cell_type": "markdown",
   "metadata": {}
  },
  {
   "cell_type": "code",
   "execution_count": 17,
   "metadata": {},
   "outputs": [],
   "source": [
    "idpost_train = df_train.idpostulante\n",
    "idpost_test = df_test.idpostulante"
   ]
  },
  {
   "cell_type": "code",
   "execution_count": 18,
   "metadata": {},
   "outputs": [
    {
     "output_type": "stream",
     "name": "stdout",
     "text": [
      "302787 156232\n"
     ]
    }
   ],
   "source": [
    "idpost_train_set = set(idpost_train.unique().tolist())\n",
    "idpost_test_set = set(idpost_test.unique().tolist())\n",
    "print(len(idpost_train_set), len(idpost_test_set))"
   ]
  },
  {
   "cell_type": "code",
   "execution_count": 19,
   "metadata": {},
   "outputs": [
    {
     "output_type": "stream",
     "name": "stdout",
     "text": [
      "unicos de test:  41204\ncompartidos con train:  115028\n"
     ]
    }
   ],
   "source": [
    "test_unique = (idpost_test_set - idpost_train_set)\n",
    "test_intersect = (idpost_test_set - test_unique)\n",
    "print(\"unicos de test: \",len(test_unique ))\n",
    "print(\"compartidos con train: \", len(test_intersect))"
   ]
  },
  {
   "cell_type": "code",
   "execution_count": null,
   "metadata": {},
   "outputs": [],
   "source": []
  },
  {
   "source": [
    "## Me quedo con los postulantes que estan en TRAIN unicamente"
   ],
   "cell_type": "markdown",
   "metadata": {}
  },
  {
   "cell_type": "code",
   "execution_count": 20,
   "metadata": {},
   "outputs": [
    {
     "output_type": "stream",
     "name": "stdout",
     "text": [
      "447909\n"
     ]
    }
   ],
   "source": [
    "idpost_full = df_postulante.idpostulante\n",
    "print(len(idpost_full))"
   ]
  },
  {
   "cell_type": "code",
   "execution_count": 21,
   "metadata": {},
   "outputs": [
    {
     "output_type": "execute_result",
     "data": {
      "text/plain": [
       "302787"
      ]
     },
     "metadata": {},
     "execution_count": 21
    }
   ],
   "source": [
    "# TRAIN SIN REPETIDOS\n",
    "len(df_train.drop_duplicates(subset='idpostulante'))"
   ]
  },
  {
   "cell_type": "code",
   "execution_count": 24,
   "metadata": {},
   "outputs": [
    {
     "output_type": "execute_result",
     "data": {
      "text/plain": [
       "283163"
      ]
     },
     "metadata": {},
     "execution_count": 24
    }
   ],
   "source": [
    "df_postulantes_justInTrain = df_postulante.merge(df_train.drop_duplicates(subset='idpostulante'), on='idpostulante')\n",
    "df_postulantes_justInTrain = df_postulantes_justInTrain[['idpostulante','fechanacimiento','sexo','nombre','estado']]\n",
    "len(df_postulantes_justInTrain)"
   ]
  },
  {
   "cell_type": "code",
   "execution_count": 26,
   "metadata": {},
   "outputs": [],
   "source": [
    "# Postulantes que SOLO estan en Train: justInTrain\n",
    "df_postulantes_justInTrain.to_csv(\"./data/postulantes/postulantes_justInTrain.csv\", index=False, header=True)"
   ]
  },
  {
   "source": [
    "## Cantidad de postulaciones de los usuarios en TRAIN"
   ],
   "cell_type": "markdown",
   "metadata": {}
  },
  {
   "cell_type": "code",
   "execution_count": 3,
   "metadata": {},
   "outputs": [],
   "source": [
    "# Train dataset con mas de 21 postulaciones\n",
    "#df_train[:100].loc[df_train.groupby(['idpostulante']).size().reset_index(name='counts')['counts']>21]"
   ]
  },
  {
   "cell_type": "code",
   "execution_count": 30,
   "metadata": {},
   "outputs": [
    {
     "output_type": "execute_result",
     "data": {
      "text/plain": [
       "       idpostulante  counts\n",
       "64995       8MaQjP3    3945\n",
       "54835       6rQdqjl    3614\n",
       "35484        5Mwjak    3545\n",
       "121625      KBzm0ZX    3010\n",
       "213480       axmjOE    2850\n",
       "...             ...     ...\n",
       "142425      NzjDkRx       1\n",
       "142422      NzjDGpB       1\n",
       "266214      pzdEJPb       1\n",
       "266216      pzdEW6N       1\n",
       "151393      PmGzK2b       1\n",
       "\n",
       "[302787 rows x 2 columns]"
      ],
      "text/html": "<div>\n<style scoped>\n    .dataframe tbody tr th:only-of-type {\n        vertical-align: middle;\n    }\n\n    .dataframe tbody tr th {\n        vertical-align: top;\n    }\n\n    .dataframe thead th {\n        text-align: right;\n    }\n</style>\n<table border=\"1\" class=\"dataframe\">\n  <thead>\n    <tr style=\"text-align: right;\">\n      <th></th>\n      <th>idpostulante</th>\n      <th>counts</th>\n    </tr>\n  </thead>\n  <tbody>\n    <tr>\n      <th>64995</th>\n      <td>8MaQjP3</td>\n      <td>3945</td>\n    </tr>\n    <tr>\n      <th>54835</th>\n      <td>6rQdqjl</td>\n      <td>3614</td>\n    </tr>\n    <tr>\n      <th>35484</th>\n      <td>5Mwjak</td>\n      <td>3545</td>\n    </tr>\n    <tr>\n      <th>121625</th>\n      <td>KBzm0ZX</td>\n      <td>3010</td>\n    </tr>\n    <tr>\n      <th>213480</th>\n      <td>axmjOE</td>\n      <td>2850</td>\n    </tr>\n    <tr>\n      <th>...</th>\n      <td>...</td>\n      <td>...</td>\n    </tr>\n    <tr>\n      <th>142425</th>\n      <td>NzjDkRx</td>\n      <td>1</td>\n    </tr>\n    <tr>\n      <th>142422</th>\n      <td>NzjDGpB</td>\n      <td>1</td>\n    </tr>\n    <tr>\n      <th>266214</th>\n      <td>pzdEJPb</td>\n      <td>1</td>\n    </tr>\n    <tr>\n      <th>266216</th>\n      <td>pzdEW6N</td>\n      <td>1</td>\n    </tr>\n    <tr>\n      <th>151393</th>\n      <td>PmGzK2b</td>\n      <td>1</td>\n    </tr>\n  </tbody>\n</table>\n<p>302787 rows × 2 columns</p>\n</div>"
     },
     "metadata": {},
     "execution_count": 30
    }
   ],
   "source": [
    "df_train_group= df_train.groupby(['idpostulante']).size().reset_index(name='counts')\n",
    "df_train_group.sort_values('counts',ascending=False) "
   ]
  },
  {
   "cell_type": "code",
   "execution_count": 31,
   "metadata": {},
   "outputs": [
    {
     "output_type": "execute_result",
     "data": {
      "text/plain": [
       "count    302787.000000\n",
       "mean         21.363827\n",
       "std          49.877822\n",
       "min           1.000000\n",
       "25%           3.000000\n",
       "50%           8.000000\n",
       "75%          21.000000\n",
       "max        3945.000000\n",
       "Name: counts, dtype: float64"
      ]
     },
     "metadata": {},
     "execution_count": 31
    }
   ],
   "source": [
    "df_train_group['counts'].describe()"
   ]
  },
  {
   "cell_type": "code",
   "execution_count": 33,
   "metadata": {},
   "outputs": [
    {
     "output_type": "execute_result",
     "data": {
      "text/plain": [
       "11343"
      ]
     },
     "metadata": {},
     "execution_count": 33
    }
   ],
   "source": [
    "len(df_train_group.loc[df_train_group['counts']>= 100])"
   ]
  },
  {
   "cell_type": "code",
   "execution_count": 34,
   "metadata": {},
   "outputs": [
    {
     "output_type": "stream",
     "name": "stdout",
     "text": [
      "6468689\n"
     ]
    }
   ],
   "source": [
    "df_train_filtered = df_train.merge(df_train_group, on='idpostulante')\n",
    "print(len(df_train_filtered))"
   ]
  },
  {
   "cell_type": "code",
   "execution_count": 35,
   "metadata": {},
   "outputs": [
    {
     "output_type": "execute_result",
     "data": {
      "text/plain": [
       "676572"
      ]
     },
     "metadata": {},
     "execution_count": 35
    }
   ],
   "source": [
    "df_train_filtered['counts'] = df_train_filtered['counts'].astype('int')\n",
    "df_train_filtered = df_train_filtered.loc[df_train_filtered['counts']>=300]\n",
    "len(df_train_filtered)"
   ]
  },
  {
   "cell_type": "code",
   "execution_count": 36,
   "metadata": {},
   "outputs": [
    {
     "output_type": "execute_result",
     "data": {
      "text/plain": [
       "1363"
      ]
     },
     "metadata": {},
     "execution_count": 36
    }
   ],
   "source": [
    "len(df_train_filtered.groupby(['idpostulante']))"
   ]
  },
  {
   "cell_type": "code",
   "execution_count": 37,
   "metadata": {},
   "outputs": [
    {
     "output_type": "execute_result",
     "data": {
      "text/plain": [
       "         idaviso idpostulante     fechapostulacion\n",
       "4272  1112266459       eeoNQ4  2018-01-19 13:16:52\n",
       "4273  1112266448       eeoNQ4  2018-01-19 13:18:55\n",
       "4274  1112230347       eeoNQ4  2018-01-19 13:21:29\n",
       "4275  1112186063       eeoNQ4  2018-01-20 20:02:32\n",
       "4276  1111944699       eeoNQ4  2018-01-20 20:17:18"
      ],
      "text/html": "<div>\n<style scoped>\n    .dataframe tbody tr th:only-of-type {\n        vertical-align: middle;\n    }\n\n    .dataframe tbody tr th {\n        vertical-align: top;\n    }\n\n    .dataframe thead th {\n        text-align: right;\n    }\n</style>\n<table border=\"1\" class=\"dataframe\">\n  <thead>\n    <tr style=\"text-align: right;\">\n      <th></th>\n      <th>idaviso</th>\n      <th>idpostulante</th>\n      <th>fechapostulacion</th>\n    </tr>\n  </thead>\n  <tbody>\n    <tr>\n      <th>4272</th>\n      <td>1112266459</td>\n      <td>eeoNQ4</td>\n      <td>2018-01-19 13:16:52</td>\n    </tr>\n    <tr>\n      <th>4273</th>\n      <td>1112266448</td>\n      <td>eeoNQ4</td>\n      <td>2018-01-19 13:18:55</td>\n    </tr>\n    <tr>\n      <th>4274</th>\n      <td>1112230347</td>\n      <td>eeoNQ4</td>\n      <td>2018-01-19 13:21:29</td>\n    </tr>\n    <tr>\n      <th>4275</th>\n      <td>1112186063</td>\n      <td>eeoNQ4</td>\n      <td>2018-01-20 20:02:32</td>\n    </tr>\n    <tr>\n      <th>4276</th>\n      <td>1111944699</td>\n      <td>eeoNQ4</td>\n      <td>2018-01-20 20:17:18</td>\n    </tr>\n  </tbody>\n</table>\n</div>"
     },
     "metadata": {},
     "execution_count": 37
    }
   ],
   "source": [
    "df_train_filtered = df_train_filtered[['idaviso','idpostulante','fechapostulacion']] \n",
    "df_train_filtered.head()"
   ]
  },
  {
   "cell_type": "code",
   "execution_count": 21,
   "metadata": {},
   "outputs": [],
   "source": [
    "# Postulantes que tienen mas de 100 publicaciones\n",
    "df_train_filtered.to_csv(\"./data/postulantes/postulantes_train_filtered.csv\", index=False, header=True)"
   ]
  },
  {
   "source": [
    "## Generacion Random\n",
    "### Para los users/idpostulante que estan en Test y no en Train se le asigna un idaviso random, que cumple dos condiciones:\n",
    "- Es un aviso valido en el mes de Abril 2018\n",
    "- Es un aviso con al menos 2 postulaciones"
   ],
   "cell_type": "markdown",
   "metadata": {}
  },
  {
   "cell_type": "code",
   "execution_count": null,
   "metadata": {},
   "outputs": [],
   "source": [
    "def intersection(lst1, lst2): \n",
    "    return list(set(lst1) & set(lst2)) "
   ]
  },
  {
   "cell_type": "code",
   "execution_count": null,
   "metadata": {},
   "outputs": [],
   "source": [
    "df_avisos_mas_vistos= df_train.groupby(['idaviso']).size().reset_index(name='counts')\n",
    "df_avisos_mas_vistos.sort_values('counts',ascending=True) "
   ]
  },
  {
   "cell_type": "code",
   "execution_count": null,
   "metadata": {},
   "outputs": [],
   "source": [
    "avisos_mas2 = df_avisos_mas_vistos.loc[df_train_group['counts']>= 2].sort_values('counts',ascending=False).idaviso.tolist() "
   ]
  },
  {
   "cell_type": "code",
   "execution_count": null,
   "metadata": {},
   "outputs": [],
   "source": [
    "abril_y_mas2= intersection(avisos_mas2,avisos_abril_list)\n",
    "print(len(abril_y_mas2))\n",
    "print(len(avisos_abril_list))\n",
    "print(len(abril_y_mas2))"
   ]
  },
  {
   "cell_type": "code",
   "execution_count": null,
   "metadata": {},
   "outputs": [],
   "source": [
    "1111556097 in avisos_abril_list"
   ]
  },
  {
   "cell_type": "code",
   "execution_count": null,
   "metadata": {},
   "outputs": [],
   "source": [
    "# Random con AVISOS DE ABRIL 2018.\n",
    "random.seed(12)\n",
    "scored_list_unknow = []\n",
    "for user_unknown in tqdm_notebook(users_unknown):\n",
    "    for index in range(10):\n",
    "        user_aviso=dict()\n",
    "        user_aviso[\"idaviso\"] = random.choices(abril_y_mas2)[0]\n",
    "        user_aviso[\"idpostulante\"] = user_unknown\n",
    "        scored_list_unknow.append(user_aviso)\n",
    "#scored_list_unknow"
   ]
  },
  {
   "cell_type": "code",
   "execution_count": null,
   "metadata": {},
   "outputs": [],
   "source": [
    "# Creo dataframe con la lista random de los postulantes que estan solo en test\n",
    "df_modelo_unknow = pd.DataFrame(scored_list_unknow)\n",
    "df_modelo_unknow.head()"
   ]
  },
  {
   "cell_type": "code",
   "execution_count": null,
   "metadata": {},
   "outputs": [],
   "source": [
    "# Appendeo un DF a otro DF\n",
    "#df_modelo_final = df_modelo_intermedio.append(df_modelo_unknow)"
   ]
  },
  {
   "cell_type": "code",
   "execution_count": null,
   "metadata": {},
   "outputs": [],
   "source": [
    "df_xxxx.to_csv(\"./xxxx.csv\", index=False)"
   ]
  }
 ],
 "metadata": {
  "kernelspec": {
   "name": "python3",
   "display_name": "Python 3.7.5 64-bit ('base': conda)",
   "metadata": {
    "interpreter": {
     "hash": "9a37e5188a605e95d3282a4fb8007f4c3c52885d8cd12f2ffcfc398feaa7ff36"
    }
   }
  },
  "language_info": {
   "codemirror_mode": {
    "name": "ipython",
    "version": 3
   },
   "file_extension": ".py",
   "mimetype": "text/x-python",
   "name": "python",
   "nbconvert_exporter": "python",
   "pygments_lexer": "ipython3",
   "version": "3.7.5-final"
  }
 },
 "nbformat": 4,
 "nbformat_minor": 4
}