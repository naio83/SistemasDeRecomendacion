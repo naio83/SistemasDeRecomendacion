{
 "cells": [
  {
   "cell_type": "code",
   "execution_count": 1,
   "metadata": {},
   "outputs": [],
   "source": [
    "import pandas as pd\n",
    "import time\n",
    "import random\n",
    "import numpy as np\n",
    "import math\n",
    "from sklearn import datasets\n",
    "from sklearn.metrics import mean_squared_error, r2_score\n",
    "from sklearn.model_selection import train_test_split\n",
    "from tqdm import tqdm, tqdm_notebook\n",
    "import warnings, sys, os, gc\n",
    "import surprise as sp\n",
    "\n",
    "#my_seed = 0\n",
    "#random.seed(my_seed)\n",
    "#np.random.seed(my_seed)"
   ]
  },
  {
   "source": [
    "## Surprise"
   ],
   "cell_type": "markdown",
   "metadata": {}
  },
  {
   "cell_type": "code",
   "execution_count": 2,
   "metadata": {},
   "outputs": [],
   "source": [
    "df_train = pd.read_csv('./data/opiniones_train.csv')\n",
    "df_test = pd.read_csv('./data/opiniones_test.csv')"
   ]
  },
  {
   "cell_type": "code",
   "execution_count": 3,
   "metadata": {},
   "outputs": [],
   "source": [
    "X_train, X_test, y_train, y_test = train_test_split(df_train.drop(['puntuacion'], axis=1),         df_train.puntuacion, test_size=0.3, random_state=0)"
   ]
  },
  {
   "cell_type": "code",
   "execution_count": 4,
   "metadata": {},
   "outputs": [],
   "source": [
    "#### Genericos #### \n",
    "scale = (1.0, 10.0)\n",
    "reader = sp.reader.Reader(rating_scale=scale)\n",
    "train = pd.concat([X_train, pd.DataFrame(y_train)], axis=1)\n",
    "data_train = sp.dataset.Dataset.load_from_df(train, reader)"
   ]
  },
  {
   "cell_type": "code",
   "execution_count": 5,
   "metadata": {},
   "outputs": [],
   "source": [
    "# Funcion para hacer la prediccion de cada par usuario/libro\n",
    "def full_prediction(algoritmo,test):\n",
    "    list_pred = []\n",
    "    for row in tqdm_notebook(test.itertuples()):\n",
    "        row_pred = dict()\n",
    "        pred = algoritmo.predict(row.usuario, row.libro, verbose=False)\n",
    "        row_pred[\"id\"] = row.id\n",
    "        row_pred[\"puntuacion\"] = np.around(pred.est, 4)\n",
    "        list_pred.append(row_pred) \n",
    "    return list_pred"
   ]
  },
  {
   "source": [
    "## SVD"
   ],
   "cell_type": "markdown",
   "metadata": {}
  },
  {
   "cell_type": "code",
   "execution_count": 6,
   "metadata": {},
   "outputs": [],
   "source": [
    "#### Parametros SVD ####\n",
    "SVD_algo = sp.prediction_algorithms.SVD\n",
    "param_grid = {\n",
    "    'n_factors': range(40,80,2),\n",
    "    \"n_epochs\": range(100,1000,100),\n",
    "    'lr_all': [0.002, 0.003, 0.004, 0.005, 0.006, 0.007, 0.008],\n",
    "    'reg_all': [0.01,0.02,0.03,0.2,0.4,0.6],\n",
    "    'biased':[True, False]\n",
    "}"
   ]
  },
  {
   "cell_type": "code",
   "execution_count": 10,
   "metadata": {},
   "outputs": [
    {
     "output_type": "stream",
     "name": "stdout",
     "text": [
      "SVD\nRMSE = {'n_factors': 42, 'n_epochs': 100, 'lr_all': 0.003, 'reg_all': 0.2, 'biased': True}\ntiempo:  400.4446563720703\n"
     ]
    }
   ],
   "source": [
    "#### Busqueda de hiper parametros ####\n",
    "t_0 = time.time()\n",
    "svd_rs = sp.model_selection.search.RandomizedSearchCV(SVD_algo, param_grid, measures=['rmse'],cv=5, n_jobs=-1)\n",
    "svd_rs.fit(data_train)\n",
    "print(\"SVD\")\n",
    "print('RMSE =', svd_rs.best_params['rmse']) \n",
    "print (\"tiempo: \", time.time() - t_0)"
   ]
  },
  {
   "cell_type": "code",
   "execution_count": 7,
   "metadata": {},
   "outputs": [
    {
     "output_type": "stream",
     "name": "stdout",
     "text": [
      "tiempo:  0.11973857879638672\n"
     ]
    }
   ],
   "source": [
    "#### Entrenamiento ####\n",
    "t_0 = time.time()\n",
    "train = df_train[['usuario', 'libro', 'puntuacion']]\n",
    "best_params = {'n_epochs': 300, 'lr_all': 0.001, 'reg_all': 0.2, 'n_factors': 55}\n",
    "data = sp.dataset.Dataset.load_from_df(train, reader)\n",
    "trainset, testset = sp.model_selection.train_test_split(data, test_size=0.30, random_state=0)\n",
    "model = SVD_algo(n_factors= 55, n_epochs= 300, lr_all= 0.001, reg_all= 0.2, biased=True)\n",
    "print (\"tiempo: \", time.time() - t_0)"
   ]
  },
  {
   "cell_type": "code",
   "execution_count": 8,
   "metadata": {},
   "outputs": [
    {
     "output_type": "stream",
     "name": "stdout",
     "text": [
      "RMSE: 1.5826\n1.5825966236285707\ntiempo:  47.333245038986206\n"
     ]
    }
   ],
   "source": [
    "#### Predicciones ####\n",
    "t_0 = time.time()\n",
    "# Fit sobre trainset (70% de data) y predicciones sobre testset(30% data)\n",
    "model.fit(trainset)\n",
    "y_predictions = model.test(testset)\n",
    "# Fit sobre trainset full\n",
    "model.fit(data.build_full_trainset())\n",
    "print(sp.accuracy.rmse(y_predictions))\n",
    "print (\"tiempo: \", time.time() - t_0)"
   ]
  },
  {
   "cell_type": "code",
   "execution_count": 9,
   "metadata": {
    "tags": []
   },
   "outputs": [
    {
     "output_type": "display_data",
     "data": {
      "text/plain": "HBox(children=(FloatProgress(value=1.0, bar_style='info', max=1.0), HTML(value='')))",
      "application/vnd.jupyter.widget-view+json": {
       "version_major": 2,
       "version_minor": 0,
       "model_id": "7338a30cd41240f8993fdcae5de0a357"
      }
     },
     "metadata": {}
    },
    {
     "output_type": "stream",
     "name": "stdout",
     "text": [
      "\n          id  puntuacion\n0          1      7.1872\n1          2      8.0608\n2          3      6.9903\n3          4      7.7213\n4          5      6.6881\n...      ...         ...\n10579  10580      8.4629\n10580  10581      7.8519\n10581  10582      7.2862\n10582  10583      8.8856\n10583  10584      5.6770\n\n[10584 rows x 2 columns]\n"
     ]
    }
   ],
   "source": [
    "submit = pd.DataFrame(full_prediction(model,df_test))\n",
    "print(submit)"
   ]
  },
  {
   "cell_type": "code",
   "execution_count": 96,
   "metadata": {},
   "outputs": [],
   "source": [
    "# Column Compare\n",
    "#submit_manual.where(submit_manual.puntuacion==submit.puntuacion).notna()"
   ]
  },
  {
   "cell_type": "code",
   "execution_count": 102,
   "metadata": {},
   "outputs": [],
   "source": [
    "#n_factors= 55, n_epochs= 300, lr_all= 0.001, reg_all= 0.2\n",
    "## RMSE: 1.5834 | RMSE_kaggle: 1.48523 ===> surpSVD_tunned.csv \n",
    "#n_factors= 65, n_epochs= 700, lr_all= 0.007, reg_all= 0.03, biased=True\n",
    "##RMSE: 1.6119  \n",
    "#RMSE = {'n_factors': 72, 'n_epochs': 800, 'lr_all': 0.008, 'reg_all': 0.01, 'biased': True}\n",
    "##RMSE: 1.6088\n",
    "#RMSE = {'n_factors': 42, 'n_epochs': 100, 'lr_all': 0.003, 'reg_all': 0.2, 'biased': True}\n",
    "##RMSE: 1.5852\n",
    "#n_factors= 55, n_epochs= 125, lr_all= 0.0025, reg_all= 0.25, biased=True\n",
    "## RMSE: 1.5827 | RMSE_kaggle: 1.49455 ===> surpSVD_tunned_2.csv\n",
    "\n",
    "submit.to_csv(\"./submission/surpSVD_tunned_3.csv\", index=False)"
   ]
  },
  {
   "source": [
    "# NMF"
   ],
   "cell_type": "markdown",
   "metadata": {}
  },
  {
   "cell_type": "code",
   "execution_count": null,
   "metadata": {},
   "outputs": [],
   "source": [
    "NMF_algo = NMF()"
   ]
  }
 ],
 "metadata": {
  "kernelspec": {
   "name": "python3",
   "display_name": "Python 3.7.5 64-bit ('base': conda)",
   "metadata": {
    "interpreter": {
     "hash": "9a37e5188a605e95d3282a4fb8007f4c3c52885d8cd12f2ffcfc398feaa7ff36"
    }
   }
  },
  "language_info": {
   "codemirror_mode": {
    "name": "ipython",
    "version": 3
   },
   "file_extension": ".py",
   "mimetype": "text/x-python",
   "name": "python",
   "nbconvert_exporter": "python",
   "pygments_lexer": "ipython3",
   "version": "3.7.5-final"
  }
 },
 "nbformat": 4,
 "nbformat_minor": 4
}