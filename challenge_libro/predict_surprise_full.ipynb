{
 "cells": [
  {
   "cell_type": "code",
   "execution_count": 78,
   "metadata": {},
   "outputs": [],
   "source": [
    "import pandas as pd\n",
    "import time\n",
    "import pandas_profiling\n",
    "import numpy as np\n",
    "import math\n",
    "import seaborn as sns\n",
    "import numpy as np\n",
    "from sklearn import datasets\n",
    "from datetime import date, datetime\n",
    "from sklearn.metrics import mean_squared_error, r2_score\n",
    "from sklearn.model_selection import train_test_split\n",
    "from tqdm import tqdm, tqdm_notebook\n",
    "from xgboost import XGBRegressor\n",
    "from sklearn.linear_model import LinearRegression\n",
    "import warnings, sys, os, gc\n",
    "\n",
    "import surprise as sp\n",
    "from surprise.model_selection import cross_validate\n",
    "from surprise.model_selection import GridSearchCV, RandomizedSearchCV\n",
    "from surprise import KNNBasic, KNNWithMeans, KNNWithZScore, SVD, NMF\n",
    "from surprise import accuracy\n"
   ]
  },
  {
   "source": [
    "## Surprise"
   ],
   "cell_type": "markdown",
   "metadata": {}
  },
  {
   "cell_type": "code",
   "execution_count": 79,
   "metadata": {},
   "outputs": [],
   "source": [
    "df_train = pd.read_csv('./data/opiniones_train.csv')\n",
    "df_test = pd.read_csv('./data/opiniones_test.csv')"
   ]
  },
  {
   "cell_type": "code",
   "execution_count": 80,
   "metadata": {},
   "outputs": [
    {
     "output_type": "stream",
     "name": "stdout",
     "text": [
      "(29624, 3) (12696, 3)\n"
     ]
    }
   ],
   "source": [
    "trainset, testset = train_test_split(df_train, test_size=0.30)\n",
    "#trainset = df_train\n",
    "#testset = df_test\n",
    "print(trainset.shape, testset.shape)"
   ]
  },
  {
   "cell_type": "code",
   "execution_count": 81,
   "metadata": {},
   "outputs": [],
   "source": [
    "testset = testset.rename(columns = {'libro': 'id'}, inplace = False)\n",
    "trainset = trainset.rename(columns = {'libro': 'id'}, inplace = False)"
   ]
  },
  {
   "cell_type": "code",
   "execution_count": 82,
   "metadata": {},
   "outputs": [],
   "source": [
    "reader = sp.reader.Reader(rating_scale=(1, 10))\n",
    "data_train= sp.dataset.Dataset.load_from_df(trainset[['id', 'usuario', 'puntuacion']], reader)"
   ]
  },
  {
   "source": [
    "### Busqueda hiper parametros"
   ],
   "cell_type": "markdown",
   "metadata": {}
  },
  {
   "cell_type": "code",
   "execution_count": 14,
   "metadata": {},
   "outputs": [],
   "source": [
    "param_grid =  {'min_k': list(range(2,11)), 'k': list(range(10,45,5)),\n",
    "                'sim_options': {'name': [\"msd\", \"cosine\", \"pearson_baseline\", \"pearson\"],\n",
    "                'user_based': [False, True]}}"
   ]
  },
  {
   "cell_type": "code",
   "execution_count": 15,
   "metadata": {},
   "outputs": [
    {
     "output_type": "stream",
     "name": "stdout",
     "text": [
      "KNNBasic\nRMSE = {'min_k': 4, 'k': 40, 'sim_options': {'name': 'msd', 'user_based': True}}\ntiempo:  205.6049039363861\n"
     ]
    }
   ],
   "source": [
    "t_0=time.time()\n",
    "knnbasic_rs = RandomizedSearchCV(KNNBasic, param_grid, measures=['rmse', 'mae'],n_iter=20, n_jobs=2)\n",
    "knnbasic_rs.fit(data_train)\n",
    "#knnbasic_gs = GridSearchCV(KNNBasic, param_grid, measures=['rmse', 'mae'], cv=5, n_jobs=3)\n",
    "#knnbasic_gs.fit(data_train)\n",
    "print(\"KNNBasic\")\n",
    "print('RMSE =', knnbasic_rs.best_params['rmse']) \n",
    "print (\"tiempo: \", time.time() - t_0)"
   ]
  },
  {
   "cell_type": "code",
   "execution_count": 16,
   "metadata": {},
   "outputs": [
    {
     "output_type": "stream",
     "name": "stdout",
     "text": [
      "KNNWithMeans\nRMSE = {'min_k': 6, 'k': 30, 'sim_options': {'name': 'cosine', 'user_based': False}}\ntiempo:  247.94784998893738\n"
     ]
    }
   ],
   "source": [
    "t_0=time.time()\n",
    "knnmeans_rs = RandomizedSearchCV(KNNWithMeans, param_grid, measures=['rmse', 'mae'], n_iter=20, n_jobs=2)\n",
    "knnmeans_rs.fit(data_train)\n",
    "print(\"KNNWithMeans\")\n",
    "print('RMSE =', knnmeans_rs.best_params['rmse']) \n",
    "print (\"tiempo: \", time.time() - t_0)"
   ]
  },
  {
   "cell_type": "code",
   "execution_count": 65,
   "metadata": {},
   "outputs": [],
   "source": [
    "so_Basic = {'name': 'msd', 'user_based': True}\n",
    "so_Means = {'name': 'cosine', 'user_based': False}"
   ]
  },
  {
   "cell_type": "code",
   "execution_count": 66,
   "metadata": {},
   "outputs": [],
   "source": [
    "KNNBasic_algo = sp.prediction_algorithms.knns.KNNBasic(min_k=4, k=40, sim_options=so_Basic)\n",
    "KNNWithMeans_algo = sp.prediction_algorithms.knns.KNNWithMeans(min_k=6, k=30, sim_options=so_Means)"
   ]
  },
  {
   "cell_type": "code",
   "execution_count": 67,
   "metadata": {},
   "outputs": [],
   "source": [
    "trainset = data_train.build_full_trainset()"
   ]
  },
  {
   "cell_type": "code",
   "execution_count": 68,
   "metadata": {},
   "outputs": [
    {
     "output_type": "stream",
     "name": "stdout",
     "text": [
      "Computing the msd similarity matrix...\nDone computing similarity matrix.\ntiempo:  4.925396919250488\n"
     ]
    }
   ],
   "source": [
    "t_0 = time.time()\n",
    "pred_KNNBasic = KNNBasic_algo.fit(trainset)\n",
    "print (\"tiempo: \", time.time() - t_0)"
   ]
  },
  {
   "cell_type": "code",
   "execution_count": 69,
   "metadata": {},
   "outputs": [
    {
     "output_type": "stream",
     "name": "stdout",
     "text": [
      "Computing the cosine similarity matrix...\n",
      "Done computing similarity matrix.\n",
      "tiempo:  0.4728994369506836\n"
     ]
    }
   ],
   "source": [
    "t_0 = time.time()\n",
    "pred_KNNWithMeans = KNNWithMeans_algo.fit(trainset)\n",
    "print (\"tiempo: \", time.time() - t_0)"
   ]
  },
  {
   "cell_type": "code",
   "execution_count": 70,
   "metadata": {},
   "outputs": [],
   "source": [
    "def full_prediction(algo_name,algoritmo,test):\n",
    "    list_pred = []\n",
    "    for row in tqdm_notebook(test.itertuples()):\n",
    "        row_pred = dict()\n",
    "        uid = row.id\n",
    "        iid = row.usuario\n",
    "        #print(uid, iid)\n",
    "        pred = algoritmo.predict(uid, iid, verbose=False)\n",
    "        row_pred[\"id\"] = uid\n",
    "        row_pred[\"puntuacion\"] = np.around(pred.est, 2)\n",
    "        list_pred.append(row_pred)\n",
    "    #print(row.ID.astype(int))\n",
    "    df = pd.DataFrame(list_pred)    \n",
    "    print(algo_name + \" MSE:      %.4f\" % np.sqrt(mean_squared_error(test.puntuacion, df.puntuacion)))\n",
    "    return list_pred"
   ]
  },
  {
   "cell_type": "code",
   "execution_count": 71,
   "metadata": {},
   "outputs": [
    {
     "output_type": "stream",
     "name": "stdout",
     "text": [
      "12696\n"
     ]
    }
   ],
   "source": [
    "test_knn = testset\n",
    "test_knnMeans = testset\n",
    "print(len(testset))"
   ]
  },
  {
   "cell_type": "code",
   "execution_count": 72,
   "metadata": {},
   "outputs": [
    {
     "output_type": "display_data",
     "data": {
      "text/plain": "HBox(children=(FloatProgress(value=1.0, bar_style='info', max=1.0), HTML(value='')))",
      "application/vnd.jupyter.widget-view+json": {
       "version_major": 2,
       "version_minor": 0,
       "model_id": "cafeddffaa6f4baf842db01027c42279"
      }
     },
     "metadata": {}
    },
    {
     "output_type": "stream",
     "name": "stdout",
     "text": [
      "\nKNNBasic MSE:      1.6861\n"
     ]
    },
    {
     "output_type": "display_data",
     "data": {
      "text/plain": "HBox(children=(FloatProgress(value=1.0, bar_style='info', max=1.0), HTML(value='')))",
      "application/vnd.jupyter.widget-view+json": {
       "version_major": 2,
       "version_minor": 0,
       "model_id": "fac36af28dd942e29a3c1c7819c11e0a"
      }
     },
     "metadata": {}
    },
    {
     "output_type": "stream",
     "name": "stdout",
     "text": [
      "\nKNNWithMeans MSE:      1.6689\ntiempo:  3.391685724258423\n"
     ]
    }
   ],
   "source": [
    "t_0 = time.time()\n",
    "df_list_pred_KNNBasic = pd.DataFrame(full_prediction(\"KNNBasic\",KNNBasic_algo,test_knn))\n",
    "df_list_pred_KNNWithMeans = pd.DataFrame(full_prediction(\"KNNWithMeans\",KNNWithMeans_algo,test_knnMeans))\n",
    "print (\"tiempo: \", time.time() - t_0)"
   ]
  },
  {
   "cell_type": "code",
   "execution_count": 75,
   "metadata": {},
   "outputs": [],
   "source": [
    "df_list_pred_KNN.to_csv(\"./submission/ignacio_submit_SVD.csv\", index=False)"
   ]
  },
  {
   "source": [
    "## SVD"
   ],
   "cell_type": "markdown",
   "metadata": {}
  },
  {
   "cell_type": "code",
   "execution_count": 42,
   "metadata": {},
   "outputs": [],
   "source": [
    "# HiperParametros\n",
    "param_grid_svd = {'n_factors': list(range(40,130,5)), 'n_epochs': list(range(1,100,1)), \n",
    "              'lr_all': [0.002, 0.003, 0.004, 0.005, 0.006, 0.007, 0.008],\n",
    "              'reg_all': [0.01,0.02,0.03],\n",
    "              'biased':[True, False]}\n",
    "\n",
    "param_grid_nmf = {'n_factors': list(range(40,130,10)), 'n_epochs': list(range(1,100,1)),\n",
    "              'biased':[True, False]}\n",
    "\n",
    "SVD_algo = SVD()\n",
    "NMF_algo = NMF()"
   ]
  },
  {
   "cell_type": "code",
   "execution_count": 43,
   "metadata": {},
   "outputs": [
    {
     "output_type": "stream",
     "name": "stdout",
     "text": [
      "SVD\nRMSE = {'n_factors': 70, 'n_epochs': 28, 'lr_all': 0.003, 'reg_all': 0.03, 'biased': True}\ntiempo:  219.4697482585907\n"
     ]
    }
   ],
   "source": [
    "t_0 = time.time()\n",
    "svd_rs = RandomizedSearchCV(SVD, param_grid_svd, measures=['rmse', 'mae'],n_iter=25, n_jobs=2)\n",
    "svd_rs.fit(data_train)\n",
    "print(\"SVD\")\n",
    "print('RMSE =', svd_rs.best_params['rmse']) \n",
    "print (\"tiempo: \", time.time() - t_0)"
   ]
  },
  {
   "cell_type": "code",
   "execution_count": 44,
   "metadata": {},
   "outputs": [
    {
     "output_type": "stream",
     "name": "stdout",
     "text": [
      "NMF\nRMSE = {'n_factors': 40, 'n_epochs': 95, 'biased': False}\ntiempo:  521.083155632019\n"
     ]
    }
   ],
   "source": [
    "t_0 = time.time()\n",
    "nmf_rs = RandomizedSearchCV(NMF, param_grid_nmf, measures=['rmse', 'mae'],n_iter=25, n_jobs=2)\n",
    "nmf_rs.fit(data_train)\n",
    "print(\"NMF\")\n",
    "print('RMSE =', nmf_rs.best_params['rmse']) \n",
    "print (\"tiempo: \", time.time() - t_0)"
   ]
  },
  {
   "cell_type": "code",
   "execution_count": 83,
   "metadata": {},
   "outputs": [],
   "source": [
    "#SVD_algo = SVD(n_factors= 70, n_epochs= 28, lr_all= 0.003, reg_all= 0.03, biased=True)\n",
    "NMF_algo = NMF(n_factors= 40, n_epochs= 95, biased=False)"
   ]
  },
  {
   "cell_type": "code",
   "execution_count": 84,
   "metadata": {},
   "outputs": [
    {
     "output_type": "stream",
     "name": "stdout",
     "text": [
      "tiempo:  0.00011324882507324219\n",
      "tiempo:  9.384754180908203\n"
     ]
    }
   ],
   "source": [
    "trainset_model = data_train.build_full_trainset()\n",
    "t_0 = time.time()\n",
    "#pred_SVD = SVD_algo.fit(trainset_model)\n",
    "print (\"tiempo: \", time.time() - t_0)\n",
    "t_0 = time.time()\n",
    "pred_NMF = NMF_algo.fit(trainset_model)\n",
    "print (\"tiempo: \", time.time() - t_0)"
   ]
  },
  {
   "cell_type": "code",
   "execution_count": 85,
   "metadata": {},
   "outputs": [
    {
     "output_type": "stream",
     "name": "stdout",
     "text": [
      "12696\n"
     ]
    }
   ],
   "source": [
    "#test_svd = testset\n",
    "test_nmf = testset\n",
    "print(len(testset))"
   ]
  },
  {
   "cell_type": "code",
   "execution_count": 86,
   "metadata": {},
   "outputs": [
    {
     "output_type": "display_data",
     "data": {
      "text/plain": "HBox(children=(FloatProgress(value=1.0, bar_style='info', max=1.0), HTML(value='')))",
      "application/vnd.jupyter.widget-view+json": {
       "version_major": 2,
       "version_minor": 0,
       "model_id": "b623b45198914930a335172d7aafaac1"
      }
     },
     "metadata": {}
    },
    {
     "output_type": "stream",
     "name": "stdout",
     "text": [
      "\nNMF MSE:      1.8935\n"
     ]
    }
   ],
   "source": [
    "#df_list_pred_SVD = pd.DataFrame(full_prediction(\"SVD\",SVD_algo,test_svd))\n",
    "df_list_pred_NMF = pd.DataFrame(full_prediction(\"NMF\",NMF_algo,test_nmf))"
   ]
  },
  {
   "cell_type": "code",
   "execution_count": null,
   "metadata": {},
   "outputs": [],
   "source": []
  }
 ],
 "metadata": {
  "kernelspec": {
   "name": "python3",
   "display_name": "Python 3.7.5 64-bit ('base': conda)",
   "metadata": {
    "interpreter": {
     "hash": "9a37e5188a605e95d3282a4fb8007f4c3c52885d8cd12f2ffcfc398feaa7ff36"
    }
   }
  },
  "language_info": {
   "codemirror_mode": {
    "name": "ipython",
    "version": 3
   },
   "file_extension": ".py",
   "mimetype": "text/x-python",
   "name": "python",
   "nbconvert_exporter": "python",
   "pygments_lexer": "ipython3",
   "version": "3.7.5-final"
  }
 },
 "nbformat": 4,
 "nbformat_minor": 4
}