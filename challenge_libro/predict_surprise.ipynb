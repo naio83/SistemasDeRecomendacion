{
 "cells": [
  {
   "cell_type": "code",
   "execution_count": 1,
   "metadata": {},
   "outputs": [],
   "source": [
    "import pandas as pd\n",
    "import time\n",
    "import random\n",
    "import numpy as np\n",
    "import math\n",
    "from sklearn import datasets\n",
    "from sklearn.metrics import mean_squared_error, r2_score\n",
    "from sklearn.model_selection import train_test_split\n",
    "from tqdm import tqdm, tqdm_notebook\n",
    "import warnings, sys, os, gc\n",
    "import surprise as sp\n",
    "\n",
    "#my_seed = 0\n",
    "#random.seed(my_seed)\n",
    "#np.random.seed(my_seed)"
   ]
  },
  {
   "source": [
    "## Surprise"
   ],
   "cell_type": "markdown",
   "metadata": {}
  },
  {
   "cell_type": "code",
   "execution_count": 2,
   "metadata": {},
   "outputs": [
    {
     "output_type": "stream",
     "name": "stdout",
     "text": [
      "(42320, 3) (10584, 4)\n"
     ]
    }
   ],
   "source": [
    "df_train = pd.read_csv('./data/opiniones_train.csv')\n",
    "df_test = pd.read_csv('./data/opiniones_test.csv')\n",
    "print(df_train.shape, df_test.shape)"
   ]
  },
  {
   "cell_type": "code",
   "execution_count": 3,
   "metadata": {},
   "outputs": [],
   "source": [
    "X_train, X_test, y_train, y_test = train_test_split(df_train.drop(['puntuacion'], axis=1),         df_train.puntuacion, test_size=0.3, random_state=0)"
   ]
  },
  {
   "cell_type": "code",
   "execution_count": 4,
   "metadata": {},
   "outputs": [],
   "source": [
    "#### Genericos #### \n",
    "scale = (1.0, 10.0)\n",
    "reader = sp.reader.Reader(rating_scale=scale)\n",
    "train = pd.concat([X_train, pd.DataFrame(y_train)], axis=1)\n",
    "data_train = sp.dataset.Dataset.load_from_df(train, reader)"
   ]
  },
  {
   "cell_type": "code",
   "execution_count": 5,
   "metadata": {},
   "outputs": [],
   "source": [
    "# Funcion para hacer la prediccion de cada par usuario/libro\n",
    "def full_prediction(algoritmo,test):\n",
    "    list_pred = []\n",
    "    for row in tqdm_notebook(test.itertuples()):\n",
    "        row_pred = dict()\n",
    "        pred = algoritmo.predict(row.usuario, row.libro, verbose=False)\n",
    "        row_pred[\"id\"] = row.id\n",
    "        row_pred[\"puntuacion\"] = np.around(pred.est, 4)\n",
    "        list_pred.append(row_pred) \n",
    "    return list_pred"
   ]
  },
  {
   "source": [
    "## SVD"
   ],
   "cell_type": "markdown",
   "metadata": {}
  },
  {
   "cell_type": "code",
   "execution_count": 6,
   "metadata": {},
   "outputs": [],
   "source": [
    "#### Parametros SVD ####\n",
    "SVD_algo = sp.prediction_algorithms.SVD\n",
    "param_grid = {\n",
    "    'n_factors': range(40,60,1),\n",
    "    \"n_epochs\": range(200,500,25),\n",
    "    'lr_all': [0.001, 0.002, 0.01, 0.02],\n",
    "    'reg_all': [0.1, 0.2, 0.3]\n",
    "}"
   ]
  },
  {
   "cell_type": "code",
   "execution_count": 7,
   "metadata": {},
   "outputs": [
    {
     "output_type": "stream",
     "name": "stdout",
     "text": [
      "SVD_GS\nbest_Param = {'n_factors': 46, 'n_epochs': 200, 'lr_all': 0.001, 'reg_all': 0.2}\ntiempo:  70687.84449291229\n"
     ]
    }
   ],
   "source": [
    "#### Busqueda de hiper parametros ####\n",
    "t_0 = time.time()\n",
    "svd_gs = sp.model_selection.search.GridSearchCV(SVD_algo, param_grid, measures=['rmse'], cv=5, n_jobs=-1)\n",
    "svd_gs.fit(data_train)\n",
    "print(\"SVD_GS\")\n",
    "print('best_Param =', svd_gs.best_params['rmse']) \n",
    "print (\"tiempo: \", time.time() - t_0)\n",
    "#SVD_GS\n",
    "#best_Param = {'n_factors': 55, 'n_epochs': 300, 'lr_all': 0.001, 'reg_all': 0.2}\n",
    "#tiempo:  6867.6164293289185\n",
    "\n",
    "#SVD_GS: 10000\n",
    "#best_Param = {'n_factors': 42, 'n_epochs': 250, 'lr_all': 0.001, 'reg_all': 0.2}\n",
    "#tiempo:  334.83989334106445\n",
    "\n",
    "#SVD_GS: full\n",
    "#best_Param = {'n_factors': 46, 'n_epochs': 200, 'lr_all': 0.001, 'reg_all': 0.2}\n",
    "#tiempo:  1336.0529103279114\n",
    "#SVD_GS full2: 20 hs\n",
    "#best_Param = {'n_factors': 46, 'n_epochs': 200, 'lr_all': 0.001, 'reg_all': 0.2}\n",
    "#tiempo:  70687.84449291229"
   ]
  },
  {
   "cell_type": "code",
   "execution_count": 10,
   "metadata": {},
   "outputs": [
    {
     "output_type": "stream",
     "name": "stdout",
     "text": [
      "SVD\nRMSE = {'n_factors': 42, 'n_epochs': 100, 'lr_all': 0.003, 'reg_all': 0.2, 'biased': True}\ntiempo:  400.4446563720703\n"
     ]
    }
   ],
   "source": [
    "#### Busqueda de hiper parametros ####\n",
    "t_0 = time.time()\n",
    "svd_rs = sp.model_selection.search.RandomizedSearchCV(SVD_algo, param_grid, measures=['rmse'],cv=5, n_jobs=-1)\n",
    "svd_rs.fit(data_train)\n",
    "print(\"SVD_RS\")\n",
    "print('best_Param =', svd_rs.best_params['rmse']) \n",
    "print (\"tiempo: \", time.time() - t_0)"
   ]
  },
  {
   "cell_type": "code",
   "execution_count": 8,
   "metadata": {},
   "outputs": [
    {
     "output_type": "stream",
     "name": "stdout",
     "text": [
      "tiempo:  0.21262049674987793\n"
     ]
    }
   ],
   "source": [
    "#### Entrenamiento ####\n",
    "t_0 = time.time()\n",
    "train = df_train[['usuario', 'libro', 'puntuacion']]\n",
    "data = sp.dataset.Dataset.load_from_df(train, reader)\n",
    "trainset, testset = sp.model_selection.train_test_split(data, test_size=0.30, random_state=0)\n",
    "model = SVD_algo(n_factors= 46, n_epochs= 200, lr_all= 0.001, reg_all= 0.2, biased=True)\n",
    "print (\"tiempo: \", time.time() - t_0)"
   ]
  },
  {
   "cell_type": "code",
   "execution_count": 9,
   "metadata": {},
   "outputs": [
    {
     "output_type": "stream",
     "name": "stdout",
     "text": [
      "RMSE: 1.5809\n1.5809351401092744\ntiempo:  30.04964590072632\n"
     ]
    }
   ],
   "source": [
    "#### Predicciones ####\n",
    "t_0 = time.time()\n",
    "# Fit sobre trainset (70% de data) y predicciones sobre testset(30% data)\n",
    "model.fit(trainset)\n",
    "y_predictions = model.test(testset)\n",
    "# Fit sobre trainset full\n",
    "model.fit(data.build_full_trainset())\n",
    "print(sp.accuracy.rmse(y_predictions))\n",
    "print (\"tiempo: \", time.time() - t_0)"
   ]
  },
  {
   "cell_type": "code",
   "execution_count": 10,
   "metadata": {
    "tags": []
   },
   "outputs": [
    {
     "output_type": "display_data",
     "data": {
      "text/plain": "HBox(children=(FloatProgress(value=1.0, bar_style='info', max=1.0), HTML(value='')))",
      "application/vnd.jupyter.widget-view+json": {
       "version_major": 2,
       "version_minor": 0,
       "model_id": "69cd56fdca3c4401acaa7e0b1e11e080"
      }
     },
     "metadata": {}
    },
    {
     "output_type": "stream",
     "name": "stdout",
     "text": [
      "\n          id  puntuacion\n0          1      7.1850\n1          2      8.0546\n2          3      7.2928\n3          4      7.5517\n4          5      6.6829\n...      ...         ...\n10579  10580      8.5150\n10580  10581      7.6038\n10581  10582      7.4369\n10582  10583      8.6752\n10583  10584      5.8584\n\n[10584 rows x 2 columns]\n"
     ]
    }
   ],
   "source": [
    "submit = pd.DataFrame(full_prediction(model,df_test))\n",
    "print(submit)"
   ]
  },
  {
   "cell_type": "code",
   "execution_count": 96,
   "metadata": {},
   "outputs": [],
   "source": [
    "# Column Compare\n",
    "#submit_manual.where(submit_manual.puntuacion==submit.puntuacion).notna()"
   ]
  },
  {
   "cell_type": "code",
   "execution_count": 11,
   "metadata": {},
   "outputs": [],
   "source": [
    "#n_factors= 55, n_epochs= 300, lr_all= 0.001, reg_all= 0.2\n",
    "## RMSE: 1.5834 | RMSE_kaggle: 1.48523 ===> surpSVD_tunned.csv \n",
    "## RMSE: 1.5846 | RMSE_kaggle: 1.48610 ===> surpSVD_tunned_3.csv \n",
    "#n_factors= 65, n_epochs= 700, lr_all= 0.007, reg_all= 0.03, biased=True\n",
    "##RMSE: 1.6119  \n",
    "#RMSE = {'n_factors': 72, 'n_epochs': 800, 'lr_all': 0.008, 'reg_all': 0.01, 'biased': True}\n",
    "##RMSE: 1.6088\n",
    "#RMSE = {'n_factors': 42, 'n_epochs': 100, 'lr_all': 0.003, 'reg_all': 0.2, 'biased': True}\n",
    "##RMSE: 1.5852\n",
    "#n_factors= 55, n_epochs= 125, lr_all= 0.0025, reg_all= 0.25, biased=True\n",
    "## RMSE: 1.5827 | RMSE_kaggle: 1.49455 ===> surpSVD_tunned_2.csv\n",
    "\n",
    "#best_Param = {'n_factors': 46, 'n_epochs': 200, 'lr_all': 0.001, 'reg_all': 0.2}\n",
    "###### RMSE: 1.5809  | RMSE_Kaggle:  1.48142 ===============> surpSVD_tunned_4.csv <===============\n",
    "\n",
    "#submit.to_csv(\"./submission/surpSVD_tunned_5.csv\", index=False)"
   ]
  },
  {
   "source": [
    "# NMF"
   ],
   "cell_type": "markdown",
   "metadata": {}
  },
  {
   "cell_type": "code",
   "execution_count": 16,
   "metadata": {},
   "outputs": [],
   "source": [
    "#### Parametros NMF ####\n",
    "NMF_algo = sp.prediction_algorithms.NMF\n",
    "param_grid_nmf = {    \n",
    "    'n_factors': range(5,40,5),\n",
    "    \"n_epochs\": range(20,150,10),\n",
    "    'reg_pu': [0.001, 0.05, 0.06, 0.07, 0.1],\n",
    "    'reg_qi': [0.005, 0.01, 0.02, 0.03, 0.1],\n",
    "    'reg_bu': [0.005, 0.01, 0.02, 0.03, 0.1],\n",
    "    'reg_bi': [0.005, 0.01, 0.02, 0.03, 0.1],\n",
    "    'lr_bu': [0.0005, 0.004, 0.005, 0.006, 0.01],\n",
    "    'lr_bi': [0.0005, 0.004, 0.005, 0.006, 0.01]\n",
    "    }"
   ]
  },
  {
   "cell_type": "code",
   "execution_count": 17,
   "metadata": {},
   "outputs": [
    {
     "output_type": "stream",
     "name": "stdout",
     "text": [
      "NMF\nbest_Param = {'n_factors': 35, 'n_epochs': 50, 'reg_pu': 0.07, 'reg_qi': 0.005, 'reg_bu': 0.1, 'reg_bi': 0.02, 'lr_bu': 0.004, 'lr_bi': 0.0005}\ntiempo:  62.88409471511841\n"
     ]
    }
   ],
   "source": [
    "#### Busqueda de hiper parametros ####\n",
    "t_0 = time.time()\n",
    "nmf_rs = sp.model_selection.search.RandomizedSearchCV(NMF_algo, param_grid_nmf, measures=['rmse'],cv=5, n_jobs=-1)\n",
    "nmf_rs.fit(data_train)\n",
    "print(\"NMF\")\n",
    "print('best_Param =', nmf_rs.best_params['rmse'])\n",
    "\n",
    "print (\"tiempo: \", time.time() - t_0)"
   ]
  },
  {
   "cell_type": "code",
   "execution_count": 32,
   "metadata": {},
   "outputs": [
    {
     "output_type": "stream",
     "name": "stdout",
     "text": [
      "tiempo:  0.14764928817749023\n"
     ]
    }
   ],
   "source": [
    "#### Entrenamiento ####\n",
    "t_0 = time.time()\n",
    "train = df_train[['usuario', 'libro', 'puntuacion']]\n",
    "data = sp.dataset.Dataset.load_from_df(train, reader)\n",
    "trainset, testset = sp.model_selection.train_test_split(data, test_size=0.30, random_state=0)\n",
    "model = NMF_algo(n_factors= 35, n_epochs= 50)\n",
    "print (\"tiempo: \", time.time() - t_0)"
   ]
  },
  {
   "cell_type": "code",
   "execution_count": 33,
   "metadata": {},
   "outputs": [
    {
     "output_type": "stream",
     "name": "stdout",
     "text": [
      "RMSE: 1.8140\n1.8139835153445447\ntiempo:  10.64688491821289\n"
     ]
    }
   ],
   "source": [
    "#### Predicciones ####\n",
    "t_0 = time.time()\n",
    "# Fit sobre trainset (70% de data) y predicciones sobre testset(30% data)\n",
    "model.fit(trainset)\n",
    "y_predictions = model.test(testset)\n",
    "# Fit sobre trainset full\n",
    "model.fit(data.build_full_trainset())\n",
    "print(sp.accuracy.rmse(y_predictions))\n",
    "print (\"tiempo: \", time.time() - t_0)"
   ]
  },
  {
   "cell_type": "code",
   "execution_count": 14,
   "metadata": {},
   "outputs": [
    {
     "output_type": "display_data",
     "data": {
      "text/plain": "HBox(children=(FloatProgress(value=1.0, bar_style='info', max=1.0), HTML(value='')))",
      "application/vnd.jupyter.widget-view+json": {
       "version_major": 2,
       "version_minor": 0,
       "model_id": "f540f97b856a4bbeabe06c901dbf7f21"
      }
     },
     "metadata": {}
    },
    {
     "output_type": "stream",
     "name": "stdout",
     "text": [
      "\n          id  puntuacion\n0          1      7.1653\n1          2      6.7115\n2          3      8.2686\n3          4      7.0912\n4          5      7.1653\n...      ...         ...\n10579  10580      8.3454\n10580  10581      9.6970\n10581  10582      6.1085\n10582  10583      8.2641\n10583  10584      4.3595\n\n[10584 rows x 2 columns]\n"
     ]
    }
   ],
   "source": [
    "submit = pd.DataFrame(full_prediction(model,df_test))\n",
    "print(submit)"
   ]
  },
  {
   "source": [
    "## KNN"
   ],
   "cell_type": "markdown",
   "metadata": {}
  },
  {
   "cell_type": "code",
   "execution_count": 6,
   "metadata": {},
   "outputs": [],
   "source": [
    "#### Parametros KNN ####\n",
    "KNNMean_algo = sp.prediction_algorithms.KNNWithMeans\n",
    "\n"
   ]
  },
  {
   "cell_type": "code",
   "execution_count": null,
   "metadata": {},
   "outputs": [],
   "source": [
    "param_grid_knn =  {'min_k': range(1,10,1), # default 1\n",
    "                   'k': range(1,15,1),     # default 40\n",
    "                   'sim_options': {'name': [\"msd\"], #[\"msd\", \"cosine\", \"pearson_baseline\", \"pearson\"\n",
    "                                   'min_support': range(1,9,1),\n",
    "                                   'user_based': [True, False]}}"
   ]
  },
  {
   "cell_type": "code",
   "execution_count": 7,
   "metadata": {},
   "outputs": [
    {
     "output_type": "stream",
     "name": "stdout",
     "text": [
      "NMF\nbest_Param = {'min_k': 7, 'k': 14, 'sim_options': {'name': 'msd', 'min_support': 1, 'user_based': False}}\ntiempo:  13650.820331335068\n"
     ]
    }
   ],
   "source": [
    "#### Busqueda de hiper parametros ####\n",
    "t_0 = time.time()\n",
    "knnM_cv = sp.model_selection.search.GridSearchCV(KNNMean_algo, param_grid_knn, measures=['rmse'],cv=5, n_jobs=2)\n",
    "\n",
    "knnM_cv.fit(data_train)\n",
    "print(\"KNN_msd\")\n",
    "print('best_Param =', knnM_cv.best_params['rmse'])\n",
    "print (\"tiempo: \", time.time() - t_0)"
   ]
  },
  {
   "cell_type": "code",
   "execution_count": 8,
   "metadata": {},
   "outputs": [
    {
     "output_type": "stream",
     "name": "stdout",
     "text": [
      "NMF\nbest_Param = {'min_k': 6, 'k': 14, 'sim_options': {'name': 'cosine', 'min_support': 1, 'user_based': False}}\ntiempo:  17756.52866578102\n"
     ]
    }
   ],
   "source": [
    "param_grid_knn =  {'min_k': range(1,10,1), # default 1\n",
    "                   'k': range(1,15,1),     # default 40\n",
    "                   'sim_options': {'name': [\"cosine\"], #[\"msd\", \"cosine\", \"pearson_baseline\", \"pearson\"\n",
    "                                   'min_support': range(1,9,1),\n",
    "                                   'user_based': [True, False]}}\n",
    "#### Busqueda de hiper parametros ####\n",
    "t_0 = time.time()\n",
    "knnM_cv = sp.model_selection.search.GridSearchCV(KNNMean_algo, param_grid_knn, measures=['rmse'],cv=5, n_jobs=2)\n",
    "\n",
    "knnM_cv.fit(data_train)\n",
    "print(\"KNN_cosine\")\n",
    "print('best_Param =', knnM_cv.best_params['rmse'])\n",
    "print (\"tiempo: \", time.time() - t_0)"
   ]
  },
  {
   "cell_type": "code",
   "execution_count": 8,
   "metadata": {},
   "outputs": [
    {
     "output_type": "error",
     "ename": "KeyboardInterrupt",
     "evalue": "",
     "traceback": [
      "\u001b[0;31m---------------------------------------------------------------------------\u001b[0m",
      "\u001b[0;31mKeyboardInterrupt\u001b[0m                         Traceback (most recent call last)",
      "\u001b[0;32m<ipython-input-8-3f64472973d3>\u001b[0m in \u001b[0;36m<module>\u001b[0;34m\u001b[0m\n\u001b[1;32m      8\u001b[0m \u001b[0mknnM_cv\u001b[0m \u001b[0;34m=\u001b[0m \u001b[0msp\u001b[0m\u001b[0;34m.\u001b[0m\u001b[0mmodel_selection\u001b[0m\u001b[0;34m.\u001b[0m\u001b[0msearch\u001b[0m\u001b[0;34m.\u001b[0m\u001b[0mGridSearchCV\u001b[0m\u001b[0;34m(\u001b[0m\u001b[0mKNNMean_algo\u001b[0m\u001b[0;34m,\u001b[0m \u001b[0mparam_grid_knn\u001b[0m\u001b[0;34m,\u001b[0m \u001b[0mmeasures\u001b[0m\u001b[0;34m=\u001b[0m\u001b[0;34m[\u001b[0m\u001b[0;34m'rmse'\u001b[0m\u001b[0;34m]\u001b[0m\u001b[0;34m,\u001b[0m\u001b[0mcv\u001b[0m\u001b[0;34m=\u001b[0m\u001b[0;36m5\u001b[0m\u001b[0;34m,\u001b[0m \u001b[0mn_jobs\u001b[0m\u001b[0;34m=\u001b[0m\u001b[0;36m2\u001b[0m\u001b[0;34m)\u001b[0m\u001b[0;34m\u001b[0m\u001b[0;34m\u001b[0m\u001b[0m\n\u001b[1;32m      9\u001b[0m \u001b[0;34m\u001b[0m\u001b[0m\n\u001b[0;32m---> 10\u001b[0;31m \u001b[0mknnM_cv\u001b[0m\u001b[0;34m.\u001b[0m\u001b[0mfit\u001b[0m\u001b[0;34m(\u001b[0m\u001b[0mdata_train\u001b[0m\u001b[0;34m)\u001b[0m\u001b[0;34m\u001b[0m\u001b[0;34m\u001b[0m\u001b[0m\n\u001b[0m\u001b[1;32m     11\u001b[0m \u001b[0mprint\u001b[0m\u001b[0;34m(\u001b[0m\u001b[0;34m\"KNN_pearson_baseline\"\u001b[0m\u001b[0;34m)\u001b[0m\u001b[0;34m\u001b[0m\u001b[0;34m\u001b[0m\u001b[0m\n\u001b[1;32m     12\u001b[0m \u001b[0mprint\u001b[0m\u001b[0;34m(\u001b[0m\u001b[0;34m'best_Param ='\u001b[0m\u001b[0;34m,\u001b[0m \u001b[0mknnM_cv\u001b[0m\u001b[0;34m.\u001b[0m\u001b[0mbest_params\u001b[0m\u001b[0;34m[\u001b[0m\u001b[0;34m'rmse'\u001b[0m\u001b[0;34m]\u001b[0m\u001b[0;34m)\u001b[0m\u001b[0;34m\u001b[0m\u001b[0;34m\u001b[0m\u001b[0m\n",
      "\u001b[0;32m~/anaconda3/lib/python3.7/site-packages/surprise/model_selection/search.py\u001b[0m in \u001b[0;36mfit\u001b[0;34m(self, data)\u001b[0m\n\u001b[1;32m     88\u001b[0m         out = Parallel(n_jobs=self.n_jobs,\n\u001b[1;32m     89\u001b[0m                        \u001b[0mpre_dispatch\u001b[0m\u001b[0;34m=\u001b[0m\u001b[0mself\u001b[0m\u001b[0;34m.\u001b[0m\u001b[0mpre_dispatch\u001b[0m\u001b[0;34m,\u001b[0m\u001b[0;34m\u001b[0m\u001b[0;34m\u001b[0m\u001b[0m\n\u001b[0;32m---> 90\u001b[0;31m                        verbose=self.joblib_verbose)(delayed_list)\n\u001b[0m\u001b[1;32m     91\u001b[0m \u001b[0;34m\u001b[0m\u001b[0m\n\u001b[1;32m     92\u001b[0m         (test_measures_dicts,\n",
      "\u001b[0;32m~/anaconda3/lib/python3.7/site-packages/joblib/parallel.py\u001b[0m in \u001b[0;36m__call__\u001b[0;34m(self, iterable)\u001b[0m\n\u001b[1;32m   1015\u001b[0m \u001b[0;34m\u001b[0m\u001b[0m\n\u001b[1;32m   1016\u001b[0m             \u001b[0;32mwith\u001b[0m \u001b[0mself\u001b[0m\u001b[0;34m.\u001b[0m\u001b[0m_backend\u001b[0m\u001b[0;34m.\u001b[0m\u001b[0mretrieval_context\u001b[0m\u001b[0;34m(\u001b[0m\u001b[0;34m)\u001b[0m\u001b[0;34m:\u001b[0m\u001b[0;34m\u001b[0m\u001b[0;34m\u001b[0m\u001b[0m\n\u001b[0;32m-> 1017\u001b[0;31m                 \u001b[0mself\u001b[0m\u001b[0;34m.\u001b[0m\u001b[0mretrieve\u001b[0m\u001b[0;34m(\u001b[0m\u001b[0;34m)\u001b[0m\u001b[0;34m\u001b[0m\u001b[0;34m\u001b[0m\u001b[0m\n\u001b[0m\u001b[1;32m   1018\u001b[0m             \u001b[0;31m# Make sure that we get a last message telling us we are done\u001b[0m\u001b[0;34m\u001b[0m\u001b[0;34m\u001b[0m\u001b[0;34m\u001b[0m\u001b[0m\n\u001b[1;32m   1019\u001b[0m             \u001b[0melapsed_time\u001b[0m \u001b[0;34m=\u001b[0m \u001b[0mtime\u001b[0m\u001b[0;34m.\u001b[0m\u001b[0mtime\u001b[0m\u001b[0;34m(\u001b[0m\u001b[0;34m)\u001b[0m \u001b[0;34m-\u001b[0m \u001b[0mself\u001b[0m\u001b[0;34m.\u001b[0m\u001b[0m_start_time\u001b[0m\u001b[0;34m\u001b[0m\u001b[0;34m\u001b[0m\u001b[0m\n",
      "\u001b[0;32m~/anaconda3/lib/python3.7/site-packages/joblib/parallel.py\u001b[0m in \u001b[0;36mretrieve\u001b[0;34m(self)\u001b[0m\n\u001b[1;32m    907\u001b[0m             \u001b[0;32mtry\u001b[0m\u001b[0;34m:\u001b[0m\u001b[0;34m\u001b[0m\u001b[0;34m\u001b[0m\u001b[0m\n\u001b[1;32m    908\u001b[0m                 \u001b[0;32mif\u001b[0m \u001b[0mgetattr\u001b[0m\u001b[0;34m(\u001b[0m\u001b[0mself\u001b[0m\u001b[0;34m.\u001b[0m\u001b[0m_backend\u001b[0m\u001b[0;34m,\u001b[0m \u001b[0;34m'supports_timeout'\u001b[0m\u001b[0;34m,\u001b[0m \u001b[0;32mFalse\u001b[0m\u001b[0;34m)\u001b[0m\u001b[0;34m:\u001b[0m\u001b[0;34m\u001b[0m\u001b[0;34m\u001b[0m\u001b[0m\n\u001b[0;32m--> 909\u001b[0;31m                     \u001b[0mself\u001b[0m\u001b[0;34m.\u001b[0m\u001b[0m_output\u001b[0m\u001b[0;34m.\u001b[0m\u001b[0mextend\u001b[0m\u001b[0;34m(\u001b[0m\u001b[0mjob\u001b[0m\u001b[0;34m.\u001b[0m\u001b[0mget\u001b[0m\u001b[0;34m(\u001b[0m\u001b[0mtimeout\u001b[0m\u001b[0;34m=\u001b[0m\u001b[0mself\u001b[0m\u001b[0;34m.\u001b[0m\u001b[0mtimeout\u001b[0m\u001b[0;34m)\u001b[0m\u001b[0;34m)\u001b[0m\u001b[0;34m\u001b[0m\u001b[0;34m\u001b[0m\u001b[0m\n\u001b[0m\u001b[1;32m    910\u001b[0m                 \u001b[0;32melse\u001b[0m\u001b[0;34m:\u001b[0m\u001b[0;34m\u001b[0m\u001b[0;34m\u001b[0m\u001b[0m\n\u001b[1;32m    911\u001b[0m                     \u001b[0mself\u001b[0m\u001b[0;34m.\u001b[0m\u001b[0m_output\u001b[0m\u001b[0;34m.\u001b[0m\u001b[0mextend\u001b[0m\u001b[0;34m(\u001b[0m\u001b[0mjob\u001b[0m\u001b[0;34m.\u001b[0m\u001b[0mget\u001b[0m\u001b[0;34m(\u001b[0m\u001b[0;34m)\u001b[0m\u001b[0;34m)\u001b[0m\u001b[0;34m\u001b[0m\u001b[0;34m\u001b[0m\u001b[0m\n",
      "\u001b[0;32m~/anaconda3/lib/python3.7/site-packages/joblib/_parallel_backends.py\u001b[0m in \u001b[0;36mwrap_future_result\u001b[0;34m(future, timeout)\u001b[0m\n\u001b[1;32m    560\u001b[0m         AsyncResults.get from multiprocessing.\"\"\"\n\u001b[1;32m    561\u001b[0m         \u001b[0;32mtry\u001b[0m\u001b[0;34m:\u001b[0m\u001b[0;34m\u001b[0m\u001b[0;34m\u001b[0m\u001b[0m\n\u001b[0;32m--> 562\u001b[0;31m             \u001b[0;32mreturn\u001b[0m \u001b[0mfuture\u001b[0m\u001b[0;34m.\u001b[0m\u001b[0mresult\u001b[0m\u001b[0;34m(\u001b[0m\u001b[0mtimeout\u001b[0m\u001b[0;34m=\u001b[0m\u001b[0mtimeout\u001b[0m\u001b[0;34m)\u001b[0m\u001b[0;34m\u001b[0m\u001b[0;34m\u001b[0m\u001b[0m\n\u001b[0m\u001b[1;32m    563\u001b[0m         \u001b[0;32mexcept\u001b[0m \u001b[0mLokyTimeoutError\u001b[0m\u001b[0;34m:\u001b[0m\u001b[0;34m\u001b[0m\u001b[0;34m\u001b[0m\u001b[0m\n\u001b[1;32m    564\u001b[0m             \u001b[0;32mraise\u001b[0m \u001b[0mTimeoutError\u001b[0m\u001b[0;34m(\u001b[0m\u001b[0;34m)\u001b[0m\u001b[0;34m\u001b[0m\u001b[0;34m\u001b[0m\u001b[0m\n",
      "\u001b[0;32m~/anaconda3/lib/python3.7/concurrent/futures/_base.py\u001b[0m in \u001b[0;36mresult\u001b[0;34m(self, timeout)\u001b[0m\n\u001b[1;32m    428\u001b[0m                 \u001b[0;32mreturn\u001b[0m \u001b[0mself\u001b[0m\u001b[0;34m.\u001b[0m\u001b[0m__get_result\u001b[0m\u001b[0;34m(\u001b[0m\u001b[0;34m)\u001b[0m\u001b[0;34m\u001b[0m\u001b[0;34m\u001b[0m\u001b[0m\n\u001b[1;32m    429\u001b[0m \u001b[0;34m\u001b[0m\u001b[0m\n\u001b[0;32m--> 430\u001b[0;31m             \u001b[0mself\u001b[0m\u001b[0;34m.\u001b[0m\u001b[0m_condition\u001b[0m\u001b[0;34m.\u001b[0m\u001b[0mwait\u001b[0m\u001b[0;34m(\u001b[0m\u001b[0mtimeout\u001b[0m\u001b[0;34m)\u001b[0m\u001b[0;34m\u001b[0m\u001b[0;34m\u001b[0m\u001b[0m\n\u001b[0m\u001b[1;32m    431\u001b[0m \u001b[0;34m\u001b[0m\u001b[0m\n\u001b[1;32m    432\u001b[0m             \u001b[0;32mif\u001b[0m \u001b[0mself\u001b[0m\u001b[0;34m.\u001b[0m\u001b[0m_state\u001b[0m \u001b[0;32min\u001b[0m \u001b[0;34m[\u001b[0m\u001b[0mCANCELLED\u001b[0m\u001b[0;34m,\u001b[0m \u001b[0mCANCELLED_AND_NOTIFIED\u001b[0m\u001b[0;34m]\u001b[0m\u001b[0;34m:\u001b[0m\u001b[0;34m\u001b[0m\u001b[0;34m\u001b[0m\u001b[0m\n",
      "\u001b[0;32m~/anaconda3/lib/python3.7/threading.py\u001b[0m in \u001b[0;36mwait\u001b[0;34m(self, timeout)\u001b[0m\n\u001b[1;32m    294\u001b[0m         \u001b[0;32mtry\u001b[0m\u001b[0;34m:\u001b[0m    \u001b[0;31m# restore state no matter what (e.g., KeyboardInterrupt)\u001b[0m\u001b[0;34m\u001b[0m\u001b[0;34m\u001b[0m\u001b[0m\n\u001b[1;32m    295\u001b[0m             \u001b[0;32mif\u001b[0m \u001b[0mtimeout\u001b[0m \u001b[0;32mis\u001b[0m \u001b[0;32mNone\u001b[0m\u001b[0;34m:\u001b[0m\u001b[0;34m\u001b[0m\u001b[0;34m\u001b[0m\u001b[0m\n\u001b[0;32m--> 296\u001b[0;31m                 \u001b[0mwaiter\u001b[0m\u001b[0;34m.\u001b[0m\u001b[0macquire\u001b[0m\u001b[0;34m(\u001b[0m\u001b[0;34m)\u001b[0m\u001b[0;34m\u001b[0m\u001b[0;34m\u001b[0m\u001b[0m\n\u001b[0m\u001b[1;32m    297\u001b[0m                 \u001b[0mgotit\u001b[0m \u001b[0;34m=\u001b[0m \u001b[0;32mTrue\u001b[0m\u001b[0;34m\u001b[0m\u001b[0;34m\u001b[0m\u001b[0m\n\u001b[1;32m    298\u001b[0m             \u001b[0;32melse\u001b[0m\u001b[0;34m:\u001b[0m\u001b[0;34m\u001b[0m\u001b[0;34m\u001b[0m\u001b[0m\n",
      "\u001b[0;31mKeyboardInterrupt\u001b[0m: "
     ]
    }
   ],
   "source": [
    "param_grid_knn =  {'min_k': range(1,10,1), # default 1\n",
    "                   'k': range(1,15,1),     # default 40\n",
    "                   'sim_options': {'name': [\"pearson_baseline\"], #[\"msd\", \"cosine\", \"pearson_baseline\", \"pearson\"\n",
    "                                   'min_support': range(1,9,1),\n",
    "                                   'user_based': [True, False]}}\n",
    "#### Busqueda de hiper parametros ####\n",
    "t_0 = time.time()\n",
    "knnM_cv = sp.model_selection.search.GridSearchCV(KNNMean_algo, param_grid_knn, measures=['rmse'],cv=5, n_jobs=2)\n",
    "\n",
    "knnM_cv.fit(data_train)\n",
    "print(\"KNN_pearson_baseline\")\n",
    "print('best_Param =', knnM_cv.best_params['rmse'])\n",
    "print (\"tiempo: \", time.time() - t_0)"
   ]
  },
  {
   "cell_type": "code",
   "execution_count": 7,
   "metadata": {},
   "outputs": [
    {
     "output_type": "stream",
     "name": "stdout",
     "text": [
      "KNN_pearson\nbest_Param = {'min_k': 6, 'k': 14, 'sim_options': {'name': 'pearson', 'min_support': 1, 'user_based': False}}\ntiempo:  18970.095390319824\n"
     ]
    }
   ],
   "source": [
    "param_grid_knn =  {'min_k': range(1,10,1), # default 1\n",
    "                   'k': range(1,15,1),     # default 40\n",
    "                   'sim_options': {'name': [\"pearson\"], #[\"msd\", \"cosine\", \"pearson_baseline\", \"pearson\"\n",
    "                                   'min_support': range(1,9,1),\n",
    "                                   'user_based': [True, False]}}\n",
    "#### Busqueda de hiper parametros ####\n",
    "t_0 = time.time()\n",
    "knnM_cv = sp.model_selection.search.GridSearchCV(KNNMean_algo, param_grid_knn, measures=['rmse'],cv=5, n_jobs=2)\n",
    "\n",
    "knnM_cv.fit(data_train)\n",
    "print(\"KNN_pearson\")\n",
    "print('best_Param =', knnM_cv.best_params['rmse'])\n",
    "print (\"tiempo: \", time.time() - t_0)"
   ]
  },
  {
   "cell_type": "code",
   "execution_count": 7,
   "metadata": {},
   "outputs": [],
   "source": [
    "#best_Param = {'min_k': 1, 'k': 5, 'sim_options': {'name': 'msd', 'min_support': 1, 'user_based': False}}\n",
    "#tiempo:  1790.2675387859344\n",
    "sim_options =  {'name': 'pearson', 'min_support': 1, 'user_based': False}"
   ]
  },
  {
   "cell_type": "code",
   "execution_count": 8,
   "metadata": {},
   "outputs": [
    {
     "output_type": "stream",
     "name": "stdout",
     "text": [
      "tiempo:  0.13117766380310059\n"
     ]
    }
   ],
   "source": [
    "#### Entrenamiento ####\n",
    "t_0 = time.time()\n",
    "train = df_train[['usuario', 'libro', 'puntuacion']]\n",
    "data = sp.dataset.Dataset.load_from_df(train, reader)\n",
    "trainset, testset = sp.model_selection.train_test_split(data, test_size=0.30, random_state=0)\n",
    "model = sp.prediction_algorithms.knns.KNNWithMeans(min_k=6, k=14, sim_options=sim_options)\n",
    "print (\"tiempo: \", time.time() - t_0)"
   ]
  },
  {
   "cell_type": "code",
   "execution_count": 9,
   "metadata": {},
   "outputs": [
    {
     "output_type": "stream",
     "name": "stdout",
     "text": [
      "Computing the pearson similarity matrix...\n",
      "Done computing similarity matrix.\n",
      "Computing the pearson similarity matrix...\n",
      "Done computing similarity matrix.\n",
      "RMSE: 1.7722\n",
      "1.7721606633930036\n",
      "tiempo:  37.10352563858032\n"
     ]
    }
   ],
   "source": [
    "## MSD RMSE: 1.7500\n",
    "## COSINE RMSE: 1.7581\n",
    "## PEARSON RMSE: 1.7722\n",
    "\n",
    "#### Predicciones ####\n",
    "t_0 = time.time()\n",
    "# Fit sobre trainset (70% de data) y predicciones sobre testset(30% data)\n",
    "model.fit(trainset)\n",
    "y_predictions = model.test(testset)\n",
    "# Fit sobre trainset full\n",
    "model.fit(data.build_full_trainset())\n",
    "print(sp.accuracy.rmse(y_predictions))\n",
    "print (\"tiempo: \", time.time() - t_0)"
   ]
  },
  {
   "cell_type": "code",
   "execution_count": null,
   "metadata": {},
   "outputs": [],
   "source": []
  },
  {
   "cell_type": "code",
   "execution_count": null,
   "metadata": {},
   "outputs": [],
   "source": []
  },
  {
   "source": [
    "## Cross Validation\n"
   ],
   "cell_type": "markdown",
   "metadata": {}
  },
  {
   "cell_type": "code",
   "execution_count": 62,
   "metadata": {},
   "outputs": [],
   "source": [
    "kf = sp.model_selection.KFold(n_splits=2)"
   ]
  },
  {
   "cell_type": "code",
   "execution_count": 67,
   "metadata": {
    "tags": []
   },
   "outputs": [
    {
     "output_type": "stream",
     "name": "stdout",
     "text": [
      "RMSE: 1.8389\n",
      "RMSE: 1.8144\n"
     ]
    }
   ],
   "source": [
    "#pred_parciales_cv = dict(lambda: dict())#defaultdict(lambda: defaultdict(int))\n",
    "list_pred = []\n",
    "for trainset, testset in kf.split(data):\n",
    "\n",
    "    # train and test algorithm.\n",
    "    model.fit(trainset)\n",
    "    predictions = model.test(testset)\n",
    "    \n",
    "    for element in pre:\n",
    "        row_pred = dict()\n",
    "        row_pred[\"id\"] = element.uid\n",
    "        row_pred[\"puntuacion\"] = np.around(element.est, 4)\n",
    "        list_pred.append(row_pred) \n",
    "    # Compute and print Root Mean Squared Error\n",
    "    sp.accuracy.rmse(predictions, verbose=True)"
   ]
  },
  {
   "cell_type": "code",
   "execution_count": 68,
   "metadata": {},
   "outputs": [
    {
     "output_type": "execute_result",
     "data": {
      "text/plain": [
       "ion': 7.1598},\n",
       " {'id': 203, 'puntuacion': 6.2837},\n",
       " {'id': 91, 'puntuacion': 7.5905},\n",
       " {'id': 271, 'puntuacion': 7.4847},\n",
       " {'id': 98, 'puntuacion': 5.9931},\n",
       " {'id': 1915, 'puntuacion': 6.9876},\n",
       " {'id': 218, 'puntuacion': 7.3661},\n",
       " {'id': 235, 'puntuacion': 7.1598},\n",
       " {'id': 128, 'puntuacion': 8.2441},\n",
       " {'id': 226, 'puntuacion': 6.5246},\n",
       " {'id': 22, 'puntuacion': 6.5808},\n",
       " {'id': 274, 'puntuacion': 8.6095},\n",
       " {'id': 0, 'puntuacion': 7.9207},\n",
       " {'id': 151, 'puntuacion': 8.1336},\n",
       " {'id': 161, 'puntuacion': 7.1598},\n",
       " {'id': 216, 'puntuacion': 9.1245},\n",
       " {'id': 300, 'puntuacion': 7.3442},\n",
       " {'id': 126, 'puntuacion': 3.2484},\n",
       " {'id': 128, 'puntuacion': 8.438},\n",
       " {'id': 211, 'puntuacion': 7.3343},\n",
       " {'id': 88, 'puntuacion': 7.1598},\n",
       " {'id': 683, 'puntuacion': 8.584},\n",
       " {'id': 35, 'puntuacion': 6.1603},\n",
       " {'id': 102, 'puntuacion': 7.1598},\n",
       " {'id': 265, 'puntuacion': 9.3166},\n",
       " {'id': 299, 'puntuacion': 8.8961},\n",
       " {'id': 271, 'puntuacion': 7.0165},\n",
       " {'id': 199, 'puntuacion': 7.4781},\n",
       " {'id': 169, 'puntuacion': 7.3073},\n",
       " {'id': 115, 'puntuacion': 8.7636},\n",
       " {'id': 220, 'puntuacion': 7.0933},\n",
       " {'id': 163, 'puntuacion': 6.3259},\n",
       " {'id': 235, 'puntuacion': 7.8237},\n",
       " {'id': 43, 'puntuacion': 7.2049},\n",
       " {'id': 760, 'puntuacion': 8.2688},\n",
       " {'id': 68, 'puntuacion': 7.1598},\n",
       " {'id': 305, 'puntuacion': 7.1598},\n",
       " {'id': 117, 'puntuacion': 6.6926},\n",
       " {'id': 141, 'puntuacion': 7.0192},\n",
       " {'id': 169, 'puntuacion': 7.1598},\n",
       " {'id': 254, 'puntuacion': 6.7512},\n",
       " {'id': 223, 'puntuacion': 9.4667},\n",
       " {'id': 199, 'puntuacion': 7.9023},\n",
       " {'id': 3235, 'puntuacion': 3.2044},\n",
       " {'id': 223, 'puntuacion': 7.4814},\n",
       " {'id': 156, 'puntuacion': 7.1598},\n",
       " {'id': 13, 'puntuacion': 7.1598},\n",
       " {'id': 271, 'puntuacion': 6.7764},\n",
       " {'id': 261, 'puntuacion': 7.1598},\n",
       " {'id': 50, 'puntuacion': 7.1598},\n",
       " {'id': 260, 'puntuacion': 7.1598},\n",
       " {'id': 22, 'puntuacion': 7.7531},\n",
       " {'id': 303, 'puntuacion': 7.1598},\n",
       " {'id': 261, 'puntuacion': 7.1598},\n",
       " {'id': 128, 'puntuacion': 6.7523},\n",
       " {'id': 145, 'puntuacion': 7.1598},\n",
       " {'id': 305, 'puntuacion': 7.6616},\n",
       " {'id': 288, 'puntuacion': 7.3568},\n",
       " {'id': 22, 'puntuacion': 8.9683},\n",
       " {'id': 241, 'puntuacion': 7.2966},\n",
       " {'id': 273, 'puntuacion': 8.8475},\n",
       " {'id': 131, 'puntuacion': 6.0557},\n",
       " {'id': 268, 'puntuacion': 7.6497},\n",
       " {'id': 273, 'puntuacion': 6.3763},\n",
       " {'id': 43, 'puntuacion': 8.2714},\n",
       " {'id': 156, 'puntuacion': 7.1598},\n",
       " {'id': 80, 'puntuacion': 7.7566},\n",
       " {'id': 273, 'puntuacion': 7.1598},\n",
       " {'id': 40, 'puntuacion': 9.6026},\n",
       " {'id': 67, 'puntuacion': 7.1598},\n",
       " {'id': 126, 'puntuacion': 7.1598},\n",
       " {'id': 151, 'puntuacion': 7.1598},\n",
       " {'id': 282, 'puntuacion': 6.8299},\n",
       " {'id': 102, 'puntuacion': 6.6563},\n",
       " {'id': 201, 'puntuacion': 8.7355},\n",
       " {'id': 183, 'puntuacion': 7.7294},\n",
       " {'id': 299, 'puntuacion': 5.8887},\n",
       " {'id': 292, 'puntuacion': 8.2522},\n",
       " {'id': 102, 'puntuacion': 7.6572},\n",
       " {'id': 288, 'puntuacion': 7.5593},\n",
       " {'id': 244, 'puntuacion': 7.5683},\n",
       " {'id': 179, 'puntuacion': 8.1737},\n",
       " {'id': 208, 'puntuacion': 4.8469},\n",
       " {'id': 115, 'puntuacion': 7.7647},\n",
       " {'id': 176, 'puntuacion': 7.1598},\n",
       " {'id': 277, 'puntuacion': 7.0874},\n",
       " {'id': 126, 'puntuacion': 7.1598},\n",
       " {'id': 279, 'puntuacion': 7.1598},\n",
       " {'id': 126, 'puntuacion': 6.6512},\n",
       " {'id': 1997, 'puntuacion': 7.3867},\n",
       " {'id': 97, 'puntuacion': 6.8624},\n",
       " {'id': 65, 'puntuacion': 8.175},\n",
       " {'id': 260, 'puntuacion': 9.5442},\n",
       " {'id': 309, 'puntuacion': 6.8709},\n",
       " {'id': 128, 'puntuacion': 8.0241},\n",
       " {'id': 143, 'puntuacion': 7.3699},\n",
       " {'id': 1058, 'puntuacion': 10.0},\n",
       " {'id': 158, 'puntuacion': 7.5043},\n",
       " {'id': 260, 'puntuacion': 7.1598},\n",
       " {'id': 92, 'puntuacion': 8.2153},\n",
       " {'id': 408, 'puntuacion': 8.0532},\n",
       " {'id': 309, 'puntuacion': 9.2475},\n",
       " {'id': 131, 'puntuacion': 9.5983},\n",
       " {'id': 35, 'puntuacion': 7.1598},\n",
       " {'id': 632, 'puntuacion': 7.0749},\n",
       " {'id': 273, 'puntuacion': 3.9723},\n",
       " {'id': 221, 'puntuacion': 7.1598},\n",
       " {'id': 849, 'puntuacion': 7.4715},\n",
       " {'id': 3343, 'puntuacion': 7.1598},\n",
       " {'id': 35, 'puntuacion': 7.1598},\n",
       " {'id': 510, 'puntuacion': 7.3254},\n",
       " {'id': 914, 'puntuacion': 6.8927},\n",
       " {'id': 91, 'puntuacion': 2.6866},\n",
       " {'id': 308, 'puntuacion': 8.501},\n",
       " {'id': 33, 'puntuacion': 9.2239},\n",
       " {'id': 171, 'puntuacion': 7.1598},\n",
       " {'id': 238, 'puntuacion': 7.1598},\n",
       " {'id': 309, 'puntuacion': 7.1598},\n",
       " {'id': 107, 'puntuacion': 7.1598},\n",
       " {'id': 204, 'puntuacion': 7.1598},\n",
       " {'id': 233, 'puntuacion': 7.1598},\n",
       " {'id': 65, 'puntuacion': 7.2543},\n",
       " {'id': 265, 'puntuacion': 9.4096},\n",
       " {'id': 169, 'puntuacion': 7.1598},\n",
       " {'id': 883, 'puntuacion': 7.1598},\n",
       " {'id': 284, 'puntuacion': 4.956},\n",
       " {'id': 228, 'puntuacion': 7.9914},\n",
       " {'id': 216, 'puntuacion': 6.6574},\n",
       " {'id': 53, 'puntuacion': 6.3575},\n",
       " {'id': 169, 'puntuacion': 7.1598},\n",
       " {'id': 62, 'puntuacion': 7.1598},\n",
       " {'id': 55, 'puntuacion': 7.379},\n",
       " {'id': 153, 'puntuacion': 7.1339},\n",
       " {'id': 8, 'puntuacion': 7.1598},\n",
       " {'id': 91, 'puntuacion': 7.4601},\n",
       " {'id': 169, 'puntuacion': 8.0656},\n",
       " {'id': 143, 'puntuacion': 7.2664},\n",
       " {'id': 274, 'puntuacion': 5.443},\n",
       " {'id': 196, 'puntuacion': 5.0642},\n",
       " {'id': 112, 'puntuacion': 3.0946},\n",
       " {'id': 13, 'puntuacion': 5.7544},\n",
       " {'id': 92, 'puntuacion': 7.5879},\n",
       " {'id': 408, 'puntuacion': 5.145},\n",
       " {'id': 144, 'puntuacion': 9.4142},\n",
       " {'id': 271, 'puntuacion': 5.9087},\n",
       " {'id': 43, 'puntuacion': 7.0046},\n",
       " {'id': 260, 'puntuacion': 7.1598},\n",
       " {'id': 107, 'puntuacion': 5.3904},\n",
       " {'id': 253, 'puntuacion': 7.1598},\n",
       " {'id': 151, 'puntuacion': 7.8327},\n",
       " {'id': 204, 'puntuacion': 5.2573},\n",
       " {'id': 249, 'puntuacion': 9.0151},\n",
       " {'id': 85, 'puntuacion': 7.1598},\n",
       " {'id': 350, 'puntuacion': 7.1598},\n",
       " {'id': 128, 'puntuacion': 6.5069},\n",
       " {'id': 249, 'puntuacion': 8.4504},\n",
       " {'id': 538, 'puntuacion': 10.0},\n",
       " {'id': 169, 'puntuacion': 7.7795},\n",
       " {'id': 49, 'puntuacion': 7.1598},\n",
       " {'id': 401, 'puntuacion': 8.9105},\n",
       " {'id': 164, 'puntuacion': 10.0},\n",
       " {'id': 288, 'puntuacion': 7.1598},\n",
       " {'id': 154, 'puntuacion': 7.0404},\n",
       " {'id': 276, 'puntuacion': 7.1598},\n",
       " {'id': 1009, 'puntuacion': 7.1598},\n",
       " {'id': 4, 'puntuacion': 8.6884},\n",
       " {'id': 253, 'puntuacion': 7.9891},\n",
       " {'id': 160, 'puntuacion': 9.2747},\n",
       " {'id': 277, 'puntuacion': 9.2681},\n",
       " {'id': 151, 'puntuacion': 7.1598},\n",
       " {'id': 218, 'puntuacion': 7.1598},\n",
       " {'id': 1736, 'puntuacion': 7.1598},\n",
       " {'id': 20, 'puntuacion': 7.1598},\n",
       " {'id': 154, 'puntuacion': 8.1372},\n",
       " {'id': 271, 'puntuacion': 5.9038},\n",
       " {'id': 255, 'puntuacion': 7.1598},\n",
       " {'id': 8, 'puntuacion': 7.7292},\n",
       " {'id': 103, 'puntuacion': 8.7853},\n",
       " {'id': 265, 'puntuacion': 8.8722},\n",
       " {'id': 309, 'puntuacion': 7.1598},\n",
       " {'id': 213, 'puntuacion': 7.9958},\n",
       " {'id': 21, 'puntuacion': 7.1074},\n",
       " {'id': 126, 'puntuacion': 7.8526},\n",
       " {'id': 442, 'puntuacion': 2.535},\n",
       " {'id': 29, 'puntuacion': 7.1598},\n",
       " {'id': 268, 'puntuacion': 9.1693},\n",
       " {'id': 288, 'puntuacion': 7.4409},\n",
       " {'id': 230, 'puntuacion': 7.1598},\n",
       " {'id': 8, 'puntuacion': 7.1324},\n",
       " {'id': 271, 'puntuacion': 7.1598},\n",
       " {'id': 2857, 'puntuacion': 7.1598},\n",
       " {'id': 919, 'puntuacion': 7.1598},\n",
       " {'id': 267, 'puntuacion': 5.8402},\n",
       " {'id': 89, 'puntuacion': 5.7158},\n",
       " {'id': 60, 'puntuacion': 6.8395},\n",
       " {'id': 201, 'puntuacion': 8.3343},\n",
       " {'id': 982, 'puntuacion': 6.4956},\n",
       " {'id': 3396, 'puntuacion': 7.1598},\n",
       " {'id': 179, 'puntuacion': 8.8139},\n",
       " {'id': 32, 'puntuacion': 7.1598},\n",
       " {'id': 227, 'puntuacion': 7.1598},\n",
       " {'id': 158, 'puntuacion': 7.1598},\n",
       " {'id': 85, 'puntuacion': 7.0524},\n",
       " {'id': 151, 'puntuacion': 7.1598},\n",
       " {'id': 92, 'puntuacion': 6.7799},\n",
       " {'id': 300, 'puntuacion': 7.1598},\n",
       " {'id': 126, 'puntuacion': 7.1598},\n",
       " {'id': 161, 'puntuacion': 7.1598},\n",
       " {'id': 964, 'puntuacion': 9.2993},\n",
       " {'id': 131, 'puntuacion': 7.1598},\n",
       " {'id': 68, 'puntuacion': 5.9367},\n",
       " {'id': 85, 'puntuacion': 4.3674},\n",
       " {'id': 173, 'puntuacion': 6.0989},\n",
       " {'id': 487, 'puntuacion': 7.5159},\n",
       " {'id': 156, 'puntuacion': 8.2733},\n",
       " {'id': 499, 'puntuacion': 8.2378},\n",
       " {'id': 169, 'puntuacion': 7.1598},\n",
       " {'id': 155, 'puntuacion': 7.0891},\n",
       " {'id': 813, 'puntuacion': 7.6852},\n",
       " {'id': 2274, 'puntuacion': 7.8054},\n",
       " {'id': 205, 'puntuacion': 7.4686},\n",
       " {'id': 271, 'puntuacion': 6.2926},\n",
       " {'id': 2685, 'puntuacion': 7.1598},\n",
       " {'id': 45, 'puntuacion': 7.1598},\n",
       " {'id': 22, 'puntuacion': 6.1954},\n",
       " {'id': 276, 'puntuacion': 8.4238},\n",
       " {'id': 117, 'puntuacion': 5.7389},\n",
       " {'id': 220, 'puntuacion': 8.6557},\n",
       " {'id': 141, 'puntuacion': 7.1598},\n",
       " {'id': 974, 'puntuacion': 5.1531},\n",
       " {'id': 93, 'puntuacion': 6.6387},\n",
       " {'id': 282, 'puntuacion': 5.57},\n",
       " {'id': 90, 'puntuacion': 5.6352},\n",
       " {'id': 179, 'puntuacion': 8.3331},\n",
       " {'id': 44, 'puntuacion': 7.5481},\n",
       " {'id': 935, 'puntuacion': 3.5954},\n",
       " {'id': 126, 'puntuacion': 6.7786},\n",
       " {'id': 199, 'puntuacion': 8.2996},\n",
       " {'id': 253, 'puntuacion': 7.7087},\n",
       " {'id': 2807, 'puntuacion': 7.1598},\n",
       " {'id': 62, 'puntuacion': 4.5235},\n",
       " {'id': 28, 'puntuacion': 7.1598},\n",
       " {'id': 169, 'puntuacion': 8.1549},\n",
       " {'id': 85, 'puntuacion': 7.1598},\n",
       " {'id': 55, 'puntuacion': 7.6472},\n",
       " {'id': 798, 'puntuacion': 8.0072},\n",
       " {'id': 138, 'puntuacion': 8.3483},\n",
       " {'id': 229, 'puntuacion': 8.0257},\n",
       " {'id': 201, 'puntuacion': 7.0808},\n",
       " {'id': 308, 'puntuacion': 5.8656},\n",
       " {'id': 799, 'puntuacion': 9.2486},\n",
       " {'id': 277, 'puntuacion': 6.9159},\n",
       " {'id': 273, 'puntuacion': 7.2513},\n",
       " {'id': 29, 'puntuacion': 7.4787},\n",
       " {'id': 126, 'puntuacion': 7.1598},\n",
       " {'id': 4, 'puntuacion': 6.4598},\n",
       " {'id': 38, 'puntuacion': 6.678},\n",
       " {'id': 248, 'puntuacion': 4.8004},\n",
       " {'id': 276, 'puntuacion': 7.1598},\n",
       " {'id': 179, 'puntuacion': 7.7195},\n",
       " {'id': 273, 'puntuacion': 7.1598},\n",
       " {'id': 35, 'puntuacion': 9.0276},\n",
       " {'id': 67, 'puntuacion': 5.2202},\n",
       " {'id': 33, 'puntuacion': 7.1598},\n",
       " {'id': 4, 'puntuacion': 7.1598},\n",
       " {'id': 260, 'puntuacion': 9.6153},\n",
       " {'id': 121, 'puntuacion': 7.5838},\n",
       " {'id': 156, 'puntuacion': 8.6049},\n",
       " {'id': 216, 'puntuacion': 7.1598},\n",
       " {'id': 35, 'puntuacion': 6.1484},\n",
       " {'id': 201, 'puntuacion': 6.0971},\n",
       " {'id': 274, 'puntuacion': 7.1598},\n",
       " {'id': 8, 'puntuacion': 8.1756},\n",
       " {'id': 32, 'puntuacion': 7.1598},\n",
       " {'id': 151, 'puntuacion': 6.6031},\n",
       " {'id': 201, 'puntuacion': 7.1598},\n",
       " {'id': 286, 'puntuacion': 9.9886},\n",
       " {'id': 67, 'puntuacion': 6.4683},\n",
       " {'id': 2393, 'puntuacion': 5.5221},\n",
       " {'id': 22, 'puntuacion': 7.0574},\n",
       " {'id': 785, 'puntuacion': 9.3118},\n",
       " {'id': 230, 'puntuacion': 7.1598},\n",
       " {'id': 117, 'puntuacion': 6.8494},\n",
       " {'id': 861, 'puntuacion': 7.9697},\n",
       " {'id': 201, 'puntuacion': 7.1253},\n",
       " {'id': 151, 'puntuacion': 6.4029},\n",
       " {'id': 2332, 'puntuacion': 7.1598},\n",
       " {'id': 255, 'puntuacion': 5.6449},\n",
       " {'id': 133, 'puntuacion': 9.9785},\n",
       " {'id': 304, 'puntuacion': 5.6332},\n",
       " {'id': 305, 'puntuacion': 7.1598},\n",
       " {'id': 76, 'puntuacion': 6.8463},\n",
       " {'id': 90, 'puntuacion': 6.2661},\n",
       " {'id': 312, 'puntuacion': 7.1598},\n",
       " {'id': 181, 'puntuacion': 7.8498},\n",
       " {'id': 102, 'puntuacion': 5.4313},\n",
       " {'id': 44, 'puntuacion': 5.6688},\n",
       " {'id': 3, 'puntuacion': 10.0},\n",
       " {'id': 114, 'puntuacion': 7.2691},\n",
       " {'id': 199, 'puntuacion': 9.2245},\n",
       " {'id': 145, 'puntuacion': 7.8451},\n",
       " {'id': 172, 'puntuacion': 6.5777},\n",
       " {'id': 1639, 'puntuacion': 7.1598},\n",
       " {'id': 2806, 'puntuacion': 7.1598},\n",
       " {'id': 67, 'puntuacion': 8.5301},\n",
       " {'id': 255, 'puntuacion': 8.1129},\n",
       " {'id': 155, 'puntuacion': 2.6952},\n",
       " {'id': 151, 'puntuacion': 7.3291},\n",
       " {'id': 1458, 'puntuacion': 7.1598},\n",
       " {'id': 53, 'puntuacion': 6.0589},\n",
       " {'id': 126, 'puntuacion': 8.0635},\n",
       " {'id': 541, 'puntuacion': 6.5524},\n",
       " {'id': 62, 'puntuacion': 7.1598},\n",
       " {'id': 204, 'puntuacion': 7.1598},\n",
       " {'id': 1361, 'puntuacion': 8.4842},\n",
       " {'id': 201, 'puntuacion': 6.8513},\n",
       " {'id': 255, 'puntuacion': 7.1598},\n",
       " {'id': 219, 'puntuacion': 8.757},\n",
       " {'id': 1812, 'puntuacion': 7.1598},\n",
       " {'id': 581, 'puntuacion': 7.1598},\n",
       " {'id': 173, 'puntuacion': 8.3697},\n",
       " {'id': 199, 'puntuacion': 9.3212},\n",
       " {'id': 201, 'puntuacion': 5.8112},\n",
       " {'id': 85, 'puntuacion': 7.5289},\n",
       " {'id': 303, 'puntuacion': 6.912},\n",
       " {'id': 268, 'puntuacion': 9.3503},\n",
       " {'id': 575, 'puntuacion': 8.6146},\n",
       " {'id': 177, 'puntuacion': 6.5197},\n",
       " {'id': 76, 'puntuacion': 8.2011},\n",
       " {'id': 276, 'puntuacion': 4.9202},\n",
       " {'id': 100, 'puntuacion': 7.1598},\n",
       " {'id': 53, 'puntuacion': 7.484},\n",
       " {'id': 265, 'puntuacion': 9.8023},\n",
       " {'id': 167, 'puntuacion': 8.5204},\n",
       " {'id': 169, 'puntuacion': 7.6156},\n",
       " {'id': 526, 'puntuacion': 6.4094},\n",
       " {'id': 80, 'puntuacion': 5.1979},\n",
       " {'id': 147, 'puntuacion': 7.1598},\n",
       " {'id': 3467, 'puntuacion': 7.1598},\n",
       " {'id': 216, 'puntuacion': 7.3081},\n",
       " {'id': 243, 'puntuacion': 7.1598},\n",
       " {'id': 230, 'puntuacion': 7.1598},\n",
       " {'id': 86, 'puntuacion': 7.1598},\n",
       " {'id': 233, 'puntuacion': 7.4578},\n",
       " {'id': 303, 'puntuacion': 6.945},\n",
       " {'id': 169, 'puntuacion': 7.1598},\n",
       " {'id': 21, 'puntuacion': 5.9086},\n",
       " {'id': 22, 'puntuacion': 7.9969},\n",
       " {'id': 2436, 'puntuacion': 5.4043},\n",
       " {'id': 160, 'puntuacion': 7.1598},\n",
       " {'id': 300, 'puntuacion': 7.1598},\n",
       " {'id': 220, 'puntuacion': 8.3761},\n",
       " {'id': 306, 'puntuacion': 7.1598},\n",
       " {'id': 284, 'puntuacion': 5.9469},\n",
       " {'id': 41, 'puntuacion': 5.9467},\n",
       " {'id': 20, 'puntuacion': 7.1598},\n",
       " {'id': 126, 'puntuacion': 7.1598},\n",
       " {'id': 255, 'puntuacion': 9.1856},\n",
       " {'id': 141, 'puntuacion': 5.3171},\n",
       " {'id': 2219, 'puntuacion': 9.1615},\n",
       " {'id': 86, 'puntuacion': 5.2955},\n",
       " {'id': 273, 'puntuacion': 8.9407},\n",
       " {'id': 204, 'puntuacion': 5.7151},\n",
       " {'id': 248, 'puntuacion': 7.4646},\n",
       " {'id': 102, 'puntuacion': 7.5666},\n",
       " {'id': 257, 'puntuacion': 7.1182},\n",
       " {'id': 197, 'puntuacion': 7.1598},\n",
       " {'id': 40, 'puntuacion': 10.0},\n",
       " {'id': 299, 'puntuacion': 7.0136},\n",
       " {'id': 173, 'puntuacion': 8.6105},\n",
       " {'id': 277, 'puntuacion': 7.2901},\n",
       " {'id': 1124, 'puntuacion': 5.4504},\n",
       " {'id': 299, 'puntuacion': 7.1598},\n",
       " {'id': 273, 'puntuacion': 6.8115},\n",
       " {'id': 273, 'puntuacion': 8.4226},\n",
       " {'id': 271, 'puntuacion': 7.1598},\n",
       " {'id': 126, 'puntuacion': 7.1598},\n",
       " {'id': 235, 'puntuacion': 7.1598},\n",
       " {'id': 201, 'puntuacion': 7.1376},\n",
       " {'id': 300, 'puntuacion': 7.1598},\n",
       " {'id': 141, 'puntuacion': 8.3731},\n",
       " {'id': 41, 'puntuacion': 6.3147},\n",
       " {'id': 176, 'puntuacion': 7.1598},\n",
       " {'id': 21, 'puntuacion': 7.0321},\n",
       " {'id': 133, 'puntuacion': 9.2594},\n",
       " {'id': 1463, 'puntuacion': 4.2586},\n",
       " {'id': 220, 'puntuacion': 6.2612},\n",
       " {'id': 253, 'puntuacion': 8.4866},\n",
       " {'id': 163, 'puntuacion': 8.1717},\n",
       " {'id': 169, 'puntuacion': 8.6999},\n",
       " {'id': 811, 'puntuacion': 7.1508},\n",
       " {'id': 235, 'puntuacion': 9.1811},\n",
       " {'id': 282, 'puntuacion': 7.1598},\n",
       " {'id': 271, 'puntuacion': 6.9067},\n",
       " {'id': 228, 'puntuacion': 4.938},\n",
       " {'id': 102, 'puntuacion': 6.5679},\n",
       " {'id': 301, 'puntuacion': 5.5849},\n",
       " {'id': 133, 'puntuacion': 7.1598},\n",
       " {'id': 149, 'puntuacion': 7.6653},\n",
       " {'id': 273, 'puntuacion': 7.2986},\n",
       " {'id': 117, 'puntuacion': 8.2798},\n",
       " {'id': 98, 'puntuacion': 7.1598},\n",
       " {'id': 235, 'puntuacion': 8.0291},\n",
       " {'id': 274, 'puntuacion': 7.1598},\n",
       " {'id': 115, 'puntuacion': 7.1753},\n",
       " {'id': 44, 'puntuacion': 6.7616},\n",
       " {'id': 244, 'puntuacion': 6.5221},\n",
       " {'id': 209, 'puntuacion': 6.8563},\n",
       " {'id': 62, 'puntuacion': 7.1598},\n",
       " {'id': 1632, 'puntuacion': 7.1598},\n",
       " {'id': 114, 'puntuacion': 7.1598},\n",
       " {'id': 204, 'puntuacion': 2.4254},\n",
       " {'id': 137, 'puntuacion': 8.3907},\n",
       " {'id': 271, 'puntuacion': 8.0705},\n",
       " {'id': 25, 'puntuacion': 7.7705},\n",
       " {'id': 260, 'puntuacion': 9.3121},\n",
       " {'id': 204, 'puntuacion': 7.4083},\n",
       " {'id': 21, 'puntuacion': 7.1598},\n",
       " {'id': 128, 'puntuacion': 3.1767},\n",
       " {'id': 160, 'puntuacion': 3.9978},\n",
       " {'id': 832, 'puntuacion': 8.7509},\n",
       " {'id': 86, 'puntuacion': 6.0501},\n",
       " {'id': 181, 'puntuacion': 6.1009},\n",
       " {'id': 145, 'puntuacion': 8.4963},\n",
       " {'id': 117, 'puntuacion': 6.4676},\n",
       " {'id': 23, 'puntuacion': 9.3793},\n",
       " {'id': 542, 'puntuacion': 7.2857},\n",
       " {'id': 277, 'puntuacion': 7.1086},\n",
       " {'id': 65, 'puntuacion': 6.8455},\n",
       " {'id': 35, 'puntuacion': 9.5714},\n",
       " {'id': 271, 'puntuacion': 5.734},\n",
       " {'id': 144, 'puntuacion': 6.8207},\n",
       " {'id': 144, 'puntuacion': 8.5255},\n",
       " {'id': 85, 'puntuacion': 7.4354},\n",
       " {'id': 199, 'puntuacion': 8.1182},\n",
       " {'id': 309, 'puntuacion': 6.6868},\n",
       " {'id': 2, 'puntuacion': 6.8511},\n",
       " {'id': 169, 'puntuacion': 7.5193},\n",
       " {'id': 305, 'puntuacion': 7.1598},\n",
       " {'id': 1167, 'puntuacion': 8.7526},\n",
       " {'id': 117, 'puntuacion': 6.7534},\n",
       " {'id': 41, 'puntuacion': 7.1598},\n",
       " {'id': 181, 'puntuacion': 8.9946},\n",
       " {'id': 130, 'puntuacion': 4.7419},\n",
       " {'id': 13, 'puntuacion': 4.594},\n",
       " {'id': 220, 'puntuacion': 8.521},\n",
       " {'id': 163, 'puntuacion': 7.1493},\n",
       " {'id': 207, 'puntuacion': 7.1598},\n",
       " {'id': 176, 'puntuacion': 7.1598},\n",
       " {'id': 1753, 'puntuacion': 7.1598},\n",
       " {'id': 90, 'puntuacion': 9.1626},\n",
       " {'id': 1328, 'puntuacion': 7.1598},\n",
       " {'id': 20, 'puntuacion': 7.7687},\n",
       " {'id': 86, 'puntuacion': 5.2779},\n",
       " {'id': 137, 'puntuacion': 5.3749},\n",
       " {'id': 88, 'puntuacion': 7.9587},\n",
       " {'id': 156, 'puntuacion': 6.7391},\n",
       " {'id': 576, 'puntuacion': 7.1598},\n",
       " {'id': 780, 'puntuacion': 9.1358},\n",
       " {'id': 44, 'puntuacion': 7.6913},\n",
       " {'id': 68, 'puntuacion': 8.0683},\n",
       " {'id': 216, 'puntuacion': 7.1598},\n",
       " {'id': 128, 'puntuacion': 7.1598},\n",
       " {'id': 211, 'puntuacion': 7.1598},\n",
       " {'id': 85, 'puntuacion': 7.4139},\n",
       " {'id': 255, 'puntuacion': 7.1598},\n",
       " {'id': 204, 'puntuacion': 5.7427},\n",
       " {'id': 85, 'puntuacion': 6.2351},\n",
       " {'id': 171, 'puntuacion': 8.528},\n",
       " {'id': 88, 'puntuacion': 9.3975},\n",
       " {'id': 242, 'puntuacion': 7.9108},\n",
       " {'id': 179, 'puntuacion': 5.897},\n",
       " {'id': 451, 'puntuacion': 7.1598},\n",
       " {'id': 68, 'puntuacion': 7.1842},\n",
       " {'id': 88, 'puntuacion': 9.5847},\n",
       " {'id': 211, 'puntuacion': 5.6377},\n",
       " {'id': 28, 'puntuacion': 8.9868},\n",
       " {'id': 117, 'puntuacion': 6.0272},\n",
       " {'id': 312, 'puntuacion': 5.7354},\n",
       " {'id': 32, 'puntuacion': 7.8361},\n",
       " {'id': 88, 'puntuacion': 7.1598},\n",
       " {'id': 138, 'puntuacion': 7.1598},\n",
       " {'id': 62, 'puntuacion': 6.7408},\n",
       " {'id': 62, 'puntuacion': 7.1598},\n",
       " {'id': 161, 'puntuacion': 7.1598},\n",
       " {'id': 303, 'puntuacion': 6.234},\n",
       " {'id': 169, 'puntuacion': 5.4817},\n",
       " {'id': 12, 'puntuacion': 7.4525},\n",
       " {'id': 510, 'puntuacion': 5.369},\n",
       " {'id': 68, 'puntuacion': 7.1598},\n",
       " {'id': 151, 'puntuacion': 7.521},\n",
       " {'id': 241, 'puntuacion': 6.5335},\n",
       " {'id': 230, 'puntuacion': 5.6632},\n",
       " {'id': 307, 'puntuacion': 7.1477},\n",
       " {'id': 169, 'puntuacion': 7.1042},\n",
       " {'id': 178, 'puntuacion': 8.4471},\n",
       " {'id': 104, 'puntuacion': 7.1598},\n",
       " {'id': 13, 'puntuacion': 4.5934},\n",
       " {'id': 199, 'puntuacion': 8.1668},\n",
       " {'id': 45, 'puntuacion': 8.7121},\n",
       " {'id': 2959, 'puntuacion': 7.1598},\n",
       " {'id': 61, 'puntuacion': 7.8137},\n",
       " {'id': 216, 'puntuacion': 8.1821},\n",
       " {'id': 88, 'puntuacion': 7.1598},\n",
       " {'id': 108, 'puntuacion': 7.1598},\n",
       " {'id': 90, 'puntuacion': 6.3078},\n",
       " {'id': 85, 'puntuacion': 7.8804},\n",
       " {'id': 60, 'puntuacion': 6.2117},\n",
       " {'id': 216, 'puntuacion': 6.7424},\n",
       " {'id': 96, 'puntuacion': 7.5093},\n",
       " {'id': 220, 'puntuacion': 7.1598},\n",
       " {'id': 20, 'puntuacion': 7.1598},\n",
       " {'id': 201, 'puntuacion': 7.1598},\n",
       " {'id': 300, 'puntuacion': 7.1598},\n",
       " {'id': 170, 'puntuacion': 8.7628},\n",
       " {'id': 216, 'puntuacion': 7.8701},\n",
       " {'id': 161, 'puntuacion': 7.1598},\n",
       " {'id': 232, 'puntuacion': 7.1598},\n",
       " {'id': 102, 'puntuacion': 7.1598},\n",
       " {'id': 220, 'puntuacion': 6.4811},\n",
       " {'id': 270, 'puntuacion': 8.0988},\n",
       " {'id': 163, 'puntuacion': 6.2971},\n",
       " {'id': 491, 'puntuacion': 7.0317},\n",
       " {'id': 196, 'puntuacion': 7.4451},\n",
       " {'id': 144, 'puntuacion': 9.0357},\n",
       " {'id': 91, 'puntuacion': 6.2374},\n",
       " {'id': 299, 'puntuacion': 7.1598},\n",
       " {'id': 3171, 'puntuacion': 7.1598},\n",
       " {'id': 156, 'puntuacion': 7.5529},\n",
       " {'id': 310, 'puntuacion': 7.1598},\n",
       " {'id': 364, 'puntuacion': 7.1598},\n",
       " {'id': 1114, 'puntuacion': 7.1598},\n",
       " {'id': 138, 'puntuacion': 8.6783},\n",
       " {'id': 660, 'puntuacion': 3.0039},\n",
       " {'id': 1506, 'puntuacion': 7.1598},\n",
       " {'id': 133, 'puntuacion': 8.1438},\n",
       " {'id': 183, 'puntuacion': 5.1711},\n",
       " {'id': 227, 'puntuacion': 5.0571},\n",
       " {'id': 208, 'puntuacion': 7.1598},\n",
       " {'id': 130, 'puntuacion': 6.4593},\n",
       " {'id': 74, 'puntuacion': 8.4038},\n",
       " {'id': 90, 'puntuacion': 8.1448},\n",
       " {'id': 145, 'puntuacion': 7.9135},\n",
       " {'id': 205, 'puntuacion': 6.6209},\n",
       " {'id': 201, 'puntuacion': 8.9011},\n",
       " {'id': 2851, 'puntuacion': 7.1598},\n",
       " {'id': 282, 'puntuacion': 7.7479},\n",
       " {'id': 1076, 'puntuacion': 8.2725},\n",
       " {'id': 2038, 'puntuacion': 7.1598},\n",
       " {'id': 22, 'puntuacion': 7.8975},\n",
       " {'id': 221, 'puntuacion': 6.7122},\n",
       " {'id': 309, 'puntuacion': 7.8835},\n",
       " {'id': 143, 'puntuacion': 8.2087},\n",
       " {'id': 32, 'puntuacion': 7.1598},\n",
       " {'id': 212, 'puntuacion': 5.6471},\n",
       " {'id': 284, 'puntuacion': 7.5556},\n",
       " {'id': 236, 'puntuacion': 8.0893},\n",
       " {'id': 92, 'puntuacion': 7.2274},\n",
       " {'id': 145, 'puntuacion': 8.1753},\n",
       " {'id': 121, 'puntuacion': 6.0906},\n",
       " ...]"
      ]
     },
     "metadata": {},
     "execution_count": 68
    }
   ],
   "source": [
    "list_pred"
   ]
  },
  {
   "cell_type": "code",
   "execution_count": null,
   "metadata": {},
   "outputs": [],
   "source": []
  }
 ],
 "metadata": {
  "kernelspec": {
   "name": "python3",
   "display_name": "Python 3.7.5 64-bit ('base': conda)",
   "metadata": {
    "interpreter": {
     "hash": "9a37e5188a605e95d3282a4fb8007f4c3c52885d8cd12f2ffcfc398feaa7ff36"
    }
   }
  },
  "language_info": {
   "codemirror_mode": {
    "name": "ipython",
    "version": 3
   },
   "file_extension": ".py",
   "mimetype": "text/x-python",
   "name": "python",
   "nbconvert_exporter": "python",
   "pygments_lexer": "ipython3",
   "version": "3.7.5-final"
  }
 },
 "nbformat": 4,
 "nbformat_minor": 4
}