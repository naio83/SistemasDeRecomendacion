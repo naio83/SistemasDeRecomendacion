{
 "cells": [
  {
   "cell_type": "code",
   "execution_count": 1,
   "metadata": {},
   "outputs": [],
   "source": [
    "import pandas as pd\n",
    "import time\n",
    "import numpy as np\n",
    "import math\n",
    "from sklearn import datasets\n",
    "from sklearn.metrics import mean_squared_error, r2_score\n",
    "from sklearn.model_selection import train_test_split\n",
    "from tqdm import tqdm, tqdm_notebook\n",
    "import warnings, sys, os, gc\n",
    "import surprise as sp"
   ]
  },
  {
   "source": [
    "## Surprise"
   ],
   "cell_type": "markdown",
   "metadata": {}
  },
  {
   "cell_type": "code",
   "execution_count": 2,
   "metadata": {},
   "outputs": [],
   "source": [
    "df_train = pd.read_csv('./data/opiniones_train.csv')\n",
    "df_test = pd.read_csv('./data/opiniones_test.csv')"
   ]
  },
  {
   "cell_type": "code",
   "execution_count": 3,
   "metadata": {},
   "outputs": [],
   "source": [
    "X_train, X_test, y_train, y_test = train_test_split(df_train.drop(['puntuacion'], axis=1),         df_train.puntuacion, test_size=0.3, random_state=0)"
   ]
  },
  {
   "source": [
    "## SVD"
   ],
   "cell_type": "markdown",
   "metadata": {}
  },
  {
   "cell_type": "code",
   "execution_count": 4,
   "metadata": {},
   "outputs": [],
   "source": [
    "#### Parametros ####\n",
    "scale = (1.0, 10.0)\n",
    "reader = sp.reader.Reader(rating_scale=scale)\n",
    "SVD_algo = sp.prediction_algorithms.SVD\n",
    "param_grid = {\n",
    "    'n_factors': range(40, 80, 5),\n",
    "    \"n_epochs\": [100, 300, 500, 700, 900],\n",
    "    'lr_all': [0.002, 0.003, 0.004, 0.005, 0.006, 0.007, 0.008],\n",
    "    'reg_all': [0.01,0.02,0.03],\n",
    "    'biased':[True, False]\n",
    "}\n",
    "train = pd.concat([X_train, pd.DataFrame(y_train)], axis=1)\n",
    "data_train = sp.dataset.Dataset.load_from_df(train, reader)"
   ]
  },
  {
   "cell_type": "code",
   "execution_count": 5,
   "metadata": {},
   "outputs": [
    {
     "output_type": "stream",
     "name": "stdout",
     "text": [
      "SVD\nRMSE = {'n_factors': 65, 'n_epochs': 700, 'lr_all': 0.007, 'reg_all': 0.03, 'biased': True}\ntiempo:  510.2110085487366\n"
     ]
    }
   ],
   "source": [
    "#### Busqueda de hiper parametros ####\n",
    "t_0 = time.time()\n",
    "svd_rs = sp.model_selection.search.RandomizedSearchCV(SVD_algo, param_grid, measures=['rmse'],cv=5, n_jobs=-1)\n",
    "svd_rs.fit(data_train)\n",
    "print(\"SVD\")\n",
    "print('RMSE =', svd_rs.best_params['rmse']) \n",
    "print (\"tiempo: \", time.time() - t_0)"
   ]
  },
  {
   "cell_type": "code",
   "execution_count": 6,
   "metadata": {},
   "outputs": [
    {
     "output_type": "stream",
     "name": "stdout",
     "text": [
      "tiempo:  0.1336228847503662\n"
     ]
    }
   ],
   "source": [
    "#### Entrenamiento ####\n",
    "t_0 = time.time()\n",
    "train = df_train[['usuario', 'libro', 'puntuacion']]\n",
    "best_params = {'n_epochs': 300, 'lr_all': 0.001, 'reg_all': 0.2, 'n_factors': 55}\n",
    "data = sp.dataset.Dataset.load_from_df(train, reader)\n",
    "trainset, testset = sp.model_selection.train_test_split(data, test_size=0.30, random_state=0)\n",
    "model = SVD_algo(n_factors= 65, n_epochs= 700, lr_all= 0.007, reg_all= 0.03, biased=True)\n",
    "print (\"tiempo: \", time.time() - t_0)"
   ]
  },
  {
   "cell_type": "code",
   "execution_count": 7,
   "metadata": {},
   "outputs": [
    {
     "output_type": "stream",
     "name": "stdout",
     "text": [
      "RMSE: 1.6119\ntiempo:  111.22566151618958\n"
     ]
    }
   ],
   "source": [
    "#### Predicciones ####\n",
    "t_0 = time.time()\n",
    "# Fit sobre trainset (70% de data) y predicciones sobre testset(30% data)\n",
    "model.fit(trainset)\n",
    "y_predictions = model.test(testset)\n",
    "# Fit sobre trainset full\n",
    "model.fit(data.build_full_trainset())\n",
    "sp.accuracy.rmse(y_predictions)\n",
    "print (\"tiempo: \", time.time() - t_0)"
   ]
  },
  {
   "cell_type": "code",
   "execution_count": 45,
   "metadata": {},
   "outputs": [
    {
     "output_type": "execute_result",
     "data": {
      "text/plain": [
       "          id  puntuacion\n",
       "10579  10580      8.3388\n",
       "10580  10581      7.6435\n",
       "10581  10582      7.3014\n",
       "10582  10583      8.8245\n",
       "10583  10584      5.5192"
      ],
      "text/html": "<div>\n<style scoped>\n    .dataframe tbody tr th:only-of-type {\n        vertical-align: middle;\n    }\n\n    .dataframe tbody tr th {\n        vertical-align: top;\n    }\n\n    .dataframe thead th {\n        text-align: right;\n    }\n</style>\n<table border=\"1\" class=\"dataframe\">\n  <thead>\n    <tr style=\"text-align: right;\">\n      <th></th>\n      <th>id</th>\n      <th>puntuacion</th>\n    </tr>\n  </thead>\n  <tbody>\n    <tr>\n      <th>10579</th>\n      <td>10580</td>\n      <td>8.3388</td>\n    </tr>\n    <tr>\n      <th>10580</th>\n      <td>10581</td>\n      <td>7.6435</td>\n    </tr>\n    <tr>\n      <th>10581</th>\n      <td>10582</td>\n      <td>7.3014</td>\n    </tr>\n    <tr>\n      <th>10582</th>\n      <td>10583</td>\n      <td>8.8245</td>\n    </tr>\n    <tr>\n      <th>10583</th>\n      <td>10584</td>\n      <td>5.5192</td>\n    </tr>\n  </tbody>\n</table>\n</div>"
     },
     "metadata": {},
     "execution_count": 45
    }
   ],
   "source": [
    "# Predicciones sobre df_test\n",
    "predict = list(map(lambda x: model.predict(x[0], x[1]).est, zip(df_test.usuario, df_test.libro)))\n",
    "submit = pd.DataFrame({'id': df_test.id, 'puntuacion': np.around(predict,4)})\n",
    "submit.tail()"
   ]
  },
  {
   "cell_type": "code",
   "execution_count": 46,
   "metadata": {},
   "outputs": [],
   "source": [
    "#n_factors= 55, n_epochs= 300, lr_all= 0.001, reg_all= 0.2\n",
    "## RMSE: 1.5834 | RMSE_kaggle: 1.48523 ===> surpSVD_tunned.csv \n",
    "#n_factors= 65, n_epochs= 700, lr_all= 0.007, reg_all= 0.03, biased=True\n",
    "##RMSE: 1.6119  | RMSE_kaggle:  ===> surpSVD_tunned_2.csv\n",
    "\n",
    "submit.to_csv(\"./submission/surpSVD_tunned_2.csv\", index=False)"
   ]
  },
  {
   "cell_type": "code",
   "execution_count": null,
   "metadata": {},
   "outputs": [],
   "source": [
    "predict_surprise_svd"
   ]
  }
 ],
 "metadata": {
  "kernelspec": {
   "name": "python3",
   "display_name": "Python 3.7.5 64-bit ('base': conda)",
   "metadata": {
    "interpreter": {
     "hash": "9a37e5188a605e95d3282a4fb8007f4c3c52885d8cd12f2ffcfc398feaa7ff36"
    }
   }
  },
  "language_info": {
   "codemirror_mode": {
    "name": "ipython",
    "version": 3
   },
   "file_extension": ".py",
   "mimetype": "text/x-python",
   "name": "python",
   "nbconvert_exporter": "python",
   "pygments_lexer": "ipython3",
   "version": "3.7.5-final"
  }
 },
 "nbformat": 4,
 "nbformat_minor": 4
}