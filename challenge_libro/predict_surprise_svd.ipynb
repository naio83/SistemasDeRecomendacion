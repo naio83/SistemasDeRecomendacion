{
 "cells": [
  {
   "cell_type": "code",
   "execution_count": 1,
   "metadata": {},
   "outputs": [],
   "source": [
    "import pandas as pd\n",
    "import time\n",
    "import numpy as np\n",
    "import math\n",
    "from sklearn import datasets\n",
    "from sklearn.metrics import mean_squared_error, r2_score\n",
    "from sklearn.model_selection import train_test_split\n",
    "from tqdm import tqdm, tqdm_notebook\n",
    "import warnings, sys, os, gc\n",
    "\n",
    "import surprise as sp\n",
    "from surprise.model_selection import cross_validate\n",
    "from surprise.model_selection import GridSearchCV, RandomizedSearchCV\n",
    "from surprise import KNNBasic, KNNWithMeans, KNNWithZScore, SVD, NMF\n",
    "from surprise import accuracy\n"
   ]
  },
  {
   "source": [
    "## Surprise"
   ],
   "cell_type": "markdown",
   "metadata": {}
  },
  {
   "cell_type": "code",
   "execution_count": 53,
   "metadata": {},
   "outputs": [],
   "source": [
    "df_train = pd.read_csv('./data/opiniones_train.csv')\n",
    "df_test = pd.read_csv('./data/opiniones_test.csv')"
   ]
  },
  {
   "cell_type": "code",
   "execution_count": 54,
   "metadata": {},
   "outputs": [
    {
     "output_type": "stream",
     "name": "stdout",
     "text": [
      "(42320, 3)\n"
     ]
    }
   ],
   "source": [
    "#trainset, testset = train_test_split(df_train, test_size=0.30)\n",
    "trainset = df_train\n",
    "testset = df_test\n",
    "#print(trainset.shape, testset.shape)\n",
    "print(trainset.shape)"
   ]
  },
  {
   "cell_type": "code",
   "execution_count": 55,
   "metadata": {},
   "outputs": [],
   "source": [
    "#testset = testset.rename(columns = {'libro': 'id'}, inplace = False)\n",
    "#trainset = trainset.rename(columns = {'libro': 'id'}, inplace = False)"
   ]
  },
  {
   "cell_type": "code",
   "execution_count": 56,
   "metadata": {},
   "outputs": [
    {
     "output_type": "execute_result",
     "data": {
      "text/plain": [
       "                             id  usuario  puntuacion\n",
       "0         el-maestro-de-esgrima      216         8.0\n",
       "1  el-angel-mas-tonto-del-mundo      288         3.0\n",
       "2            un-millon-de-gotas      300         7.0\n",
       "3                 el-resplandor      120        10.0\n",
       "4                      el-fuego     1122         5.0"
      ],
      "text/html": "<div>\n<style scoped>\n    .dataframe tbody tr th:only-of-type {\n        vertical-align: middle;\n    }\n\n    .dataframe tbody tr th {\n        vertical-align: top;\n    }\n\n    .dataframe thead th {\n        text-align: right;\n    }\n</style>\n<table border=\"1\" class=\"dataframe\">\n  <thead>\n    <tr style=\"text-align: right;\">\n      <th></th>\n      <th>id</th>\n      <th>usuario</th>\n      <th>puntuacion</th>\n    </tr>\n  </thead>\n  <tbody>\n    <tr>\n      <th>0</th>\n      <td>el-maestro-de-esgrima</td>\n      <td>216</td>\n      <td>8.0</td>\n    </tr>\n    <tr>\n      <th>1</th>\n      <td>el-angel-mas-tonto-del-mundo</td>\n      <td>288</td>\n      <td>3.0</td>\n    </tr>\n    <tr>\n      <th>2</th>\n      <td>un-millon-de-gotas</td>\n      <td>300</td>\n      <td>7.0</td>\n    </tr>\n    <tr>\n      <th>3</th>\n      <td>el-resplandor</td>\n      <td>120</td>\n      <td>10.0</td>\n    </tr>\n    <tr>\n      <th>4</th>\n      <td>el-fuego</td>\n      <td>1122</td>\n      <td>5.0</td>\n    </tr>\n  </tbody>\n</table>\n</div>"
     },
     "metadata": {},
     "execution_count": 56
    }
   ],
   "source": [
    "trainset.head()"
   ]
  },
  {
   "cell_type": "code",
   "execution_count": 57,
   "metadata": {},
   "outputs": [],
   "source": [
    "reader = sp.reader.Reader(rating_scale=(1.0, 10.0))\n",
    "data_train= sp.dataset.Dataset.load_from_df(trainset[['id', 'usuario', 'puntuacion']], reader)"
   ]
  },
  {
   "source": [
    "## SVD"
   ],
   "cell_type": "markdown",
   "metadata": {}
  },
  {
   "cell_type": "code",
   "execution_count": 58,
   "metadata": {},
   "outputs": [],
   "source": [
    "def full_prediction(algo_name,algoritmo,test):\n",
    "    list_pred = []\n",
    "    for row in tqdm_notebook(test.itertuples()):\n",
    "        row_pred = dict()\n",
    "        uid = row.id\n",
    "        iid = row.usuario\n",
    "        pred = algoritmo.predict(uid, iid, verbose=False)\n",
    "        row_pred[\"id\"] = uid\n",
    "        row_pred[\"puntuacion\"] = np.around(pred.est, 2)\n",
    "        list_pred.append(row_pred)\n",
    "    df = pd.DataFrame(list_pred)    \n",
    "    #print(algo_name + \" MSE:      %.4f\" % np.sqrt(mean_squared_error(test.puntuacion, df.puntuacion)))\n",
    "    return list_pred"
   ]
  },
  {
   "cell_type": "code",
   "execution_count": 42,
   "metadata": {},
   "outputs": [],
   "source": [
    "# HiperParametros\n",
    "param_grid_svd = {'n_factors': list(range(40,130,5)), 'n_epochs': list(range(1,100,1)), \n",
    "              'lr_all': [0.002, 0.003, 0.004, 0.005, 0.006, 0.007, 0.008],\n",
    "              'reg_all': [0.01,0.02,0.03],\n",
    "              'biased':[True, False]}\n",
    "\n",
    "SVD_algo = SVD()"
   ]
  },
  {
   "cell_type": "code",
   "execution_count": 43,
   "metadata": {},
   "outputs": [
    {
     "output_type": "stream",
     "name": "stdout",
     "text": [
      "SVD\nRMSE = {'n_factors': 70, 'n_epochs': 28, 'lr_all': 0.003, 'reg_all': 0.03, 'biased': True}\ntiempo:  219.4697482585907\n"
     ]
    }
   ],
   "source": [
    "t_0 = time.time()\n",
    "svd_rs = RandomizedSearchCV(SVD, param_grid_svd, measures=['rmse', 'mae'],n_iter=25, n_jobs=2)\n",
    "svd_rs.fit(data_train)\n",
    "print(\"SVD\")\n",
    "print('RMSE =', svd_rs.best_params['rmse']) \n",
    "print (\"tiempo: \", time.time() - t_0)"
   ]
  },
  {
   "cell_type": "code",
   "execution_count": 59,
   "metadata": {},
   "outputs": [],
   "source": [
    "SVD_algo = SVD(n_factors= 70, n_epochs= 90, lr_all= 0.003, reg_all= 0.03, biased=True)"
   ]
  },
  {
   "cell_type": "code",
   "execution_count": 60,
   "metadata": {},
   "outputs": [
    {
     "output_type": "stream",
     "name": "stdout",
     "text": [
      "tiempo:  8.815774202346802\n"
     ]
    }
   ],
   "source": [
    "t_0 = time.time()\n",
    "trainset_model = data_train.build_full_trainset()\n",
    "SVD_algo.fit(trainset_model)\n",
    "print (\"tiempo: \", time.time() - t_0)"
   ]
  },
  {
   "cell_type": "code",
   "execution_count": 61,
   "metadata": {},
   "outputs": [
    {
     "output_type": "stream",
     "name": "stdout",
     "text": [
      "10584\n42320\n"
     ]
    }
   ],
   "source": [
    "print(len(testset))\n",
    "print(len(trainset))"
   ]
  },
  {
   "cell_type": "code",
   "execution_count": 62,
   "metadata": {},
   "outputs": [
    {
     "output_type": "display_data",
     "data": {
      "text/plain": "HBox(children=(FloatProgress(value=1.0, bar_style='info', max=1.0), HTML(value='')))",
      "application/vnd.jupyter.widget-view+json": {
       "version_major": 2,
       "version_minor": 0,
       "model_id": "9533516b14d041e0a280791e675b38b5"
      }
     },
     "metadata": {}
    },
    {
     "output_type": "stream",
     "name": "stdout",
     "text": [
      "\n"
     ]
    }
   ],
   "source": [
    "df_list_pred_SVD = pd.DataFrame(full_prediction(\"SVD\",SVD_algo,testset))\n",
    "#df_list_pred_SVD = pd.DataFrame(full_prediction(\"SVD\",SVD_algo,trainset))"
   ]
  },
  {
   "cell_type": "code",
   "execution_count": 23,
   "metadata": {},
   "outputs": [
    {
     "output_type": "execute_result",
     "data": {
      "text/plain": [
       "                             id  usuario  puntuacion\n",
       "0         el-maestro-de-esgrima      216         8.0\n",
       "1  el-angel-mas-tonto-del-mundo      288         3.0\n",
       "2            un-millon-de-gotas      300         7.0\n",
       "3                 el-resplandor      120        10.0\n",
       "4                      el-fuego     1122         5.0"
      ],
      "text/html": "<div>\n<style scoped>\n    .dataframe tbody tr th:only-of-type {\n        vertical-align: middle;\n    }\n\n    .dataframe tbody tr th {\n        vertical-align: top;\n    }\n\n    .dataframe thead th {\n        text-align: right;\n    }\n</style>\n<table border=\"1\" class=\"dataframe\">\n  <thead>\n    <tr style=\"text-align: right;\">\n      <th></th>\n      <th>id</th>\n      <th>usuario</th>\n      <th>puntuacion</th>\n    </tr>\n  </thead>\n  <tbody>\n    <tr>\n      <th>0</th>\n      <td>el-maestro-de-esgrima</td>\n      <td>216</td>\n      <td>8.0</td>\n    </tr>\n    <tr>\n      <th>1</th>\n      <td>el-angel-mas-tonto-del-mundo</td>\n      <td>288</td>\n      <td>3.0</td>\n    </tr>\n    <tr>\n      <th>2</th>\n      <td>un-millon-de-gotas</td>\n      <td>300</td>\n      <td>7.0</td>\n    </tr>\n    <tr>\n      <th>3</th>\n      <td>el-resplandor</td>\n      <td>120</td>\n      <td>10.0</td>\n    </tr>\n    <tr>\n      <th>4</th>\n      <td>el-fuego</td>\n      <td>1122</td>\n      <td>5.0</td>\n    </tr>\n  </tbody>\n</table>\n</div>"
     },
     "metadata": {},
     "execution_count": 23
    }
   ],
   "source": [
    "trainset.head()"
   ]
  },
  {
   "cell_type": "code",
   "execution_count": 22,
   "metadata": {},
   "outputs": [
    {
     "output_type": "execute_result",
     "data": {
      "text/plain": [
       "                             id  puntuacion\n",
       "0         el-maestro-de-esgrima        7.73\n",
       "1  el-angel-mas-tonto-del-mundo        3.31\n",
       "2            un-millon-de-gotas        7.13\n",
       "3                 el-resplandor       10.00\n",
       "4                      el-fuego        5.12"
      ],
      "text/html": "<div>\n<style scoped>\n    .dataframe tbody tr th:only-of-type {\n        vertical-align: middle;\n    }\n\n    .dataframe tbody tr th {\n        vertical-align: top;\n    }\n\n    .dataframe thead th {\n        text-align: right;\n    }\n</style>\n<table border=\"1\" class=\"dataframe\">\n  <thead>\n    <tr style=\"text-align: right;\">\n      <th></th>\n      <th>id</th>\n      <th>puntuacion</th>\n    </tr>\n  </thead>\n  <tbody>\n    <tr>\n      <th>0</th>\n      <td>el-maestro-de-esgrima</td>\n      <td>7.73</td>\n    </tr>\n    <tr>\n      <th>1</th>\n      <td>el-angel-mas-tonto-del-mundo</td>\n      <td>3.31</td>\n    </tr>\n    <tr>\n      <th>2</th>\n      <td>un-millon-de-gotas</td>\n      <td>7.13</td>\n    </tr>\n    <tr>\n      <th>3</th>\n      <td>el-resplandor</td>\n      <td>10.00</td>\n    </tr>\n    <tr>\n      <th>4</th>\n      <td>el-fuego</td>\n      <td>5.12</td>\n    </tr>\n  </tbody>\n</table>\n</div>"
     },
     "metadata": {},
     "execution_count": 22
    }
   ],
   "source": [
    "df_list_pred_SVD.head()"
   ]
  },
  {
   "cell_type": "code",
   "execution_count": 30,
   "metadata": {},
   "outputs": [],
   "source": [
    "df = trainset\n",
    "df['svd'] = df_list_pred_SVD['puntuacion']"
   ]
  },
  {
   "cell_type": "code",
   "execution_count": 33,
   "metadata": {},
   "outputs": [
    {
     "output_type": "stream",
     "name": "stdout",
     "text": [
      " MSE:      0.3232\n"
     ]
    }
   ],
   "source": [
    "print(\" MSE:      %.4f\" % np.sqrt(mean_squared_error(df.puntuacion, df.svd)))"
   ]
  },
  {
   "cell_type": "code",
   "execution_count": 38,
   "metadata": {},
   "outputs": [
    {
     "output_type": "execute_result",
     "data": {
      "text/plain": [
       "id            0\n",
       "usuario       0\n",
       "puntuacion    0\n",
       "svd           0\n",
       "dtype: int64"
      ]
     },
     "metadata": {},
     "execution_count": 38
    }
   ],
   "source": [
    "df.isna().sum()"
   ]
  },
  {
   "cell_type": "code",
   "execution_count": 39,
   "metadata": {},
   "outputs": [],
   "source": [
    "df.to_csv(\"./data/train_svd.csv\", index=False)\n",
    "\n"
   ]
  },
  {
   "cell_type": "code",
   "execution_count": 49,
   "metadata": {},
   "outputs": [
    {
     "output_type": "execute_result",
     "data": {
      "text/plain": [
       "                                 id  usuario  puntuacion    svd\n",
       "0             el-maestro-de-esgrima      216         8.0   7.73\n",
       "1      el-angel-mas-tonto-del-mundo      288         3.0   3.31\n",
       "2                un-millon-de-gotas      300         7.0   7.13\n",
       "3                     el-resplandor      120        10.0  10.00\n",
       "4                          el-fuego     1122         5.0   5.12\n",
       "...                             ...      ...         ...    ...\n",
       "42315   el-callejon-de-los-milagros     1079         8.0   7.99\n",
       "42316              ponte-en-mi-piel      151         8.0   7.61\n",
       "42317           veinte-anos-despues      169         7.0   7.01\n",
       "42318           la-herencia-de-wilt      216         6.0   6.10\n",
       "42319                un-mundo-feliz      874         8.0   8.09\n",
       "\n",
       "[42320 rows x 4 columns]"
      ],
      "text/html": "<div>\n<style scoped>\n    .dataframe tbody tr th:only-of-type {\n        vertical-align: middle;\n    }\n\n    .dataframe tbody tr th {\n        vertical-align: top;\n    }\n\n    .dataframe thead th {\n        text-align: right;\n    }\n</style>\n<table border=\"1\" class=\"dataframe\">\n  <thead>\n    <tr style=\"text-align: right;\">\n      <th></th>\n      <th>id</th>\n      <th>usuario</th>\n      <th>puntuacion</th>\n      <th>svd</th>\n    </tr>\n  </thead>\n  <tbody>\n    <tr>\n      <th>0</th>\n      <td>el-maestro-de-esgrima</td>\n      <td>216</td>\n      <td>8.0</td>\n      <td>7.73</td>\n    </tr>\n    <tr>\n      <th>1</th>\n      <td>el-angel-mas-tonto-del-mundo</td>\n      <td>288</td>\n      <td>3.0</td>\n      <td>3.31</td>\n    </tr>\n    <tr>\n      <th>2</th>\n      <td>un-millon-de-gotas</td>\n      <td>300</td>\n      <td>7.0</td>\n      <td>7.13</td>\n    </tr>\n    <tr>\n      <th>3</th>\n      <td>el-resplandor</td>\n      <td>120</td>\n      <td>10.0</td>\n      <td>10.00</td>\n    </tr>\n    <tr>\n      <th>4</th>\n      <td>el-fuego</td>\n      <td>1122</td>\n      <td>5.0</td>\n      <td>5.12</td>\n    </tr>\n    <tr>\n      <th>...</th>\n      <td>...</td>\n      <td>...</td>\n      <td>...</td>\n      <td>...</td>\n    </tr>\n    <tr>\n      <th>42315</th>\n      <td>el-callejon-de-los-milagros</td>\n      <td>1079</td>\n      <td>8.0</td>\n      <td>7.99</td>\n    </tr>\n    <tr>\n      <th>42316</th>\n      <td>ponte-en-mi-piel</td>\n      <td>151</td>\n      <td>8.0</td>\n      <td>7.61</td>\n    </tr>\n    <tr>\n      <th>42317</th>\n      <td>veinte-anos-despues</td>\n      <td>169</td>\n      <td>7.0</td>\n      <td>7.01</td>\n    </tr>\n    <tr>\n      <th>42318</th>\n      <td>la-herencia-de-wilt</td>\n      <td>216</td>\n      <td>6.0</td>\n      <td>6.10</td>\n    </tr>\n    <tr>\n      <th>42319</th>\n      <td>un-mundo-feliz</td>\n      <td>874</td>\n      <td>8.0</td>\n      <td>8.09</td>\n    </tr>\n  </tbody>\n</table>\n<p>42320 rows × 4 columns</p>\n</div>"
     },
     "metadata": {},
     "execution_count": 49
    }
   ],
   "source": [
    "df"
   ]
  },
  {
   "cell_type": "code",
   "execution_count": 48,
   "metadata": {},
   "outputs": [
    {
     "output_type": "execute_result",
     "data": {
      "text/plain": [
       "          id                                        libro  usuario  puntuacion\n",
       "0          1                                    los-hijos      201         NaN\n",
       "1          2                  el-temor-de-un-hombre-sabio      299         NaN\n",
       "2          3                               leon-bocanegra      126         NaN\n",
       "3          4                       el-caballero-errante-2      107         NaN\n",
       "4          5                                el-mar-el-mar       85         NaN\n",
       "...      ...                                          ...      ...         ...\n",
       "10579  10580                        la-princesa-prometida      854         NaN\n",
       "10580  10581                               la-prima-bette      216         NaN\n",
       "10581  10582  el-guardian-invisible-trilogia-del-baztan-1      132         NaN\n",
       "10582  10583                              un-otono-romano      133         NaN\n",
       "10583  10584                               mujer-de-barro     2271         NaN\n",
       "\n",
       "[10584 rows x 4 columns]"
      ],
      "text/html": "<div>\n<style scoped>\n    .dataframe tbody tr th:only-of-type {\n        vertical-align: middle;\n    }\n\n    .dataframe tbody tr th {\n        vertical-align: top;\n    }\n\n    .dataframe thead th {\n        text-align: right;\n    }\n</style>\n<table border=\"1\" class=\"dataframe\">\n  <thead>\n    <tr style=\"text-align: right;\">\n      <th></th>\n      <th>id</th>\n      <th>libro</th>\n      <th>usuario</th>\n      <th>puntuacion</th>\n    </tr>\n  </thead>\n  <tbody>\n    <tr>\n      <th>0</th>\n      <td>1</td>\n      <td>los-hijos</td>\n      <td>201</td>\n      <td>NaN</td>\n    </tr>\n    <tr>\n      <th>1</th>\n      <td>2</td>\n      <td>el-temor-de-un-hombre-sabio</td>\n      <td>299</td>\n      <td>NaN</td>\n    </tr>\n    <tr>\n      <th>2</th>\n      <td>3</td>\n      <td>leon-bocanegra</td>\n      <td>126</td>\n      <td>NaN</td>\n    </tr>\n    <tr>\n      <th>3</th>\n      <td>4</td>\n      <td>el-caballero-errante-2</td>\n      <td>107</td>\n      <td>NaN</td>\n    </tr>\n    <tr>\n      <th>4</th>\n      <td>5</td>\n      <td>el-mar-el-mar</td>\n      <td>85</td>\n      <td>NaN</td>\n    </tr>\n    <tr>\n      <th>...</th>\n      <td>...</td>\n      <td>...</td>\n      <td>...</td>\n      <td>...</td>\n    </tr>\n    <tr>\n      <th>10579</th>\n      <td>10580</td>\n      <td>la-princesa-prometida</td>\n      <td>854</td>\n      <td>NaN</td>\n    </tr>\n    <tr>\n      <th>10580</th>\n      <td>10581</td>\n      <td>la-prima-bette</td>\n      <td>216</td>\n      <td>NaN</td>\n    </tr>\n    <tr>\n      <th>10581</th>\n      <td>10582</td>\n      <td>el-guardian-invisible-trilogia-del-baztan-1</td>\n      <td>132</td>\n      <td>NaN</td>\n    </tr>\n    <tr>\n      <th>10582</th>\n      <td>10583</td>\n      <td>un-otono-romano</td>\n      <td>133</td>\n      <td>NaN</td>\n    </tr>\n    <tr>\n      <th>10583</th>\n      <td>10584</td>\n      <td>mujer-de-barro</td>\n      <td>2271</td>\n      <td>NaN</td>\n    </tr>\n  </tbody>\n</table>\n<p>10584 rows × 4 columns</p>\n</div>"
     },
     "metadata": {},
     "execution_count": 48
    }
   ],
   "source": [
    "test = df_test\n",
    "test "
   ]
  },
  {
   "cell_type": "code",
   "execution_count": 16,
   "metadata": {},
   "outputs": [],
   "source": [
    "df_list_pred_SVD.to_csv(\"./submission/ignacio_submit_SVD2.csv\", index=False)\n",
    "# 1.58380"
   ]
  },
  {
   "cell_type": "code",
   "execution_count": null,
   "metadata": {},
   "outputs": [],
   "source": []
  }
 ],
 "metadata": {
  "kernelspec": {
   "name": "python3",
   "display_name": "Python 3.7.5 64-bit ('base': conda)",
   "metadata": {
    "interpreter": {
     "hash": "9a37e5188a605e95d3282a4fb8007f4c3c52885d8cd12f2ffcfc398feaa7ff36"
    }
   }
  },
  "language_info": {
   "codemirror_mode": {
    "name": "ipython",
    "version": 3
   },
   "file_extension": ".py",
   "mimetype": "text/x-python",
   "name": "python",
   "nbconvert_exporter": "python",
   "pygments_lexer": "ipython3",
   "version": "3.7.5-final"
  }
 },
 "nbformat": 4,
 "nbformat_minor": 4
}