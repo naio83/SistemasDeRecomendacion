{
 "cells": [
  {
   "cell_type": "code",
   "execution_count": 1,
   "metadata": {},
   "outputs": [],
   "source": [
    "import pandas as pd\n",
    "import time\n",
    "import numpy as np\n",
    "import math\n",
    "from sklearn import datasets\n",
    "from sklearn.metrics import mean_squared_error, r2_score\n",
    "from sklearn.model_selection import train_test_split\n",
    "from tqdm import tqdm, tqdm_notebook\n",
    "import warnings, sys, os, gc\n",
    "\n",
    "import surprise as sp\n",
    "from surprise.model_selection import cross_validate\n",
    "from surprise.model_selection import GridSearchCV, RandomizedSearchCV\n",
    "from surprise import KNNBasic, KNNWithMeans, KNNWithZScore, SVD, NMF\n",
    "from surprise import accuracy\n"
   ]
  },
  {
   "source": [
    "## Preprocesamiento"
   ],
   "cell_type": "markdown",
   "metadata": {}
  },
  {
   "cell_type": "code",
   "execution_count": 2,
   "metadata": {},
   "outputs": [],
   "source": [
    "df_train = pd.read_csv('./data/opiniones_train.csv')\n",
    "df_test = pd.read_csv('./data/opiniones_test.csv')\n",
    "df_libros = pd.read_csv('./data/libros.csv')\n",
    "#####################################################\n",
    "train = df_train\n",
    "test = df_test\n",
    "train['libro'] = train['libro'].astype('category')\n",
    "test['libro'] = test['libro'].astype('category')"
   ]
  },
  {
   "cell_type": "code",
   "execution_count": 3,
   "metadata": {},
   "outputs": [
    {
     "output_type": "stream",
     "name": "stdout",
     "text": [
      "(42320, 3) (10584, 4)\n"
     ]
    }
   ],
   "source": [
    "#trainset, testset = train_test_split(train, test_size=0.30)\n",
    "trainset = train\n",
    "testset = test\n",
    "print(trainset.shape, testset.shape)"
   ]
  },
  {
   "source": [
    "## Surprise"
   ],
   "cell_type": "markdown",
   "metadata": {}
  },
  {
   "cell_type": "code",
   "execution_count": 4,
   "metadata": {},
   "outputs": [],
   "source": [
    "def full_prediction(algo_name,algoritmo,test):\n",
    "    list_pred = []\n",
    "    for row in tqdm_notebook(test.itertuples()):\n",
    "        row_pred = dict()\n",
    "        uid = row.libro\n",
    "        iid = row.usuario\n",
    "        pred = algoritmo.predict(uid, iid, verbose=False)\n",
    "        row_pred[\"libro\"] = uid\n",
    "        row_pred[\"puntuacion\"] = np.around(pred.est, 2)\n",
    "        list_pred.append(row_pred)\n",
    "    df = pd.DataFrame(list_pred)    \n",
    "    #print(algo_name + \" MSE:      %.4f\" % np.sqrt(mean_squared_error(test.puntuacion, df.puntuacion)))\n",
    "    return list_pred"
   ]
  },
  {
   "cell_type": "code",
   "execution_count": 5,
   "metadata": {},
   "outputs": [],
   "source": [
    "reader = sp.reader.Reader(rating_scale=(1.0, 10.0))\n",
    "data_train= sp.dataset.Dataset.load_from_df(trainset[['libro', 'usuario', 'puntuacion']], reader)\n",
    "trainset_model = data_train.build_full_trainset()"
   ]
  },
  {
   "cell_type": "code",
   "execution_count": 7,
   "metadata": {},
   "outputs": [
    {
     "output_type": "stream",
     "name": "stdout",
     "text": [
      "tiempo:  9.032744646072388\n"
     ]
    }
   ],
   "source": [
    "SVD_algo = SVD(n_factors= 70, n_epochs= 90, lr_all= 0.003, reg_all= 0.03, biased=True)\n",
    "t_0 = time.time()\n",
    "SVD_algo.fit(trainset_model)\n",
    "print (\"tiempo: \", time.time() - t_0)"
   ]
  },
  {
   "cell_type": "code",
   "execution_count": null,
   "metadata": {},
   "outputs": [],
   "source": []
  },
  {
   "cell_type": "code",
   "execution_count": 6,
   "metadata": {},
   "outputs": [
    {
     "output_type": "stream",
     "name": "stdout",
     "text": [
      "Computing the cosine similarity matrix...\n",
      "Done computing similarity matrix.\n",
      "tiempo:  0.7444663047790527\n"
     ]
    }
   ],
   "source": [
    "t_0 = time.time()\n",
    "so_Means = {'name': 'cosine', 'user_based': False}\n",
    "KNNWithMeans_algo = sp.prediction_algorithms.knns.KNNWithMeans(min_k=6, k=30, sim_options=so_Means)\n",
    "KNNWithMeans_algo.fit(trainset_model)\n",
    "print (\"tiempo: \", time.time() - t_0)"
   ]
  },
  {
   "cell_type": "code",
   "execution_count": null,
   "metadata": {},
   "outputs": [],
   "source": []
  },
  {
   "cell_type": "code",
   "execution_count": 7,
   "metadata": {},
   "outputs": [
    {
     "output_type": "stream",
     "name": "stdout",
     "text": [
      "10584\n42320\n"
     ]
    }
   ],
   "source": [
    "print(len(testset))\n",
    "print(len(trainset))"
   ]
  },
  {
   "cell_type": "code",
   "execution_count": 16,
   "metadata": {},
   "outputs": [
    {
     "output_type": "display_data",
     "data": {
      "text/plain": "HBox(children=(FloatProgress(value=1.0, bar_style='info', max=1.0), HTML(value='')))",
      "application/vnd.jupyter.widget-view+json": {
       "version_major": 2,
       "version_minor": 0,
       "model_id": "432f9073742e4ec9819287ae8b52532c"
      }
     },
     "metadata": {}
    },
    {
     "output_type": "stream",
     "name": "stdout",
     "text": [
      "\nSVD MSE:      1.5905\n"
     ]
    }
   ],
   "source": [
    "df_list_pred_SVD = pd.DataFrame(full_prediction(\"SVD\",SVD_algo,testset))"
   ]
  },
  {
   "cell_type": "code",
   "execution_count": 8,
   "metadata": {},
   "outputs": [
    {
     "output_type": "display_data",
     "data": {
      "text/plain": "HBox(children=(FloatProgress(value=1.0, bar_style='info', max=1.0), HTML(value='')))",
      "application/vnd.jupyter.widget-view+json": {
       "version_major": 2,
       "version_minor": 0,
       "model_id": "2ca74bb761aa4649aff673cb25d30363"
      }
     },
     "metadata": {}
    },
    {
     "output_type": "stream",
     "name": "stdout",
     "text": [
      "\n"
     ]
    }
   ],
   "source": [
    "df_list_pred_KNNWithMeans = pd.DataFrame(full_prediction(\"KNNWithMeans\",KNNWithMeans_algo,testset))"
   ]
  },
  {
   "cell_type": "code",
   "execution_count": 9,
   "metadata": {},
   "outputs": [
    {
     "output_type": "execute_result",
     "data": {
      "text/plain": [
       "                                             libro  puntuacion\n",
       "0                                        los-hijos        7.17\n",
       "1                      el-temor-de-un-hombre-sabio        8.34\n",
       "2                                   leon-bocanegra        7.48\n",
       "3                           el-caballero-errante-2        7.75\n",
       "4                                    el-mar-el-mar        7.17\n",
       "...                                            ...         ...\n",
       "10579                        la-princesa-prometida        8.67\n",
       "10580                               la-prima-bette        7.01\n",
       "10581  el-guardian-invisible-trilogia-del-baztan-1        7.46\n",
       "10582                              un-otono-romano        9.11\n",
       "10583                               mujer-de-barro        6.67\n",
       "\n",
       "[10584 rows x 2 columns]"
      ],
      "text/html": "<div>\n<style scoped>\n    .dataframe tbody tr th:only-of-type {\n        vertical-align: middle;\n    }\n\n    .dataframe tbody tr th {\n        vertical-align: top;\n    }\n\n    .dataframe thead th {\n        text-align: right;\n    }\n</style>\n<table border=\"1\" class=\"dataframe\">\n  <thead>\n    <tr style=\"text-align: right;\">\n      <th></th>\n      <th>libro</th>\n      <th>puntuacion</th>\n    </tr>\n  </thead>\n  <tbody>\n    <tr>\n      <th>0</th>\n      <td>los-hijos</td>\n      <td>7.17</td>\n    </tr>\n    <tr>\n      <th>1</th>\n      <td>el-temor-de-un-hombre-sabio</td>\n      <td>8.34</td>\n    </tr>\n    <tr>\n      <th>2</th>\n      <td>leon-bocanegra</td>\n      <td>7.48</td>\n    </tr>\n    <tr>\n      <th>3</th>\n      <td>el-caballero-errante-2</td>\n      <td>7.75</td>\n    </tr>\n    <tr>\n      <th>4</th>\n      <td>el-mar-el-mar</td>\n      <td>7.17</td>\n    </tr>\n    <tr>\n      <th>...</th>\n      <td>...</td>\n      <td>...</td>\n    </tr>\n    <tr>\n      <th>10579</th>\n      <td>la-princesa-prometida</td>\n      <td>8.67</td>\n    </tr>\n    <tr>\n      <th>10580</th>\n      <td>la-prima-bette</td>\n      <td>7.01</td>\n    </tr>\n    <tr>\n      <th>10581</th>\n      <td>el-guardian-invisible-trilogia-del-baztan-1</td>\n      <td>7.46</td>\n    </tr>\n    <tr>\n      <th>10582</th>\n      <td>un-otono-romano</td>\n      <td>9.11</td>\n    </tr>\n    <tr>\n      <th>10583</th>\n      <td>mujer-de-barro</td>\n      <td>6.67</td>\n    </tr>\n  </tbody>\n</table>\n<p>10584 rows × 2 columns</p>\n</div>"
     },
     "metadata": {},
     "execution_count": 9
    }
   ],
   "source": [
    "df_list_pred_KNNWithMeans"
   ]
  },
  {
   "cell_type": "code",
   "execution_count": 10,
   "metadata": {},
   "outputs": [
    {
     "output_type": "execute_result",
     "data": {
      "text/plain": [
       "          id                                        libro  usuario  \\\n",
       "0          1                                    los-hijos      201   \n",
       "1          2                  el-temor-de-un-hombre-sabio      299   \n",
       "2          3                               leon-bocanegra      126   \n",
       "3          4                       el-caballero-errante-2      107   \n",
       "4          5                                el-mar-el-mar       85   \n",
       "...      ...                                          ...      ...   \n",
       "10579  10580                        la-princesa-prometida      854   \n",
       "10580  10581                               la-prima-bette      216   \n",
       "10581  10582  el-guardian-invisible-trilogia-del-baztan-1      132   \n",
       "10582  10583                              un-otono-romano      133   \n",
       "10583  10584                               mujer-de-barro     2271   \n",
       "\n",
       "       puntuacion   svd  \n",
       "0             NaN  7.17  \n",
       "1             NaN  9.44  \n",
       "2             NaN  7.41  \n",
       "3             NaN  7.61  \n",
       "4             NaN  6.59  \n",
       "...           ...   ...  \n",
       "10579         NaN  8.57  \n",
       "10580         NaN  8.05  \n",
       "10581         NaN  6.90  \n",
       "10582         NaN  9.08  \n",
       "10583         NaN  5.50  \n",
       "\n",
       "[10584 rows x 5 columns]"
      ],
      "text/html": "<div>\n<style scoped>\n    .dataframe tbody tr th:only-of-type {\n        vertical-align: middle;\n    }\n\n    .dataframe tbody tr th {\n        vertical-align: top;\n    }\n\n    .dataframe thead th {\n        text-align: right;\n    }\n</style>\n<table border=\"1\" class=\"dataframe\">\n  <thead>\n    <tr style=\"text-align: right;\">\n      <th></th>\n      <th>id</th>\n      <th>libro</th>\n      <th>usuario</th>\n      <th>puntuacion</th>\n      <th>svd</th>\n    </tr>\n  </thead>\n  <tbody>\n    <tr>\n      <th>0</th>\n      <td>1</td>\n      <td>los-hijos</td>\n      <td>201</td>\n      <td>NaN</td>\n      <td>7.17</td>\n    </tr>\n    <tr>\n      <th>1</th>\n      <td>2</td>\n      <td>el-temor-de-un-hombre-sabio</td>\n      <td>299</td>\n      <td>NaN</td>\n      <td>9.44</td>\n    </tr>\n    <tr>\n      <th>2</th>\n      <td>3</td>\n      <td>leon-bocanegra</td>\n      <td>126</td>\n      <td>NaN</td>\n      <td>7.41</td>\n    </tr>\n    <tr>\n      <th>3</th>\n      <td>4</td>\n      <td>el-caballero-errante-2</td>\n      <td>107</td>\n      <td>NaN</td>\n      <td>7.61</td>\n    </tr>\n    <tr>\n      <th>4</th>\n      <td>5</td>\n      <td>el-mar-el-mar</td>\n      <td>85</td>\n      <td>NaN</td>\n      <td>6.59</td>\n    </tr>\n    <tr>\n      <th>...</th>\n      <td>...</td>\n      <td>...</td>\n      <td>...</td>\n      <td>...</td>\n      <td>...</td>\n    </tr>\n    <tr>\n      <th>10579</th>\n      <td>10580</td>\n      <td>la-princesa-prometida</td>\n      <td>854</td>\n      <td>NaN</td>\n      <td>8.57</td>\n    </tr>\n    <tr>\n      <th>10580</th>\n      <td>10581</td>\n      <td>la-prima-bette</td>\n      <td>216</td>\n      <td>NaN</td>\n      <td>8.05</td>\n    </tr>\n    <tr>\n      <th>10581</th>\n      <td>10582</td>\n      <td>el-guardian-invisible-trilogia-del-baztan-1</td>\n      <td>132</td>\n      <td>NaN</td>\n      <td>6.90</td>\n    </tr>\n    <tr>\n      <th>10582</th>\n      <td>10583</td>\n      <td>un-otono-romano</td>\n      <td>133</td>\n      <td>NaN</td>\n      <td>9.08</td>\n    </tr>\n    <tr>\n      <th>10583</th>\n      <td>10584</td>\n      <td>mujer-de-barro</td>\n      <td>2271</td>\n      <td>NaN</td>\n      <td>5.50</td>\n    </tr>\n  </tbody>\n</table>\n<p>10584 rows × 5 columns</p>\n</div>"
     },
     "metadata": {},
     "execution_count": 10
    }
   ],
   "source": [
    "df_test_svd = pd.read_csv('./data/test_svd.csv')\n",
    "df_test_svd"
   ]
  },
  {
   "cell_type": "code",
   "execution_count": 12,
   "metadata": {},
   "outputs": [
    {
     "output_type": "execute_result",
     "data": {
      "text/plain": [
       "          id                                        libro  usuario  \\\n",
       "0          1                                    los-hijos      201   \n",
       "1          2                  el-temor-de-un-hombre-sabio      299   \n",
       "2          3                               leon-bocanegra      126   \n",
       "3          4                       el-caballero-errante-2      107   \n",
       "4          5                                el-mar-el-mar       85   \n",
       "...      ...                                          ...      ...   \n",
       "10579  10580                        la-princesa-prometida      854   \n",
       "10580  10581                               la-prima-bette      216   \n",
       "10581  10582  el-guardian-invisible-trilogia-del-baztan-1      132   \n",
       "10582  10583                              un-otono-romano      133   \n",
       "10583  10584                               mujer-de-barro     2271   \n",
       "\n",
       "       puntuacion   svd   knn  \n",
       "0             NaN  7.17  7.17  \n",
       "1             NaN  9.44  8.34  \n",
       "2             NaN  7.41  7.48  \n",
       "3             NaN  7.61  7.75  \n",
       "4             NaN  6.59  7.17  \n",
       "...           ...   ...   ...  \n",
       "10579         NaN  8.57  8.67  \n",
       "10580         NaN  8.05  7.01  \n",
       "10581         NaN  6.90  7.46  \n",
       "10582         NaN  9.08  9.11  \n",
       "10583         NaN  5.50  6.67  \n",
       "\n",
       "[10584 rows x 6 columns]"
      ],
      "text/html": "<div>\n<style scoped>\n    .dataframe tbody tr th:only-of-type {\n        vertical-align: middle;\n    }\n\n    .dataframe tbody tr th {\n        vertical-align: top;\n    }\n\n    .dataframe thead th {\n        text-align: right;\n    }\n</style>\n<table border=\"1\" class=\"dataframe\">\n  <thead>\n    <tr style=\"text-align: right;\">\n      <th></th>\n      <th>id</th>\n      <th>libro</th>\n      <th>usuario</th>\n      <th>puntuacion</th>\n      <th>svd</th>\n      <th>knn</th>\n    </tr>\n  </thead>\n  <tbody>\n    <tr>\n      <th>0</th>\n      <td>1</td>\n      <td>los-hijos</td>\n      <td>201</td>\n      <td>NaN</td>\n      <td>7.17</td>\n      <td>7.17</td>\n    </tr>\n    <tr>\n      <th>1</th>\n      <td>2</td>\n      <td>el-temor-de-un-hombre-sabio</td>\n      <td>299</td>\n      <td>NaN</td>\n      <td>9.44</td>\n      <td>8.34</td>\n    </tr>\n    <tr>\n      <th>2</th>\n      <td>3</td>\n      <td>leon-bocanegra</td>\n      <td>126</td>\n      <td>NaN</td>\n      <td>7.41</td>\n      <td>7.48</td>\n    </tr>\n    <tr>\n      <th>3</th>\n      <td>4</td>\n      <td>el-caballero-errante-2</td>\n      <td>107</td>\n      <td>NaN</td>\n      <td>7.61</td>\n      <td>7.75</td>\n    </tr>\n    <tr>\n      <th>4</th>\n      <td>5</td>\n      <td>el-mar-el-mar</td>\n      <td>85</td>\n      <td>NaN</td>\n      <td>6.59</td>\n      <td>7.17</td>\n    </tr>\n    <tr>\n      <th>...</th>\n      <td>...</td>\n      <td>...</td>\n      <td>...</td>\n      <td>...</td>\n      <td>...</td>\n      <td>...</td>\n    </tr>\n    <tr>\n      <th>10579</th>\n      <td>10580</td>\n      <td>la-princesa-prometida</td>\n      <td>854</td>\n      <td>NaN</td>\n      <td>8.57</td>\n      <td>8.67</td>\n    </tr>\n    <tr>\n      <th>10580</th>\n      <td>10581</td>\n      <td>la-prima-bette</td>\n      <td>216</td>\n      <td>NaN</td>\n      <td>8.05</td>\n      <td>7.01</td>\n    </tr>\n    <tr>\n      <th>10581</th>\n      <td>10582</td>\n      <td>el-guardian-invisible-trilogia-del-baztan-1</td>\n      <td>132</td>\n      <td>NaN</td>\n      <td>6.90</td>\n      <td>7.46</td>\n    </tr>\n    <tr>\n      <th>10582</th>\n      <td>10583</td>\n      <td>un-otono-romano</td>\n      <td>133</td>\n      <td>NaN</td>\n      <td>9.08</td>\n      <td>9.11</td>\n    </tr>\n    <tr>\n      <th>10583</th>\n      <td>10584</td>\n      <td>mujer-de-barro</td>\n      <td>2271</td>\n      <td>NaN</td>\n      <td>5.50</td>\n      <td>6.67</td>\n    </tr>\n  </tbody>\n</table>\n<p>10584 rows × 6 columns</p>\n</div>"
     },
     "metadata": {},
     "execution_count": 12
    }
   ],
   "source": [
    "## SOLO para el caso del Test\n",
    "## libro | usuario | puntuacion | svd\n",
    "#df_test_svd['knn'] = df_list_pred_KNNWithMeans['puntuacion']\n",
    "#df_test_svd.to_csv(\"./data/test_svd.csv\", index=False)\n",
    "#df_test_svd"
   ]
  },
  {
   "cell_type": "code",
   "execution_count": 15,
   "metadata": {},
   "outputs": [
    {
     "output_type": "execute_result",
     "data": {
      "text/plain": [
       "                              libro  usuario  puntuacion   svd   knn\n",
       "0             el-maestro-de-esgrima      216         8.0  7.81  6.69\n",
       "1      el-angel-mas-tonto-del-mundo      288         3.0  3.40  6.92\n",
       "2                un-millon-de-gotas      300         7.0  7.02  7.25\n",
       "3                     el-resplandor      120        10.0  9.88  7.07\n",
       "4                          el-fuego     1122         5.0  5.19  6.30\n",
       "...                             ...      ...         ...   ...   ...\n",
       "42315   el-callejon-de-los-milagros     1079         8.0  8.02  8.19\n",
       "42316              ponte-en-mi-piel      151         8.0  7.71  6.81\n",
       "42317           veinte-anos-despues      169         7.0  7.05  6.79\n",
       "42318           la-herencia-de-wilt      216         6.0  6.25  7.01\n",
       "42319                un-mundo-feliz      874         8.0  8.06  7.75\n",
       "\n",
       "[42320 rows x 5 columns]"
      ],
      "text/html": "<div>\n<style scoped>\n    .dataframe tbody tr th:only-of-type {\n        vertical-align: middle;\n    }\n\n    .dataframe tbody tr th {\n        vertical-align: top;\n    }\n\n    .dataframe thead th {\n        text-align: right;\n    }\n</style>\n<table border=\"1\" class=\"dataframe\">\n  <thead>\n    <tr style=\"text-align: right;\">\n      <th></th>\n      <th>libro</th>\n      <th>usuario</th>\n      <th>puntuacion</th>\n      <th>svd</th>\n      <th>knn</th>\n    </tr>\n  </thead>\n  <tbody>\n    <tr>\n      <th>0</th>\n      <td>el-maestro-de-esgrima</td>\n      <td>216</td>\n      <td>8.0</td>\n      <td>7.81</td>\n      <td>6.69</td>\n    </tr>\n    <tr>\n      <th>1</th>\n      <td>el-angel-mas-tonto-del-mundo</td>\n      <td>288</td>\n      <td>3.0</td>\n      <td>3.40</td>\n      <td>6.92</td>\n    </tr>\n    <tr>\n      <th>2</th>\n      <td>un-millon-de-gotas</td>\n      <td>300</td>\n      <td>7.0</td>\n      <td>7.02</td>\n      <td>7.25</td>\n    </tr>\n    <tr>\n      <th>3</th>\n      <td>el-resplandor</td>\n      <td>120</td>\n      <td>10.0</td>\n      <td>9.88</td>\n      <td>7.07</td>\n    </tr>\n    <tr>\n      <th>4</th>\n      <td>el-fuego</td>\n      <td>1122</td>\n      <td>5.0</td>\n      <td>5.19</td>\n      <td>6.30</td>\n    </tr>\n    <tr>\n      <th>...</th>\n      <td>...</td>\n      <td>...</td>\n      <td>...</td>\n      <td>...</td>\n      <td>...</td>\n    </tr>\n    <tr>\n      <th>42315</th>\n      <td>el-callejon-de-los-milagros</td>\n      <td>1079</td>\n      <td>8.0</td>\n      <td>8.02</td>\n      <td>8.19</td>\n    </tr>\n    <tr>\n      <th>42316</th>\n      <td>ponte-en-mi-piel</td>\n      <td>151</td>\n      <td>8.0</td>\n      <td>7.71</td>\n      <td>6.81</td>\n    </tr>\n    <tr>\n      <th>42317</th>\n      <td>veinte-anos-despues</td>\n      <td>169</td>\n      <td>7.0</td>\n      <td>7.05</td>\n      <td>6.79</td>\n    </tr>\n    <tr>\n      <th>42318</th>\n      <td>la-herencia-de-wilt</td>\n      <td>216</td>\n      <td>6.0</td>\n      <td>6.25</td>\n      <td>7.01</td>\n    </tr>\n    <tr>\n      <th>42319</th>\n      <td>un-mundo-feliz</td>\n      <td>874</td>\n      <td>8.0</td>\n      <td>8.06</td>\n      <td>7.75</td>\n    </tr>\n  </tbody>\n</table>\n<p>42320 rows × 5 columns</p>\n</div>"
     },
     "metadata": {},
     "execution_count": 15
    }
   ],
   "source": [
    "## SOLO para el caso del Train\n",
    "# libro | usuario | puntuacion | svd\n",
    "#df_train_svd['knn'] = df_list_pred_KNNWithMeans['puntuacion']\n",
    "#df_train_svd.to_csv(\"./data/train_svd.csv\", index=False)\n",
    "#df_train_svd"
   ]
  },
  {
   "cell_type": "code",
   "execution_count": null,
   "metadata": {},
   "outputs": [],
   "source": []
  }
 ],
 "metadata": {
  "kernelspec": {
   "name": "python3",
   "display_name": "Python 3.7.5 64-bit ('base': conda)",
   "metadata": {
    "interpreter": {
     "hash": "9a37e5188a605e95d3282a4fb8007f4c3c52885d8cd12f2ffcfc398feaa7ff36"
    }
   }
  },
  "language_info": {
   "codemirror_mode": {
    "name": "ipython",
    "version": 3
   },
   "file_extension": ".py",
   "mimetype": "text/x-python",
   "name": "python",
   "nbconvert_exporter": "python",
   "pygments_lexer": "ipython3",
   "version": "3.7.5-final"
  }
 },
 "nbformat": 4,
 "nbformat_minor": 4
}