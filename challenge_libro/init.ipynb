{
 "cells": [
  {
   "cell_type": "code",
   "execution_count": 2,
   "metadata": {},
   "outputs": [],
   "source": [
    "import pandas as pd\n",
    "import time\n",
    "import pandas_profiling\n",
    "import numpy as np\n",
    "import math\n",
    "import seaborn as sns\n",
    "import numpy as np\n",
    "from sklearn import datasets\n",
    "from datetime import date, datetime\n",
    "from sklearn.metrics import mean_squared_error, r2_score\n",
    "from sklearn.model_selection import train_test_split\n",
    "from tqdm import tqdm, tqdm_notebook\n",
    "from xgboost import XGBRegressor\n",
    "from sklearn.linear_model import LinearRegression\n",
    "import warnings, sys, os, gc\n",
    "\n",
    "import surprise as sp\n",
    "from surprise.model_selection import cross_validate\n",
    "from surprise.model_selection import GridSearchCV, RandomizedSearchCV\n",
    "from surprise import KNNBasic, KNNWithMeans, KNNWithZScore, SVD, NMF\n"
   ]
  },
  {
   "source": [
    "## Carga Parcial"
   ],
   "cell_type": "markdown",
   "metadata": {}
  },
  {
   "cell_type": "code",
   "execution_count": 92,
   "metadata": {},
   "outputs": [],
   "source": [
    "df_libros = pd.read_csv('./data/libros.csv')\n",
    "df_usr = pd.read_csv('./data/usuarios.csv')\n",
    "df_train = pd.read_csv('./data/opiniones_train.csv')\n",
    "df_test = pd.read_csv('./data/opiniones_test.csv')"
   ]
  },
  {
   "source": [
    "## Regresion Lineal"
   ],
   "cell_type": "markdown",
   "metadata": {}
  },
  {
   "cell_type": "code",
   "execution_count": 46,
   "metadata": {},
   "outputs": [
    {
     "output_type": "execute_result",
     "data": {
      "text/plain": [
       "   anio                      autor     editorial                    genero  \\\n",
       "0  2007              Mutis, Álvaro    DEBOLSILLO         Ficción literaria   \n",
       "1  2016        Ruiz García, Daniel      TUSQUETS                 Narrativa   \n",
       "2  2015             Spanbauer, Tom  RANDOM HOUSE  Literatura contemporánea   \n",
       "3  2012                Day, Sylvia        ESPASA        Romántica, erótica   \n",
       "4  2014  Scott Fitzgerald, Francis       ALIANZA  Literatura contemporánea   \n",
       "\n",
       "    idioma           isbn                                           libro  \\\n",
       "0  Español  9788483464045  empresas-y-tribulaciones-de-magroll-el-gaviero   \n",
       "1  Español  9788490663325                                     la-gran-ola   \n",
       "2  Español  9788439730378                                 yo-te-quise-mas   \n",
       "3  Español  9788467009651                              no-te-escondo-nada   \n",
       "4  Español  9788420683614                         a-este-lado-del-paraiso   \n",
       "\n",
       "                                             resumen  \\\n",
       "0  Reúne en dos volúmenes las siete novelas que c...   \n",
       "1  Julián Márquez está al límite. Y no sólo por s...   \n",
       "2  Ben fue un iluso al creer que podría amar a un...   \n",
       "3  «Gideon Cross apareció en mi vida como un rayo...   \n",
       "4  La figura de Francis Scott Fitzgerald (1890-19...   \n",
       "\n",
       "                                           titulo  \n",
       "0  EMPRESAS Y TRIBULACIONES DE MAGROLL EL GAVIERO  \n",
       "1                                     LA GRAN OLA  \n",
       "2                                 YO TE QUISE MÁS  \n",
       "3                              NO TE ESCONDO NADA  \n",
       "4                         A ESTE LADO DEL PARAÍSO  "
      ],
      "text/html": "<div>\n<style scoped>\n    .dataframe tbody tr th:only-of-type {\n        vertical-align: middle;\n    }\n\n    .dataframe tbody tr th {\n        vertical-align: top;\n    }\n\n    .dataframe thead th {\n        text-align: right;\n    }\n</style>\n<table border=\"1\" class=\"dataframe\">\n  <thead>\n    <tr style=\"text-align: right;\">\n      <th></th>\n      <th>anio</th>\n      <th>autor</th>\n      <th>editorial</th>\n      <th>genero</th>\n      <th>idioma</th>\n      <th>isbn</th>\n      <th>libro</th>\n      <th>resumen</th>\n      <th>titulo</th>\n    </tr>\n  </thead>\n  <tbody>\n    <tr>\n      <th>0</th>\n      <td>2007</td>\n      <td>Mutis, Álvaro</td>\n      <td>DEBOLSILLO</td>\n      <td>Ficción literaria</td>\n      <td>Español</td>\n      <td>9788483464045</td>\n      <td>empresas-y-tribulaciones-de-magroll-el-gaviero</td>\n      <td>Reúne en dos volúmenes las siete novelas que c...</td>\n      <td>EMPRESAS Y TRIBULACIONES DE MAGROLL EL GAVIERO</td>\n    </tr>\n    <tr>\n      <th>1</th>\n      <td>2016</td>\n      <td>Ruiz García, Daniel</td>\n      <td>TUSQUETS</td>\n      <td>Narrativa</td>\n      <td>Español</td>\n      <td>9788490663325</td>\n      <td>la-gran-ola</td>\n      <td>Julián Márquez está al límite. Y no sólo por s...</td>\n      <td>LA GRAN OLA</td>\n    </tr>\n    <tr>\n      <th>2</th>\n      <td>2015</td>\n      <td>Spanbauer, Tom</td>\n      <td>RANDOM HOUSE</td>\n      <td>Literatura contemporánea</td>\n      <td>Español</td>\n      <td>9788439730378</td>\n      <td>yo-te-quise-mas</td>\n      <td>Ben fue un iluso al creer que podría amar a un...</td>\n      <td>YO TE QUISE MÁS</td>\n    </tr>\n    <tr>\n      <th>3</th>\n      <td>2012</td>\n      <td>Day, Sylvia</td>\n      <td>ESPASA</td>\n      <td>Romántica, erótica</td>\n      <td>Español</td>\n      <td>9788467009651</td>\n      <td>no-te-escondo-nada</td>\n      <td>«Gideon Cross apareció en mi vida como un rayo...</td>\n      <td>NO TE ESCONDO NADA</td>\n    </tr>\n    <tr>\n      <th>4</th>\n      <td>2014</td>\n      <td>Scott Fitzgerald, Francis</td>\n      <td>ALIANZA</td>\n      <td>Literatura contemporánea</td>\n      <td>Español</td>\n      <td>9788420683614</td>\n      <td>a-este-lado-del-paraiso</td>\n      <td>La figura de Francis Scott Fitzgerald (1890-19...</td>\n      <td>A ESTE LADO DEL PARAÍSO</td>\n    </tr>\n  </tbody>\n</table>\n</div>"
     },
     "metadata": {},
     "execution_count": 46
    }
   ],
   "source": [
    "df_libros.head()"
   ]
  },
  {
   "cell_type": "code",
   "execution_count": 115,
   "metadata": {},
   "outputs": [
    {
     "output_type": "execute_result",
     "data": {
      "text/plain": [
       "anio                                                      2007\n",
       "autor                                            Mutis, Álvaro\n",
       "editorial                                           DEBOLSILLO\n",
       "genero                                       Ficción literaria\n",
       "idioma                                                 Español\n",
       "isbn                                             9788483464045\n",
       "libro           empresas-y-tribulaciones-de-magroll-el-gaviero\n",
       "resumen      Reúne en dos volúmenes las siete novelas que c...\n",
       "titulo          EMPRESAS Y TRIBULACIONES DE MAGROLL EL GAVIERO\n",
       "Name: 0, dtype: object"
      ]
     },
     "metadata": {},
     "execution_count": 115
    }
   ],
   "source": [
    "df_libros.loc[0]"
   ]
  },
  {
   "cell_type": "code",
   "execution_count": 59,
   "metadata": {},
   "outputs": [
    {
     "output_type": "execute_result",
     "data": {
      "text/plain": [
       "'9788420472485'"
      ]
     },
     "metadata": {},
     "execution_count": 59
    }
   ],
   "source": [
    "isbn = df_libros.loc[df_libros['libro'] == 'el-maestro-de-esgrima']['isbn'].values[0]\n",
    "isbn\n",
    "#df_ratings_usuario = df_ratings[df_ratings[\"userID\"] == USUARIO].merge(df_movies, left_on=\"movieID\", right_on=\"id\")\n"
   ]
  },
  {
   "cell_type": "code",
   "execution_count": 74,
   "metadata": {},
   "outputs": [
    {
     "output_type": "execute_result",
     "data": {
      "text/plain": [
       "'la-gran-ola'"
      ]
     },
     "metadata": {},
     "execution_count": 74
    }
   ],
   "source": [
    "df_libros['libro'][1]"
   ]
  },
  {
   "cell_type": "code",
   "execution_count": 96,
   "metadata": {},
   "outputs": [
    {
     "output_type": "execute_result",
     "data": {
      "text/plain": [
       "               libro  usuario  puntuacion\n",
       "0      9788420472485      216         8.0\n",
       "1      9788498002782      288         3.0\n",
       "2      9788423348138      300         7.0\n",
       "3      9788490328729      120        10.0\n",
       "4      9788401336430     1122         5.0\n",
       "...              ...      ...         ...\n",
       "42315  9788427032118     1079         8.0\n",
       "42316  9788467053418      151         8.0\n",
       "42317  9788439710417      169         7.0\n",
       "42318  9788433923981      216         6.0\n",
       "42319  9788435033404      874         8.0\n",
       "\n",
       "[42320 rows x 3 columns]"
      ],
      "text/html": "<div>\n<style scoped>\n    .dataframe tbody tr th:only-of-type {\n        vertical-align: middle;\n    }\n\n    .dataframe tbody tr th {\n        vertical-align: top;\n    }\n\n    .dataframe thead th {\n        text-align: right;\n    }\n</style>\n<table border=\"1\" class=\"dataframe\">\n  <thead>\n    <tr style=\"text-align: right;\">\n      <th></th>\n      <th>libro</th>\n      <th>usuario</th>\n      <th>puntuacion</th>\n    </tr>\n  </thead>\n  <tbody>\n    <tr>\n      <th>0</th>\n      <td>9788420472485</td>\n      <td>216</td>\n      <td>8.0</td>\n    </tr>\n    <tr>\n      <th>1</th>\n      <td>9788498002782</td>\n      <td>288</td>\n      <td>3.0</td>\n    </tr>\n    <tr>\n      <th>2</th>\n      <td>9788423348138</td>\n      <td>300</td>\n      <td>7.0</td>\n    </tr>\n    <tr>\n      <th>3</th>\n      <td>9788490328729</td>\n      <td>120</td>\n      <td>10.0</td>\n    </tr>\n    <tr>\n      <th>4</th>\n      <td>9788401336430</td>\n      <td>1122</td>\n      <td>5.0</td>\n    </tr>\n    <tr>\n      <th>...</th>\n      <td>...</td>\n      <td>...</td>\n      <td>...</td>\n    </tr>\n    <tr>\n      <th>42315</th>\n      <td>9788427032118</td>\n      <td>1079</td>\n      <td>8.0</td>\n    </tr>\n    <tr>\n      <th>42316</th>\n      <td>9788467053418</td>\n      <td>151</td>\n      <td>8.0</td>\n    </tr>\n    <tr>\n      <th>42317</th>\n      <td>9788439710417</td>\n      <td>169</td>\n      <td>7.0</td>\n    </tr>\n    <tr>\n      <th>42318</th>\n      <td>9788433923981</td>\n      <td>216</td>\n      <td>6.0</td>\n    </tr>\n    <tr>\n      <th>42319</th>\n      <td>9788435033404</td>\n      <td>874</td>\n      <td>8.0</td>\n    </tr>\n  </tbody>\n</table>\n<p>42320 rows × 3 columns</p>\n</div>"
     },
     "metadata": {},
     "execution_count": 96
    }
   ],
   "source": [
    "#prueba['libro'] = prueba['libro'].map(df_libros.set_index('libro')['isbn'])\n",
    "prueba"
   ]
  },
  {
   "cell_type": "code",
   "execution_count": 108,
   "metadata": {},
   "outputs": [
    {
     "output_type": "execute_result",
     "data": {
      "text/plain": [
       "libro         20\n",
       "usuario        0\n",
       "puntuacion     0\n",
       "dtype: int64"
      ]
     },
     "metadata": {},
     "execution_count": 108
    }
   ],
   "source": [
    "prueba.dropna\n",
    "prueba.isna().sum()"
   ]
  },
  {
   "cell_type": "code",
   "execution_count": 104,
   "metadata": {},
   "outputs": [
    {
     "output_type": "execute_result",
     "data": {
      "text/plain": [
       "anio           4\n",
       "autor          4\n",
       "editorial      9\n",
       "genero         9\n",
       "idioma       106\n",
       "isbn           6\n",
       "libro          0\n",
       "resumen      364\n",
       "titulo         4\n",
       "dtype: int64"
      ]
     },
     "metadata": {},
     "execution_count": 104
    }
   ],
   "source": [
    "df_libros.isna().sum()\n"
   ]
  },
  {
   "cell_type": "code",
   "execution_count": 15,
   "metadata": {},
   "outputs": [
    {
     "output_type": "execute_result",
     "data": {
      "text/plain": [
       "                              libro  usuario\n",
       "0             el-maestro-de-esgrima      216\n",
       "1      el-angel-mas-tonto-del-mundo      288\n",
       "2                un-millon-de-gotas      300\n",
       "3                     el-resplandor      120\n",
       "4                          el-fuego     1122\n",
       "...                             ...      ...\n",
       "42315   el-callejon-de-los-milagros     1079\n",
       "42316              ponte-en-mi-piel      151\n",
       "42317           veinte-anos-despues      169\n",
       "42318           la-herencia-de-wilt      216\n",
       "42319                un-mundo-feliz      874\n",
       "\n",
       "[42320 rows x 2 columns]"
      ],
      "text/html": "<div>\n<style scoped>\n    .dataframe tbody tr th:only-of-type {\n        vertical-align: middle;\n    }\n\n    .dataframe tbody tr th {\n        vertical-align: top;\n    }\n\n    .dataframe thead th {\n        text-align: right;\n    }\n</style>\n<table border=\"1\" class=\"dataframe\">\n  <thead>\n    <tr style=\"text-align: right;\">\n      <th></th>\n      <th>libro</th>\n      <th>usuario</th>\n    </tr>\n  </thead>\n  <tbody>\n    <tr>\n      <th>0</th>\n      <td>el-maestro-de-esgrima</td>\n      <td>216</td>\n    </tr>\n    <tr>\n      <th>1</th>\n      <td>el-angel-mas-tonto-del-mundo</td>\n      <td>288</td>\n    </tr>\n    <tr>\n      <th>2</th>\n      <td>un-millon-de-gotas</td>\n      <td>300</td>\n    </tr>\n    <tr>\n      <th>3</th>\n      <td>el-resplandor</td>\n      <td>120</td>\n    </tr>\n    <tr>\n      <th>4</th>\n      <td>el-fuego</td>\n      <td>1122</td>\n    </tr>\n    <tr>\n      <th>...</th>\n      <td>...</td>\n      <td>...</td>\n    </tr>\n    <tr>\n      <th>42315</th>\n      <td>el-callejon-de-los-milagros</td>\n      <td>1079</td>\n    </tr>\n    <tr>\n      <th>42316</th>\n      <td>ponte-en-mi-piel</td>\n      <td>151</td>\n    </tr>\n    <tr>\n      <th>42317</th>\n      <td>veinte-anos-despues</td>\n      <td>169</td>\n    </tr>\n    <tr>\n      <th>42318</th>\n      <td>la-herencia-de-wilt</td>\n      <td>216</td>\n    </tr>\n    <tr>\n      <th>42319</th>\n      <td>un-mundo-feliz</td>\n      <td>874</td>\n    </tr>\n  </tbody>\n</table>\n<p>42320 rows × 2 columns</p>\n</div>"
     },
     "metadata": {},
     "execution_count": 15
    }
   ],
   "source": [
    "df_train[['libro', 'usuario']]"
   ]
  },
  {
   "cell_type": "code",
   "execution_count": 128,
   "metadata": {},
   "outputs": [],
   "source": [
    "nan_value = float(\"NaN\")\n",
    "prueba.replace(\"\", nan_value, inplace=True)\n",
    "prueba.dropna(subset = [\"libro\"], inplace=True)"
   ]
  },
  {
   "cell_type": "code",
   "execution_count": 132,
   "metadata": {},
   "outputs": [],
   "source": [
    "prueba = pd.read_csv('./submission/prueba.csv')"
   ]
  },
  {
   "cell_type": "code",
   "execution_count": 133,
   "metadata": {},
   "outputs": [
    {
     "output_type": "stream",
     "name": "stdout",
     "text": [
      "train:  29333 29333\n",
      "test:   12572 12572\n",
      "Mean squared error: 2.7220\n",
      "Mean squared error: 3.0153\n"
     ]
    }
   ],
   "source": [
    "full_x = prueba[['libro', 'usuario']]\n",
    "full_y = prueba[['puntuacion']]\n",
    "X_train, X_test, y_train, y_test = train_test_split(full_x, full_y, test_size=0.3, random_state=0)\n",
    "print(\"train: \",len(X_train),len(y_train))\n",
    "print(\"test:  \",len(X_test),len(y_test))\n",
    "# Creo regresion lineal\n",
    "model_avg = LinearRegression()\n",
    "model_abc = XGBRegressor()\n",
    "# Entreno el modelo usando el conjunto de TRAIN\n",
    "model_avg.fit(X_train, y_train)\n",
    "model_abc.fit(X_train, y_train)\n",
    "\n",
    "# Hago predicciones usando el TEST \n",
    "prediction_avg = model_avg.predict(X_test)\n",
    "prediction_abc = model_abc.predict(X_test)\n",
    "#ECM\n",
    "print('Mean squared error: %.4f' % mean_squared_error(y_test, prediction_abc))\n",
    "print('Mean squared error: %.4f' % mean_squared_error(y_test, prediction_avg))\n",
    "#train:  29624 29624\n",
    "#test:   12696 12696\n",
    "#Mean squared error: 3.0050"
   ]
  },
  {
   "source": [
    "### Surprise"
   ],
   "cell_type": "markdown",
   "metadata": {}
  },
  {
   "cell_type": "code",
   "execution_count": 3,
   "metadata": {},
   "outputs": [],
   "source": [
    "#df_libros = pd.read_csv('./data/libros.csv')\n",
    "df_train = pd.read_csv('./data/opiniones_train.csv')\n",
    "df_test = pd.read_csv('./data/opiniones_test.csv')"
   ]
  },
  {
   "cell_type": "code",
   "execution_count": 65,
   "metadata": {},
   "outputs": [
    {
     "output_type": "stream",
     "name": "stdout",
     "text": [
      "(42320, 3) (10584, 4)\n"
     ]
    }
   ],
   "source": [
    "#trainset, testset = train_test_split(df_train, test_size=0.30)\n",
    "trainset = df_train\n",
    "testset = df_test\n",
    "print(trainset.shape, testset.shape)"
   ]
  },
  {
   "cell_type": "code",
   "execution_count": 66,
   "metadata": {},
   "outputs": [],
   "source": [
    "reader = sp.reader.Reader(rating_scale=(1, 10))\n",
    "\n",
    "data= sp.dataset.Dataset.load_from_df(trainset[['libro', 'usuario', 'puntuacion']], reader)"
   ]
  },
  {
   "cell_type": "code",
   "execution_count": 67,
   "metadata": {},
   "outputs": [],
   "source": [
    "# opciones del algoritmo\n",
    "sim_options = {\n",
    "    'name': 'cosine', \n",
    "    'user_based': True, \n",
    "    'min_support': 1,\n",
    "}\n",
    "\n",
    "\n",
    "\n",
    "#KNNBasic\n",
    "#RMSE = {'min_k': 6, 'k': 50, 'sim_options': {'name': 'cosine', 'min_support': 1, 'user_based': True}}\n",
    "\n",
    "\n",
    "\n",
    "# opciones del algoritmo\n",
    "param_grid_svd = {'n_factors': [80, 90, 100, 110, 120], 'n_epochs': [10, 15, 20, 25, 30], 'lr_all': [0.001, 0.003, 0.005, 0.008],\n",
    "              'reg_all': [0.01, 0.02, 0.03]}\n",
    "\n",
    "\n",
    "KNN_algo = sp.prediction_algorithms.knns.KNNBasic(k=50, min_k=6, sim_options=sim_options)\n",
    "\n",
    "SVD_algo = SVD(n_factors= 120, n_epochs= 10, lr_all= 0.008, reg_all= 0.03)\n",
    "# RMSE = {'n_factors': 90, 'n_epochs': 30, 'lr_all': 0.003, 'reg_all': 0.03}\n",
    "# RMSE = {'n_factors': 120, 'n_epochs': 10, 'lr_all': 0.008, 'reg_all': 0.03}"
   ]
  },
  {
   "cell_type": "code",
   "execution_count": 68,
   "metadata": {},
   "outputs": [],
   "source": [
    "trainset_model = data.build_full_trainset()"
   ]
  },
  {
   "cell_type": "code",
   "execution_count": 218,
   "metadata": {},
   "outputs": [
    {
     "output_type": "stream",
     "name": "stdout",
     "text": [
      "SVD\nRMSE = {'n_factors': 120, 'n_epochs': 10, 'lr_all': 0.008, 'reg_all': 0.03}\ntiempo:  92.61084079742432\n"
     ]
    }
   ],
   "source": [
    "t_0 = time.time()\n",
    "svd_rs = RandomizedSearchCV(SVD, param_grid_svd, measures=['rmse', 'mae'],n_iter=20, n_jobs=-1)\n",
    "svd_rs.fit(data)\n",
    "print(\"SVD\")\n",
    "print('RMSE =', svd_rs.best_params['rmse']) \n",
    "print (\"tiempo: \", time.time() - t_0)"
   ]
  },
  {
   "cell_type": "code",
   "execution_count": 69,
   "metadata": {},
   "outputs": [
    {
     "output_type": "stream",
     "name": "stdout",
     "text": [
      "tiempo:  1.9440243244171143\n"
     ]
    }
   ],
   "source": [
    "t_0 = time.time()\n",
    "pred_SVD = SVD_algo.fit(trainset_model)\n",
    "print (\"tiempo: \", time.time() - t_0)"
   ]
  },
  {
   "cell_type": "code",
   "execution_count": 41,
   "metadata": {},
   "outputs": [
    {
     "output_type": "stream",
     "name": "stdout",
     "text": [
      "Computing the cosine similarity matrix...\n",
      "Done computing similarity matrix.\n",
      "tiempo:  21.34980797767639\n"
     ]
    }
   ],
   "source": [
    "t_0 = time.time()\n",
    "pred_KNN = KNN_algo.fit(trainset_model)\n",
    "print (\"tiempo: \", time.time() - t_0)"
   ]
  },
  {
   "cell_type": "code",
   "execution_count": 70,
   "metadata": {},
   "outputs": [
    {
     "output_type": "stream",
     "name": "stdout",
     "text": [
      "10584\n"
     ]
    }
   ],
   "source": [
    "print(len(testset))"
   ]
  },
  {
   "cell_type": "code",
   "execution_count": 71,
   "metadata": {},
   "outputs": [
    {
     "output_type": "execute_result",
     "data": {
      "text/plain": [
       "   id                        libro  usuario  puntuacion\n",
       "0   1                    los-hijos      201         NaN\n",
       "1   2  el-temor-de-un-hombre-sabio      299         NaN\n",
       "2   3               leon-bocanegra      126         NaN\n",
       "3   4       el-caballero-errante-2      107         NaN\n",
       "4   5                el-mar-el-mar       85         NaN"
      ],
      "text/html": "<div>\n<style scoped>\n    .dataframe tbody tr th:only-of-type {\n        vertical-align: middle;\n    }\n\n    .dataframe tbody tr th {\n        vertical-align: top;\n    }\n\n    .dataframe thead th {\n        text-align: right;\n    }\n</style>\n<table border=\"1\" class=\"dataframe\">\n  <thead>\n    <tr style=\"text-align: right;\">\n      <th></th>\n      <th>id</th>\n      <th>libro</th>\n      <th>usuario</th>\n      <th>puntuacion</th>\n    </tr>\n  </thead>\n  <tbody>\n    <tr>\n      <th>0</th>\n      <td>1</td>\n      <td>los-hijos</td>\n      <td>201</td>\n      <td>NaN</td>\n    </tr>\n    <tr>\n      <th>1</th>\n      <td>2</td>\n      <td>el-temor-de-un-hombre-sabio</td>\n      <td>299</td>\n      <td>NaN</td>\n    </tr>\n    <tr>\n      <th>2</th>\n      <td>3</td>\n      <td>leon-bocanegra</td>\n      <td>126</td>\n      <td>NaN</td>\n    </tr>\n    <tr>\n      <th>3</th>\n      <td>4</td>\n      <td>el-caballero-errante-2</td>\n      <td>107</td>\n      <td>NaN</td>\n    </tr>\n    <tr>\n      <th>4</th>\n      <td>5</td>\n      <td>el-mar-el-mar</td>\n      <td>85</td>\n      <td>NaN</td>\n    </tr>\n  </tbody>\n</table>\n</div>"
     },
     "metadata": {},
     "execution_count": 71
    }
   ],
   "source": [
    "testset.head()"
   ]
  },
  {
   "cell_type": "code",
   "execution_count": 72,
   "metadata": {},
   "outputs": [],
   "source": [
    "def full_prediction(algo_name,algoritmo,test):\n",
    "    list_pred = []\n",
    "    for index, row in tqdm_notebook(test.iterrows()):\n",
    "        row_pred = dict()\n",
    "        uid = row.libro\n",
    "        iid = row.usuario\n",
    "        pred = algoritmo.predict(uid, iid, verbose=False)\n",
    "        row_pred[\"id\"] = row.id\n",
    "        #row_pred[\"id\"] = row.libro\n",
    "        row_pred[\"puntuacion\"] = np.around(pred.est, 2)\n",
    "        list_pred.append(row_pred)\n",
    "    #print(row.ID.astype(int))\n",
    "    df = pd.DataFrame(list_pred)    \n",
    "    \n",
    "    #print(algo_name + \" MSE:      %.4f\" % np.sqrt(mean_squared_error(test.puntuacion, df.puntuacion)))\n",
    "    return list_pred"
   ]
  },
  {
   "cell_type": "code",
   "execution_count": 73,
   "metadata": {},
   "outputs": [
    {
     "output_type": "display_data",
     "data": {
      "text/plain": "HBox(children=(FloatProgress(value=1.0, bar_style='info', max=1.0), HTML(value='')))",
      "application/vnd.jupyter.widget-view+json": {
       "version_major": 2,
       "version_minor": 0,
       "model_id": "f0e550b53be34fabbf4c0d32b5ee07a3"
      }
     },
     "metadata": {}
    },
    {
     "output_type": "stream",
     "name": "stdout",
     "text": [
      "\n"
     ]
    }
   ],
   "source": [
    "df_list_pred_SVD = pd.DataFrame(full_prediction(\"SVD\",SVD_algo,testset))\n",
    "#df_list_pred_KNN = pd.DataFrame(full_prediction(\"KNN\",KNN_algo,testset))"
   ]
  },
  {
   "source": [
    "## KNN"
   ],
   "cell_type": "markdown",
   "metadata": {}
  },
  {
   "cell_type": "code",
   "execution_count": 74,
   "metadata": {},
   "outputs": [
    {
     "output_type": "execute_result",
     "data": {
      "text/plain": [
       "          id  puntuacion\n",
       "0          1        7.11\n",
       "1          2        9.08\n",
       "2          3        7.81\n",
       "3          4        7.68\n",
       "4          5        6.63\n",
       "...      ...         ...\n",
       "10579  10580        8.13\n",
       "10580  10581        6.32\n",
       "10581  10582        7.27\n",
       "10582  10583        9.25\n",
       "10583  10584        6.26\n",
       "\n",
       "[10584 rows x 2 columns]"
      ],
      "text/html": "<div>\n<style scoped>\n    .dataframe tbody tr th:only-of-type {\n        vertical-align: middle;\n    }\n\n    .dataframe tbody tr th {\n        vertical-align: top;\n    }\n\n    .dataframe thead th {\n        text-align: right;\n    }\n</style>\n<table border=\"1\" class=\"dataframe\">\n  <thead>\n    <tr style=\"text-align: right;\">\n      <th></th>\n      <th>id</th>\n      <th>puntuacion</th>\n    </tr>\n  </thead>\n  <tbody>\n    <tr>\n      <th>0</th>\n      <td>1</td>\n      <td>7.11</td>\n    </tr>\n    <tr>\n      <th>1</th>\n      <td>2</td>\n      <td>9.08</td>\n    </tr>\n    <tr>\n      <th>2</th>\n      <td>3</td>\n      <td>7.81</td>\n    </tr>\n    <tr>\n      <th>3</th>\n      <td>4</td>\n      <td>7.68</td>\n    </tr>\n    <tr>\n      <th>4</th>\n      <td>5</td>\n      <td>6.63</td>\n    </tr>\n    <tr>\n      <th>...</th>\n      <td>...</td>\n      <td>...</td>\n    </tr>\n    <tr>\n      <th>10579</th>\n      <td>10580</td>\n      <td>8.13</td>\n    </tr>\n    <tr>\n      <th>10580</th>\n      <td>10581</td>\n      <td>6.32</td>\n    </tr>\n    <tr>\n      <th>10581</th>\n      <td>10582</td>\n      <td>7.27</td>\n    </tr>\n    <tr>\n      <th>10582</th>\n      <td>10583</td>\n      <td>9.25</td>\n    </tr>\n    <tr>\n      <th>10583</th>\n      <td>10584</td>\n      <td>6.26</td>\n    </tr>\n  </tbody>\n</table>\n<p>10584 rows × 2 columns</p>\n</div>"
     },
     "metadata": {},
     "execution_count": 74
    }
   ],
   "source": [
    "df_list_pred_SVD"
   ]
  },
  {
   "cell_type": "code",
   "execution_count": 75,
   "metadata": {},
   "outputs": [],
   "source": [
    "df_list_pred_KNN.to_csv(\"./submission/ignacio_submit_SVD.csv\", index=False)"
   ]
  },
  {
   "cell_type": "code",
   "execution_count": null,
   "metadata": {},
   "outputs": [],
   "source": []
  }
 ],
 "metadata": {
  "kernelspec": {
   "name": "python3",
   "display_name": "Python 3.7.5 64-bit ('base': conda)",
   "metadata": {
    "interpreter": {
     "hash": "9a37e5188a605e95d3282a4fb8007f4c3c52885d8cd12f2ffcfc398feaa7ff36"
    }
   }
  },
  "language_info": {
   "codemirror_mode": {
    "name": "ipython",
    "version": 3
   },
   "file_extension": ".py",
   "mimetype": "text/x-python",
   "name": "python",
   "nbconvert_exporter": "python",
   "pygments_lexer": "ipython3",
   "version": "3.7.5-final"
  }
 },
 "nbformat": 4,
 "nbformat_minor": 4
}