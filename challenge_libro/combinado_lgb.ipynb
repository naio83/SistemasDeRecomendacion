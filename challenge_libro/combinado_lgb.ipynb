{
 "cells": [
  {
   "cell_type": "code",
   "execution_count": 1,
   "metadata": {},
   "outputs": [],
   "source": [
    "import lightgbm as lgb\n",
    "import pandas as pd\n",
    "import numpy as np\n",
    "from sklearn.metrics import mean_squared_error\n",
    "from sklearn.model_selection import train_test_split\n",
    "from tqdm import tqdm, tqdm_notebook\n",
    "from xgboost import XGBRegressor\n",
    "import warnings, sys, os, gc"
   ]
  },
  {
   "source": [
    "## Carga Parcial"
   ],
   "cell_type": "markdown",
   "metadata": {}
  },
  {
   "cell_type": "code",
   "execution_count": 6,
   "metadata": {},
   "outputs": [
    {
     "output_type": "stream",
     "name": "stdout",
     "text": [
      "(42320, 5) (10584, 6)\n"
     ]
    }
   ],
   "source": [
    "#df_train = pd.read_csv('./data/opiniones_train.csv')\n",
    "#df_test = pd.read_csv('./data/opiniones_test.csv')\n",
    "#df_libros = pd.read_csv('./data/libros.csv')\n",
    "df_train = pd.read_csv('./data/train_svd.csv')\n",
    "df_test = pd.read_csv('./data/test_svd.csv')\n",
    "print(df_train.shape, df_test.shape)"
   ]
  },
  {
   "source": [
    "## Preprocesamiento"
   ],
   "cell_type": "markdown",
   "metadata": {}
  },
  {
   "cell_type": "code",
   "execution_count": 20,
   "metadata": {},
   "outputs": [],
   "source": [
    "def write_submit(df_test,prediccion,fileName):\n",
    "    submit = pd.DataFrame({'id':df_test.id})\n",
    "    submit['puntuacion'] = pd.DataFrame(np.around(prediccion, 2))\n",
    "    submit.head()\n",
    "    len(submit)\n",
    "    submit.to_csv(\"./submission/\"+fileName+\".csv\", index=False)"
   ]
  },
  {
   "cell_type": "code",
   "execution_count": 3,
   "metadata": {},
   "outputs": [],
   "source": [
    "## Cambio sring del nombre del libro por isbn\n",
    "## Elimino libros con valores na,\"Español\", \"/\", \"B\" y \"q\"\n",
    "#train = df_train\n",
    "#print(len(train))\n",
    "#train['libro'] = train['libro'].map(df_libros.set_index('libro')['isbn'])\n",
    "#train = train[train['libro'].notna()]\n",
    "#train = train[~train.libro.str.contains(\"Español\")]\n",
    "#train = train[~train.libro.str.contains(\"/\")]\n",
    "#train = train[~train.libro.str.contains(\"B\")]\n",
    "#train = train[~train.libro.str.contains(\"-\")]\n",
    "#train = train[~train.libro.str.contains(\"q\")]\n",
    "#train = train[~train.libro.str.contains(\" \")]\n",
    "#train['libro'] = train['libro'].astype(int)\n",
    "#print(len(train))\n",
    "##Check para ver si son todos numericos\n",
    "##train.applymap(np.isreal).sum()"
   ]
  },
  {
   "cell_type": "code",
   "execution_count": 11,
   "metadata": {},
   "outputs": [],
   "source": [
    "train = df_train\n",
    "test = df_test\n",
    "train['libro'] = train['libro'].astype('category')\n",
    "test['libro'] = test['libro'].astype('category')"
   ]
  },
  {
   "cell_type": "code",
   "execution_count": 12,
   "metadata": {},
   "outputs": [],
   "source": [
    "full_x = train[['libro', 'usuario','svd','knn']]\n",
    "full_y = train[['puntuacion']]\n",
    "X_train, X_test, y_train, y_test = train_test_split(full_x, full_y, test_size=0.3, random_state=0)"
   ]
  },
  {
   "cell_type": "code",
   "execution_count": 13,
   "metadata": {},
   "outputs": [
    {
     "output_type": "execute_result",
     "data": {
      "text/plain": [
       "                                             libro  usuario   svd   knn\n",
       "0                                        los-hijos      201  7.17  7.17\n",
       "1                      el-temor-de-un-hombre-sabio      299  9.44  8.34\n",
       "2                                   leon-bocanegra      126  7.41  7.48\n",
       "3                           el-caballero-errante-2      107  7.61  7.75\n",
       "4                                    el-mar-el-mar       85  6.59  7.17\n",
       "...                                            ...      ...   ...   ...\n",
       "10579                        la-princesa-prometida      854  8.57  8.67\n",
       "10580                               la-prima-bette      216  8.05  7.01\n",
       "10581  el-guardian-invisible-trilogia-del-baztan-1      132  6.90  7.46\n",
       "10582                              un-otono-romano      133  9.08  9.11\n",
       "10583                               mujer-de-barro     2271  5.50  6.67\n",
       "\n",
       "[10584 rows x 4 columns]"
      ],
      "text/html": "<div>\n<style scoped>\n    .dataframe tbody tr th:only-of-type {\n        vertical-align: middle;\n    }\n\n    .dataframe tbody tr th {\n        vertical-align: top;\n    }\n\n    .dataframe thead th {\n        text-align: right;\n    }\n</style>\n<table border=\"1\" class=\"dataframe\">\n  <thead>\n    <tr style=\"text-align: right;\">\n      <th></th>\n      <th>libro</th>\n      <th>usuario</th>\n      <th>svd</th>\n      <th>knn</th>\n    </tr>\n  </thead>\n  <tbody>\n    <tr>\n      <th>0</th>\n      <td>los-hijos</td>\n      <td>201</td>\n      <td>7.17</td>\n      <td>7.17</td>\n    </tr>\n    <tr>\n      <th>1</th>\n      <td>el-temor-de-un-hombre-sabio</td>\n      <td>299</td>\n      <td>9.44</td>\n      <td>8.34</td>\n    </tr>\n    <tr>\n      <th>2</th>\n      <td>leon-bocanegra</td>\n      <td>126</td>\n      <td>7.41</td>\n      <td>7.48</td>\n    </tr>\n    <tr>\n      <th>3</th>\n      <td>el-caballero-errante-2</td>\n      <td>107</td>\n      <td>7.61</td>\n      <td>7.75</td>\n    </tr>\n    <tr>\n      <th>4</th>\n      <td>el-mar-el-mar</td>\n      <td>85</td>\n      <td>6.59</td>\n      <td>7.17</td>\n    </tr>\n    <tr>\n      <th>...</th>\n      <td>...</td>\n      <td>...</td>\n      <td>...</td>\n      <td>...</td>\n    </tr>\n    <tr>\n      <th>10579</th>\n      <td>la-princesa-prometida</td>\n      <td>854</td>\n      <td>8.57</td>\n      <td>8.67</td>\n    </tr>\n    <tr>\n      <th>10580</th>\n      <td>la-prima-bette</td>\n      <td>216</td>\n      <td>8.05</td>\n      <td>7.01</td>\n    </tr>\n    <tr>\n      <th>10581</th>\n      <td>el-guardian-invisible-trilogia-del-baztan-1</td>\n      <td>132</td>\n      <td>6.90</td>\n      <td>7.46</td>\n    </tr>\n    <tr>\n      <th>10582</th>\n      <td>un-otono-romano</td>\n      <td>133</td>\n      <td>9.08</td>\n      <td>9.11</td>\n    </tr>\n    <tr>\n      <th>10583</th>\n      <td>mujer-de-barro</td>\n      <td>2271</td>\n      <td>5.50</td>\n      <td>6.67</td>\n    </tr>\n  </tbody>\n</table>\n<p>10584 rows × 4 columns</p>\n</div>"
     },
     "metadata": {},
     "execution_count": 13
    }
   ],
   "source": [
    "test= test[['libro','usuario','svd','knn']]\n",
    "test"
   ]
  },
  {
   "cell_type": "code",
   "execution_count": 14,
   "metadata": {},
   "outputs": [
    {
     "output_type": "execute_result",
     "data": {
      "text/plain": [
       "                                                   libro  usuario   svd   knn\n",
       "36034                           si-escucharas-mi-corazon      151  7.87  6.81\n",
       "29252                           la-mujer-del-camarote-10      162  7.92  7.54\n",
       "11259    los-pilares-de-la-tierra-edicion-25-aniversario      128  8.04  7.71\n",
       "16446                                    sputnik-mi-amor       43  8.61  7.18\n",
       "10521                              84-charing-cross-road       93  7.54  6.82\n",
       "...                                                  ...      ...   ...   ...\n",
       "15153  la-celestina-comedia-o-tragicomedia-de-calisto...      312  5.75  5.65\n",
       "5897                                        la-peregrina       61  2.39  6.51\n",
       "6079                                  los-restos-del-dia      513  7.60  7.36\n",
       "27797                            las-tres-espanas-del-36       62  6.14  6.97\n",
       "12781                                          el-hereje       26  5.59  5.93\n",
       "\n",
       "[12696 rows x 4 columns]"
      ],
      "text/html": "<div>\n<style scoped>\n    .dataframe tbody tr th:only-of-type {\n        vertical-align: middle;\n    }\n\n    .dataframe tbody tr th {\n        vertical-align: top;\n    }\n\n    .dataframe thead th {\n        text-align: right;\n    }\n</style>\n<table border=\"1\" class=\"dataframe\">\n  <thead>\n    <tr style=\"text-align: right;\">\n      <th></th>\n      <th>libro</th>\n      <th>usuario</th>\n      <th>svd</th>\n      <th>knn</th>\n    </tr>\n  </thead>\n  <tbody>\n    <tr>\n      <th>36034</th>\n      <td>si-escucharas-mi-corazon</td>\n      <td>151</td>\n      <td>7.87</td>\n      <td>6.81</td>\n    </tr>\n    <tr>\n      <th>29252</th>\n      <td>la-mujer-del-camarote-10</td>\n      <td>162</td>\n      <td>7.92</td>\n      <td>7.54</td>\n    </tr>\n    <tr>\n      <th>11259</th>\n      <td>los-pilares-de-la-tierra-edicion-25-aniversario</td>\n      <td>128</td>\n      <td>8.04</td>\n      <td>7.71</td>\n    </tr>\n    <tr>\n      <th>16446</th>\n      <td>sputnik-mi-amor</td>\n      <td>43</td>\n      <td>8.61</td>\n      <td>7.18</td>\n    </tr>\n    <tr>\n      <th>10521</th>\n      <td>84-charing-cross-road</td>\n      <td>93</td>\n      <td>7.54</td>\n      <td>6.82</td>\n    </tr>\n    <tr>\n      <th>...</th>\n      <td>...</td>\n      <td>...</td>\n      <td>...</td>\n      <td>...</td>\n    </tr>\n    <tr>\n      <th>15153</th>\n      <td>la-celestina-comedia-o-tragicomedia-de-calisto...</td>\n      <td>312</td>\n      <td>5.75</td>\n      <td>5.65</td>\n    </tr>\n    <tr>\n      <th>5897</th>\n      <td>la-peregrina</td>\n      <td>61</td>\n      <td>2.39</td>\n      <td>6.51</td>\n    </tr>\n    <tr>\n      <th>6079</th>\n      <td>los-restos-del-dia</td>\n      <td>513</td>\n      <td>7.60</td>\n      <td>7.36</td>\n    </tr>\n    <tr>\n      <th>27797</th>\n      <td>las-tres-espanas-del-36</td>\n      <td>62</td>\n      <td>6.14</td>\n      <td>6.97</td>\n    </tr>\n    <tr>\n      <th>12781</th>\n      <td>el-hereje</td>\n      <td>26</td>\n      <td>5.59</td>\n      <td>5.93</td>\n    </tr>\n  </tbody>\n</table>\n<p>12696 rows × 4 columns</p>\n</div>"
     },
     "metadata": {},
     "execution_count": 14
    }
   ],
   "source": [
    "X_test"
   ]
  },
  {
   "source": [
    "## LGB"
   ],
   "cell_type": "markdown",
   "metadata": {}
  },
  {
   "cell_type": "code",
   "execution_count": 15,
   "metadata": {},
   "outputs": [],
   "source": [
    "# create dataset for lightgbm\n",
    "lgb_train = lgb.Dataset(X_train, y_train)\n",
    "lgb_eval = lgb.Dataset(X_test, y_test, reference=lgb_train)"
   ]
  },
  {
   "cell_type": "code",
   "execution_count": 16,
   "metadata": {},
   "outputs": [],
   "source": [
    "# specify your configurations as a dict\n",
    "params = {\n",
    "    'boosting_type': 'gbdt',\n",
    "    'objective': 'regression',\n",
    "    'metric': {'l2', 'l1'},\n",
    "    'num_leaves': 50,\n",
    "    'learning_rate': 0.05,\n",
    "    'feature_fraction': 0.9,\n",
    "    'bagging_fraction': 0.8,\n",
    "    'bagging_freq': 5,\n",
    "    'verbose': 0\n",
    "}"
   ]
  },
  {
   "cell_type": "code",
   "execution_count": 17,
   "metadata": {},
   "outputs": [
    {
     "output_type": "stream",
     "name": "stdout",
     "text": [
      "Starting training...\n",
      "[LightGBM] [Warning] Auto-choosing row-wise multi-threading, the overhead of testing was 0.000192 seconds.\n",
      "You can set `force_row_wise=true` to remove the overhead.\n",
      "And if memory is not enough, you can set `force_col_wise=true`.\n",
      "[1]\tvalid_0's l1: 1.27971\tvalid_0's l2: 2.73009\n",
      "Training until validation scores don't improve for 5 rounds\n",
      "[2]\tvalid_0's l1: 1.21682\tvalid_0's l2: 2.46891\n",
      "[3]\tvalid_0's l1: 1.15715\tvalid_0's l2: 2.23322\n",
      "[4]\tvalid_0's l1: 1.10084\tvalid_0's l2: 2.02051\n",
      "[5]\tvalid_0's l1: 1.04742\tvalid_0's l2: 1.82844\n",
      "[6]\tvalid_0's l1: 0.996701\tvalid_0's l2: 1.65508\n",
      "[7]\tvalid_0's l1: 0.948481\tvalid_0's l2: 1.49857\n",
      "[8]\tvalid_0's l1: 0.902778\tvalid_0's l2: 1.35726\n",
      "[9]\tvalid_0's l1: 0.859328\tvalid_0's l2: 1.22967\n",
      "[10]\tvalid_0's l1: 0.81803\tvalid_0's l2: 1.11448\n",
      "[11]\tvalid_0's l1: 0.778914\tvalid_0's l2: 1.01075\n",
      "[12]\tvalid_0's l1: 0.74182\tvalid_0's l2: 0.917104\n",
      "[13]\tvalid_0's l1: 0.706637\tvalid_0's l2: 0.832581\n",
      "[14]\tvalid_0's l1: 0.673361\tvalid_0's l2: 0.7563\n",
      "[15]\tvalid_0's l1: 0.641739\tvalid_0's l2: 0.687337\n",
      "[16]\tvalid_0's l1: 0.611621\tvalid_0's l2: 0.62482\n",
      "[17]\tvalid_0's l1: 0.583092\tvalid_0's l2: 0.568352\n",
      "[18]\tvalid_0's l1: 0.55602\tvalid_0's l2: 0.51746\n",
      "[19]\tvalid_0's l1: 0.530374\tvalid_0's l2: 0.471529\n",
      "[20]\tvalid_0's l1: 0.50597\tvalid_0's l2: 0.429971\n",
      "Did not meet early stopping. Best iteration is:\n",
      "[20]\tvalid_0's l1: 0.50597\tvalid_0's l2: 0.429971\n"
     ]
    }
   ],
   "source": [
    "print('Starting training...')\n",
    "# train\n",
    "gbm = lgb.train(params,\n",
    "                lgb_train,\n",
    "                num_boost_round=20,\n",
    "                valid_sets=lgb_eval,\n",
    "                early_stopping_rounds=5)\n",
    "# save model to file\n",
    "#gbm.save_model('model.txt')"
   ]
  },
  {
   "cell_type": "code",
   "execution_count": 18,
   "metadata": {},
   "outputs": [
    {
     "output_type": "stream",
     "name": "stdout",
     "text": [
      "Starting predicting...\nRMSE: 0.6557\n"
     ]
    }
   ],
   "source": [
    "print('Starting predicting...')\n",
    "# predict\n",
    "y_pred_lgb = gbm.predict(X_test, num_iteration=gbm.best_iteration)\n",
    "# eval\n",
    "print('RMSE: %.4f' % np.sqrt(mean_squared_error(y_test, y_pred_lgb)))\n",
    "#RMSE: 1.6434\n",
    "# Ensamble:RMSE: 0.6602\n",
    "# Ensamble:RMSE: 0.6557"
   ]
  },
  {
   "cell_type": "code",
   "execution_count": 21,
   "metadata": {},
   "outputs": [],
   "source": [
    "y_pred_lgb_test = gbm.predict(test, num_iteration=gbm.best_iteration)"
   ]
  },
  {
   "cell_type": "code",
   "execution_count": 22,
   "metadata": {},
   "outputs": [
    {
     "output_type": "execute_result",
     "data": {
      "text/plain": [
       "array([7.05691171, 8.97206508, 7.31606201, ..., 7.05139638, 8.43053397,\n",
       "       5.61982039])"
      ]
     },
     "metadata": {},
     "execution_count": 22
    }
   ],
   "source": [
    "y_pred_lgb_test"
   ]
  },
  {
   "cell_type": "code",
   "execution_count": 24,
   "metadata": {},
   "outputs": [],
   "source": [
    "write_submit(df_test,y_pred_lgb_test, \"ignacio_submit_ensamble2\")"
   ]
  },
  {
   "source": [
    "## XGBOOST"
   ],
   "cell_type": "markdown",
   "metadata": {}
  },
  {
   "cell_type": "code",
   "execution_count": 10,
   "metadata": {},
   "outputs": [],
   "source": [
    "## No funciona con data Categorica\n",
    "#model_xgb = XGBRegressor()\n",
    "#model_xgb.fit(X_train, y_train)\n",
    "#print('Starting predicting...')\n",
    "#y_pred_xgb = model_xgb.predict(X_test)\n",
    "#print('RMSE: %.4f' % np.sqrt(mean_squared_error(y_test, y_pred_xgb)))"
   ]
  },
  {
   "cell_type": "code",
   "execution_count": null,
   "metadata": {},
   "outputs": [],
   "source": []
  }
 ],
 "metadata": {
  "kernelspec": {
   "name": "python3",
   "display_name": "Python 3.7.5 64-bit ('base': conda)",
   "metadata": {
    "interpreter": {
     "hash": "9a37e5188a605e95d3282a4fb8007f4c3c52885d8cd12f2ffcfc398feaa7ff36"
    }
   }
  },
  "language_info": {
   "codemirror_mode": {
    "name": "ipython",
    "version": 3
   },
   "file_extension": ".py",
   "mimetype": "text/x-python",
   "name": "python",
   "nbconvert_exporter": "python",
   "pygments_lexer": "ipython3",
   "version": "3.7.5-final"
  }
 },
 "nbformat": 4,
 "nbformat_minor": 4
}