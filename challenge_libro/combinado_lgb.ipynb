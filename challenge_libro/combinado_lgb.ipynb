{
 "cells": [
  {
   "cell_type": "code",
   "execution_count": 1,
   "metadata": {},
   "outputs": [],
   "source": [
    "import lightgbm as lgb\n",
    "import pandas as pd\n",
    "import numpy as np\n",
    "from sklearn.metrics import mean_squared_error\n",
    "from sklearn.model_selection import train_test_split\n",
    "from tqdm import tqdm, tqdm_notebook\n",
    "from xgboost import XGBRegressor\n",
    "import warnings, sys, os, gc\n",
    "from sklearn import preprocessing"
   ]
  },
  {
   "source": [
    "## Carga Parcial"
   ],
   "cell_type": "markdown",
   "metadata": {}
  },
  {
   "cell_type": "code",
   "execution_count": 2,
   "metadata": {},
   "outputs": [
    {
     "output_type": "stream",
     "name": "stdout",
     "text": [
      "(42320, 5) (10584, 6)\n"
     ]
    }
   ],
   "source": [
    "df_libros = pd.read_csv('./data/libros.csv')\n",
    "df_usr = pd.read_csv('./data/usuarios.csv')\n",
    "df_train = pd.read_csv('./data/train_svd.csv')\n",
    "df_test = pd.read_csv('./data/test_svd.csv')\n",
    "print(df_train.shape, df_test.shape)"
   ]
  },
  {
   "source": [
    "## Preprocesamiento"
   ],
   "cell_type": "markdown",
   "metadata": {}
  },
  {
   "cell_type": "code",
   "execution_count": 3,
   "metadata": {},
   "outputs": [],
   "source": [
    "def write_submit(df_test,prediccion,fileName):\n",
    "    submit = pd.DataFrame({'id':df_test.id})\n",
    "    submit['puntuacion'] = pd.DataFrame(np.around(prediccion, 0))\n",
    "    submit.head()\n",
    "    len(submit)\n",
    "    submit.to_csv(\"./submission/\"+fileName+\".csv\", index=False)"
   ]
  },
  {
   "cell_type": "code",
   "execution_count": 5,
   "metadata": {},
   "outputs": [
    {
     "output_type": "execute_result",
     "data": {
      "text/plain": [
       "anio           4\n",
       "autor          4\n",
       "editorial      9\n",
       "genero         9\n",
       "idioma       106\n",
       "isbn           6\n",
       "libro          0\n",
       "resumen      364\n",
       "titulo         4\n",
       "dtype: int64"
      ]
     },
     "metadata": {},
     "execution_count": 5
    }
   ],
   "source": [
    "df_libros.isna().sum()"
   ]
  },
  {
   "cell_type": "code",
   "execution_count": 6,
   "metadata": {},
   "outputs": [
    {
     "output_type": "stream",
     "name": "stdout",
     "text": [
      "14950 94\n"
     ]
    },
    {
     "output_type": "execute_result",
     "data": {
      "text/plain": [
       "anio           0\n",
       "autor          0\n",
       "editorial      0\n",
       "genero         0\n",
       "idioma         0\n",
       "isbn           6\n",
       "libro          0\n",
       "resumen      364\n",
       "titulo         4\n",
       "dtype: int64"
      ]
     },
     "metadata": {},
     "execution_count": 6
    }
   ],
   "source": [
    "print(len(df_libros.anio), len(df_libros.anio.unique()))\n",
    "moda_anio = df_libros.anio.mode().values[0]\n",
    "moda_genero = df_libros.genero.mode().values[0]\n",
    "moda_editorial = df_libros.editorial.mode().values[0]\n",
    "moda_autor = df_libros.autor.mode().values[0]\n",
    "df_libros[['idioma']] = df_libros[['idioma']].fillna('Español')\n",
    "df_libros[['anio']] = df_libros[['anio']].fillna(moda_anio)\n",
    "df_libros[['genero']] = df_libros[['genero']].fillna(moda_genero)\n",
    "df_libros[['editorial']] = df_libros[['editorial']].fillna(moda_editorial)\n",
    "df_libros[['autor']] = df_libros[['autor']].fillna(moda_autor)\n",
    "df_libros.loc[df_libros.anio == '(200', 'anio'] = moda_anio\n",
    "df_libros.loc[df_libros.anio == 'Español', 'anio'] = moda_anio\n",
    "df_libros.loc[df_libros['anio'].str.len() != 4, 'anio'] = moda_anio\n",
    "df_train = pd.merge(left=df_train, right=df_libros[['libro','anio', 'genero','editorial','autor']], on='libro')\n",
    "df_test = pd.merge(left=df_test, right=df_libros[['libro','anio', 'genero','editorial','autor']], how='left', on='libro')\n",
    "df_test[['anio']] = df_test[['anio']].fillna(moda_anio)\n",
    "df_libros.isna().sum()"
   ]
  },
  {
   "cell_type": "code",
   "execution_count": 6,
   "metadata": {},
   "outputs": [],
   "source": [
    "## Cambio sring del nombre del libro por isbn\n",
    "## Elimino libros con valores na,\"Español\", \"/\", \"B\" y \"q\"\n",
    "#train = df_train\n",
    "#print(len(train))\n",
    "#train['libro'] = train['libro'].map(df_libros.set_index('libro')['isbn'])\n",
    "#train = train[train['libro'].notna()]\n",
    "#train = train[~train.libro.str.contains(\"Español\")]\n",
    "#train = train[~train.libro.str.contains(\"/\")]\n",
    "#train = train[~train.libro.str.contains(\"B\")]\n",
    "#train = train[~train.libro.str.contains(\"-\")]\n",
    "#train = train[~train.libro.str.contains(\"q\")]\n",
    "#train = train[~train.libro.str.contains(\" \")]\n",
    "#train['libro'] = train['libro'].astype(int)\n",
    "#print(len(train))\n",
    "##Check para ver si son todos numericos\n",
    "##train.applymap(np.isreal).sum()"
   ]
  },
  {
   "cell_type": "code",
   "execution_count": 7,
   "metadata": {},
   "outputs": [],
   "source": [
    "train = df_train\n",
    "test = df_test\n",
    "train['libro']  = train['libro'].astype('category')\n",
    "train['genero'] = train['genero'].astype('category')\n",
    "train['anio']   = train['anio'].astype('int')\n",
    "train['editorial'] = train['editorial'].astype('category')\n",
    "train['autor']   = train['autor'].astype('category')\n",
    "\n",
    "test['libro']   = test['libro'].astype('category')\n",
    "test['genero']  = test['genero'].astype('category')\n",
    "test['anio']    = test['anio'].astype('int')\n",
    "test['editorial'] = test['editorial'].astype('category')\n",
    "test['autor']   = test['autor'].astype('category')"
   ]
  },
  {
   "cell_type": "code",
   "execution_count": 8,
   "metadata": {},
   "outputs": [],
   "source": [
    "full_x = train[['libro', 'usuario','svd','knn','anio','genero','editorial','autor']]\n",
    "full_y = train[['puntuacion']]\n",
    "X_train, X_test, y_train, y_test = train_test_split(full_x, full_y, test_size=0.3, random_state=0)"
   ]
  },
  {
   "cell_type": "code",
   "execution_count": 9,
   "metadata": {},
   "outputs": [
    {
     "output_type": "execute_result",
     "data": {
      "text/plain": [
       "                                             libro  usuario   svd   knn  anio  \\\n",
       "0                                        los-hijos      201  7.17  7.17  2014   \n",
       "1                      el-temor-de-un-hombre-sabio      299  9.44  8.34  2011   \n",
       "2                                   leon-bocanegra      126  7.41  7.48  2005   \n",
       "3                           el-caballero-errante-2      107  7.61  7.75  2004   \n",
       "4                                    el-mar-el-mar       85  6.59  7.17  2005   \n",
       "...                                            ...      ...   ...   ...   ...   \n",
       "10579                        la-princesa-prometida      854  8.57  8.67  2018   \n",
       "10580                               la-prima-bette      216  8.05  7.01  2010   \n",
       "10581  el-guardian-invisible-trilogia-del-baztan-1      132  6.90  7.46  2013   \n",
       "10582                              un-otono-romano      133  9.08  9.11  2014   \n",
       "10583                               mujer-de-barro     2271  5.50  6.67  2013   \n",
       "\n",
       "                              genero            editorial  \\\n",
       "0               Biografías, Memorias            ALFAGUARA   \n",
       "1        Fantástica, ciencia ficción        PLAZA & JANÉS   \n",
       "2                  Ficción literaria           DEBOLSILLO   \n",
       "3             Cómics, Novela Gráfica                DEVIR   \n",
       "4                          Narrativa           DEBOLSILLO   \n",
       "...                              ...                  ...   \n",
       "10579    Fantástica, ciencia ficción  ÁTICO DE LOS LIBROS   \n",
       "10580      Clásicos de la literatura                 ALBA   \n",
       "10581  Novela negra, intriga, terror              DESTINO   \n",
       "10582                      Narrativa        PLAZA & JANÉS   \n",
       "10583       Literatura contemporánea            ALFAGUARA   \n",
       "\n",
       "                           autor  \n",
       "0                    Talese, Gay  \n",
       "1              Rothfuss, Patrick  \n",
       "2      Vázquez-Figueroa, Alberto  \n",
       "3            Martin, George R.R.  \n",
       "4                  Murdoch, Iris  \n",
       "...                          ...  \n",
       "10579           Goldman, William  \n",
       "10580          Balzac, Honore De  \n",
       "10581           Redondo, Dolores  \n",
       "10582            Reverte, Javier  \n",
       "10583         Oates, Joyce Carol  \n",
       "\n",
       "[10584 rows x 8 columns]"
      ],
      "text/html": "<div>\n<style scoped>\n    .dataframe tbody tr th:only-of-type {\n        vertical-align: middle;\n    }\n\n    .dataframe tbody tr th {\n        vertical-align: top;\n    }\n\n    .dataframe thead th {\n        text-align: right;\n    }\n</style>\n<table border=\"1\" class=\"dataframe\">\n  <thead>\n    <tr style=\"text-align: right;\">\n      <th></th>\n      <th>libro</th>\n      <th>usuario</th>\n      <th>svd</th>\n      <th>knn</th>\n      <th>anio</th>\n      <th>genero</th>\n      <th>editorial</th>\n      <th>autor</th>\n    </tr>\n  </thead>\n  <tbody>\n    <tr>\n      <th>0</th>\n      <td>los-hijos</td>\n      <td>201</td>\n      <td>7.17</td>\n      <td>7.17</td>\n      <td>2014</td>\n      <td>Biografías, Memorias</td>\n      <td>ALFAGUARA</td>\n      <td>Talese, Gay</td>\n    </tr>\n    <tr>\n      <th>1</th>\n      <td>el-temor-de-un-hombre-sabio</td>\n      <td>299</td>\n      <td>9.44</td>\n      <td>8.34</td>\n      <td>2011</td>\n      <td>Fantástica, ciencia ficción</td>\n      <td>PLAZA &amp; JANÉS</td>\n      <td>Rothfuss, Patrick</td>\n    </tr>\n    <tr>\n      <th>2</th>\n      <td>leon-bocanegra</td>\n      <td>126</td>\n      <td>7.41</td>\n      <td>7.48</td>\n      <td>2005</td>\n      <td>Ficción literaria</td>\n      <td>DEBOLSILLO</td>\n      <td>Vázquez-Figueroa, Alberto</td>\n    </tr>\n    <tr>\n      <th>3</th>\n      <td>el-caballero-errante-2</td>\n      <td>107</td>\n      <td>7.61</td>\n      <td>7.75</td>\n      <td>2004</td>\n      <td>Cómics, Novela Gráfica</td>\n      <td>DEVIR</td>\n      <td>Martin, George R.R.</td>\n    </tr>\n    <tr>\n      <th>4</th>\n      <td>el-mar-el-mar</td>\n      <td>85</td>\n      <td>6.59</td>\n      <td>7.17</td>\n      <td>2005</td>\n      <td>Narrativa</td>\n      <td>DEBOLSILLO</td>\n      <td>Murdoch, Iris</td>\n    </tr>\n    <tr>\n      <th>...</th>\n      <td>...</td>\n      <td>...</td>\n      <td>...</td>\n      <td>...</td>\n      <td>...</td>\n      <td>...</td>\n      <td>...</td>\n      <td>...</td>\n    </tr>\n    <tr>\n      <th>10579</th>\n      <td>la-princesa-prometida</td>\n      <td>854</td>\n      <td>8.57</td>\n      <td>8.67</td>\n      <td>2018</td>\n      <td>Fantástica, ciencia ficción</td>\n      <td>ÁTICO DE LOS LIBROS</td>\n      <td>Goldman, William</td>\n    </tr>\n    <tr>\n      <th>10580</th>\n      <td>la-prima-bette</td>\n      <td>216</td>\n      <td>8.05</td>\n      <td>7.01</td>\n      <td>2010</td>\n      <td>Clásicos de la literatura</td>\n      <td>ALBA</td>\n      <td>Balzac, Honore De</td>\n    </tr>\n    <tr>\n      <th>10581</th>\n      <td>el-guardian-invisible-trilogia-del-baztan-1</td>\n      <td>132</td>\n      <td>6.90</td>\n      <td>7.46</td>\n      <td>2013</td>\n      <td>Novela negra, intriga, terror</td>\n      <td>DESTINO</td>\n      <td>Redondo, Dolores</td>\n    </tr>\n    <tr>\n      <th>10582</th>\n      <td>un-otono-romano</td>\n      <td>133</td>\n      <td>9.08</td>\n      <td>9.11</td>\n      <td>2014</td>\n      <td>Narrativa</td>\n      <td>PLAZA &amp; JANÉS</td>\n      <td>Reverte, Javier</td>\n    </tr>\n    <tr>\n      <th>10583</th>\n      <td>mujer-de-barro</td>\n      <td>2271</td>\n      <td>5.50</td>\n      <td>6.67</td>\n      <td>2013</td>\n      <td>Literatura contemporánea</td>\n      <td>ALFAGUARA</td>\n      <td>Oates, Joyce Carol</td>\n    </tr>\n  </tbody>\n</table>\n<p>10584 rows × 8 columns</p>\n</div>"
     },
     "metadata": {},
     "execution_count": 9
    }
   ],
   "source": [
    "test= test[['libro', 'usuario','svd','knn','anio','genero','editorial','autor']]\n",
    "test"
   ]
  },
  {
   "cell_type": "code",
   "execution_count": 10,
   "metadata": {},
   "outputs": [
    {
     "output_type": "execute_result",
     "data": {
      "text/plain": [
       "                            libro  usuario   svd   knn  anio  \\\n",
       "32123     anatomia-de-un-instante      547  7.40  6.41  2009   \n",
       "30718   muerto-hasta-el-anochecer      230  7.94  7.65  2009   \n",
       "37446     un-paraiso-inalcanzable      216  7.06  7.01  2013   \n",
       "31138            todo-paracuellos      271  9.02  7.33  2007   \n",
       "38096         levantado-del-suelo      312  6.01  6.07  2007   \n",
       "...                           ...      ...   ...   ...   ...   \n",
       "27792        si-esto-es-una-mujer       88  7.19  7.17  2019   \n",
       "12778  el-diario-de-bridget-jones      128  7.63  5.64  2003   \n",
       "17336        la-hipotesis-del-mal      309  7.73  7.50  2015   \n",
       "29736               el-banquete-1      288  8.81  6.92  2014   \n",
       "33290       los-milagros-del-vino      216  6.92  7.01  2010   \n",
       "\n",
       "                              genero             editorial  \\\n",
       "32123                      Narrativa             MONDADORI   \n",
       "30718    Fantástica, ciencia ficción  LA FACTORÍA DE IDEAS   \n",
       "37446                      Narrativa  LIBROS DEL ASTEROIDE   \n",
       "31138         Cómics, Novela Gráfica            DEBOLSILLO   \n",
       "38096       Literatura contemporánea      PUNTO DE LECTURA   \n",
       "...                              ...                   ...   \n",
       "27792  Novela negra, intriga, terror               DESTINO   \n",
       "12778             Romántica, erótica            DEBOLSILLO   \n",
       "17336  Novela negra, intriga, terror               PLANETA   \n",
       "29736      Clásicos de la literatura                GREDOS   \n",
       "33290          Histórica y aventuras               PLANETA   \n",
       "\n",
       "                                  autor  \n",
       "32123                    Cercas, Javier  \n",
       "30718                 Harris, Charlaine  \n",
       "37446                    Mortimer, John  \n",
       "31138           Giménez Giménez, Carlos  \n",
       "38096                    Saramago, José  \n",
       "...                                 ...  \n",
       "27792  Silva, Lorenzo Y Trujillo, Noemí  \n",
       "12778                   Fielding, Helen  \n",
       "17336                   Carrisi, Donato  \n",
       "29736                            Platón  \n",
       "33290             Sánchez Adalid, Jesús  \n",
       "\n",
       "[12696 rows x 8 columns]"
      ],
      "text/html": "<div>\n<style scoped>\n    .dataframe tbody tr th:only-of-type {\n        vertical-align: middle;\n    }\n\n    .dataframe tbody tr th {\n        vertical-align: top;\n    }\n\n    .dataframe thead th {\n        text-align: right;\n    }\n</style>\n<table border=\"1\" class=\"dataframe\">\n  <thead>\n    <tr style=\"text-align: right;\">\n      <th></th>\n      <th>libro</th>\n      <th>usuario</th>\n      <th>svd</th>\n      <th>knn</th>\n      <th>anio</th>\n      <th>genero</th>\n      <th>editorial</th>\n      <th>autor</th>\n    </tr>\n  </thead>\n  <tbody>\n    <tr>\n      <th>32123</th>\n      <td>anatomia-de-un-instante</td>\n      <td>547</td>\n      <td>7.40</td>\n      <td>6.41</td>\n      <td>2009</td>\n      <td>Narrativa</td>\n      <td>MONDADORI</td>\n      <td>Cercas, Javier</td>\n    </tr>\n    <tr>\n      <th>30718</th>\n      <td>muerto-hasta-el-anochecer</td>\n      <td>230</td>\n      <td>7.94</td>\n      <td>7.65</td>\n      <td>2009</td>\n      <td>Fantástica, ciencia ficción</td>\n      <td>LA FACTORÍA DE IDEAS</td>\n      <td>Harris, Charlaine</td>\n    </tr>\n    <tr>\n      <th>37446</th>\n      <td>un-paraiso-inalcanzable</td>\n      <td>216</td>\n      <td>7.06</td>\n      <td>7.01</td>\n      <td>2013</td>\n      <td>Narrativa</td>\n      <td>LIBROS DEL ASTEROIDE</td>\n      <td>Mortimer, John</td>\n    </tr>\n    <tr>\n      <th>31138</th>\n      <td>todo-paracuellos</td>\n      <td>271</td>\n      <td>9.02</td>\n      <td>7.33</td>\n      <td>2007</td>\n      <td>Cómics, Novela Gráfica</td>\n      <td>DEBOLSILLO</td>\n      <td>Giménez Giménez, Carlos</td>\n    </tr>\n    <tr>\n      <th>38096</th>\n      <td>levantado-del-suelo</td>\n      <td>312</td>\n      <td>6.01</td>\n      <td>6.07</td>\n      <td>2007</td>\n      <td>Literatura contemporánea</td>\n      <td>PUNTO DE LECTURA</td>\n      <td>Saramago, José</td>\n    </tr>\n    <tr>\n      <th>...</th>\n      <td>...</td>\n      <td>...</td>\n      <td>...</td>\n      <td>...</td>\n      <td>...</td>\n      <td>...</td>\n      <td>...</td>\n      <td>...</td>\n    </tr>\n    <tr>\n      <th>27792</th>\n      <td>si-esto-es-una-mujer</td>\n      <td>88</td>\n      <td>7.19</td>\n      <td>7.17</td>\n      <td>2019</td>\n      <td>Novela negra, intriga, terror</td>\n      <td>DESTINO</td>\n      <td>Silva, Lorenzo Y Trujillo, Noemí</td>\n    </tr>\n    <tr>\n      <th>12778</th>\n      <td>el-diario-de-bridget-jones</td>\n      <td>128</td>\n      <td>7.63</td>\n      <td>5.64</td>\n      <td>2003</td>\n      <td>Romántica, erótica</td>\n      <td>DEBOLSILLO</td>\n      <td>Fielding, Helen</td>\n    </tr>\n    <tr>\n      <th>17336</th>\n      <td>la-hipotesis-del-mal</td>\n      <td>309</td>\n      <td>7.73</td>\n      <td>7.50</td>\n      <td>2015</td>\n      <td>Novela negra, intriga, terror</td>\n      <td>PLANETA</td>\n      <td>Carrisi, Donato</td>\n    </tr>\n    <tr>\n      <th>29736</th>\n      <td>el-banquete-1</td>\n      <td>288</td>\n      <td>8.81</td>\n      <td>6.92</td>\n      <td>2014</td>\n      <td>Clásicos de la literatura</td>\n      <td>GREDOS</td>\n      <td>Platón</td>\n    </tr>\n    <tr>\n      <th>33290</th>\n      <td>los-milagros-del-vino</td>\n      <td>216</td>\n      <td>6.92</td>\n      <td>7.01</td>\n      <td>2010</td>\n      <td>Histórica y aventuras</td>\n      <td>PLANETA</td>\n      <td>Sánchez Adalid, Jesús</td>\n    </tr>\n  </tbody>\n</table>\n<p>12696 rows × 8 columns</p>\n</div>"
     },
     "metadata": {},
     "execution_count": 10
    }
   ],
   "source": [
    "X_test"
   ]
  },
  {
   "source": [
    "## LGB"
   ],
   "cell_type": "markdown",
   "metadata": {}
  },
  {
   "cell_type": "code",
   "execution_count": 11,
   "metadata": {},
   "outputs": [],
   "source": [
    "# create dataset for lightgbm\n",
    "#lgb_train = lgb.Dataset(X_train, y_train)\n",
    "lgb_train = lgb.Dataset(full_x, full_y)\n",
    "#lgb_eval = lgb.Dataset(X_test, y_test, reference=lgb_train)"
   ]
  },
  {
   "cell_type": "code",
   "execution_count": 12,
   "metadata": {},
   "outputs": [],
   "source": [
    "# specify your configurations as a dict\n",
    "params = {\n",
    "    'boosting_type': 'gbdt',\n",
    "    'objective': 'regression',\n",
    "    'metric': {'l2', 'l1'},\n",
    "    'num_leaves': 50,\n",
    "    'learning_rate': 0.05,\n",
    "    'feature_fraction': 0.9,\n",
    "    'bagging_fraction': 0.8,\n",
    "    'bagging_freq': 5,\n",
    "    'verbose': 0\n",
    "}"
   ]
  },
  {
   "cell_type": "code",
   "execution_count": 14,
   "metadata": {},
   "outputs": [
    {
     "output_type": "stream",
     "name": "stdout",
     "text": [
      "Starting training...\n[LightGBM] [Warning] Auto-choosing col-wise multi-threading, the overhead of testing was 0.006722 seconds.\nYou can set `force_col_wise=true` to remove the overhead.\n"
     ]
    }
   ],
   "source": [
    "print('Starting training...')\n",
    "# train\n",
    "#gbm = lgb.train(params, lgb_train, num_boost_round=20, valid_sets=lgb_eval,early_stopping_rounds=5)\n",
    "gbm = lgb.train(params,\n",
    "                lgb_train,\n",
    "                num_boost_round=20)\n",
    "# save model to file\n",
    "#gbm.save_model('model.txt')"
   ]
  },
  {
   "cell_type": "code",
   "execution_count": 14,
   "metadata": {},
   "outputs": [
    {
     "output_type": "stream",
     "name": "stdout",
     "text": [
      "Starting predicting...\nRMSE: 0.6544\n"
     ]
    }
   ],
   "source": [
    "print('Starting predicting...')\n",
    "# predict\n",
    "y_pred_lgb = gbm.predict(X_train, num_iteration=gbm.best_iteration)\n",
    "# eval\n",
    "#print('RMSE: %.4f' % np.sqrt(mean_squared_error(y_test, y_pred_lgb)))\n",
    "#RMSE: 1.6434\n",
    "# Ensamble:RMSE: 0.6602\n",
    "# Ensamble:RMSE: 0.6557 ---> 1.52247\n",
    "# Con anio y genero: RMSE: 0.7480 ---> 1.52072 ****\n",
    "# Con anio, genero, editorial y autor: RMSE: 0.6544 ---> 1.52869"
   ]
  },
  {
   "cell_type": "code",
   "execution_count": 15,
   "metadata": {},
   "outputs": [],
   "source": [
    "y_pred_lgb_test = gbm.predict(test, num_iteration=gbm.best_iteration)"
   ]
  },
  {
   "cell_type": "code",
   "execution_count": 16,
   "metadata": {},
   "outputs": [
    {
     "output_type": "stream",
     "name": "stdout",
     "text": [
      "10584\n10584\n"
     ]
    }
   ],
   "source": [
    "print(len(test))\n",
    "print(len(y_pred_lgb_test))"
   ]
  },
  {
   "cell_type": "code",
   "execution_count": 17,
   "metadata": {},
   "outputs": [],
   "source": [
    "write_submit(df_test,y_pred_lgb_test, \"ignacio_submit_ensamble5\")"
   ]
  },
  {
   "source": [
    "## XGBOOST"
   ],
   "cell_type": "markdown",
   "metadata": {}
  },
  {
   "cell_type": "code",
   "execution_count": 10,
   "metadata": {},
   "outputs": [],
   "source": [
    "## No funciona con data Categorica\n",
    "#model_xgb = XGBRegressor()\n",
    "#model_xgb.fit(X_train, y_train)\n",
    "#print('Starting predicting...')\n",
    "#y_pred_xgb = model_xgb.predict(X_test)\n",
    "#print('RMSE: %.4f' % np.sqrt(mean_squared_error(y_test, y_pred_xgb)))"
   ]
  },
  {
   "cell_type": "code",
   "execution_count": null,
   "metadata": {},
   "outputs": [],
   "source": [
    "X_train, X_test, y_train, y_test"
   ]
  },
  {
   "cell_type": "code",
   "execution_count": 25,
   "metadata": {},
   "outputs": [
    {
     "output_type": "execute_result",
     "data": {
      "text/plain": [
       "                                     libro  usuario   svd   knn  anio  \\\n",
       "40992              spqr-el-senador-de-roma      169  6.98  6.79  2007   \n",
       "37239            narraciones-inverosimiles      300  6.10  6.68  2000   \n",
       "25607            un-hombre-en-la-oscuridad       88  7.08  6.96  2008   \n",
       "41609    la-danza-de-los-maestros-de-wu-li      255  5.13  6.21  1991   \n",
       "29195  reinventarse-tu-segunda-oportunidad     2202  6.29  7.00  2010   \n",
       "...                                    ...      ...   ...   ...   ...   \n",
       "41993                              fogatas       88  7.90  7.25  1988   \n",
       "32103                           los-watson      305  7.81  7.04  2012   \n",
       "30403                 el-hombre-de-arena-1      158  7.97  7.75  2014   \n",
       "21243                       el-gran-arcano      205  6.98  6.93  2007   \n",
       "2732                     sinuhe-el-egipcio      292  9.67  8.61  2006   \n",
       "\n",
       "                              genero      editorial                      autor  \n",
       "40992          Histórica y aventuras         EDHASA              Waltari, Mika  \n",
       "37239                      Narrativa           CLAN  Alarcón, Pedro Antonio De  \n",
       "25607              Ficción literaria       ANAGRAMA               Auster, Paul  \n",
       "41609       Lecturas complementarias  PLAZA & JANÉS                Zukav, Gary  \n",
       "29195       Lecturas complementarias     PLATAFORMA         Alonso Puig, Mario  \n",
       "...                              ...            ...                        ...  \n",
       "41993                      Narrativa       EL ALEPH          Nemirovsky, Irene  \n",
       "32103       Literatura contemporánea        NÓRDICA               Austen, Jane  \n",
       "30403  Novela negra, intriga, terror        PLANETA               Kepler, Lars  \n",
       "21243          Histórica y aventuras     DEBOLSILLO    Sánchez-Garnica, Paloma  \n",
       "2732           Histórica y aventuras     DEBOLSILLO              Waltari, Mika  \n",
       "\n",
       "[29621 rows x 8 columns]"
      ],
      "text/html": "<div>\n<style scoped>\n    .dataframe tbody tr th:only-of-type {\n        vertical-align: middle;\n    }\n\n    .dataframe tbody tr th {\n        vertical-align: top;\n    }\n\n    .dataframe thead th {\n        text-align: right;\n    }\n</style>\n<table border=\"1\" class=\"dataframe\">\n  <thead>\n    <tr style=\"text-align: right;\">\n      <th></th>\n      <th>libro</th>\n      <th>usuario</th>\n      <th>svd</th>\n      <th>knn</th>\n      <th>anio</th>\n      <th>genero</th>\n      <th>editorial</th>\n      <th>autor</th>\n    </tr>\n  </thead>\n  <tbody>\n    <tr>\n      <th>40992</th>\n      <td>spqr-el-senador-de-roma</td>\n      <td>169</td>\n      <td>6.98</td>\n      <td>6.79</td>\n      <td>2007</td>\n      <td>Histórica y aventuras</td>\n      <td>EDHASA</td>\n      <td>Waltari, Mika</td>\n    </tr>\n    <tr>\n      <th>37239</th>\n      <td>narraciones-inverosimiles</td>\n      <td>300</td>\n      <td>6.10</td>\n      <td>6.68</td>\n      <td>2000</td>\n      <td>Narrativa</td>\n      <td>CLAN</td>\n      <td>Alarcón, Pedro Antonio De</td>\n    </tr>\n    <tr>\n      <th>25607</th>\n      <td>un-hombre-en-la-oscuridad</td>\n      <td>88</td>\n      <td>7.08</td>\n      <td>6.96</td>\n      <td>2008</td>\n      <td>Ficción literaria</td>\n      <td>ANAGRAMA</td>\n      <td>Auster, Paul</td>\n    </tr>\n    <tr>\n      <th>41609</th>\n      <td>la-danza-de-los-maestros-de-wu-li</td>\n      <td>255</td>\n      <td>5.13</td>\n      <td>6.21</td>\n      <td>1991</td>\n      <td>Lecturas complementarias</td>\n      <td>PLAZA &amp; JANÉS</td>\n      <td>Zukav, Gary</td>\n    </tr>\n    <tr>\n      <th>29195</th>\n      <td>reinventarse-tu-segunda-oportunidad</td>\n      <td>2202</td>\n      <td>6.29</td>\n      <td>7.00</td>\n      <td>2010</td>\n      <td>Lecturas complementarias</td>\n      <td>PLATAFORMA</td>\n      <td>Alonso Puig, Mario</td>\n    </tr>\n    <tr>\n      <th>...</th>\n      <td>...</td>\n      <td>...</td>\n      <td>...</td>\n      <td>...</td>\n      <td>...</td>\n      <td>...</td>\n      <td>...</td>\n      <td>...</td>\n    </tr>\n    <tr>\n      <th>41993</th>\n      <td>fogatas</td>\n      <td>88</td>\n      <td>7.90</td>\n      <td>7.25</td>\n      <td>1988</td>\n      <td>Narrativa</td>\n      <td>EL ALEPH</td>\n      <td>Nemirovsky, Irene</td>\n    </tr>\n    <tr>\n      <th>32103</th>\n      <td>los-watson</td>\n      <td>305</td>\n      <td>7.81</td>\n      <td>7.04</td>\n      <td>2012</td>\n      <td>Literatura contemporánea</td>\n      <td>NÓRDICA</td>\n      <td>Austen, Jane</td>\n    </tr>\n    <tr>\n      <th>30403</th>\n      <td>el-hombre-de-arena-1</td>\n      <td>158</td>\n      <td>7.97</td>\n      <td>7.75</td>\n      <td>2014</td>\n      <td>Novela negra, intriga, terror</td>\n      <td>PLANETA</td>\n      <td>Kepler, Lars</td>\n    </tr>\n    <tr>\n      <th>21243</th>\n      <td>el-gran-arcano</td>\n      <td>205</td>\n      <td>6.98</td>\n      <td>6.93</td>\n      <td>2007</td>\n      <td>Histórica y aventuras</td>\n      <td>DEBOLSILLO</td>\n      <td>Sánchez-Garnica, Paloma</td>\n    </tr>\n    <tr>\n      <th>2732</th>\n      <td>sinuhe-el-egipcio</td>\n      <td>292</td>\n      <td>9.67</td>\n      <td>8.61</td>\n      <td>2006</td>\n      <td>Histórica y aventuras</td>\n      <td>DEBOLSILLO</td>\n      <td>Waltari, Mika</td>\n    </tr>\n  </tbody>\n</table>\n<p>29621 rows × 8 columns</p>\n</div>"
     },
     "metadata": {},
     "execution_count": 25
    }
   ],
   "source": [
    "X_train"
   ]
  },
  {
   "cell_type": "code",
   "execution_count": 22,
   "metadata": {},
   "outputs": [
    {
     "output_type": "execute_result",
     "data": {
      "text/plain": [
       "LabelEncoder()"
      ]
     },
     "metadata": {},
     "execution_count": 22
    }
   ],
   "source": [
    "libros = df_libros.libro.unique()\n",
    "le = preprocessing.LabelEncoder()\n",
    "le.fit(libros)"
   ]
  },
  {
   "cell_type": "code",
   "execution_count": 26,
   "metadata": {},
   "outputs": [],
   "source": [
    "target_encode_columns = ['libro', 'genero', 'editorial', 'autor']"
   ]
  },
  {
   "cell_type": "code",
   "execution_count": null,
   "metadata": {},
   "outputs": [],
   "source": []
  }
 ],
 "metadata": {
  "kernelspec": {
   "name": "python3",
   "display_name": "Python 3.7.5 64-bit ('base': conda)",
   "metadata": {
    "interpreter": {
     "hash": "9a37e5188a605e95d3282a4fb8007f4c3c52885d8cd12f2ffcfc398feaa7ff36"
    }
   }
  },
  "language_info": {
   "codemirror_mode": {
    "name": "ipython",
    "version": 3
   },
   "file_extension": ".py",
   "mimetype": "text/x-python",
   "name": "python",
   "nbconvert_exporter": "python",
   "pygments_lexer": "ipython3",
   "version": "3.7.5-final"
  }
 },
 "nbformat": 4,
 "nbformat_minor": 4
}