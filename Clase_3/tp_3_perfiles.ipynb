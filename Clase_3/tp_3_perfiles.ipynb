{
 "cells": [
  {
   "cell_type": "code",
   "execution_count": 1,
   "metadata": {},
   "outputs": [],
   "source": [
    "import pandas as pd\n",
    "import pandas_profiling\n",
    "import numpy as np\n",
    "import math\n",
    "import seaborn as sns\n",
    "import numpy as np\n",
    "from sklearn.linear_model import LinearRegression\n",
    "from sklearn import datasets\n",
    "from datetime import date, datetime\n",
    "from sklearn.metrics import mean_squared_error, r2_score\n",
    "from sklearn.model_selection import train_test_split\n",
    "from tqdm import tqdm\n",
    "import matplotlib.pyplot as plt\n",
    "plt.style.use(\"seaborn\")\n",
    "sns.set(style=\"white\")"
   ]
  },
  {
   "source": [
    "## Lectura y exploración"
   ],
   "cell_type": "markdown",
   "metadata": {}
  },
  {
   "source": [
    "### La idea es generar un perfil de las peliculas y los usuarios.\n",
    "### Empiezo por las peliculas y con su genero, para los generos "
   ],
   "cell_type": "markdown",
   "metadata": {}
  },
  {
   "cell_type": "code",
   "execution_count": 2,
   "metadata": {},
   "outputs": [
    {
     "output_type": "error",
     "ename": "FileNotFoundError",
     "evalue": "[Errno 2] File ./data/movies_genres.csv does not exist: './data/movies_genres.csv'",
     "traceback": [
      "\u001b[0;31m---------------------------------------------------------------------------\u001b[0m",
      "\u001b[0;31mFileNotFoundError\u001b[0m                         Traceback (most recent call last)",
      "\u001b[0;32m<ipython-input-2-915a951e0c3f>\u001b[0m in \u001b[0;36m<module>\u001b[0;34m\u001b[0m\n\u001b[1;32m      1\u001b[0m \u001b[0mdf_movies\u001b[0m \u001b[0;34m=\u001b[0m \u001b[0mpd\u001b[0m\u001b[0;34m.\u001b[0m\u001b[0mread_csv\u001b[0m\u001b[0;34m(\u001b[0m\u001b[0;34m\"./data/movie_genres.csv\"\u001b[0m\u001b[0;34m)\u001b[0m\u001b[0;34m\u001b[0m\u001b[0;34m\u001b[0m\u001b[0m\n\u001b[0;32m----> 2\u001b[0;31m \u001b[0mdf_genres\u001b[0m \u001b[0;34m=\u001b[0m \u001b[0mpd\u001b[0m\u001b[0;34m.\u001b[0m\u001b[0mread_csv\u001b[0m\u001b[0;34m(\u001b[0m\u001b[0;34m\"./data/movies_genres.csv\"\u001b[0m\u001b[0;34m)\u001b[0m\u001b[0;34m\u001b[0m\u001b[0;34m\u001b[0m\u001b[0m\n\u001b[0m",
      "\u001b[0;32m~/anaconda3/lib/python3.7/site-packages/pandas/io/parsers.py\u001b[0m in \u001b[0;36mparser_f\u001b[0;34m(filepath_or_buffer, sep, delimiter, header, names, index_col, usecols, squeeze, prefix, mangle_dupe_cols, dtype, engine, converters, true_values, false_values, skipinitialspace, skiprows, skipfooter, nrows, na_values, keep_default_na, na_filter, verbose, skip_blank_lines, parse_dates, infer_datetime_format, keep_date_col, date_parser, dayfirst, cache_dates, iterator, chunksize, compression, thousands, decimal, lineterminator, quotechar, quoting, doublequote, escapechar, comment, encoding, dialect, error_bad_lines, warn_bad_lines, delim_whitespace, low_memory, memory_map, float_precision)\u001b[0m\n\u001b[1;32m    674\u001b[0m         )\n\u001b[1;32m    675\u001b[0m \u001b[0;34m\u001b[0m\u001b[0m\n\u001b[0;32m--> 676\u001b[0;31m         \u001b[0;32mreturn\u001b[0m \u001b[0m_read\u001b[0m\u001b[0;34m(\u001b[0m\u001b[0mfilepath_or_buffer\u001b[0m\u001b[0;34m,\u001b[0m \u001b[0mkwds\u001b[0m\u001b[0;34m)\u001b[0m\u001b[0;34m\u001b[0m\u001b[0;34m\u001b[0m\u001b[0m\n\u001b[0m\u001b[1;32m    677\u001b[0m \u001b[0;34m\u001b[0m\u001b[0m\n\u001b[1;32m    678\u001b[0m     \u001b[0mparser_f\u001b[0m\u001b[0;34m.\u001b[0m\u001b[0m__name__\u001b[0m \u001b[0;34m=\u001b[0m \u001b[0mname\u001b[0m\u001b[0;34m\u001b[0m\u001b[0;34m\u001b[0m\u001b[0m\n",
      "\u001b[0;32m~/anaconda3/lib/python3.7/site-packages/pandas/io/parsers.py\u001b[0m in \u001b[0;36m_read\u001b[0;34m(filepath_or_buffer, kwds)\u001b[0m\n\u001b[1;32m    446\u001b[0m \u001b[0;34m\u001b[0m\u001b[0m\n\u001b[1;32m    447\u001b[0m     \u001b[0;31m# Create the parser.\u001b[0m\u001b[0;34m\u001b[0m\u001b[0;34m\u001b[0m\u001b[0;34m\u001b[0m\u001b[0m\n\u001b[0;32m--> 448\u001b[0;31m     \u001b[0mparser\u001b[0m \u001b[0;34m=\u001b[0m \u001b[0mTextFileReader\u001b[0m\u001b[0;34m(\u001b[0m\u001b[0mfp_or_buf\u001b[0m\u001b[0;34m,\u001b[0m \u001b[0;34m**\u001b[0m\u001b[0mkwds\u001b[0m\u001b[0;34m)\u001b[0m\u001b[0;34m\u001b[0m\u001b[0;34m\u001b[0m\u001b[0m\n\u001b[0m\u001b[1;32m    449\u001b[0m \u001b[0;34m\u001b[0m\u001b[0m\n\u001b[1;32m    450\u001b[0m     \u001b[0;32mif\u001b[0m \u001b[0mchunksize\u001b[0m \u001b[0;32mor\u001b[0m \u001b[0miterator\u001b[0m\u001b[0;34m:\u001b[0m\u001b[0;34m\u001b[0m\u001b[0;34m\u001b[0m\u001b[0m\n",
      "\u001b[0;32m~/anaconda3/lib/python3.7/site-packages/pandas/io/parsers.py\u001b[0m in \u001b[0;36m__init__\u001b[0;34m(self, f, engine, **kwds)\u001b[0m\n\u001b[1;32m    878\u001b[0m             \u001b[0mself\u001b[0m\u001b[0;34m.\u001b[0m\u001b[0moptions\u001b[0m\u001b[0;34m[\u001b[0m\u001b[0;34m\"has_index_names\"\u001b[0m\u001b[0;34m]\u001b[0m \u001b[0;34m=\u001b[0m \u001b[0mkwds\u001b[0m\u001b[0;34m[\u001b[0m\u001b[0;34m\"has_index_names\"\u001b[0m\u001b[0;34m]\u001b[0m\u001b[0;34m\u001b[0m\u001b[0;34m\u001b[0m\u001b[0m\n\u001b[1;32m    879\u001b[0m \u001b[0;34m\u001b[0m\u001b[0m\n\u001b[0;32m--> 880\u001b[0;31m         \u001b[0mself\u001b[0m\u001b[0;34m.\u001b[0m\u001b[0m_make_engine\u001b[0m\u001b[0;34m(\u001b[0m\u001b[0mself\u001b[0m\u001b[0;34m.\u001b[0m\u001b[0mengine\u001b[0m\u001b[0;34m)\u001b[0m\u001b[0;34m\u001b[0m\u001b[0;34m\u001b[0m\u001b[0m\n\u001b[0m\u001b[1;32m    881\u001b[0m \u001b[0;34m\u001b[0m\u001b[0m\n\u001b[1;32m    882\u001b[0m     \u001b[0;32mdef\u001b[0m \u001b[0mclose\u001b[0m\u001b[0;34m(\u001b[0m\u001b[0mself\u001b[0m\u001b[0;34m)\u001b[0m\u001b[0;34m:\u001b[0m\u001b[0;34m\u001b[0m\u001b[0;34m\u001b[0m\u001b[0m\n",
      "\u001b[0;32m~/anaconda3/lib/python3.7/site-packages/pandas/io/parsers.py\u001b[0m in \u001b[0;36m_make_engine\u001b[0;34m(self, engine)\u001b[0m\n\u001b[1;32m   1112\u001b[0m     \u001b[0;32mdef\u001b[0m \u001b[0m_make_engine\u001b[0m\u001b[0;34m(\u001b[0m\u001b[0mself\u001b[0m\u001b[0;34m,\u001b[0m \u001b[0mengine\u001b[0m\u001b[0;34m=\u001b[0m\u001b[0;34m\"c\"\u001b[0m\u001b[0;34m)\u001b[0m\u001b[0;34m:\u001b[0m\u001b[0;34m\u001b[0m\u001b[0;34m\u001b[0m\u001b[0m\n\u001b[1;32m   1113\u001b[0m         \u001b[0;32mif\u001b[0m \u001b[0mengine\u001b[0m \u001b[0;34m==\u001b[0m \u001b[0;34m\"c\"\u001b[0m\u001b[0;34m:\u001b[0m\u001b[0;34m\u001b[0m\u001b[0;34m\u001b[0m\u001b[0m\n\u001b[0;32m-> 1114\u001b[0;31m             \u001b[0mself\u001b[0m\u001b[0;34m.\u001b[0m\u001b[0m_engine\u001b[0m \u001b[0;34m=\u001b[0m \u001b[0mCParserWrapper\u001b[0m\u001b[0;34m(\u001b[0m\u001b[0mself\u001b[0m\u001b[0;34m.\u001b[0m\u001b[0mf\u001b[0m\u001b[0;34m,\u001b[0m \u001b[0;34m**\u001b[0m\u001b[0mself\u001b[0m\u001b[0;34m.\u001b[0m\u001b[0moptions\u001b[0m\u001b[0;34m)\u001b[0m\u001b[0;34m\u001b[0m\u001b[0;34m\u001b[0m\u001b[0m\n\u001b[0m\u001b[1;32m   1115\u001b[0m         \u001b[0;32melse\u001b[0m\u001b[0;34m:\u001b[0m\u001b[0;34m\u001b[0m\u001b[0;34m\u001b[0m\u001b[0m\n\u001b[1;32m   1116\u001b[0m             \u001b[0;32mif\u001b[0m \u001b[0mengine\u001b[0m \u001b[0;34m==\u001b[0m \u001b[0;34m\"python\"\u001b[0m\u001b[0;34m:\u001b[0m\u001b[0;34m\u001b[0m\u001b[0;34m\u001b[0m\u001b[0m\n",
      "\u001b[0;32m~/anaconda3/lib/python3.7/site-packages/pandas/io/parsers.py\u001b[0m in \u001b[0;36m__init__\u001b[0;34m(self, src, **kwds)\u001b[0m\n\u001b[1;32m   1889\u001b[0m         \u001b[0mkwds\u001b[0m\u001b[0;34m[\u001b[0m\u001b[0;34m\"usecols\"\u001b[0m\u001b[0;34m]\u001b[0m \u001b[0;34m=\u001b[0m \u001b[0mself\u001b[0m\u001b[0;34m.\u001b[0m\u001b[0musecols\u001b[0m\u001b[0;34m\u001b[0m\u001b[0;34m\u001b[0m\u001b[0m\n\u001b[1;32m   1890\u001b[0m \u001b[0;34m\u001b[0m\u001b[0m\n\u001b[0;32m-> 1891\u001b[0;31m         \u001b[0mself\u001b[0m\u001b[0;34m.\u001b[0m\u001b[0m_reader\u001b[0m \u001b[0;34m=\u001b[0m \u001b[0mparsers\u001b[0m\u001b[0;34m.\u001b[0m\u001b[0mTextReader\u001b[0m\u001b[0;34m(\u001b[0m\u001b[0msrc\u001b[0m\u001b[0;34m,\u001b[0m \u001b[0;34m**\u001b[0m\u001b[0mkwds\u001b[0m\u001b[0;34m)\u001b[0m\u001b[0;34m\u001b[0m\u001b[0;34m\u001b[0m\u001b[0m\n\u001b[0m\u001b[1;32m   1892\u001b[0m         \u001b[0mself\u001b[0m\u001b[0;34m.\u001b[0m\u001b[0munnamed_cols\u001b[0m \u001b[0;34m=\u001b[0m \u001b[0mself\u001b[0m\u001b[0;34m.\u001b[0m\u001b[0m_reader\u001b[0m\u001b[0;34m.\u001b[0m\u001b[0munnamed_cols\u001b[0m\u001b[0;34m\u001b[0m\u001b[0;34m\u001b[0m\u001b[0m\n\u001b[1;32m   1893\u001b[0m \u001b[0;34m\u001b[0m\u001b[0m\n",
      "\u001b[0;32mpandas/_libs/parsers.pyx\u001b[0m in \u001b[0;36mpandas._libs.parsers.TextReader.__cinit__\u001b[0;34m()\u001b[0m\n",
      "\u001b[0;32mpandas/_libs/parsers.pyx\u001b[0m in \u001b[0;36mpandas._libs.parsers.TextReader._setup_parser_source\u001b[0;34m()\u001b[0m\n",
      "\u001b[0;31mFileNotFoundError\u001b[0m: [Errno 2] File ./data/movies_genres.csv does not exist: './data/movies_genres.csv'"
     ]
    }
   ],
   "source": [
    "df_movies = pd.read_csv(\"./data/movie_genres.csv\")\n",
    "df_genres = pd.read_csv(\"./data/movies_genres.csv\")"
   ]
  },
  {
   "cell_type": "code",
   "execution_count": 5,
   "metadata": {},
   "outputs": [
    {
     "output_type": "execute_result",
     "data": {
      "text/plain": [
       "   userID  movieID  rating  date_day  date_month  date_year  date_hour  \\\n",
       "0      75        3     1.0        29          10       2006         23   \n",
       "1      75       32     4.5        29          10       2006         23   \n",
       "2      75      110     4.0        29          10       2006         23   \n",
       "3      75      160     2.0        29          10       2006         23   \n",
       "4      75      163     4.0        29          10       2006         23   \n",
       "\n",
       "   date_minute  date_second  \n",
       "0           17           16  \n",
       "1           23           44  \n",
       "2           30            8  \n",
       "3           16           52  \n",
       "4           29           30  "
      ],
      "text/html": "<div>\n<style scoped>\n    .dataframe tbody tr th:only-of-type {\n        vertical-align: middle;\n    }\n\n    .dataframe tbody tr th {\n        vertical-align: top;\n    }\n\n    .dataframe thead th {\n        text-align: right;\n    }\n</style>\n<table border=\"1\" class=\"dataframe\">\n  <thead>\n    <tr style=\"text-align: right;\">\n      <th></th>\n      <th>userID</th>\n      <th>movieID</th>\n      <th>rating</th>\n      <th>date_day</th>\n      <th>date_month</th>\n      <th>date_year</th>\n      <th>date_hour</th>\n      <th>date_minute</th>\n      <th>date_second</th>\n    </tr>\n  </thead>\n  <tbody>\n    <tr>\n      <th>0</th>\n      <td>75</td>\n      <td>3</td>\n      <td>1.0</td>\n      <td>29</td>\n      <td>10</td>\n      <td>2006</td>\n      <td>23</td>\n      <td>17</td>\n      <td>16</td>\n    </tr>\n    <tr>\n      <th>1</th>\n      <td>75</td>\n      <td>32</td>\n      <td>4.5</td>\n      <td>29</td>\n      <td>10</td>\n      <td>2006</td>\n      <td>23</td>\n      <td>23</td>\n      <td>44</td>\n    </tr>\n    <tr>\n      <th>2</th>\n      <td>75</td>\n      <td>110</td>\n      <td>4.0</td>\n      <td>29</td>\n      <td>10</td>\n      <td>2006</td>\n      <td>23</td>\n      <td>30</td>\n      <td>8</td>\n    </tr>\n    <tr>\n      <th>3</th>\n      <td>75</td>\n      <td>160</td>\n      <td>2.0</td>\n      <td>29</td>\n      <td>10</td>\n      <td>2006</td>\n      <td>23</td>\n      <td>16</td>\n      <td>52</td>\n    </tr>\n    <tr>\n      <th>4</th>\n      <td>75</td>\n      <td>163</td>\n      <td>4.0</td>\n      <td>29</td>\n      <td>10</td>\n      <td>2006</td>\n      <td>23</td>\n      <td>29</td>\n      <td>30</td>\n    </tr>\n  </tbody>\n</table>\n</div>"
     },
     "metadata": {},
     "execution_count": 5
    }
   ],
   "source": [
    "# Ahora tengo el userID\n",
    "df_train.head()"
   ]
  },
  {
   "cell_type": "code",
   "execution_count": 5,
   "metadata": {},
   "outputs": [
    {
     "output_type": "execute_result",
     "data": {
      "text/plain": [
       "   ID  movieID  rating  date_day  date_month  date_year  date_hour  \\\n",
       "0   1      608     5.0        17           9       1997         23   \n",
       "1   2      141     4.0        17           9       1997         23   \n",
       "2   3     1073     4.0        17           9       1997         23   \n",
       "3   4      356     4.0        17           9       1997         23   \n",
       "4   5     1198     5.0        17           9       1997         23   \n",
       "\n",
       "   date_minute  date_second  \n",
       "0           40           20  \n",
       "1           41           58  \n",
       "2           41            6  \n",
       "3           43           44  \n",
       "4           44           35  "
      ],
      "text/html": "<div>\n<style scoped>\n    .dataframe tbody tr th:only-of-type {\n        vertical-align: middle;\n    }\n\n    .dataframe tbody tr th {\n        vertical-align: top;\n    }\n\n    .dataframe thead th {\n        text-align: right;\n    }\n</style>\n<table border=\"1\" class=\"dataframe\">\n  <thead>\n    <tr style=\"text-align: right;\">\n      <th></th>\n      <th>ID</th>\n      <th>movieID</th>\n      <th>rating</th>\n      <th>date_day</th>\n      <th>date_month</th>\n      <th>date_year</th>\n      <th>date_hour</th>\n      <th>date_minute</th>\n      <th>date_second</th>\n    </tr>\n  </thead>\n  <tbody>\n    <tr>\n      <th>0</th>\n      <td>1</td>\n      <td>608</td>\n      <td>5.0</td>\n      <td>17</td>\n      <td>9</td>\n      <td>1997</td>\n      <td>23</td>\n      <td>40</td>\n      <td>20</td>\n    </tr>\n    <tr>\n      <th>1</th>\n      <td>2</td>\n      <td>141</td>\n      <td>4.0</td>\n      <td>17</td>\n      <td>9</td>\n      <td>1997</td>\n      <td>23</td>\n      <td>41</td>\n      <td>58</td>\n    </tr>\n    <tr>\n      <th>2</th>\n      <td>3</td>\n      <td>1073</td>\n      <td>4.0</td>\n      <td>17</td>\n      <td>9</td>\n      <td>1997</td>\n      <td>23</td>\n      <td>41</td>\n      <td>6</td>\n    </tr>\n    <tr>\n      <th>3</th>\n      <td>4</td>\n      <td>356</td>\n      <td>4.0</td>\n      <td>17</td>\n      <td>9</td>\n      <td>1997</td>\n      <td>23</td>\n      <td>43</td>\n      <td>44</td>\n    </tr>\n    <tr>\n      <th>4</th>\n      <td>5</td>\n      <td>1198</td>\n      <td>5.0</td>\n      <td>17</td>\n      <td>9</td>\n      <td>1997</td>\n      <td>23</td>\n      <td>44</td>\n      <td>35</td>\n    </tr>\n  </tbody>\n</table>\n</div>"
     },
     "metadata": {},
     "execution_count": 5
    }
   ],
   "source": [
    "df_train.head()"
   ]
  },
  {
   "cell_type": "markdown",
   "metadata": {},
   "source": [
    "## Filtrado y generacion de datos"
   ]
  },
  {
   "cell_type": "code",
   "execution_count": 69,
   "metadata": {},
   "outputs": [],
   "source": [
    "# X_train, X_test, y_train, y_test = train_test_split(X, y, test_size = 0.3, random_state = 0)\n",
    "full_x = df_train.drop(['rating', 'ID'], axis=1)\n",
    "full_y = df_train[['rating']]\n",
    "X_train, X_test, y_train, y_test = train_test_split(full_x, full_y, test_size=0.3, random_state=0)"
   ]
  },
  {
   "cell_type": "code",
   "execution_count": 70,
   "metadata": {},
   "outputs": [
    {
     "output_type": "stream",
     "name": "stdout",
     "text": [
      "train:  539062 539062\ntest:   231027 231027\n"
     ]
    }
   ],
   "source": [
    "print(\"train: \",len(X_train),len(y_train))\n",
    "print(\"test:  \",len(X_test),len(y_test))"
   ]
  },
  {
   "cell_type": "code",
   "execution_count": 71,
   "metadata": {},
   "outputs": [],
   "source": [
    "# Creo regresion lineal\n",
    "model = LinearRegression()\n",
    "\n",
    "# Entreno el modelo usando el conjunto de TRAIN\n",
    "model.fit(X_train, y_train)\n",
    "\n",
    "# Hago predicciones usando el TEST \n",
    "prediction = model.predict(X_test)"
   ]
  },
  {
   "cell_type": "code",
   "execution_count": 72,
   "metadata": {},
   "outputs": [
    {
     "output_type": "stream",
     "name": "stdout",
     "text": [
      "Mean squared error: 1.01\n"
     ]
    }
   ],
   "source": [
    "#ECM\n",
    "print('Mean squared error: %.2f' % mean_squared_error(y_test, prediction))"
   ]
  },
  {
   "source": [
    "## Modelo completo"
   ],
   "cell_type": "markdown",
   "metadata": {}
  },
  {
   "cell_type": "code",
   "execution_count": 73,
   "metadata": {},
   "outputs": [],
   "source": [
    "df_x = df_test.drop(['rating', 'ID'], axis=1)\n",
    "#df_y = df_test[['rating']]"
   ]
  },
  {
   "cell_type": "code",
   "execution_count": 74,
   "metadata": {},
   "outputs": [],
   "source": [
    "# Creo regresion lineal\n",
    "modelFull = LinearRegression()\n",
    "\n",
    "# Entreno el modelo usando el conjunto de TRAIN\n",
    "model.fit(X_train, y_train)\n",
    "\n",
    "# Hago predicciones usando el TEST \n",
    "predFull = model.predict(df_x)"
   ]
  },
  {
   "cell_type": "code",
   "execution_count": 119,
   "metadata": {},
   "outputs": [
    {
     "output_type": "stream",
     "name": "stdout",
     "text": [
      "85509 85509\n"
     ]
    }
   ],
   "source": [
    "print(len(df_test.ID),len(predFull))"
   ]
  },
  {
   "cell_type": "code",
   "execution_count": 120,
   "metadata": {},
   "outputs": [
    {
     "output_type": "execute_result",
     "data": {
      "text/plain": [
       "   ID  rating\n",
       "0   9    3.48\n",
       "1  18    3.45\n",
       "2  34    3.45\n",
       "3  39    3.45\n",
       "4  50    3.48"
      ],
      "text/html": "<div>\n<style scoped>\n    .dataframe tbody tr th:only-of-type {\n        vertical-align: middle;\n    }\n\n    .dataframe tbody tr th {\n        vertical-align: top;\n    }\n\n    .dataframe thead th {\n        text-align: right;\n    }\n</style>\n<table border=\"1\" class=\"dataframe\">\n  <thead>\n    <tr style=\"text-align: right;\">\n      <th></th>\n      <th>ID</th>\n      <th>rating</th>\n    </tr>\n  </thead>\n  <tbody>\n    <tr>\n      <th>0</th>\n      <td>9</td>\n      <td>3.48</td>\n    </tr>\n    <tr>\n      <th>1</th>\n      <td>18</td>\n      <td>3.45</td>\n    </tr>\n    <tr>\n      <th>2</th>\n      <td>34</td>\n      <td>3.45</td>\n    </tr>\n    <tr>\n      <th>3</th>\n      <td>39</td>\n      <td>3.45</td>\n    </tr>\n    <tr>\n      <th>4</th>\n      <td>50</td>\n      <td>3.48</td>\n    </tr>\n  </tbody>\n</table>\n</div>"
     },
     "metadata": {},
     "execution_count": 120
    }
   ],
   "source": [
    "submit = pd.DataFrame({'ID':df_test.ID})\n",
    "submit['rating'] = pd.DataFrame(np.around(predFull, 2))\n",
    "submit.head()"
   ]
  },
  {
   "cell_type": "code",
   "execution_count": 121,
   "metadata": {},
   "outputs": [
    {
     "output_type": "execute_result",
     "data": {
      "text/plain": [
       "85509"
      ]
     },
     "metadata": {},
     "execution_count": 121
    }
   ],
   "source": [
    "len(submit)"
   ]
  },
  {
   "cell_type": "code",
   "execution_count": 117,
   "metadata": {},
   "outputs": [],
   "source": [
    "submit.to_csv('./data/out/ignacio_submit1.csv', index=False)"
   ]
  },
  {
   "source": [
    "## Ejemplo  Whoosh\n",
    "### https://whoosh.readthedocs.io/en/latest/intro.html"
   ],
   "cell_type": "markdown",
   "metadata": {}
  },
  {
   "cell_type": "code",
   "execution_count": 32,
   "metadata": {},
   "outputs": [],
   "source": [
    "import os\n",
    "os.mkdir('index_dir')"
   ]
  },
  {
   "cell_type": "code",
   "execution_count": 33,
   "metadata": {},
   "outputs": [],
   "source": [
    "import whoosh as wh\n",
    "from whoosh import fields\n",
    "from whoosh import index\n",
    "from whoosh import query\n",
    "\n",
    "import pandas as pd"
   ]
  },
  {
   "cell_type": "code",
   "execution_count": 34,
   "metadata": {},
   "outputs": [],
   "source": [
    "schema = wh.fields.Schema(\n",
    "    id=wh.fields.ID(stored=True),\n",
    "    genres=wh.fields.KEYWORD(stored=True, lowercase=True, commas=True)\n",
    ")"
   ]
  },
  {
   "cell_type": "code",
   "execution_count": 35,
   "metadata": {},
   "outputs": [],
   "source": [
    "df_movies_genres = pd.read_csv('./data/movie_genres.csv')"
   ]
  },
  {
   "source": [],
   "cell_type": "markdown",
   "metadata": {}
  },
  {
   "cell_type": "code",
   "execution_count": 38,
   "metadata": {},
   "outputs": [],
   "source": [
    "ix = wh.index.create_in(\"index_dir\", schema)\n",
    "writer = ix.writer()\n",
    "\n",
    "for mid in df_movies_genres.movieID.unique():    \n",
    "    writer.add_document(id=str(mid), genres=u\",\".join(df_movies_genres.loc[df_movies_genres[\"movieID\"]==mid, \"genre\"].tolist()))\n",
    "\n",
    "writer.commit()"
   ]
  },
  {
   "cell_type": "code",
   "execution_count": 39,
   "metadata": {
    "tags": [
     "outputPrepend"
    ]
   },
   "outputs": [
    {
     "output_type": "stream",
     "name": "stdout",
     "text": [
      "'}>\n<Hit {'genres': 'Action,Drama,Thriller,Western', 'id': '3681'}>\n<Hit {'genres': 'Action,Crime,Drama,Thriller', 'id': '3682'}>\n<Hit {'genres': 'Action,Comedy,Crime,Drama', 'id': '3716'}>\n<Hit {'genres': 'Action,Crime,Drama,Thriller', 'id': '3729'}>\n<Hit {'genres': 'Action,Drama,War', 'id': '3753'}>\n<Hit {'genres': 'Action,Crime,Drama,Thriller', 'id': '3761'}>\n<Hit {'genres': 'Action,Adventure,Drama', 'id': '3805'}>\n<Hit {'genres': 'Action,Adventure,Drama', 'id': '3907'}>\n<Hit {'genres': 'Action,Drama,Thriller', 'id': '3946'}>\n<Hit {'genres': 'Action,Crime,Drama,Thriller', 'id': '3947'}>\n<Hit {'genres': 'Action,Adventure,Drama,Fantasy', 'id': '3996'}>\n<Hit {'genres': 'Action,Drama,War,Western', 'id': '4042'}>\n<Hit {'genres': 'Action,Crime,Drama', 'id': '4064'}>\n<Hit {'genres': 'Action,Crime,Drama', 'id': '4065'}>\n<Hit {'genres': 'Action,Comedy,Crime,Drama', 'id': '4085'}>\n<Hit {'genres': 'Action,Adventure,Drama,Thriller', 'id': '4142'}>\n<Hit {'genres': 'Action,Drama', 'id': '4163'}>\n<Hit {'genres': 'Action,Drama', 'id': '4166'}>\n<Hit {'genres': 'Action,Drama', 'id': '4180'}>\n<Hit {'genres': 'Action,Crime,Drama', 'id': '4203'}>\n<Hit {'genres': 'Action,Crime,Drama,Horror,Thriller', 'id': '4210'}>\n<Hit {'genres': 'Action,Crime,Drama', 'id': '4262'}>\n<Hit {'genres': 'Action,Drama,Thriller', 'id': '4295'}>\n<Hit {'genres': 'Action,Drama,Romance,War', 'id': '4310'}>\n<Hit {'genres': 'Action,Adventure,Drama,War', 'id': '4339'}>\n<Hit {'genres': 'Action,Crime,Drama', 'id': '4344'}>\n<Hit {'genres': 'Action,Drama', 'id': '4355'}>\n<Hit {'genres': 'Action,Drama', 'id': '4442'}>\n<Hit {'genres': 'Action,Drama', 'id': '4448'}>\n<Hit {'genres': 'Action,Crime,Drama', 'id': '4466'}>\n<Hit {'genres': 'Action,Crime,Drama', 'id': '4488'}>\n<Hit {'genres': 'Action,Drama,Fantasy,Romance', 'id': '4564'}>\n<Hit {'genres': 'Action,Crime,Drama', 'id': '4572'}>\n<Hit {'genres': 'Action,Drama,Mystery', 'id': '4597'}>\n<Hit {'genres': 'Action,Adventure,Drama', 'id': '4620'}>\n<Hit {'genres': 'Action,Comedy,Drama', 'id': '4635'}>\n<Hit {'genres': 'Action,Adventure,Drama,Sci-Fi', 'id': '4643'}>\n<Hit {'genres': 'Action,Drama', 'id': '4654'}>\n<Hit {'genres': 'Action,Adventure,Drama,Romance', 'id': '4756'}>\n<Hit {'genres': 'Action,Adventure,Comedy,Drama', 'id': '4818'}>\n<Hit {'genres': 'Action,Drama,War', 'id': '4826'}>\n<Hit {'genres': 'Action,Crime,Drama,Thriller', 'id': '4855'}>\n<Hit {'genres': 'Action,Crime,Drama,Romance,Thriller', 'id': '4869'}>\n<Hit {'genres': 'Action,Crime,Drama,Thriller', 'id': '4901'}>\n<Hit {'genres': 'Action,Drama,Thriller', 'id': '4930'}>\n<Hit {'genres': 'Action,Adventure,Comedy,Drama,Romance,Thriller', 'id': '4956'}>\n<Hit {'genres': 'Action,Drama,War', 'id': '4958'}>\n<Hit {'genres': 'Action,Drama,Thriller', 'id': '4965'}>\n<Hit {'genres': 'Action,Drama,War', 'id': '5010'}>\n<Hit {'genres': 'Action,Drama', 'id': '5020'}>\n<Hit {'genres': 'Action,Comedy,Crime,Drama,Thriller', 'id': '5027'}>\n<Hit {'genres': 'Action,Drama,Sci-Fi,Thriller', 'id': '5046'}>\n<Hit {'genres': 'Action,Comedy,Crime,Drama', 'id': '5049'}>\n<Hit {'genres': 'Action,Drama', 'id': '5055'}>\n<Hit {'genres': 'Action,Adventure,Animation,Drama,Fantasy', 'id': '5069'}>\n<Hit {'genres': 'Action,Crime,Drama', 'id': '5138'}>\n<Hit {'genres': 'Action,Drama,War', 'id': '5152'}>\n<Hit {'genres': 'Action,Drama', 'id': '5240'}>\n<Hit {'genres': 'Action,Crime,Drama,Thriller', 'id': '5252'}>\n<Hit {'genres': 'Action,Adventure,Drama,Thriller,Western', 'id': '5300'}>\n<Hit {'genres': 'Action,Crime,Drama,Mystery,Thriller', 'id': '5388'}>\n<Hit {'genres': 'Action,Drama,War', 'id': '5420'}>\n<Hit {'genres': 'Action,Adventure,Drama,Thriller', 'id': '5479'}>\n<Hit {'genres': 'Action,Crime,Drama,Thriller', 'id': '5507'}>\n<Hit {'genres': 'Action,Drama,Sci-Fi', 'id': '5522'}>\n<Hit {'genres': 'Action,Comedy,Drama', 'id': '5628'}>\n<Hit {'genres': 'Action,Comedy,Drama,Romance', 'id': '5706'}>\n<Hit {'genres': 'Action,Drama', 'id': '5730'}>\n<Hit {'genres': 'Action,Drama', 'id': '5743'}>\n<Hit {'genres': 'Action,Adventure,Drama', 'id': '5751'}>\n<Hit {'genres': 'Action,Drama,Thriller', 'id': '5782'}>\n<Hit {'genres': 'Action,Drama', 'id': '5786'}>\n<Hit {'genres': 'Action,Drama,Thriller', 'id': '5824'}>\n<Hit {'genres': 'Action,Drama', 'id': '5843'}>\n<Hit {'genres': 'Action,Crime,Drama', 'id': '5888'}>\n<Hit {'genres': 'Action,Drama,War', 'id': '5899'}>\n<Hit {'genres': 'Action,Drama,War', 'id': '5915'}>\n<Hit {'genres': 'Action,Drama,Thriller', 'id': '5935'}>\n<Hit {'genres': 'Action,Drama,Sci-Fi,Thriller', 'id': '5944'}>\n<Hit {'genres': 'Action,Drama,Romance', 'id': '5985'}>\n<Hit {'genres': 'Action,Comedy,Drama', 'id': '6003'}>\n<Hit {'genres': 'Action,Comedy,Drama', 'id': '6010'}>\n<Hit {'genres': 'Action,Crime,Drama', 'id': '6016'}>\n<Hit {'genres': 'Action,Crime,Drama', 'id': '6051'}>\n<Hit {'genres': 'Action,Crime,Drama', 'id': '6057'}>\n<Hit {'genres': 'Action,Drama', 'id': '6176'}>\n<Hit {'genres': 'Action,Drama', 'id': '6179'}>\n<Hit {'genres': 'Action,Crime,Drama,Thriller', 'id': '6185'}>\n<Hit {'genres': 'Action,Drama,War', 'id': '6186'}>\n<Hit {'genres': 'Action,Drama,Thriller', 'id': '6213'}>\n<Hit {'genres': 'Action,Drama,Thriller', 'id': '6219'}>\n<Hit {'genres': 'Action,Crime,Drama', 'id': '6240'}>\n<Hit {'genres': 'Action,Drama,Sci-Fi,Thriller', 'id': '6264'}>\n<Hit {'genres': 'Action,Adventure,Drama', 'id': '6276'}>\n<Hit {'genres': 'Action,Crime,Drama,Thriller', 'id': '6280'}>\n<Hit {'genres': 'Action,Adventure,Comedy,Drama', 'id': '6317'}>\n<Hit {'genres': 'Action,Adventure,Crime,Drama', 'id': '6378'}>\n<Hit {'genres': 'Action,Drama,Horror,Sci-Fi,Thriller', 'id': '6395'}>\n<Hit {'genres': 'Action,Drama,Romance,Western', 'id': '6421'}>\n<Hit {'genres': 'Action,Adventure,Drama,Romance', 'id': '6446'}>\n<Hit {'genres': 'Action,Adventure,Drama', 'id': '6448'}>\n<Hit {'genres': 'Action,Drama,War', 'id': '6457'}>\n<Hit {'genres': 'Action,Crime,Drama', 'id': '6484'}>\n<Hit {'genres': 'Action,Adventure,Drama,Sci-Fi', 'id': '6541'}>\n<Hit {'genres': 'Action,Drama', 'id': '6575'}>\n<Hit {'genres': 'Action,Drama', 'id': '6577'}>\n<Hit {'genres': 'Action,Crime,Drama', 'id': '6585'}>\n<Hit {'genres': 'Action,Crime,Drama', 'id': '6587'}>\n<Hit {'genres': 'Action,Drama', 'id': '6637'}>\n<Hit {'genres': 'Action,Adventure,Drama', 'id': '6721'}>\n<Hit {'genres': 'Action,Comedy,Drama', 'id': '6730'}>\n<Hit {'genres': 'Action,Comedy,Drama,Thriller', 'id': '6815'}>\n<Hit {'genres': 'Action,Drama,Thriller', 'id': '6900'}>\n<Hit {'genres': 'Action,Adventure,Drama,War', 'id': '6947'}>\n<Hit {'genres': 'Action,Crime,Drama', 'id': '6977'}>\n<Hit {'genres': 'Action,Adventure,Comedy,Crime,Drama', 'id': '6990'}>\n<Hit {'genres': 'Action,Comedy,Crime,Drama,Thriller', 'id': '7007'}>\n<Hit {'genres': 'Action,Drama', 'id': '7016'}>\n<Hit {'genres': 'Action,Drama,Horror,Sci-Fi,Thriller', 'id': '7022'}>\n<Hit {'genres': 'Action,Crime,Drama,Thriller', 'id': '7031'}>\n<Hit {'genres': 'Action,Crime,Drama,Thriller', 'id': '7040'}>\n<Hit {'genres': 'Action,Crime,Drama', 'id': '7047'}>\n<Hit {'genres': 'Action,Crime,Drama', 'id': '7056'}>\n<Hit {'genres': 'Action,Drama,Romance,Western', 'id': '7072'}>\n<Hit {'genres': 'Action,Crime,Drama,Thriller', 'id': '7076'}>\n<Hit {'genres': 'Action,Adventure,Drama', 'id': '7090'}>\n<Hit {'genres': 'Action,Crime,Drama', 'id': '7108'}>\n<Hit {'genres': 'Action,Drama,Thriller', 'id': '7127'}>\n<Hit {'genres': 'Action,Drama', 'id': '7138'}>\n<Hit {'genres': 'Action,Adventure,Drama,War', 'id': '7143'}>\n<Hit {'genres': 'Action,Comedy,Crime,Drama,Horror,Thriller', 'id': '7235'}>\n<Hit {'genres': 'Action,Drama,War', 'id': '7240'}>\n<Hit {'genres': 'Action,Adventure,Drama,War', 'id': '7248'}>\n<Hit {'genres': 'Action,Crime,Drama', 'id': '7272'}>\n<Hit {'genres': 'Action,Drama', 'id': '7300'}>\n<Hit {'genres': 'Action,Adventure,Drama,War', 'id': '7307'}>\n<Hit {'genres': 'Action,Adventure,Drama,Western', 'id': '7324'}>\n<Hit {'genres': 'Action,Drama,Horror,Thriller', 'id': '7360'}>\n<Hit {'genres': 'Action,Adventure,Drama,War', 'id': '7379'}>\n<Hit {'genres': 'Action,Drama,Horror', 'id': '7387'}>\n<Hit {'genres': 'Action,Drama,Thriller', 'id': '7438'}>\n<Hit {'genres': 'Action,Crime,Drama,Mystery,Thriller', 'id': '7445'}>\n<Hit {'genres': 'Action,Adventure,Drama,War', 'id': '7458'}>\n<Hit {'genres': 'Action,Crime,Drama,Romance,Thriller', 'id': '7483'}>\n<Hit {'genres': 'Action,Adventure,Drama,Thriller', 'id': '7700'}>\n<Hit {'genres': 'Action,Drama,War', 'id': '7756'}>\n<Hit {'genres': 'Action,Drama,Thriller,War', 'id': '7766'}>\n<Hit {'genres': 'Action,Drama,War', 'id': '7769'}>\n<Hit {'genres': 'Action,Drama', 'id': '7782'}>\n<Hit {'genres': 'Action,Drama,War', 'id': '7787'}>\n<Hit {'genres': 'Action,Crime,Drama', 'id': '7802'}>\n<Hit {'genres': 'Action,Drama,War', 'id': '7814'}>\n<Hit {'genres': 'Action,Crime,Drama', 'id': '7893'}>\n<Hit {'genres': 'Action,Drama', 'id': '7923'}>\n<Hit {'genres': 'Action,Drama,War', 'id': '7980'}>\n<Hit {'genres': 'Action,Drama', 'id': '7995'}>\n<Hit {'genres': 'Action,Crime,Drama,Thriller', 'id': '8016'}>\n<Hit {'genres': 'Action,Drama,War', 'id': '8045'}>\n<Hit {'genres': 'Action,Drama,Romance,Thriller', 'id': '8093'}>\n<Hit {'genres': 'Action,Drama', 'id': '8132'}>\n<Hit {'genres': 'Action,Crime,Drama,Film-Noir,Mystery', 'id': '8228'}>\n<Hit {'genres': 'Action,Drama,War', 'id': '8257'}>\n<Hit {'genres': 'Action,Adventure,Drama,Sci-Fi,Thriller', 'id': '8361'}>\n<Hit {'genres': 'Action,Comedy,Crime,Drama', 'id': '8370'}>\n<Hit {'genres': 'Action,Adventure,Drama,Romance,War', 'id': '8403'}>\n<Hit {'genres': 'Action,Drama,Romance,War', 'id': '8446'}>\n<Hit {'genres': 'Action,Adventure,Drama,Romance,Thriller,Western', 'id': '8481'}>\n<Hit {'genres': 'Action,Drama,Thriller', 'id': '8483'}>\n<Hit {'genres': 'Action,Drama,War', 'id': '8493'}>\n<Hit {'genres': 'Action,Drama,War', 'id': '8543'}>\n<Hit {'genres': 'Action,Adventure,Drama,Romance', 'id': '8585'}>\n<Hit {'genres': 'Action,Crime,Drama,Thriller', 'id': '8593'}>\n<Hit {'genres': 'Action,Drama', 'id': '8631'}>\n<Hit {'genres': 'Action,Comedy,Drama', 'id': '8634'}>\n<Hit {'genres': 'Action,Adventure,Drama,War', 'id': '8640'}>\n<Hit {'genres': 'Action,Drama', 'id': '8662'}>\n<Hit {'genres': 'Action,Adventure,Drama,Mystery,Thriller', 'id': '8665'}>\n<Hit {'genres': 'Action,Drama,War', 'id': '8675'}>\n<Hit {'genres': 'Action,Adventure,Drama,Western', 'id': '8678'}>\n<Hit {'genres': 'Action,Drama,War', 'id': '8730'}>\n<Hit {'genres': 'Action,Drama,Thriller', 'id': '8791'}>\n<Hit {'genres': 'Action,Adventure,Drama,War', 'id': '8795'}>\n<Hit {'genres': 'Action,Crime,Drama,Thriller', 'id': '8798'}>\n<Hit {'genres': 'Action,Adventure,Drama', 'id': '8832'}>\n<Hit {'genres': 'Action,Crime,Drama,Mystery,Thriller', 'id': '8860'}>\n<Hit {'genres': 'Action,Drama,Horror,Thriller', 'id': '8894'}>\n<Hit {'genres': 'Action,Drama,Thriller', 'id': '8908'}>\n<Hit {'genres': 'Action,Adventure,Animation,Comedy,Drama', 'id': '8917'}>\n<Hit {'genres': 'Action,Comedy,Drama', 'id': '8927'}>\n<Hit {'genres': 'Action,Drama', 'id': '8937'}>\n<Hit {'genres': 'Action,Adventure,Drama,Mystery,Thriller', 'id': '8972'}>\n<Hit {'genres': 'Action,Adventure,Drama,War', 'id': '8977'}>\n<Hit {'genres': 'Action,Drama,Romance', 'id': '8983'}>\n<Hit {'genres': 'Action,Adventure,Drama,Romance', 'id': '25946'}>\n<Hit {'genres': 'Action,Adventure,Drama', 'id': '25995'}>\n<Hit {'genres': 'Action,Adventure,Drama', 'id': '26005'}>\n<Hit {'genres': 'Action,Adventure,Drama', 'id': '26012'}>\n<Hit {'genres': 'Action,Crime,Drama,Film-Noir,Thriller', 'id': '26117'}>\n<Hit {'genres': 'Action,Adventure,Drama,War', 'id': '26155'}>\n<Hit {'genres': 'Action,Crime,Drama', 'id': '26159'}>\n<Hit {'genres': 'Action,Crime,Drama,Thriller', 'id': '26172'}>\n<Hit {'genres': 'Action,Drama,Thriller', 'id': '26289'}>\n<Hit {'genres': 'Action,Crime,Drama', 'id': '26462'}>\n<Hit {'genres': 'Action,Crime,Drama', 'id': '26464'}>\n<Hit {'genres': 'Action,Crime,Drama,Thriller', 'id': '26488'}>\n<Hit {'genres': 'Action,Drama', 'id': '26550'}>\n<Hit {'genres': 'Action,Adventure,Drama,Mystery,Thriller', 'id': '26614'}>\n<Hit {'genres': 'Action,Drama,War', 'id': '26681'}>\n<Hit {'genres': 'Action,Crime,Drama', 'id': '26688'}>\n<Hit {'genres': 'Action,Crime,Drama,Thriller', 'id': '26746'}>\n<Hit {'genres': 'Action,Crime,Drama,Mystery', 'id': '26840'}>\n<Hit {'genres': 'Action,Comedy,Drama,Thriller', 'id': '26842'}>\n<Hit {'genres': 'Action,Drama', 'id': '26865'}>\n<Hit {'genres': 'Action,Crime,Drama', 'id': '26898'}>\n<Hit {'genres': 'Action,Crime,Drama,Romance', 'id': '26989'}>\n<Hit {'genres': 'Action,Crime,Drama,Thriller', 'id': '27109'}>\n<Hit {'genres': 'Action,Drama,Thriller', 'id': '27376'}>\n<Hit {'genres': 'Action,Crime,Drama,Thriller', 'id': '27592'}>\n<Hit {'genres': 'Action,Adventure,Drama,Sci-Fi,Thriller', 'id': '27618'}>\n<Hit {'genres': 'Action,Animation,Drama,Sci-Fi', 'id': '27660'}>\n<Hit {'genres': 'Action,Animation,Drama,Sci-Fi,Thriller', 'id': '27728'}>\n<Hit {'genres': 'Action,Adventure,Comedy,Drama,Thriller', 'id': '27735'}>\n<Hit {'genres': 'Action,Adventure,Crime,Drama,Mystery,Thriller', 'id': '27773'}>\n<Hit {'genres': 'Action,Crime,Drama,Thriller', 'id': '27828'}>\n<Hit {'genres': 'Action,Crime,Drama,Thriller', 'id': '27831'}>\n<Hit {'genres': 'Action,Drama,War', 'id': '27869'}>\n<Hit {'genres': 'Action,Drama,Fantasy,Sci-Fi', 'id': '27905'}>\n<Hit {'genres': 'Action,Crime,Drama', 'id': '31101'}>\n<Hit {'genres': 'Action,Adventure,Crime,Drama', 'id': '31221'}>\n<Hit {'genres': 'Action,Crime,Drama,Thriller', 'id': '31420'}>\n<Hit {'genres': 'Action,Drama', 'id': '31467'}>\n<Hit {'genres': 'Action,Adventure,Drama,War', 'id': '31528'}>\n<Hit {'genres': 'Action,Adventure,Drama,Romance,War', 'id': '31617'}>\n<Hit {'genres': 'Action,Adventure,Animation,Drama,Fantasy,Sci-Fi', 'id': '31660'}>\n<Hit {'genres': 'Action,Drama', 'id': '31705'}>\n<Hit {'genres': 'Action,Crime,Drama,Thriller', 'id': '32029'}>\n<Hit {'genres': 'Action,Drama,Sci-Fi', 'id': '32076'}>\n<Hit {'genres': 'Action,Drama,Sci-Fi', 'id': '32078'}>\n<Hit {'genres': 'Action,Drama,War', 'id': '32174'}>\n<Hit {'genres': 'Action,Crime,Drama,Thriller', 'id': '32211'}>\n<Hit {'genres': 'Action,Drama', 'id': '32387'}>\n<Hit {'genres': 'Action,Comedy,Crime,Drama', 'id': '32460'}>\n<Hit {'genres': 'Action,Drama,War', 'id': '32721'}>\n<Hit {'genres': 'Action,Crime,Drama', 'id': '33132'}>\n<Hit {'genres': 'Action,Drama,Romance,War', 'id': '33162'}>\n<Hit {'genres': 'Action,Drama,Thriller', 'id': '33437'}>\n<Hit {'genres': 'Action,Comedy,Drama', 'id': '33672'}>\n<Hit {'genres': 'Action,Crime,Drama', 'id': '33905'}>\n<Hit {'genres': 'Action,Drama,Sci-Fi,Thriller', 'id': '34319'}>\n<Hit {'genres': 'Action,Drama,Thriller', 'id': '34526'}>\n<Hit {'genres': 'Action,Crime,Drama', 'id': '34534'}>\n<Hit {'genres': 'Action,Drama,War', 'id': '34536'}>\n<Hit {'genres': 'Action,Crime,Drama', 'id': '34583'}>\n<Hit {'genres': 'Action,Crime,Drama,Romance,Thriller,War', 'id': '36529'}>\n<Hit {'genres': 'Action,Drama,Musical,War', 'id': '36553'}>\n<Hit {'genres': 'Action,Drama', 'id': '36752'}>\n<Hit {'genres': 'Action,Drama,Thriller', 'id': '37727'}>\n<Hit {'genres': 'Action,Crime,Drama', 'id': '37731'}>\n<Hit {'genres': 'Action,Crime,Drama,Thriller', 'id': '37733'}>\n<Hit {'genres': 'Action,Crime,Drama', 'id': '38095'}>\n<Hit {'genres': 'Action,Adventure,Drama,Fantasy', 'id': '38294'}>\n<Hit {'genres': 'Action,Crime,Drama,Western', 'id': '39381'}>\n<Hit {'genres': 'Action,Adventure,Drama,Western', 'id': '39435'}>\n<Hit {'genres': 'Action,Crime,Drama', 'id': '39896'}>\n<Hit {'genres': 'Action,Drama,War', 'id': '40278'}>\n<Hit {'genres': 'Action,Crime,Drama,Musical', 'id': '40574'}>\n<Hit {'genres': 'Action,Adventure,Drama,War', 'id': '40973'}>\n<Hit {'genres': 'Action,Adventure,Drama,Fantasy,Thriller', 'id': '41569'}>\n<Hit {'genres': 'Action,Drama,Fantasy', 'id': '41575'}>\n<Hit {'genres': 'Action,Drama', 'id': '41627'}>\n<Hit {'genres': 'Action,Adventure,Crime,Drama,Western', 'id': '41863'}>\n<Hit {'genres': 'Action,Crime,Drama,Thriller', 'id': '41997'}>\n<Hit {'genres': 'Action,Adventure,Comedy,Drama,Romance', 'id': '42015'}>\n<Hit {'genres': 'Action,Adventure,Drama', 'id': '43917'}>\n<Hit {'genres': 'Action,Drama,Romance', 'id': '45412'}>\n<Hit {'genres': 'Action,Drama', 'id': '46034'}>\n<Hit {'genres': 'Action,Drama', 'id': '46322'}>\n<Hit {'genres': 'Action,Crime,Drama,Thriller', 'id': '46335'}>\n<Hit {'genres': 'Action,Crime,Drama,Thriller', 'id': '46430'}>\n<Hit {'genres': 'Action,Drama,Thriller,War', 'id': '46855'}>\n<Hit {'genres': 'Action,Crime,Drama,Thriller', 'id': '47044'}>\n<Hit {'genres': 'Action,Crime,Drama,Thriller', 'id': '47254'}>\n<Hit {'genres': 'Action,Crime,Drama,Romance', 'id': '47330'}>\n<Hit {'genres': 'Action,Drama', 'id': '47815'}>\n<Hit {'genres': 'Action,Crime,Drama,Romance,Western', 'id': '47956'}>\n<Hit {'genres': 'Action,Adventure,Drama', 'id': '48304'}>\n<Hit {'genres': 'Action,Adventure,Drama,War', 'id': '48319'}>\n<Hit {'genres': 'Action,Adventure,Drama', 'id': '48412'}>\n<Hit {'genres': 'Action,Drama,Thriller', 'id': '48596'}>\n<Hit {'genres': 'Action,Drama', 'id': '48711'}>\n<Hit {'genres': 'Action,Adventure,Drama,Sci-Fi,Thriller', 'id': '48774'}>\n<Hit {'genres': 'Action,Crime,Drama', 'id': '49314'}>\n<Hit {'genres': 'Action,Drama', 'id': '49651'}>\n<Hit {'genres': 'Action,Drama,War', 'id': '49688'}>\n<Hit {'genres': 'Action,Adventure,Drama,Romance', 'id': '50005'}>\n<Hit {'genres': 'Action,Drama,War', 'id': '50151'}>\n<Hit {'genres': 'Action,Crime,Drama,Thriller', 'id': '50794'}>\n<Hit {'genres': 'Action,Adventure,Drama,War', 'id': '51007'}>\n<Hit {'genres': 'Action,Adventure,Comedy,Drama,Fantasy,Horror,Sci-Fi,Thriller', 'id': '51709'}>\n<Hit {'genres': 'Action,Drama,Thriller', 'id': '51935'}>\n<Hit {'genres': 'Action,Adventure,Drama,War,Western', 'id': '52321'}>\n<Hit {'genres': 'Action,Adventure,Drama,Thriller,War', 'id': '52460'}>\n<Hit {'genres': 'Action,Adventure,Drama,War', 'id': '53550'}>\n<Hit {'genres': 'Action,Adventure,Drama,Romance,War', 'id': '54075'}>\n<Hit {'genres': 'Action,Drama,Thriller', 'id': '54736'}>\n<Hit {'genres': 'Action,Drama,Horror,Sci-Fi,Thriller', 'id': '54771'}>\n<Hit {'genres': 'Action,Crime,Drama,Western', 'id': '54997'}>\n<Hit {'genres': 'Action,Adventure,Comedy,Drama,Thriller', 'id': '55116'}>\n<Hit {'genres': 'Action,Adventure,Drama,Fantasy', 'id': '55259'}>\n<Hit {'genres': 'Action,Drama,War', 'id': '55402'}>\n<Hit {'genres': 'Action,Crime,Drama,Thriller', 'id': '55721'}>\n<Hit {'genres': 'Action,Adventure,Animation,Drama,Fantasy', 'id': '55995'}>\n<Hit {'genres': 'Action,Drama,Musical,Romance', 'id': '56167'}>\n<Hit {'genres': 'Action,Adventure,Drama,Fantasy,Thriller', 'id': '56171'}>\n<Hit {'genres': 'Action,Crime,Drama,War', 'id': '56511'}>\n<Hit {'genres': 'Action,Drama,Fantasy,Sci-Fi,Thriller,War', 'id': '56921'}>\n<Hit {'genres': 'Action,Adventure,Drama,Fantasy,Sci-Fi', 'id': '57223'}>\n<Hit {'genres': 'Action,Drama,Thriller', 'id': '57528'}>\n<Hit {'genres': 'Action,Drama,Thriller', 'id': '58103'}>\n<Hit {'genres': 'Action,Adventure,Drama', 'id': '58293'}>\n<Hit {'genres': 'Action,Drama,Sci-Fi,Thriller', 'id': '58297'}>\n<Hit {'genres': 'Action,Crime,Drama,IMAX', 'id': '58559'}>\n<Hit {'genres': 'Action,Drama,Thriller', 'id': '59173'}>\n<Hit {'genres': 'Action,Drama,Thriller', 'id': '59256'}>\n<Hit {'genres': 'Action,Drama', 'id': '59336'}>\n<Hit {'genres': 'Action,Crime,Drama,Thriller', 'id': '59369'}>\n<Hit {'genres': 'Action,Comedy,Drama,Fantasy', 'id': '60074'}>\n<Hit {'genres': 'Action,Crime,Drama,Thriller', 'id': '60237'}>\n<Hit {'genres': 'Action,Drama,Western', 'id': '60688'}>\n<Hit {'genres': 'Action,Crime,Drama', 'id': '60753'}>\n<Hit {'genres': 'Action,Drama,Thriller', 'id': '61073'}>\n<Hit {'genres': 'Action,Drama,Thriller', 'id': '62374'}>\n<Hit {'genres': 'Action,Crime,Drama,Thriller', 'id': '62394'}>\n<Hit {'genres': 'Action,Drama', 'id': '62801'}>\n<Hit {'genres': 'Action,Crime,Drama,Thriller', 'id': '62849'}>\n<Hit {'genres': 'Action,Drama,Thriller', 'id': '63222'}>\n<Hit {'genres': 'Action,Drama,Thriller', 'id': '63662'}>\n<Hit {'genres': 'Action,Drama,Romance', 'id': '63772'}>\n<Hit {'genres': 'Action,Crime,Drama,Thriller', 'id': '64231'}>\n<Hit {'genres': 'Action,Drama,Thriller', 'id': '64614'}>\n"
     ]
    }
   ],
   "source": [
    "searcher = ix.searcher()\n",
    "\n",
    "query = wh.query.Term(\"genres\", \"action\") & wh.query.Term(\"genres\", \"drama\")\n",
    "results  = searcher.search(query, limit=None)\n",
    "for r in results:\n",
    "    print(r)"
   ]
  },
  {
   "cell_type": "code",
   "execution_count": 40,
   "metadata": {
    "tags": [
     "outputPrepend"
    ]
   },
   "outputs": [
    {
     "output_type": "stream",
     "name": "stdout",
     "text": [
      "'genres': 'Comedy,Drama', 'id': '50583'}> 0.9\n",
      "<Hit {'genres': 'Comedy,Drama,Romance', 'id': '50685'}> 0.9\n",
      "<Hit {'genres': 'Comedy,Drama,Romance', 'id': '50792'}> 0.9\n",
      "<Hit {'genres': 'Action,Crime,Drama,Thriller', 'id': '50794'}> 0.1\n",
      "<Hit {'genres': 'Adventure,Comedy', 'id': '50798'}> 0.9\n",
      "<Hit {'genres': 'Comedy,Drama,Romance', 'id': '50802'}> 0.9\n",
      "<Hit {'genres': 'Comedy,Romance', 'id': '50806'}> 0.9\n",
      "<Hit {'genres': 'Comedy,Drama', 'id': '50842'}> 0.9\n",
      "<Hit {'genres': 'Animation,Children,Comedy,Fantasy', 'id': '50872'}> 0.9\n",
      "<Hit {'genres': 'Comedy', 'id': '50970'}> 0.9\n",
      "<Hit {'genres': 'Action,Adventure,Drama,War', 'id': '51007'}> 0.1\n",
      "<Hit {'genres': 'Action,Fantasy,Thriller', 'id': '51077'}> 0.1\n",
      "<Hit {'genres': 'Comedy,Romance', 'id': '51082'}> 0.9\n",
      "<Hit {'genres': 'Comedy,Romance', 'id': '51084'}> 0.9\n",
      "<Hit {'genres': 'Comedy', 'id': '51088'}> 0.9\n",
      "<Hit {'genres': 'Comedy,Drama,Romance', 'id': '51094'}> 0.9\n",
      "<Hit {'genres': 'Action,Adventure', 'id': '51277'}> 0.1\n",
      "<Hit {'genres': 'Action,Sci-Fi,Thriller', 'id': '51412'}> 0.1\n",
      "<Hit {'genres': 'Comedy,Horror', 'id': '51498'}> 0.9\n",
      "<Hit {'genres': 'Adventure,Comedy', 'id': '51575'}> 0.9\n",
      "<Hit {'genres': 'Action,Fantasy,War', 'id': '51662'}> 0.1\n",
      "<Hit {'genres': 'Comedy,Romance', 'id': '51705'}> 0.9\n",
      "<Hit {'genres': 'Comedy,Drama,Romance', 'id': '51903'}> 0.9\n",
      "<Hit {'genres': 'Action,Drama,Thriller', 'id': '51935'}> 0.1\n",
      "<Hit {'genres': 'Comedy,Drama,Romance', 'id': '52037'}> 0.9\n",
      "<Hit {'genres': 'Adventure,Comedy,Romance', 'id': '52227'}> 0.9\n",
      "<Hit {'genres': 'Comedy', 'id': '52279'}> 0.9\n",
      "<Hit {'genres': 'Action,Crime,Horror,Sci-Fi,Thriller', 'id': '52281'}> 0.1\n",
      "<Hit {'genres': 'Action,Adventure,Drama,War,Western', 'id': '52321'}> 0.1\n",
      "<Hit {'genres': 'Comedy,Drama,Romance', 'id': '52352'}> 0.9\n",
      "<Hit {'genres': 'Animation,Comedy,Fantasy,Musical', 'id': '52435'}> 0.9\n",
      "<Hit {'genres': 'Action,Adventure,Drama,Thriller,War', 'id': '52460'}> 0.1\n",
      "<Hit {'genres': 'Animation,Comedy', 'id': '52462'}> 0.9\n",
      "<Hit {'genres': 'Comedy,Romance', 'id': '52545'}> 0.9\n",
      "<Hit {'genres': 'Comedy,Crime,Thriller', 'id': '52606'}> 0.9\n",
      "<Hit {'genres': 'Comedy,Drama,Romance', 'id': '52668'}> 0.9\n",
      "<Hit {'genres': 'Comedy', 'id': '52694'}> 0.9\n",
      "<Hit {'genres': 'Comedy', 'id': '52715'}> 0.9\n",
      "<Hit {'genres': 'Action,Thriller', 'id': '52717'}> 0.1\n",
      "<Hit {'genres': 'Action,Adventure,Sci-Fi,Thriller', 'id': '52722'}> 0.1\n",
      "<Hit {'genres': 'Comedy,Drama', 'id': '52724'}> 0.9\n",
      "<Hit {'genres': 'Comedy,Drama,Romance', 'id': '52838'}> 0.9\n",
      "<Hit {'genres': 'Comedy,Romance', 'id': '52867'}> 0.9\n",
      "<Hit {'genres': 'Action,Fantasy,Horror,Thriller', 'id': '52950'}> 0.1\n",
      "<Hit {'genres': 'Comedy,Drama,Romance', 'id': '52973'}> 0.9\n",
      "<Hit {'genres': 'Comedy,Drama,Musical', 'id': '52975'}> 0.9\n",
      "<Hit {'genres': 'Comedy,Drama,Romance', 'id': '53002'}> 0.9\n",
      "<Hit {'genres': 'Adventure,Animation,Children,Comedy,Fantasy', 'id': '53121'}> 0.9\n",
      "<Hit {'genres': 'Action,Horror,Thriller', 'id': '53131'}> 0.1\n",
      "<Hit {'genres': 'Action,Thriller', 'id': '53143'}> 0.1\n",
      "<Hit {'genres': 'Comedy,Drama,Fantasy,Romance', 'id': '53161'}> 0.9\n",
      "<Hit {'genres': 'Comedy', 'id': '53189'}> 0.9\n",
      "<Hit {'genres': 'Comedy,Drama,Romance', 'id': '53318'}> 0.9\n",
      "<Hit {'genres': 'Comedy,Crime,Drama,Thriller', 'id': '53322'}> 0.9\n",
      "<Hit {'genres': 'Adventure,Comedy,Drama,War', 'id': '53349'}> 0.9\n",
      "<Hit {'genres': 'Comedy,Romance', 'id': '53355'}> 0.9\n",
      "<Hit {'genres': 'Comedy,Fantasy,Horror', 'id': '53450'}> 0.9\n",
      "<Hit {'genres': 'Action,Adventure,Fantasy,Sci-Fi', 'id': '53464'}> 0.1\n",
      "<Hit {'genres': 'Comedy,Horror,Thriller', 'id': '53468'}> 0.9\n",
      "<Hit {'genres': 'Comedy', 'id': '53476'}> 0.9\n",
      "<Hit {'genres': 'Action,Adventure,Drama,War', 'id': '53550'}> 0.1\n",
      "<Hit {'genres': 'Comedy,Drama', 'id': '53574'}> 0.9\n",
      "<Hit {'genres': 'Comedy', 'id': '53578'}> 0.9\n",
      "<Hit {'genres': 'Comedy,Romance', 'id': '53769'}> 0.9\n",
      "<Hit {'genres': 'Comedy,Drama', 'id': '53956'}> 0.9\n",
      "<Hit {'genres': 'Action,Adventure,Crime,Thriller', 'id': '53972'}> 0.1\n",
      "<Hit {'genres': 'Comedy,Romance', 'id': '53974'}> 0.9\n",
      "<Hit {'genres': 'Comedy,Fantasy', 'id': '53993'}> 0.9\n",
      "<Hit {'genres': 'Action,Adventure,Sci-Fi,Thriller', 'id': '53996'}> 0.1\n",
      "<Hit {'genres': 'Comedy', 'id': '54004'}> 0.9\n",
      "<Hit {'genres': 'Action,Adventure,Drama,Romance,War', 'id': '54075'}> 0.1\n",
      "<Hit {'genres': 'Comedy,Drama', 'id': '54094'}> 0.9\n",
      "<Hit {'genres': 'Comedy,Drama,Romance', 'id': '54193'}> 0.9\n",
      "<Hit {'genres': 'Comedy', 'id': '54268'}> 0.9\n",
      "<Hit {'genres': 'Animation,Comedy', 'id': '54272'}> 0.9\n",
      "<Hit {'genres': 'Comedy,Drama,Romance', 'id': '54276'}> 0.9\n",
      "<Hit {'genres': 'Comedy,Drama', 'id': '54281'}> 0.9\n",
      "<Hit {'genres': 'Action,Adventure,Mystery,Thriller', 'id': '54286'}> 0.1\n",
      "<Hit {'genres': 'Comedy', 'id': '54290'}> 0.9\n",
      "<Hit {'genres': 'Comedy', 'id': '54328'}> 0.9\n",
      "<Hit {'genres': 'Comedy,Crime,Thriller', 'id': '54331'}> 0.9\n",
      "<Hit {'genres': 'Comedy', 'id': '54503'}> 0.9\n",
      "<Hit {'genres': 'Comedy,Drama,Romance', 'id': '54621'}> 0.9\n",
      "<Hit {'genres': 'Action,Adventure,Fantasy,War', 'id': '54686'}> 0.1\n",
      "<Hit {'genres': 'Comedy', 'id': '54732'}> 0.9\n",
      "<Hit {'genres': 'Comedy', 'id': '54734'}> 0.9\n",
      "<Hit {'genres': 'Action,Drama,Thriller', 'id': '54736'}> 0.1\n",
      "<Hit {'genres': 'Comedy,Drama', 'id': '54745'}> 0.9\n",
      "<Hit {'genres': 'Children,Comedy', 'id': '54768'}> 0.9\n",
      "<Hit {'genres': 'Action,Drama,Horror,Sci-Fi,Thriller', 'id': '54771'}> 0.1\n",
      "<Hit {'genres': 'Action,Thriller', 'id': '54775'}> 0.1\n",
      "<Hit {'genres': 'Comedy,Drama,Romance', 'id': '54780'}> 0.9\n",
      "<Hit {'genres': 'Comedy,Drama,Romance', 'id': '54796'}> 0.9\n",
      "<Hit {'genres': 'Comedy,Horror,Thriller', 'id': '54910'}> 0.9\n",
      "<Hit {'genres': 'Comedy', 'id': '54934'}> 0.9\n",
      "<Hit {'genres': 'Comedy,Drama,Romance,Sci-Fi', 'id': '54978'}> 0.9\n",
      "<Hit {'genres': 'Action,Crime,Drama,Western', 'id': '54997'}> 0.1\n",
      "<Hit {'genres': 'Action,Adventure,Thriller', 'id': '54999'}> 0.1\n",
      "<Hit {'genres': 'Comedy', 'id': '55020'}> 0.9\n",
      "<Hit {'genres': 'Comedy,Romance', 'id': '55100'}> 0.9\n",
      "<Hit {'genres': 'Comedy,Romance', 'id': '55190'}> 0.9\n",
      "<Hit {'genres': 'Action,Horror,Sci-Fi,Thriller', 'id': '55232'}> 0.1\n",
      "<Hit {'genres': 'Comedy', 'id': '55241'}> 0.9\n",
      "<Hit {'genres': 'Comedy,Romance', 'id': '55245'}> 0.9\n",
      "<Hit {'genres': 'Comedy', 'id': '55250'}> 0.9\n",
      "<Hit {'genres': 'Action,Adventure,Drama,Fantasy', 'id': '55259'}> 0.1\n",
      "<Hit {'genres': 'Comedy,Drama,Romance', 'id': '55261'}> 0.9\n",
      "<Hit {'genres': 'Comedy,Drama,Romance', 'id': '55267'}> 0.9\n",
      "<Hit {'genres': 'Adventure,Comedy,Drama', 'id': '55269'}> 0.9\n",
      "<Hit {'genres': 'Comedy,Drama,Mystery,Thriller', 'id': '55278'}> 0.9\n",
      "<Hit {'genres': 'Comedy,Drama', 'id': '55280'}> 0.9\n",
      "<Hit {'genres': 'Comedy', 'id': '55292'}> 0.9\n",
      "<Hit {'genres': 'Action,Drama,War', 'id': '55402'}> 0.1\n",
      "<Hit {'genres': 'Comedy,Drama,Romance', 'id': '55419'}> 0.9\n",
      "<Hit {'genres': 'Comedy', 'id': '55517'}> 0.9\n",
      "<Hit {'genres': 'Comedy,Horror', 'id': '55553'}> 0.9\n",
      "<Hit {'genres': 'Comedy,Drama', 'id': '55566'}> 0.9\n",
      "<Hit {'genres': 'Comedy,Drama', 'id': '55668'}> 0.9\n",
      "<Hit {'genres': 'Action,Crime,Drama,Thriller', 'id': '55721'}> 0.1\n",
      "<Hit {'genres': 'Comedy', 'id': '55729'}> 0.9\n",
      "<Hit {'genres': 'Comedy,Drama', 'id': '55732'}> 0.9\n",
      "<Hit {'genres': 'Animation,Comedy', 'id': '55768'}> 0.9\n",
      "<Hit {'genres': 'Comedy', 'id': '55830'}> 0.9\n",
      "<Hit {'genres': 'Comedy,Drama,Romance', 'id': '55844'}> 0.9\n",
      "<Hit {'genres': 'Comedy,Drama', 'id': '55901'}> 0.9\n",
      "<Hit {'genres': 'Action,Adventure', 'id': '55926'}> 0.1\n",
      "<Hit {'genres': 'Children,Comedy,Fantasy', 'id': '55955'}> 0.9\n",
      "<Hit {'genres': 'Action,Adventure,Animation,Drama,Fantasy', 'id': '55995'}> 0.1\n",
      "<Hit {'genres': 'Children,Comedy,Fantasy', 'id': '55999'}> 0.9\n",
      "<Hit {'genres': 'Comedy,Drama,Sci-Fi', 'id': '56003'}> 0.9\n",
      "<Hit {'genres': 'Comedy,Drama,Romance,War', 'id': '56060'}> 0.9\n",
      "<Hit {'genres': 'Action,Romance,Western', 'id': '56067'}> 0.1\n",
      "<Hit {'genres': 'Adventure,Animation,Children,Comedy,Fantasy,Musical,Romance', 'id': '56152'}> 0.9\n",
      "<Hit {'genres': 'Action,Crime,Thriller', 'id': '56156'}> 0.1\n",
      "<Hit {'genres': 'Comedy,Drama,Romance', 'id': '56158'}> 0.9\n",
      "<Hit {'genres': 'Action,Drama,Musical,Romance', 'id': '56167'}> 0.1\n",
      "<Hit {'genres': 'Action,Adventure,Drama,Fantasy,Thriller', 'id': '56171'}> 0.1\n",
      "<Hit {'genres': 'Action,Horror,Sci-Fi,Thriller', 'id': '56174'}> 0.1\n",
      "<Hit {'genres': 'Children,Comedy', 'id': '56176'}> 0.9\n",
      "<Hit {'genres': 'Animation,Comedy,Sci-Fi', 'id': '56251'}> 0.9\n",
      "<Hit {'genres': 'Comedy,Drama', 'id': '56274'}> 0.9\n",
      "<Hit {'genres': 'Comedy,Drama', 'id': '56333'}> 0.9\n",
      "<Hit {'genres': 'Action,Crime,Drama,War', 'id': '56511'}> 0.1\n",
      "<Hit {'genres': 'Comedy,Drama', 'id': '56587'}> 0.9\n",
      "<Hit {'genres': 'Comedy,Drama', 'id': '56671'}> 0.9\n",
      "<Hit {'genres': 'Comedy,Drama,Fantasy,Romance', 'id': '56715'}> 0.9\n",
      "<Hit {'genres': 'Comedy,Drama', 'id': '56748'}> 0.9\n",
      "<Hit {'genres': 'Action,Adventure', 'id': '56775'}> 0.1\n",
      "<Hit {'genres': 'Comedy,Drama,War', 'id': '56788'}> 0.9\n",
      "<Hit {'genres': 'Action,Horror,Sci-Fi', 'id': '56801'}> 0.1\n",
      "<Hit {'genres': 'Comedy,Musical', 'id': '56805'}> 0.9\n",
      "<Hit {'genres': 'Comedy,Drama,Romance', 'id': '56908'}> 0.9\n",
      "<Hit {'genres': 'Action,Drama,Fantasy,Sci-Fi,Thriller,War', 'id': '56921'}> 0.1\n",
      "<Hit {'genres': 'Comedy,Drama,Romance', 'id': '56941'}> 0.9\n",
      "<Hit {'genres': 'Comedy,Romance', 'id': '56945'}> 0.9\n",
      "<Hit {'genres': 'Comedy,Romance', 'id': '56949'}> 0.9\n",
      "<Hit {'genres': 'Action,Adventure,Drama,Fantasy,Sci-Fi', 'id': '57223'}> 0.1\n",
      "<Hit {'genres': 'Comedy,Drama', 'id': '57243'}> 0.9\n",
      "<Hit {'genres': 'Action,Adventure,Fantasy', 'id': '57326'}> 0.1\n",
      "<Hit {'genres': 'Action,Mystery,Sci-Fi,Thriller', 'id': '57368'}> 0.1\n",
      "<Hit {'genres': 'Comedy,Crime,Thriller', 'id': '57370'}> 0.9\n",
      "<Hit {'genres': 'Comedy,Western', 'id': '57476'}> 0.9\n",
      "<Hit {'genres': 'Animation,Comedy,Drama,Romance,Sci-Fi', 'id': '57504'}> 0.9\n",
      "<Hit {'genres': 'Comedy,Drama,Romance', 'id': '57509'}> 0.9\n",
      "<Hit {'genres': 'Comedy,Crime', 'id': '57522'}> 0.9\n",
      "<Hit {'genres': 'Action,Drama,Thriller', 'id': '57528'}> 0.1\n",
      "<Hit {'genres': 'Comedy', 'id': '57532'}> 0.9\n",
      "<Hit {'genres': 'Comedy', 'id': '57536'}> 0.9\n",
      "<Hit {'genres': 'Comedy,Fantasy,Romance', 'id': '57538'}> 0.9\n",
      "<Hit {'genres': 'Comedy', 'id': '57655'}> 0.9\n",
      "<Hit {'genres': 'Comedy,Crime,Drama', 'id': '57669'}> 0.9\n",
      "<Hit {'genres': 'Comedy', 'id': '57792'}> 0.9\n",
      "<Hit {'genres': 'Comedy,Romance', 'id': '57865'}> 0.9\n",
      "<Hit {'genres': 'Comedy,Horror', 'id': '57910'}> 0.9\n",
      "<Hit {'genres': 'Comedy', 'id': '57949'}> 0.9\n",
      "<Hit {'genres': 'Comedy', 'id': '57964'}> 0.9\n",
      "<Hit {'genres': 'Comedy,Drama,Romance', 'id': '58047'}> 0.9\n",
      "<Hit {'genres': 'Action,Drama,Thriller', 'id': '58103'}> 0.1\n",
      "<Hit {'genres': 'Comedy', 'id': '58146'}> 0.9\n",
      "<Hit {'genres': 'Comedy', 'id': '58156'}> 0.9\n",
      "<Hit {'genres': 'Comedy,Romance', 'id': '58162'}> 0.9\n",
      "<Hit {'genres': 'Comedy', 'id': '58291'}> 0.9\n",
      "<Hit {'genres': 'Action,Adventure,Drama', 'id': '58293'}> 0.1\n",
      "<Hit {'genres': 'Action,Drama,Sci-Fi,Thriller', 'id': '58297'}> 0.1\n",
      "<Hit {'genres': 'Adventure,Animation,Children,Comedy', 'id': '58299'}> 0.9\n",
      "<Hit {'genres': 'Comedy', 'id': '58315'}> 0.9\n",
      "<Hit {'genres': 'Children,Comedy,Fantasy,Romance', 'id': '58347'}> 0.9\n",
      "<Hit {'genres': 'Comedy,Drama,Romance', 'id': '58418'}> 0.9\n",
      "<Hit {'genres': 'Comedy,Romance', 'id': '58490'}> 0.9\n",
      "<Hit {'genres': 'Action,Crime,Drama,IMAX', 'id': '58559'}> 0.1\n",
      "<Hit {'genres': 'Comedy', 'id': '58622'}> 0.9\n",
      "<Hit {'genres': 'Action', 'id': '58627'}> 0.1\n",
      "<Hit {'genres': 'Comedy,Drama,Fantasy,Sci-Fi', 'id': '58652'}> 0.9\n",
      "<Hit {'genres': 'Comedy', 'id': '58655'}> 0.9\n",
      "<Hit {'genres': 'Comedy,Drama,Romance', 'id': '58806'}> 0.9\n",
      "<Hit {'genres': 'Comedy,Drama,Romance', 'id': '58839'}> 0.9\n",
      "<Hit {'genres': 'Adventure,Comedy,Fantasy', 'id': '58972'}> 0.9\n",
      "<Hit {'genres': 'Comedy,Romance', 'id': '58998'}> 0.9\n",
      "<Hit {'genres': 'Comedy,Drama', 'id': '59000'}> 0.9\n",
      "<Hit {'genres': 'Adventure,Comedy', 'id': '59022'}> 0.9\n",
      "<Hit {'genres': 'Comedy', 'id': '59026'}> 0.9\n",
      "<Hit {'genres': 'Action,Adventure,Children', 'id': '59037'}> 0.1\n",
      "<Hit {'genres': 'Comedy', 'id': '59044'}> 0.9\n",
      "<Hit {'genres': 'Comedy,Drama', 'id': '59118'}> 0.9\n",
      "<Hit {'genres': 'Action,Horror', 'id': '59129'}> 0.1\n",
      "<Hit {'genres': 'Comedy,Drama', 'id': '59141'}> 0.9\n",
      "<Hit {'genres': 'Comedy,Documentary', 'id': '59143'}> 0.9\n",
      "<Hit {'genres': 'Action,Drama,Thriller', 'id': '59173'}> 0.1\n",
      "<Hit {'genres': 'Action,Drama,Thriller', 'id': '59256'}> 0.1\n",
      "<Hit {'genres': 'Comedy', 'id': '59258'}> 0.9\n",
      "<Hit {'genres': 'Action,Adventure,Sci-Fi', 'id': '59315'}> 0.1\n",
      "<Hit {'genres': 'Comedy,Romance', 'id': '59333'}> 0.9\n",
      "<Hit {'genres': 'Action,Drama', 'id': '59336'}> 0.1\n",
      "<Hit {'genres': 'Comedy,Drama', 'id': '59339'}> 0.9\n",
      "<Hit {'genres': 'Action,Crime,Drama,Thriller', 'id': '59369'}> 0.1\n",
      "<Hit {'genres': 'Action,Fantasy,Sci-Fi', 'id': '59392'}> 0.1\n",
      "<Hit {'genres': 'Comedy,Drama', 'id': '59404'}> 0.9\n",
      "<Hit {'genres': 'Comedy,Romance', 'id': '59421'}> 0.9\n",
      "<Hit {'genres': 'Comedy,Crime,Thriller', 'id': '59594'}> 0.9\n",
      "<Hit {'genres': 'Comedy', 'id': '59721'}> 0.9\n",
      "<Hit {'genres': 'Comedy,Romance', 'id': '59725'}> 0.9\n",
      "<Hit {'genres': 'Comedy,Documentary', 'id': '59795'}> 0.9\n",
      "<Hit {'genres': 'Comedy', 'id': '59900'}> 0.9\n",
      "<Hit {'genres': 'Comedy', 'id': '59908'}> 0.9\n",
      "<Hit {'genres': 'Comedy,Drama,Romance', 'id': '59985'}> 0.9\n",
      "<Hit {'genres': 'Action,Fantasy,Sci-Fi', 'id': '60040'}> 0.1\n",
      "<Hit {'genres': 'Comedy', 'id': '60044'}> 0.9\n",
      "<Hit {'genres': 'Adventure,Animation,Children,Comedy,Romance,Sci-Fi', 'id': '60069'}> 0.9\n",
      "<Hit {'genres': 'Action,Thriller', 'id': '60072'}> 0.1\n",
      "<Hit {'genres': 'Comedy', 'id': '60126'}> 0.9\n",
      "<Hit {'genres': 'Children,Comedy', 'id': '60141'}> 0.9\n",
      "<Hit {'genres': 'Animation,Comedy,Sci-Fi', 'id': '60161'}> 0.9\n",
      "<Hit {'genres': 'Comedy', 'id': '60189'}> 0.9\n",
      "<Hit {'genres': 'Action,Crime,Drama,Thriller', 'id': '60237'}> 0.1\n",
      "<Hit {'genres': 'Comedy,Drama', 'id': '60286'}> 0.9\n",
      "<Hit {'genres': 'Children,Comedy,Drama,Mystery', 'id': '60289'}> 0.9\n",
      "<Hit {'genres': 'Comedy,Drama', 'id': '60293'}> 0.9\n",
      "<Hit {'genres': 'Comedy,Romance,Western', 'id': '60309'}> 0.9\n",
      "<Hit {'genres': 'Comedy,Horror', 'id': '60363'}> 0.9\n",
      "<Hit {'genres': 'Comedy,Musical,Romance', 'id': '60397'}> 0.9\n",
      "<Hit {'genres': 'Comedy,Drama', 'id': '60411'}> 0.9\n",
      "<Hit {'genres': 'Comedy,Drama', 'id': '60418'}> 0.9\n",
      "<Hit {'genres': 'Action,Adventure,Horror,Thriller', 'id': '60471'}> 0.1\n",
      "<Hit {'genres': 'Animation,Children,Comedy', 'id': '60487'}> 0.9\n",
      "<Hit {'genres': 'Action,Adventure,Fantasy,Sci-Fi', 'id': '60514'}> 0.1\n",
      "<Hit {'genres': 'Comedy,Sci-Fi', 'id': '60516'}> 0.9\n",
      "<Hit {'genres': 'Comedy', 'id': '60618'}> 0.9\n",
      "<Hit {'genres': 'Adventure,Animation,Comedy', 'id': '60649'}> 0.9\n",
      "<Hit {'genres': 'Action,Drama,Western', 'id': '60688'}> 0.1\n",
      "<Hit {'genres': 'Action,Crime,Drama', 'id': '60753'}> 0.1\n",
      "<Hit {'genres': 'Comedy', 'id': '60756'}> 0.9\n",
      "<Hit {'genres': 'Action,Adventure,Fantasy,Thriller', 'id': '60937'}> 0.1\n",
      "<Hit {'genres': 'Comedy', 'id': '60939'}> 0.9\n",
      "<Hit {'genres': 'Comedy,Drama', 'id': '60946'}> 0.9\n",
      "<Hit {'genres': 'Comedy,Drama,Romance', 'id': '61048'}> 0.9\n",
      "<Hit {'genres': 'Adventure,Comedy,Drama,Romance', 'id': '61071'}> 0.9\n",
      "<Hit {'genres': 'Action,Drama,Thriller', 'id': '61073'}> 0.1\n",
      "<Hit {'genres': 'Comedy,Drama,Musical,Romance', 'id': '61123'}> 0.9\n",
      "<Hit {'genres': 'Action,Adventure,Animation,Sci-Fi', 'id': '61160'}> 0.1\n",
      "<Hit {'genres': 'Action,Sci-Fi', 'id': '61210'}> 0.1\n",
      "<Hit {'genres': 'Comedy', 'id': '61246'}> 0.9\n",
      "<Hit {'genres': 'Action,Adventure,Sci-Fi,Thriller', 'id': '61248'}> 0.1\n",
      "<Hit {'genres': 'Comedy', 'id': '61250'}> 0.9\n",
      "<Hit {'genres': 'Comedy', 'id': '61255'}> 0.9\n",
      "<Hit {'genres': 'Action,Western', 'id': '61289'}> 0.1\n",
      "<Hit {'genres': 'Comedy,Drama', 'id': '61312'}> 0.9\n",
      "<Hit {'genres': 'Comedy,Crime', 'id': '61323'}> 0.9\n",
      "<Hit {'genres': 'Comedy', 'id': '61348'}> 0.9\n",
      "<Hit {'genres': 'Action,Adventure,Sci-Fi,Thriller', 'id': '61350'}> 0.1\n",
      "<Hit {'genres': 'Comedy', 'id': '61354'}> 0.9\n",
      "<Hit {'genres': 'Comedy', 'id': '61394'}> 0.9\n",
      "<Hit {'genres': 'Action,Adventure,Romance', 'id': '61401'}> 0.1\n",
      "<Hit {'genres': 'Action,Crime,Thriller', 'id': '61465'}> 0.1\n",
      "<Hit {'genres': 'Comedy', 'id': '61678'}> 0.9\n",
      "<Hit {'genres': 'Action,Crime,Mystery,Thriller', 'id': '61697'}> 0.1\n",
      "<Hit {'genres': 'Comedy,Romance', 'id': '61724'}> 0.9\n",
      "<Hit {'genres': 'Comedy,Romance', 'id': '61729'}> 0.9\n",
      "<Hit {'genres': 'Action,Adventure,Fantasy,Thriller', 'id': '61818'}> 0.1\n",
      "<Hit {'genres': 'Comedy,Drama', 'id': '61862'}> 0.9\n",
      "<Hit {'genres': 'Comedy,Drama', 'id': '61941'}> 0.9\n",
      "<Hit {'genres': 'Action,Crime,Thriller', 'id': '62081'}> 0.1\n",
      "<Hit {'genres': 'Comedy', 'id': '62113'}> 0.9\n",
      "<Hit {'genres': 'Comedy,Drama,Romance', 'id': '62155'}> 0.9\n",
      "<Hit {'genres': 'Comedy', 'id': '62254'}> 0.9\n",
      "<Hit {'genres': 'Comedy', 'id': '62265'}> 0.9\n",
      "<Hit {'genres': 'Action,Horror', 'id': '62299'}> 0.1\n",
      "<Hit {'genres': 'Animation,Comedy,Fantasy,Sci-Fi', 'id': '62336'}> 0.9\n",
      "<Hit {'genres': 'Action,Drama,Thriller', 'id': '62374'}> 0.1\n",
      "<Hit {'genres': 'Comedy', 'id': '62378'}> 0.9\n",
      "<Hit {'genres': 'Action,Crime,Drama,Thriller', 'id': '62394'}> 0.1\n",
      "<Hit {'genres': 'Comedy,Drama,Romance', 'id': '62434'}> 0.9\n",
      "<Hit {'genres': 'Comedy,Drama', 'id': '62437'}> 0.9\n",
      "<Hit {'genres': 'Comedy,Romance', 'id': '62439'}> 0.9\n",
      "<Hit {'genres': 'Comedy,Drama', 'id': '62511'}> 0.9\n",
      "<Hit {'genres': 'Comedy,Fantasy', 'id': '62586'}> 0.9\n",
      "<Hit {'genres': 'Comedy,Fantasy', 'id': '62660'}> 0.9\n",
      "<Hit {'genres': 'Action,Sci-Fi', 'id': '62671'}> 0.1\n",
      "<Hit {'genres': 'Comedy,Romance', 'id': '62718'}> 0.9\n",
      "<Hit {'genres': 'Comedy,Thriller', 'id': '62721'}> 0.9\n",
      "<Hit {'genres': 'Comedy,Horror,Thriller', 'id': '62788'}> 0.9\n",
      "<Hit {'genres': 'Comedy', 'id': '62796'}> 0.9\n",
      "<Hit {'genres': 'Action,Drama', 'id': '62801'}> 0.1\n",
      "<Hit {'genres': 'Action', 'id': '62803'}> 0.1\n",
      "<Hit {'genres': 'Action,Crime,Drama,Thriller', 'id': '62849'}> 0.1\n",
      "<Hit {'genres': 'Comedy,Drama,Mystery', 'id': '62851'}> 0.9\n",
      "<Hit {'genres': 'Animation,Comedy,Sci-Fi', 'id': '62956'}> 0.9\n",
      "<Hit {'genres': 'Comedy,Drama,Romance', 'id': '63082'}> 0.9\n",
      "<Hit {'genres': 'Action,Adventure,Thriller', 'id': '63113'}> 0.1\n",
      "<Hit {'genres': 'Comedy,Drama,Musical,Romance', 'id': '63119'}> 0.9\n",
      "<Hit {'genres': 'Comedy', 'id': '63131'}> 0.9\n",
      "<Hit {'genres': 'Action,Horror', 'id': '63181'}> 0.1\n",
      "<Hit {'genres': 'Comedy,Drama,Romance', 'id': '63194'}> 0.9\n",
      "<Hit {'genres': 'Action,Drama,Thriller', 'id': '63222'}> 0.1\n",
      "<Hit {'genres': 'Animation,Children,Comedy,Musical', 'id': '63237'}> 0.9\n",
      "<Hit {'genres': 'Action', 'id': '63276'}> 0.1\n",
      "<Hit {'genres': 'Comedy,Musical,Romance', 'id': '63393'}> 0.9\n",
      "<Hit {'genres': 'Action,Adventure,Sci-Fi', 'id': '63433'}> 0.1\n",
      "<Hit {'genres': 'Comedy,Drama', 'id': '63446'}> 0.9\n",
      "<Hit {'genres': 'Comedy,Horror,Sci-Fi', 'id': '63458'}> 0.9\n",
      "<Hit {'genres': 'Comedy', 'id': '63479'}> 0.9\n",
      "<Hit {'genres': 'Comedy,Musical', 'id': '63481'}> 0.9\n",
      "<Hit {'genres': 'Adventure,Children,Comedy', 'id': '63540'}> 0.9\n",
      "<Hit {'genres': 'Action', 'id': '63647'}> 0.1\n",
      "<Hit {'genres': 'Action,Drama,Thriller', 'id': '63662'}> 0.1\n",
      "<Hit {'genres': 'Action,Drama,Romance', 'id': '63772'}> 0.1\n",
      "<Hit {'genres': 'Action', 'id': '64030'}> 0.1\n",
      "<Hit {'genres': 'Comedy', 'id': '64032'}> 0.9\n",
      "<Hit {'genres': 'Animation,Comedy', 'id': '64116'}> 0.9\n",
      "<Hit {'genres': 'Action,Crime,Drama,Thriller', 'id': '64231'}> 0.1\n",
      "<Hit {'genres': 'Comedy', 'id': '64245'}> 0.9\n",
      "<Hit {'genres': 'Adventure,Animation,Comedy,Fantasy', 'id': '64249'}> 0.9\n",
      "<Hit {'genres': 'Animation,Comedy', 'id': '64285'}> 0.9\n",
      "<Hit {'genres': 'Comedy,Drama,Musical', 'id': '64338'}> 0.9\n",
      "<Hit {'genres': 'Action', 'id': '64368'}> 0.1\n",
      "<Hit {'genres': 'Action,Sci-Fi,War', 'id': '64508'}> 0.1\n",
      "<Hit {'genres': 'Action,Drama,Thriller', 'id': '64614'}> 0.1\n",
      "<Hit {'genres': 'Action,Adventure,Fantasy,Horror,Romance', 'id': '64900'}> 0.1\n",
      "<Hit {'genres': 'Action,Adventure', 'id': '64921'}> 0.1\n",
      "<Hit {'genres': 'Comedy,Romance', 'id': '64930'}> 0.9\n",
      "<Hit {'genres': 'Comedy', 'id': '64969'}> 0.9\n",
      "<Hit {'genres': 'Comedy', 'id': '64976'}> 0.9\n",
      "<Hit {'genres': 'Comedy,Drama', 'id': '64986'}> 0.9\n",
      "<Hit {'genres': 'Action', 'id': '64997'}> 0.1\n",
      "<Hit {'genres': 'Action', 'id': '64999'}> 0.1\n",
      "<Hit {'genres': 'Comedy,Drama', 'id': '65011'}> 0.9\n",
      "<Hit {'genres': 'Adventure,Children,Comedy', 'id': '65088'}> 0.9\n",
      "<Hit {'genres': 'Comedy,Drama', 'id': '65126'}> 0.9\n",
      "<Hit {'genres': 'Comedy', 'id': '65133'}> 0.9\n"
     ]
    }
   ],
   "source": [
    "PERFIL = {\n",
    "    \"action\": 0.1,\n",
    "    \"comedy\": 0.9,\n",
    "}\n",
    "\n",
    "searcher = ix.searcher()\n",
    "query = wh.query.Term(\"genres\", \"action\") | wh.query.Term(\"genres\", \"comedy\")\n",
    "results  = searcher.search(query, limit=None, terms=True)\n",
    "for r in results:\n",
    "    score = 0\n",
    "    for _, g in r.matched_terms():\n",
    "        score += PERFIL[g.decode('utf-8')]\n",
    "    print(r, score)"
   ]
  },
  {
   "cell_type": "code",
   "execution_count": null,
   "metadata": {},
   "outputs": [],
   "source": []
  }
 ],
 "metadata": {
  "kernelspec": {
   "name": "Python 3.7.5 64-bit ('base': conda)",
   "display_name": "Python 3.7.5 64-bit ('base': conda)",
   "metadata": {
    "interpreter": {
     "hash": "9a37e5188a605e95d3282a4fb8007f4c3c52885d8cd12f2ffcfc398feaa7ff36"
    }
   }
  },
  "language_info": {
   "codemirror_mode": {
    "name": "ipython",
    "version": 3
   },
   "file_extension": ".py",
   "mimetype": "text/x-python",
   "name": "python",
   "nbconvert_exporter": "python",
   "pygments_lexer": "ipython3",
   "version": "3.7.5-final"
  }
 },
 "nbformat": 4,
 "nbformat_minor": 4
}