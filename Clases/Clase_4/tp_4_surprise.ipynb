{
 "cells": [
  {
   "cell_type": "code",
   "execution_count": 5,
   "metadata": {},
   "outputs": [],
   "source": [
    "import pandas as pd\n",
    "import surprise as sp\n",
    "import os"
   ]
  },
  {
   "cell_type": "code",
   "execution_count": 6,
   "metadata": {},
   "outputs": [],
   "source": [
    "#! pip install scikit-surprise"
   ]
  },
  {
   "source": [
    "## Ejemplo  Surprise\n",
    "### https://surprise.readthedocs.io/en/stable/"
   ],
   "cell_type": "markdown",
   "metadata": {}
  },
  {
   "cell_type": "code",
   "execution_count": 7,
   "metadata": {},
   "outputs": [
    {
     "output_type": "execute_result",
     "data": {
      "text/plain": [
       "   ID  userID  movieID  rating  date_day  date_month  date_year  date_hour  \\\n",
       "0   1   51198      608     5.0        17           9       1997         23   \n",
       "1   2   51198     1073     4.0        17           9       1997         23   \n",
       "2   3   51198      141     4.0        17           9       1997         23   \n",
       "3   4   51198      356     4.0        17           9       1997         23   \n",
       "4   5   51198     1198     5.0        17           9       1997         23   \n",
       "\n",
       "   date_minute  date_second  \n",
       "0           40           20  \n",
       "1           41            6  \n",
       "2           41           58  \n",
       "3           43           44  \n",
       "4           44           35  "
      ],
      "text/html": "<div>\n<style scoped>\n    .dataframe tbody tr th:only-of-type {\n        vertical-align: middle;\n    }\n\n    .dataframe tbody tr th {\n        vertical-align: top;\n    }\n\n    .dataframe thead th {\n        text-align: right;\n    }\n</style>\n<table border=\"1\" class=\"dataframe\">\n  <thead>\n    <tr style=\"text-align: right;\">\n      <th></th>\n      <th>ID</th>\n      <th>userID</th>\n      <th>movieID</th>\n      <th>rating</th>\n      <th>date_day</th>\n      <th>date_month</th>\n      <th>date_year</th>\n      <th>date_hour</th>\n      <th>date_minute</th>\n      <th>date_second</th>\n    </tr>\n  </thead>\n  <tbody>\n    <tr>\n      <th>0</th>\n      <td>1</td>\n      <td>51198</td>\n      <td>608</td>\n      <td>5.0</td>\n      <td>17</td>\n      <td>9</td>\n      <td>1997</td>\n      <td>23</td>\n      <td>40</td>\n      <td>20</td>\n    </tr>\n    <tr>\n      <th>1</th>\n      <td>2</td>\n      <td>51198</td>\n      <td>1073</td>\n      <td>4.0</td>\n      <td>17</td>\n      <td>9</td>\n      <td>1997</td>\n      <td>23</td>\n      <td>41</td>\n      <td>6</td>\n    </tr>\n    <tr>\n      <th>2</th>\n      <td>3</td>\n      <td>51198</td>\n      <td>141</td>\n      <td>4.0</td>\n      <td>17</td>\n      <td>9</td>\n      <td>1997</td>\n      <td>23</td>\n      <td>41</td>\n      <td>58</td>\n    </tr>\n    <tr>\n      <th>3</th>\n      <td>4</td>\n      <td>51198</td>\n      <td>356</td>\n      <td>4.0</td>\n      <td>17</td>\n      <td>9</td>\n      <td>1997</td>\n      <td>23</td>\n      <td>43</td>\n      <td>44</td>\n    </tr>\n    <tr>\n      <th>4</th>\n      <td>5</td>\n      <td>51198</td>\n      <td>1198</td>\n      <td>5.0</td>\n      <td>17</td>\n      <td>9</td>\n      <td>1997</td>\n      <td>23</td>\n      <td>44</td>\n      <td>35</td>\n    </tr>\n  </tbody>\n</table>\n</div>"
     },
     "metadata": {},
     "execution_count": 7
    }
   ],
   "source": [
    "df = pd.read_csv('./data/ratings_train.csv')\n",
    "df.head()"
   ]
  },
  {
   "cell_type": "code",
   "execution_count": 8,
   "metadata": {},
   "outputs": [],
   "source": [
    "# Escala del rating (lo usar para hacer maximo y minimo), podria levantar info del archivo.\n",
    "reader = sp.reader.Reader(rating_scale=(0.5, 5))\n",
    "\n",
    "data = sp.dataset.Dataset.load_from_df(df[['userID', 'movieID', 'rating']], reader)"
   ]
  },
  {
   "cell_type": "code",
   "execution_count": 9,
   "metadata": {},
   "outputs": [
    {
     "output_type": "execute_result",
     "data": {
      "text/plain": [
       "{'test_rmse': array([0.86843413, 0.85846738, 0.86095404, 0.86536458, 0.86529767]),\n",
       " 'test_mae': array([0.66962223, 0.662878  , 0.66412208, 0.66651906, 0.66755299]),\n",
       " 'fit_time': (17.228870630264282,\n",
       "  16.528538703918457,\n",
       "  17.311689138412476,\n",
       "  20.03084135055542,\n",
       "  20.117414712905884),\n",
       " 'test_time': (56.94052791595459,\n",
       "  59.303194999694824,\n",
       "  62.294591426849365,\n",
       "  53.443222522735596,\n",
       "  44.952144145965576)}"
      ]
     },
     "metadata": {},
     "execution_count": 9
    }
   ],
   "source": [
    "# opciones del algoritmo\n",
    "sim_options = {\n",
    "    'name': 'pearson', # Podria ser \"cosine\" o \"MSD\"\n",
    "    'user_based': True, #False,   # TRUE basado en Usuarios (compara usuarios con usuarios), False basado en Items. (Hay que probar)\n",
    "}\n",
    "\n",
    "# Algoritmo a usar para predecir\n",
    "# algo = sp.NormalPredictor() toma un numero al azar\n",
    "\n",
    "# min_k minima cantidad de vecinos\n",
    "algo = sp.prediction_algorithms.knns.KNNBasic(k=40, min_k=5, sim_options=sim_options)\n",
    "\n",
    "# n_jobs= -1 para que tome todos los procesadores.\n",
    "sp.model_selection.validation.cross_validate(algo, data, measures=['rmse', 'mae'], cv=5, n_jobs=-1)\n"
   ]
  },
  {
   "cell_type": "code",
   "execution_count": 10,
   "metadata": {},
   "outputs": [
    {
     "output_type": "execute_result",
     "data": {
      "text/plain": [
       "{'test_rmse': array([0.87952774, 0.87978889, 0.87669584, 0.87699258, 0.87918903]),\n",
       " 'test_mae': array([0.66541151, 0.66712691, 0.6645507 , 0.66341183, 0.66618335]),\n",
       " 'fit_time': (11.723628520965576,\n",
       "  11.950952529907227,\n",
       "  12.5453200340271,\n",
       "  16.94965934753418,\n",
       "  16.944939613342285),\n",
       " 'test_time': (69.0389666557312,\n",
       "  59.57954478263855,\n",
       "  59.286569118499756,\n",
       "  56.60731768608093,\n",
       "  47.91995906829834)}"
      ]
     },
     "metadata": {},
     "execution_count": 10
    }
   ],
   "source": [
    "# opciones del algoritmo\n",
    "sim_options = {\n",
    "    'name': 'cosine', \n",
    "    'user_based': True, #False,   # TRUE basado en Usuarios (compara usuarios con usuarios), False basado en Items. (Hay que probar)\n",
    "}\n",
    "\n",
    "# Algoritmo a usar para predecir\n",
    "# algo = sp.NormalPredictor() toma un numero al azar\n",
    "\n",
    "# min_k minima cantidad de vecinos\n",
    "algo = sp.prediction_algorithms.knns.KNNBasic(k=40, min_k=5, sim_options=sim_options)\n",
    "\n",
    "# n_jobs= -1 para que tome todos los procesadores.\n",
    "sp.model_selection.validation.cross_validate(algo, data, measures=['rmse', 'mae'], cv=5, n_jobs=-1)"
   ]
  },
  {
   "cell_type": "code",
   "execution_count": null,
   "metadata": {},
   "outputs": [],
   "source": []
  }
 ],
 "metadata": {
  "kernelspec": {
   "name": "Python 3.7.5 64-bit ('base': conda)",
   "display_name": "Python 3.7.5 64-bit ('base': conda)",
   "metadata": {
    "interpreter": {
     "hash": "9a37e5188a605e95d3282a4fb8007f4c3c52885d8cd12f2ffcfc398feaa7ff36"
    }
   }
  },
  "language_info": {
   "codemirror_mode": {
    "name": "ipython",
    "version": 3
   },
   "file_extension": ".py",
   "mimetype": "text/x-python",
   "name": "python",
   "nbconvert_exporter": "python",
   "pygments_lexer": "ipython3",
   "version": "3.7.5-final"
  }
 },
 "nbformat": 4,
 "nbformat_minor": 4
}