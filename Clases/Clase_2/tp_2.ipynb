{
 "cells": [
  {
   "cell_type": "code",
   "execution_count": 2,
   "metadata": {},
   "outputs": [],
   "source": [
    "import pandas as pd\n",
    "import pandas_profiling\n",
    "import numpy as np\n",
    "import math\n",
    "import seaborn as sns\n",
    "import numpy as np\n",
    "from sklearn.linear_model import LinearRegression\n",
    "from sklearn import datasets\n",
    "from datetime import date, datetime\n",
    "from sklearn.metrics import mean_squared_error, r2_score\n",
    "from sklearn.model_selection import train_test_split\n",
    "import matplotlib.pyplot as plt\n",
    "#from pandasgui import show\n",
    "plt.style.use(\"seaborn\")\n",
    "sns.set(style=\"white\")"
   ]
  },
  {
   "cell_type": "markdown",
   "metadata": {},
   "source": [
    "## Lectura y exploración"
   ]
  },
  {
   "cell_type": "code",
   "execution_count": 3,
   "metadata": {},
   "outputs": [],
   "source": [
    "df_train = pd.read_csv(\"./data/ratings_train.csv\")\n",
    "df_test = pd.read_csv(\"./data/ratings_test.csv\")"
   ]
  },
  {
   "cell_type": "code",
   "execution_count": 5,
   "metadata": {},
   "outputs": [
    {
     "output_type": "execute_result",
     "data": {
      "text/plain": [
       "   userID  movieID  rating  date_day  date_month  date_year  date_hour  \\\n",
       "0      75        3     1.0        29          10       2006         23   \n",
       "1      75       32     4.5        29          10       2006         23   \n",
       "2      75      110     4.0        29          10       2006         23   \n",
       "3      75      160     2.0        29          10       2006         23   \n",
       "4      75      163     4.0        29          10       2006         23   \n",
       "\n",
       "   date_minute  date_second  \n",
       "0           17           16  \n",
       "1           23           44  \n",
       "2           30            8  \n",
       "3           16           52  \n",
       "4           29           30  "
      ],
      "text/html": "<div>\n<style scoped>\n    .dataframe tbody tr th:only-of-type {\n        vertical-align: middle;\n    }\n\n    .dataframe tbody tr th {\n        vertical-align: top;\n    }\n\n    .dataframe thead th {\n        text-align: right;\n    }\n</style>\n<table border=\"1\" class=\"dataframe\">\n  <thead>\n    <tr style=\"text-align: right;\">\n      <th></th>\n      <th>userID</th>\n      <th>movieID</th>\n      <th>rating</th>\n      <th>date_day</th>\n      <th>date_month</th>\n      <th>date_year</th>\n      <th>date_hour</th>\n      <th>date_minute</th>\n      <th>date_second</th>\n    </tr>\n  </thead>\n  <tbody>\n    <tr>\n      <th>0</th>\n      <td>75</td>\n      <td>3</td>\n      <td>1.0</td>\n      <td>29</td>\n      <td>10</td>\n      <td>2006</td>\n      <td>23</td>\n      <td>17</td>\n      <td>16</td>\n    </tr>\n    <tr>\n      <th>1</th>\n      <td>75</td>\n      <td>32</td>\n      <td>4.5</td>\n      <td>29</td>\n      <td>10</td>\n      <td>2006</td>\n      <td>23</td>\n      <td>23</td>\n      <td>44</td>\n    </tr>\n    <tr>\n      <th>2</th>\n      <td>75</td>\n      <td>110</td>\n      <td>4.0</td>\n      <td>29</td>\n      <td>10</td>\n      <td>2006</td>\n      <td>23</td>\n      <td>30</td>\n      <td>8</td>\n    </tr>\n    <tr>\n      <th>3</th>\n      <td>75</td>\n      <td>160</td>\n      <td>2.0</td>\n      <td>29</td>\n      <td>10</td>\n      <td>2006</td>\n      <td>23</td>\n      <td>16</td>\n      <td>52</td>\n    </tr>\n    <tr>\n      <th>4</th>\n      <td>75</td>\n      <td>163</td>\n      <td>4.0</td>\n      <td>29</td>\n      <td>10</td>\n      <td>2006</td>\n      <td>23</td>\n      <td>29</td>\n      <td>30</td>\n    </tr>\n  </tbody>\n</table>\n</div>"
     },
     "metadata": {},
     "execution_count": 5
    }
   ],
   "source": [
    "# Ahora tengo el userID\n",
    "df_train.head()"
   ]
  },
  {
   "cell_type": "code",
   "execution_count": 5,
   "metadata": {},
   "outputs": [
    {
     "output_type": "execute_result",
     "data": {
      "text/plain": [
       "   ID  movieID  rating  date_day  date_month  date_year  date_hour  \\\n",
       "0   1      608     5.0        17           9       1997         23   \n",
       "1   2      141     4.0        17           9       1997         23   \n",
       "2   3     1073     4.0        17           9       1997         23   \n",
       "3   4      356     4.0        17           9       1997         23   \n",
       "4   5     1198     5.0        17           9       1997         23   \n",
       "\n",
       "   date_minute  date_second  \n",
       "0           40           20  \n",
       "1           41           58  \n",
       "2           41            6  \n",
       "3           43           44  \n",
       "4           44           35  "
      ],
      "text/html": "<div>\n<style scoped>\n    .dataframe tbody tr th:only-of-type {\n        vertical-align: middle;\n    }\n\n    .dataframe tbody tr th {\n        vertical-align: top;\n    }\n\n    .dataframe thead th {\n        text-align: right;\n    }\n</style>\n<table border=\"1\" class=\"dataframe\">\n  <thead>\n    <tr style=\"text-align: right;\">\n      <th></th>\n      <th>ID</th>\n      <th>movieID</th>\n      <th>rating</th>\n      <th>date_day</th>\n      <th>date_month</th>\n      <th>date_year</th>\n      <th>date_hour</th>\n      <th>date_minute</th>\n      <th>date_second</th>\n    </tr>\n  </thead>\n  <tbody>\n    <tr>\n      <th>0</th>\n      <td>1</td>\n      <td>608</td>\n      <td>5.0</td>\n      <td>17</td>\n      <td>9</td>\n      <td>1997</td>\n      <td>23</td>\n      <td>40</td>\n      <td>20</td>\n    </tr>\n    <tr>\n      <th>1</th>\n      <td>2</td>\n      <td>141</td>\n      <td>4.0</td>\n      <td>17</td>\n      <td>9</td>\n      <td>1997</td>\n      <td>23</td>\n      <td>41</td>\n      <td>58</td>\n    </tr>\n    <tr>\n      <th>2</th>\n      <td>3</td>\n      <td>1073</td>\n      <td>4.0</td>\n      <td>17</td>\n      <td>9</td>\n      <td>1997</td>\n      <td>23</td>\n      <td>41</td>\n      <td>6</td>\n    </tr>\n    <tr>\n      <th>3</th>\n      <td>4</td>\n      <td>356</td>\n      <td>4.0</td>\n      <td>17</td>\n      <td>9</td>\n      <td>1997</td>\n      <td>23</td>\n      <td>43</td>\n      <td>44</td>\n    </tr>\n    <tr>\n      <th>4</th>\n      <td>5</td>\n      <td>1198</td>\n      <td>5.0</td>\n      <td>17</td>\n      <td>9</td>\n      <td>1997</td>\n      <td>23</td>\n      <td>44</td>\n      <td>35</td>\n    </tr>\n  </tbody>\n</table>\n</div>"
     },
     "metadata": {},
     "execution_count": 5
    }
   ],
   "source": [
    "df_train.head()"
   ]
  },
  {
   "cell_type": "markdown",
   "metadata": {},
   "source": [
    "## Filtrado y generacion de datos"
   ]
  },
  {
   "cell_type": "code",
   "execution_count": 69,
   "metadata": {},
   "outputs": [],
   "source": [
    "# X_train, X_test, y_train, y_test = train_test_split(X, y, test_size = 0.3, random_state = 0)\n",
    "full_x = df_train.drop(['rating', 'ID'], axis=1)\n",
    "full_y = df_train[['rating']]\n",
    "X_train, X_test, y_train, y_test = train_test_split(full_x, full_y, test_size=0.3, random_state=0)"
   ]
  },
  {
   "cell_type": "code",
   "execution_count": 70,
   "metadata": {},
   "outputs": [
    {
     "output_type": "stream",
     "name": "stdout",
     "text": [
      "train:  539062 539062\ntest:   231027 231027\n"
     ]
    }
   ],
   "source": [
    "print(\"train: \",len(X_train),len(y_train))\n",
    "print(\"test:  \",len(X_test),len(y_test))"
   ]
  },
  {
   "cell_type": "code",
   "execution_count": 71,
   "metadata": {},
   "outputs": [],
   "source": [
    "# Creo regresion lineal\n",
    "model = LinearRegression()\n",
    "\n",
    "# Entreno el modelo usando el conjunto de TRAIN\n",
    "model.fit(X_train, y_train)\n",
    "\n",
    "# Hago predicciones usando el TEST \n",
    "prediction = model.predict(X_test)"
   ]
  },
  {
   "cell_type": "code",
   "execution_count": 72,
   "metadata": {},
   "outputs": [
    {
     "output_type": "stream",
     "name": "stdout",
     "text": [
      "Mean squared error: 1.01\n"
     ]
    }
   ],
   "source": [
    "#ECM\n",
    "print('Mean squared error: %.2f' % mean_squared_error(y_test, prediction))"
   ]
  },
  {
   "source": [
    "## Modelo completo"
   ],
   "cell_type": "markdown",
   "metadata": {}
  },
  {
   "cell_type": "code",
   "execution_count": 73,
   "metadata": {},
   "outputs": [],
   "source": [
    "df_x = df_test.drop(['rating', 'ID'], axis=1)\n",
    "#df_y = df_test[['rating']]"
   ]
  },
  {
   "cell_type": "code",
   "execution_count": 74,
   "metadata": {},
   "outputs": [],
   "source": [
    "# Creo regresion lineal\n",
    "modelFull = LinearRegression()\n",
    "\n",
    "# Entreno el modelo usando el conjunto de TRAIN\n",
    "model.fit(X_train, y_train)\n",
    "\n",
    "# Hago predicciones usando el TEST \n",
    "predFull = model.predict(df_x)"
   ]
  },
  {
   "cell_type": "code",
   "execution_count": 119,
   "metadata": {},
   "outputs": [
    {
     "output_type": "stream",
     "name": "stdout",
     "text": [
      "85509 85509\n"
     ]
    }
   ],
   "source": [
    "print(len(df_test.ID),len(predFull))"
   ]
  },
  {
   "cell_type": "code",
   "execution_count": 120,
   "metadata": {},
   "outputs": [
    {
     "output_type": "execute_result",
     "data": {
      "text/plain": [
       "   ID  rating\n",
       "0   9    3.48\n",
       "1  18    3.45\n",
       "2  34    3.45\n",
       "3  39    3.45\n",
       "4  50    3.48"
      ],
      "text/html": "<div>\n<style scoped>\n    .dataframe tbody tr th:only-of-type {\n        vertical-align: middle;\n    }\n\n    .dataframe tbody tr th {\n        vertical-align: top;\n    }\n\n    .dataframe thead th {\n        text-align: right;\n    }\n</style>\n<table border=\"1\" class=\"dataframe\">\n  <thead>\n    <tr style=\"text-align: right;\">\n      <th></th>\n      <th>ID</th>\n      <th>rating</th>\n    </tr>\n  </thead>\n  <tbody>\n    <tr>\n      <th>0</th>\n      <td>9</td>\n      <td>3.48</td>\n    </tr>\n    <tr>\n      <th>1</th>\n      <td>18</td>\n      <td>3.45</td>\n    </tr>\n    <tr>\n      <th>2</th>\n      <td>34</td>\n      <td>3.45</td>\n    </tr>\n    <tr>\n      <th>3</th>\n      <td>39</td>\n      <td>3.45</td>\n    </tr>\n    <tr>\n      <th>4</th>\n      <td>50</td>\n      <td>3.48</td>\n    </tr>\n  </tbody>\n</table>\n</div>"
     },
     "metadata": {},
     "execution_count": 120
    }
   ],
   "source": [
    "submit = pd.DataFrame({'ID':df_test.ID})\n",
    "submit['rating'] = pd.DataFrame(np.around(predFull, 2))\n",
    "submit.head()"
   ]
  },
  {
   "cell_type": "code",
   "execution_count": 121,
   "metadata": {},
   "outputs": [
    {
     "output_type": "execute_result",
     "data": {
      "text/plain": [
       "85509"
      ]
     },
     "metadata": {},
     "execution_count": 121
    }
   ],
   "source": [
    "len(submit)"
   ]
  },
  {
   "cell_type": "code",
   "execution_count": 117,
   "metadata": {},
   "outputs": [],
   "source": [
    "submit.to_csv('./data/out/ignacio_submit1.csv', index=False)"
   ]
  },
  {
   "source": [
    "## Ejemplo  Whoosh\n",
    "### https://whoosh.readthedocs.io/en/latest/intro.html"
   ],
   "cell_type": "markdown",
   "metadata": {}
  },
  {
   "cell_type": "code",
   "execution_count": null,
   "metadata": {},
   "outputs": [],
   "source": [
    "gui = show(mpg)"
   ]
  },
  {
   "source": [],
   "cell_type": "markdown",
   "metadata": {}
  }
 ],
 "metadata": {
  "kernelspec": {
   "name": "Python 3.7.5 64-bit ('base': conda)",
   "display_name": "Python 3.7.5 64-bit ('base': conda)",
   "metadata": {
    "interpreter": {
     "hash": "9a37e5188a605e95d3282a4fb8007f4c3c52885d8cd12f2ffcfc398feaa7ff36"
    }
   }
  },
  "language_info": {
   "codemirror_mode": {
    "name": "ipython",
    "version": 3
   },
   "file_extension": ".py",
   "mimetype": "text/x-python",
   "name": "python",
   "nbconvert_exporter": "python",
   "pygments_lexer": "ipython3",
   "version": "3.7.5-final"
  }
 },
 "nbformat": 4,
 "nbformat_minor": 4
}